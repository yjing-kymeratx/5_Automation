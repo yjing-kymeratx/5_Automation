{
 "cells": [
  {
   "cell_type": "code",
   "execution_count": 10,
   "metadata": {},
   "outputs": [
    {
     "name": "stdout",
     "output_type": "stream",
     "text": [
      "CNc1ccnc2ccnn12\n"
     ]
    }
   ],
   "source": [
    "from rdkit import Chem\n",
    "\n",
    "# Load the SDF file\n",
    "supplier = Chem.SDMolSupplier('../Data/input.sdf')\n",
    "\n",
    "# Iterate through the molecules in the SDF file\n",
    "for mol in supplier:\n",
    "    if mol is not None:\n",
    "        print(Chem.MolToSmiles(mol))"
   ]
  },
  {
   "cell_type": "code",
   "execution_count": null,
   "metadata": {},
   "outputs": [],
   "source": [
    "for "
   ]
  },
  {
   "cell_type": "code",
   "execution_count": null,
   "metadata": {},
   "outputs": [],
   "source": []
  },
  {
   "cell_type": "code",
   "execution_count": 12,
   "metadata": {},
   "outputs": [
    {
     "data": {
      "application/vnd.microsoft.datawrangler.viewer.v0+json": {
       "columns": [
        {
         "name": "index",
         "rawType": "int64",
         "type": "integer"
        },
        {
         "name": "Corporate ID",
         "rawType": "object",
         "type": "string"
        },
        {
         "name": "ADME MDCK(WT) Permeability;Mean;A to B Recovery (%)",
         "rawType": "object",
         "type": "string"
        },
        {
         "name": "Molecular weight (g/mol)",
         "rawType": "object",
         "type": "string"
        },
        {
         "name": "log P",
         "rawType": "object",
         "type": "string"
        },
        {
         "name": "ID",
         "rawType": "object",
         "type": "string"
        },
        {
         "name": "Structure",
         "rawType": "object",
         "type": "string"
        },
        {
         "name": "Molecular Name",
         "rawType": "object",
         "type": "unknown"
        }
       ],
       "conversionMethod": "pd.DataFrame",
       "ref": "181b394f-d32b-44c0-bb29-6ff51b54f606",
       "rows": [
        [
         "0",
         "V1555491",
         "70",
         "772.829",
         "5.9",
         "V1555491",
         "CNc1ccnc2ccnn12",
         "<rdkit.Chem.rdchem.Mol object at 0x7f470208e270>"
        ]
       ],
       "shape": {
        "columns": 7,
        "rows": 1
       }
      },
      "text/html": [
       "<div>\n",
       "<style scoped>\n",
       "    .dataframe tbody tr th:only-of-type {\n",
       "        vertical-align: middle;\n",
       "    }\n",
       "\n",
       "    .dataframe tbody tr th {\n",
       "        vertical-align: top;\n",
       "    }\n",
       "\n",
       "    .dataframe thead th {\n",
       "        text-align: right;\n",
       "    }\n",
       "</style>\n",
       "<table border=\"1\" class=\"dataframe\">\n",
       "  <thead>\n",
       "    <tr style=\"text-align: right;\">\n",
       "      <th></th>\n",
       "      <th>Corporate ID</th>\n",
       "      <th>ADME MDCK(WT) Permeability;Mean;A to B Recovery (%)</th>\n",
       "      <th>Molecular weight (g/mol)</th>\n",
       "      <th>log P</th>\n",
       "      <th>ID</th>\n",
       "      <th>Structure</th>\n",
       "      <th>Molecular Name</th>\n",
       "    </tr>\n",
       "  </thead>\n",
       "  <tbody>\n",
       "    <tr>\n",
       "      <th>0</th>\n",
       "      <td>V1555491</td>\n",
       "      <td>70</td>\n",
       "      <td>772.829</td>\n",
       "      <td>5.9</td>\n",
       "      <td>V1555491</td>\n",
       "      <td>CNc1ccnc2ccnn12</td>\n",
       "      <td style=\"text-align: center;\"><div style=\"width: 200px; height: 200px\" data-content=\"rdkit/molecule\"><img src=\"data:image/png;base64,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\" alt=\"Mol\"/></div></td>\n",
       "    </tr>\n",
       "  </tbody>\n",
       "</table>\n",
       "</div>"
      ],
      "text/plain": [
       "  Corporate ID ADME MDCK(WT) Permeability;Mean;A to B Recovery (%)  \\\n",
       "0     V1555491                                                 70    \n",
       "\n",
       "  Molecular weight (g/mol) log P        ID        Structure  \\\n",
       "0                  772.829   5.9  V1555491  CNc1ccnc2ccnn12   \n",
       "\n",
       "                                     Molecular Name  \n",
       "0  <rdkit.Chem.rdchem.Mol object at 0x7f470208e270>  "
      ]
     },
     "execution_count": 12,
     "metadata": {},
     "output_type": "execute_result"
    }
   ],
   "source": [
    "from rdkit.Chem import PandasTools\n",
    "fileNameIn = '../Data/input.sdf'\n",
    "colName_mid = 'Molecular Name'\n",
    "colName_smi = 'Structure'\n",
    "test_df = PandasTools.LoadSDF(fileNameIn, molColName=colName_mid, smilesName=colName_smi, includeFingerprints=False)\n",
    "test_df"
   ]
  },
  {
   "cell_type": "code",
   "execution_count": 13,
   "metadata": {},
   "outputs": [
    {
     "data": {
      "text/plain": [
       "True"
      ]
     },
     "execution_count": 13,
     "metadata": {},
     "output_type": "execute_result"
    }
   ],
   "source": [
    "'ADME MDCK(WT) Permeability;Mean;A to B Recovery (%)' in test_df.columns"
   ]
  },
  {
   "cell_type": "code",
   "execution_count": null,
   "metadata": {},
   "outputs": [],
   "source": [
    "colName_mid"
   ]
  },
  {
   "cell_type": "code",
   "execution_count": 7,
   "metadata": {},
   "outputs": [],
   "source": [
    "def load_sdf_file(fileNameIn, colName_mid, colName_smi, custDesc_list=[], colName_expt=None):\n",
    "    ## ----------- load table from sdf file -----------\n",
    "    # import DataPrep\n",
    "    import numpy as np\n",
    "    from rdkit.Chem import PandasTools\n",
    "    \n",
    "    ## ----------- load table from csv file -----------\n",
    "    dataTable_raw = PandasTools.LoadSDF(fileNameIn, molColName='Molecule', smilesName=colName_smi, includeFingerprints=False)\n",
    "    print(f\"\\t\\tThe input file has {dataTable_raw.shape[0]} rows and {dataTable_raw.shape[1]} columns\")\n",
    "\n",
    "    ## ----------- check columns -----------\n",
    "    col_list_essential = [colName_mid, colName_smi]\n",
    "    if colName_expt is not None:\n",
    "        col_list_essential.append(colName_expt)\n",
    "\n",
    "    ## check custom descriptors\n",
    "    if len(custDesc_list) > 0:\n",
    "        for custDesc in custDesc_list:\n",
    "            custDesc_raw = custDesc.replace('custDesc_', '')\n",
    "            assert custDesc_raw in dataTable_raw.columns, print(f\"\\t\\tError, custom descriptor column <{custDesc_raw}> is missing\")\n",
    "            dataTable_raw = dataTable_raw.rename(columns={custDesc_raw: custDesc})\n",
    "\n",
    "    for col in col_list_essential:\n",
    "        assert col in dataTable_raw.columns, print(f\"\\t\\tError, column <{col}> is missing\")\n",
    "\n",
    "    ## ----------- extract data -----------\n",
    "    mol_dict = {}\n",
    "    for idx in dataTable_raw.index:\n",
    "        mol_dict[idx] = {}\n",
    "      \n",
    "        ## ----------- molecular name/id -----------\n",
    "        mid = dataTable_raw[colName_mid][idx] if dataTable_raw[colName_mid].notna()[idx] else f\"Unamed_mol_row_{idx}\"\n",
    "        mol_dict[idx][colName_mid] = mid\n",
    "\n",
    "        ## ----------- smiles -----------\n",
    "        if dataTable_raw[colName_smi].notna()[idx]:\n",
    "            smi = dataTable_raw[colName_smi][idx]\n",
    "            smi_clean = smi    #DataPrep.cleanUpSmiles(smi)\n",
    "            mol_dict[idx][colName_smi] = smi_clean\n",
    "        else:\n",
    "            mol_dict[idx][colName_smi] = np.nan\n",
    "\n",
    "        ## ----------- expt(y) ----------- \n",
    "        if colName_expt is not None:\n",
    "            if dataTable_raw[colName_expt].notna()[idx]:\n",
    "                mol_dict[idx][colName_expt] = dataTable_raw[colName_expt][idx]\n",
    "\n",
    "        # ----------- custom desc --------------\n",
    "        if len(custDesc_list) > 0:\n",
    "            for custDesc in custDesc_list:\n",
    "                if dataTable_raw[custDesc].notna()[idx]:\n",
    "                    mol_dict[idx][custDesc] = dataTable_raw[custDesc][idx]\n",
    "                else:\n",
    "                    mol_dict[idx][custDesc] = np.nan\n",
    "    return mol_dict\n"
   ]
  },
  {
   "cell_type": "code",
   "execution_count": 9,
   "metadata": {},
   "outputs": [
    {
     "name": "stdout",
     "output_type": "stream",
     "text": [
      "\t\tThe input file has 1 rows and 4 columns\n"
     ]
    },
    {
     "data": {
      "text/plain": [
       "{0: {'Corporate ID': 'V1555491', 'Structure': 'CNc1ccnc2ccnn12'}}"
      ]
     },
     "execution_count": 9,
     "metadata": {},
     "output_type": "execute_result"
    }
   ],
   "source": [
    "fileNameIn = '../Data/input.sdf'\n",
    "colName_mid = 'Corporate ID'   \n",
    "colName_smi = 'Structure'\n",
    "mol_dict = load_sdf_file(fileNameIn, colName_mid, colName_smi, custDesc_list=[], colName_expt=None)\n",
    "mol_dict"
   ]
  },
  {
   "cell_type": "code",
   "execution_count": null,
   "metadata": {},
   "outputs": [],
   "source": []
  },
  {
   "cell_type": "code",
   "execution_count": null,
   "metadata": {},
   "outputs": [],
   "source": []
  }
 ],
 "metadata": {
  "kernelspec": {
   "display_name": "ml",
   "language": "python",
   "name": "python3"
  },
  "language_info": {
   "codemirror_mode": {
    "name": "ipython",
    "version": 3
   },
   "file_extension": ".py",
   "mimetype": "text/x-python",
   "name": "python",
   "nbconvert_exporter": "python",
   "pygments_lexer": "ipython3",
   "version": "3.9.21"
  }
 },
 "nbformat": 4,
 "nbformat_minor": 2
}
