{
 "cells": [
  {
   "cell_type": "code",
   "execution_count": null,
   "metadata": {},
   "outputs": [],
   "source": []
  },
  {
   "cell_type": "code",
   "execution_count": null,
   "metadata": {},
   "outputs": [],
   "source": [
    "desc_cx = True\n",
    "desc_fps = True\n",
    "desc_rdkit = True"
   ]
  },
  {
   "cell_type": "code",
   "execution_count": null,
   "metadata": {},
   "outputs": [],
   "source": [
    "def Args_Prepation(parser_desc):\n",
    "    import argparse\n",
    "    parser = argparse.ArgumentParser(description=parser_desc)\n",
    "    \n",
    "    parser.add_argument('-i', '--input', action=\"store\", default=None, help='The input csv file')\n",
    "    parser.add_argument('-d', '--delimiter', action=\"store\", default=',', help='The delimiter of input csv file for separate columns')\n",
    "    parser.add_argument('--detectEncoding', action=\"store_true\", help='detect the encoding type of the csv file')\n",
    "    parser.add_argument('--colId', action=\"store\", default='Compound Name', help='The column name of the compound identifier')\n",
    "    parser.add_argument('--colSmi', action=\"store\", default='Structure', help='The column name of the compound smiles')\n",
    "\n",
    "    parser.add_argument('--desc_fps', action=\"store_true\", help='calculate the molecular fingerprints')\n",
    "    parser.add_argument('--desc_rdkit', action=\"store_true\", help='calculate the molecular property using RDKit')\n",
    "    parser.add_argument('--desc_cx', action=\"store_true\", help='calculate the molecular property using ChemAxon')\n",
    "\n",
    "    args = parser.parse_args()\n",
    "    return args"
   ]
  },
  {
   "cell_type": "code",
   "execution_count": null,
   "metadata": {},
   "outputs": [],
   "source": [
    "def main(smi, desc_fps=True, desc_rdkit=True, desc_cx=True):\n",
    "\n",
    "    # args = Args_Prepation(parser_desc='Preparing the input files and the descriptors')\n",
    "    # fileNameIn = args.input    # '../../1_DataPrep/results/data_input_clean.csv'\n",
    "    # sep = args.delimiter \n",
    "    # detect_encoding = True if args.detectEncoding else False\n",
    "    # colName_mid = args.colId    # 'Compound Name'\n",
    "    # colName_smi = args.colSmi    # 'Structure'\n",
    "    # desc_fps = True if args.desc_fps else False\n",
    "    # desc_rdkit = True if args.desc_rdkit else False\n",
    "    # desc_cx = True if args.desc_cx else False\n",
    "\n",
    "    fileNameIn = '../../1_DataPrep/results/data_input_clean.csv'\n",
    "    sep =  ','\n",
    "    detect_encoding = True\n",
    "    colName_mid = 'Compound Name'\n",
    "    colName_smi = 'Structure'\n",
    "    desc_fps = True\n",
    "    desc_rdkit = True\n",
    "    desc_cx = True\n",
    "\n",
    "    print(f\"2. Calculating descriptors (FPs {desc_fps}; ChemAxon {desc_rdkit}; RDKit: {desc_cx}) ... \")\n",
    "    assert self._molDict is not None, f\"\\tError, self._molDict is None, pls check the data loading from csv.\"\n",
    "    molDict = self._molDict\n",
    "\n",
    "    ## ------------ calculate chemAxon properties ------------\n",
    "    self.setAttributes(\"_desc_cx\", desc_cx)\n",
    "    if desc_cx:\n",
    "        rmProps = ['polar-surface-area_unit', 'pka_apKa1', 'pka_apKa2', 'pka_bpKa1', 'pka_bpKa2']\n",
    "        self.setAttributes(\"_desc_cx_param\", {\"ip\": '172.31.19.252', \"port\": '8064', \"calculator\": 'calculate', \"rmProps\": rmProps})\n",
    "        molDict = Desc_ChemAxon.calc_desc_chemaxon(molDict = molDict, \n",
    "                                                        ip=self._desc_cx_param[\"ip\"], \n",
    "                                                        port=self._desc_cx_param[\"port\"], \n",
    "                                                        calculator=self._desc_cx_param[\"calculator\"],\n",
    "                                                        rmProps=self._desc_cx_param[\"rmProps\"])\n",
    "    ## ------------ calculate mol fingerprints ------------\n",
    "    self.setAttributes(\"_desc_fps\", desc_fps)\n",
    "    if desc_fps:\n",
    "        self.setAttributes(\"_desc_fp_param\", {\"fpType\": \"ECFP\", \"radius\": 3, \"nBits\": 2048})\n",
    "        molDict = Desc_MolFPs.calc_desc_fingerprints(molDict=molDict, \n",
    "                                                        fpType=self._desc_fp_param[\"fpType\"], \n",
    "                                                        radius=self._desc_fp_param[\"radius\"], \n",
    "                                                        nBits=self._desc_fp_param[\"nBits\"])\n",
    "    ## ------------ calculate rdkit properties ------------\n",
    "    self.setAttributes(\"_desc_rdkit\", desc_rdkit)\n",
    "    if desc_rdkit:\n",
    "        self.setAttributes(\"_desc_rdkit_param\", {\"physChem\": True, \"subStr\": True, \"clean\": True})\n",
    "        molDict = Desc_RDKit.calc_desc_rdkit(molDict=molDict, \n",
    "                                                physChem=self._desc_rdkit_param[\"physChem\"], \n",
    "                                                subStr=self._desc_rdkit_param[\"subStr\"], \n",
    "                                                clean=self._desc_rdkit_param[\"clean\"])\n",
    "    ## ------------ update the molDict ------------\n",
    "    self.setAttributes(\"_molDict\", molDict)\n",
    "\n",
    "# if __name__ == '__main__':\n",
    "#     main()"
   ]
  },
  {
   "cell_type": "code",
   "execution_count": null,
   "metadata": {},
   "outputs": [],
   "source": []
  },
  {
   "cell_type": "code",
   "execution_count": null,
   "metadata": {},
   "outputs": [],
   "source": []
  },
  {
   "cell_type": "code",
   "execution_count": null,
   "metadata": {},
   "outputs": [],
   "source": []
  },
  {
   "cell_type": "code",
   "execution_count": null,
   "metadata": {},
   "outputs": [],
   "source": []
  },
  {
   "cell_type": "code",
   "execution_count": null,
   "metadata": {},
   "outputs": [],
   "source": []
  },
  {
   "cell_type": "code",
   "execution_count": null,
   "metadata": {},
   "outputs": [],
   "source": []
  },
  {
   "cell_type": "code",
   "execution_count": null,
   "metadata": {},
   "outputs": [],
   "source": []
  },
  {
   "cell_type": "code",
   "execution_count": null,
   "metadata": {},
   "outputs": [],
   "source": []
  },
  {
   "cell_type": "code",
   "execution_count": null,
   "metadata": {},
   "outputs": [],
   "source": []
  },
  {
   "cell_type": "code",
   "execution_count": null,
   "metadata": {},
   "outputs": [],
   "source": []
  },
  {
   "cell_type": "code",
   "execution_count": null,
   "metadata": {},
   "outputs": [],
   "source": []
  },
  {
   "cell_type": "code",
   "execution_count": null,
   "metadata": {},
   "outputs": [],
   "source": []
  },
  {
   "cell_type": "code",
   "execution_count": null,
   "metadata": {},
   "outputs": [],
   "source": []
  },
  {
   "cell_type": "code",
   "execution_count": null,
   "metadata": {},
   "outputs": [],
   "source": []
  },
  {
   "cell_type": "code",
   "execution_count": null,
   "metadata": {},
   "outputs": [],
   "source": []
  },
  {
   "cell_type": "code",
   "execution_count": null,
   "metadata": {},
   "outputs": [],
   "source": []
  },
  {
   "cell_type": "code",
   "execution_count": null,
   "metadata": {},
   "outputs": [],
   "source": []
  },
  {
   "cell_type": "code",
   "execution_count": null,
   "metadata": {},
   "outputs": [],
   "source": []
  },
  {
   "cell_type": "code",
   "execution_count": null,
   "metadata": {},
   "outputs": [],
   "source": []
  },
  {
   "cell_type": "code",
   "execution_count": null,
   "metadata": {},
   "outputs": [],
   "source": []
  },
  {
   "cell_type": "code",
   "execution_count": null,
   "metadata": {},
   "outputs": [],
   "source": []
  },
  {
   "cell_type": "code",
   "execution_count": null,
   "metadata": {},
   "outputs": [],
   "source": []
  },
  {
   "cell_type": "code",
   "execution_count": null,
   "metadata": {},
   "outputs": [],
   "source": []
  },
  {
   "cell_type": "code",
   "execution_count": null,
   "metadata": {},
   "outputs": [],
   "source": []
  },
  {
   "cell_type": "code",
   "execution_count": null,
   "metadata": {},
   "outputs": [],
   "source": []
  },
  {
   "cell_type": "code",
   "execution_count": null,
   "metadata": {},
   "outputs": [],
   "source": []
  }
 ],
 "metadata": {
  "kernelspec": {
   "display_name": "ml",
   "language": "python",
   "name": "python3"
  },
  "language_info": {
   "name": "python",
   "version": "3.9.21"
  }
 },
 "nbformat": 4,
 "nbformat_minor": 2
}
