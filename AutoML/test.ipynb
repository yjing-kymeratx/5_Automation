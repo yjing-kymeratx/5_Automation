{
 "cells": [
  {
   "cell_type": "code",
   "execution_count": 3,
   "metadata": {},
   "outputs": [],
   "source": [
    "import pandas as pd"
   ]
  },
  {
   "cell_type": "code",
   "execution_count": 4,
   "metadata": {},
   "outputs": [
    {
     "data": {
      "application/vnd.microsoft.datawrangler.viewer.v0+json": {
       "columns": [
        {
         "name": "index",
         "rawType": "int64",
         "type": "integer"
        },
        {
         "name": "Corporate ID",
         "rawType": "object",
         "type": "string"
        },
        {
         "name": "Structure",
         "rawType": "object",
         "type": "string"
        },
        {
         "name": "custDesc_ADME MDCK(WT) Permeability;Mean;A to B Recovery (%)",
         "rawType": "float64",
         "type": "float"
        },
        {
         "name": "rd_MaxAbsEStateIndex",
         "rawType": "float64",
         "type": "float"
        },
        {
         "name": "rd_MinAbsEStateIndex",
         "rawType": "float64",
         "type": "float"
        },
        {
         "name": "rd_qed",
         "rawType": "float64",
         "type": "float"
        },
        {
         "name": "rd_MaxPartialCharge",
         "rawType": "float64",
         "type": "float"
        },
        {
         "name": "rd_MinAbsPartialCharge",
         "rawType": "float64",
         "type": "float"
        },
        {
         "name": "rd_FpDensityMorgan1",
         "rawType": "float64",
         "type": "float"
        },
        {
         "name": "rd_NHOHCount",
         "rawType": "int64",
         "type": "integer"
        },
        {
         "name": "rd_NumAmideBonds",
         "rawType": "int64",
         "type": "integer"
        },
        {
         "name": "rd_NumAtomStereoCenters",
         "rawType": "int64",
         "type": "integer"
        },
        {
         "name": "rd_NumHeteroatoms",
         "rawType": "int64",
         "type": "integer"
        },
        {
         "name": "rd_NumRotatableBonds",
         "rawType": "int64",
         "type": "integer"
        },
        {
         "name": "rd_RingCount",
         "rawType": "int64",
         "type": "integer"
        },
        {
         "name": "rd_fr_NH1",
         "rawType": "int64",
         "type": "integer"
        },
        {
         "name": "rd_fr_bicyclic",
         "rawType": "int64",
         "type": "integer"
        },
        {
         "name": "rd_fr_ether",
         "rawType": "int64",
         "type": "integer"
        },
        {
         "name": "rd_fr_pyridine",
         "rawType": "int64",
         "type": "integer"
        },
        {
         "name": "fp_307",
         "rawType": "int64",
         "type": "integer"
        },
        {
         "name": "fp_447",
         "rawType": "int64",
         "type": "integer"
        },
        {
         "name": "fp_448",
         "rawType": "int64",
         "type": "integer"
        },
        {
         "name": "fp_585",
         "rawType": "int64",
         "type": "integer"
        },
        {
         "name": "fp_811",
         "rawType": "int64",
         "type": "integer"
        },
        {
         "name": "fp_858",
         "rawType": "int64",
         "type": "integer"
        },
        {
         "name": "fp_869",
         "rawType": "int64",
         "type": "integer"
        },
        {
         "name": "fp_1114",
         "rawType": "int64",
         "type": "integer"
        },
        {
         "name": "fp_1138",
         "rawType": "int64",
         "type": "integer"
        },
        {
         "name": "fp_1224",
         "rawType": "int64",
         "type": "integer"
        },
        {
         "name": "fp_1299",
         "rawType": "int64",
         "type": "integer"
        },
        {
         "name": "fp_1452",
         "rawType": "int64",
         "type": "integer"
        },
        {
         "name": "fp_1621",
         "rawType": "int64",
         "type": "integer"
        },
        {
         "name": "fp_1696",
         "rawType": "int64",
         "type": "integer"
        },
        {
         "name": "fp_1926",
         "rawType": "int64",
         "type": "integer"
        }
       ],
       "conversionMethod": "pd.DataFrame",
       "ref": "b0c353d3-2db9-4992-9583-0a7fae1efb7d",
       "rows": [
        [
         "0",
         "V1555491",
         "CNc1ccnc2ccnn12",
         "88.78",
         "4.110277777777778",
         "0.8581944444444447",
         "0.6491352575202021",
         "0.1567333821830972",
         "0.1567333821830972",
         "1.3636363636363635",
         "1",
         "0",
         "0",
         "4",
         "1",
         "2",
         "1",
         "1",
         "0",
         "0",
         "0",
         "0",
         "0",
         "0",
         "0",
         "0",
         "0",
         "0",
         "0",
         "0",
         "0",
         "1",
         "0",
         "0",
         "0"
        ]
       ],
       "shape": {
        "columns": 34,
        "rows": 1
       }
      },
      "text/html": [
       "<div>\n",
       "<style scoped>\n",
       "    .dataframe tbody tr th:only-of-type {\n",
       "        vertical-align: middle;\n",
       "    }\n",
       "\n",
       "    .dataframe tbody tr th {\n",
       "        vertical-align: top;\n",
       "    }\n",
       "\n",
       "    .dataframe thead th {\n",
       "        text-align: right;\n",
       "    }\n",
       "</style>\n",
       "<table border=\"1\" class=\"dataframe\">\n",
       "  <thead>\n",
       "    <tr style=\"text-align: right;\">\n",
       "      <th></th>\n",
       "      <th>Corporate ID</th>\n",
       "      <th>Structure</th>\n",
       "      <th>custDesc_ADME MDCK(WT) Permeability;Mean;A to B Recovery (%)</th>\n",
       "      <th>rd_MaxAbsEStateIndex</th>\n",
       "      <th>rd_MinAbsEStateIndex</th>\n",
       "      <th>rd_qed</th>\n",
       "      <th>rd_MaxPartialCharge</th>\n",
       "      <th>rd_MinAbsPartialCharge</th>\n",
       "      <th>rd_FpDensityMorgan1</th>\n",
       "      <th>rd_NHOHCount</th>\n",
       "      <th>...</th>\n",
       "      <th>fp_858</th>\n",
       "      <th>fp_869</th>\n",
       "      <th>fp_1114</th>\n",
       "      <th>fp_1138</th>\n",
       "      <th>fp_1224</th>\n",
       "      <th>fp_1299</th>\n",
       "      <th>fp_1452</th>\n",
       "      <th>fp_1621</th>\n",
       "      <th>fp_1696</th>\n",
       "      <th>fp_1926</th>\n",
       "    </tr>\n",
       "  </thead>\n",
       "  <tbody>\n",
       "    <tr>\n",
       "      <th>0</th>\n",
       "      <td>V1555491</td>\n",
       "      <td>CNc1ccnc2ccnn12</td>\n",
       "      <td>88.78</td>\n",
       "      <td>4.110278</td>\n",
       "      <td>0.858194</td>\n",
       "      <td>0.649135</td>\n",
       "      <td>0.156733</td>\n",
       "      <td>0.156733</td>\n",
       "      <td>1.363636</td>\n",
       "      <td>1</td>\n",
       "      <td>...</td>\n",
       "      <td>0</td>\n",
       "      <td>0</td>\n",
       "      <td>0</td>\n",
       "      <td>0</td>\n",
       "      <td>0</td>\n",
       "      <td>0</td>\n",
       "      <td>1</td>\n",
       "      <td>0</td>\n",
       "      <td>0</td>\n",
       "      <td>0</td>\n",
       "    </tr>\n",
       "  </tbody>\n",
       "</table>\n",
       "<p>1 rows × 34 columns</p>\n",
       "</div>"
      ],
      "text/plain": [
       "  Corporate ID        Structure  \\\n",
       "0     V1555491  CNc1ccnc2ccnn12   \n",
       "\n",
       "   custDesc_ADME MDCK(WT) Permeability;Mean;A to B Recovery (%)  \\\n",
       "0                                              88.78              \n",
       "\n",
       "   rd_MaxAbsEStateIndex  rd_MinAbsEStateIndex    rd_qed  rd_MaxPartialCharge  \\\n",
       "0              4.110278              0.858194  0.649135             0.156733   \n",
       "\n",
       "   rd_MinAbsPartialCharge  rd_FpDensityMorgan1  rd_NHOHCount  ...  fp_858  \\\n",
       "0                0.156733             1.363636             1  ...       0   \n",
       "\n",
       "   fp_869  fp_1114  fp_1138  fp_1224  fp_1299  fp_1452  fp_1621  fp_1696  \\\n",
       "0       0        0        0        0        0        1        0        0   \n",
       "\n",
       "   fp_1926  \n",
       "0        0  \n",
       "\n",
       "[1 rows x 34 columns]"
      ]
     },
     "execution_count": 4,
     "metadata": {},
     "output_type": "execute_result"
    }
   ],
   "source": [
    "df = pd.read_csv('./tmp_test_norm.csv')\n",
    "df"
   ]
  },
  {
   "cell_type": "code",
   "execution_count": 5,
   "metadata": {},
   "outputs": [
    {
     "data": {
      "text/plain": [
       "Index(['Corporate ID', 'Structure',\n",
       "       'custDesc_ADME MDCK(WT) Permeability;Mean;A to B Recovery (%)',\n",
       "       'rd_MaxAbsEStateIndex', 'rd_MinAbsEStateIndex', 'rd_qed',\n",
       "       'rd_MaxPartialCharge', 'rd_MinAbsPartialCharge', 'rd_FpDensityMorgan1',\n",
       "       'rd_NHOHCount', 'rd_NumAmideBonds', 'rd_NumAtomStereoCenters',\n",
       "       'rd_NumHeteroatoms', 'rd_NumRotatableBonds', 'rd_RingCount',\n",
       "       'rd_fr_NH1', 'rd_fr_bicyclic', 'rd_fr_ether', 'rd_fr_pyridine',\n",
       "       'fp_307', 'fp_447', 'fp_448', 'fp_585', 'fp_811', 'fp_858', 'fp_869',\n",
       "       'fp_1114', 'fp_1138', 'fp_1224', 'fp_1299', 'fp_1452', 'fp_1621',\n",
       "       'fp_1696', 'fp_1926'],\n",
       "      dtype='object')"
      ]
     },
     "execution_count": 5,
     "metadata": {},
     "output_type": "execute_result"
    }
   ],
   "source": [
    "df.columns"
   ]
  },
  {
   "cell_type": "code",
   "execution_count": 6,
   "metadata": {},
   "outputs": [],
   "source": [
    "df['custDesc_ADME MDCK(WT) Permeability;Mean;A to B Recovery (%)'] = (df['custDesc_ADME MDCK(WT) Permeability;Mean;A to B Recovery (%)'] - 0 )/1"
   ]
  },
  {
   "cell_type": "code",
   "execution_count": 7,
   "metadata": {},
   "outputs": [],
   "source": [
    "df['newcol'] = 0"
   ]
  },
  {
   "cell_type": "code",
   "execution_count": 8,
   "metadata": {},
   "outputs": [
    {
     "data": {
      "application/vnd.microsoft.datawrangler.viewer.v0+json": {
       "columns": [
        {
         "name": "index",
         "rawType": "int64",
         "type": "integer"
        },
        {
         "name": "Corporate ID",
         "rawType": "object",
         "type": "string"
        },
        {
         "name": "Structure",
         "rawType": "object",
         "type": "string"
        },
        {
         "name": "custDesc_ADME MDCK(WT) Permeability;Mean;A to B Recovery (%)",
         "rawType": "float64",
         "type": "float"
        },
        {
         "name": "rd_MaxAbsEStateIndex",
         "rawType": "float64",
         "type": "float"
        },
        {
         "name": "rd_MinAbsEStateIndex",
         "rawType": "float64",
         "type": "float"
        },
        {
         "name": "rd_qed",
         "rawType": "float64",
         "type": "float"
        },
        {
         "name": "rd_MaxPartialCharge",
         "rawType": "float64",
         "type": "float"
        },
        {
         "name": "rd_MinAbsPartialCharge",
         "rawType": "float64",
         "type": "float"
        },
        {
         "name": "rd_FpDensityMorgan1",
         "rawType": "float64",
         "type": "float"
        },
        {
         "name": "rd_NHOHCount",
         "rawType": "int64",
         "type": "integer"
        },
        {
         "name": "rd_NumAmideBonds",
         "rawType": "int64",
         "type": "integer"
        },
        {
         "name": "rd_NumAtomStereoCenters",
         "rawType": "int64",
         "type": "integer"
        },
        {
         "name": "rd_NumHeteroatoms",
         "rawType": "int64",
         "type": "integer"
        },
        {
         "name": "rd_NumRotatableBonds",
         "rawType": "int64",
         "type": "integer"
        },
        {
         "name": "rd_RingCount",
         "rawType": "int64",
         "type": "integer"
        },
        {
         "name": "rd_fr_NH1",
         "rawType": "int64",
         "type": "integer"
        },
        {
         "name": "rd_fr_bicyclic",
         "rawType": "int64",
         "type": "integer"
        },
        {
         "name": "rd_fr_ether",
         "rawType": "int64",
         "type": "integer"
        },
        {
         "name": "rd_fr_pyridine",
         "rawType": "int64",
         "type": "integer"
        },
        {
         "name": "fp_307",
         "rawType": "int64",
         "type": "integer"
        },
        {
         "name": "fp_447",
         "rawType": "int64",
         "type": "integer"
        },
        {
         "name": "fp_448",
         "rawType": "int64",
         "type": "integer"
        },
        {
         "name": "fp_585",
         "rawType": "int64",
         "type": "integer"
        },
        {
         "name": "fp_811",
         "rawType": "int64",
         "type": "integer"
        },
        {
         "name": "fp_858",
         "rawType": "int64",
         "type": "integer"
        },
        {
         "name": "fp_869",
         "rawType": "int64",
         "type": "integer"
        },
        {
         "name": "fp_1114",
         "rawType": "int64",
         "type": "integer"
        },
        {
         "name": "fp_1138",
         "rawType": "int64",
         "type": "integer"
        },
        {
         "name": "fp_1224",
         "rawType": "int64",
         "type": "integer"
        },
        {
         "name": "fp_1299",
         "rawType": "int64",
         "type": "integer"
        },
        {
         "name": "fp_1452",
         "rawType": "int64",
         "type": "integer"
        },
        {
         "name": "fp_1621",
         "rawType": "int64",
         "type": "integer"
        },
        {
         "name": "fp_1696",
         "rawType": "int64",
         "type": "integer"
        },
        {
         "name": "fp_1926",
         "rawType": "int64",
         "type": "integer"
        },
        {
         "name": "newcol",
         "rawType": "int64",
         "type": "integer"
        }
       ],
       "conversionMethod": "pd.DataFrame",
       "ref": "6b0b03fa-ef61-434f-a052-a7bb444d7244",
       "rows": [
        [
         "0",
         "V1555491",
         "CNc1ccnc2ccnn12",
         "88.78",
         "4.110277777777778",
         "0.8581944444444447",
         "0.6491352575202021",
         "0.1567333821830972",
         "0.1567333821830972",
         "1.3636363636363635",
         "1",
         "0",
         "0",
         "4",
         "1",
         "2",
         "1",
         "1",
         "0",
         "0",
         "0",
         "0",
         "0",
         "0",
         "0",
         "0",
         "0",
         "0",
         "0",
         "0",
         "0",
         "1",
         "0",
         "0",
         "0",
         "0"
        ]
       ],
       "shape": {
        "columns": 35,
        "rows": 1
       }
      },
      "text/html": [
       "<div>\n",
       "<style scoped>\n",
       "    .dataframe tbody tr th:only-of-type {\n",
       "        vertical-align: middle;\n",
       "    }\n",
       "\n",
       "    .dataframe tbody tr th {\n",
       "        vertical-align: top;\n",
       "    }\n",
       "\n",
       "    .dataframe thead th {\n",
       "        text-align: right;\n",
       "    }\n",
       "</style>\n",
       "<table border=\"1\" class=\"dataframe\">\n",
       "  <thead>\n",
       "    <tr style=\"text-align: right;\">\n",
       "      <th></th>\n",
       "      <th>Corporate ID</th>\n",
       "      <th>Structure</th>\n",
       "      <th>custDesc_ADME MDCK(WT) Permeability;Mean;A to B Recovery (%)</th>\n",
       "      <th>rd_MaxAbsEStateIndex</th>\n",
       "      <th>rd_MinAbsEStateIndex</th>\n",
       "      <th>rd_qed</th>\n",
       "      <th>rd_MaxPartialCharge</th>\n",
       "      <th>rd_MinAbsPartialCharge</th>\n",
       "      <th>rd_FpDensityMorgan1</th>\n",
       "      <th>rd_NHOHCount</th>\n",
       "      <th>...</th>\n",
       "      <th>fp_869</th>\n",
       "      <th>fp_1114</th>\n",
       "      <th>fp_1138</th>\n",
       "      <th>fp_1224</th>\n",
       "      <th>fp_1299</th>\n",
       "      <th>fp_1452</th>\n",
       "      <th>fp_1621</th>\n",
       "      <th>fp_1696</th>\n",
       "      <th>fp_1926</th>\n",
       "      <th>newcol</th>\n",
       "    </tr>\n",
       "  </thead>\n",
       "  <tbody>\n",
       "    <tr>\n",
       "      <th>0</th>\n",
       "      <td>V1555491</td>\n",
       "      <td>CNc1ccnc2ccnn12</td>\n",
       "      <td>88.78</td>\n",
       "      <td>4.110278</td>\n",
       "      <td>0.858194</td>\n",
       "      <td>0.649135</td>\n",
       "      <td>0.156733</td>\n",
       "      <td>0.156733</td>\n",
       "      <td>1.363636</td>\n",
       "      <td>1</td>\n",
       "      <td>...</td>\n",
       "      <td>0</td>\n",
       "      <td>0</td>\n",
       "      <td>0</td>\n",
       "      <td>0</td>\n",
       "      <td>0</td>\n",
       "      <td>1</td>\n",
       "      <td>0</td>\n",
       "      <td>0</td>\n",
       "      <td>0</td>\n",
       "      <td>0</td>\n",
       "    </tr>\n",
       "  </tbody>\n",
       "</table>\n",
       "<p>1 rows × 35 columns</p>\n",
       "</div>"
      ],
      "text/plain": [
       "  Corporate ID        Structure  \\\n",
       "0     V1555491  CNc1ccnc2ccnn12   \n",
       "\n",
       "   custDesc_ADME MDCK(WT) Permeability;Mean;A to B Recovery (%)  \\\n",
       "0                                              88.78              \n",
       "\n",
       "   rd_MaxAbsEStateIndex  rd_MinAbsEStateIndex    rd_qed  rd_MaxPartialCharge  \\\n",
       "0              4.110278              0.858194  0.649135             0.156733   \n",
       "\n",
       "   rd_MinAbsPartialCharge  rd_FpDensityMorgan1  rd_NHOHCount  ...  fp_869  \\\n",
       "0                0.156733             1.363636             1  ...       0   \n",
       "\n",
       "   fp_1114  fp_1138  fp_1224  fp_1299  fp_1452  fp_1621  fp_1696  fp_1926  \\\n",
       "0        0        0        0        0        1        0        0        0   \n",
       "\n",
       "   newcol  \n",
       "0       0  \n",
       "\n",
       "[1 rows x 35 columns]"
      ]
     },
     "execution_count": 8,
     "metadata": {},
     "output_type": "execute_result"
    }
   ],
   "source": [
    "df"
   ]
  },
  {
   "cell_type": "code",
   "execution_count": null,
   "metadata": {},
   "outputs": [],
   "source": []
  }
 ],
 "metadata": {
  "kernelspec": {
   "display_name": "ml",
   "language": "python",
   "name": "python3"
  },
  "language_info": {
   "codemirror_mode": {
    "name": "ipython",
    "version": 3
   },
   "file_extension": ".py",
   "mimetype": "text/x-python",
   "name": "python",
   "nbconvert_exporter": "python",
   "pygments_lexer": "ipython3",
   "version": "3.9.21"
  }
 },
 "nbformat": 4,
 "nbformat_minor": 2
}
