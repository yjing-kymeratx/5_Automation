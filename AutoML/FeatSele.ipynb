{
 "cells": [
  {
   "cell_type": "code",
   "execution_count": 7,
   "metadata": {},
   "outputs": [
    {
     "name": "stdout",
     "output_type": "stream",
     "text": [
      "\tSelected descriptors types: ['custom', 'rdkit', 'fingerprints', 'chemaxon']\n"
     ]
    }
   ],
   "source": [
    "desc_folder = './results'\n",
    "colName_mid = 'Compound Name'\n",
    "\n",
    "desc_rdkit = True\n",
    "desc_fps = True\n",
    "desc_cx = True\n",
    "desc_custom = True\n",
    "\n",
    "descType_list = []\n",
    "if desc_custom:\n",
    "    descType_list.append('custom')\n",
    "if desc_rdkit:\n",
    "    descType_list.append('rdkit')\n",
    "if desc_fps:\n",
    "    descType_list.append('fingerprints')\n",
    "if desc_cx:\n",
    "    descType_list.append('chemaxon')\n",
    "descType_list\n",
    "print(f\"\\tSelected descriptors types: {descType_list}\")"
   ]
  },
  {
   "cell_type": "code",
   "execution_count": 8,
   "metadata": {},
   "outputs": [
    {
     "name": "stdout",
     "output_type": "stream",
     "text": [
      "(38, 2)\n"
     ]
    },
    {
     "data": {
      "application/vnd.microsoft.datawrangler.viewer.v0+json": {
       "columns": [
        {
         "name": "index",
         "rawType": "int64",
         "type": "integer"
        },
        {
         "name": "Compound Name",
         "rawType": "object",
         "type": "string"
        },
        {
         "name": "ADME MDCK(WT) Permeability;Mean;A to B Papp (10^-6 cm/s);(Num)",
         "rawType": "float64",
         "type": "float"
        }
       ],
       "conversionMethod": "pd.DataFrame",
       "ref": "ae6ccec6-31dc-4fa6-8fb9-dc129ab5787e",
       "rows": [
        [
         "0",
         "KT-0001674",
         "0.298012837"
        ],
        [
         "1",
         "KT-0001675",
         "0.767547486"
        ],
        [
         "2",
         "KT-0001676",
         "0.186650854"
        ]
       ],
       "shape": {
        "columns": 2,
        "rows": 3
       }
      },
      "text/html": [
       "<div>\n",
       "<style scoped>\n",
       "    .dataframe tbody tr th:only-of-type {\n",
       "        vertical-align: middle;\n",
       "    }\n",
       "\n",
       "    .dataframe tbody tr th {\n",
       "        vertical-align: top;\n",
       "    }\n",
       "\n",
       "    .dataframe thead th {\n",
       "        text-align: right;\n",
       "    }\n",
       "</style>\n",
       "<table border=\"1\" class=\"dataframe\">\n",
       "  <thead>\n",
       "    <tr style=\"text-align: right;\">\n",
       "      <th></th>\n",
       "      <th>Compound Name</th>\n",
       "      <th>ADME MDCK(WT) Permeability;Mean;A to B Papp (10^-6 cm/s);(Num)</th>\n",
       "    </tr>\n",
       "  </thead>\n",
       "  <tbody>\n",
       "    <tr>\n",
       "      <th>0</th>\n",
       "      <td>KT-0001674</td>\n",
       "      <td>0.298013</td>\n",
       "    </tr>\n",
       "    <tr>\n",
       "      <th>1</th>\n",
       "      <td>KT-0001675</td>\n",
       "      <td>0.767547</td>\n",
       "    </tr>\n",
       "    <tr>\n",
       "      <th>2</th>\n",
       "      <td>KT-0001676</td>\n",
       "      <td>0.186651</td>\n",
       "    </tr>\n",
       "  </tbody>\n",
       "</table>\n",
       "</div>"
      ],
      "text/plain": [
       "  Compound Name  \\\n",
       "0    KT-0001674   \n",
       "1    KT-0001675   \n",
       "2    KT-0001676   \n",
       "\n",
       "   ADME MDCK(WT) Permeability;Mean;A to B Papp (10^-6 cm/s);(Num)  \n",
       "0                                           0.298013               \n",
       "1                                           0.767547               \n",
       "2                                           0.186651               "
      ]
     },
     "execution_count": 8,
     "metadata": {},
     "output_type": "execute_result"
    }
   ],
   "source": [
    "import pandas as pd\n",
    "\n",
    "## load the expt outcome\n",
    "dataTable_y = pd.read_csv(f'{desc_folder}/outcome_expt.csv')\n",
    "print(dataTable_y.shape)\n",
    "dataTable_y.head(3)"
   ]
  },
  {
   "cell_type": "code",
   "execution_count": 9,
   "metadata": {},
   "outputs": [
    {
     "name": "stdout",
     "output_type": "stream",
     "text": [
      "\tThere are total <2> custom descriptors for <38> molecules\n",
      "\tThere are total <140> rdkit descriptors for <38> molecules\n",
      "\tThere are total <2048> fingerprints descriptors for <38> molecules\n",
      "\tThere are total <33> chemaxon descriptors for <38> molecules\n",
      "\tThe merged data table has <38> molecules and <2224> descriptors\n",
      "(38, 2224)\n"
     ]
    },
    {
     "data": {
      "application/vnd.microsoft.datawrangler.viewer.v0+json": {
       "columns": [
        {
         "name": "index",
         "rawType": "int64",
         "type": "integer"
        },
        {
         "name": "Compound Name",
         "rawType": "object",
         "type": "string"
        },
        {
         "name": "ADME MDCK(WT) Permeability;Mean;A to B Papp (10^-6 cm/s);(Num)",
         "rawType": "float64",
         "type": "float"
        },
        {
         "name": "custDesc_ADME MDCK(WT) Permeability;Mean;A to B Recovery (%)",
         "rawType": "float64",
         "type": "float"
        },
        {
         "name": "custDesc_ADME MDCK(WT) Permeability;Mean;B to A Papp (10^-6 cm/s);(Num)",
         "rawType": "float64",
         "type": "float"
        },
        {
         "name": "rd_MaxAbsEStateIndex",
         "rawType": "float64",
         "type": "float"
        },
        {
         "name": "rd_MaxEStateIndex",
         "rawType": "float64",
         "type": "float"
        },
        {
         "name": "rd_MinAbsEStateIndex",
         "rawType": "float64",
         "type": "float"
        },
        {
         "name": "rd_MinEStateIndex",
         "rawType": "float64",
         "type": "float"
        },
        {
         "name": "rd_qed",
         "rawType": "float64",
         "type": "float"
        },
        {
         "name": "rd_SPS",
         "rawType": "float64",
         "type": "float"
        },
        {
         "name": "rd_MolWt",
         "rawType": "float64",
         "type": "float"
        },
        {
         "name": "rd_HeavyAtomMolWt",
         "rawType": "float64",
         "type": "float"
        },
        {
         "name": "rd_ExactMolWt",
         "rawType": "float64",
         "type": "float"
        },
        {
         "name": "rd_NumValenceElectrons",
         "rawType": "int64",
         "type": "integer"
        },
        {
         "name": "rd_NumRadicalElectrons",
         "rawType": "int64",
         "type": "integer"
        },
        {
         "name": "rd_MaxPartialCharge",
         "rawType": "float64",
         "type": "float"
        },
        {
         "name": "rd_MinPartialCharge",
         "rawType": "float64",
         "type": "float"
        },
        {
         "name": "rd_MaxAbsPartialCharge",
         "rawType": "float64",
         "type": "float"
        },
        {
         "name": "rd_MinAbsPartialCharge",
         "rawType": "float64",
         "type": "float"
        },
        {
         "name": "rd_FpDensityMorgan1",
         "rawType": "float64",
         "type": "float"
        },
        {
         "name": "rd_FpDensityMorgan2",
         "rawType": "float64",
         "type": "float"
        },
        {
         "name": "rd_FpDensityMorgan3",
         "rawType": "float64",
         "type": "float"
        },
        {
         "name": "rd_AvgIpc",
         "rawType": "float64",
         "type": "float"
        },
        {
         "name": "rd_BalabanJ",
         "rawType": "float64",
         "type": "float"
        },
        {
         "name": "rd_BertzCT",
         "rawType": "float64",
         "type": "float"
        },
        {
         "name": "rd_HallKierAlpha",
         "rawType": "float64",
         "type": "float"
        },
        {
         "name": "rd_Ipc",
         "rawType": "float64",
         "type": "float"
        },
        {
         "name": "rd_Kappa1",
         "rawType": "float64",
         "type": "float"
        },
        {
         "name": "rd_Kappa2",
         "rawType": "float64",
         "type": "float"
        },
        {
         "name": "rd_Kappa3",
         "rawType": "float64",
         "type": "float"
        },
        {
         "name": "rd_LabuteASA",
         "rawType": "float64",
         "type": "float"
        },
        {
         "name": "rd_TPSA",
         "rawType": "float64",
         "type": "float"
        },
        {
         "name": "rd_FractionCSP3",
         "rawType": "float64",
         "type": "float"
        },
        {
         "name": "rd_HeavyAtomCount",
         "rawType": "int64",
         "type": "integer"
        },
        {
         "name": "rd_NHOHCount",
         "rawType": "int64",
         "type": "integer"
        },
        {
         "name": "rd_NOCount",
         "rawType": "int64",
         "type": "integer"
        },
        {
         "name": "rd_NumAliphaticCarbocycles",
         "rawType": "int64",
         "type": "integer"
        },
        {
         "name": "rd_NumAliphaticHeterocycles",
         "rawType": "int64",
         "type": "integer"
        },
        {
         "name": "rd_NumAliphaticRings",
         "rawType": "int64",
         "type": "integer"
        },
        {
         "name": "rd_NumAmideBonds",
         "rawType": "int64",
         "type": "integer"
        },
        {
         "name": "rd_NumAromaticCarbocycles",
         "rawType": "int64",
         "type": "integer"
        },
        {
         "name": "rd_NumAromaticHeterocycles",
         "rawType": "int64",
         "type": "integer"
        },
        {
         "name": "rd_NumAromaticRings",
         "rawType": "int64",
         "type": "integer"
        },
        {
         "name": "rd_NumAtomStereoCenters",
         "rawType": "int64",
         "type": "integer"
        },
        {
         "name": "rd_NumBridgeheadAtoms",
         "rawType": "int64",
         "type": "integer"
        },
        {
         "name": "rd_NumHAcceptors",
         "rawType": "int64",
         "type": "integer"
        },
        {
         "name": "rd_NumHDonors",
         "rawType": "int64",
         "type": "integer"
        },
        {
         "name": "rd_NumHeteroatoms",
         "rawType": "int64",
         "type": "integer"
        },
        {
         "name": "rd_NumHeterocycles",
         "rawType": "int64",
         "type": "integer"
        },
        {
         "name": "rd_NumRotatableBonds",
         "rawType": "int64",
         "type": "integer"
        },
        {
         "name": "rd_NumSaturatedCarbocycles",
         "rawType": "int64",
         "type": "integer"
        },
        {
         "name": "rd_NumSaturatedHeterocycles",
         "rawType": "int64",
         "type": "integer"
        },
        {
         "name": "rd_NumSaturatedRings",
         "rawType": "int64",
         "type": "integer"
        },
        {
         "name": "rd_NumSpiroAtoms",
         "rawType": "int64",
         "type": "integer"
        },
        {
         "name": "rd_NumUnspecifiedAtomStereoCenters",
         "rawType": "int64",
         "type": "integer"
        },
        {
         "name": "rd_Phi",
         "rawType": "float64",
         "type": "float"
        },
        {
         "name": "rd_RingCount",
         "rawType": "int64",
         "type": "integer"
        },
        {
         "name": "rd_MolLogP",
         "rawType": "float64",
         "type": "float"
        },
        {
         "name": "rd_MolMR",
         "rawType": "float64",
         "type": "float"
        },
        {
         "name": "rd_fr_Al_COO",
         "rawType": "int64",
         "type": "integer"
        },
        {
         "name": "rd_fr_Al_OH",
         "rawType": "int64",
         "type": "integer"
        },
        {
         "name": "rd_fr_Al_OH_noTert",
         "rawType": "int64",
         "type": "integer"
        },
        {
         "name": "rd_fr_ArN",
         "rawType": "int64",
         "type": "integer"
        },
        {
         "name": "rd_fr_Ar_COO",
         "rawType": "int64",
         "type": "integer"
        },
        {
         "name": "rd_fr_Ar_N",
         "rawType": "int64",
         "type": "integer"
        },
        {
         "name": "rd_fr_Ar_NH",
         "rawType": "int64",
         "type": "integer"
        },
        {
         "name": "rd_fr_Ar_OH",
         "rawType": "int64",
         "type": "integer"
        },
        {
         "name": "rd_fr_COO",
         "rawType": "int64",
         "type": "integer"
        },
        {
         "name": "rd_fr_COO2",
         "rawType": "int64",
         "type": "integer"
        },
        {
         "name": "rd_fr_C_O",
         "rawType": "int64",
         "type": "integer"
        },
        {
         "name": "rd_fr_C_O_noCOO",
         "rawType": "int64",
         "type": "integer"
        },
        {
         "name": "rd_fr_C_S",
         "rawType": "int64",
         "type": "integer"
        },
        {
         "name": "rd_fr_HOCCN",
         "rawType": "int64",
         "type": "integer"
        },
        {
         "name": "rd_fr_Imine",
         "rawType": "int64",
         "type": "integer"
        },
        {
         "name": "rd_fr_NH0",
         "rawType": "int64",
         "type": "integer"
        },
        {
         "name": "rd_fr_NH1",
         "rawType": "int64",
         "type": "integer"
        },
        {
         "name": "rd_fr_NH2",
         "rawType": "int64",
         "type": "integer"
        },
        {
         "name": "rd_fr_N_O",
         "rawType": "int64",
         "type": "integer"
        },
        {
         "name": "rd_fr_Ndealkylation1",
         "rawType": "int64",
         "type": "integer"
        },
        {
         "name": "rd_fr_Ndealkylation2",
         "rawType": "int64",
         "type": "integer"
        },
        {
         "name": "rd_fr_Nhpyrrole",
         "rawType": "int64",
         "type": "integer"
        },
        {
         "name": "rd_fr_SH",
         "rawType": "int64",
         "type": "integer"
        },
        {
         "name": "rd_fr_aldehyde",
         "rawType": "int64",
         "type": "integer"
        },
        {
         "name": "rd_fr_alkyl_carbamate",
         "rawType": "int64",
         "type": "integer"
        },
        {
         "name": "rd_fr_alkyl_halide",
         "rawType": "int64",
         "type": "integer"
        },
        {
         "name": "rd_fr_allylic_oxid",
         "rawType": "int64",
         "type": "integer"
        },
        {
         "name": "rd_fr_amide",
         "rawType": "int64",
         "type": "integer"
        },
        {
         "name": "rd_fr_amidine",
         "rawType": "int64",
         "type": "integer"
        },
        {
         "name": "rd_fr_aniline",
         "rawType": "int64",
         "type": "integer"
        },
        {
         "name": "rd_fr_aryl_methyl",
         "rawType": "int64",
         "type": "integer"
        },
        {
         "name": "rd_fr_azide",
         "rawType": "int64",
         "type": "integer"
        },
        {
         "name": "rd_fr_azo",
         "rawType": "int64",
         "type": "integer"
        },
        {
         "name": "rd_fr_barbitur",
         "rawType": "int64",
         "type": "integer"
        },
        {
         "name": "rd_fr_benzene",
         "rawType": "int64",
         "type": "integer"
        },
        {
         "name": "rd_fr_benzodiazepine",
         "rawType": "int64",
         "type": "integer"
        },
        {
         "name": "rd_fr_bicyclic",
         "rawType": "int64",
         "type": "integer"
        },
        {
         "name": "rd_fr_diazo",
         "rawType": "int64",
         "type": "integer"
        },
        {
         "name": "rd_fr_dihydropyridine",
         "rawType": "int64",
         "type": "integer"
        },
        {
         "name": "rd_fr_epoxide",
         "rawType": "int64",
         "type": "integer"
        },
        {
         "name": "rd_fr_ester",
         "rawType": "int64",
         "type": "integer"
        },
        {
         "name": "rd_fr_ether",
         "rawType": "int64",
         "type": "integer"
        },
        {
         "name": "rd_fr_furan",
         "rawType": "int64",
         "type": "integer"
        },
        {
         "name": "rd_fr_guanido",
         "rawType": "int64",
         "type": "integer"
        },
        {
         "name": "rd_fr_halogen",
         "rawType": "int64",
         "type": "integer"
        },
        {
         "name": "rd_fr_hdrzine",
         "rawType": "int64",
         "type": "integer"
        },
        {
         "name": "rd_fr_hdrzone",
         "rawType": "int64",
         "type": "integer"
        },
        {
         "name": "rd_fr_imidazole",
         "rawType": "int64",
         "type": "integer"
        },
        {
         "name": "rd_fr_imide",
         "rawType": "int64",
         "type": "integer"
        },
        {
         "name": "rd_fr_isocyan",
         "rawType": "int64",
         "type": "integer"
        },
        {
         "name": "rd_fr_isothiocyan",
         "rawType": "int64",
         "type": "integer"
        },
        {
         "name": "rd_fr_ketone",
         "rawType": "int64",
         "type": "integer"
        },
        {
         "name": "rd_fr_ketone_Topliss",
         "rawType": "int64",
         "type": "integer"
        },
        {
         "name": "rd_fr_lactam",
         "rawType": "int64",
         "type": "integer"
        },
        {
         "name": "rd_fr_lactone",
         "rawType": "int64",
         "type": "integer"
        },
        {
         "name": "rd_fr_methoxy",
         "rawType": "int64",
         "type": "integer"
        },
        {
         "name": "rd_fr_morpholine",
         "rawType": "int64",
         "type": "integer"
        },
        {
         "name": "rd_fr_nitrile",
         "rawType": "int64",
         "type": "integer"
        },
        {
         "name": "rd_fr_nitro",
         "rawType": "int64",
         "type": "integer"
        },
        {
         "name": "rd_fr_nitro_arom",
         "rawType": "int64",
         "type": "integer"
        },
        {
         "name": "rd_fr_nitro_arom_nonortho",
         "rawType": "int64",
         "type": "integer"
        },
        {
         "name": "rd_fr_nitroso",
         "rawType": "int64",
         "type": "integer"
        },
        {
         "name": "rd_fr_oxazole",
         "rawType": "int64",
         "type": "integer"
        },
        {
         "name": "rd_fr_oxime",
         "rawType": "int64",
         "type": "integer"
        },
        {
         "name": "rd_fr_para_hydroxylation",
         "rawType": "int64",
         "type": "integer"
        },
        {
         "name": "rd_fr_phenol",
         "rawType": "int64",
         "type": "integer"
        },
        {
         "name": "rd_fr_phenol_noOrthoHbond",
         "rawType": "int64",
         "type": "integer"
        },
        {
         "name": "rd_fr_phos_acid",
         "rawType": "int64",
         "type": "integer"
        },
        {
         "name": "rd_fr_phos_ester",
         "rawType": "int64",
         "type": "integer"
        },
        {
         "name": "rd_fr_piperdine",
         "rawType": "int64",
         "type": "integer"
        },
        {
         "name": "rd_fr_piperzine",
         "rawType": "int64",
         "type": "integer"
        },
        {
         "name": "rd_fr_priamide",
         "rawType": "int64",
         "type": "integer"
        },
        {
         "name": "rd_fr_prisulfonamd",
         "rawType": "int64",
         "type": "integer"
        },
        {
         "name": "rd_fr_pyridine",
         "rawType": "int64",
         "type": "integer"
        },
        {
         "name": "rd_fr_quatN",
         "rawType": "int64",
         "type": "integer"
        },
        {
         "name": "rd_fr_sulfide",
         "rawType": "int64",
         "type": "integer"
        },
        {
         "name": "rd_fr_sulfonamd",
         "rawType": "int64",
         "type": "integer"
        },
        {
         "name": "rd_fr_sulfone",
         "rawType": "int64",
         "type": "integer"
        },
        {
         "name": "rd_fr_term_acetylene",
         "rawType": "int64",
         "type": "integer"
        },
        {
         "name": "rd_fr_tetrazole",
         "rawType": "int64",
         "type": "integer"
        },
        {
         "name": "rd_fr_thiazole",
         "rawType": "int64",
         "type": "integer"
        },
        {
         "name": "rd_fr_thiocyan",
         "rawType": "int64",
         "type": "integer"
        },
        {
         "name": "rd_fr_thiophene",
         "rawType": "int64",
         "type": "integer"
        },
        {
         "name": "rd_fr_unbrch_alkane",
         "rawType": "int64",
         "type": "integer"
        },
        {
         "name": "rd_fr_urea",
         "rawType": "int64",
         "type": "integer"
        },
        {
         "name": "fp_0",
         "rawType": "int64",
         "type": "integer"
        },
        {
         "name": "fp_1",
         "rawType": "int64",
         "type": "integer"
        },
        {
         "name": "fp_2",
         "rawType": "int64",
         "type": "integer"
        },
        {
         "name": "fp_3",
         "rawType": "int64",
         "type": "integer"
        },
        {
         "name": "fp_4",
         "rawType": "int64",
         "type": "integer"
        },
        {
         "name": "fp_5",
         "rawType": "int64",
         "type": "integer"
        },
        {
         "name": "fp_6",
         "rawType": "int64",
         "type": "integer"
        },
        {
         "name": "fp_7",
         "rawType": "int64",
         "type": "integer"
        },
        {
         "name": "fp_8",
         "rawType": "int64",
         "type": "integer"
        },
        {
         "name": "fp_9",
         "rawType": "int64",
         "type": "integer"
        },
        {
         "name": "fp_10",
         "rawType": "int64",
         "type": "integer"
        },
        {
         "name": "fp_11",
         "rawType": "int64",
         "type": "integer"
        },
        {
         "name": "fp_12",
         "rawType": "int64",
         "type": "integer"
        },
        {
         "name": "fp_13",
         "rawType": "int64",
         "type": "integer"
        },
        {
         "name": "fp_14",
         "rawType": "int64",
         "type": "integer"
        },
        {
         "name": "fp_15",
         "rawType": "int64",
         "type": "integer"
        },
        {
         "name": "fp_16",
         "rawType": "int64",
         "type": "integer"
        },
        {
         "name": "fp_17",
         "rawType": "int64",
         "type": "integer"
        },
        {
         "name": "fp_18",
         "rawType": "int64",
         "type": "integer"
        },
        {
         "name": "fp_19",
         "rawType": "int64",
         "type": "integer"
        },
        {
         "name": "fp_20",
         "rawType": "int64",
         "type": "integer"
        },
        {
         "name": "fp_21",
         "rawType": "int64",
         "type": "integer"
        },
        {
         "name": "fp_22",
         "rawType": "int64",
         "type": "integer"
        },
        {
         "name": "fp_23",
         "rawType": "int64",
         "type": "integer"
        },
        {
         "name": "fp_24",
         "rawType": "int64",
         "type": "integer"
        },
        {
         "name": "fp_25",
         "rawType": "int64",
         "type": "integer"
        },
        {
         "name": "fp_26",
         "rawType": "int64",
         "type": "integer"
        },
        {
         "name": "fp_27",
         "rawType": "int64",
         "type": "integer"
        },
        {
         "name": "fp_28",
         "rawType": "int64",
         "type": "integer"
        },
        {
         "name": "fp_29",
         "rawType": "int64",
         "type": "integer"
        },
        {
         "name": "fp_30",
         "rawType": "int64",
         "type": "integer"
        },
        {
         "name": "fp_31",
         "rawType": "int64",
         "type": "integer"
        },
        {
         "name": "fp_32",
         "rawType": "int64",
         "type": "integer"
        },
        {
         "name": "fp_33",
         "rawType": "int64",
         "type": "integer"
        },
        {
         "name": "fp_34",
         "rawType": "int64",
         "type": "integer"
        },
        {
         "name": "fp_35",
         "rawType": "int64",
         "type": "integer"
        },
        {
         "name": "fp_36",
         "rawType": "int64",
         "type": "integer"
        },
        {
         "name": "fp_37",
         "rawType": "int64",
         "type": "integer"
        },
        {
         "name": "fp_38",
         "rawType": "int64",
         "type": "integer"
        },
        {
         "name": "fp_39",
         "rawType": "int64",
         "type": "integer"
        },
        {
         "name": "fp_40",
         "rawType": "int64",
         "type": "integer"
        },
        {
         "name": "fp_41",
         "rawType": "int64",
         "type": "integer"
        },
        {
         "name": "fp_42",
         "rawType": "int64",
         "type": "integer"
        },
        {
         "name": "fp_43",
         "rawType": "int64",
         "type": "integer"
        },
        {
         "name": "fp_44",
         "rawType": "int64",
         "type": "integer"
        },
        {
         "name": "fp_45",
         "rawType": "int64",
         "type": "integer"
        },
        {
         "name": "fp_46",
         "rawType": "int64",
         "type": "integer"
        },
        {
         "name": "fp_47",
         "rawType": "int64",
         "type": "integer"
        },
        {
         "name": "fp_48",
         "rawType": "int64",
         "type": "integer"
        },
        {
         "name": "fp_49",
         "rawType": "int64",
         "type": "integer"
        },
        {
         "name": "fp_50",
         "rawType": "int64",
         "type": "integer"
        },
        {
         "name": "fp_51",
         "rawType": "int64",
         "type": "integer"
        },
        {
         "name": "fp_52",
         "rawType": "int64",
         "type": "integer"
        },
        {
         "name": "fp_53",
         "rawType": "int64",
         "type": "integer"
        },
        {
         "name": "fp_54",
         "rawType": "int64",
         "type": "integer"
        },
        {
         "name": "fp_55",
         "rawType": "int64",
         "type": "integer"
        },
        {
         "name": "fp_56",
         "rawType": "int64",
         "type": "integer"
        },
        {
         "name": "fp_57",
         "rawType": "int64",
         "type": "integer"
        },
        {
         "name": "fp_58",
         "rawType": "int64",
         "type": "integer"
        },
        {
         "name": "fp_59",
         "rawType": "int64",
         "type": "integer"
        },
        {
         "name": "fp_60",
         "rawType": "int64",
         "type": "integer"
        },
        {
         "name": "fp_61",
         "rawType": "int64",
         "type": "integer"
        },
        {
         "name": "fp_62",
         "rawType": "int64",
         "type": "integer"
        },
        {
         "name": "fp_63",
         "rawType": "int64",
         "type": "integer"
        },
        {
         "name": "fp_64",
         "rawType": "int64",
         "type": "integer"
        },
        {
         "name": "fp_65",
         "rawType": "int64",
         "type": "integer"
        },
        {
         "name": "fp_66",
         "rawType": "int64",
         "type": "integer"
        },
        {
         "name": "fp_67",
         "rawType": "int64",
         "type": "integer"
        },
        {
         "name": "fp_68",
         "rawType": "int64",
         "type": "integer"
        },
        {
         "name": "fp_69",
         "rawType": "int64",
         "type": "integer"
        },
        {
         "name": "fp_70",
         "rawType": "int64",
         "type": "integer"
        },
        {
         "name": "fp_71",
         "rawType": "int64",
         "type": "integer"
        },
        {
         "name": "fp_72",
         "rawType": "int64",
         "type": "integer"
        },
        {
         "name": "fp_73",
         "rawType": "int64",
         "type": "integer"
        },
        {
         "name": "fp_74",
         "rawType": "int64",
         "type": "integer"
        },
        {
         "name": "fp_75",
         "rawType": "int64",
         "type": "integer"
        },
        {
         "name": "fp_76",
         "rawType": "int64",
         "type": "integer"
        },
        {
         "name": "fp_77",
         "rawType": "int64",
         "type": "integer"
        },
        {
         "name": "fp_78",
         "rawType": "int64",
         "type": "integer"
        },
        {
         "name": "fp_79",
         "rawType": "int64",
         "type": "integer"
        },
        {
         "name": "fp_80",
         "rawType": "int64",
         "type": "integer"
        },
        {
         "name": "fp_81",
         "rawType": "int64",
         "type": "integer"
        },
        {
         "name": "fp_82",
         "rawType": "int64",
         "type": "integer"
        },
        {
         "name": "fp_83",
         "rawType": "int64",
         "type": "integer"
        },
        {
         "name": "fp_84",
         "rawType": "int64",
         "type": "integer"
        },
        {
         "name": "fp_85",
         "rawType": "int64",
         "type": "integer"
        },
        {
         "name": "fp_86",
         "rawType": "int64",
         "type": "integer"
        },
        {
         "name": "fp_87",
         "rawType": "int64",
         "type": "integer"
        },
        {
         "name": "fp_88",
         "rawType": "int64",
         "type": "integer"
        },
        {
         "name": "fp_89",
         "rawType": "int64",
         "type": "integer"
        },
        {
         "name": "fp_90",
         "rawType": "int64",
         "type": "integer"
        },
        {
         "name": "fp_91",
         "rawType": "int64",
         "type": "integer"
        },
        {
         "name": "fp_92",
         "rawType": "int64",
         "type": "integer"
        },
        {
         "name": "fp_93",
         "rawType": "int64",
         "type": "integer"
        },
        {
         "name": "fp_94",
         "rawType": "int64",
         "type": "integer"
        },
        {
         "name": "fp_95",
         "rawType": "int64",
         "type": "integer"
        },
        {
         "name": "fp_96",
         "rawType": "int64",
         "type": "integer"
        },
        {
         "name": "fp_97",
         "rawType": "int64",
         "type": "integer"
        },
        {
         "name": "fp_98",
         "rawType": "int64",
         "type": "integer"
        },
        {
         "name": "fp_99",
         "rawType": "int64",
         "type": "integer"
        },
        {
         "name": "fp_100",
         "rawType": "int64",
         "type": "integer"
        },
        {
         "name": "fp_101",
         "rawType": "int64",
         "type": "integer"
        },
        {
         "name": "fp_102",
         "rawType": "int64",
         "type": "integer"
        },
        {
         "name": "fp_103",
         "rawType": "int64",
         "type": "integer"
        },
        {
         "name": "fp_104",
         "rawType": "int64",
         "type": "integer"
        },
        {
         "name": "fp_105",
         "rawType": "int64",
         "type": "integer"
        },
        {
         "name": "fp_106",
         "rawType": "int64",
         "type": "integer"
        },
        {
         "name": "fp_107",
         "rawType": "int64",
         "type": "integer"
        },
        {
         "name": "fp_108",
         "rawType": "int64",
         "type": "integer"
        },
        {
         "name": "fp_109",
         "rawType": "int64",
         "type": "integer"
        },
        {
         "name": "fp_110",
         "rawType": "int64",
         "type": "integer"
        },
        {
         "name": "fp_111",
         "rawType": "int64",
         "type": "integer"
        },
        {
         "name": "fp_112",
         "rawType": "int64",
         "type": "integer"
        },
        {
         "name": "fp_113",
         "rawType": "int64",
         "type": "integer"
        },
        {
         "name": "fp_114",
         "rawType": "int64",
         "type": "integer"
        },
        {
         "name": "fp_115",
         "rawType": "int64",
         "type": "integer"
        },
        {
         "name": "fp_116",
         "rawType": "int64",
         "type": "integer"
        },
        {
         "name": "fp_117",
         "rawType": "int64",
         "type": "integer"
        },
        {
         "name": "fp_118",
         "rawType": "int64",
         "type": "integer"
        },
        {
         "name": "fp_119",
         "rawType": "int64",
         "type": "integer"
        },
        {
         "name": "fp_120",
         "rawType": "int64",
         "type": "integer"
        },
        {
         "name": "fp_121",
         "rawType": "int64",
         "type": "integer"
        },
        {
         "name": "fp_122",
         "rawType": "int64",
         "type": "integer"
        },
        {
         "name": "fp_123",
         "rawType": "int64",
         "type": "integer"
        },
        {
         "name": "fp_124",
         "rawType": "int64",
         "type": "integer"
        },
        {
         "name": "fp_125",
         "rawType": "int64",
         "type": "integer"
        },
        {
         "name": "fp_126",
         "rawType": "int64",
         "type": "integer"
        },
        {
         "name": "fp_127",
         "rawType": "int64",
         "type": "integer"
        },
        {
         "name": "fp_128",
         "rawType": "int64",
         "type": "integer"
        },
        {
         "name": "fp_129",
         "rawType": "int64",
         "type": "integer"
        },
        {
         "name": "fp_130",
         "rawType": "int64",
         "type": "integer"
        },
        {
         "name": "fp_131",
         "rawType": "int64",
         "type": "integer"
        },
        {
         "name": "fp_132",
         "rawType": "int64",
         "type": "integer"
        },
        {
         "name": "fp_133",
         "rawType": "int64",
         "type": "integer"
        },
        {
         "name": "fp_134",
         "rawType": "int64",
         "type": "integer"
        },
        {
         "name": "fp_135",
         "rawType": "int64",
         "type": "integer"
        },
        {
         "name": "fp_136",
         "rawType": "int64",
         "type": "integer"
        },
        {
         "name": "fp_137",
         "rawType": "int64",
         "type": "integer"
        },
        {
         "name": "fp_138",
         "rawType": "int64",
         "type": "integer"
        },
        {
         "name": "fp_139",
         "rawType": "int64",
         "type": "integer"
        },
        {
         "name": "fp_140",
         "rawType": "int64",
         "type": "integer"
        },
        {
         "name": "fp_141",
         "rawType": "int64",
         "type": "integer"
        },
        {
         "name": "fp_142",
         "rawType": "int64",
         "type": "integer"
        },
        {
         "name": "fp_143",
         "rawType": "int64",
         "type": "integer"
        },
        {
         "name": "fp_144",
         "rawType": "int64",
         "type": "integer"
        },
        {
         "name": "fp_145",
         "rawType": "int64",
         "type": "integer"
        },
        {
         "name": "fp_146",
         "rawType": "int64",
         "type": "integer"
        },
        {
         "name": "fp_147",
         "rawType": "int64",
         "type": "integer"
        },
        {
         "name": "fp_148",
         "rawType": "int64",
         "type": "integer"
        },
        {
         "name": "fp_149",
         "rawType": "int64",
         "type": "integer"
        },
        {
         "name": "fp_150",
         "rawType": "int64",
         "type": "integer"
        },
        {
         "name": "fp_151",
         "rawType": "int64",
         "type": "integer"
        },
        {
         "name": "fp_152",
         "rawType": "int64",
         "type": "integer"
        },
        {
         "name": "fp_153",
         "rawType": "int64",
         "type": "integer"
        },
        {
         "name": "fp_154",
         "rawType": "int64",
         "type": "integer"
        },
        {
         "name": "fp_155",
         "rawType": "int64",
         "type": "integer"
        },
        {
         "name": "fp_156",
         "rawType": "int64",
         "type": "integer"
        },
        {
         "name": "fp_157",
         "rawType": "int64",
         "type": "integer"
        },
        {
         "name": "fp_158",
         "rawType": "int64",
         "type": "integer"
        },
        {
         "name": "fp_159",
         "rawType": "int64",
         "type": "integer"
        },
        {
         "name": "fp_160",
         "rawType": "int64",
         "type": "integer"
        },
        {
         "name": "fp_161",
         "rawType": "int64",
         "type": "integer"
        },
        {
         "name": "fp_162",
         "rawType": "int64",
         "type": "integer"
        },
        {
         "name": "fp_163",
         "rawType": "int64",
         "type": "integer"
        },
        {
         "name": "fp_164",
         "rawType": "int64",
         "type": "integer"
        },
        {
         "name": "fp_165",
         "rawType": "int64",
         "type": "integer"
        },
        {
         "name": "fp_166",
         "rawType": "int64",
         "type": "integer"
        },
        {
         "name": "fp_167",
         "rawType": "int64",
         "type": "integer"
        },
        {
         "name": "fp_168",
         "rawType": "int64",
         "type": "integer"
        },
        {
         "name": "fp_169",
         "rawType": "int64",
         "type": "integer"
        },
        {
         "name": "fp_170",
         "rawType": "int64",
         "type": "integer"
        },
        {
         "name": "fp_171",
         "rawType": "int64",
         "type": "integer"
        },
        {
         "name": "fp_172",
         "rawType": "int64",
         "type": "integer"
        },
        {
         "name": "fp_173",
         "rawType": "int64",
         "type": "integer"
        },
        {
         "name": "fp_174",
         "rawType": "int64",
         "type": "integer"
        },
        {
         "name": "fp_175",
         "rawType": "int64",
         "type": "integer"
        },
        {
         "name": "fp_176",
         "rawType": "int64",
         "type": "integer"
        },
        {
         "name": "fp_177",
         "rawType": "int64",
         "type": "integer"
        },
        {
         "name": "fp_178",
         "rawType": "int64",
         "type": "integer"
        },
        {
         "name": "fp_179",
         "rawType": "int64",
         "type": "integer"
        },
        {
         "name": "fp_180",
         "rawType": "int64",
         "type": "integer"
        },
        {
         "name": "fp_181",
         "rawType": "int64",
         "type": "integer"
        },
        {
         "name": "fp_182",
         "rawType": "int64",
         "type": "integer"
        },
        {
         "name": "fp_183",
         "rawType": "int64",
         "type": "integer"
        },
        {
         "name": "fp_184",
         "rawType": "int64",
         "type": "integer"
        },
        {
         "name": "fp_185",
         "rawType": "int64",
         "type": "integer"
        },
        {
         "name": "fp_186",
         "rawType": "int64",
         "type": "integer"
        },
        {
         "name": "fp_187",
         "rawType": "int64",
         "type": "integer"
        },
        {
         "name": "fp_188",
         "rawType": "int64",
         "type": "integer"
        },
        {
         "name": "fp_189",
         "rawType": "int64",
         "type": "integer"
        },
        {
         "name": "fp_190",
         "rawType": "int64",
         "type": "integer"
        },
        {
         "name": "fp_191",
         "rawType": "int64",
         "type": "integer"
        },
        {
         "name": "fp_192",
         "rawType": "int64",
         "type": "integer"
        },
        {
         "name": "fp_193",
         "rawType": "int64",
         "type": "integer"
        },
        {
         "name": "fp_194",
         "rawType": "int64",
         "type": "integer"
        },
        {
         "name": "fp_195",
         "rawType": "int64",
         "type": "integer"
        },
        {
         "name": "fp_196",
         "rawType": "int64",
         "type": "integer"
        },
        {
         "name": "fp_197",
         "rawType": "int64",
         "type": "integer"
        },
        {
         "name": "fp_198",
         "rawType": "int64",
         "type": "integer"
        },
        {
         "name": "fp_199",
         "rawType": "int64",
         "type": "integer"
        },
        {
         "name": "fp_200",
         "rawType": "int64",
         "type": "integer"
        },
        {
         "name": "fp_201",
         "rawType": "int64",
         "type": "integer"
        },
        {
         "name": "fp_202",
         "rawType": "int64",
         "type": "integer"
        },
        {
         "name": "fp_203",
         "rawType": "int64",
         "type": "integer"
        },
        {
         "name": "fp_204",
         "rawType": "int64",
         "type": "integer"
        },
        {
         "name": "fp_205",
         "rawType": "int64",
         "type": "integer"
        },
        {
         "name": "fp_206",
         "rawType": "int64",
         "type": "integer"
        },
        {
         "name": "fp_207",
         "rawType": "int64",
         "type": "integer"
        },
        {
         "name": "fp_208",
         "rawType": "int64",
         "type": "integer"
        },
        {
         "name": "fp_209",
         "rawType": "int64",
         "type": "integer"
        },
        {
         "name": "fp_210",
         "rawType": "int64",
         "type": "integer"
        },
        {
         "name": "fp_211",
         "rawType": "int64",
         "type": "integer"
        },
        {
         "name": "fp_212",
         "rawType": "int64",
         "type": "integer"
        },
        {
         "name": "fp_213",
         "rawType": "int64",
         "type": "integer"
        },
        {
         "name": "fp_214",
         "rawType": "int64",
         "type": "integer"
        },
        {
         "name": "fp_215",
         "rawType": "int64",
         "type": "integer"
        },
        {
         "name": "fp_216",
         "rawType": "int64",
         "type": "integer"
        },
        {
         "name": "fp_217",
         "rawType": "int64",
         "type": "integer"
        },
        {
         "name": "fp_218",
         "rawType": "int64",
         "type": "integer"
        },
        {
         "name": "fp_219",
         "rawType": "int64",
         "type": "integer"
        },
        {
         "name": "fp_220",
         "rawType": "int64",
         "type": "integer"
        },
        {
         "name": "fp_221",
         "rawType": "int64",
         "type": "integer"
        },
        {
         "name": "fp_222",
         "rawType": "int64",
         "type": "integer"
        },
        {
         "name": "fp_223",
         "rawType": "int64",
         "type": "integer"
        },
        {
         "name": "fp_224",
         "rawType": "int64",
         "type": "integer"
        },
        {
         "name": "fp_225",
         "rawType": "int64",
         "type": "integer"
        },
        {
         "name": "fp_226",
         "rawType": "int64",
         "type": "integer"
        },
        {
         "name": "fp_227",
         "rawType": "int64",
         "type": "integer"
        },
        {
         "name": "fp_228",
         "rawType": "int64",
         "type": "integer"
        },
        {
         "name": "fp_229",
         "rawType": "int64",
         "type": "integer"
        },
        {
         "name": "fp_230",
         "rawType": "int64",
         "type": "integer"
        },
        {
         "name": "fp_231",
         "rawType": "int64",
         "type": "integer"
        },
        {
         "name": "fp_232",
         "rawType": "int64",
         "type": "integer"
        },
        {
         "name": "fp_233",
         "rawType": "int64",
         "type": "integer"
        },
        {
         "name": "fp_234",
         "rawType": "int64",
         "type": "integer"
        },
        {
         "name": "fp_235",
         "rawType": "int64",
         "type": "integer"
        },
        {
         "name": "fp_236",
         "rawType": "int64",
         "type": "integer"
        },
        {
         "name": "fp_237",
         "rawType": "int64",
         "type": "integer"
        },
        {
         "name": "fp_238",
         "rawType": "int64",
         "type": "integer"
        },
        {
         "name": "fp_239",
         "rawType": "int64",
         "type": "integer"
        },
        {
         "name": "fp_240",
         "rawType": "int64",
         "type": "integer"
        },
        {
         "name": "fp_241",
         "rawType": "int64",
         "type": "integer"
        },
        {
         "name": "fp_242",
         "rawType": "int64",
         "type": "integer"
        },
        {
         "name": "fp_243",
         "rawType": "int64",
         "type": "integer"
        },
        {
         "name": "fp_244",
         "rawType": "int64",
         "type": "integer"
        },
        {
         "name": "fp_245",
         "rawType": "int64",
         "type": "integer"
        },
        {
         "name": "fp_246",
         "rawType": "int64",
         "type": "integer"
        },
        {
         "name": "fp_247",
         "rawType": "int64",
         "type": "integer"
        },
        {
         "name": "fp_248",
         "rawType": "int64",
         "type": "integer"
        },
        {
         "name": "fp_249",
         "rawType": "int64",
         "type": "integer"
        },
        {
         "name": "fp_250",
         "rawType": "int64",
         "type": "integer"
        },
        {
         "name": "fp_251",
         "rawType": "int64",
         "type": "integer"
        },
        {
         "name": "fp_252",
         "rawType": "int64",
         "type": "integer"
        },
        {
         "name": "fp_253",
         "rawType": "int64",
         "type": "integer"
        },
        {
         "name": "fp_254",
         "rawType": "int64",
         "type": "integer"
        },
        {
         "name": "fp_255",
         "rawType": "int64",
         "type": "integer"
        },
        {
         "name": "fp_256",
         "rawType": "int64",
         "type": "integer"
        },
        {
         "name": "fp_257",
         "rawType": "int64",
         "type": "integer"
        },
        {
         "name": "fp_258",
         "rawType": "int64",
         "type": "integer"
        },
        {
         "name": "fp_259",
         "rawType": "int64",
         "type": "integer"
        },
        {
         "name": "fp_260",
         "rawType": "int64",
         "type": "integer"
        },
        {
         "name": "fp_261",
         "rawType": "int64",
         "type": "integer"
        },
        {
         "name": "fp_262",
         "rawType": "int64",
         "type": "integer"
        },
        {
         "name": "fp_263",
         "rawType": "int64",
         "type": "integer"
        },
        {
         "name": "fp_264",
         "rawType": "int64",
         "type": "integer"
        },
        {
         "name": "fp_265",
         "rawType": "int64",
         "type": "integer"
        },
        {
         "name": "fp_266",
         "rawType": "int64",
         "type": "integer"
        },
        {
         "name": "fp_267",
         "rawType": "int64",
         "type": "integer"
        },
        {
         "name": "fp_268",
         "rawType": "int64",
         "type": "integer"
        },
        {
         "name": "fp_269",
         "rawType": "int64",
         "type": "integer"
        },
        {
         "name": "fp_270",
         "rawType": "int64",
         "type": "integer"
        },
        {
         "name": "fp_271",
         "rawType": "int64",
         "type": "integer"
        },
        {
         "name": "fp_272",
         "rawType": "int64",
         "type": "integer"
        },
        {
         "name": "fp_273",
         "rawType": "int64",
         "type": "integer"
        },
        {
         "name": "fp_274",
         "rawType": "int64",
         "type": "integer"
        },
        {
         "name": "fp_275",
         "rawType": "int64",
         "type": "integer"
        },
        {
         "name": "fp_276",
         "rawType": "int64",
         "type": "integer"
        },
        {
         "name": "fp_277",
         "rawType": "int64",
         "type": "integer"
        },
        {
         "name": "fp_278",
         "rawType": "int64",
         "type": "integer"
        },
        {
         "name": "fp_279",
         "rawType": "int64",
         "type": "integer"
        },
        {
         "name": "fp_280",
         "rawType": "int64",
         "type": "integer"
        },
        {
         "name": "fp_281",
         "rawType": "int64",
         "type": "integer"
        },
        {
         "name": "fp_282",
         "rawType": "int64",
         "type": "integer"
        },
        {
         "name": "fp_283",
         "rawType": "int64",
         "type": "integer"
        },
        {
         "name": "fp_284",
         "rawType": "int64",
         "type": "integer"
        },
        {
         "name": "fp_285",
         "rawType": "int64",
         "type": "integer"
        },
        {
         "name": "fp_286",
         "rawType": "int64",
         "type": "integer"
        },
        {
         "name": "fp_287",
         "rawType": "int64",
         "type": "integer"
        },
        {
         "name": "fp_288",
         "rawType": "int64",
         "type": "integer"
        },
        {
         "name": "fp_289",
         "rawType": "int64",
         "type": "integer"
        },
        {
         "name": "fp_290",
         "rawType": "int64",
         "type": "integer"
        },
        {
         "name": "fp_291",
         "rawType": "int64",
         "type": "integer"
        },
        {
         "name": "fp_292",
         "rawType": "int64",
         "type": "integer"
        },
        {
         "name": "fp_293",
         "rawType": "int64",
         "type": "integer"
        },
        {
         "name": "fp_294",
         "rawType": "int64",
         "type": "integer"
        },
        {
         "name": "fp_295",
         "rawType": "int64",
         "type": "integer"
        },
        {
         "name": "fp_296",
         "rawType": "int64",
         "type": "integer"
        },
        {
         "name": "fp_297",
         "rawType": "int64",
         "type": "integer"
        },
        {
         "name": "fp_298",
         "rawType": "int64",
         "type": "integer"
        },
        {
         "name": "fp_299",
         "rawType": "int64",
         "type": "integer"
        },
        {
         "name": "fp_300",
         "rawType": "int64",
         "type": "integer"
        },
        {
         "name": "fp_301",
         "rawType": "int64",
         "type": "integer"
        },
        {
         "name": "fp_302",
         "rawType": "int64",
         "type": "integer"
        },
        {
         "name": "fp_303",
         "rawType": "int64",
         "type": "integer"
        },
        {
         "name": "fp_304",
         "rawType": "int64",
         "type": "integer"
        },
        {
         "name": "fp_305",
         "rawType": "int64",
         "type": "integer"
        },
        {
         "name": "fp_306",
         "rawType": "int64",
         "type": "integer"
        },
        {
         "name": "fp_307",
         "rawType": "int64",
         "type": "integer"
        },
        {
         "name": "fp_308",
         "rawType": "int64",
         "type": "integer"
        },
        {
         "name": "fp_309",
         "rawType": "int64",
         "type": "integer"
        },
        {
         "name": "fp_310",
         "rawType": "int64",
         "type": "integer"
        },
        {
         "name": "fp_311",
         "rawType": "int64",
         "type": "integer"
        },
        {
         "name": "fp_312",
         "rawType": "int64",
         "type": "integer"
        },
        {
         "name": "fp_313",
         "rawType": "int64",
         "type": "integer"
        },
        {
         "name": "fp_314",
         "rawType": "int64",
         "type": "integer"
        },
        {
         "name": "fp_315",
         "rawType": "int64",
         "type": "integer"
        },
        {
         "name": "fp_316",
         "rawType": "int64",
         "type": "integer"
        },
        {
         "name": "fp_317",
         "rawType": "int64",
         "type": "integer"
        },
        {
         "name": "fp_318",
         "rawType": "int64",
         "type": "integer"
        },
        {
         "name": "fp_319",
         "rawType": "int64",
         "type": "integer"
        },
        {
         "name": "fp_320",
         "rawType": "int64",
         "type": "integer"
        },
        {
         "name": "fp_321",
         "rawType": "int64",
         "type": "integer"
        },
        {
         "name": "fp_322",
         "rawType": "int64",
         "type": "integer"
        },
        {
         "name": "fp_323",
         "rawType": "int64",
         "type": "integer"
        },
        {
         "name": "fp_324",
         "rawType": "int64",
         "type": "integer"
        },
        {
         "name": "fp_325",
         "rawType": "int64",
         "type": "integer"
        },
        {
         "name": "fp_326",
         "rawType": "int64",
         "type": "integer"
        },
        {
         "name": "fp_327",
         "rawType": "int64",
         "type": "integer"
        },
        {
         "name": "fp_328",
         "rawType": "int64",
         "type": "integer"
        },
        {
         "name": "fp_329",
         "rawType": "int64",
         "type": "integer"
        },
        {
         "name": "fp_330",
         "rawType": "int64",
         "type": "integer"
        },
        {
         "name": "fp_331",
         "rawType": "int64",
         "type": "integer"
        },
        {
         "name": "fp_332",
         "rawType": "int64",
         "type": "integer"
        },
        {
         "name": "fp_333",
         "rawType": "int64",
         "type": "integer"
        },
        {
         "name": "fp_334",
         "rawType": "int64",
         "type": "integer"
        },
        {
         "name": "fp_335",
         "rawType": "int64",
         "type": "integer"
        },
        {
         "name": "fp_336",
         "rawType": "int64",
         "type": "integer"
        },
        {
         "name": "fp_337",
         "rawType": "int64",
         "type": "integer"
        },
        {
         "name": "fp_338",
         "rawType": "int64",
         "type": "integer"
        },
        {
         "name": "fp_339",
         "rawType": "int64",
         "type": "integer"
        },
        {
         "name": "fp_340",
         "rawType": "int64",
         "type": "integer"
        },
        {
         "name": "fp_341",
         "rawType": "int64",
         "type": "integer"
        },
        {
         "name": "fp_342",
         "rawType": "int64",
         "type": "integer"
        },
        {
         "name": "fp_343",
         "rawType": "int64",
         "type": "integer"
        },
        {
         "name": "fp_344",
         "rawType": "int64",
         "type": "integer"
        },
        {
         "name": "fp_345",
         "rawType": "int64",
         "type": "integer"
        },
        {
         "name": "fp_346",
         "rawType": "int64",
         "type": "integer"
        },
        {
         "name": "fp_347",
         "rawType": "int64",
         "type": "integer"
        },
        {
         "name": "fp_348",
         "rawType": "int64",
         "type": "integer"
        },
        {
         "name": "fp_349",
         "rawType": "int64",
         "type": "integer"
        },
        {
         "name": "fp_350",
         "rawType": "int64",
         "type": "integer"
        },
        {
         "name": "fp_351",
         "rawType": "int64",
         "type": "integer"
        },
        {
         "name": "fp_352",
         "rawType": "int64",
         "type": "integer"
        },
        {
         "name": "fp_353",
         "rawType": "int64",
         "type": "integer"
        },
        {
         "name": "fp_354",
         "rawType": "int64",
         "type": "integer"
        },
        {
         "name": "fp_355",
         "rawType": "int64",
         "type": "integer"
        },
        {
         "name": "fp_356",
         "rawType": "int64",
         "type": "integer"
        },
        {
         "name": "fp_357",
         "rawType": "int64",
         "type": "integer"
        },
        {
         "name": "fp_358",
         "rawType": "int64",
         "type": "integer"
        },
        {
         "name": "fp_359",
         "rawType": "int64",
         "type": "integer"
        },
        {
         "name": "fp_360",
         "rawType": "int64",
         "type": "integer"
        },
        {
         "name": "fp_361",
         "rawType": "int64",
         "type": "integer"
        },
        {
         "name": "fp_362",
         "rawType": "int64",
         "type": "integer"
        },
        {
         "name": "fp_363",
         "rawType": "int64",
         "type": "integer"
        },
        {
         "name": "fp_364",
         "rawType": "int64",
         "type": "integer"
        },
        {
         "name": "fp_365",
         "rawType": "int64",
         "type": "integer"
        },
        {
         "name": "fp_366",
         "rawType": "int64",
         "type": "integer"
        },
        {
         "name": "fp_367",
         "rawType": "int64",
         "type": "integer"
        },
        {
         "name": "fp_368",
         "rawType": "int64",
         "type": "integer"
        },
        {
         "name": "fp_369",
         "rawType": "int64",
         "type": "integer"
        },
        {
         "name": "fp_370",
         "rawType": "int64",
         "type": "integer"
        },
        {
         "name": "fp_371",
         "rawType": "int64",
         "type": "integer"
        },
        {
         "name": "fp_372",
         "rawType": "int64",
         "type": "integer"
        },
        {
         "name": "fp_373",
         "rawType": "int64",
         "type": "integer"
        },
        {
         "name": "fp_374",
         "rawType": "int64",
         "type": "integer"
        },
        {
         "name": "fp_375",
         "rawType": "int64",
         "type": "integer"
        },
        {
         "name": "fp_376",
         "rawType": "int64",
         "type": "integer"
        },
        {
         "name": "fp_377",
         "rawType": "int64",
         "type": "integer"
        },
        {
         "name": "fp_378",
         "rawType": "int64",
         "type": "integer"
        },
        {
         "name": "fp_379",
         "rawType": "int64",
         "type": "integer"
        },
        {
         "name": "fp_380",
         "rawType": "int64",
         "type": "integer"
        },
        {
         "name": "fp_381",
         "rawType": "int64",
         "type": "integer"
        },
        {
         "name": "fp_382",
         "rawType": "int64",
         "type": "integer"
        },
        {
         "name": "fp_383",
         "rawType": "int64",
         "type": "integer"
        },
        {
         "name": "fp_384",
         "rawType": "int64",
         "type": "integer"
        },
        {
         "name": "fp_385",
         "rawType": "int64",
         "type": "integer"
        },
        {
         "name": "fp_386",
         "rawType": "int64",
         "type": "integer"
        },
        {
         "name": "fp_387",
         "rawType": "int64",
         "type": "integer"
        },
        {
         "name": "fp_388",
         "rawType": "int64",
         "type": "integer"
        },
        {
         "name": "fp_389",
         "rawType": "int64",
         "type": "integer"
        },
        {
         "name": "fp_390",
         "rawType": "int64",
         "type": "integer"
        },
        {
         "name": "fp_391",
         "rawType": "int64",
         "type": "integer"
        },
        {
         "name": "fp_392",
         "rawType": "int64",
         "type": "integer"
        },
        {
         "name": "fp_393",
         "rawType": "int64",
         "type": "integer"
        },
        {
         "name": "fp_394",
         "rawType": "int64",
         "type": "integer"
        },
        {
         "name": "fp_395",
         "rawType": "int64",
         "type": "integer"
        },
        {
         "name": "fp_396",
         "rawType": "int64",
         "type": "integer"
        },
        {
         "name": "fp_397",
         "rawType": "int64",
         "type": "integer"
        },
        {
         "name": "fp_398",
         "rawType": "int64",
         "type": "integer"
        },
        {
         "name": "fp_399",
         "rawType": "int64",
         "type": "integer"
        },
        {
         "name": "fp_400",
         "rawType": "int64",
         "type": "integer"
        },
        {
         "name": "fp_401",
         "rawType": "int64",
         "type": "integer"
        },
        {
         "name": "fp_402",
         "rawType": "int64",
         "type": "integer"
        },
        {
         "name": "fp_403",
         "rawType": "int64",
         "type": "integer"
        },
        {
         "name": "fp_404",
         "rawType": "int64",
         "type": "integer"
        },
        {
         "name": "fp_405",
         "rawType": "int64",
         "type": "integer"
        },
        {
         "name": "fp_406",
         "rawType": "int64",
         "type": "integer"
        },
        {
         "name": "fp_407",
         "rawType": "int64",
         "type": "integer"
        },
        {
         "name": "fp_408",
         "rawType": "int64",
         "type": "integer"
        },
        {
         "name": "fp_409",
         "rawType": "int64",
         "type": "integer"
        },
        {
         "name": "fp_410",
         "rawType": "int64",
         "type": "integer"
        },
        {
         "name": "fp_411",
         "rawType": "int64",
         "type": "integer"
        },
        {
         "name": "fp_412",
         "rawType": "int64",
         "type": "integer"
        },
        {
         "name": "fp_413",
         "rawType": "int64",
         "type": "integer"
        },
        {
         "name": "fp_414",
         "rawType": "int64",
         "type": "integer"
        },
        {
         "name": "fp_415",
         "rawType": "int64",
         "type": "integer"
        },
        {
         "name": "fp_416",
         "rawType": "int64",
         "type": "integer"
        },
        {
         "name": "fp_417",
         "rawType": "int64",
         "type": "integer"
        },
        {
         "name": "fp_418",
         "rawType": "int64",
         "type": "integer"
        },
        {
         "name": "fp_419",
         "rawType": "int64",
         "type": "integer"
        },
        {
         "name": "fp_420",
         "rawType": "int64",
         "type": "integer"
        },
        {
         "name": "fp_421",
         "rawType": "int64",
         "type": "integer"
        },
        {
         "name": "fp_422",
         "rawType": "int64",
         "type": "integer"
        },
        {
         "name": "fp_423",
         "rawType": "int64",
         "type": "integer"
        },
        {
         "name": "fp_424",
         "rawType": "int64",
         "type": "integer"
        },
        {
         "name": "fp_425",
         "rawType": "int64",
         "type": "integer"
        },
        {
         "name": "fp_426",
         "rawType": "int64",
         "type": "integer"
        },
        {
         "name": "fp_427",
         "rawType": "int64",
         "type": "integer"
        },
        {
         "name": "fp_428",
         "rawType": "int64",
         "type": "integer"
        },
        {
         "name": "fp_429",
         "rawType": "int64",
         "type": "integer"
        },
        {
         "name": "fp_430",
         "rawType": "int64",
         "type": "integer"
        },
        {
         "name": "fp_431",
         "rawType": "int64",
         "type": "integer"
        },
        {
         "name": "fp_432",
         "rawType": "int64",
         "type": "integer"
        },
        {
         "name": "fp_433",
         "rawType": "int64",
         "type": "integer"
        },
        {
         "name": "fp_434",
         "rawType": "int64",
         "type": "integer"
        },
        {
         "name": "fp_435",
         "rawType": "int64",
         "type": "integer"
        },
        {
         "name": "fp_436",
         "rawType": "int64",
         "type": "integer"
        },
        {
         "name": "fp_437",
         "rawType": "int64",
         "type": "integer"
        },
        {
         "name": "fp_438",
         "rawType": "int64",
         "type": "integer"
        },
        {
         "name": "fp_439",
         "rawType": "int64",
         "type": "integer"
        },
        {
         "name": "fp_440",
         "rawType": "int64",
         "type": "integer"
        },
        {
         "name": "fp_441",
         "rawType": "int64",
         "type": "integer"
        },
        {
         "name": "fp_442",
         "rawType": "int64",
         "type": "integer"
        },
        {
         "name": "fp_443",
         "rawType": "int64",
         "type": "integer"
        },
        {
         "name": "fp_444",
         "rawType": "int64",
         "type": "integer"
        },
        {
         "name": "fp_445",
         "rawType": "int64",
         "type": "integer"
        },
        {
         "name": "fp_446",
         "rawType": "int64",
         "type": "integer"
        },
        {
         "name": "fp_447",
         "rawType": "int64",
         "type": "integer"
        },
        {
         "name": "fp_448",
         "rawType": "int64",
         "type": "integer"
        },
        {
         "name": "fp_449",
         "rawType": "int64",
         "type": "integer"
        },
        {
         "name": "fp_450",
         "rawType": "int64",
         "type": "integer"
        },
        {
         "name": "fp_451",
         "rawType": "int64",
         "type": "integer"
        },
        {
         "name": "fp_452",
         "rawType": "int64",
         "type": "integer"
        },
        {
         "name": "fp_453",
         "rawType": "int64",
         "type": "integer"
        },
        {
         "name": "fp_454",
         "rawType": "int64",
         "type": "integer"
        },
        {
         "name": "fp_455",
         "rawType": "int64",
         "type": "integer"
        },
        {
         "name": "fp_456",
         "rawType": "int64",
         "type": "integer"
        },
        {
         "name": "fp_457",
         "rawType": "int64",
         "type": "integer"
        },
        {
         "name": "fp_458",
         "rawType": "int64",
         "type": "integer"
        },
        {
         "name": "fp_459",
         "rawType": "int64",
         "type": "integer"
        },
        {
         "name": "fp_460",
         "rawType": "int64",
         "type": "integer"
        },
        {
         "name": "fp_461",
         "rawType": "int64",
         "type": "integer"
        },
        {
         "name": "fp_462",
         "rawType": "int64",
         "type": "integer"
        },
        {
         "name": "fp_463",
         "rawType": "int64",
         "type": "integer"
        },
        {
         "name": "fp_464",
         "rawType": "int64",
         "type": "integer"
        },
        {
         "name": "fp_465",
         "rawType": "int64",
         "type": "integer"
        },
        {
         "name": "fp_466",
         "rawType": "int64",
         "type": "integer"
        },
        {
         "name": "fp_467",
         "rawType": "int64",
         "type": "integer"
        },
        {
         "name": "fp_468",
         "rawType": "int64",
         "type": "integer"
        },
        {
         "name": "fp_469",
         "rawType": "int64",
         "type": "integer"
        },
        {
         "name": "fp_470",
         "rawType": "int64",
         "type": "integer"
        },
        {
         "name": "fp_471",
         "rawType": "int64",
         "type": "integer"
        },
        {
         "name": "fp_472",
         "rawType": "int64",
         "type": "integer"
        },
        {
         "name": "fp_473",
         "rawType": "int64",
         "type": "integer"
        },
        {
         "name": "fp_474",
         "rawType": "int64",
         "type": "integer"
        },
        {
         "name": "fp_475",
         "rawType": "int64",
         "type": "integer"
        },
        {
         "name": "fp_476",
         "rawType": "int64",
         "type": "integer"
        },
        {
         "name": "fp_477",
         "rawType": "int64",
         "type": "integer"
        },
        {
         "name": "fp_478",
         "rawType": "int64",
         "type": "integer"
        },
        {
         "name": "fp_479",
         "rawType": "int64",
         "type": "integer"
        },
        {
         "name": "fp_480",
         "rawType": "int64",
         "type": "integer"
        },
        {
         "name": "fp_481",
         "rawType": "int64",
         "type": "integer"
        },
        {
         "name": "fp_482",
         "rawType": "int64",
         "type": "integer"
        },
        {
         "name": "fp_483",
         "rawType": "int64",
         "type": "integer"
        },
        {
         "name": "fp_484",
         "rawType": "int64",
         "type": "integer"
        },
        {
         "name": "fp_485",
         "rawType": "int64",
         "type": "integer"
        },
        {
         "name": "fp_486",
         "rawType": "int64",
         "type": "integer"
        },
        {
         "name": "fp_487",
         "rawType": "int64",
         "type": "integer"
        },
        {
         "name": "fp_488",
         "rawType": "int64",
         "type": "integer"
        },
        {
         "name": "fp_489",
         "rawType": "int64",
         "type": "integer"
        },
        {
         "name": "fp_490",
         "rawType": "int64",
         "type": "integer"
        },
        {
         "name": "fp_491",
         "rawType": "int64",
         "type": "integer"
        },
        {
         "name": "fp_492",
         "rawType": "int64",
         "type": "integer"
        },
        {
         "name": "fp_493",
         "rawType": "int64",
         "type": "integer"
        },
        {
         "name": "fp_494",
         "rawType": "int64",
         "type": "integer"
        },
        {
         "name": "fp_495",
         "rawType": "int64",
         "type": "integer"
        },
        {
         "name": "fp_496",
         "rawType": "int64",
         "type": "integer"
        },
        {
         "name": "fp_497",
         "rawType": "int64",
         "type": "integer"
        },
        {
         "name": "fp_498",
         "rawType": "int64",
         "type": "integer"
        },
        {
         "name": "fp_499",
         "rawType": "int64",
         "type": "integer"
        },
        {
         "name": "fp_500",
         "rawType": "int64",
         "type": "integer"
        },
        {
         "name": "fp_501",
         "rawType": "int64",
         "type": "integer"
        },
        {
         "name": "fp_502",
         "rawType": "int64",
         "type": "integer"
        },
        {
         "name": "fp_503",
         "rawType": "int64",
         "type": "integer"
        },
        {
         "name": "fp_504",
         "rawType": "int64",
         "type": "integer"
        },
        {
         "name": "fp_505",
         "rawType": "int64",
         "type": "integer"
        },
        {
         "name": "fp_506",
         "rawType": "int64",
         "type": "integer"
        },
        {
         "name": "fp_507",
         "rawType": "int64",
         "type": "integer"
        },
        {
         "name": "fp_508",
         "rawType": "int64",
         "type": "integer"
        },
        {
         "name": "fp_509",
         "rawType": "int64",
         "type": "integer"
        },
        {
         "name": "fp_510",
         "rawType": "int64",
         "type": "integer"
        },
        {
         "name": "fp_511",
         "rawType": "int64",
         "type": "integer"
        },
        {
         "name": "fp_512",
         "rawType": "int64",
         "type": "integer"
        },
        {
         "name": "fp_513",
         "rawType": "int64",
         "type": "integer"
        },
        {
         "name": "fp_514",
         "rawType": "int64",
         "type": "integer"
        },
        {
         "name": "fp_515",
         "rawType": "int64",
         "type": "integer"
        },
        {
         "name": "fp_516",
         "rawType": "int64",
         "type": "integer"
        },
        {
         "name": "fp_517",
         "rawType": "int64",
         "type": "integer"
        },
        {
         "name": "fp_518",
         "rawType": "int64",
         "type": "integer"
        },
        {
         "name": "fp_519",
         "rawType": "int64",
         "type": "integer"
        },
        {
         "name": "fp_520",
         "rawType": "int64",
         "type": "integer"
        },
        {
         "name": "fp_521",
         "rawType": "int64",
         "type": "integer"
        },
        {
         "name": "fp_522",
         "rawType": "int64",
         "type": "integer"
        },
        {
         "name": "fp_523",
         "rawType": "int64",
         "type": "integer"
        },
        {
         "name": "fp_524",
         "rawType": "int64",
         "type": "integer"
        },
        {
         "name": "fp_525",
         "rawType": "int64",
         "type": "integer"
        },
        {
         "name": "fp_526",
         "rawType": "int64",
         "type": "integer"
        },
        {
         "name": "fp_527",
         "rawType": "int64",
         "type": "integer"
        },
        {
         "name": "fp_528",
         "rawType": "int64",
         "type": "integer"
        },
        {
         "name": "fp_529",
         "rawType": "int64",
         "type": "integer"
        },
        {
         "name": "fp_530",
         "rawType": "int64",
         "type": "integer"
        },
        {
         "name": "fp_531",
         "rawType": "int64",
         "type": "integer"
        },
        {
         "name": "fp_532",
         "rawType": "int64",
         "type": "integer"
        },
        {
         "name": "fp_533",
         "rawType": "int64",
         "type": "integer"
        },
        {
         "name": "fp_534",
         "rawType": "int64",
         "type": "integer"
        },
        {
         "name": "fp_535",
         "rawType": "int64",
         "type": "integer"
        },
        {
         "name": "fp_536",
         "rawType": "int64",
         "type": "integer"
        },
        {
         "name": "fp_537",
         "rawType": "int64",
         "type": "integer"
        },
        {
         "name": "fp_538",
         "rawType": "int64",
         "type": "integer"
        },
        {
         "name": "fp_539",
         "rawType": "int64",
         "type": "integer"
        },
        {
         "name": "fp_540",
         "rawType": "int64",
         "type": "integer"
        },
        {
         "name": "fp_541",
         "rawType": "int64",
         "type": "integer"
        },
        {
         "name": "fp_542",
         "rawType": "int64",
         "type": "integer"
        },
        {
         "name": "fp_543",
         "rawType": "int64",
         "type": "integer"
        },
        {
         "name": "fp_544",
         "rawType": "int64",
         "type": "integer"
        },
        {
         "name": "fp_545",
         "rawType": "int64",
         "type": "integer"
        },
        {
         "name": "fp_546",
         "rawType": "int64",
         "type": "integer"
        },
        {
         "name": "fp_547",
         "rawType": "int64",
         "type": "integer"
        },
        {
         "name": "fp_548",
         "rawType": "int64",
         "type": "integer"
        },
        {
         "name": "fp_549",
         "rawType": "int64",
         "type": "integer"
        },
        {
         "name": "fp_550",
         "rawType": "int64",
         "type": "integer"
        },
        {
         "name": "fp_551",
         "rawType": "int64",
         "type": "integer"
        },
        {
         "name": "fp_552",
         "rawType": "int64",
         "type": "integer"
        },
        {
         "name": "fp_553",
         "rawType": "int64",
         "type": "integer"
        },
        {
         "name": "fp_554",
         "rawType": "int64",
         "type": "integer"
        },
        {
         "name": "fp_555",
         "rawType": "int64",
         "type": "integer"
        },
        {
         "name": "fp_556",
         "rawType": "int64",
         "type": "integer"
        },
        {
         "name": "fp_557",
         "rawType": "int64",
         "type": "integer"
        },
        {
         "name": "fp_558",
         "rawType": "int64",
         "type": "integer"
        },
        {
         "name": "fp_559",
         "rawType": "int64",
         "type": "integer"
        },
        {
         "name": "fp_560",
         "rawType": "int64",
         "type": "integer"
        },
        {
         "name": "fp_561",
         "rawType": "int64",
         "type": "integer"
        },
        {
         "name": "fp_562",
         "rawType": "int64",
         "type": "integer"
        },
        {
         "name": "fp_563",
         "rawType": "int64",
         "type": "integer"
        },
        {
         "name": "fp_564",
         "rawType": "int64",
         "type": "integer"
        },
        {
         "name": "fp_565",
         "rawType": "int64",
         "type": "integer"
        },
        {
         "name": "fp_566",
         "rawType": "int64",
         "type": "integer"
        },
        {
         "name": "fp_567",
         "rawType": "int64",
         "type": "integer"
        },
        {
         "name": "fp_568",
         "rawType": "int64",
         "type": "integer"
        },
        {
         "name": "fp_569",
         "rawType": "int64",
         "type": "integer"
        },
        {
         "name": "fp_570",
         "rawType": "int64",
         "type": "integer"
        },
        {
         "name": "fp_571",
         "rawType": "int64",
         "type": "integer"
        },
        {
         "name": "fp_572",
         "rawType": "int64",
         "type": "integer"
        },
        {
         "name": "fp_573",
         "rawType": "int64",
         "type": "integer"
        },
        {
         "name": "fp_574",
         "rawType": "int64",
         "type": "integer"
        },
        {
         "name": "fp_575",
         "rawType": "int64",
         "type": "integer"
        },
        {
         "name": "fp_576",
         "rawType": "int64",
         "type": "integer"
        },
        {
         "name": "fp_577",
         "rawType": "int64",
         "type": "integer"
        },
        {
         "name": "fp_578",
         "rawType": "int64",
         "type": "integer"
        },
        {
         "name": "fp_579",
         "rawType": "int64",
         "type": "integer"
        },
        {
         "name": "fp_580",
         "rawType": "int64",
         "type": "integer"
        },
        {
         "name": "fp_581",
         "rawType": "int64",
         "type": "integer"
        },
        {
         "name": "fp_582",
         "rawType": "int64",
         "type": "integer"
        },
        {
         "name": "fp_583",
         "rawType": "int64",
         "type": "integer"
        },
        {
         "name": "fp_584",
         "rawType": "int64",
         "type": "integer"
        },
        {
         "name": "fp_585",
         "rawType": "int64",
         "type": "integer"
        },
        {
         "name": "fp_586",
         "rawType": "int64",
         "type": "integer"
        },
        {
         "name": "fp_587",
         "rawType": "int64",
         "type": "integer"
        },
        {
         "name": "fp_588",
         "rawType": "int64",
         "type": "integer"
        },
        {
         "name": "fp_589",
         "rawType": "int64",
         "type": "integer"
        },
        {
         "name": "fp_590",
         "rawType": "int64",
         "type": "integer"
        },
        {
         "name": "fp_591",
         "rawType": "int64",
         "type": "integer"
        },
        {
         "name": "fp_592",
         "rawType": "int64",
         "type": "integer"
        },
        {
         "name": "fp_593",
         "rawType": "int64",
         "type": "integer"
        },
        {
         "name": "fp_594",
         "rawType": "int64",
         "type": "integer"
        },
        {
         "name": "fp_595",
         "rawType": "int64",
         "type": "integer"
        },
        {
         "name": "fp_596",
         "rawType": "int64",
         "type": "integer"
        },
        {
         "name": "fp_597",
         "rawType": "int64",
         "type": "integer"
        },
        {
         "name": "fp_598",
         "rawType": "int64",
         "type": "integer"
        },
        {
         "name": "fp_599",
         "rawType": "int64",
         "type": "integer"
        },
        {
         "name": "fp_600",
         "rawType": "int64",
         "type": "integer"
        },
        {
         "name": "fp_601",
         "rawType": "int64",
         "type": "integer"
        },
        {
         "name": "fp_602",
         "rawType": "int64",
         "type": "integer"
        },
        {
         "name": "fp_603",
         "rawType": "int64",
         "type": "integer"
        },
        {
         "name": "fp_604",
         "rawType": "int64",
         "type": "integer"
        },
        {
         "name": "fp_605",
         "rawType": "int64",
         "type": "integer"
        },
        {
         "name": "fp_606",
         "rawType": "int64",
         "type": "integer"
        },
        {
         "name": "fp_607",
         "rawType": "int64",
         "type": "integer"
        },
        {
         "name": "fp_608",
         "rawType": "int64",
         "type": "integer"
        },
        {
         "name": "fp_609",
         "rawType": "int64",
         "type": "integer"
        },
        {
         "name": "fp_610",
         "rawType": "int64",
         "type": "integer"
        },
        {
         "name": "fp_611",
         "rawType": "int64",
         "type": "integer"
        },
        {
         "name": "fp_612",
         "rawType": "int64",
         "type": "integer"
        },
        {
         "name": "fp_613",
         "rawType": "int64",
         "type": "integer"
        },
        {
         "name": "fp_614",
         "rawType": "int64",
         "type": "integer"
        },
        {
         "name": "fp_615",
         "rawType": "int64",
         "type": "integer"
        },
        {
         "name": "fp_616",
         "rawType": "int64",
         "type": "integer"
        },
        {
         "name": "fp_617",
         "rawType": "int64",
         "type": "integer"
        },
        {
         "name": "fp_618",
         "rawType": "int64",
         "type": "integer"
        },
        {
         "name": "fp_619",
         "rawType": "int64",
         "type": "integer"
        },
        {
         "name": "fp_620",
         "rawType": "int64",
         "type": "integer"
        },
        {
         "name": "fp_621",
         "rawType": "int64",
         "type": "integer"
        },
        {
         "name": "fp_622",
         "rawType": "int64",
         "type": "integer"
        },
        {
         "name": "fp_623",
         "rawType": "int64",
         "type": "integer"
        },
        {
         "name": "fp_624",
         "rawType": "int64",
         "type": "integer"
        },
        {
         "name": "fp_625",
         "rawType": "int64",
         "type": "integer"
        },
        {
         "name": "fp_626",
         "rawType": "int64",
         "type": "integer"
        },
        {
         "name": "fp_627",
         "rawType": "int64",
         "type": "integer"
        },
        {
         "name": "fp_628",
         "rawType": "int64",
         "type": "integer"
        },
        {
         "name": "fp_629",
         "rawType": "int64",
         "type": "integer"
        },
        {
         "name": "fp_630",
         "rawType": "int64",
         "type": "integer"
        },
        {
         "name": "fp_631",
         "rawType": "int64",
         "type": "integer"
        },
        {
         "name": "fp_632",
         "rawType": "int64",
         "type": "integer"
        },
        {
         "name": "fp_633",
         "rawType": "int64",
         "type": "integer"
        },
        {
         "name": "fp_634",
         "rawType": "int64",
         "type": "integer"
        },
        {
         "name": "fp_635",
         "rawType": "int64",
         "type": "integer"
        },
        {
         "name": "fp_636",
         "rawType": "int64",
         "type": "integer"
        },
        {
         "name": "fp_637",
         "rawType": "int64",
         "type": "integer"
        },
        {
         "name": "fp_638",
         "rawType": "int64",
         "type": "integer"
        },
        {
         "name": "fp_639",
         "rawType": "int64",
         "type": "integer"
        },
        {
         "name": "fp_640",
         "rawType": "int64",
         "type": "integer"
        },
        {
         "name": "fp_641",
         "rawType": "int64",
         "type": "integer"
        },
        {
         "name": "fp_642",
         "rawType": "int64",
         "type": "integer"
        },
        {
         "name": "fp_643",
         "rawType": "int64",
         "type": "integer"
        },
        {
         "name": "fp_644",
         "rawType": "int64",
         "type": "integer"
        },
        {
         "name": "fp_645",
         "rawType": "int64",
         "type": "integer"
        },
        {
         "name": "fp_646",
         "rawType": "int64",
         "type": "integer"
        },
        {
         "name": "fp_647",
         "rawType": "int64",
         "type": "integer"
        },
        {
         "name": "fp_648",
         "rawType": "int64",
         "type": "integer"
        },
        {
         "name": "fp_649",
         "rawType": "int64",
         "type": "integer"
        },
        {
         "name": "fp_650",
         "rawType": "int64",
         "type": "integer"
        },
        {
         "name": "fp_651",
         "rawType": "int64",
         "type": "integer"
        },
        {
         "name": "fp_652",
         "rawType": "int64",
         "type": "integer"
        },
        {
         "name": "fp_653",
         "rawType": "int64",
         "type": "integer"
        },
        {
         "name": "fp_654",
         "rawType": "int64",
         "type": "integer"
        },
        {
         "name": "fp_655",
         "rawType": "int64",
         "type": "integer"
        },
        {
         "name": "fp_656",
         "rawType": "int64",
         "type": "integer"
        },
        {
         "name": "fp_657",
         "rawType": "int64",
         "type": "integer"
        },
        {
         "name": "fp_658",
         "rawType": "int64",
         "type": "integer"
        },
        {
         "name": "fp_659",
         "rawType": "int64",
         "type": "integer"
        },
        {
         "name": "fp_660",
         "rawType": "int64",
         "type": "integer"
        },
        {
         "name": "fp_661",
         "rawType": "int64",
         "type": "integer"
        },
        {
         "name": "fp_662",
         "rawType": "int64",
         "type": "integer"
        },
        {
         "name": "fp_663",
         "rawType": "int64",
         "type": "integer"
        },
        {
         "name": "fp_664",
         "rawType": "int64",
         "type": "integer"
        },
        {
         "name": "fp_665",
         "rawType": "int64",
         "type": "integer"
        },
        {
         "name": "fp_666",
         "rawType": "int64",
         "type": "integer"
        },
        {
         "name": "fp_667",
         "rawType": "int64",
         "type": "integer"
        },
        {
         "name": "fp_668",
         "rawType": "int64",
         "type": "integer"
        },
        {
         "name": "fp_669",
         "rawType": "int64",
         "type": "integer"
        },
        {
         "name": "fp_670",
         "rawType": "int64",
         "type": "integer"
        },
        {
         "name": "fp_671",
         "rawType": "int64",
         "type": "integer"
        },
        {
         "name": "fp_672",
         "rawType": "int64",
         "type": "integer"
        },
        {
         "name": "fp_673",
         "rawType": "int64",
         "type": "integer"
        },
        {
         "name": "fp_674",
         "rawType": "int64",
         "type": "integer"
        },
        {
         "name": "fp_675",
         "rawType": "int64",
         "type": "integer"
        },
        {
         "name": "fp_676",
         "rawType": "int64",
         "type": "integer"
        },
        {
         "name": "fp_677",
         "rawType": "int64",
         "type": "integer"
        },
        {
         "name": "fp_678",
         "rawType": "int64",
         "type": "integer"
        },
        {
         "name": "fp_679",
         "rawType": "int64",
         "type": "integer"
        },
        {
         "name": "fp_680",
         "rawType": "int64",
         "type": "integer"
        },
        {
         "name": "fp_681",
         "rawType": "int64",
         "type": "integer"
        },
        {
         "name": "fp_682",
         "rawType": "int64",
         "type": "integer"
        },
        {
         "name": "fp_683",
         "rawType": "int64",
         "type": "integer"
        },
        {
         "name": "fp_684",
         "rawType": "int64",
         "type": "integer"
        },
        {
         "name": "fp_685",
         "rawType": "int64",
         "type": "integer"
        },
        {
         "name": "fp_686",
         "rawType": "int64",
         "type": "integer"
        },
        {
         "name": "fp_687",
         "rawType": "int64",
         "type": "integer"
        },
        {
         "name": "fp_688",
         "rawType": "int64",
         "type": "integer"
        },
        {
         "name": "fp_689",
         "rawType": "int64",
         "type": "integer"
        },
        {
         "name": "fp_690",
         "rawType": "int64",
         "type": "integer"
        },
        {
         "name": "fp_691",
         "rawType": "int64",
         "type": "integer"
        },
        {
         "name": "fp_692",
         "rawType": "int64",
         "type": "integer"
        },
        {
         "name": "fp_693",
         "rawType": "int64",
         "type": "integer"
        },
        {
         "name": "fp_694",
         "rawType": "int64",
         "type": "integer"
        },
        {
         "name": "fp_695",
         "rawType": "int64",
         "type": "integer"
        },
        {
         "name": "fp_696",
         "rawType": "int64",
         "type": "integer"
        },
        {
         "name": "fp_697",
         "rawType": "int64",
         "type": "integer"
        },
        {
         "name": "fp_698",
         "rawType": "int64",
         "type": "integer"
        },
        {
         "name": "fp_699",
         "rawType": "int64",
         "type": "integer"
        },
        {
         "name": "fp_700",
         "rawType": "int64",
         "type": "integer"
        },
        {
         "name": "fp_701",
         "rawType": "int64",
         "type": "integer"
        },
        {
         "name": "fp_702",
         "rawType": "int64",
         "type": "integer"
        },
        {
         "name": "fp_703",
         "rawType": "int64",
         "type": "integer"
        },
        {
         "name": "fp_704",
         "rawType": "int64",
         "type": "integer"
        },
        {
         "name": "fp_705",
         "rawType": "int64",
         "type": "integer"
        },
        {
         "name": "fp_706",
         "rawType": "int64",
         "type": "integer"
        },
        {
         "name": "fp_707",
         "rawType": "int64",
         "type": "integer"
        },
        {
         "name": "fp_708",
         "rawType": "int64",
         "type": "integer"
        },
        {
         "name": "fp_709",
         "rawType": "int64",
         "type": "integer"
        },
        {
         "name": "fp_710",
         "rawType": "int64",
         "type": "integer"
        },
        {
         "name": "fp_711",
         "rawType": "int64",
         "type": "integer"
        },
        {
         "name": "fp_712",
         "rawType": "int64",
         "type": "integer"
        },
        {
         "name": "fp_713",
         "rawType": "int64",
         "type": "integer"
        },
        {
         "name": "fp_714",
         "rawType": "int64",
         "type": "integer"
        },
        {
         "name": "fp_715",
         "rawType": "int64",
         "type": "integer"
        },
        {
         "name": "fp_716",
         "rawType": "int64",
         "type": "integer"
        },
        {
         "name": "fp_717",
         "rawType": "int64",
         "type": "integer"
        },
        {
         "name": "fp_718",
         "rawType": "int64",
         "type": "integer"
        },
        {
         "name": "fp_719",
         "rawType": "int64",
         "type": "integer"
        },
        {
         "name": "fp_720",
         "rawType": "int64",
         "type": "integer"
        },
        {
         "name": "fp_721",
         "rawType": "int64",
         "type": "integer"
        },
        {
         "name": "fp_722",
         "rawType": "int64",
         "type": "integer"
        },
        {
         "name": "fp_723",
         "rawType": "int64",
         "type": "integer"
        },
        {
         "name": "fp_724",
         "rawType": "int64",
         "type": "integer"
        },
        {
         "name": "fp_725",
         "rawType": "int64",
         "type": "integer"
        },
        {
         "name": "fp_726",
         "rawType": "int64",
         "type": "integer"
        },
        {
         "name": "fp_727",
         "rawType": "int64",
         "type": "integer"
        },
        {
         "name": "fp_728",
         "rawType": "int64",
         "type": "integer"
        },
        {
         "name": "fp_729",
         "rawType": "int64",
         "type": "integer"
        },
        {
         "name": "fp_730",
         "rawType": "int64",
         "type": "integer"
        },
        {
         "name": "fp_731",
         "rawType": "int64",
         "type": "integer"
        },
        {
         "name": "fp_732",
         "rawType": "int64",
         "type": "integer"
        },
        {
         "name": "fp_733",
         "rawType": "int64",
         "type": "integer"
        },
        {
         "name": "fp_734",
         "rawType": "int64",
         "type": "integer"
        },
        {
         "name": "fp_735",
         "rawType": "int64",
         "type": "integer"
        },
        {
         "name": "fp_736",
         "rawType": "int64",
         "type": "integer"
        },
        {
         "name": "fp_737",
         "rawType": "int64",
         "type": "integer"
        },
        {
         "name": "fp_738",
         "rawType": "int64",
         "type": "integer"
        },
        {
         "name": "fp_739",
         "rawType": "int64",
         "type": "integer"
        },
        {
         "name": "fp_740",
         "rawType": "int64",
         "type": "integer"
        },
        {
         "name": "fp_741",
         "rawType": "int64",
         "type": "integer"
        },
        {
         "name": "fp_742",
         "rawType": "int64",
         "type": "integer"
        },
        {
         "name": "fp_743",
         "rawType": "int64",
         "type": "integer"
        },
        {
         "name": "fp_744",
         "rawType": "int64",
         "type": "integer"
        },
        {
         "name": "fp_745",
         "rawType": "int64",
         "type": "integer"
        },
        {
         "name": "fp_746",
         "rawType": "int64",
         "type": "integer"
        },
        {
         "name": "fp_747",
         "rawType": "int64",
         "type": "integer"
        },
        {
         "name": "fp_748",
         "rawType": "int64",
         "type": "integer"
        },
        {
         "name": "fp_749",
         "rawType": "int64",
         "type": "integer"
        },
        {
         "name": "fp_750",
         "rawType": "int64",
         "type": "integer"
        },
        {
         "name": "fp_751",
         "rawType": "int64",
         "type": "integer"
        },
        {
         "name": "fp_752",
         "rawType": "int64",
         "type": "integer"
        },
        {
         "name": "fp_753",
         "rawType": "int64",
         "type": "integer"
        },
        {
         "name": "fp_754",
         "rawType": "int64",
         "type": "integer"
        },
        {
         "name": "fp_755",
         "rawType": "int64",
         "type": "integer"
        },
        {
         "name": "fp_756",
         "rawType": "int64",
         "type": "integer"
        },
        {
         "name": "fp_757",
         "rawType": "int64",
         "type": "integer"
        },
        {
         "name": "fp_758",
         "rawType": "int64",
         "type": "integer"
        },
        {
         "name": "fp_759",
         "rawType": "int64",
         "type": "integer"
        },
        {
         "name": "fp_760",
         "rawType": "int64",
         "type": "integer"
        },
        {
         "name": "fp_761",
         "rawType": "int64",
         "type": "integer"
        },
        {
         "name": "fp_762",
         "rawType": "int64",
         "type": "integer"
        },
        {
         "name": "fp_763",
         "rawType": "int64",
         "type": "integer"
        },
        {
         "name": "fp_764",
         "rawType": "int64",
         "type": "integer"
        },
        {
         "name": "fp_765",
         "rawType": "int64",
         "type": "integer"
        },
        {
         "name": "fp_766",
         "rawType": "int64",
         "type": "integer"
        },
        {
         "name": "fp_767",
         "rawType": "int64",
         "type": "integer"
        },
        {
         "name": "fp_768",
         "rawType": "int64",
         "type": "integer"
        },
        {
         "name": "fp_769",
         "rawType": "int64",
         "type": "integer"
        },
        {
         "name": "fp_770",
         "rawType": "int64",
         "type": "integer"
        },
        {
         "name": "fp_771",
         "rawType": "int64",
         "type": "integer"
        },
        {
         "name": "fp_772",
         "rawType": "int64",
         "type": "integer"
        },
        {
         "name": "fp_773",
         "rawType": "int64",
         "type": "integer"
        },
        {
         "name": "fp_774",
         "rawType": "int64",
         "type": "integer"
        },
        {
         "name": "fp_775",
         "rawType": "int64",
         "type": "integer"
        },
        {
         "name": "fp_776",
         "rawType": "int64",
         "type": "integer"
        },
        {
         "name": "fp_777",
         "rawType": "int64",
         "type": "integer"
        },
        {
         "name": "fp_778",
         "rawType": "int64",
         "type": "integer"
        },
        {
         "name": "fp_779",
         "rawType": "int64",
         "type": "integer"
        },
        {
         "name": "fp_780",
         "rawType": "int64",
         "type": "integer"
        },
        {
         "name": "fp_781",
         "rawType": "int64",
         "type": "integer"
        },
        {
         "name": "fp_782",
         "rawType": "int64",
         "type": "integer"
        },
        {
         "name": "fp_783",
         "rawType": "int64",
         "type": "integer"
        },
        {
         "name": "fp_784",
         "rawType": "int64",
         "type": "integer"
        },
        {
         "name": "fp_785",
         "rawType": "int64",
         "type": "integer"
        },
        {
         "name": "fp_786",
         "rawType": "int64",
         "type": "integer"
        },
        {
         "name": "fp_787",
         "rawType": "int64",
         "type": "integer"
        },
        {
         "name": "fp_788",
         "rawType": "int64",
         "type": "integer"
        },
        {
         "name": "fp_789",
         "rawType": "int64",
         "type": "integer"
        },
        {
         "name": "fp_790",
         "rawType": "int64",
         "type": "integer"
        },
        {
         "name": "fp_791",
         "rawType": "int64",
         "type": "integer"
        },
        {
         "name": "fp_792",
         "rawType": "int64",
         "type": "integer"
        },
        {
         "name": "fp_793",
         "rawType": "int64",
         "type": "integer"
        },
        {
         "name": "fp_794",
         "rawType": "int64",
         "type": "integer"
        },
        {
         "name": "fp_795",
         "rawType": "int64",
         "type": "integer"
        },
        {
         "name": "fp_796",
         "rawType": "int64",
         "type": "integer"
        },
        {
         "name": "fp_797",
         "rawType": "int64",
         "type": "integer"
        },
        {
         "name": "fp_798",
         "rawType": "int64",
         "type": "integer"
        },
        {
         "name": "fp_799",
         "rawType": "int64",
         "type": "integer"
        },
        {
         "name": "fp_800",
         "rawType": "int64",
         "type": "integer"
        },
        {
         "name": "fp_801",
         "rawType": "int64",
         "type": "integer"
        },
        {
         "name": "fp_802",
         "rawType": "int64",
         "type": "integer"
        },
        {
         "name": "fp_803",
         "rawType": "int64",
         "type": "integer"
        },
        {
         "name": "fp_804",
         "rawType": "int64",
         "type": "integer"
        },
        {
         "name": "fp_805",
         "rawType": "int64",
         "type": "integer"
        },
        {
         "name": "fp_806",
         "rawType": "int64",
         "type": "integer"
        },
        {
         "name": "fp_807",
         "rawType": "int64",
         "type": "integer"
        },
        {
         "name": "fp_808",
         "rawType": "int64",
         "type": "integer"
        },
        {
         "name": "fp_809",
         "rawType": "int64",
         "type": "integer"
        },
        {
         "name": "fp_810",
         "rawType": "int64",
         "type": "integer"
        },
        {
         "name": "fp_811",
         "rawType": "int64",
         "type": "integer"
        },
        {
         "name": "fp_812",
         "rawType": "int64",
         "type": "integer"
        },
        {
         "name": "fp_813",
         "rawType": "int64",
         "type": "integer"
        },
        {
         "name": "fp_814",
         "rawType": "int64",
         "type": "integer"
        },
        {
         "name": "fp_815",
         "rawType": "int64",
         "type": "integer"
        },
        {
         "name": "fp_816",
         "rawType": "int64",
         "type": "integer"
        },
        {
         "name": "fp_817",
         "rawType": "int64",
         "type": "integer"
        },
        {
         "name": "fp_818",
         "rawType": "int64",
         "type": "integer"
        },
        {
         "name": "fp_819",
         "rawType": "int64",
         "type": "integer"
        },
        {
         "name": "fp_820",
         "rawType": "int64",
         "type": "integer"
        },
        {
         "name": "fp_821",
         "rawType": "int64",
         "type": "integer"
        },
        {
         "name": "fp_822",
         "rawType": "int64",
         "type": "integer"
        },
        {
         "name": "fp_823",
         "rawType": "int64",
         "type": "integer"
        },
        {
         "name": "fp_824",
         "rawType": "int64",
         "type": "integer"
        },
        {
         "name": "fp_825",
         "rawType": "int64",
         "type": "integer"
        },
        {
         "name": "fp_826",
         "rawType": "int64",
         "type": "integer"
        },
        {
         "name": "fp_827",
         "rawType": "int64",
         "type": "integer"
        },
        {
         "name": "fp_828",
         "rawType": "int64",
         "type": "integer"
        },
        {
         "name": "fp_829",
         "rawType": "int64",
         "type": "integer"
        },
        {
         "name": "fp_830",
         "rawType": "int64",
         "type": "integer"
        },
        {
         "name": "fp_831",
         "rawType": "int64",
         "type": "integer"
        },
        {
         "name": "fp_832",
         "rawType": "int64",
         "type": "integer"
        },
        {
         "name": "fp_833",
         "rawType": "int64",
         "type": "integer"
        },
        {
         "name": "fp_834",
         "rawType": "int64",
         "type": "integer"
        },
        {
         "name": "fp_835",
         "rawType": "int64",
         "type": "integer"
        },
        {
         "name": "fp_836",
         "rawType": "int64",
         "type": "integer"
        },
        {
         "name": "fp_837",
         "rawType": "int64",
         "type": "integer"
        },
        {
         "name": "fp_838",
         "rawType": "int64",
         "type": "integer"
        },
        {
         "name": "fp_839",
         "rawType": "int64",
         "type": "integer"
        },
        {
         "name": "fp_840",
         "rawType": "int64",
         "type": "integer"
        },
        {
         "name": "fp_841",
         "rawType": "int64",
         "type": "integer"
        },
        {
         "name": "fp_842",
         "rawType": "int64",
         "type": "integer"
        },
        {
         "name": "fp_843",
         "rawType": "int64",
         "type": "integer"
        },
        {
         "name": "fp_844",
         "rawType": "int64",
         "type": "integer"
        },
        {
         "name": "fp_845",
         "rawType": "int64",
         "type": "integer"
        },
        {
         "name": "fp_846",
         "rawType": "int64",
         "type": "integer"
        },
        {
         "name": "fp_847",
         "rawType": "int64",
         "type": "integer"
        },
        {
         "name": "fp_848",
         "rawType": "int64",
         "type": "integer"
        },
        {
         "name": "fp_849",
         "rawType": "int64",
         "type": "integer"
        },
        {
         "name": "fp_850",
         "rawType": "int64",
         "type": "integer"
        },
        {
         "name": "fp_851",
         "rawType": "int64",
         "type": "integer"
        },
        {
         "name": "fp_852",
         "rawType": "int64",
         "type": "integer"
        },
        {
         "name": "fp_853",
         "rawType": "int64",
         "type": "integer"
        },
        {
         "name": "fp_854",
         "rawType": "int64",
         "type": "integer"
        },
        {
         "name": "fp_855",
         "rawType": "int64",
         "type": "integer"
        },
        {
         "name": "fp_856",
         "rawType": "int64",
         "type": "integer"
        },
        {
         "name": "fp_857",
         "rawType": "int64",
         "type": "integer"
        },
        {
         "name": "fp_858",
         "rawType": "int64",
         "type": "integer"
        },
        {
         "name": "fp_859",
         "rawType": "int64",
         "type": "integer"
        },
        {
         "name": "fp_860",
         "rawType": "int64",
         "type": "integer"
        },
        {
         "name": "fp_861",
         "rawType": "int64",
         "type": "integer"
        },
        {
         "name": "fp_862",
         "rawType": "int64",
         "type": "integer"
        },
        {
         "name": "fp_863",
         "rawType": "int64",
         "type": "integer"
        },
        {
         "name": "fp_864",
         "rawType": "int64",
         "type": "integer"
        },
        {
         "name": "fp_865",
         "rawType": "int64",
         "type": "integer"
        },
        {
         "name": "fp_866",
         "rawType": "int64",
         "type": "integer"
        },
        {
         "name": "fp_867",
         "rawType": "int64",
         "type": "integer"
        },
        {
         "name": "fp_868",
         "rawType": "int64",
         "type": "integer"
        },
        {
         "name": "fp_869",
         "rawType": "int64",
         "type": "integer"
        },
        {
         "name": "fp_870",
         "rawType": "int64",
         "type": "integer"
        },
        {
         "name": "fp_871",
         "rawType": "int64",
         "type": "integer"
        },
        {
         "name": "fp_872",
         "rawType": "int64",
         "type": "integer"
        },
        {
         "name": "fp_873",
         "rawType": "int64",
         "type": "integer"
        },
        {
         "name": "fp_874",
         "rawType": "int64",
         "type": "integer"
        },
        {
         "name": "fp_875",
         "rawType": "int64",
         "type": "integer"
        },
        {
         "name": "fp_876",
         "rawType": "int64",
         "type": "integer"
        },
        {
         "name": "fp_877",
         "rawType": "int64",
         "type": "integer"
        },
        {
         "name": "fp_878",
         "rawType": "int64",
         "type": "integer"
        },
        {
         "name": "fp_879",
         "rawType": "int64",
         "type": "integer"
        },
        {
         "name": "fp_880",
         "rawType": "int64",
         "type": "integer"
        },
        {
         "name": "fp_881",
         "rawType": "int64",
         "type": "integer"
        },
        {
         "name": "fp_882",
         "rawType": "int64",
         "type": "integer"
        },
        {
         "name": "fp_883",
         "rawType": "int64",
         "type": "integer"
        },
        {
         "name": "fp_884",
         "rawType": "int64",
         "type": "integer"
        },
        {
         "name": "fp_885",
         "rawType": "int64",
         "type": "integer"
        },
        {
         "name": "fp_886",
         "rawType": "int64",
         "type": "integer"
        },
        {
         "name": "fp_887",
         "rawType": "int64",
         "type": "integer"
        },
        {
         "name": "fp_888",
         "rawType": "int64",
         "type": "integer"
        },
        {
         "name": "fp_889",
         "rawType": "int64",
         "type": "integer"
        },
        {
         "name": "fp_890",
         "rawType": "int64",
         "type": "integer"
        },
        {
         "name": "fp_891",
         "rawType": "int64",
         "type": "integer"
        },
        {
         "name": "fp_892",
         "rawType": "int64",
         "type": "integer"
        },
        {
         "name": "fp_893",
         "rawType": "int64",
         "type": "integer"
        },
        {
         "name": "fp_894",
         "rawType": "int64",
         "type": "integer"
        },
        {
         "name": "fp_895",
         "rawType": "int64",
         "type": "integer"
        },
        {
         "name": "fp_896",
         "rawType": "int64",
         "type": "integer"
        },
        {
         "name": "fp_897",
         "rawType": "int64",
         "type": "integer"
        },
        {
         "name": "fp_898",
         "rawType": "int64",
         "type": "integer"
        },
        {
         "name": "fp_899",
         "rawType": "int64",
         "type": "integer"
        },
        {
         "name": "fp_900",
         "rawType": "int64",
         "type": "integer"
        },
        {
         "name": "fp_901",
         "rawType": "int64",
         "type": "integer"
        },
        {
         "name": "fp_902",
         "rawType": "int64",
         "type": "integer"
        },
        {
         "name": "fp_903",
         "rawType": "int64",
         "type": "integer"
        },
        {
         "name": "fp_904",
         "rawType": "int64",
         "type": "integer"
        },
        {
         "name": "fp_905",
         "rawType": "int64",
         "type": "integer"
        },
        {
         "name": "fp_906",
         "rawType": "int64",
         "type": "integer"
        },
        {
         "name": "fp_907",
         "rawType": "int64",
         "type": "integer"
        },
        {
         "name": "fp_908",
         "rawType": "int64",
         "type": "integer"
        },
        {
         "name": "fp_909",
         "rawType": "int64",
         "type": "integer"
        },
        {
         "name": "fp_910",
         "rawType": "int64",
         "type": "integer"
        },
        {
         "name": "fp_911",
         "rawType": "int64",
         "type": "integer"
        },
        {
         "name": "fp_912",
         "rawType": "int64",
         "type": "integer"
        },
        {
         "name": "fp_913",
         "rawType": "int64",
         "type": "integer"
        },
        {
         "name": "fp_914",
         "rawType": "int64",
         "type": "integer"
        },
        {
         "name": "fp_915",
         "rawType": "int64",
         "type": "integer"
        },
        {
         "name": "fp_916",
         "rawType": "int64",
         "type": "integer"
        },
        {
         "name": "fp_917",
         "rawType": "int64",
         "type": "integer"
        },
        {
         "name": "fp_918",
         "rawType": "int64",
         "type": "integer"
        },
        {
         "name": "fp_919",
         "rawType": "int64",
         "type": "integer"
        },
        {
         "name": "fp_920",
         "rawType": "int64",
         "type": "integer"
        },
        {
         "name": "fp_921",
         "rawType": "int64",
         "type": "integer"
        },
        {
         "name": "fp_922",
         "rawType": "int64",
         "type": "integer"
        },
        {
         "name": "fp_923",
         "rawType": "int64",
         "type": "integer"
        },
        {
         "name": "fp_924",
         "rawType": "int64",
         "type": "integer"
        },
        {
         "name": "fp_925",
         "rawType": "int64",
         "type": "integer"
        },
        {
         "name": "fp_926",
         "rawType": "int64",
         "type": "integer"
        },
        {
         "name": "fp_927",
         "rawType": "int64",
         "type": "integer"
        },
        {
         "name": "fp_928",
         "rawType": "int64",
         "type": "integer"
        },
        {
         "name": "fp_929",
         "rawType": "int64",
         "type": "integer"
        },
        {
         "name": "fp_930",
         "rawType": "int64",
         "type": "integer"
        },
        {
         "name": "fp_931",
         "rawType": "int64",
         "type": "integer"
        },
        {
         "name": "fp_932",
         "rawType": "int64",
         "type": "integer"
        },
        {
         "name": "fp_933",
         "rawType": "int64",
         "type": "integer"
        },
        {
         "name": "fp_934",
         "rawType": "int64",
         "type": "integer"
        },
        {
         "name": "fp_935",
         "rawType": "int64",
         "type": "integer"
        },
        {
         "name": "fp_936",
         "rawType": "int64",
         "type": "integer"
        },
        {
         "name": "fp_937",
         "rawType": "int64",
         "type": "integer"
        },
        {
         "name": "fp_938",
         "rawType": "int64",
         "type": "integer"
        },
        {
         "name": "fp_939",
         "rawType": "int64",
         "type": "integer"
        },
        {
         "name": "fp_940",
         "rawType": "int64",
         "type": "integer"
        },
        {
         "name": "fp_941",
         "rawType": "int64",
         "type": "integer"
        },
        {
         "name": "fp_942",
         "rawType": "int64",
         "type": "integer"
        },
        {
         "name": "fp_943",
         "rawType": "int64",
         "type": "integer"
        },
        {
         "name": "fp_944",
         "rawType": "int64",
         "type": "integer"
        },
        {
         "name": "fp_945",
         "rawType": "int64",
         "type": "integer"
        },
        {
         "name": "fp_946",
         "rawType": "int64",
         "type": "integer"
        },
        {
         "name": "fp_947",
         "rawType": "int64",
         "type": "integer"
        },
        {
         "name": "fp_948",
         "rawType": "int64",
         "type": "integer"
        },
        {
         "name": "fp_949",
         "rawType": "int64",
         "type": "integer"
        },
        {
         "name": "fp_950",
         "rawType": "int64",
         "type": "integer"
        },
        {
         "name": "fp_951",
         "rawType": "int64",
         "type": "integer"
        },
        {
         "name": "fp_952",
         "rawType": "int64",
         "type": "integer"
        },
        {
         "name": "fp_953",
         "rawType": "int64",
         "type": "integer"
        },
        {
         "name": "fp_954",
         "rawType": "int64",
         "type": "integer"
        },
        {
         "name": "fp_955",
         "rawType": "int64",
         "type": "integer"
        },
        {
         "name": "fp_956",
         "rawType": "int64",
         "type": "integer"
        },
        {
         "name": "fp_957",
         "rawType": "int64",
         "type": "integer"
        },
        {
         "name": "fp_958",
         "rawType": "int64",
         "type": "integer"
        },
        {
         "name": "fp_959",
         "rawType": "int64",
         "type": "integer"
        },
        {
         "name": "fp_960",
         "rawType": "int64",
         "type": "integer"
        },
        {
         "name": "fp_961",
         "rawType": "int64",
         "type": "integer"
        },
        {
         "name": "fp_962",
         "rawType": "int64",
         "type": "integer"
        },
        {
         "name": "fp_963",
         "rawType": "int64",
         "type": "integer"
        },
        {
         "name": "fp_964",
         "rawType": "int64",
         "type": "integer"
        },
        {
         "name": "fp_965",
         "rawType": "int64",
         "type": "integer"
        },
        {
         "name": "fp_966",
         "rawType": "int64",
         "type": "integer"
        },
        {
         "name": "fp_967",
         "rawType": "int64",
         "type": "integer"
        },
        {
         "name": "fp_968",
         "rawType": "int64",
         "type": "integer"
        },
        {
         "name": "fp_969",
         "rawType": "int64",
         "type": "integer"
        },
        {
         "name": "fp_970",
         "rawType": "int64",
         "type": "integer"
        },
        {
         "name": "fp_971",
         "rawType": "int64",
         "type": "integer"
        },
        {
         "name": "fp_972",
         "rawType": "int64",
         "type": "integer"
        },
        {
         "name": "fp_973",
         "rawType": "int64",
         "type": "integer"
        },
        {
         "name": "fp_974",
         "rawType": "int64",
         "type": "integer"
        },
        {
         "name": "fp_975",
         "rawType": "int64",
         "type": "integer"
        },
        {
         "name": "fp_976",
         "rawType": "int64",
         "type": "integer"
        },
        {
         "name": "fp_977",
         "rawType": "int64",
         "type": "integer"
        },
        {
         "name": "fp_978",
         "rawType": "int64",
         "type": "integer"
        },
        {
         "name": "fp_979",
         "rawType": "int64",
         "type": "integer"
        },
        {
         "name": "fp_980",
         "rawType": "int64",
         "type": "integer"
        },
        {
         "name": "fp_981",
         "rawType": "int64",
         "type": "integer"
        },
        {
         "name": "fp_982",
         "rawType": "int64",
         "type": "integer"
        },
        {
         "name": "fp_983",
         "rawType": "int64",
         "type": "integer"
        },
        {
         "name": "fp_984",
         "rawType": "int64",
         "type": "integer"
        },
        {
         "name": "fp_985",
         "rawType": "int64",
         "type": "integer"
        },
        {
         "name": "fp_986",
         "rawType": "int64",
         "type": "integer"
        },
        {
         "name": "fp_987",
         "rawType": "int64",
         "type": "integer"
        },
        {
         "name": "fp_988",
         "rawType": "int64",
         "type": "integer"
        },
        {
         "name": "fp_989",
         "rawType": "int64",
         "type": "integer"
        },
        {
         "name": "fp_990",
         "rawType": "int64",
         "type": "integer"
        },
        {
         "name": "fp_991",
         "rawType": "int64",
         "type": "integer"
        },
        {
         "name": "fp_992",
         "rawType": "int64",
         "type": "integer"
        },
        {
         "name": "fp_993",
         "rawType": "int64",
         "type": "integer"
        },
        {
         "name": "fp_994",
         "rawType": "int64",
         "type": "integer"
        },
        {
         "name": "fp_995",
         "rawType": "int64",
         "type": "integer"
        },
        {
         "name": "fp_996",
         "rawType": "int64",
         "type": "integer"
        },
        {
         "name": "fp_997",
         "rawType": "int64",
         "type": "integer"
        },
        {
         "name": "fp_998",
         "rawType": "int64",
         "type": "integer"
        },
        {
         "name": "fp_999",
         "rawType": "int64",
         "type": "integer"
        },
        {
         "name": "fp_1000",
         "rawType": "int64",
         "type": "integer"
        },
        {
         "name": "fp_1001",
         "rawType": "int64",
         "type": "integer"
        },
        {
         "name": "fp_1002",
         "rawType": "int64",
         "type": "integer"
        },
        {
         "name": "fp_1003",
         "rawType": "int64",
         "type": "integer"
        },
        {
         "name": "fp_1004",
         "rawType": "int64",
         "type": "integer"
        },
        {
         "name": "fp_1005",
         "rawType": "int64",
         "type": "integer"
        },
        {
         "name": "fp_1006",
         "rawType": "int64",
         "type": "integer"
        },
        {
         "name": "fp_1007",
         "rawType": "int64",
         "type": "integer"
        },
        {
         "name": "fp_1008",
         "rawType": "int64",
         "type": "integer"
        },
        {
         "name": "fp_1009",
         "rawType": "int64",
         "type": "integer"
        },
        {
         "name": "fp_1010",
         "rawType": "int64",
         "type": "integer"
        },
        {
         "name": "fp_1011",
         "rawType": "int64",
         "type": "integer"
        },
        {
         "name": "fp_1012",
         "rawType": "int64",
         "type": "integer"
        },
        {
         "name": "fp_1013",
         "rawType": "int64",
         "type": "integer"
        },
        {
         "name": "fp_1014",
         "rawType": "int64",
         "type": "integer"
        },
        {
         "name": "fp_1015",
         "rawType": "int64",
         "type": "integer"
        },
        {
         "name": "fp_1016",
         "rawType": "int64",
         "type": "integer"
        },
        {
         "name": "fp_1017",
         "rawType": "int64",
         "type": "integer"
        },
        {
         "name": "fp_1018",
         "rawType": "int64",
         "type": "integer"
        },
        {
         "name": "fp_1019",
         "rawType": "int64",
         "type": "integer"
        },
        {
         "name": "fp_1020",
         "rawType": "int64",
         "type": "integer"
        },
        {
         "name": "fp_1021",
         "rawType": "int64",
         "type": "integer"
        },
        {
         "name": "fp_1022",
         "rawType": "int64",
         "type": "integer"
        },
        {
         "name": "fp_1023",
         "rawType": "int64",
         "type": "integer"
        },
        {
         "name": "fp_1024",
         "rawType": "int64",
         "type": "integer"
        },
        {
         "name": "fp_1025",
         "rawType": "int64",
         "type": "integer"
        },
        {
         "name": "fp_1026",
         "rawType": "int64",
         "type": "integer"
        },
        {
         "name": "fp_1027",
         "rawType": "int64",
         "type": "integer"
        },
        {
         "name": "fp_1028",
         "rawType": "int64",
         "type": "integer"
        },
        {
         "name": "fp_1029",
         "rawType": "int64",
         "type": "integer"
        },
        {
         "name": "fp_1030",
         "rawType": "int64",
         "type": "integer"
        },
        {
         "name": "fp_1031",
         "rawType": "int64",
         "type": "integer"
        },
        {
         "name": "fp_1032",
         "rawType": "int64",
         "type": "integer"
        },
        {
         "name": "fp_1033",
         "rawType": "int64",
         "type": "integer"
        },
        {
         "name": "fp_1034",
         "rawType": "int64",
         "type": "integer"
        },
        {
         "name": "fp_1035",
         "rawType": "int64",
         "type": "integer"
        },
        {
         "name": "fp_1036",
         "rawType": "int64",
         "type": "integer"
        },
        {
         "name": "fp_1037",
         "rawType": "int64",
         "type": "integer"
        },
        {
         "name": "fp_1038",
         "rawType": "int64",
         "type": "integer"
        },
        {
         "name": "fp_1039",
         "rawType": "int64",
         "type": "integer"
        },
        {
         "name": "fp_1040",
         "rawType": "int64",
         "type": "integer"
        },
        {
         "name": "fp_1041",
         "rawType": "int64",
         "type": "integer"
        },
        {
         "name": "fp_1042",
         "rawType": "int64",
         "type": "integer"
        },
        {
         "name": "fp_1043",
         "rawType": "int64",
         "type": "integer"
        },
        {
         "name": "fp_1044",
         "rawType": "int64",
         "type": "integer"
        },
        {
         "name": "fp_1045",
         "rawType": "int64",
         "type": "integer"
        },
        {
         "name": "fp_1046",
         "rawType": "int64",
         "type": "integer"
        },
        {
         "name": "fp_1047",
         "rawType": "int64",
         "type": "integer"
        },
        {
         "name": "fp_1048",
         "rawType": "int64",
         "type": "integer"
        },
        {
         "name": "fp_1049",
         "rawType": "int64",
         "type": "integer"
        },
        {
         "name": "fp_1050",
         "rawType": "int64",
         "type": "integer"
        },
        {
         "name": "fp_1051",
         "rawType": "int64",
         "type": "integer"
        },
        {
         "name": "fp_1052",
         "rawType": "int64",
         "type": "integer"
        },
        {
         "name": "fp_1053",
         "rawType": "int64",
         "type": "integer"
        },
        {
         "name": "fp_1054",
         "rawType": "int64",
         "type": "integer"
        },
        {
         "name": "fp_1055",
         "rawType": "int64",
         "type": "integer"
        },
        {
         "name": "fp_1056",
         "rawType": "int64",
         "type": "integer"
        },
        {
         "name": "fp_1057",
         "rawType": "int64",
         "type": "integer"
        },
        {
         "name": "fp_1058",
         "rawType": "int64",
         "type": "integer"
        },
        {
         "name": "fp_1059",
         "rawType": "int64",
         "type": "integer"
        },
        {
         "name": "fp_1060",
         "rawType": "int64",
         "type": "integer"
        },
        {
         "name": "fp_1061",
         "rawType": "int64",
         "type": "integer"
        },
        {
         "name": "fp_1062",
         "rawType": "int64",
         "type": "integer"
        },
        {
         "name": "fp_1063",
         "rawType": "int64",
         "type": "integer"
        },
        {
         "name": "fp_1064",
         "rawType": "int64",
         "type": "integer"
        },
        {
         "name": "fp_1065",
         "rawType": "int64",
         "type": "integer"
        },
        {
         "name": "fp_1066",
         "rawType": "int64",
         "type": "integer"
        },
        {
         "name": "fp_1067",
         "rawType": "int64",
         "type": "integer"
        },
        {
         "name": "fp_1068",
         "rawType": "int64",
         "type": "integer"
        },
        {
         "name": "fp_1069",
         "rawType": "int64",
         "type": "integer"
        },
        {
         "name": "fp_1070",
         "rawType": "int64",
         "type": "integer"
        },
        {
         "name": "fp_1071",
         "rawType": "int64",
         "type": "integer"
        },
        {
         "name": "fp_1072",
         "rawType": "int64",
         "type": "integer"
        },
        {
         "name": "fp_1073",
         "rawType": "int64",
         "type": "integer"
        },
        {
         "name": "fp_1074",
         "rawType": "int64",
         "type": "integer"
        },
        {
         "name": "fp_1075",
         "rawType": "int64",
         "type": "integer"
        },
        {
         "name": "fp_1076",
         "rawType": "int64",
         "type": "integer"
        },
        {
         "name": "fp_1077",
         "rawType": "int64",
         "type": "integer"
        },
        {
         "name": "fp_1078",
         "rawType": "int64",
         "type": "integer"
        },
        {
         "name": "fp_1079",
         "rawType": "int64",
         "type": "integer"
        },
        {
         "name": "fp_1080",
         "rawType": "int64",
         "type": "integer"
        },
        {
         "name": "fp_1081",
         "rawType": "int64",
         "type": "integer"
        },
        {
         "name": "fp_1082",
         "rawType": "int64",
         "type": "integer"
        },
        {
         "name": "fp_1083",
         "rawType": "int64",
         "type": "integer"
        },
        {
         "name": "fp_1084",
         "rawType": "int64",
         "type": "integer"
        },
        {
         "name": "fp_1085",
         "rawType": "int64",
         "type": "integer"
        },
        {
         "name": "fp_1086",
         "rawType": "int64",
         "type": "integer"
        },
        {
         "name": "fp_1087",
         "rawType": "int64",
         "type": "integer"
        },
        {
         "name": "fp_1088",
         "rawType": "int64",
         "type": "integer"
        },
        {
         "name": "fp_1089",
         "rawType": "int64",
         "type": "integer"
        },
        {
         "name": "fp_1090",
         "rawType": "int64",
         "type": "integer"
        },
        {
         "name": "fp_1091",
         "rawType": "int64",
         "type": "integer"
        },
        {
         "name": "fp_1092",
         "rawType": "int64",
         "type": "integer"
        },
        {
         "name": "fp_1093",
         "rawType": "int64",
         "type": "integer"
        },
        {
         "name": "fp_1094",
         "rawType": "int64",
         "type": "integer"
        },
        {
         "name": "fp_1095",
         "rawType": "int64",
         "type": "integer"
        },
        {
         "name": "fp_1096",
         "rawType": "int64",
         "type": "integer"
        },
        {
         "name": "fp_1097",
         "rawType": "int64",
         "type": "integer"
        },
        {
         "name": "fp_1098",
         "rawType": "int64",
         "type": "integer"
        },
        {
         "name": "fp_1099",
         "rawType": "int64",
         "type": "integer"
        },
        {
         "name": "fp_1100",
         "rawType": "int64",
         "type": "integer"
        },
        {
         "name": "fp_1101",
         "rawType": "int64",
         "type": "integer"
        },
        {
         "name": "fp_1102",
         "rawType": "int64",
         "type": "integer"
        },
        {
         "name": "fp_1103",
         "rawType": "int64",
         "type": "integer"
        },
        {
         "name": "fp_1104",
         "rawType": "int64",
         "type": "integer"
        },
        {
         "name": "fp_1105",
         "rawType": "int64",
         "type": "integer"
        },
        {
         "name": "fp_1106",
         "rawType": "int64",
         "type": "integer"
        },
        {
         "name": "fp_1107",
         "rawType": "int64",
         "type": "integer"
        },
        {
         "name": "fp_1108",
         "rawType": "int64",
         "type": "integer"
        },
        {
         "name": "fp_1109",
         "rawType": "int64",
         "type": "integer"
        },
        {
         "name": "fp_1110",
         "rawType": "int64",
         "type": "integer"
        },
        {
         "name": "fp_1111",
         "rawType": "int64",
         "type": "integer"
        },
        {
         "name": "fp_1112",
         "rawType": "int64",
         "type": "integer"
        },
        {
         "name": "fp_1113",
         "rawType": "int64",
         "type": "integer"
        },
        {
         "name": "fp_1114",
         "rawType": "int64",
         "type": "integer"
        },
        {
         "name": "fp_1115",
         "rawType": "int64",
         "type": "integer"
        },
        {
         "name": "fp_1116",
         "rawType": "int64",
         "type": "integer"
        },
        {
         "name": "fp_1117",
         "rawType": "int64",
         "type": "integer"
        },
        {
         "name": "fp_1118",
         "rawType": "int64",
         "type": "integer"
        },
        {
         "name": "fp_1119",
         "rawType": "int64",
         "type": "integer"
        },
        {
         "name": "fp_1120",
         "rawType": "int64",
         "type": "integer"
        },
        {
         "name": "fp_1121",
         "rawType": "int64",
         "type": "integer"
        },
        {
         "name": "fp_1122",
         "rawType": "int64",
         "type": "integer"
        },
        {
         "name": "fp_1123",
         "rawType": "int64",
         "type": "integer"
        },
        {
         "name": "fp_1124",
         "rawType": "int64",
         "type": "integer"
        },
        {
         "name": "fp_1125",
         "rawType": "int64",
         "type": "integer"
        },
        {
         "name": "fp_1126",
         "rawType": "int64",
         "type": "integer"
        },
        {
         "name": "fp_1127",
         "rawType": "int64",
         "type": "integer"
        },
        {
         "name": "fp_1128",
         "rawType": "int64",
         "type": "integer"
        },
        {
         "name": "fp_1129",
         "rawType": "int64",
         "type": "integer"
        },
        {
         "name": "fp_1130",
         "rawType": "int64",
         "type": "integer"
        },
        {
         "name": "fp_1131",
         "rawType": "int64",
         "type": "integer"
        },
        {
         "name": "fp_1132",
         "rawType": "int64",
         "type": "integer"
        },
        {
         "name": "fp_1133",
         "rawType": "int64",
         "type": "integer"
        },
        {
         "name": "fp_1134",
         "rawType": "int64",
         "type": "integer"
        },
        {
         "name": "fp_1135",
         "rawType": "int64",
         "type": "integer"
        },
        {
         "name": "fp_1136",
         "rawType": "int64",
         "type": "integer"
        },
        {
         "name": "fp_1137",
         "rawType": "int64",
         "type": "integer"
        },
        {
         "name": "fp_1138",
         "rawType": "int64",
         "type": "integer"
        },
        {
         "name": "fp_1139",
         "rawType": "int64",
         "type": "integer"
        },
        {
         "name": "fp_1140",
         "rawType": "int64",
         "type": "integer"
        },
        {
         "name": "fp_1141",
         "rawType": "int64",
         "type": "integer"
        },
        {
         "name": "fp_1142",
         "rawType": "int64",
         "type": "integer"
        },
        {
         "name": "fp_1143",
         "rawType": "int64",
         "type": "integer"
        },
        {
         "name": "fp_1144",
         "rawType": "int64",
         "type": "integer"
        },
        {
         "name": "fp_1145",
         "rawType": "int64",
         "type": "integer"
        },
        {
         "name": "fp_1146",
         "rawType": "int64",
         "type": "integer"
        },
        {
         "name": "fp_1147",
         "rawType": "int64",
         "type": "integer"
        },
        {
         "name": "fp_1148",
         "rawType": "int64",
         "type": "integer"
        },
        {
         "name": "fp_1149",
         "rawType": "int64",
         "type": "integer"
        },
        {
         "name": "fp_1150",
         "rawType": "int64",
         "type": "integer"
        },
        {
         "name": "fp_1151",
         "rawType": "int64",
         "type": "integer"
        },
        {
         "name": "fp_1152",
         "rawType": "int64",
         "type": "integer"
        },
        {
         "name": "fp_1153",
         "rawType": "int64",
         "type": "integer"
        },
        {
         "name": "fp_1154",
         "rawType": "int64",
         "type": "integer"
        },
        {
         "name": "fp_1155",
         "rawType": "int64",
         "type": "integer"
        },
        {
         "name": "fp_1156",
         "rawType": "int64",
         "type": "integer"
        },
        {
         "name": "fp_1157",
         "rawType": "int64",
         "type": "integer"
        },
        {
         "name": "fp_1158",
         "rawType": "int64",
         "type": "integer"
        },
        {
         "name": "fp_1159",
         "rawType": "int64",
         "type": "integer"
        },
        {
         "name": "fp_1160",
         "rawType": "int64",
         "type": "integer"
        },
        {
         "name": "fp_1161",
         "rawType": "int64",
         "type": "integer"
        },
        {
         "name": "fp_1162",
         "rawType": "int64",
         "type": "integer"
        },
        {
         "name": "fp_1163",
         "rawType": "int64",
         "type": "integer"
        },
        {
         "name": "fp_1164",
         "rawType": "int64",
         "type": "integer"
        },
        {
         "name": "fp_1165",
         "rawType": "int64",
         "type": "integer"
        },
        {
         "name": "fp_1166",
         "rawType": "int64",
         "type": "integer"
        },
        {
         "name": "fp_1167",
         "rawType": "int64",
         "type": "integer"
        },
        {
         "name": "fp_1168",
         "rawType": "int64",
         "type": "integer"
        },
        {
         "name": "fp_1169",
         "rawType": "int64",
         "type": "integer"
        },
        {
         "name": "fp_1170",
         "rawType": "int64",
         "type": "integer"
        },
        {
         "name": "fp_1171",
         "rawType": "int64",
         "type": "integer"
        },
        {
         "name": "fp_1172",
         "rawType": "int64",
         "type": "integer"
        },
        {
         "name": "fp_1173",
         "rawType": "int64",
         "type": "integer"
        },
        {
         "name": "fp_1174",
         "rawType": "int64",
         "type": "integer"
        },
        {
         "name": "fp_1175",
         "rawType": "int64",
         "type": "integer"
        },
        {
         "name": "fp_1176",
         "rawType": "int64",
         "type": "integer"
        },
        {
         "name": "fp_1177",
         "rawType": "int64",
         "type": "integer"
        },
        {
         "name": "fp_1178",
         "rawType": "int64",
         "type": "integer"
        },
        {
         "name": "fp_1179",
         "rawType": "int64",
         "type": "integer"
        },
        {
         "name": "fp_1180",
         "rawType": "int64",
         "type": "integer"
        },
        {
         "name": "fp_1181",
         "rawType": "int64",
         "type": "integer"
        },
        {
         "name": "fp_1182",
         "rawType": "int64",
         "type": "integer"
        },
        {
         "name": "fp_1183",
         "rawType": "int64",
         "type": "integer"
        },
        {
         "name": "fp_1184",
         "rawType": "int64",
         "type": "integer"
        },
        {
         "name": "fp_1185",
         "rawType": "int64",
         "type": "integer"
        },
        {
         "name": "fp_1186",
         "rawType": "int64",
         "type": "integer"
        },
        {
         "name": "fp_1187",
         "rawType": "int64",
         "type": "integer"
        },
        {
         "name": "fp_1188",
         "rawType": "int64",
         "type": "integer"
        },
        {
         "name": "fp_1189",
         "rawType": "int64",
         "type": "integer"
        },
        {
         "name": "fp_1190",
         "rawType": "int64",
         "type": "integer"
        },
        {
         "name": "fp_1191",
         "rawType": "int64",
         "type": "integer"
        },
        {
         "name": "fp_1192",
         "rawType": "int64",
         "type": "integer"
        },
        {
         "name": "fp_1193",
         "rawType": "int64",
         "type": "integer"
        },
        {
         "name": "fp_1194",
         "rawType": "int64",
         "type": "integer"
        },
        {
         "name": "fp_1195",
         "rawType": "int64",
         "type": "integer"
        },
        {
         "name": "fp_1196",
         "rawType": "int64",
         "type": "integer"
        },
        {
         "name": "fp_1197",
         "rawType": "int64",
         "type": "integer"
        },
        {
         "name": "fp_1198",
         "rawType": "int64",
         "type": "integer"
        },
        {
         "name": "fp_1199",
         "rawType": "int64",
         "type": "integer"
        },
        {
         "name": "fp_1200",
         "rawType": "int64",
         "type": "integer"
        },
        {
         "name": "fp_1201",
         "rawType": "int64",
         "type": "integer"
        },
        {
         "name": "fp_1202",
         "rawType": "int64",
         "type": "integer"
        },
        {
         "name": "fp_1203",
         "rawType": "int64",
         "type": "integer"
        },
        {
         "name": "fp_1204",
         "rawType": "int64",
         "type": "integer"
        },
        {
         "name": "fp_1205",
         "rawType": "int64",
         "type": "integer"
        },
        {
         "name": "fp_1206",
         "rawType": "int64",
         "type": "integer"
        },
        {
         "name": "fp_1207",
         "rawType": "int64",
         "type": "integer"
        },
        {
         "name": "fp_1208",
         "rawType": "int64",
         "type": "integer"
        },
        {
         "name": "fp_1209",
         "rawType": "int64",
         "type": "integer"
        },
        {
         "name": "fp_1210",
         "rawType": "int64",
         "type": "integer"
        },
        {
         "name": "fp_1211",
         "rawType": "int64",
         "type": "integer"
        },
        {
         "name": "fp_1212",
         "rawType": "int64",
         "type": "integer"
        },
        {
         "name": "fp_1213",
         "rawType": "int64",
         "type": "integer"
        },
        {
         "name": "fp_1214",
         "rawType": "int64",
         "type": "integer"
        },
        {
         "name": "fp_1215",
         "rawType": "int64",
         "type": "integer"
        },
        {
         "name": "fp_1216",
         "rawType": "int64",
         "type": "integer"
        },
        {
         "name": "fp_1217",
         "rawType": "int64",
         "type": "integer"
        },
        {
         "name": "fp_1218",
         "rawType": "int64",
         "type": "integer"
        },
        {
         "name": "fp_1219",
         "rawType": "int64",
         "type": "integer"
        },
        {
         "name": "fp_1220",
         "rawType": "int64",
         "type": "integer"
        },
        {
         "name": "fp_1221",
         "rawType": "int64",
         "type": "integer"
        },
        {
         "name": "fp_1222",
         "rawType": "int64",
         "type": "integer"
        },
        {
         "name": "fp_1223",
         "rawType": "int64",
         "type": "integer"
        },
        {
         "name": "fp_1224",
         "rawType": "int64",
         "type": "integer"
        },
        {
         "name": "fp_1225",
         "rawType": "int64",
         "type": "integer"
        },
        {
         "name": "fp_1226",
         "rawType": "int64",
         "type": "integer"
        },
        {
         "name": "fp_1227",
         "rawType": "int64",
         "type": "integer"
        },
        {
         "name": "fp_1228",
         "rawType": "int64",
         "type": "integer"
        },
        {
         "name": "fp_1229",
         "rawType": "int64",
         "type": "integer"
        },
        {
         "name": "fp_1230",
         "rawType": "int64",
         "type": "integer"
        },
        {
         "name": "fp_1231",
         "rawType": "int64",
         "type": "integer"
        },
        {
         "name": "fp_1232",
         "rawType": "int64",
         "type": "integer"
        },
        {
         "name": "fp_1233",
         "rawType": "int64",
         "type": "integer"
        },
        {
         "name": "fp_1234",
         "rawType": "int64",
         "type": "integer"
        },
        {
         "name": "fp_1235",
         "rawType": "int64",
         "type": "integer"
        },
        {
         "name": "fp_1236",
         "rawType": "int64",
         "type": "integer"
        },
        {
         "name": "fp_1237",
         "rawType": "int64",
         "type": "integer"
        },
        {
         "name": "fp_1238",
         "rawType": "int64",
         "type": "integer"
        },
        {
         "name": "fp_1239",
         "rawType": "int64",
         "type": "integer"
        },
        {
         "name": "fp_1240",
         "rawType": "int64",
         "type": "integer"
        },
        {
         "name": "fp_1241",
         "rawType": "int64",
         "type": "integer"
        },
        {
         "name": "fp_1242",
         "rawType": "int64",
         "type": "integer"
        },
        {
         "name": "fp_1243",
         "rawType": "int64",
         "type": "integer"
        },
        {
         "name": "fp_1244",
         "rawType": "int64",
         "type": "integer"
        },
        {
         "name": "fp_1245",
         "rawType": "int64",
         "type": "integer"
        },
        {
         "name": "fp_1246",
         "rawType": "int64",
         "type": "integer"
        },
        {
         "name": "fp_1247",
         "rawType": "int64",
         "type": "integer"
        },
        {
         "name": "fp_1248",
         "rawType": "int64",
         "type": "integer"
        },
        {
         "name": "fp_1249",
         "rawType": "int64",
         "type": "integer"
        },
        {
         "name": "fp_1250",
         "rawType": "int64",
         "type": "integer"
        },
        {
         "name": "fp_1251",
         "rawType": "int64",
         "type": "integer"
        },
        {
         "name": "fp_1252",
         "rawType": "int64",
         "type": "integer"
        },
        {
         "name": "fp_1253",
         "rawType": "int64",
         "type": "integer"
        },
        {
         "name": "fp_1254",
         "rawType": "int64",
         "type": "integer"
        },
        {
         "name": "fp_1255",
         "rawType": "int64",
         "type": "integer"
        },
        {
         "name": "fp_1256",
         "rawType": "int64",
         "type": "integer"
        },
        {
         "name": "fp_1257",
         "rawType": "int64",
         "type": "integer"
        },
        {
         "name": "fp_1258",
         "rawType": "int64",
         "type": "integer"
        },
        {
         "name": "fp_1259",
         "rawType": "int64",
         "type": "integer"
        },
        {
         "name": "fp_1260",
         "rawType": "int64",
         "type": "integer"
        },
        {
         "name": "fp_1261",
         "rawType": "int64",
         "type": "integer"
        },
        {
         "name": "fp_1262",
         "rawType": "int64",
         "type": "integer"
        },
        {
         "name": "fp_1263",
         "rawType": "int64",
         "type": "integer"
        },
        {
         "name": "fp_1264",
         "rawType": "int64",
         "type": "integer"
        },
        {
         "name": "fp_1265",
         "rawType": "int64",
         "type": "integer"
        },
        {
         "name": "fp_1266",
         "rawType": "int64",
         "type": "integer"
        },
        {
         "name": "fp_1267",
         "rawType": "int64",
         "type": "integer"
        },
        {
         "name": "fp_1268",
         "rawType": "int64",
         "type": "integer"
        },
        {
         "name": "fp_1269",
         "rawType": "int64",
         "type": "integer"
        },
        {
         "name": "fp_1270",
         "rawType": "int64",
         "type": "integer"
        },
        {
         "name": "fp_1271",
         "rawType": "int64",
         "type": "integer"
        },
        {
         "name": "fp_1272",
         "rawType": "int64",
         "type": "integer"
        },
        {
         "name": "fp_1273",
         "rawType": "int64",
         "type": "integer"
        },
        {
         "name": "fp_1274",
         "rawType": "int64",
         "type": "integer"
        },
        {
         "name": "fp_1275",
         "rawType": "int64",
         "type": "integer"
        },
        {
         "name": "fp_1276",
         "rawType": "int64",
         "type": "integer"
        },
        {
         "name": "fp_1277",
         "rawType": "int64",
         "type": "integer"
        },
        {
         "name": "fp_1278",
         "rawType": "int64",
         "type": "integer"
        },
        {
         "name": "fp_1279",
         "rawType": "int64",
         "type": "integer"
        },
        {
         "name": "fp_1280",
         "rawType": "int64",
         "type": "integer"
        },
        {
         "name": "fp_1281",
         "rawType": "int64",
         "type": "integer"
        },
        {
         "name": "fp_1282",
         "rawType": "int64",
         "type": "integer"
        },
        {
         "name": "fp_1283",
         "rawType": "int64",
         "type": "integer"
        },
        {
         "name": "fp_1284",
         "rawType": "int64",
         "type": "integer"
        },
        {
         "name": "fp_1285",
         "rawType": "int64",
         "type": "integer"
        },
        {
         "name": "fp_1286",
         "rawType": "int64",
         "type": "integer"
        },
        {
         "name": "fp_1287",
         "rawType": "int64",
         "type": "integer"
        },
        {
         "name": "fp_1288",
         "rawType": "int64",
         "type": "integer"
        },
        {
         "name": "fp_1289",
         "rawType": "int64",
         "type": "integer"
        },
        {
         "name": "fp_1290",
         "rawType": "int64",
         "type": "integer"
        },
        {
         "name": "fp_1291",
         "rawType": "int64",
         "type": "integer"
        },
        {
         "name": "fp_1292",
         "rawType": "int64",
         "type": "integer"
        },
        {
         "name": "fp_1293",
         "rawType": "int64",
         "type": "integer"
        },
        {
         "name": "fp_1294",
         "rawType": "int64",
         "type": "integer"
        },
        {
         "name": "fp_1295",
         "rawType": "int64",
         "type": "integer"
        },
        {
         "name": "fp_1296",
         "rawType": "int64",
         "type": "integer"
        },
        {
         "name": "fp_1297",
         "rawType": "int64",
         "type": "integer"
        },
        {
         "name": "fp_1298",
         "rawType": "int64",
         "type": "integer"
        },
        {
         "name": "fp_1299",
         "rawType": "int64",
         "type": "integer"
        },
        {
         "name": "fp_1300",
         "rawType": "int64",
         "type": "integer"
        },
        {
         "name": "fp_1301",
         "rawType": "int64",
         "type": "integer"
        },
        {
         "name": "fp_1302",
         "rawType": "int64",
         "type": "integer"
        },
        {
         "name": "fp_1303",
         "rawType": "int64",
         "type": "integer"
        },
        {
         "name": "fp_1304",
         "rawType": "int64",
         "type": "integer"
        },
        {
         "name": "fp_1305",
         "rawType": "int64",
         "type": "integer"
        },
        {
         "name": "fp_1306",
         "rawType": "int64",
         "type": "integer"
        },
        {
         "name": "fp_1307",
         "rawType": "int64",
         "type": "integer"
        },
        {
         "name": "fp_1308",
         "rawType": "int64",
         "type": "integer"
        },
        {
         "name": "fp_1309",
         "rawType": "int64",
         "type": "integer"
        },
        {
         "name": "fp_1310",
         "rawType": "int64",
         "type": "integer"
        },
        {
         "name": "fp_1311",
         "rawType": "int64",
         "type": "integer"
        },
        {
         "name": "fp_1312",
         "rawType": "int64",
         "type": "integer"
        },
        {
         "name": "fp_1313",
         "rawType": "int64",
         "type": "integer"
        },
        {
         "name": "fp_1314",
         "rawType": "int64",
         "type": "integer"
        },
        {
         "name": "fp_1315",
         "rawType": "int64",
         "type": "integer"
        },
        {
         "name": "fp_1316",
         "rawType": "int64",
         "type": "integer"
        },
        {
         "name": "fp_1317",
         "rawType": "int64",
         "type": "integer"
        },
        {
         "name": "fp_1318",
         "rawType": "int64",
         "type": "integer"
        },
        {
         "name": "fp_1319",
         "rawType": "int64",
         "type": "integer"
        },
        {
         "name": "fp_1320",
         "rawType": "int64",
         "type": "integer"
        },
        {
         "name": "fp_1321",
         "rawType": "int64",
         "type": "integer"
        },
        {
         "name": "fp_1322",
         "rawType": "int64",
         "type": "integer"
        },
        {
         "name": "fp_1323",
         "rawType": "int64",
         "type": "integer"
        },
        {
         "name": "fp_1324",
         "rawType": "int64",
         "type": "integer"
        },
        {
         "name": "fp_1325",
         "rawType": "int64",
         "type": "integer"
        },
        {
         "name": "fp_1326",
         "rawType": "int64",
         "type": "integer"
        },
        {
         "name": "fp_1327",
         "rawType": "int64",
         "type": "integer"
        },
        {
         "name": "fp_1328",
         "rawType": "int64",
         "type": "integer"
        },
        {
         "name": "fp_1329",
         "rawType": "int64",
         "type": "integer"
        },
        {
         "name": "fp_1330",
         "rawType": "int64",
         "type": "integer"
        },
        {
         "name": "fp_1331",
         "rawType": "int64",
         "type": "integer"
        },
        {
         "name": "fp_1332",
         "rawType": "int64",
         "type": "integer"
        },
        {
         "name": "fp_1333",
         "rawType": "int64",
         "type": "integer"
        },
        {
         "name": "fp_1334",
         "rawType": "int64",
         "type": "integer"
        },
        {
         "name": "fp_1335",
         "rawType": "int64",
         "type": "integer"
        },
        {
         "name": "fp_1336",
         "rawType": "int64",
         "type": "integer"
        },
        {
         "name": "fp_1337",
         "rawType": "int64",
         "type": "integer"
        },
        {
         "name": "fp_1338",
         "rawType": "int64",
         "type": "integer"
        },
        {
         "name": "fp_1339",
         "rawType": "int64",
         "type": "integer"
        },
        {
         "name": "fp_1340",
         "rawType": "int64",
         "type": "integer"
        },
        {
         "name": "fp_1341",
         "rawType": "int64",
         "type": "integer"
        },
        {
         "name": "fp_1342",
         "rawType": "int64",
         "type": "integer"
        },
        {
         "name": "fp_1343",
         "rawType": "int64",
         "type": "integer"
        },
        {
         "name": "fp_1344",
         "rawType": "int64",
         "type": "integer"
        },
        {
         "name": "fp_1345",
         "rawType": "int64",
         "type": "integer"
        },
        {
         "name": "fp_1346",
         "rawType": "int64",
         "type": "integer"
        },
        {
         "name": "fp_1347",
         "rawType": "int64",
         "type": "integer"
        },
        {
         "name": "fp_1348",
         "rawType": "int64",
         "type": "integer"
        },
        {
         "name": "fp_1349",
         "rawType": "int64",
         "type": "integer"
        },
        {
         "name": "fp_1350",
         "rawType": "int64",
         "type": "integer"
        },
        {
         "name": "fp_1351",
         "rawType": "int64",
         "type": "integer"
        },
        {
         "name": "fp_1352",
         "rawType": "int64",
         "type": "integer"
        },
        {
         "name": "fp_1353",
         "rawType": "int64",
         "type": "integer"
        },
        {
         "name": "fp_1354",
         "rawType": "int64",
         "type": "integer"
        },
        {
         "name": "fp_1355",
         "rawType": "int64",
         "type": "integer"
        },
        {
         "name": "fp_1356",
         "rawType": "int64",
         "type": "integer"
        },
        {
         "name": "fp_1357",
         "rawType": "int64",
         "type": "integer"
        },
        {
         "name": "fp_1358",
         "rawType": "int64",
         "type": "integer"
        },
        {
         "name": "fp_1359",
         "rawType": "int64",
         "type": "integer"
        },
        {
         "name": "fp_1360",
         "rawType": "int64",
         "type": "integer"
        },
        {
         "name": "fp_1361",
         "rawType": "int64",
         "type": "integer"
        },
        {
         "name": "fp_1362",
         "rawType": "int64",
         "type": "integer"
        },
        {
         "name": "fp_1363",
         "rawType": "int64",
         "type": "integer"
        },
        {
         "name": "fp_1364",
         "rawType": "int64",
         "type": "integer"
        },
        {
         "name": "fp_1365",
         "rawType": "int64",
         "type": "integer"
        },
        {
         "name": "fp_1366",
         "rawType": "int64",
         "type": "integer"
        },
        {
         "name": "fp_1367",
         "rawType": "int64",
         "type": "integer"
        },
        {
         "name": "fp_1368",
         "rawType": "int64",
         "type": "integer"
        },
        {
         "name": "fp_1369",
         "rawType": "int64",
         "type": "integer"
        },
        {
         "name": "fp_1370",
         "rawType": "int64",
         "type": "integer"
        },
        {
         "name": "fp_1371",
         "rawType": "int64",
         "type": "integer"
        },
        {
         "name": "fp_1372",
         "rawType": "int64",
         "type": "integer"
        },
        {
         "name": "fp_1373",
         "rawType": "int64",
         "type": "integer"
        },
        {
         "name": "fp_1374",
         "rawType": "int64",
         "type": "integer"
        },
        {
         "name": "fp_1375",
         "rawType": "int64",
         "type": "integer"
        },
        {
         "name": "fp_1376",
         "rawType": "int64",
         "type": "integer"
        },
        {
         "name": "fp_1377",
         "rawType": "int64",
         "type": "integer"
        },
        {
         "name": "fp_1378",
         "rawType": "int64",
         "type": "integer"
        },
        {
         "name": "fp_1379",
         "rawType": "int64",
         "type": "integer"
        },
        {
         "name": "fp_1380",
         "rawType": "int64",
         "type": "integer"
        },
        {
         "name": "fp_1381",
         "rawType": "int64",
         "type": "integer"
        },
        {
         "name": "fp_1382",
         "rawType": "int64",
         "type": "integer"
        },
        {
         "name": "fp_1383",
         "rawType": "int64",
         "type": "integer"
        },
        {
         "name": "fp_1384",
         "rawType": "int64",
         "type": "integer"
        },
        {
         "name": "fp_1385",
         "rawType": "int64",
         "type": "integer"
        },
        {
         "name": "fp_1386",
         "rawType": "int64",
         "type": "integer"
        },
        {
         "name": "fp_1387",
         "rawType": "int64",
         "type": "integer"
        },
        {
         "name": "fp_1388",
         "rawType": "int64",
         "type": "integer"
        },
        {
         "name": "fp_1389",
         "rawType": "int64",
         "type": "integer"
        },
        {
         "name": "fp_1390",
         "rawType": "int64",
         "type": "integer"
        },
        {
         "name": "fp_1391",
         "rawType": "int64",
         "type": "integer"
        },
        {
         "name": "fp_1392",
         "rawType": "int64",
         "type": "integer"
        },
        {
         "name": "fp_1393",
         "rawType": "int64",
         "type": "integer"
        },
        {
         "name": "fp_1394",
         "rawType": "int64",
         "type": "integer"
        },
        {
         "name": "fp_1395",
         "rawType": "int64",
         "type": "integer"
        },
        {
         "name": "fp_1396",
         "rawType": "int64",
         "type": "integer"
        },
        {
         "name": "fp_1397",
         "rawType": "int64",
         "type": "integer"
        },
        {
         "name": "fp_1398",
         "rawType": "int64",
         "type": "integer"
        },
        {
         "name": "fp_1399",
         "rawType": "int64",
         "type": "integer"
        },
        {
         "name": "fp_1400",
         "rawType": "int64",
         "type": "integer"
        },
        {
         "name": "fp_1401",
         "rawType": "int64",
         "type": "integer"
        },
        {
         "name": "fp_1402",
         "rawType": "int64",
         "type": "integer"
        },
        {
         "name": "fp_1403",
         "rawType": "int64",
         "type": "integer"
        },
        {
         "name": "fp_1404",
         "rawType": "int64",
         "type": "integer"
        },
        {
         "name": "fp_1405",
         "rawType": "int64",
         "type": "integer"
        },
        {
         "name": "fp_1406",
         "rawType": "int64",
         "type": "integer"
        },
        {
         "name": "fp_1407",
         "rawType": "int64",
         "type": "integer"
        },
        {
         "name": "fp_1408",
         "rawType": "int64",
         "type": "integer"
        },
        {
         "name": "fp_1409",
         "rawType": "int64",
         "type": "integer"
        },
        {
         "name": "fp_1410",
         "rawType": "int64",
         "type": "integer"
        },
        {
         "name": "fp_1411",
         "rawType": "int64",
         "type": "integer"
        },
        {
         "name": "fp_1412",
         "rawType": "int64",
         "type": "integer"
        },
        {
         "name": "fp_1413",
         "rawType": "int64",
         "type": "integer"
        },
        {
         "name": "fp_1414",
         "rawType": "int64",
         "type": "integer"
        },
        {
         "name": "fp_1415",
         "rawType": "int64",
         "type": "integer"
        },
        {
         "name": "fp_1416",
         "rawType": "int64",
         "type": "integer"
        },
        {
         "name": "fp_1417",
         "rawType": "int64",
         "type": "integer"
        },
        {
         "name": "fp_1418",
         "rawType": "int64",
         "type": "integer"
        },
        {
         "name": "fp_1419",
         "rawType": "int64",
         "type": "integer"
        },
        {
         "name": "fp_1420",
         "rawType": "int64",
         "type": "integer"
        },
        {
         "name": "fp_1421",
         "rawType": "int64",
         "type": "integer"
        },
        {
         "name": "fp_1422",
         "rawType": "int64",
         "type": "integer"
        },
        {
         "name": "fp_1423",
         "rawType": "int64",
         "type": "integer"
        },
        {
         "name": "fp_1424",
         "rawType": "int64",
         "type": "integer"
        },
        {
         "name": "fp_1425",
         "rawType": "int64",
         "type": "integer"
        },
        {
         "name": "fp_1426",
         "rawType": "int64",
         "type": "integer"
        },
        {
         "name": "fp_1427",
         "rawType": "int64",
         "type": "integer"
        },
        {
         "name": "fp_1428",
         "rawType": "int64",
         "type": "integer"
        },
        {
         "name": "fp_1429",
         "rawType": "int64",
         "type": "integer"
        },
        {
         "name": "fp_1430",
         "rawType": "int64",
         "type": "integer"
        },
        {
         "name": "fp_1431",
         "rawType": "int64",
         "type": "integer"
        },
        {
         "name": "fp_1432",
         "rawType": "int64",
         "type": "integer"
        },
        {
         "name": "fp_1433",
         "rawType": "int64",
         "type": "integer"
        },
        {
         "name": "fp_1434",
         "rawType": "int64",
         "type": "integer"
        },
        {
         "name": "fp_1435",
         "rawType": "int64",
         "type": "integer"
        },
        {
         "name": "fp_1436",
         "rawType": "int64",
         "type": "integer"
        },
        {
         "name": "fp_1437",
         "rawType": "int64",
         "type": "integer"
        },
        {
         "name": "fp_1438",
         "rawType": "int64",
         "type": "integer"
        },
        {
         "name": "fp_1439",
         "rawType": "int64",
         "type": "integer"
        },
        {
         "name": "fp_1440",
         "rawType": "int64",
         "type": "integer"
        },
        {
         "name": "fp_1441",
         "rawType": "int64",
         "type": "integer"
        },
        {
         "name": "fp_1442",
         "rawType": "int64",
         "type": "integer"
        },
        {
         "name": "fp_1443",
         "rawType": "int64",
         "type": "integer"
        },
        {
         "name": "fp_1444",
         "rawType": "int64",
         "type": "integer"
        },
        {
         "name": "fp_1445",
         "rawType": "int64",
         "type": "integer"
        },
        {
         "name": "fp_1446",
         "rawType": "int64",
         "type": "integer"
        },
        {
         "name": "fp_1447",
         "rawType": "int64",
         "type": "integer"
        },
        {
         "name": "fp_1448",
         "rawType": "int64",
         "type": "integer"
        },
        {
         "name": "fp_1449",
         "rawType": "int64",
         "type": "integer"
        },
        {
         "name": "fp_1450",
         "rawType": "int64",
         "type": "integer"
        },
        {
         "name": "fp_1451",
         "rawType": "int64",
         "type": "integer"
        },
        {
         "name": "fp_1452",
         "rawType": "int64",
         "type": "integer"
        },
        {
         "name": "fp_1453",
         "rawType": "int64",
         "type": "integer"
        },
        {
         "name": "fp_1454",
         "rawType": "int64",
         "type": "integer"
        },
        {
         "name": "fp_1455",
         "rawType": "int64",
         "type": "integer"
        },
        {
         "name": "fp_1456",
         "rawType": "int64",
         "type": "integer"
        },
        {
         "name": "fp_1457",
         "rawType": "int64",
         "type": "integer"
        },
        {
         "name": "fp_1458",
         "rawType": "int64",
         "type": "integer"
        },
        {
         "name": "fp_1459",
         "rawType": "int64",
         "type": "integer"
        },
        {
         "name": "fp_1460",
         "rawType": "int64",
         "type": "integer"
        },
        {
         "name": "fp_1461",
         "rawType": "int64",
         "type": "integer"
        },
        {
         "name": "fp_1462",
         "rawType": "int64",
         "type": "integer"
        },
        {
         "name": "fp_1463",
         "rawType": "int64",
         "type": "integer"
        },
        {
         "name": "fp_1464",
         "rawType": "int64",
         "type": "integer"
        },
        {
         "name": "fp_1465",
         "rawType": "int64",
         "type": "integer"
        },
        {
         "name": "fp_1466",
         "rawType": "int64",
         "type": "integer"
        },
        {
         "name": "fp_1467",
         "rawType": "int64",
         "type": "integer"
        },
        {
         "name": "fp_1468",
         "rawType": "int64",
         "type": "integer"
        },
        {
         "name": "fp_1469",
         "rawType": "int64",
         "type": "integer"
        },
        {
         "name": "fp_1470",
         "rawType": "int64",
         "type": "integer"
        },
        {
         "name": "fp_1471",
         "rawType": "int64",
         "type": "integer"
        },
        {
         "name": "fp_1472",
         "rawType": "int64",
         "type": "integer"
        },
        {
         "name": "fp_1473",
         "rawType": "int64",
         "type": "integer"
        },
        {
         "name": "fp_1474",
         "rawType": "int64",
         "type": "integer"
        },
        {
         "name": "fp_1475",
         "rawType": "int64",
         "type": "integer"
        },
        {
         "name": "fp_1476",
         "rawType": "int64",
         "type": "integer"
        },
        {
         "name": "fp_1477",
         "rawType": "int64",
         "type": "integer"
        },
        {
         "name": "fp_1478",
         "rawType": "int64",
         "type": "integer"
        },
        {
         "name": "fp_1479",
         "rawType": "int64",
         "type": "integer"
        },
        {
         "name": "fp_1480",
         "rawType": "int64",
         "type": "integer"
        },
        {
         "name": "fp_1481",
         "rawType": "int64",
         "type": "integer"
        },
        {
         "name": "fp_1482",
         "rawType": "int64",
         "type": "integer"
        },
        {
         "name": "fp_1483",
         "rawType": "int64",
         "type": "integer"
        },
        {
         "name": "fp_1484",
         "rawType": "int64",
         "type": "integer"
        },
        {
         "name": "fp_1485",
         "rawType": "int64",
         "type": "integer"
        },
        {
         "name": "fp_1486",
         "rawType": "int64",
         "type": "integer"
        },
        {
         "name": "fp_1487",
         "rawType": "int64",
         "type": "integer"
        },
        {
         "name": "fp_1488",
         "rawType": "int64",
         "type": "integer"
        },
        {
         "name": "fp_1489",
         "rawType": "int64",
         "type": "integer"
        },
        {
         "name": "fp_1490",
         "rawType": "int64",
         "type": "integer"
        },
        {
         "name": "fp_1491",
         "rawType": "int64",
         "type": "integer"
        },
        {
         "name": "fp_1492",
         "rawType": "int64",
         "type": "integer"
        },
        {
         "name": "fp_1493",
         "rawType": "int64",
         "type": "integer"
        },
        {
         "name": "fp_1494",
         "rawType": "int64",
         "type": "integer"
        },
        {
         "name": "fp_1495",
         "rawType": "int64",
         "type": "integer"
        },
        {
         "name": "fp_1496",
         "rawType": "int64",
         "type": "integer"
        },
        {
         "name": "fp_1497",
         "rawType": "int64",
         "type": "integer"
        },
        {
         "name": "fp_1498",
         "rawType": "int64",
         "type": "integer"
        },
        {
         "name": "fp_1499",
         "rawType": "int64",
         "type": "integer"
        },
        {
         "name": "fp_1500",
         "rawType": "int64",
         "type": "integer"
        },
        {
         "name": "fp_1501",
         "rawType": "int64",
         "type": "integer"
        },
        {
         "name": "fp_1502",
         "rawType": "int64",
         "type": "integer"
        },
        {
         "name": "fp_1503",
         "rawType": "int64",
         "type": "integer"
        },
        {
         "name": "fp_1504",
         "rawType": "int64",
         "type": "integer"
        },
        {
         "name": "fp_1505",
         "rawType": "int64",
         "type": "integer"
        },
        {
         "name": "fp_1506",
         "rawType": "int64",
         "type": "integer"
        },
        {
         "name": "fp_1507",
         "rawType": "int64",
         "type": "integer"
        },
        {
         "name": "fp_1508",
         "rawType": "int64",
         "type": "integer"
        },
        {
         "name": "fp_1509",
         "rawType": "int64",
         "type": "integer"
        },
        {
         "name": "fp_1510",
         "rawType": "int64",
         "type": "integer"
        },
        {
         "name": "fp_1511",
         "rawType": "int64",
         "type": "integer"
        },
        {
         "name": "fp_1512",
         "rawType": "int64",
         "type": "integer"
        },
        {
         "name": "fp_1513",
         "rawType": "int64",
         "type": "integer"
        },
        {
         "name": "fp_1514",
         "rawType": "int64",
         "type": "integer"
        },
        {
         "name": "fp_1515",
         "rawType": "int64",
         "type": "integer"
        },
        {
         "name": "fp_1516",
         "rawType": "int64",
         "type": "integer"
        },
        {
         "name": "fp_1517",
         "rawType": "int64",
         "type": "integer"
        },
        {
         "name": "fp_1518",
         "rawType": "int64",
         "type": "integer"
        },
        {
         "name": "fp_1519",
         "rawType": "int64",
         "type": "integer"
        },
        {
         "name": "fp_1520",
         "rawType": "int64",
         "type": "integer"
        },
        {
         "name": "fp_1521",
         "rawType": "int64",
         "type": "integer"
        },
        {
         "name": "fp_1522",
         "rawType": "int64",
         "type": "integer"
        },
        {
         "name": "fp_1523",
         "rawType": "int64",
         "type": "integer"
        },
        {
         "name": "fp_1524",
         "rawType": "int64",
         "type": "integer"
        },
        {
         "name": "fp_1525",
         "rawType": "int64",
         "type": "integer"
        },
        {
         "name": "fp_1526",
         "rawType": "int64",
         "type": "integer"
        },
        {
         "name": "fp_1527",
         "rawType": "int64",
         "type": "integer"
        },
        {
         "name": "fp_1528",
         "rawType": "int64",
         "type": "integer"
        },
        {
         "name": "fp_1529",
         "rawType": "int64",
         "type": "integer"
        },
        {
         "name": "fp_1530",
         "rawType": "int64",
         "type": "integer"
        },
        {
         "name": "fp_1531",
         "rawType": "int64",
         "type": "integer"
        },
        {
         "name": "fp_1532",
         "rawType": "int64",
         "type": "integer"
        },
        {
         "name": "fp_1533",
         "rawType": "int64",
         "type": "integer"
        },
        {
         "name": "fp_1534",
         "rawType": "int64",
         "type": "integer"
        },
        {
         "name": "fp_1535",
         "rawType": "int64",
         "type": "integer"
        },
        {
         "name": "fp_1536",
         "rawType": "int64",
         "type": "integer"
        },
        {
         "name": "fp_1537",
         "rawType": "int64",
         "type": "integer"
        },
        {
         "name": "fp_1538",
         "rawType": "int64",
         "type": "integer"
        },
        {
         "name": "fp_1539",
         "rawType": "int64",
         "type": "integer"
        },
        {
         "name": "fp_1540",
         "rawType": "int64",
         "type": "integer"
        },
        {
         "name": "fp_1541",
         "rawType": "int64",
         "type": "integer"
        },
        {
         "name": "fp_1542",
         "rawType": "int64",
         "type": "integer"
        },
        {
         "name": "fp_1543",
         "rawType": "int64",
         "type": "integer"
        },
        {
         "name": "fp_1544",
         "rawType": "int64",
         "type": "integer"
        },
        {
         "name": "fp_1545",
         "rawType": "int64",
         "type": "integer"
        },
        {
         "name": "fp_1546",
         "rawType": "int64",
         "type": "integer"
        },
        {
         "name": "fp_1547",
         "rawType": "int64",
         "type": "integer"
        },
        {
         "name": "fp_1548",
         "rawType": "int64",
         "type": "integer"
        },
        {
         "name": "fp_1549",
         "rawType": "int64",
         "type": "integer"
        },
        {
         "name": "fp_1550",
         "rawType": "int64",
         "type": "integer"
        },
        {
         "name": "fp_1551",
         "rawType": "int64",
         "type": "integer"
        },
        {
         "name": "fp_1552",
         "rawType": "int64",
         "type": "integer"
        },
        {
         "name": "fp_1553",
         "rawType": "int64",
         "type": "integer"
        },
        {
         "name": "fp_1554",
         "rawType": "int64",
         "type": "integer"
        },
        {
         "name": "fp_1555",
         "rawType": "int64",
         "type": "integer"
        },
        {
         "name": "fp_1556",
         "rawType": "int64",
         "type": "integer"
        },
        {
         "name": "fp_1557",
         "rawType": "int64",
         "type": "integer"
        },
        {
         "name": "fp_1558",
         "rawType": "int64",
         "type": "integer"
        },
        {
         "name": "fp_1559",
         "rawType": "int64",
         "type": "integer"
        },
        {
         "name": "fp_1560",
         "rawType": "int64",
         "type": "integer"
        },
        {
         "name": "fp_1561",
         "rawType": "int64",
         "type": "integer"
        },
        {
         "name": "fp_1562",
         "rawType": "int64",
         "type": "integer"
        },
        {
         "name": "fp_1563",
         "rawType": "int64",
         "type": "integer"
        },
        {
         "name": "fp_1564",
         "rawType": "int64",
         "type": "integer"
        },
        {
         "name": "fp_1565",
         "rawType": "int64",
         "type": "integer"
        },
        {
         "name": "fp_1566",
         "rawType": "int64",
         "type": "integer"
        },
        {
         "name": "fp_1567",
         "rawType": "int64",
         "type": "integer"
        },
        {
         "name": "fp_1568",
         "rawType": "int64",
         "type": "integer"
        },
        {
         "name": "fp_1569",
         "rawType": "int64",
         "type": "integer"
        },
        {
         "name": "fp_1570",
         "rawType": "int64",
         "type": "integer"
        },
        {
         "name": "fp_1571",
         "rawType": "int64",
         "type": "integer"
        },
        {
         "name": "fp_1572",
         "rawType": "int64",
         "type": "integer"
        },
        {
         "name": "fp_1573",
         "rawType": "int64",
         "type": "integer"
        },
        {
         "name": "fp_1574",
         "rawType": "int64",
         "type": "integer"
        },
        {
         "name": "fp_1575",
         "rawType": "int64",
         "type": "integer"
        },
        {
         "name": "fp_1576",
         "rawType": "int64",
         "type": "integer"
        },
        {
         "name": "fp_1577",
         "rawType": "int64",
         "type": "integer"
        },
        {
         "name": "fp_1578",
         "rawType": "int64",
         "type": "integer"
        },
        {
         "name": "fp_1579",
         "rawType": "int64",
         "type": "integer"
        },
        {
         "name": "fp_1580",
         "rawType": "int64",
         "type": "integer"
        },
        {
         "name": "fp_1581",
         "rawType": "int64",
         "type": "integer"
        },
        {
         "name": "fp_1582",
         "rawType": "int64",
         "type": "integer"
        },
        {
         "name": "fp_1583",
         "rawType": "int64",
         "type": "integer"
        },
        {
         "name": "fp_1584",
         "rawType": "int64",
         "type": "integer"
        },
        {
         "name": "fp_1585",
         "rawType": "int64",
         "type": "integer"
        },
        {
         "name": "fp_1586",
         "rawType": "int64",
         "type": "integer"
        },
        {
         "name": "fp_1587",
         "rawType": "int64",
         "type": "integer"
        },
        {
         "name": "fp_1588",
         "rawType": "int64",
         "type": "integer"
        },
        {
         "name": "fp_1589",
         "rawType": "int64",
         "type": "integer"
        },
        {
         "name": "fp_1590",
         "rawType": "int64",
         "type": "integer"
        },
        {
         "name": "fp_1591",
         "rawType": "int64",
         "type": "integer"
        },
        {
         "name": "fp_1592",
         "rawType": "int64",
         "type": "integer"
        },
        {
         "name": "fp_1593",
         "rawType": "int64",
         "type": "integer"
        },
        {
         "name": "fp_1594",
         "rawType": "int64",
         "type": "integer"
        },
        {
         "name": "fp_1595",
         "rawType": "int64",
         "type": "integer"
        },
        {
         "name": "fp_1596",
         "rawType": "int64",
         "type": "integer"
        },
        {
         "name": "fp_1597",
         "rawType": "int64",
         "type": "integer"
        },
        {
         "name": "fp_1598",
         "rawType": "int64",
         "type": "integer"
        },
        {
         "name": "fp_1599",
         "rawType": "int64",
         "type": "integer"
        },
        {
         "name": "fp_1600",
         "rawType": "int64",
         "type": "integer"
        },
        {
         "name": "fp_1601",
         "rawType": "int64",
         "type": "integer"
        },
        {
         "name": "fp_1602",
         "rawType": "int64",
         "type": "integer"
        },
        {
         "name": "fp_1603",
         "rawType": "int64",
         "type": "integer"
        },
        {
         "name": "fp_1604",
         "rawType": "int64",
         "type": "integer"
        },
        {
         "name": "fp_1605",
         "rawType": "int64",
         "type": "integer"
        },
        {
         "name": "fp_1606",
         "rawType": "int64",
         "type": "integer"
        },
        {
         "name": "fp_1607",
         "rawType": "int64",
         "type": "integer"
        },
        {
         "name": "fp_1608",
         "rawType": "int64",
         "type": "integer"
        },
        {
         "name": "fp_1609",
         "rawType": "int64",
         "type": "integer"
        },
        {
         "name": "fp_1610",
         "rawType": "int64",
         "type": "integer"
        },
        {
         "name": "fp_1611",
         "rawType": "int64",
         "type": "integer"
        },
        {
         "name": "fp_1612",
         "rawType": "int64",
         "type": "integer"
        },
        {
         "name": "fp_1613",
         "rawType": "int64",
         "type": "integer"
        },
        {
         "name": "fp_1614",
         "rawType": "int64",
         "type": "integer"
        },
        {
         "name": "fp_1615",
         "rawType": "int64",
         "type": "integer"
        },
        {
         "name": "fp_1616",
         "rawType": "int64",
         "type": "integer"
        },
        {
         "name": "fp_1617",
         "rawType": "int64",
         "type": "integer"
        },
        {
         "name": "fp_1618",
         "rawType": "int64",
         "type": "integer"
        },
        {
         "name": "fp_1619",
         "rawType": "int64",
         "type": "integer"
        },
        {
         "name": "fp_1620",
         "rawType": "int64",
         "type": "integer"
        },
        {
         "name": "fp_1621",
         "rawType": "int64",
         "type": "integer"
        },
        {
         "name": "fp_1622",
         "rawType": "int64",
         "type": "integer"
        },
        {
         "name": "fp_1623",
         "rawType": "int64",
         "type": "integer"
        },
        {
         "name": "fp_1624",
         "rawType": "int64",
         "type": "integer"
        },
        {
         "name": "fp_1625",
         "rawType": "int64",
         "type": "integer"
        },
        {
         "name": "fp_1626",
         "rawType": "int64",
         "type": "integer"
        },
        {
         "name": "fp_1627",
         "rawType": "int64",
         "type": "integer"
        },
        {
         "name": "fp_1628",
         "rawType": "int64",
         "type": "integer"
        },
        {
         "name": "fp_1629",
         "rawType": "int64",
         "type": "integer"
        },
        {
         "name": "fp_1630",
         "rawType": "int64",
         "type": "integer"
        },
        {
         "name": "fp_1631",
         "rawType": "int64",
         "type": "integer"
        },
        {
         "name": "fp_1632",
         "rawType": "int64",
         "type": "integer"
        },
        {
         "name": "fp_1633",
         "rawType": "int64",
         "type": "integer"
        },
        {
         "name": "fp_1634",
         "rawType": "int64",
         "type": "integer"
        },
        {
         "name": "fp_1635",
         "rawType": "int64",
         "type": "integer"
        },
        {
         "name": "fp_1636",
         "rawType": "int64",
         "type": "integer"
        },
        {
         "name": "fp_1637",
         "rawType": "int64",
         "type": "integer"
        },
        {
         "name": "fp_1638",
         "rawType": "int64",
         "type": "integer"
        },
        {
         "name": "fp_1639",
         "rawType": "int64",
         "type": "integer"
        },
        {
         "name": "fp_1640",
         "rawType": "int64",
         "type": "integer"
        },
        {
         "name": "fp_1641",
         "rawType": "int64",
         "type": "integer"
        },
        {
         "name": "fp_1642",
         "rawType": "int64",
         "type": "integer"
        },
        {
         "name": "fp_1643",
         "rawType": "int64",
         "type": "integer"
        },
        {
         "name": "fp_1644",
         "rawType": "int64",
         "type": "integer"
        },
        {
         "name": "fp_1645",
         "rawType": "int64",
         "type": "integer"
        },
        {
         "name": "fp_1646",
         "rawType": "int64",
         "type": "integer"
        },
        {
         "name": "fp_1647",
         "rawType": "int64",
         "type": "integer"
        },
        {
         "name": "fp_1648",
         "rawType": "int64",
         "type": "integer"
        },
        {
         "name": "fp_1649",
         "rawType": "int64",
         "type": "integer"
        },
        {
         "name": "fp_1650",
         "rawType": "int64",
         "type": "integer"
        },
        {
         "name": "fp_1651",
         "rawType": "int64",
         "type": "integer"
        },
        {
         "name": "fp_1652",
         "rawType": "int64",
         "type": "integer"
        },
        {
         "name": "fp_1653",
         "rawType": "int64",
         "type": "integer"
        },
        {
         "name": "fp_1654",
         "rawType": "int64",
         "type": "integer"
        },
        {
         "name": "fp_1655",
         "rawType": "int64",
         "type": "integer"
        },
        {
         "name": "fp_1656",
         "rawType": "int64",
         "type": "integer"
        },
        {
         "name": "fp_1657",
         "rawType": "int64",
         "type": "integer"
        },
        {
         "name": "fp_1658",
         "rawType": "int64",
         "type": "integer"
        },
        {
         "name": "fp_1659",
         "rawType": "int64",
         "type": "integer"
        },
        {
         "name": "fp_1660",
         "rawType": "int64",
         "type": "integer"
        },
        {
         "name": "fp_1661",
         "rawType": "int64",
         "type": "integer"
        },
        {
         "name": "fp_1662",
         "rawType": "int64",
         "type": "integer"
        },
        {
         "name": "fp_1663",
         "rawType": "int64",
         "type": "integer"
        },
        {
         "name": "fp_1664",
         "rawType": "int64",
         "type": "integer"
        },
        {
         "name": "fp_1665",
         "rawType": "int64",
         "type": "integer"
        },
        {
         "name": "fp_1666",
         "rawType": "int64",
         "type": "integer"
        },
        {
         "name": "fp_1667",
         "rawType": "int64",
         "type": "integer"
        },
        {
         "name": "fp_1668",
         "rawType": "int64",
         "type": "integer"
        },
        {
         "name": "fp_1669",
         "rawType": "int64",
         "type": "integer"
        },
        {
         "name": "fp_1670",
         "rawType": "int64",
         "type": "integer"
        },
        {
         "name": "fp_1671",
         "rawType": "int64",
         "type": "integer"
        },
        {
         "name": "fp_1672",
         "rawType": "int64",
         "type": "integer"
        },
        {
         "name": "fp_1673",
         "rawType": "int64",
         "type": "integer"
        },
        {
         "name": "fp_1674",
         "rawType": "int64",
         "type": "integer"
        },
        {
         "name": "fp_1675",
         "rawType": "int64",
         "type": "integer"
        },
        {
         "name": "fp_1676",
         "rawType": "int64",
         "type": "integer"
        },
        {
         "name": "fp_1677",
         "rawType": "int64",
         "type": "integer"
        },
        {
         "name": "fp_1678",
         "rawType": "int64",
         "type": "integer"
        },
        {
         "name": "fp_1679",
         "rawType": "int64",
         "type": "integer"
        },
        {
         "name": "fp_1680",
         "rawType": "int64",
         "type": "integer"
        },
        {
         "name": "fp_1681",
         "rawType": "int64",
         "type": "integer"
        },
        {
         "name": "fp_1682",
         "rawType": "int64",
         "type": "integer"
        },
        {
         "name": "fp_1683",
         "rawType": "int64",
         "type": "integer"
        },
        {
         "name": "fp_1684",
         "rawType": "int64",
         "type": "integer"
        },
        {
         "name": "fp_1685",
         "rawType": "int64",
         "type": "integer"
        },
        {
         "name": "fp_1686",
         "rawType": "int64",
         "type": "integer"
        },
        {
         "name": "fp_1687",
         "rawType": "int64",
         "type": "integer"
        },
        {
         "name": "fp_1688",
         "rawType": "int64",
         "type": "integer"
        },
        {
         "name": "fp_1689",
         "rawType": "int64",
         "type": "integer"
        },
        {
         "name": "fp_1690",
         "rawType": "int64",
         "type": "integer"
        },
        {
         "name": "fp_1691",
         "rawType": "int64",
         "type": "integer"
        },
        {
         "name": "fp_1692",
         "rawType": "int64",
         "type": "integer"
        },
        {
         "name": "fp_1693",
         "rawType": "int64",
         "type": "integer"
        },
        {
         "name": "fp_1694",
         "rawType": "int64",
         "type": "integer"
        },
        {
         "name": "fp_1695",
         "rawType": "int64",
         "type": "integer"
        },
        {
         "name": "fp_1696",
         "rawType": "int64",
         "type": "integer"
        },
        {
         "name": "fp_1697",
         "rawType": "int64",
         "type": "integer"
        },
        {
         "name": "fp_1698",
         "rawType": "int64",
         "type": "integer"
        },
        {
         "name": "fp_1699",
         "rawType": "int64",
         "type": "integer"
        },
        {
         "name": "fp_1700",
         "rawType": "int64",
         "type": "integer"
        },
        {
         "name": "fp_1701",
         "rawType": "int64",
         "type": "integer"
        },
        {
         "name": "fp_1702",
         "rawType": "int64",
         "type": "integer"
        },
        {
         "name": "fp_1703",
         "rawType": "int64",
         "type": "integer"
        },
        {
         "name": "fp_1704",
         "rawType": "int64",
         "type": "integer"
        },
        {
         "name": "fp_1705",
         "rawType": "int64",
         "type": "integer"
        },
        {
         "name": "fp_1706",
         "rawType": "int64",
         "type": "integer"
        },
        {
         "name": "fp_1707",
         "rawType": "int64",
         "type": "integer"
        },
        {
         "name": "fp_1708",
         "rawType": "int64",
         "type": "integer"
        },
        {
         "name": "fp_1709",
         "rawType": "int64",
         "type": "integer"
        },
        {
         "name": "fp_1710",
         "rawType": "int64",
         "type": "integer"
        },
        {
         "name": "fp_1711",
         "rawType": "int64",
         "type": "integer"
        },
        {
         "name": "fp_1712",
         "rawType": "int64",
         "type": "integer"
        },
        {
         "name": "fp_1713",
         "rawType": "int64",
         "type": "integer"
        },
        {
         "name": "fp_1714",
         "rawType": "int64",
         "type": "integer"
        },
        {
         "name": "fp_1715",
         "rawType": "int64",
         "type": "integer"
        },
        {
         "name": "fp_1716",
         "rawType": "int64",
         "type": "integer"
        },
        {
         "name": "fp_1717",
         "rawType": "int64",
         "type": "integer"
        },
        {
         "name": "fp_1718",
         "rawType": "int64",
         "type": "integer"
        },
        {
         "name": "fp_1719",
         "rawType": "int64",
         "type": "integer"
        },
        {
         "name": "fp_1720",
         "rawType": "int64",
         "type": "integer"
        },
        {
         "name": "fp_1721",
         "rawType": "int64",
         "type": "integer"
        },
        {
         "name": "fp_1722",
         "rawType": "int64",
         "type": "integer"
        },
        {
         "name": "fp_1723",
         "rawType": "int64",
         "type": "integer"
        },
        {
         "name": "fp_1724",
         "rawType": "int64",
         "type": "integer"
        },
        {
         "name": "fp_1725",
         "rawType": "int64",
         "type": "integer"
        },
        {
         "name": "fp_1726",
         "rawType": "int64",
         "type": "integer"
        },
        {
         "name": "fp_1727",
         "rawType": "int64",
         "type": "integer"
        },
        {
         "name": "fp_1728",
         "rawType": "int64",
         "type": "integer"
        },
        {
         "name": "fp_1729",
         "rawType": "int64",
         "type": "integer"
        },
        {
         "name": "fp_1730",
         "rawType": "int64",
         "type": "integer"
        },
        {
         "name": "fp_1731",
         "rawType": "int64",
         "type": "integer"
        },
        {
         "name": "fp_1732",
         "rawType": "int64",
         "type": "integer"
        },
        {
         "name": "fp_1733",
         "rawType": "int64",
         "type": "integer"
        },
        {
         "name": "fp_1734",
         "rawType": "int64",
         "type": "integer"
        },
        {
         "name": "fp_1735",
         "rawType": "int64",
         "type": "integer"
        },
        {
         "name": "fp_1736",
         "rawType": "int64",
         "type": "integer"
        },
        {
         "name": "fp_1737",
         "rawType": "int64",
         "type": "integer"
        },
        {
         "name": "fp_1738",
         "rawType": "int64",
         "type": "integer"
        },
        {
         "name": "fp_1739",
         "rawType": "int64",
         "type": "integer"
        },
        {
         "name": "fp_1740",
         "rawType": "int64",
         "type": "integer"
        },
        {
         "name": "fp_1741",
         "rawType": "int64",
         "type": "integer"
        },
        {
         "name": "fp_1742",
         "rawType": "int64",
         "type": "integer"
        },
        {
         "name": "fp_1743",
         "rawType": "int64",
         "type": "integer"
        },
        {
         "name": "fp_1744",
         "rawType": "int64",
         "type": "integer"
        },
        {
         "name": "fp_1745",
         "rawType": "int64",
         "type": "integer"
        },
        {
         "name": "fp_1746",
         "rawType": "int64",
         "type": "integer"
        },
        {
         "name": "fp_1747",
         "rawType": "int64",
         "type": "integer"
        },
        {
         "name": "fp_1748",
         "rawType": "int64",
         "type": "integer"
        },
        {
         "name": "fp_1749",
         "rawType": "int64",
         "type": "integer"
        },
        {
         "name": "fp_1750",
         "rawType": "int64",
         "type": "integer"
        },
        {
         "name": "fp_1751",
         "rawType": "int64",
         "type": "integer"
        },
        {
         "name": "fp_1752",
         "rawType": "int64",
         "type": "integer"
        },
        {
         "name": "fp_1753",
         "rawType": "int64",
         "type": "integer"
        },
        {
         "name": "fp_1754",
         "rawType": "int64",
         "type": "integer"
        },
        {
         "name": "fp_1755",
         "rawType": "int64",
         "type": "integer"
        },
        {
         "name": "fp_1756",
         "rawType": "int64",
         "type": "integer"
        },
        {
         "name": "fp_1757",
         "rawType": "int64",
         "type": "integer"
        },
        {
         "name": "fp_1758",
         "rawType": "int64",
         "type": "integer"
        },
        {
         "name": "fp_1759",
         "rawType": "int64",
         "type": "integer"
        },
        {
         "name": "fp_1760",
         "rawType": "int64",
         "type": "integer"
        },
        {
         "name": "fp_1761",
         "rawType": "int64",
         "type": "integer"
        },
        {
         "name": "fp_1762",
         "rawType": "int64",
         "type": "integer"
        },
        {
         "name": "fp_1763",
         "rawType": "int64",
         "type": "integer"
        },
        {
         "name": "fp_1764",
         "rawType": "int64",
         "type": "integer"
        },
        {
         "name": "fp_1765",
         "rawType": "int64",
         "type": "integer"
        },
        {
         "name": "fp_1766",
         "rawType": "int64",
         "type": "integer"
        },
        {
         "name": "fp_1767",
         "rawType": "int64",
         "type": "integer"
        },
        {
         "name": "fp_1768",
         "rawType": "int64",
         "type": "integer"
        },
        {
         "name": "fp_1769",
         "rawType": "int64",
         "type": "integer"
        },
        {
         "name": "fp_1770",
         "rawType": "int64",
         "type": "integer"
        },
        {
         "name": "fp_1771",
         "rawType": "int64",
         "type": "integer"
        },
        {
         "name": "fp_1772",
         "rawType": "int64",
         "type": "integer"
        },
        {
         "name": "fp_1773",
         "rawType": "int64",
         "type": "integer"
        },
        {
         "name": "fp_1774",
         "rawType": "int64",
         "type": "integer"
        },
        {
         "name": "fp_1775",
         "rawType": "int64",
         "type": "integer"
        },
        {
         "name": "fp_1776",
         "rawType": "int64",
         "type": "integer"
        },
        {
         "name": "fp_1777",
         "rawType": "int64",
         "type": "integer"
        },
        {
         "name": "fp_1778",
         "rawType": "int64",
         "type": "integer"
        },
        {
         "name": "fp_1779",
         "rawType": "int64",
         "type": "integer"
        },
        {
         "name": "fp_1780",
         "rawType": "int64",
         "type": "integer"
        },
        {
         "name": "fp_1781",
         "rawType": "int64",
         "type": "integer"
        },
        {
         "name": "fp_1782",
         "rawType": "int64",
         "type": "integer"
        },
        {
         "name": "fp_1783",
         "rawType": "int64",
         "type": "integer"
        },
        {
         "name": "fp_1784",
         "rawType": "int64",
         "type": "integer"
        },
        {
         "name": "fp_1785",
         "rawType": "int64",
         "type": "integer"
        },
        {
         "name": "fp_1786",
         "rawType": "int64",
         "type": "integer"
        },
        {
         "name": "fp_1787",
         "rawType": "int64",
         "type": "integer"
        },
        {
         "name": "fp_1788",
         "rawType": "int64",
         "type": "integer"
        },
        {
         "name": "fp_1789",
         "rawType": "int64",
         "type": "integer"
        },
        {
         "name": "fp_1790",
         "rawType": "int64",
         "type": "integer"
        },
        {
         "name": "fp_1791",
         "rawType": "int64",
         "type": "integer"
        },
        {
         "name": "fp_1792",
         "rawType": "int64",
         "type": "integer"
        },
        {
         "name": "fp_1793",
         "rawType": "int64",
         "type": "integer"
        },
        {
         "name": "fp_1794",
         "rawType": "int64",
         "type": "integer"
        },
        {
         "name": "fp_1795",
         "rawType": "int64",
         "type": "integer"
        },
        {
         "name": "fp_1796",
         "rawType": "int64",
         "type": "integer"
        },
        {
         "name": "fp_1797",
         "rawType": "int64",
         "type": "integer"
        },
        {
         "name": "fp_1798",
         "rawType": "int64",
         "type": "integer"
        },
        {
         "name": "fp_1799",
         "rawType": "int64",
         "type": "integer"
        },
        {
         "name": "fp_1800",
         "rawType": "int64",
         "type": "integer"
        },
        {
         "name": "fp_1801",
         "rawType": "int64",
         "type": "integer"
        },
        {
         "name": "fp_1802",
         "rawType": "int64",
         "type": "integer"
        },
        {
         "name": "fp_1803",
         "rawType": "int64",
         "type": "integer"
        },
        {
         "name": "fp_1804",
         "rawType": "int64",
         "type": "integer"
        },
        {
         "name": "fp_1805",
         "rawType": "int64",
         "type": "integer"
        },
        {
         "name": "fp_1806",
         "rawType": "int64",
         "type": "integer"
        },
        {
         "name": "fp_1807",
         "rawType": "int64",
         "type": "integer"
        },
        {
         "name": "fp_1808",
         "rawType": "int64",
         "type": "integer"
        },
        {
         "name": "fp_1809",
         "rawType": "int64",
         "type": "integer"
        },
        {
         "name": "fp_1810",
         "rawType": "int64",
         "type": "integer"
        },
        {
         "name": "fp_1811",
         "rawType": "int64",
         "type": "integer"
        },
        {
         "name": "fp_1812",
         "rawType": "int64",
         "type": "integer"
        },
        {
         "name": "fp_1813",
         "rawType": "int64",
         "type": "integer"
        },
        {
         "name": "fp_1814",
         "rawType": "int64",
         "type": "integer"
        },
        {
         "name": "fp_1815",
         "rawType": "int64",
         "type": "integer"
        },
        {
         "name": "fp_1816",
         "rawType": "int64",
         "type": "integer"
        },
        {
         "name": "fp_1817",
         "rawType": "int64",
         "type": "integer"
        },
        {
         "name": "fp_1818",
         "rawType": "int64",
         "type": "integer"
        },
        {
         "name": "fp_1819",
         "rawType": "int64",
         "type": "integer"
        },
        {
         "name": "fp_1820",
         "rawType": "int64",
         "type": "integer"
        },
        {
         "name": "fp_1821",
         "rawType": "int64",
         "type": "integer"
        },
        {
         "name": "fp_1822",
         "rawType": "int64",
         "type": "integer"
        },
        {
         "name": "fp_1823",
         "rawType": "int64",
         "type": "integer"
        },
        {
         "name": "fp_1824",
         "rawType": "int64",
         "type": "integer"
        },
        {
         "name": "fp_1825",
         "rawType": "int64",
         "type": "integer"
        },
        {
         "name": "fp_1826",
         "rawType": "int64",
         "type": "integer"
        },
        {
         "name": "fp_1827",
         "rawType": "int64",
         "type": "integer"
        },
        {
         "name": "fp_1828",
         "rawType": "int64",
         "type": "integer"
        },
        {
         "name": "fp_1829",
         "rawType": "int64",
         "type": "integer"
        },
        {
         "name": "fp_1830",
         "rawType": "int64",
         "type": "integer"
        },
        {
         "name": "fp_1831",
         "rawType": "int64",
         "type": "integer"
        },
        {
         "name": "fp_1832",
         "rawType": "int64",
         "type": "integer"
        },
        {
         "name": "fp_1833",
         "rawType": "int64",
         "type": "integer"
        },
        {
         "name": "fp_1834",
         "rawType": "int64",
         "type": "integer"
        },
        {
         "name": "fp_1835",
         "rawType": "int64",
         "type": "integer"
        },
        {
         "name": "fp_1836",
         "rawType": "int64",
         "type": "integer"
        },
        {
         "name": "fp_1837",
         "rawType": "int64",
         "type": "integer"
        },
        {
         "name": "fp_1838",
         "rawType": "int64",
         "type": "integer"
        },
        {
         "name": "fp_1839",
         "rawType": "int64",
         "type": "integer"
        },
        {
         "name": "fp_1840",
         "rawType": "int64",
         "type": "integer"
        },
        {
         "name": "fp_1841",
         "rawType": "int64",
         "type": "integer"
        },
        {
         "name": "fp_1842",
         "rawType": "int64",
         "type": "integer"
        },
        {
         "name": "fp_1843",
         "rawType": "int64",
         "type": "integer"
        },
        {
         "name": "fp_1844",
         "rawType": "int64",
         "type": "integer"
        },
        {
         "name": "fp_1845",
         "rawType": "int64",
         "type": "integer"
        },
        {
         "name": "fp_1846",
         "rawType": "int64",
         "type": "integer"
        },
        {
         "name": "fp_1847",
         "rawType": "int64",
         "type": "integer"
        },
        {
         "name": "fp_1848",
         "rawType": "int64",
         "type": "integer"
        },
        {
         "name": "fp_1849",
         "rawType": "int64",
         "type": "integer"
        },
        {
         "name": "fp_1850",
         "rawType": "int64",
         "type": "integer"
        },
        {
         "name": "fp_1851",
         "rawType": "int64",
         "type": "integer"
        },
        {
         "name": "fp_1852",
         "rawType": "int64",
         "type": "integer"
        },
        {
         "name": "fp_1853",
         "rawType": "int64",
         "type": "integer"
        },
        {
         "name": "fp_1854",
         "rawType": "int64",
         "type": "integer"
        },
        {
         "name": "fp_1855",
         "rawType": "int64",
         "type": "integer"
        },
        {
         "name": "fp_1856",
         "rawType": "int64",
         "type": "integer"
        },
        {
         "name": "fp_1857",
         "rawType": "int64",
         "type": "integer"
        },
        {
         "name": "fp_1858",
         "rawType": "int64",
         "type": "integer"
        },
        {
         "name": "fp_1859",
         "rawType": "int64",
         "type": "integer"
        },
        {
         "name": "fp_1860",
         "rawType": "int64",
         "type": "integer"
        },
        {
         "name": "fp_1861",
         "rawType": "int64",
         "type": "integer"
        },
        {
         "name": "fp_1862",
         "rawType": "int64",
         "type": "integer"
        },
        {
         "name": "fp_1863",
         "rawType": "int64",
         "type": "integer"
        },
        {
         "name": "fp_1864",
         "rawType": "int64",
         "type": "integer"
        },
        {
         "name": "fp_1865",
         "rawType": "int64",
         "type": "integer"
        },
        {
         "name": "fp_1866",
         "rawType": "int64",
         "type": "integer"
        },
        {
         "name": "fp_1867",
         "rawType": "int64",
         "type": "integer"
        },
        {
         "name": "fp_1868",
         "rawType": "int64",
         "type": "integer"
        },
        {
         "name": "fp_1869",
         "rawType": "int64",
         "type": "integer"
        },
        {
         "name": "fp_1870",
         "rawType": "int64",
         "type": "integer"
        },
        {
         "name": "fp_1871",
         "rawType": "int64",
         "type": "integer"
        },
        {
         "name": "fp_1872",
         "rawType": "int64",
         "type": "integer"
        },
        {
         "name": "fp_1873",
         "rawType": "int64",
         "type": "integer"
        },
        {
         "name": "fp_1874",
         "rawType": "int64",
         "type": "integer"
        },
        {
         "name": "fp_1875",
         "rawType": "int64",
         "type": "integer"
        },
        {
         "name": "fp_1876",
         "rawType": "int64",
         "type": "integer"
        },
        {
         "name": "fp_1877",
         "rawType": "int64",
         "type": "integer"
        },
        {
         "name": "fp_1878",
         "rawType": "int64",
         "type": "integer"
        },
        {
         "name": "fp_1879",
         "rawType": "int64",
         "type": "integer"
        },
        {
         "name": "fp_1880",
         "rawType": "int64",
         "type": "integer"
        },
        {
         "name": "fp_1881",
         "rawType": "int64",
         "type": "integer"
        },
        {
         "name": "fp_1882",
         "rawType": "int64",
         "type": "integer"
        },
        {
         "name": "fp_1883",
         "rawType": "int64",
         "type": "integer"
        },
        {
         "name": "fp_1884",
         "rawType": "int64",
         "type": "integer"
        },
        {
         "name": "fp_1885",
         "rawType": "int64",
         "type": "integer"
        },
        {
         "name": "fp_1886",
         "rawType": "int64",
         "type": "integer"
        },
        {
         "name": "fp_1887",
         "rawType": "int64",
         "type": "integer"
        },
        {
         "name": "fp_1888",
         "rawType": "int64",
         "type": "integer"
        },
        {
         "name": "fp_1889",
         "rawType": "int64",
         "type": "integer"
        },
        {
         "name": "fp_1890",
         "rawType": "int64",
         "type": "integer"
        },
        {
         "name": "fp_1891",
         "rawType": "int64",
         "type": "integer"
        },
        {
         "name": "fp_1892",
         "rawType": "int64",
         "type": "integer"
        },
        {
         "name": "fp_1893",
         "rawType": "int64",
         "type": "integer"
        },
        {
         "name": "fp_1894",
         "rawType": "int64",
         "type": "integer"
        },
        {
         "name": "fp_1895",
         "rawType": "int64",
         "type": "integer"
        },
        {
         "name": "fp_1896",
         "rawType": "int64",
         "type": "integer"
        },
        {
         "name": "fp_1897",
         "rawType": "int64",
         "type": "integer"
        },
        {
         "name": "fp_1898",
         "rawType": "int64",
         "type": "integer"
        },
        {
         "name": "fp_1899",
         "rawType": "int64",
         "type": "integer"
        },
        {
         "name": "fp_1900",
         "rawType": "int64",
         "type": "integer"
        },
        {
         "name": "fp_1901",
         "rawType": "int64",
         "type": "integer"
        },
        {
         "name": "fp_1902",
         "rawType": "int64",
         "type": "integer"
        },
        {
         "name": "fp_1903",
         "rawType": "int64",
         "type": "integer"
        },
        {
         "name": "fp_1904",
         "rawType": "int64",
         "type": "integer"
        },
        {
         "name": "fp_1905",
         "rawType": "int64",
         "type": "integer"
        },
        {
         "name": "fp_1906",
         "rawType": "int64",
         "type": "integer"
        },
        {
         "name": "fp_1907",
         "rawType": "int64",
         "type": "integer"
        },
        {
         "name": "fp_1908",
         "rawType": "int64",
         "type": "integer"
        },
        {
         "name": "fp_1909",
         "rawType": "int64",
         "type": "integer"
        },
        {
         "name": "fp_1910",
         "rawType": "int64",
         "type": "integer"
        },
        {
         "name": "fp_1911",
         "rawType": "int64",
         "type": "integer"
        },
        {
         "name": "fp_1912",
         "rawType": "int64",
         "type": "integer"
        },
        {
         "name": "fp_1913",
         "rawType": "int64",
         "type": "integer"
        },
        {
         "name": "fp_1914",
         "rawType": "int64",
         "type": "integer"
        },
        {
         "name": "fp_1915",
         "rawType": "int64",
         "type": "integer"
        },
        {
         "name": "fp_1916",
         "rawType": "int64",
         "type": "integer"
        },
        {
         "name": "fp_1917",
         "rawType": "int64",
         "type": "integer"
        },
        {
         "name": "fp_1918",
         "rawType": "int64",
         "type": "integer"
        },
        {
         "name": "fp_1919",
         "rawType": "int64",
         "type": "integer"
        },
        {
         "name": "fp_1920",
         "rawType": "int64",
         "type": "integer"
        },
        {
         "name": "fp_1921",
         "rawType": "int64",
         "type": "integer"
        },
        {
         "name": "fp_1922",
         "rawType": "int64",
         "type": "integer"
        },
        {
         "name": "fp_1923",
         "rawType": "int64",
         "type": "integer"
        },
        {
         "name": "fp_1924",
         "rawType": "int64",
         "type": "integer"
        },
        {
         "name": "fp_1925",
         "rawType": "int64",
         "type": "integer"
        },
        {
         "name": "fp_1926",
         "rawType": "int64",
         "type": "integer"
        },
        {
         "name": "fp_1927",
         "rawType": "int64",
         "type": "integer"
        },
        {
         "name": "fp_1928",
         "rawType": "int64",
         "type": "integer"
        },
        {
         "name": "fp_1929",
         "rawType": "int64",
         "type": "integer"
        },
        {
         "name": "fp_1930",
         "rawType": "int64",
         "type": "integer"
        },
        {
         "name": "fp_1931",
         "rawType": "int64",
         "type": "integer"
        },
        {
         "name": "fp_1932",
         "rawType": "int64",
         "type": "integer"
        },
        {
         "name": "fp_1933",
         "rawType": "int64",
         "type": "integer"
        },
        {
         "name": "fp_1934",
         "rawType": "int64",
         "type": "integer"
        },
        {
         "name": "fp_1935",
         "rawType": "int64",
         "type": "integer"
        },
        {
         "name": "fp_1936",
         "rawType": "int64",
         "type": "integer"
        },
        {
         "name": "fp_1937",
         "rawType": "int64",
         "type": "integer"
        },
        {
         "name": "fp_1938",
         "rawType": "int64",
         "type": "integer"
        },
        {
         "name": "fp_1939",
         "rawType": "int64",
         "type": "integer"
        },
        {
         "name": "fp_1940",
         "rawType": "int64",
         "type": "integer"
        },
        {
         "name": "fp_1941",
         "rawType": "int64",
         "type": "integer"
        },
        {
         "name": "fp_1942",
         "rawType": "int64",
         "type": "integer"
        },
        {
         "name": "fp_1943",
         "rawType": "int64",
         "type": "integer"
        },
        {
         "name": "fp_1944",
         "rawType": "int64",
         "type": "integer"
        },
        {
         "name": "fp_1945",
         "rawType": "int64",
         "type": "integer"
        },
        {
         "name": "fp_1946",
         "rawType": "int64",
         "type": "integer"
        },
        {
         "name": "fp_1947",
         "rawType": "int64",
         "type": "integer"
        },
        {
         "name": "fp_1948",
         "rawType": "int64",
         "type": "integer"
        },
        {
         "name": "fp_1949",
         "rawType": "int64",
         "type": "integer"
        },
        {
         "name": "fp_1950",
         "rawType": "int64",
         "type": "integer"
        },
        {
         "name": "fp_1951",
         "rawType": "int64",
         "type": "integer"
        },
        {
         "name": "fp_1952",
         "rawType": "int64",
         "type": "integer"
        },
        {
         "name": "fp_1953",
         "rawType": "int64",
         "type": "integer"
        },
        {
         "name": "fp_1954",
         "rawType": "int64",
         "type": "integer"
        },
        {
         "name": "fp_1955",
         "rawType": "int64",
         "type": "integer"
        },
        {
         "name": "fp_1956",
         "rawType": "int64",
         "type": "integer"
        },
        {
         "name": "fp_1957",
         "rawType": "int64",
         "type": "integer"
        },
        {
         "name": "fp_1958",
         "rawType": "int64",
         "type": "integer"
        },
        {
         "name": "fp_1959",
         "rawType": "int64",
         "type": "integer"
        },
        {
         "name": "fp_1960",
         "rawType": "int64",
         "type": "integer"
        },
        {
         "name": "fp_1961",
         "rawType": "int64",
         "type": "integer"
        },
        {
         "name": "fp_1962",
         "rawType": "int64",
         "type": "integer"
        },
        {
         "name": "fp_1963",
         "rawType": "int64",
         "type": "integer"
        },
        {
         "name": "fp_1964",
         "rawType": "int64",
         "type": "integer"
        },
        {
         "name": "fp_1965",
         "rawType": "int64",
         "type": "integer"
        },
        {
         "name": "fp_1966",
         "rawType": "int64",
         "type": "integer"
        },
        {
         "name": "fp_1967",
         "rawType": "int64",
         "type": "integer"
        },
        {
         "name": "fp_1968",
         "rawType": "int64",
         "type": "integer"
        },
        {
         "name": "fp_1969",
         "rawType": "int64",
         "type": "integer"
        },
        {
         "name": "fp_1970",
         "rawType": "int64",
         "type": "integer"
        },
        {
         "name": "fp_1971",
         "rawType": "int64",
         "type": "integer"
        },
        {
         "name": "fp_1972",
         "rawType": "int64",
         "type": "integer"
        },
        {
         "name": "fp_1973",
         "rawType": "int64",
         "type": "integer"
        },
        {
         "name": "fp_1974",
         "rawType": "int64",
         "type": "integer"
        },
        {
         "name": "fp_1975",
         "rawType": "int64",
         "type": "integer"
        },
        {
         "name": "fp_1976",
         "rawType": "int64",
         "type": "integer"
        },
        {
         "name": "fp_1977",
         "rawType": "int64",
         "type": "integer"
        },
        {
         "name": "fp_1978",
         "rawType": "int64",
         "type": "integer"
        },
        {
         "name": "fp_1979",
         "rawType": "int64",
         "type": "integer"
        },
        {
         "name": "fp_1980",
         "rawType": "int64",
         "type": "integer"
        },
        {
         "name": "fp_1981",
         "rawType": "int64",
         "type": "integer"
        },
        {
         "name": "fp_1982",
         "rawType": "int64",
         "type": "integer"
        },
        {
         "name": "fp_1983",
         "rawType": "int64",
         "type": "integer"
        },
        {
         "name": "fp_1984",
         "rawType": "int64",
         "type": "integer"
        },
        {
         "name": "fp_1985",
         "rawType": "int64",
         "type": "integer"
        },
        {
         "name": "fp_1986",
         "rawType": "int64",
         "type": "integer"
        },
        {
         "name": "fp_1987",
         "rawType": "int64",
         "type": "integer"
        },
        {
         "name": "fp_1988",
         "rawType": "int64",
         "type": "integer"
        },
        {
         "name": "fp_1989",
         "rawType": "int64",
         "type": "integer"
        },
        {
         "name": "fp_1990",
         "rawType": "int64",
         "type": "integer"
        },
        {
         "name": "fp_1991",
         "rawType": "int64",
         "type": "integer"
        },
        {
         "name": "fp_1992",
         "rawType": "int64",
         "type": "integer"
        },
        {
         "name": "fp_1993",
         "rawType": "int64",
         "type": "integer"
        },
        {
         "name": "fp_1994",
         "rawType": "int64",
         "type": "integer"
        },
        {
         "name": "fp_1995",
         "rawType": "int64",
         "type": "integer"
        },
        {
         "name": "fp_1996",
         "rawType": "int64",
         "type": "integer"
        },
        {
         "name": "fp_1997",
         "rawType": "int64",
         "type": "integer"
        },
        {
         "name": "fp_1998",
         "rawType": "int64",
         "type": "integer"
        },
        {
         "name": "fp_1999",
         "rawType": "int64",
         "type": "integer"
        },
        {
         "name": "fp_2000",
         "rawType": "int64",
         "type": "integer"
        },
        {
         "name": "fp_2001",
         "rawType": "int64",
         "type": "integer"
        },
        {
         "name": "fp_2002",
         "rawType": "int64",
         "type": "integer"
        },
        {
         "name": "fp_2003",
         "rawType": "int64",
         "type": "integer"
        },
        {
         "name": "fp_2004",
         "rawType": "int64",
         "type": "integer"
        },
        {
         "name": "fp_2005",
         "rawType": "int64",
         "type": "integer"
        },
        {
         "name": "fp_2006",
         "rawType": "int64",
         "type": "integer"
        },
        {
         "name": "fp_2007",
         "rawType": "int64",
         "type": "integer"
        },
        {
         "name": "fp_2008",
         "rawType": "int64",
         "type": "integer"
        },
        {
         "name": "fp_2009",
         "rawType": "int64",
         "type": "integer"
        },
        {
         "name": "fp_2010",
         "rawType": "int64",
         "type": "integer"
        },
        {
         "name": "fp_2011",
         "rawType": "int64",
         "type": "integer"
        },
        {
         "name": "fp_2012",
         "rawType": "int64",
         "type": "integer"
        },
        {
         "name": "fp_2013",
         "rawType": "int64",
         "type": "integer"
        },
        {
         "name": "fp_2014",
         "rawType": "int64",
         "type": "integer"
        },
        {
         "name": "fp_2015",
         "rawType": "int64",
         "type": "integer"
        },
        {
         "name": "fp_2016",
         "rawType": "int64",
         "type": "integer"
        },
        {
         "name": "fp_2017",
         "rawType": "int64",
         "type": "integer"
        },
        {
         "name": "fp_2018",
         "rawType": "int64",
         "type": "integer"
        },
        {
         "name": "fp_2019",
         "rawType": "int64",
         "type": "integer"
        },
        {
         "name": "fp_2020",
         "rawType": "int64",
         "type": "integer"
        },
        {
         "name": "fp_2021",
         "rawType": "int64",
         "type": "integer"
        },
        {
         "name": "fp_2022",
         "rawType": "int64",
         "type": "integer"
        },
        {
         "name": "fp_2023",
         "rawType": "int64",
         "type": "integer"
        },
        {
         "name": "fp_2024",
         "rawType": "int64",
         "type": "integer"
        },
        {
         "name": "fp_2025",
         "rawType": "int64",
         "type": "integer"
        },
        {
         "name": "fp_2026",
         "rawType": "int64",
         "type": "integer"
        },
        {
         "name": "fp_2027",
         "rawType": "int64",
         "type": "integer"
        },
        {
         "name": "fp_2028",
         "rawType": "int64",
         "type": "integer"
        },
        {
         "name": "fp_2029",
         "rawType": "int64",
         "type": "integer"
        },
        {
         "name": "fp_2030",
         "rawType": "int64",
         "type": "integer"
        },
        {
         "name": "fp_2031",
         "rawType": "int64",
         "type": "integer"
        },
        {
         "name": "fp_2032",
         "rawType": "int64",
         "type": "integer"
        },
        {
         "name": "fp_2033",
         "rawType": "int64",
         "type": "integer"
        },
        {
         "name": "fp_2034",
         "rawType": "int64",
         "type": "integer"
        },
        {
         "name": "fp_2035",
         "rawType": "int64",
         "type": "integer"
        },
        {
         "name": "fp_2036",
         "rawType": "int64",
         "type": "integer"
        },
        {
         "name": "fp_2037",
         "rawType": "int64",
         "type": "integer"
        },
        {
         "name": "fp_2038",
         "rawType": "int64",
         "type": "integer"
        },
        {
         "name": "fp_2039",
         "rawType": "int64",
         "type": "integer"
        },
        {
         "name": "fp_2040",
         "rawType": "int64",
         "type": "integer"
        },
        {
         "name": "fp_2041",
         "rawType": "int64",
         "type": "integer"
        },
        {
         "name": "fp_2042",
         "rawType": "int64",
         "type": "integer"
        },
        {
         "name": "fp_2043",
         "rawType": "int64",
         "type": "integer"
        },
        {
         "name": "fp_2044",
         "rawType": "int64",
         "type": "integer"
        },
        {
         "name": "fp_2045",
         "rawType": "int64",
         "type": "integer"
        },
        {
         "name": "fp_2046",
         "rawType": "int64",
         "type": "integer"
        },
        {
         "name": "fp_2047",
         "rawType": "int64",
         "type": "integer"
        },
        {
         "name": "cx_charge_formalCharge",
         "rawType": "int64",
         "type": "integer"
        },
        {
         "name": "cx_elemental-analysis_mass",
         "rawType": "float64",
         "type": "float"
        },
        {
         "name": "cx_hbda_donorAtomCount",
         "rawType": "int64",
         "type": "integer"
        },
        {
         "name": "cx_hbda_donorSiteCount",
         "rawType": "int64",
         "type": "integer"
        },
        {
         "name": "cx_hbda_acceptorAtomCount",
         "rawType": "int64",
         "type": "integer"
        },
        {
         "name": "cx_hbda_acceptorSiteCount",
         "rawType": "int64",
         "type": "integer"
        },
        {
         "name": "cx_hlb_cxnHlbValue",
         "rawType": "float64",
         "type": "float"
        },
        {
         "name": "cx_hlb_daviesHlbValue",
         "rawType": "float64",
         "type": "float"
        },
        {
         "name": "cx_hlb_griffinHlbValue",
         "rawType": "float64",
         "type": "float"
        },
        {
         "name": "cx_hlb_requiredHLBValue",
         "rawType": "float64",
         "type": "float"
        },
        {
         "name": "cx_logd[pH=7.4]",
         "rawType": "float64",
         "type": "float"
        },
        {
         "name": "cx_logp_logP",
         "rawType": "float64",
         "type": "float"
        },
        {
         "name": "cx_pka_apKa1",
         "rawType": "float64",
         "type": "float"
        },
        {
         "name": "cx_pka_apKa2",
         "rawType": "float64",
         "type": "float"
        },
        {
         "name": "cx_pka_bpKa1",
         "rawType": "float64",
         "type": "float"
        },
        {
         "name": "cx_pka_bpKa2",
         "rawType": "float64",
         "type": "float"
        },
        {
         "name": "cx_polar-surface-area_polarSurfaceArea",
         "rawType": "float64",
         "type": "float"
        },
        {
         "name": "cx_intrinsicSolubility",
         "rawType": "float64",
         "type": "float"
        },
        {
         "name": "cx_solubility(logS)[pH=7.4]",
         "rawType": "float64",
         "type": "float"
        },
        {
         "name": "cx_topology-analyser_aliphaticRingCount",
         "rawType": "int64",
         "type": "integer"
        },
        {
         "name": "cx_topology-analyser_aromaticAtomCount",
         "rawType": "int64",
         "type": "integer"
        },
        {
         "name": "cx_topology-analyser_aromaticRingCount",
         "rawType": "int64",
         "type": "integer"
        },
        {
         "name": "cx_topology-analyser_chainBondCount",
         "rawType": "int64",
         "type": "integer"
        },
        {
         "name": "cx_topology-analyser_chiralCenterCount",
         "rawType": "int64",
         "type": "integer"
        },
        {
         "name": "cx_topology-analyser_fsp3",
         "rawType": "float64",
         "type": "float"
        },
        {
         "name": "cx_topology-analyser_fusedAliphaticRingCount",
         "rawType": "int64",
         "type": "integer"
        },
        {
         "name": "cx_topology-analyser_fusedAromaticRingCount",
         "rawType": "int64",
         "type": "integer"
        },
        {
         "name": "cx_topology-analyser_fusedRingCount",
         "rawType": "int64",
         "type": "integer"
        },
        {
         "name": "cx_topology-analyser_heteroRingCount",
         "rawType": "int64",
         "type": "integer"
        },
        {
         "name": "cx_topology-analyser_heteroAromaticRingCount",
         "rawType": "int64",
         "type": "integer"
        },
        {
         "name": "cx_topology-analyser_largestRingSize",
         "rawType": "int64",
         "type": "integer"
        },
        {
         "name": "cx_topology-analyser_largestRingSystemSize",
         "rawType": "int64",
         "type": "integer"
        },
        {
         "name": "cx_topology-analyser_rotatableBondCount",
         "rawType": "int64",
         "type": "integer"
        }
       ],
       "conversionMethod": "pd.DataFrame",
       "ref": "df3e942a-a377-4eff-bea7-635ec5b404d7",
       "rows": [
        [
         "0",
         "KT-0001674",
         "0.298012837",
         "65.39657381",
         "1.327663557",
         "14.863094337217191",
         "14.863094337217191",
         "0.1327625260793472",
         "-0.7191967453279708",
         "0.2381762920625613",
         "20.08510638297872",
         "650.7080000000004",
         "611.3960000000003",
         "650.286425808",
         "250",
         "0",
         "0.4143165101540034",
         "-0.4420459952801585",
         "0.4420459952801585",
         "0.4143165101540034",
         "1.0212765957446808",
         "1.8297872340425527",
         "2.595744680851064",
         "3.5551244868411724",
         "0.9303517567257604",
         "1746.7871728283417",
         "-4.720000000000001",
         "42096458851.93315",
         "32.22993429359169",
         "13.95413288246244",
         "7.015831498624233",
         "270.11989012957383",
         "144.21",
         "0.4848484848484848",
         "47",
         "2",
         "13",
         "0",
         "3",
         "3",
         "4",
         "2",
         "1",
         "3",
         "2",
         "0",
         "10",
         "2",
         "14",
         "4",
         "11",
         "0",
         "3",
         "3",
         "0",
         "1",
         "9.568952892038546",
         "6",
         "2.5379",
         "170.8283999999996",
         "0",
         "0",
         "0",
         "0",
         "0",
         "2",
         "0",
         "0",
         "0",
         "0",
         "4",
         "4",
         "0",
         "0",
         "0",
         "4",
         "2",
         "0",
         "0",
         "0",
         "0",
         "0",
         "0",
         "0",
         "0",
         "0",
         "0",
         "4",
         "0",
         "2",
         "2",
         "0",
         "0",
         "0",
         "2",
         "0",
         "1",
         "0",
         "0",
         "0",
         "0",
         "2",
         "0",
         "0",
         "1",
         "0",
         "0",
         "1",
         "1",
         "0",
         "0",
         "0",
         "0",
         "0",
         "1",
         "0",
         "1",
         "0",
         "0",
         "0",
         "0",
         "0",
         "0",
         "0",
         "0",
         "0",
         "0",
         "0",
         "0",
         "1",
         "0",
         "0",
         "0",
         "0",
         "0",
         "0",
         "0",
         "0",
         "0",
         "0",
         "0",
         "0",
         "0",
         "2",
         "0",
         "0",
         "0",
         "0",
         "0",
         "0",
         "0",
         "0",
         "0",
         "1",
         "0",
         "0",
         "0",
         "0",
         "0",
         "0",
         "0",
         "0",
         "0",
         "0",
         "0",
         "0",
         "0",
         "0",
         "0",
         "0",
         "0",
         "0",
         "0",
         "0",
         "0",
         "0",
         "0",
         "0",
         "0",
         "0",
         "0",
         "0",
         "0",
         "0",
         "0",
         "0",
         "1",
         "0",
         "0",
         "0",
         "1",
         "0",
         "0",
         "0",
         "0",
         "0",
         "0",
         "0",
         "0",
         "0",
         "0",
         "0",
         "0",
         "0",
         "0",
         "0",
         "0",
         "0",
         "0",
         "0",
         "0",
         "0",
         "0",
         "0",
         "0",
         "0",
         "0",
         "0",
         "0",
         "0",
         "0",
         "0",
         "0",
         "0",
         "0",
         "1",
         "0",
         "0",
         "0",
         "0",
         "0",
         "0",
         "0",
         "0",
         "0",
         "0",
         "0",
         "0",
         "0",
         "0",
         "0",
         "0",
         "0",
         "0",
         "0",
         "0",
         "0",
         "0",
         "0",
         "1",
         "0",
         "0",
         "0",
         "0",
         "0",
         "0",
         "0",
         "0",
         "0",
         "0",
         "0",
         "1",
         "0",
         "0",
         "0",
         "0",
         "0",
         "0",
         "0",
         "0",
         "0",
         "0",
         "0",
         "0",
         "0",
         "0",
         "0",
         "0",
         "0",
         "0",
         "0",
         "0",
         "0",
         "0",
         "0",
         "0",
         "0",
         "0",
         "0",
         "0",
         "0",
         "0",
         "0",
         "0",
         "0",
         "0",
         "0",
         "0",
         "0",
         "0",
         "0",
         "0",
         "0",
         "0",
         "0",
         "0",
         "0",
         "0",
         "0",
         "1",
         "0",
         "0",
         "0",
         "0",
         "0",
         "0",
         "0",
         "0",
         "0",
         "0",
         "0",
         "0",
         "0",
         "0",
         "0",
         "0",
         "0",
         "0",
         "0",
         "0",
         "0",
         "0",
         "0",
         "0",
         "1",
         "0",
         "0",
         "0",
         "0",
         "0",
         "0",
         "0",
         "1",
         "0",
         "0",
         "0",
         "0",
         "0",
         "0",
         "0",
         "0",
         "0",
         "0",
         "0",
         "0",
         "0",
         "0",
         "0",
         "0",
         "0",
         "0",
         "0",
         "0",
         "0",
         "0",
         "0",
         "0",
         "0",
         "0",
         "0",
         "0",
         "0",
         "0",
         "0",
         "0",
         "0",
         "1",
         "0",
         "1",
         "0",
         "0",
         "0",
         "1",
         "0",
         "1",
         "0",
         "0",
         "0",
         "0",
         "0",
         "0",
         "0",
         "0",
         "0",
         "0",
         "0",
         "0",
         "0",
         "0",
         "0",
         "0",
         "0",
         "0",
         "0",
         "0",
         "0",
         "0",
         "0",
         "0",
         "0",
         "0",
         "0",
         "0",
         "1",
         "0",
         "0",
         "0",
         "0",
         "0",
         "0",
         "0",
         "0",
         "0",
         "0",
         "0",
         "0",
         "0",
         "0",
         "0",
         "0",
         "0",
         "0",
         "0",
         "0",
         "0",
         "0",
         "0",
         "0",
         "1",
         "0",
         "0",
         "0",
         "0",
         "0",
         "0",
         "0",
         "0",
         "0",
         "0",
         "0",
         "0",
         "0",
         "0",
         "0",
         "0",
         "1",
         "0",
         "0",
         "0",
         "1",
         "0",
         "0",
         "0",
         "0",
         "0",
         "0",
         "0",
         "0",
         "0",
         "0",
         "0",
         "0",
         "0",
         "0",
         "0",
         "0",
         "0",
         "0",
         "0",
         "0",
         "0",
         "0",
         "0",
         "0",
         "0",
         "0",
         "0",
         "0",
         "0",
         "0",
         "0",
         "0",
         "0",
         "0",
         "0",
         "0",
         "0",
         "0",
         "0",
         "0",
         "0",
         "0",
         "0",
         "0",
         "0",
         "0",
         "0",
         "0",
         "0",
         "0",
         "0",
         "0",
         "0",
         "0",
         "0",
         "0",
         "0",
         "0",
         "0",
         "0",
         "0",
         "0",
         "0",
         "0",
         "0",
         "0",
         "0",
         "0",
         "0",
         "0",
         "0",
         "0",
         "0",
         "0",
         "0",
         "0",
         "0",
         "0",
         "0",
         "1",
         "0",
         "0",
         "0",
         "0",
         "0",
         "0",
         "0",
         "0",
         "0",
         "0",
         "0",
         "0",
         "1",
         "0",
         "0",
         "0",
         "0",
         "0",
         "0",
         "0",
         "0",
         "0",
         "0",
         "0",
         "0",
         "0",
         "0",
         "0",
         "0",
         "0",
         "0",
         "0",
         "0",
         "0",
         "0",
         "0",
         "0",
         "0",
         "0",
         "0",
         "0",
         "0",
         "0",
         "0",
         "0",
         "0",
         "0",
         "0",
         "0",
         "0",
         "0",
         "0",
         "0",
         "0",
         "1",
         "0",
         "0",
         "0",
         "0",
         "1",
         "0",
         "0",
         "0",
         "0",
         "0",
         "0",
         "0",
         "0",
         "0",
         "0",
         "0",
         "0",
         "0",
         "0",
         "0",
         "0",
         "0",
         "0",
         "0",
         "0",
         "0",
         "0",
         "0",
         "0",
         "0",
         "0",
         "0",
         "0",
         "0",
         "0",
         "0",
         "0",
         "0",
         "0",
         "0",
         "0",
         "0",
         "0",
         "0",
         "0",
         "0",
         "0",
         "0",
         "0",
         "0",
         "0",
         "1",
         "0",
         "0",
         "0",
         "0",
         "0",
         "0",
         "0",
         "0",
         "0",
         "0",
         "0",
         "0",
         "0",
         "0",
         "0",
         "0",
         "1",
         "0",
         "0",
         "0",
         "1",
         "1",
         "0",
         "0",
         "0",
         "0",
         "0",
         "0",
         "0",
         "0",
         "0",
         "1",
         "0",
         "0",
         "0",
         "0",
         "0",
         "0",
         "0",
         "0",
         "0",
         "0",
         "0",
         "0",
         "0",
         "0",
         "0",
         "0",
         "0",
         "0",
         "0",
         "0",
         "0",
         "0",
         "0",
         "0",
         "0",
         "0",
         "0",
         "0",
         "0",
         "0",
         "1",
         "0",
         "0",
         "0",
         "0",
         "0",
         "0",
         "0",
         "0",
         "0",
         "0",
         "0",
         "0",
         "0",
         "0",
         "0",
         "0",
         "0",
         "0",
         "0",
         "0",
         "0",
         "0",
         "0",
         "0",
         "0",
         "0",
         "0",
         "0",
         "0",
         "0",
         "0",
         "0",
         "0",
         "0",
         "0",
         "0",
         "0",
         "0",
         "0",
         "0",
         "0",
         "1",
         "0",
         "1",
         "0",
         "0",
         "0",
         "0",
         "0",
         "0",
         "0",
         "0",
         "0",
         "0",
         "0",
         "0",
         "0",
         "0",
         "0",
         "0",
         "0",
         "0",
         "1",
         "0",
         "0",
         "1",
         "0",
         "0",
         "0",
         "0",
         "0",
         "0",
         "0",
         "0",
         "0",
         "0",
         "1",
         "0",
         "0",
         "0",
         "0",
         "0",
         "0",
         "0",
         "0",
         "1",
         "0",
         "0",
         "0",
         "0",
         "0",
         "1",
         "0",
         "1",
         "0",
         "0",
         "1",
         "0",
         "0",
         "0",
         "0",
         "0",
         "1",
         "0",
         "0",
         "0",
         "0",
         "0",
         "0",
         "0",
         "0",
         "0",
         "0",
         "0",
         "0",
         "0",
         "0",
         "0",
         "1",
         "0",
         "0",
         "0",
         "0",
         "0",
         "0",
         "0",
         "0",
         "0",
         "0",
         "0",
         "0",
         "0",
         "0",
         "0",
         "1",
         "0",
         "0",
         "0",
         "0",
         "0",
         "0",
         "0",
         "0",
         "0",
         "0",
         "0",
         "0",
         "0",
         "0",
         "0",
         "0",
         "1",
         "0",
         "0",
         "0",
         "0",
         "0",
         "0",
         "0",
         "0",
         "0",
         "0",
         "0",
         "0",
         "0",
         "0",
         "0",
         "0",
         "0",
         "0",
         "0",
         "0",
         "0",
         "0",
         "1",
         "0",
         "0",
         "0",
         "0",
         "0",
         "0",
         "0",
         "0",
         "0",
         "0",
         "1",
         "0",
         "0",
         "0",
         "0",
         "0",
         "0",
         "0",
         "0",
         "0",
         "0",
         "0",
         "0",
         "0",
         "0",
         "0",
         "0",
         "0",
         "0",
         "0",
         "0",
         "1",
         "0",
         "0",
         "0",
         "0",
         "0",
         "0",
         "0",
         "0",
         "0",
         "0",
         "0",
         "0",
         "0",
         "0",
         "0",
         "0",
         "0",
         "0",
         "0",
         "0",
         "0",
         "0",
         "0",
         "0",
         "0",
         "0",
         "0",
         "0",
         "0",
         "0",
         "0",
         "0",
         "1",
         "0",
         "0",
         "1",
         "0",
         "0",
         "0",
         "0",
         "0",
         "0",
         "0",
         "0",
         "0",
         "0",
         "0",
         "0",
         "0",
         "0",
         "0",
         "0",
         "0",
         "0",
         "0",
         "0",
         "0",
         "0",
         "0",
         "0",
         "0",
         "0",
         "0",
         "0",
         "0",
         "0",
         "0",
         "0",
         "0",
         "0",
         "0",
         "0",
         "0",
         "0",
         "0",
         "0",
         "0",
         "0",
         "0",
         "0",
         "0",
         "0",
         "0",
         "0",
         "0",
         "0",
         "1",
         "0",
         "0",
         "0",
         "0",
         "0",
         "0",
         "0",
         "0",
         "0",
         "0",
         "0",
         "0",
         "0",
         "1",
         "0",
         "0",
         "1",
         "0",
         "0",
         "0",
         "0",
         "0",
         "0",
         "0",
         "0",
         "0",
         "0",
         "0",
         "0",
         "0",
         "0",
         "0",
         "0",
         "0",
         "0",
         "0",
         "0",
         "0",
         "0",
         "0",
         "0",
         "0",
         "0",
         "1",
         "0",
         "0",
         "0",
         "0",
         "0",
         "0",
         "0",
         "0",
         "0",
         "0",
         "0",
         "0",
         "0",
         "0",
         "0",
         "0",
         "0",
         "0",
         "0",
         "0",
         "0",
         "0",
         "0",
         "1",
         "0",
         "0",
         "0",
         "0",
         "0",
         "0",
         "0",
         "0",
         "1",
         "0",
         "0",
         "0",
         "0",
         "0",
         "0",
         "0",
         "0",
         "0",
         "0",
         "0",
         "0",
         "0",
         "0",
         "1",
         "0",
         "1",
         "0",
         "0",
         "0",
         "1",
         "0",
         "0",
         "0",
         "0",
         "0",
         "0",
         "0",
         "0",
         "0",
         "0",
         "1",
         "0",
         "0",
         "0",
         "0",
         "0",
         "0",
         "0",
         "0",
         "0",
         "0",
         "1",
         "0",
         "0",
         "0",
         "0",
         "0",
         "0",
         "0",
         "0",
         "0",
         "0",
         "0",
         "0",
         "0",
         "0",
         "0",
         "0",
         "0",
         "0",
         "0",
         "0",
         "0",
         "0",
         "0",
         "0",
         "0",
         "0",
         "0",
         "0",
         "0",
         "0",
         "0",
         "0",
         "0",
         "0",
         "0",
         "1",
         "0",
         "0",
         "0",
         "0",
         "1",
         "0",
         "0",
         "0",
         "0",
         "0",
         "0",
         "0",
         "0",
         "0",
         "0",
         "0",
         "0",
         "0",
         "0",
         "1",
         "0",
         "0",
         "0",
         "0",
         "0",
         "0",
         "1",
         "0",
         "0",
         "0",
         "0",
         "0",
         "0",
         "0",
         "0",
         "0",
         "0",
         "0",
         "0",
         "0",
         "0",
         "0",
         "1",
         "0",
         "0",
         "1",
         "0",
         "0",
         "0",
         "0",
         "0",
         "0",
         "0",
         "0",
         "0",
         "0",
         "0",
         "0",
         "0",
         "0",
         "0",
         "0",
         "0",
         "0",
         "0",
         "0",
         "0",
         "0",
         "1",
         "0",
         "0",
         "0",
         "0",
         "0",
         "0",
         "0",
         "0",
         "0",
         "0",
         "0",
         "0",
         "0",
         "0",
         "0",
         "0",
         "0",
         "0",
         "0",
         "0",
         "0",
         "0",
         "0",
         "0",
         "0",
         "0",
         "0",
         "0",
         "0",
         "0",
         "1",
         "0",
         "0",
         "0",
         "0",
         "0",
         "0",
         "0",
         "0",
         "0",
         "0",
         "0",
         "0",
         "0",
         "0",
         "0",
         "0",
         "0",
         "0",
         "0",
         "0",
         "0",
         "0",
         "0",
         "0",
         "0",
         "0",
         "0",
         "0",
         "1",
         "0",
         "1",
         "0",
         "0",
         "0",
         "0",
         "0",
         "0",
         "1",
         "0",
         "0",
         "0",
         "0",
         "0",
         "0",
         "0",
         "0",
         "0",
         "0",
         "0",
         "0",
         "0",
         "0",
         "0",
         "0",
         "0",
         "0",
         "0",
         "0",
         "0",
         "0",
         "0",
         "0",
         "0",
         "0",
         "0",
         "0",
         "0",
         "0",
         "0",
         "1",
         "0",
         "0",
         "0",
         "0",
         "0",
         "0",
         "0",
         "0",
         "0",
         "0",
         "0",
         "0",
         "0",
         "0",
         "0",
         "0",
         "0",
         "0",
         "0",
         "0",
         "0",
         "0",
         "0",
         "0",
         "0",
         "0",
         "0",
         "0",
         "0",
         "1",
         "1",
         "0",
         "0",
         "0",
         "0",
         "0",
         "0",
         "1",
         "0",
         "0",
         "0",
         "0",
         "0",
         "0",
         "0",
         "0",
         "0",
         "0",
         "0",
         "0",
         "1",
         "0",
         "0",
         "0",
         "0",
         "0",
         "0",
         "0",
         "1",
         "0",
         "0",
         "0",
         "0",
         "0",
         "0",
         "0",
         "0",
         "0",
         "1",
         "0",
         "1",
         "0",
         "0",
         "0",
         "0",
         "0",
         "0",
         "0",
         "1",
         "0",
         "0",
         "0",
         "1",
         "1",
         "0",
         "0",
         "0",
         "0",
         "0",
         "0",
         "0",
         "0",
         "0",
         "0",
         "0",
         "0",
         "0",
         "0",
         "0",
         "0",
         "0",
         "0",
         "0",
         "0",
         "0",
         "0",
         "0",
         "0",
         "0",
         "0",
         "1",
         "0",
         "0",
         "0",
         "0",
         "0",
         "0",
         "0",
         "0",
         "1",
         "0",
         "0",
         "0",
         "0",
         "0",
         "0",
         "0",
         "1",
         "0",
         "0",
         "0",
         "0",
         "0",
         "0",
         "0",
         "0",
         "0",
         "0",
         "0",
         "0",
         "1",
         "0",
         "0",
         "0",
         "0",
         "0",
         "0",
         "0",
         "0",
         "0",
         "0",
         "0",
         "0",
         "0",
         "0",
         "0",
         "0",
         "0",
         "0",
         "0",
         "0",
         "0",
         "0",
         "0",
         "0",
         "0",
         "0",
         "0",
         "0",
         "0",
         "0",
         "0",
         "0",
         "0",
         "0",
         "0",
         "0",
         "0",
         "0",
         "0",
         "0",
         "0",
         "0",
         "0",
         "0",
         "0",
         "0",
         "0",
         "0",
         "0",
         "0",
         "0",
         "0",
         "0",
         "0",
         "1",
         "0",
         "0",
         "0",
         "0",
         "0",
         "0",
         "0",
         "0",
         "0",
         "0",
         "1",
         "0",
         "0",
         "0",
         "0",
         "0",
         "0",
         "0",
         "0",
         "0",
         "0",
         "0",
         "0",
         "0",
         "1",
         "0",
         "0",
         "0",
         "0",
         "0",
         "0",
         "0",
         "0",
         "0",
         "0",
         "0",
         "0",
         "0",
         "0",
         "0",
         "0",
         "0",
         "0",
         "0",
         "0",
         "0",
         "0",
         "1",
         "0",
         "0",
         "0",
         "0",
         "0",
         "0",
         "0",
         "0",
         "0",
         "0",
         "0",
         "0",
         "1",
         "0",
         "0",
         "0",
         "0",
         "0",
         "0",
         "0",
         "0",
         "0",
         "0",
         "0",
         "0",
         "0",
         "0",
         "0",
         "1",
         "0",
         "0",
         "0",
         "0",
         "0",
         "0",
         "0",
         "0",
         "0",
         "0",
         "0",
         "1",
         "0",
         "0",
         "0",
         "0",
         "0",
         "0",
         "0",
         "0",
         "0",
         "0",
         "1",
         "0",
         "0",
         "0",
         "0",
         "0",
         "0",
         "0",
         "0",
         "0",
         "0",
         "0",
         "0",
         "0",
         "0",
         "0",
         "0",
         "0",
         "0",
         "0",
         "0",
         "0",
         "0",
         "0",
         "0",
         "0",
         "0",
         "0",
         "0",
         "0",
         "0",
         "0",
         "0",
         "0",
         "0",
         "0",
         "0",
         "0",
         "0",
         "0",
         "0",
         "0",
         "0",
         "0",
         "0",
         "0",
         "0",
         "1",
         "0",
         "0",
         "0",
         "0",
         "0",
         "0",
         "0",
         "0",
         "1",
         "0",
         "0",
         "0",
         "0",
         "0",
         "0",
         "0",
         "0",
         "0",
         "0",
         "0",
         "0",
         "0",
         "0",
         "0",
         "0",
         "0",
         "0",
         "0",
         "0",
         "0",
         "0",
         "0",
         "0",
         "0",
         "0",
         "0",
         "1",
         "0",
         "0",
         "0",
         "1",
         "0",
         "0",
         "0",
         "0",
         "0",
         "0",
         "1",
         "0",
         "0",
         "0",
         "0",
         "0",
         "0",
         "0",
         "0",
         "0",
         "0",
         "0",
         "0",
         "0",
         "1",
         "0",
         "0",
         "0",
         "0",
         "0",
         "0",
         "0",
         "0",
         "0",
         "0",
         "0",
         "0",
         "0",
         "0",
         "1",
         "0",
         "0",
         "0",
         "0",
         "0",
         "0",
         "0",
         "0",
         "0",
         "0",
         "0",
         "0",
         "0",
         "0",
         "0",
         "0",
         "0",
         "0",
         "0",
         "0",
         "0",
         "0",
         "0",
         "0",
         "0",
         "0",
         "0",
         "0",
         "0",
         "0",
         "0",
         "0",
         "0",
         "0",
         "0",
         "0",
         "0",
         "0",
         "0",
         "0",
         "0",
         "0",
         "0",
         "0",
         "0",
         "0",
         "0",
         "0",
         "0",
         "0",
         "0",
         "0",
         "0",
         "1",
         "0",
         "0",
         "0",
         "0",
         "0",
         "0",
         "0",
         "0",
         "0",
         "0",
         "0",
         "0",
         "0",
         "0",
         "0",
         "0",
         "0",
         "0",
         "0",
         "0",
         "0",
         "0",
         "0",
         "0",
         "0",
         "0",
         "0",
         "0",
         "0",
         "0",
         "0",
         "0",
         "0",
         "0",
         "0",
         "0",
         "0",
         "0",
         "0",
         "0",
         "0",
         "0",
         "0",
         "0",
         "0",
         "0",
         "1",
         "0",
         "0",
         "0",
         "0",
         "0",
         "0",
         "0",
         "0",
         "0",
         "0",
         "0",
         "0",
         "1",
         "0",
         "1",
         "0",
         "0",
         "0",
         "0",
         "0",
         "0",
         "0",
         "0",
         "0",
         "0",
         "0",
         "0",
         "0",
         "0",
         "0",
         "0",
         "0",
         "1",
         "0",
         "0",
         "0",
         "0",
         "0",
         "0",
         "0",
         "0",
         "0",
         "0",
         "0",
         "1",
         "0",
         "0",
         "0",
         "1",
         "0",
         "0",
         "0",
         "0",
         "0",
         "0",
         "0",
         "1",
         "0",
         "0",
         "0",
         "0",
         "0",
         "0",
         "0",
         "0",
         "0",
         "0",
         "0",
         "0",
         "0",
         "0",
         "0",
         "0",
         "0",
         "0",
         "0",
         "0",
         "0",
         "0",
         "0",
         "0",
         "0",
         "0",
         "0",
         "0",
         "0",
         "0",
         "0",
         "0",
         "0",
         "0",
         "0",
         "0",
         "0",
         "0",
         "0",
         "0",
         "0",
         "0",
         "0",
         "0",
         "0",
         "0",
         "0",
         "0",
         "0",
         "0",
         "0",
         "0",
         "0",
         "0",
         "0",
         "0",
         "0",
         "0",
         "0",
         "0",
         "0",
         "0",
         "1",
         "0",
         "0",
         "0",
         "0",
         "0",
         "0",
         "0",
         "0",
         "0",
         "0",
         "0",
         "0",
         "0",
         "0",
         "1",
         "1",
         "0",
         "0",
         "0",
         "0",
         "0",
         "0",
         "0",
         "0",
         "0",
         "0",
         "0",
         "0",
         "0",
         "0",
         "1",
         "0",
         "0",
         "0",
         "0",
         "0",
         "0",
         "0",
         "0",
         "0",
         "0",
         "0",
         "0",
         "0",
         "0",
         "0",
         "0",
         "1",
         "0",
         "0",
         "0",
         "0",
         "0",
         "0",
         "0",
         "0",
         "0",
         "0",
         "0",
         "0",
         "0",
         "0",
         "0",
         "0",
         "0",
         "0",
         "0",
         "0",
         "0",
         "0",
         "0",
         "0",
         "0",
         "0",
         "0",
         "0",
         "0",
         "0",
         "0",
         "0",
         "0",
         "0",
         "0",
         "0",
         "0",
         "1",
         "0",
         "0",
         "0",
         "1",
         "0",
         "1",
         "0",
         "0",
         "0",
         "0",
         "0",
         "0",
         "0",
         "0",
         "0",
         "0",
         "1",
         "0",
         "1",
         "0",
         "0",
         "0",
         "0",
         "0",
         "0",
         "0",
         "0",
         "0",
         "0",
         "0",
         "0",
         "0",
         "0",
         "0",
         "0",
         "0",
         "0",
         "0",
         "0",
         "0",
         "0",
         "0",
         "0",
         "0",
         "0",
         "0",
         "0",
         "0",
         "0",
         "0",
         "1",
         "0",
         "0",
         "0",
         "0",
         "0",
         "0",
         "0",
         "0",
         "0",
         "0",
         "0",
         "0",
         "0",
         "0",
         "0",
         "0",
         "0",
         "0",
         "0",
         "0",
         "0",
         "0",
         "0",
         "0",
         "0",
         "0",
         "0",
         "0",
         "0",
         "0",
         "0",
         "0",
         "0",
         "0",
         "1",
         "0",
         "0",
         "0",
         "0",
         "0",
         "0",
         "0",
         "0",
         "0",
         "0",
         "0",
         "0",
         "0",
         "0",
         "0",
         "0",
         "0",
         "0",
         "0",
         "0",
         "0",
         "0",
         "0",
         "1",
         "0",
         "0",
         "0",
         "0",
         "0",
         "0",
         "0",
         "0",
         "0",
         "0",
         "0",
         "0",
         "0",
         "0",
         "0",
         "0",
         "0",
         "0",
         "0",
         "0",
         "0",
         "0",
         "0",
         "0",
         "0",
         "0",
         "0",
         "650.708",
         "2",
         "2",
         "8",
         "14",
         "17.84",
         "20.64",
         "13.63",
         "9.34",
         "2.61",
         "3.24",
         "11.6",
         "15.06",
         "-4.8",
         "-3.27",
         "140.82999999999998",
         "-5.5",
         "-5.5",
         "3",
         "15",
         "3",
         "19",
         "2",
         "0.4848484848484848",
         "0",
         "2",
         "2",
         "4",
         "1",
         "6",
         "2",
         "11"
        ],
        [
         "1",
         "KT-0001675",
         "0.767547486",
         "66.23493706",
         "8.333819159",
         "14.85649654107394",
         "14.85649654107394",
         "0.2153151430630162",
         "-0.684508765928453",
         "0.2296477908976834",
         "20.43478260869565",
         "636.7250000000004",
         "595.3970000000003",
         "636.307161252",
         "246",
         "0",
         "0.4142977688257768",
         "-0.4425729032796571",
         "0.4425729032796571",
         "0.4142977688257768",
         "0.9782608695652174",
         "1.7826086956521738",
         "2.565217391304348",
         "3.5405939006625924",
         "0.9066876053857174",
         "1663.950058964896",
         "-4.23",
         "28829006738.20916",
         "31.740309580696163",
         "14.040317284793243",
         "6.798597981426397",
         "265.95836802953",
         "127.14",
         "0.5151515151515151",
         "46",
         "2",
         "12",
         "0",
         "3",
         "3",
         "3",
         "2",
         "1",
         "3",
         "2",
         "0",
         "10",
         "2",
         "13",
         "4",
         "12",
         "0",
         "3",
         "3",
         "0",
         "1",
         "9.68791341805515",
         "6",
         "3.0113000000000003",
         "170.68839999999958",
         "0",
         "0",
         "0",
         "0",
         "0",
         "2",
         "0",
         "0",
         "0",
         "0",
         "3",
         "3",
         "0",
         "0",
         "0",
         "4",
         "2",
         "0",
         "0",
         "0",
         "0",
         "0",
         "0",
         "0",
         "0",
         "0",
         "0",
         "3",
         "0",
         "2",
         "2",
         "0",
         "0",
         "0",
         "2",
         "0",
         "1",
         "0",
         "0",
         "0",
         "0",
         "2",
         "0",
         "0",
         "1",
         "0",
         "0",
         "1",
         "1",
         "0",
         "0",
         "0",
         "0",
         "0",
         "1",
         "0",
         "1",
         "0",
         "0",
         "0",
         "0",
         "0",
         "0",
         "0",
         "0",
         "0",
         "0",
         "0",
         "0",
         "1",
         "0",
         "0",
         "0",
         "0",
         "0",
         "0",
         "0",
         "0",
         "0",
         "0",
         "0",
         "0",
         "0",
         "3",
         "0",
         "0",
         "0",
         "0",
         "0",
         "0",
         "0",
         "0",
         "0",
         "1",
         "0",
         "0",
         "0",
         "0",
         "0",
         "0",
         "0",
         "0",
         "0",
         "0",
         "0",
         "0",
         "0",
         "0",
         "0",
         "0",
         "0",
         "0",
         "0",
         "0",
         "0",
         "0",
         "0",
         "0",
         "0",
         "0",
         "0",
         "0",
         "0",
         "0",
         "0",
         "0",
         "0",
         "0",
         "0",
         "0",
         "1",
         "0",
         "0",
         "0",
         "0",
         "0",
         "0",
         "0",
         "0",
         "0",
         "0",
         "0",
         "0",
         "0",
         "0",
         "0",
         "0",
         "0",
         "0",
         "0",
         "0",
         "1",
         "0",
         "0",
         "0",
         "0",
         "0",
         "0",
         "0",
         "0",
         "0",
         "0",
         "0",
         "0",
         "0",
         "1",
         "0",
         "0",
         "0",
         "0",
         "0",
         "0",
         "0",
         "0",
         "0",
         "0",
         "0",
         "0",
         "0",
         "0",
         "0",
         "0",
         "0",
         "0",
         "0",
         "0",
         "0",
         "0",
         "0",
         "1",
         "0",
         "0",
         "0",
         "0",
         "0",
         "0",
         "0",
         "0",
         "0",
         "0",
         "0",
         "1",
         "0",
         "0",
         "0",
         "0",
         "0",
         "0",
         "0",
         "0",
         "0",
         "0",
         "0",
         "0",
         "0",
         "0",
         "0",
         "0",
         "0",
         "0",
         "0",
         "0",
         "0",
         "0",
         "0",
         "0",
         "0",
         "0",
         "0",
         "0",
         "0",
         "0",
         "0",
         "0",
         "0",
         "0",
         "0",
         "0",
         "0",
         "0",
         "0",
         "0",
         "0",
         "0",
         "0",
         "0",
         "0",
         "0",
         "0",
         "1",
         "0",
         "0",
         "0",
         "0",
         "0",
         "0",
         "0",
         "0",
         "0",
         "0",
         "0",
         "0",
         "0",
         "0",
         "0",
         "0",
         "0",
         "0",
         "0",
         "0",
         "0",
         "0",
         "0",
         "0",
         "1",
         "0",
         "0",
         "0",
         "0",
         "0",
         "0",
         "0",
         "0",
         "0",
         "0",
         "0",
         "0",
         "0",
         "0",
         "0",
         "0",
         "0",
         "0",
         "0",
         "0",
         "0",
         "0",
         "0",
         "1",
         "0",
         "0",
         "0",
         "0",
         "0",
         "0",
         "0",
         "0",
         "0",
         "0",
         "0",
         "0",
         "0",
         "0",
         "0",
         "0",
         "0",
         "1",
         "0",
         "1",
         "0",
         "0",
         "0",
         "1",
         "0",
         "0",
         "0",
         "0",
         "0",
         "0",
         "0",
         "0",
         "0",
         "0",
         "0",
         "0",
         "0",
         "0",
         "0",
         "0",
         "0",
         "0",
         "0",
         "0",
         "0",
         "0",
         "0",
         "0",
         "0",
         "0",
         "0",
         "0",
         "0",
         "0",
         "1",
         "0",
         "0",
         "0",
         "0",
         "0",
         "0",
         "0",
         "0",
         "0",
         "0",
         "0",
         "0",
         "0",
         "0",
         "0",
         "0",
         "0",
         "0",
         "0",
         "0",
         "0",
         "0",
         "0",
         "0",
         "1",
         "0",
         "0",
         "0",
         "0",
         "0",
         "0",
         "0",
         "0",
         "0",
         "0",
         "0",
         "0",
         "0",
         "0",
         "0",
         "0",
         "1",
         "0",
         "1",
         "0",
         "1",
         "0",
         "0",
         "0",
         "0",
         "0",
         "0",
         "0",
         "0",
         "0",
         "0",
         "0",
         "0",
         "0",
         "0",
         "0",
         "0",
         "0",
         "0",
         "0",
         "0",
         "0",
         "0",
         "0",
         "0",
         "0",
         "0",
         "0",
         "0",
         "0",
         "0",
         "0",
         "0",
         "0",
         "0",
         "0",
         "0",
         "0",
         "0",
         "0",
         "0",
         "0",
         "0",
         "0",
         "0",
         "0",
         "0",
         "0",
         "0",
         "0",
         "0",
         "0",
         "0",
         "0",
         "0",
         "0",
         "0",
         "0",
         "0",
         "0",
         "0",
         "0",
         "0",
         "0",
         "0",
         "0",
         "0",
         "0",
         "0",
         "0",
         "0",
         "0",
         "0",
         "0",
         "0",
         "0",
         "0",
         "0",
         "0",
         "0",
         "1",
         "0",
         "0",
         "0",
         "0",
         "0",
         "0",
         "0",
         "0",
         "0",
         "0",
         "0",
         "0",
         "1",
         "0",
         "0",
         "0",
         "0",
         "0",
         "0",
         "0",
         "0",
         "0",
         "0",
         "0",
         "0",
         "0",
         "0",
         "0",
         "0",
         "0",
         "0",
         "0",
         "0",
         "0",
         "0",
         "0",
         "0",
         "0",
         "0",
         "0",
         "0",
         "0",
         "0",
         "0",
         "0",
         "0",
         "0",
         "0",
         "0",
         "0",
         "0",
         "0",
         "0",
         "0",
         "0",
         "0",
         "0",
         "0",
         "0",
         "1",
         "0",
         "0",
         "0",
         "0",
         "0",
         "0",
         "0",
         "0",
         "0",
         "0",
         "0",
         "0",
         "0",
         "0",
         "0",
         "0",
         "0",
         "0",
         "0",
         "0",
         "0",
         "0",
         "0",
         "0",
         "0",
         "0",
         "0",
         "0",
         "0",
         "0",
         "0",
         "0",
         "0",
         "0",
         "0",
         "0",
         "0",
         "0",
         "0",
         "0",
         "1",
         "0",
         "0",
         "0",
         "0",
         "0",
         "1",
         "0",
         "0",
         "0",
         "0",
         "0",
         "0",
         "0",
         "0",
         "0",
         "0",
         "0",
         "0",
         "0",
         "0",
         "0",
         "0",
         "1",
         "0",
         "0",
         "0",
         "1",
         "1",
         "0",
         "0",
         "0",
         "0",
         "0",
         "0",
         "0",
         "0",
         "0",
         "1",
         "0",
         "0",
         "0",
         "0",
         "0",
         "0",
         "0",
         "0",
         "0",
         "0",
         "0",
         "0",
         "0",
         "0",
         "0",
         "0",
         "0",
         "0",
         "0",
         "0",
         "0",
         "0",
         "0",
         "0",
         "0",
         "0",
         "0",
         "0",
         "0",
         "0",
         "1",
         "0",
         "0",
         "0",
         "0",
         "0",
         "0",
         "0",
         "0",
         "0",
         "0",
         "0",
         "0",
         "0",
         "0",
         "0",
         "0",
         "0",
         "0",
         "0",
         "0",
         "0",
         "0",
         "0",
         "0",
         "0",
         "0",
         "0",
         "1",
         "0",
         "0",
         "0",
         "0",
         "0",
         "0",
         "0",
         "0",
         "0",
         "0",
         "0",
         "0",
         "0",
         "1",
         "0",
         "1",
         "0",
         "0",
         "0",
         "0",
         "0",
         "0",
         "0",
         "0",
         "0",
         "0",
         "0",
         "0",
         "0",
         "0",
         "0",
         "0",
         "0",
         "0",
         "1",
         "0",
         "0",
         "1",
         "0",
         "0",
         "0",
         "0",
         "0",
         "0",
         "0",
         "0",
         "0",
         "0",
         "1",
         "0",
         "0",
         "0",
         "0",
         "0",
         "0",
         "0",
         "0",
         "1",
         "0",
         "0",
         "0",
         "0",
         "0",
         "1",
         "0",
         "1",
         "0",
         "0",
         "1",
         "0",
         "0",
         "0",
         "0",
         "0",
         "1",
         "0",
         "0",
         "0",
         "0",
         "0",
         "0",
         "0",
         "0",
         "0",
         "0",
         "0",
         "0",
         "0",
         "0",
         "0",
         "1",
         "0",
         "0",
         "0",
         "0",
         "0",
         "0",
         "0",
         "0",
         "0",
         "0",
         "0",
         "0",
         "0",
         "0",
         "0",
         "1",
         "0",
         "0",
         "0",
         "0",
         "0",
         "0",
         "0",
         "0",
         "0",
         "0",
         "0",
         "0",
         "0",
         "0",
         "0",
         "0",
         "1",
         "0",
         "0",
         "0",
         "0",
         "0",
         "0",
         "0",
         "0",
         "0",
         "0",
         "0",
         "0",
         "0",
         "0",
         "0",
         "0",
         "0",
         "0",
         "0",
         "0",
         "0",
         "0",
         "1",
         "0",
         "0",
         "0",
         "0",
         "0",
         "0",
         "0",
         "0",
         "0",
         "0",
         "1",
         "0",
         "0",
         "0",
         "0",
         "0",
         "0",
         "0",
         "0",
         "0",
         "0",
         "0",
         "0",
         "0",
         "0",
         "0",
         "0",
         "0",
         "0",
         "0",
         "0",
         "1",
         "0",
         "0",
         "0",
         "0",
         "0",
         "0",
         "0",
         "0",
         "0",
         "0",
         "0",
         "0",
         "0",
         "0",
         "0",
         "0",
         "0",
         "0",
         "0",
         "0",
         "0",
         "0",
         "0",
         "0",
         "0",
         "0",
         "0",
         "0",
         "0",
         "0",
         "1",
         "0",
         "1",
         "0",
         "0",
         "0",
         "0",
         "0",
         "0",
         "0",
         "0",
         "0",
         "0",
         "0",
         "0",
         "0",
         "0",
         "0",
         "0",
         "0",
         "0",
         "0",
         "0",
         "0",
         "0",
         "0",
         "0",
         "0",
         "0",
         "0",
         "0",
         "0",
         "0",
         "0",
         "0",
         "0",
         "0",
         "0",
         "0",
         "0",
         "0",
         "0",
         "0",
         "0",
         "0",
         "0",
         "0",
         "0",
         "0",
         "0",
         "0",
         "0",
         "0",
         "0",
         "0",
         "0",
         "1",
         "0",
         "0",
         "0",
         "0",
         "0",
         "0",
         "0",
         "0",
         "0",
         "0",
         "0",
         "0",
         "0",
         "1",
         "0",
         "0",
         "1",
         "0",
         "0",
         "0",
         "0",
         "0",
         "0",
         "0",
         "0",
         "0",
         "0",
         "0",
         "0",
         "0",
         "0",
         "0",
         "0",
         "0",
         "0",
         "0",
         "0",
         "0",
         "0",
         "0",
         "0",
         "0",
         "0",
         "1",
         "0",
         "0",
         "0",
         "0",
         "0",
         "0",
         "0",
         "0",
         "0",
         "0",
         "0",
         "0",
         "0",
         "0",
         "0",
         "0",
         "0",
         "0",
         "0",
         "0",
         "0",
         "0",
         "0",
         "1",
         "0",
         "0",
         "0",
         "0",
         "0",
         "0",
         "0",
         "0",
         "1",
         "0",
         "0",
         "0",
         "0",
         "0",
         "0",
         "0",
         "0",
         "0",
         "0",
         "0",
         "0",
         "0",
         "0",
         "1",
         "0",
         "1",
         "0",
         "0",
         "0",
         "1",
         "0",
         "0",
         "1",
         "0",
         "0",
         "0",
         "0",
         "0",
         "0",
         "0",
         "0",
         "0",
         "0",
         "0",
         "0",
         "0",
         "0",
         "0",
         "0",
         "0",
         "0",
         "1",
         "0",
         "0",
         "0",
         "0",
         "0",
         "0",
         "0",
         "0",
         "0",
         "0",
         "0",
         "0",
         "0",
         "0",
         "0",
         "0",
         "0",
         "0",
         "0",
         "0",
         "0",
         "0",
         "0",
         "0",
         "0",
         "1",
         "0",
         "0",
         "0",
         "0",
         "0",
         "0",
         "0",
         "0",
         "0",
         "1",
         "0",
         "0",
         "0",
         "0",
         "1",
         "0",
         "0",
         "0",
         "0",
         "0",
         "0",
         "0",
         "0",
         "0",
         "0",
         "0",
         "0",
         "0",
         "0",
         "1",
         "0",
         "0",
         "0",
         "0",
         "0",
         "0",
         "1",
         "0",
         "0",
         "0",
         "0",
         "0",
         "0",
         "0",
         "0",
         "0",
         "0",
         "0",
         "0",
         "0",
         "0",
         "0",
         "1",
         "0",
         "0",
         "1",
         "0",
         "0",
         "0",
         "0",
         "0",
         "0",
         "0",
         "0",
         "0",
         "0",
         "0",
         "0",
         "0",
         "0",
         "0",
         "0",
         "0",
         "0",
         "0",
         "0",
         "0",
         "0",
         "1",
         "0",
         "0",
         "0",
         "0",
         "0",
         "0",
         "0",
         "0",
         "0",
         "0",
         "0",
         "0",
         "0",
         "0",
         "0",
         "0",
         "0",
         "0",
         "0",
         "0",
         "0",
         "0",
         "0",
         "0",
         "0",
         "0",
         "0",
         "0",
         "0",
         "0",
         "1",
         "0",
         "0",
         "0",
         "0",
         "0",
         "0",
         "0",
         "0",
         "0",
         "0",
         "0",
         "0",
         "0",
         "0",
         "0",
         "0",
         "0",
         "0",
         "0",
         "0",
         "0",
         "0",
         "0",
         "0",
         "0",
         "0",
         "0",
         "0",
         "1",
         "0",
         "1",
         "0",
         "0",
         "0",
         "0",
         "0",
         "0",
         "1",
         "0",
         "0",
         "0",
         "0",
         "0",
         "0",
         "0",
         "0",
         "0",
         "1",
         "0",
         "0",
         "0",
         "0",
         "0",
         "0",
         "0",
         "0",
         "0",
         "0",
         "0",
         "0",
         "0",
         "0",
         "0",
         "0",
         "0",
         "0",
         "0",
         "0",
         "0",
         "1",
         "0",
         "0",
         "0",
         "0",
         "0",
         "0",
         "0",
         "0",
         "0",
         "0",
         "0",
         "0",
         "0",
         "0",
         "0",
         "0",
         "0",
         "0",
         "0",
         "0",
         "0",
         "0",
         "0",
         "0",
         "0",
         "0",
         "0",
         "0",
         "0",
         "1",
         "0",
         "0",
         "0",
         "0",
         "0",
         "0",
         "0",
         "1",
         "0",
         "0",
         "0",
         "0",
         "0",
         "0",
         "0",
         "0",
         "0",
         "0",
         "0",
         "0",
         "1",
         "0",
         "0",
         "0",
         "0",
         "0",
         "0",
         "0",
         "1",
         "0",
         "0",
         "0",
         "0",
         "0",
         "0",
         "0",
         "0",
         "0",
         "1",
         "0",
         "1",
         "0",
         "0",
         "0",
         "0",
         "0",
         "0",
         "0",
         "1",
         "0",
         "0",
         "0",
         "0",
         "1",
         "0",
         "0",
         "0",
         "0",
         "0",
         "0",
         "0",
         "0",
         "0",
         "0",
         "0",
         "0",
         "0",
         "0",
         "0",
         "0",
         "0",
         "0",
         "0",
         "0",
         "0",
         "0",
         "0",
         "0",
         "0",
         "0",
         "1",
         "0",
         "0",
         "0",
         "0",
         "0",
         "0",
         "0",
         "0",
         "1",
         "0",
         "0",
         "0",
         "0",
         "0",
         "0",
         "0",
         "1",
         "0",
         "0",
         "0",
         "0",
         "0",
         "0",
         "0",
         "0",
         "0",
         "0",
         "0",
         "0",
         "1",
         "0",
         "0",
         "0",
         "0",
         "0",
         "0",
         "0",
         "0",
         "0",
         "0",
         "0",
         "0",
         "0",
         "0",
         "0",
         "0",
         "0",
         "0",
         "0",
         "0",
         "0",
         "0",
         "0",
         "0",
         "0",
         "0",
         "0",
         "0",
         "0",
         "0",
         "0",
         "0",
         "0",
         "0",
         "0",
         "0",
         "0",
         "0",
         "0",
         "0",
         "0",
         "0",
         "0",
         "0",
         "0",
         "0",
         "0",
         "0",
         "0",
         "0",
         "0",
         "0",
         "0",
         "0",
         "1",
         "0",
         "0",
         "0",
         "0",
         "0",
         "0",
         "0",
         "0",
         "0",
         "0",
         "1",
         "0",
         "0",
         "0",
         "0",
         "0",
         "0",
         "0",
         "0",
         "0",
         "0",
         "0",
         "0",
         "0",
         "1",
         "0",
         "0",
         "0",
         "0",
         "0",
         "0",
         "0",
         "0",
         "0",
         "0",
         "0",
         "0",
         "0",
         "0",
         "0",
         "0",
         "0",
         "0",
         "0",
         "0",
         "0",
         "0",
         "1",
         "0",
         "0",
         "0",
         "0",
         "0",
         "0",
         "0",
         "0",
         "0",
         "0",
         "0",
         "0",
         "1",
         "0",
         "0",
         "0",
         "0",
         "0",
         "0",
         "0",
         "0",
         "0",
         "0",
         "0",
         "0",
         "0",
         "0",
         "0",
         "1",
         "0",
         "0",
         "0",
         "0",
         "0",
         "0",
         "0",
         "0",
         "0",
         "0",
         "0",
         "1",
         "0",
         "0",
         "0",
         "0",
         "0",
         "0",
         "0",
         "0",
         "0",
         "0",
         "1",
         "0",
         "0",
         "0",
         "0",
         "0",
         "0",
         "0",
         "0",
         "0",
         "0",
         "0",
         "0",
         "0",
         "0",
         "0",
         "0",
         "0",
         "0",
         "0",
         "0",
         "0",
         "0",
         "0",
         "0",
         "0",
         "0",
         "0",
         "0",
         "0",
         "0",
         "0",
         "0",
         "0",
         "0",
         "0",
         "0",
         "0",
         "0",
         "0",
         "0",
         "0",
         "0",
         "0",
         "0",
         "0",
         "0",
         "0",
         "0",
         "0",
         "0",
         "0",
         "0",
         "0",
         "0",
         "0",
         "1",
         "0",
         "0",
         "0",
         "0",
         "0",
         "0",
         "0",
         "0",
         "0",
         "0",
         "0",
         "0",
         "0",
         "0",
         "0",
         "0",
         "0",
         "0",
         "0",
         "0",
         "0",
         "0",
         "0",
         "0",
         "0",
         "0",
         "0",
         "0",
         "0",
         "0",
         "0",
         "1",
         "0",
         "0",
         "0",
         "0",
         "0",
         "0",
         "1",
         "0",
         "0",
         "0",
         "0",
         "0",
         "0",
         "0",
         "0",
         "0",
         "0",
         "0",
         "0",
         "0",
         "0",
         "0",
         "0",
         "0",
         "0",
         "0",
         "0",
         "0",
         "0",
         "0",
         "0",
         "0",
         "0",
         "0",
         "0",
         "1",
         "0",
         "0",
         "0",
         "0",
         "0",
         "0",
         "0",
         "0",
         "0",
         "0",
         "0",
         "0",
         "0",
         "0",
         "0",
         "0",
         "0",
         "0",
         "0",
         "0",
         "0",
         "0",
         "0",
         "0",
         "0",
         "0",
         "0",
         "0",
         "0",
         "0",
         "0",
         "0",
         "0",
         "0",
         "0",
         "0",
         "0",
         "0",
         "0",
         "0",
         "0",
         "0",
         "0",
         "0",
         "0",
         "0",
         "0",
         "0",
         "0",
         "0",
         "0",
         "0",
         "0",
         "1",
         "0",
         "0",
         "0",
         "0",
         "0",
         "0",
         "0",
         "0",
         "0",
         "0",
         "0",
         "0",
         "0",
         "0",
         "0",
         "0",
         "0",
         "0",
         "0",
         "0",
         "0",
         "0",
         "0",
         "0",
         "0",
         "0",
         "0",
         "0",
         "0",
         "0",
         "0",
         "0",
         "0",
         "0",
         "0",
         "0",
         "0",
         "0",
         "0",
         "0",
         "0",
         "0",
         "0",
         "0",
         "0",
         "0",
         "1",
         "0",
         "0",
         "0",
         "0",
         "0",
         "0",
         "0",
         "0",
         "0",
         "0",
         "0",
         "0",
         "0",
         "0",
         "0",
         "0",
         "0",
         "0",
         "0",
         "0",
         "0",
         "0",
         "0",
         "0",
         "0",
         "0",
         "0",
         "0",
         "0",
         "0",
         "0",
         "0",
         "1",
         "0",
         "0",
         "0",
         "0",
         "0",
         "0",
         "0",
         "0",
         "0",
         "0",
         "0",
         "1",
         "0",
         "0",
         "0",
         "1",
         "0",
         "0",
         "0",
         "0",
         "0",
         "0",
         "0",
         "1",
         "0",
         "0",
         "0",
         "0",
         "0",
         "0",
         "0",
         "0",
         "0",
         "0",
         "0",
         "0",
         "0",
         "0",
         "0",
         "0",
         "1",
         "0",
         "0",
         "0",
         "0",
         "0",
         "0",
         "0",
         "0",
         "0",
         "0",
         "0",
         "0",
         "0",
         "0",
         "0",
         "0",
         "0",
         "0",
         "0",
         "0",
         "0",
         "0",
         "0",
         "0",
         "0",
         "0",
         "0",
         "0",
         "0",
         "0",
         "0",
         "0",
         "0",
         "0",
         "0",
         "0",
         "0",
         "0",
         "0",
         "0",
         "0",
         "0",
         "0",
         "0",
         "0",
         "1",
         "0",
         "0",
         "0",
         "0",
         "0",
         "0",
         "0",
         "0",
         "0",
         "0",
         "0",
         "0",
         "0",
         "0",
         "1",
         "0",
         "0",
         "0",
         "0",
         "0",
         "0",
         "0",
         "0",
         "0",
         "0",
         "0",
         "0",
         "0",
         "0",
         "0",
         "0",
         "0",
         "0",
         "0",
         "0",
         "0",
         "0",
         "0",
         "0",
         "0",
         "0",
         "0",
         "0",
         "0",
         "0",
         "0",
         "0",
         "1",
         "0",
         "0",
         "0",
         "0",
         "0",
         "0",
         "0",
         "0",
         "0",
         "0",
         "0",
         "0",
         "0",
         "0",
         "0",
         "0",
         "0",
         "0",
         "0",
         "0",
         "0",
         "0",
         "0",
         "0",
         "0",
         "0",
         "0",
         "0",
         "0",
         "0",
         "0",
         "0",
         "0",
         "0",
         "0",
         "0",
         "0",
         "1",
         "0",
         "0",
         "0",
         "1",
         "0",
         "0",
         "0",
         "0",
         "0",
         "0",
         "0",
         "0",
         "0",
         "0",
         "0",
         "0",
         "1",
         "0",
         "1",
         "0",
         "0",
         "0",
         "0",
         "0",
         "0",
         "0",
         "0",
         "0",
         "0",
         "0",
         "0",
         "0",
         "0",
         "0",
         "0",
         "0",
         "0",
         "0",
         "0",
         "0",
         "0",
         "0",
         "0",
         "0",
         "0",
         "0",
         "0",
         "0",
         "0",
         "0",
         "1",
         "0",
         "0",
         "0",
         "0",
         "0",
         "0",
         "0",
         "0",
         "0",
         "0",
         "0",
         "0",
         "0",
         "0",
         "0",
         "0",
         "0",
         "0",
         "0",
         "0",
         "0",
         "0",
         "0",
         "0",
         "0",
         "0",
         "0",
         "1",
         "0",
         "0",
         "0",
         "0",
         "0",
         "0",
         "1",
         "0",
         "0",
         "0",
         "0",
         "0",
         "0",
         "0",
         "0",
         "0",
         "0",
         "0",
         "0",
         "0",
         "0",
         "0",
         "0",
         "0",
         "0",
         "0",
         "0",
         "0",
         "0",
         "0",
         "1",
         "0",
         "0",
         "0",
         "0",
         "0",
         "0",
         "0",
         "0",
         "0",
         "0",
         "0",
         "0",
         "0",
         "0",
         "0",
         "0",
         "0",
         "0",
         "0",
         "0",
         "0",
         "0",
         "0",
         "0",
         "0",
         "0",
         "1",
         "636.725",
         "2",
         "3",
         "7",
         "12",
         "17.49",
         "20.17",
         "13.49",
         "9.64",
         "1.48",
         "4.0",
         "11.6",
         "16.83",
         "-7.41",
         "-4.8",
         "123.76",
         "-5.34",
         "-3.4",
         "3",
         "15",
         "3",
         "18",
         "2",
         "0.5151515151515151",
         "0",
         "2",
         "2",
         "4",
         "1",
         "6",
         "2",
         "12"
        ],
        [
         "2",
         "KT-0001676",
         "0.186650854",
         "22.74431405",
         "0.0540865675",
         "13.13531675244414",
         "13.13531675244414",
         "0.0654346688713212",
         "-3.567807606455703",
         "0.0604394536887127",
         "16.555555555555557",
         "899.5589999999999",
         "840.0869999999998",
         "898.396680288",
         "336",
         "0",
         "0.3290848062352085",
         "-0.4888217167567875",
         "0.4888217167567875",
         "0.3290848062352085",
         "0.9047619047619048",
         "1.6507936507936507",
         "2.380952380952381",
         "3.4882533357834635",
         "0.9121127243397734",
         "2652.0963635359394",
         "-5.25",
         "60678022940422.31",
         "45.76393310265283",
         "19.647041930925013",
         "10.423469387755102",
         "374.2555424042628",
         "169.55",
         "0.4680851063829787",
         "63",
         "3",
         "14",
         "0",
         "2",
         "2",
         "2",
         "3",
         "2",
         "5",
         "1",
         "0",
         "13",
         "3",
         "16",
         "4",
         "17",
         "0",
         "2",
         "2",
         "0",
         "1",
         "14.271839882410594",
         "7",
         "8.508520000000006",
         "248.50089999999932",
         "0",
         "0",
         "0",
         "0",
         "0",
         "4",
         "0",
         "0",
         "0",
         "0",
         "2",
         "2",
         "0",
         "0",
         "0",
         "5",
         "3",
         "0",
         "0",
         "0",
         "1",
         "0",
         "0",
         "0",
         "0",
         "0",
         "0",
         "2",
         "0",
         "4",
         "3",
         "0",
         "0",
         "0",
         "3",
         "0",
         "1",
         "0",
         "0",
         "0",
         "0",
         "1",
         "0",
         "0",
         "1",
         "0",
         "0",
         "1",
         "1",
         "0",
         "0",
         "0",
         "0",
         "0",
         "0",
         "0",
         "0",
         "0",
         "0",
         "0",
         "0",
         "0",
         "0",
         "0",
         "1",
         "0",
         "0",
         "0",
         "0",
         "2",
         "0",
         "0",
         "0",
         "0",
         "0",
         "0",
         "0",
         "1",
         "0",
         "0",
         "0",
         "0",
         "0",
         "3",
         "0",
         "0",
         "1",
         "0",
         "0",
         "0",
         "0",
         "0",
         "0",
         "0",
         "0",
         "0",
         "0",
         "0",
         "0",
         "0",
         "0",
         "0",
         "0",
         "0",
         "0",
         "0",
         "0",
         "0",
         "0",
         "0",
         "0",
         "0",
         "1",
         "0",
         "0",
         "0",
         "0",
         "0",
         "0",
         "1",
         "0",
         "0",
         "0",
         "0",
         "0",
         "0",
         "0",
         "0",
         "0",
         "0",
         "1",
         "0",
         "0",
         "0",
         "0",
         "0",
         "0",
         "0",
         "0",
         "0",
         "1",
         "0",
         "0",
         "0",
         "0",
         "0",
         "0",
         "0",
         "0",
         "0",
         "0",
         "0",
         "0",
         "0",
         "0",
         "0",
         "0",
         "0",
         "0",
         "0",
         "0",
         "0",
         "0",
         "0",
         "0",
         "1",
         "0",
         "0",
         "0",
         "0",
         "0",
         "0",
         "0",
         "0",
         "0",
         "0",
         "0",
         "0",
         "0",
         "0",
         "0",
         "0",
         "0",
         "0",
         "0",
         "0",
         "0",
         "0",
         "0",
         "1",
         "1",
         "0",
         "0",
         "0",
         "0",
         "0",
         "0",
         "0",
         "0",
         "0",
         "0",
         "1",
         "0",
         "0",
         "0",
         "0",
         "0",
         "0",
         "0",
         "0",
         "0",
         "0",
         "0",
         "0",
         "0",
         "0",
         "0",
         "0",
         "0",
         "0",
         "0",
         "0",
         "0",
         "0",
         "0",
         "0",
         "0",
         "0",
         "0",
         "0",
         "0",
         "0",
         "0",
         "0",
         "0",
         "0",
         "0",
         "0",
         "0",
         "0",
         "0",
         "0",
         "0",
         "0",
         "0",
         "0",
         "0",
         "0",
         "0",
         "0",
         "0",
         "0",
         "1",
         "0",
         "0",
         "0",
         "0",
         "0",
         "0",
         "0",
         "0",
         "0",
         "0",
         "0",
         "0",
         "0",
         "0",
         "0",
         "0",
         "0",
         "0",
         "0",
         "0",
         "0",
         "1",
         "0",
         "0",
         "0",
         "0",
         "0",
         "0",
         "0",
         "0",
         "0",
         "0",
         "0",
         "0",
         "0",
         "0",
         "0",
         "0",
         "0",
         "0",
         "0",
         "0",
         "0",
         "0",
         "0",
         "0",
         "0",
         "0",
         "0",
         "0",
         "0",
         "0",
         "0",
         "0",
         "0",
         "0",
         "0",
         "0",
         "0",
         "0",
         "0",
         "0",
         "0",
         "0",
         "0",
         "1",
         "0",
         "0",
         "0",
         "1",
         "0",
         "0",
         "0",
         "0",
         "0",
         "0",
         "0",
         "0",
         "0",
         "0",
         "0",
         "0",
         "0",
         "0",
         "0",
         "0",
         "0",
         "0",
         "0",
         "0",
         "0",
         "0",
         "0",
         "0",
         "0",
         "0",
         "0",
         "0",
         "0",
         "0",
         "0",
         "0",
         "0",
         "0",
         "0",
         "0",
         "0",
         "0",
         "0",
         "0",
         "0",
         "0",
         "0",
         "0",
         "0",
         "1",
         "0",
         "0",
         "0",
         "0",
         "0",
         "0",
         "0",
         "0",
         "0",
         "0",
         "0",
         "0",
         "0",
         "0",
         "0",
         "0",
         "0",
         "0",
         "1",
         "0",
         "0",
         "0",
         "0",
         "0",
         "0",
         "0",
         "1",
         "0",
         "0",
         "0",
         "1",
         "0",
         "0",
         "0",
         "0",
         "0",
         "0",
         "0",
         "0",
         "0",
         "0",
         "0",
         "0",
         "0",
         "0",
         "0",
         "0",
         "0",
         "0",
         "0",
         "0",
         "0",
         "0",
         "0",
         "0",
         "0",
         "0",
         "0",
         "0",
         "0",
         "0",
         "0",
         "0",
         "0",
         "0",
         "0",
         "1",
         "0",
         "0",
         "0",
         "0",
         "0",
         "0",
         "0",
         "0",
         "0",
         "0",
         "0",
         "0",
         "0",
         "0",
         "1",
         "1",
         "0",
         "0",
         "0",
         "0",
         "0",
         "0",
         "0",
         "0",
         "0",
         "0",
         "0",
         "1",
         "0",
         "0",
         "0",
         "0",
         "0",
         "0",
         "0",
         "0",
         "0",
         "0",
         "0",
         "0",
         "0",
         "1",
         "0",
         "1",
         "0",
         "0",
         "0",
         "0",
         "0",
         "0",
         "0",
         "0",
         "0",
         "0",
         "0",
         "0",
         "0",
         "0",
         "1",
         "0",
         "0",
         "0",
         "0",
         "0",
         "0",
         "0",
         "0",
         "0",
         "0",
         "0",
         "0",
         "0",
         "0",
         "0",
         "0",
         "0",
         "0",
         "0",
         "0",
         "0",
         "0",
         "0",
         "0",
         "0",
         "0",
         "0",
         "0",
         "0",
         "0",
         "0",
         "0",
         "0",
         "0",
         "0",
         "0",
         "0",
         "0",
         "0",
         "0",
         "0",
         "0",
         "0",
         "0",
         "0",
         "0",
         "0",
         "0",
         "1",
         "0",
         "0",
         "0",
         "0",
         "0",
         "0",
         "0",
         "0",
         "0",
         "0",
         "0",
         "0",
         "0",
         "0",
         "0",
         "0",
         "0",
         "0",
         "0",
         "0",
         "0",
         "0",
         "0",
         "0",
         "0",
         "0",
         "0",
         "0",
         "0",
         "0",
         "1",
         "0",
         "1",
         "0",
         "0",
         "0",
         "0",
         "0",
         "0",
         "0",
         "0",
         "0",
         "0",
         "0",
         "1",
         "1",
         "0",
         "0",
         "0",
         "0",
         "0",
         "0",
         "0",
         "0",
         "0",
         "0",
         "0",
         "0",
         "0",
         "0",
         "0",
         "0",
         "0",
         "0",
         "0",
         "0",
         "0",
         "0",
         "0",
         "0",
         "0",
         "0",
         "0",
         "0",
         "1",
         "0",
         "0",
         "0",
         "0",
         "0",
         "0",
         "0",
         "0",
         "0",
         "0",
         "1",
         "0",
         "0",
         "1",
         "0",
         "0",
         "0",
         "0",
         "0",
         "0",
         "0",
         "1",
         "0",
         "0",
         "0",
         "0",
         "0",
         "1",
         "0",
         "0",
         "1",
         "0",
         "0",
         "0",
         "0",
         "0",
         "0",
         "0",
         "0",
         "0",
         "0",
         "0",
         "0",
         "0",
         "0",
         "0",
         "0",
         "0",
         "0",
         "0",
         "0",
         "1",
         "0",
         "1",
         "0",
         "0",
         "0",
         "0",
         "0",
         "0",
         "0",
         "0",
         "0",
         "0",
         "0",
         "0",
         "0",
         "1",
         "0",
         "0",
         "0",
         "0",
         "0",
         "0",
         "0",
         "0",
         "0",
         "0",
         "0",
         "0",
         "0",
         "0",
         "0",
         "0",
         "0",
         "0",
         "0",
         "0",
         "0",
         "0",
         "0",
         "0",
         "0",
         "1",
         "0",
         "0",
         "1",
         "0",
         "0",
         "0",
         "0",
         "0",
         "0",
         "0",
         "0",
         "0",
         "0",
         "1",
         "0",
         "0",
         "0",
         "0",
         "0",
         "0",
         "0",
         "0",
         "1",
         "0",
         "0",
         "1",
         "0",
         "0",
         "0",
         "0",
         "1",
         "0",
         "1",
         "1",
         "0",
         "0",
         "1",
         "0",
         "0",
         "1",
         "0",
         "0",
         "0",
         "0",
         "0",
         "0",
         "0",
         "0",
         "0",
         "0",
         "0",
         "0",
         "0",
         "0",
         "1",
         "1",
         "0",
         "0",
         "0",
         "0",
         "0",
         "0",
         "0",
         "0",
         "0",
         "0",
         "0",
         "1",
         "0",
         "1",
         "0",
         "0",
         "0",
         "0",
         "0",
         "0",
         "0",
         "0",
         "0",
         "0",
         "1",
         "0",
         "0",
         "0",
         "0",
         "0",
         "0",
         "0",
         "0",
         "0",
         "0",
         "0",
         "0",
         "1",
         "0",
         "0",
         "0",
         "0",
         "0",
         "0",
         "0",
         "0",
         "0",
         "0",
         "0",
         "0",
         "0",
         "0",
         "0",
         "0",
         "0",
         "0",
         "0",
         "0",
         "0",
         "0",
         "0",
         "0",
         "0",
         "0",
         "0",
         "0",
         "0",
         "0",
         "0",
         "0",
         "0",
         "0",
         "0",
         "0",
         "0",
         "0",
         "0",
         "0",
         "0",
         "0",
         "0",
         "0",
         "0",
         "1",
         "0",
         "1",
         "0",
         "1",
         "0",
         "0",
         "0",
         "0",
         "0",
         "0",
         "0",
         "0",
         "0",
         "0",
         "0",
         "0",
         "0",
         "0",
         "0",
         "0",
         "0",
         "0",
         "0",
         "0",
         "0",
         "0",
         "0",
         "0",
         "0",
         "0",
         "0",
         "0",
         "0",
         "0",
         "1",
         "0",
         "1",
         "0",
         "0",
         "0",
         "0",
         "0",
         "0",
         "0",
         "0",
         "0",
         "0",
         "0",
         "0",
         "0",
         "0",
         "0",
         "0",
         "0",
         "0",
         "0",
         "0",
         "0",
         "1",
         "0",
         "0",
         "0",
         "0",
         "0",
         "0",
         "0",
         "0",
         "0",
         "0",
         "0",
         "0",
         "0",
         "0",
         "0",
         "0",
         "0",
         "0",
         "0",
         "0",
         "0",
         "0",
         "0",
         "0",
         "0",
         "0",
         "0",
         "0",
         "0",
         "0",
         "0",
         "0",
         "0",
         "0",
         "0",
         "0",
         "0",
         "0",
         "0",
         "0",
         "0",
         "0",
         "0",
         "0",
         "0",
         "0",
         "0",
         "0",
         "1",
         "0",
         "0",
         "0",
         "0",
         "0",
         "0",
         "0",
         "0",
         "0",
         "0",
         "0",
         "0",
         "0",
         "0",
         "1",
         "0",
         "0",
         "1",
         "0",
         "0",
         "0",
         "0",
         "0",
         "0",
         "0",
         "0",
         "1",
         "0",
         "0",
         "0",
         "0",
         "0",
         "0",
         "0",
         "0",
         "0",
         "0",
         "0",
         "0",
         "0",
         "0",
         "0",
         "0",
         "0",
         "0",
         "0",
         "1",
         "0",
         "0",
         "0",
         "1",
         "0",
         "0",
         "0",
         "0",
         "0",
         "0",
         "0",
         "0",
         "1",
         "0",
         "0",
         "0",
         "0",
         "1",
         "0",
         "0",
         "0",
         "0",
         "0",
         "0",
         "0",
         "0",
         "0",
         "0",
         "0",
         "0",
         "0",
         "0",
         "0",
         "1",
         "0",
         "0",
         "1",
         "0",
         "0",
         "0",
         "0",
         "0",
         "0",
         "1",
         "0",
         "0",
         "0",
         "0",
         "0",
         "0",
         "0",
         "0",
         "0",
         "0",
         "0",
         "1",
         "0",
         "0",
         "0",
         "0",
         "0",
         "1",
         "0",
         "0",
         "0",
         "0",
         "0",
         "0",
         "0",
         "1",
         "0",
         "0",
         "0",
         "0",
         "0",
         "0",
         "0",
         "0",
         "0",
         "0",
         "0",
         "0",
         "0",
         "0",
         "0",
         "0",
         "0",
         "0",
         "0",
         "0",
         "0",
         "0",
         "0",
         "0",
         "0",
         "0",
         "1",
         "0",
         "0",
         "0",
         "0",
         "0",
         "0",
         "0",
         "1",
         "0",
         "0",
         "0",
         "0",
         "0",
         "0",
         "1",
         "0",
         "0",
         "0",
         "0",
         "0",
         "0",
         "1",
         "0",
         "0",
         "0",
         "0",
         "0",
         "0",
         "0",
         "1",
         "0",
         "0",
         "0",
         "0",
         "1",
         "0",
         "0",
         "1",
         "1",
         "0",
         "1",
         "0",
         "0",
         "0",
         "0",
         "0",
         "0",
         "0",
         "0",
         "0",
         "0",
         "0",
         "0",
         "0",
         "0",
         "0",
         "0",
         "0",
         "0",
         "0",
         "0",
         "0",
         "0",
         "1",
         "0",
         "0",
         "0",
         "0",
         "1",
         "0",
         "0",
         "0",
         "0",
         "0",
         "0",
         "0",
         "0",
         "0",
         "0",
         "0",
         "0",
         "0",
         "0",
         "0",
         "0",
         "0",
         "0",
         "0",
         "0",
         "0",
         "0",
         "0",
         "0",
         "0",
         "1",
         "0",
         "0",
         "0",
         "0",
         "0",
         "0",
         "0",
         "0",
         "0",
         "0",
         "0",
         "0",
         "0",
         "0",
         "0",
         "0",
         "0",
         "0",
         "0",
         "0",
         "0",
         "0",
         "0",
         "0",
         "0",
         "0",
         "0",
         "0",
         "1",
         "0",
         "1",
         "0",
         "0",
         "0",
         "0",
         "0",
         "0",
         "1",
         "0",
         "0",
         "0",
         "0",
         "0",
         "0",
         "0",
         "0",
         "0",
         "0",
         "0",
         "0",
         "0",
         "0",
         "1",
         "0",
         "0",
         "0",
         "0",
         "0",
         "0",
         "0",
         "0",
         "0",
         "0",
         "0",
         "0",
         "0",
         "0",
         "0",
         "0",
         "1",
         "0",
         "0",
         "0",
         "0",
         "0",
         "0",
         "0",
         "0",
         "0",
         "0",
         "0",
         "0",
         "0",
         "0",
         "1",
         "0",
         "0",
         "0",
         "0",
         "0",
         "0",
         "0",
         "0",
         "0",
         "0",
         "0",
         "0",
         "0",
         "0",
         "0",
         "0",
         "0",
         "0",
         "0",
         "0",
         "0",
         "0",
         "0",
         "0",
         "1",
         "0",
         "0",
         "0",
         "0",
         "0",
         "0",
         "0",
         "0",
         "0",
         "0",
         "0",
         "0",
         "0",
         "0",
         "0",
         "0",
         "0",
         "0",
         "1",
         "0",
         "0",
         "0",
         "0",
         "0",
         "0",
         "0",
         "0",
         "0",
         "1",
         "0",
         "1",
         "0",
         "0",
         "0",
         "0",
         "0",
         "1",
         "0",
         "1",
         "0",
         "0",
         "0",
         "0",
         "1",
         "0",
         "0",
         "0",
         "0",
         "0",
         "0",
         "0",
         "0",
         "0",
         "0",
         "0",
         "0",
         "0",
         "0",
         "0",
         "0",
         "0",
         "0",
         "0",
         "0",
         "0",
         "0",
         "0",
         "0",
         "0",
         "0",
         "0",
         "0",
         "0",
         "0",
         "1",
         "0",
         "0",
         "0",
         "0",
         "0",
         "0",
         "0",
         "0",
         "0",
         "0",
         "0",
         "0",
         "1",
         "0",
         "0",
         "0",
         "0",
         "0",
         "0",
         "0",
         "0",
         "1",
         "0",
         "0",
         "0",
         "1",
         "0",
         "0",
         "0",
         "0",
         "0",
         "0",
         "0",
         "0",
         "0",
         "0",
         "0",
         "0",
         "0",
         "0",
         "0",
         "0",
         "0",
         "0",
         "0",
         "0",
         "0",
         "0",
         "0",
         "0",
         "0",
         "0",
         "0",
         "0",
         "0",
         "0",
         "0",
         "0",
         "0",
         "0",
         "0",
         "0",
         "0",
         "0",
         "1",
         "0",
         "1",
         "0",
         "0",
         "0",
         "0",
         "0",
         "0",
         "0",
         "0",
         "0",
         "0",
         "0",
         "0",
         "0",
         "1",
         "0",
         "0",
         "0",
         "0",
         "0",
         "0",
         "0",
         "0",
         "0",
         "0",
         "1",
         "0",
         "0",
         "0",
         "0",
         "0",
         "0",
         "0",
         "0",
         "0",
         "0",
         "0",
         "0",
         "0",
         "0",
         "0",
         "0",
         "0",
         "0",
         "0",
         "0",
         "0",
         "0",
         "0",
         "0",
         "0",
         "0",
         "0",
         "0",
         "0",
         "0",
         "0",
         "0",
         "0",
         "0",
         "0",
         "0",
         "0",
         "0",
         "0",
         "0",
         "0",
         "0",
         "0",
         "0",
         "0",
         "0",
         "0",
         "0",
         "0",
         "0",
         "0",
         "0",
         "0",
         "0",
         "0",
         "0",
         "0",
         "0",
         "0",
         "0",
         "1",
         "0",
         "0",
         "0",
         "0",
         "0",
         "1",
         "0",
         "0",
         "0",
         "0",
         "0",
         "0",
         "0",
         "0",
         "0",
         "0",
         "1",
         "0",
         "0",
         "0",
         "0",
         "0",
         "0",
         "1",
         "0",
         "0",
         "0",
         "1",
         "0",
         "1",
         "0",
         "0",
         "0",
         "0",
         "0",
         "0",
         "0",
         "0",
         "0",
         "0",
         "0",
         "0",
         "0",
         "0",
         "0",
         "0",
         "0",
         "0",
         "0",
         "0",
         "0",
         "0",
         "0",
         "0",
         "0",
         "0",
         "0",
         "0",
         "0",
         "0",
         "0",
         "0",
         "0",
         "0",
         "0",
         "0",
         "0",
         "0",
         "0",
         "0",
         "0",
         "0",
         "0",
         "0",
         "0",
         "0",
         "0",
         "0",
         "0",
         "0",
         "0",
         "0",
         "1",
         "1",
         "0",
         "0",
         "0",
         "0",
         "0",
         "0",
         "0",
         "0",
         "0",
         "0",
         "0",
         "0",
         "0",
         "0",
         "0",
         "0",
         "0",
         "0",
         "0",
         "0",
         "0",
         "0",
         "0",
         "0",
         "0",
         "0",
         "0",
         "0",
         "0",
         "0",
         "0",
         "1",
         "0",
         "0",
         "0",
         "0",
         "0",
         "0",
         "1",
         "0",
         "0",
         "0",
         "0",
         "0",
         "0",
         "1",
         "0",
         "0",
         "0",
         "0",
         "0",
         "0",
         "0",
         "0",
         "0",
         "0",
         "0",
         "0",
         "0",
         "0",
         "0",
         "0",
         "0",
         "0",
         "0",
         "0",
         "0",
         "0",
         "0",
         "0",
         "0",
         "0",
         "0",
         "0",
         "0",
         "0",
         "0",
         "0",
         "0",
         "0",
         "0",
         "0",
         "0",
         "0",
         "0",
         "0",
         "0",
         "0",
         "0",
         "0",
         "0",
         "0",
         "0",
         "0",
         "0",
         "0",
         "0",
         "0",
         "0",
         "0",
         "0",
         "0",
         "0",
         "0",
         "0",
         "0",
         "0",
         "0",
         "0",
         "0",
         "0",
         "0",
         "0",
         "0",
         "0",
         "0",
         "0",
         "0",
         "0",
         "0",
         "0",
         "1",
         "0",
         "0",
         "0",
         "0",
         "0",
         "0",
         "0",
         "0",
         "0",
         "0",
         "0",
         "0",
         "0",
         "0",
         "0",
         "0",
         "0",
         "1",
         "0",
         "0",
         "0",
         "0",
         "0",
         "0",
         "1",
         "0",
         "0",
         "0",
         "0",
         "0",
         "0",
         "0",
         "0",
         "0",
         "0",
         "0",
         "0",
         "1",
         "0",
         "0",
         "0",
         "0",
         "0",
         "0",
         "0",
         "0",
         "1",
         "0",
         "0",
         "0",
         "0",
         "0",
         "0",
         "0",
         "0",
         "0",
         "0",
         "0",
         "0",
         "0",
         "0",
         "0",
         "0",
         "1",
         "0",
         "0",
         "0",
         "0",
         "0",
         "0",
         "0",
         "0",
         "0",
         "0",
         "0",
         "0",
         "0",
         "0",
         "0",
         "1",
         "0",
         "0",
         "0",
         "0",
         "0",
         "1",
         "0",
         "0",
         "0",
         "0",
         "0",
         "1",
         "0",
         "0",
         "0",
         "1",
         "0",
         "0",
         "0",
         "0",
         "0",
         "0",
         "0",
         "1",
         "0",
         "0",
         "0",
         "0",
         "0",
         "0",
         "0",
         "0",
         "0",
         "0",
         "0",
         "0",
         "0",
         "0",
         "0",
         "0",
         "0",
         "0",
         "0",
         "0",
         "0",
         "0",
         "0",
         "0",
         "0",
         "0",
         "0",
         "0",
         "1",
         "0",
         "0",
         "0",
         "0",
         "0",
         "0",
         "0",
         "0",
         "0",
         "0",
         "0",
         "0",
         "0",
         "0",
         "0",
         "0",
         "0",
         "0",
         "0",
         "0",
         "0",
         "0",
         "0",
         "0",
         "0",
         "0",
         "0",
         "0",
         "0",
         "0",
         "0",
         "0",
         "0",
         "0",
         "0",
         "0",
         "0",
         "0",
         "0",
         "0",
         "0",
         "0",
         "0",
         "0",
         "0",
         "0",
         "0",
         "0",
         "0",
         "0",
         "0",
         "1",
         "0",
         "0",
         "0",
         "0",
         "0",
         "0",
         "0",
         "0",
         "0",
         "0",
         "0",
         "1",
         "0",
         "0",
         "0",
         "1",
         "0",
         "0",
         "0",
         "0",
         "0",
         "0",
         "0",
         "0",
         "0",
         "0",
         "0",
         "0",
         "0",
         "1",
         "0",
         "0",
         "0",
         "0",
         "0",
         "0",
         "0",
         "0",
         "0",
         "0",
         "0",
         "0",
         "0",
         "0",
         "0",
         "0",
         "0",
         "0",
         "0",
         "0",
         "0",
         "0",
         "0",
         "0",
         "0",
         "0",
         "0",
         "0",
         "0",
         "0",
         "0",
         "1",
         "0",
         "0",
         "0",
         "0",
         "0",
         "1",
         "0",
         "1",
         "0",
         "0",
         "0",
         "0",
         "0",
         "0",
         "0",
         "0",
         "0",
         "0",
         "0",
         "0",
         "0",
         "0",
         "0",
         "0",
         "0",
         "0",
         "0",
         "0",
         "1",
         "0",
         "0",
         "0",
         "0",
         "0",
         "0",
         "0",
         "0",
         "0",
         "0",
         "0",
         "0",
         "0",
         "0",
         "1",
         "0",
         "0",
         "0",
         "0",
         "0",
         "0",
         "0",
         "0",
         "0",
         "0",
         "0",
         "0",
         "1",
         "0",
         "0",
         "0",
         "0",
         "0",
         "0",
         "0",
         "1",
         "0",
         "0",
         "0",
         "0",
         "0",
         "0",
         "0",
         "1",
         "0",
         "0",
         "0",
         "0",
         "0",
         "0",
         "0",
         "0",
         "0",
         "0",
         "0",
         "0",
         "1",
         "0",
         "0",
         "0",
         "0",
         "0",
         "1",
         "0",
         "0",
         "1",
         "0",
         "0",
         "0",
         "0",
         "0",
         "0",
         "0",
         "0",
         "0",
         "0",
         "0",
         "0",
         "0",
         "0",
         "0",
         "0",
         "0",
         "0",
         "0",
         "0",
         "1",
         "0",
         "0",
         "0",
         "0",
         "0",
         "0",
         "0",
         "0",
         "0",
         "0",
         "0",
         "0",
         "0",
         "0",
         "0",
         "0",
         "0",
         "0",
         "0",
         "0",
         "0",
         "0",
         "0",
         "0",
         "0",
         "0",
         "1",
         "899.55",
         "4",
         "4",
         "10",
         "16",
         "11.97",
         "12.59",
         "11.04",
         "10.6",
         "6.28",
         "7.93",
         "11.43",
         "12.07",
         "-5.11",
         "2.24",
         "166.17",
         "-7.98",
         "-5.76",
         "2",
         "27",
         "5",
         "29",
         "1",
         "0.4680851063829787",
         "0",
         "2",
         "2",
         "4",
         "2",
         "6",
         "2",
         "17"
        ],
        [
         "3",
         "KT-0001685",
         "0.482283502",
         "70.05657718",
         "1.064458194",
         "14.849205448328302",
         "14.849205448328302",
         "0.0932364798421843",
         "-0.7391967453279709",
         "0.2311739191702412",
         "20.08510638297872",
         "652.6800000000004",
         "615.3840000000004",
         "652.265690364",
         "250",
         "0",
         "0.4143165102001161",
         "-0.4420459819239308",
         "0.4420459819239308",
         "0.4143165102001161",
         "1.0851063829787233",
         "1.893617021276596",
         "2.6595744680851063",
         "3.5551244868411724",
         "0.9303517567257604",
         "1748.903663221574",
         "-4.760000000000001",
         "42096458851.93315",
         "32.19151714164649",
         "13.929017444827243",
         "7.000642183208417",
         "268.8684932446841",
         "153.44",
         "0.46875",
         "47",
         "2",
         "14",
         "0",
         "3",
         "3",
         "4",
         "2",
         "1",
         "3",
         "2",
         "0",
         "11",
         "2",
         "15",
         "4",
         "11",
         "0",
         "3",
         "3",
         "0",
         "1",
         "9.540344762584027",
         "6",
         "1.3842000000000014",
         "167.7963999999996",
         "0",
         "0",
         "0",
         "0",
         "0",
         "2",
         "0",
         "0",
         "0",
         "0",
         "4",
         "4",
         "0",
         "0",
         "0",
         "4",
         "2",
         "0",
         "0",
         "0",
         "0",
         "0",
         "0",
         "0",
         "0",
         "0",
         "0",
         "4",
         "0",
         "2",
         "2",
         "0",
         "0",
         "0",
         "2",
         "0",
         "1",
         "0",
         "0",
         "0",
         "0",
         "3",
         "0",
         "0",
         "1",
         "0",
         "0",
         "1",
         "1",
         "0",
         "0",
         "0",
         "0",
         "0",
         "1",
         "0",
         "1",
         "0",
         "0",
         "0",
         "0",
         "0",
         "0",
         "0",
         "0",
         "0",
         "0",
         "0",
         "0",
         "1",
         "0",
         "0",
         "0",
         "0",
         "0",
         "0",
         "0",
         "0",
         "0",
         "0",
         "0",
         "0",
         "0",
         "0",
         "0",
         "0",
         "1",
         "0",
         "0",
         "0",
         "0",
         "0",
         "0",
         "1",
         "0",
         "0",
         "0",
         "0",
         "1",
         "0",
         "0",
         "0",
         "0",
         "0",
         "0",
         "0",
         "0",
         "0",
         "0",
         "0",
         "0",
         "0",
         "0",
         "0",
         "0",
         "0",
         "0",
         "0",
         "0",
         "0",
         "0",
         "0",
         "0",
         "0",
         "0",
         "0",
         "1",
         "0",
         "0",
         "0",
         "1",
         "0",
         "0",
         "0",
         "0",
         "0",
         "0",
         "0",
         "0",
         "0",
         "0",
         "0",
         "0",
         "0",
         "0",
         "0",
         "0",
         "0",
         "0",
         "0",
         "0",
         "0",
         "0",
         "0",
         "0",
         "0",
         "0",
         "0",
         "0",
         "0",
         "0",
         "0",
         "0",
         "0",
         "0",
         "1",
         "0",
         "0",
         "0",
         "0",
         "0",
         "0",
         "0",
         "0",
         "0",
         "0",
         "0",
         "0",
         "0",
         "0",
         "0",
         "0",
         "0",
         "0",
         "0",
         "0",
         "0",
         "0",
         "0",
         "1",
         "0",
         "0",
         "0",
         "0",
         "0",
         "0",
         "0",
         "0",
         "0",
         "0",
         "0",
         "1",
         "0",
         "0",
         "0",
         "0",
         "0",
         "0",
         "0",
         "0",
         "0",
         "0",
         "0",
         "0",
         "0",
         "0",
         "0",
         "0",
         "0",
         "0",
         "0",
         "0",
         "0",
         "0",
         "0",
         "0",
         "0",
         "0",
         "0",
         "0",
         "0",
         "0",
         "0",
         "0",
         "0",
         "0",
         "0",
         "0",
         "0",
         "0",
         "0",
         "0",
         "0",
         "0",
         "0",
         "0",
         "0",
         "0",
         "0",
         "1",
         "0",
         "0",
         "0",
         "0",
         "0",
         "0",
         "0",
         "0",
         "0",
         "0",
         "0",
         "0",
         "0",
         "0",
         "0",
         "0",
         "0",
         "0",
         "0",
         "0",
         "0",
         "0",
         "0",
         "0",
         "1",
         "0",
         "0",
         "0",
         "0",
         "0",
         "0",
         "0",
         "1",
         "0",
         "0",
         "0",
         "0",
         "0",
         "0",
         "0",
         "0",
         "0",
         "0",
         "0",
         "0",
         "0",
         "0",
         "0",
         "0",
         "0",
         "0",
         "0",
         "0",
         "0",
         "1",
         "0",
         "0",
         "0",
         "0",
         "0",
         "0",
         "0",
         "0",
         "0",
         "0",
         "0",
         "1",
         "0",
         "1",
         "0",
         "0",
         "0",
         "1",
         "0",
         "1",
         "0",
         "0",
         "0",
         "0",
         "0",
         "0",
         "0",
         "0",
         "0",
         "0",
         "0",
         "0",
         "0",
         "0",
         "0",
         "0",
         "0",
         "0",
         "0",
         "0",
         "0",
         "0",
         "0",
         "0",
         "0",
         "0",
         "0",
         "0",
         "1",
         "0",
         "0",
         "0",
         "0",
         "0",
         "0",
         "0",
         "0",
         "0",
         "0",
         "0",
         "0",
         "0",
         "0",
         "0",
         "0",
         "0",
         "0",
         "0",
         "0",
         "0",
         "0",
         "0",
         "0",
         "1",
         "0",
         "0",
         "0",
         "0",
         "0",
         "0",
         "0",
         "0",
         "0",
         "0",
         "0",
         "0",
         "0",
         "0",
         "0",
         "0",
         "1",
         "0",
         "0",
         "0",
         "1",
         "0",
         "0",
         "0",
         "0",
         "0",
         "0",
         "0",
         "0",
         "0",
         "0",
         "0",
         "0",
         "0",
         "0",
         "0",
         "0",
         "0",
         "0",
         "0",
         "0",
         "0",
         "0",
         "0",
         "0",
         "0",
         "0",
         "0",
         "0",
         "0",
         "0",
         "0",
         "0",
         "0",
         "0",
         "0",
         "0",
         "0",
         "0",
         "0",
         "0",
         "0",
         "0",
         "0",
         "0",
         "0",
         "0",
         "0",
         "0",
         "0",
         "0",
         "0",
         "0",
         "0",
         "0",
         "0",
         "0",
         "0",
         "0",
         "0",
         "0",
         "0",
         "0",
         "0",
         "0",
         "0",
         "0",
         "0",
         "0",
         "0",
         "0",
         "0",
         "0",
         "0",
         "0",
         "0",
         "0",
         "0",
         "0",
         "0",
         "1",
         "0",
         "0",
         "0",
         "0",
         "0",
         "0",
         "0",
         "0",
         "0",
         "0",
         "0",
         "0",
         "1",
         "0",
         "0",
         "0",
         "0",
         "0",
         "0",
         "0",
         "0",
         "0",
         "0",
         "0",
         "0",
         "0",
         "0",
         "0",
         "0",
         "0",
         "0",
         "0",
         "0",
         "0",
         "0",
         "0",
         "0",
         "0",
         "0",
         "0",
         "0",
         "0",
         "0",
         "0",
         "0",
         "0",
         "0",
         "0",
         "0",
         "0",
         "0",
         "1",
         "0",
         "0",
         "0",
         "0",
         "0",
         "0",
         "0",
         "1",
         "0",
         "1",
         "0",
         "0",
         "0",
         "0",
         "0",
         "0",
         "0",
         "0",
         "0",
         "0",
         "0",
         "0",
         "0",
         "0",
         "0",
         "0",
         "0",
         "0",
         "0",
         "0",
         "0",
         "0",
         "0",
         "0",
         "0",
         "0",
         "0",
         "0",
         "0",
         "0",
         "0",
         "0",
         "0",
         "0",
         "0",
         "0",
         "0",
         "0",
         "0",
         "0",
         "0",
         "0",
         "0",
         "0",
         "1",
         "0",
         "0",
         "0",
         "0",
         "0",
         "0",
         "0",
         "0",
         "0",
         "0",
         "0",
         "0",
         "0",
         "0",
         "0",
         "0",
         "1",
         "0",
         "0",
         "0",
         "1",
         "1",
         "0",
         "0",
         "0",
         "0",
         "0",
         "0",
         "0",
         "0",
         "0",
         "1",
         "0",
         "0",
         "0",
         "0",
         "0",
         "0",
         "0",
         "0",
         "0",
         "0",
         "0",
         "0",
         "0",
         "0",
         "0",
         "0",
         "0",
         "0",
         "0",
         "0",
         "0",
         "0",
         "0",
         "0",
         "0",
         "0",
         "0",
         "0",
         "0",
         "0",
         "1",
         "0",
         "0",
         "0",
         "0",
         "0",
         "0",
         "0",
         "0",
         "0",
         "0",
         "0",
         "0",
         "0",
         "0",
         "0",
         "0",
         "0",
         "0",
         "0",
         "0",
         "0",
         "0",
         "0",
         "0",
         "0",
         "0",
         "0",
         "0",
         "0",
         "0",
         "0",
         "0",
         "0",
         "0",
         "0",
         "0",
         "0",
         "0",
         "0",
         "0",
         "0",
         "1",
         "0",
         "1",
         "0",
         "0",
         "0",
         "0",
         "0",
         "0",
         "0",
         "0",
         "0",
         "0",
         "0",
         "0",
         "0",
         "0",
         "0",
         "0",
         "0",
         "0",
         "1",
         "0",
         "0",
         "0",
         "0",
         "0",
         "0",
         "0",
         "0",
         "0",
         "0",
         "0",
         "0",
         "0",
         "1",
         "0",
         "0",
         "0",
         "0",
         "0",
         "0",
         "0",
         "0",
         "1",
         "0",
         "0",
         "0",
         "0",
         "0",
         "1",
         "0",
         "1",
         "0",
         "0",
         "1",
         "0",
         "0",
         "0",
         "0",
         "0",
         "1",
         "0",
         "0",
         "0",
         "0",
         "0",
         "0",
         "0",
         "0",
         "0",
         "0",
         "0",
         "0",
         "0",
         "0",
         "0",
         "1",
         "0",
         "0",
         "0",
         "0",
         "0",
         "0",
         "0",
         "0",
         "0",
         "0",
         "0",
         "1",
         "0",
         "0",
         "0",
         "1",
         "0",
         "0",
         "0",
         "0",
         "0",
         "0",
         "0",
         "0",
         "0",
         "0",
         "0",
         "0",
         "0",
         "0",
         "0",
         "0",
         "1",
         "0",
         "0",
         "0",
         "0",
         "0",
         "0",
         "0",
         "0",
         "0",
         "0",
         "0",
         "0",
         "0",
         "0",
         "0",
         "0",
         "0",
         "0",
         "0",
         "0",
         "0",
         "0",
         "1",
         "0",
         "0",
         "0",
         "0",
         "0",
         "0",
         "0",
         "0",
         "0",
         "0",
         "1",
         "0",
         "0",
         "0",
         "0",
         "0",
         "0",
         "0",
         "0",
         "0",
         "0",
         "0",
         "0",
         "0",
         "0",
         "0",
         "0",
         "0",
         "0",
         "0",
         "0",
         "1",
         "0",
         "0",
         "0",
         "0",
         "0",
         "0",
         "0",
         "0",
         "0",
         "0",
         "0",
         "0",
         "0",
         "0",
         "0",
         "0",
         "0",
         "0",
         "0",
         "0",
         "0",
         "0",
         "0",
         "0",
         "0",
         "0",
         "0",
         "0",
         "0",
         "0",
         "0",
         "0",
         "1",
         "0",
         "0",
         "1",
         "0",
         "0",
         "0",
         "0",
         "0",
         "0",
         "0",
         "0",
         "0",
         "0",
         "0",
         "0",
         "0",
         "0",
         "0",
         "0",
         "0",
         "0",
         "0",
         "0",
         "0",
         "0",
         "0",
         "0",
         "0",
         "0",
         "0",
         "0",
         "0",
         "0",
         "0",
         "0",
         "0",
         "0",
         "0",
         "0",
         "0",
         "0",
         "0",
         "0",
         "0",
         "0",
         "0",
         "0",
         "0",
         "0",
         "0",
         "0",
         "0",
         "0",
         "1",
         "1",
         "0",
         "0",
         "0",
         "0",
         "0",
         "0",
         "0",
         "0",
         "0",
         "0",
         "0",
         "0",
         "1",
         "0",
         "0",
         "1",
         "0",
         "0",
         "0",
         "0",
         "0",
         "0",
         "0",
         "0",
         "0",
         "0",
         "0",
         "0",
         "0",
         "0",
         "0",
         "0",
         "0",
         "0",
         "0",
         "0",
         "0",
         "0",
         "0",
         "0",
         "0",
         "0",
         "1",
         "0",
         "0",
         "0",
         "0",
         "0",
         "0",
         "0",
         "0",
         "0",
         "0",
         "0",
         "0",
         "0",
         "0",
         "0",
         "0",
         "0",
         "0",
         "0",
         "0",
         "0",
         "0",
         "0",
         "1",
         "0",
         "0",
         "0",
         "0",
         "0",
         "0",
         "0",
         "0",
         "1",
         "0",
         "0",
         "0",
         "0",
         "0",
         "0",
         "0",
         "0",
         "0",
         "0",
         "0",
         "0",
         "0",
         "0",
         "1",
         "0",
         "1",
         "0",
         "0",
         "0",
         "1",
         "0",
         "0",
         "0",
         "0",
         "0",
         "0",
         "0",
         "0",
         "0",
         "0",
         "0",
         "0",
         "0",
         "0",
         "0",
         "0",
         "0",
         "0",
         "0",
         "0",
         "0",
         "1",
         "0",
         "0",
         "0",
         "0",
         "0",
         "0",
         "0",
         "0",
         "0",
         "0",
         "0",
         "0",
         "0",
         "0",
         "0",
         "0",
         "0",
         "0",
         "0",
         "0",
         "0",
         "0",
         "0",
         "0",
         "0",
         "0",
         "0",
         "0",
         "0",
         "0",
         "0",
         "0",
         "0",
         "0",
         "0",
         "1",
         "0",
         "0",
         "0",
         "0",
         "1",
         "0",
         "0",
         "0",
         "0",
         "0",
         "0",
         "0",
         "0",
         "0",
         "0",
         "0",
         "0",
         "0",
         "0",
         "1",
         "0",
         "0",
         "0",
         "0",
         "0",
         "0",
         "1",
         "0",
         "0",
         "0",
         "0",
         "0",
         "0",
         "0",
         "0",
         "0",
         "0",
         "0",
         "0",
         "0",
         "0",
         "0",
         "1",
         "0",
         "0",
         "1",
         "0",
         "0",
         "0",
         "0",
         "0",
         "0",
         "0",
         "0",
         "0",
         "0",
         "0",
         "0",
         "0",
         "0",
         "0",
         "0",
         "0",
         "0",
         "0",
         "0",
         "0",
         "0",
         "0",
         "0",
         "0",
         "0",
         "0",
         "0",
         "0",
         "0",
         "0",
         "0",
         "0",
         "0",
         "0",
         "0",
         "0",
         "0",
         "0",
         "0",
         "0",
         "0",
         "0",
         "0",
         "0",
         "0",
         "0",
         "0",
         "0",
         "0",
         "0",
         "0",
         "0",
         "1",
         "0",
         "0",
         "0",
         "0",
         "0",
         "0",
         "1",
         "0",
         "0",
         "0",
         "0",
         "0",
         "0",
         "0",
         "0",
         "0",
         "0",
         "0",
         "0",
         "0",
         "0",
         "0",
         "0",
         "1",
         "0",
         "0",
         "0",
         "0",
         "0",
         "0",
         "1",
         "1",
         "0",
         "0",
         "0",
         "0",
         "0",
         "1",
         "0",
         "0",
         "0",
         "0",
         "0",
         "0",
         "0",
         "0",
         "0",
         "0",
         "0",
         "0",
         "0",
         "0",
         "0",
         "0",
         "0",
         "0",
         "0",
         "0",
         "0",
         "0",
         "0",
         "0",
         "0",
         "0",
         "0",
         "0",
         "0",
         "0",
         "0",
         "0",
         "0",
         "0",
         "0",
         "0",
         "0",
         "0",
         "0",
         "0",
         "0",
         "0",
         "0",
         "0",
         "0",
         "0",
         "0",
         "0",
         "0",
         "0",
         "0",
         "0",
         "0",
         "0",
         "0",
         "0",
         "0",
         "0",
         "0",
         "0",
         "0",
         "1",
         "0",
         "0",
         "0",
         "0",
         "0",
         "0",
         "0",
         "1",
         "0",
         "0",
         "0",
         "0",
         "0",
         "0",
         "0",
         "0",
         "0",
         "0",
         "0",
         "0",
         "1",
         "0",
         "0",
         "0",
         "0",
         "0",
         "0",
         "0",
         "1",
         "0",
         "0",
         "0",
         "0",
         "0",
         "0",
         "0",
         "0",
         "0",
         "1",
         "0",
         "1",
         "0",
         "0",
         "0",
         "0",
         "0",
         "0",
         "0",
         "1",
         "0",
         "0",
         "0",
         "0",
         "1",
         "0",
         "0",
         "0",
         "0",
         "0",
         "0",
         "1",
         "0",
         "0",
         "0",
         "0",
         "0",
         "0",
         "0",
         "0",
         "0",
         "0",
         "0",
         "0",
         "0",
         "0",
         "0",
         "0",
         "0",
         "0",
         "0",
         "1",
         "0",
         "0",
         "0",
         "0",
         "0",
         "0",
         "0",
         "0",
         "1",
         "0",
         "0",
         "0",
         "0",
         "0",
         "0",
         "0",
         "1",
         "0",
         "0",
         "0",
         "0",
         "0",
         "0",
         "0",
         "0",
         "0",
         "0",
         "0",
         "0",
         "1",
         "0",
         "0",
         "0",
         "0",
         "0",
         "0",
         "0",
         "0",
         "0",
         "0",
         "0",
         "0",
         "1",
         "0",
         "0",
         "0",
         "0",
         "0",
         "0",
         "0",
         "0",
         "0",
         "0",
         "0",
         "0",
         "0",
         "0",
         "0",
         "0",
         "0",
         "0",
         "0",
         "0",
         "0",
         "0",
         "0",
         "0",
         "0",
         "0",
         "0",
         "0",
         "0",
         "0",
         "0",
         "0",
         "0",
         "0",
         "0",
         "0",
         "0",
         "0",
         "0",
         "0",
         "0",
         "1",
         "0",
         "0",
         "0",
         "0",
         "0",
         "0",
         "0",
         "0",
         "0",
         "0",
         "1",
         "0",
         "0",
         "0",
         "0",
         "0",
         "0",
         "0",
         "0",
         "0",
         "0",
         "0",
         "0",
         "0",
         "1",
         "0",
         "0",
         "0",
         "0",
         "0",
         "0",
         "0",
         "0",
         "0",
         "0",
         "0",
         "0",
         "0",
         "0",
         "0",
         "0",
         "0",
         "0",
         "0",
         "0",
         "0",
         "0",
         "1",
         "0",
         "0",
         "0",
         "0",
         "0",
         "0",
         "0",
         "0",
         "0",
         "0",
         "0",
         "0",
         "1",
         "0",
         "0",
         "0",
         "0",
         "0",
         "0",
         "0",
         "0",
         "0",
         "0",
         "0",
         "0",
         "0",
         "0",
         "0",
         "1",
         "0",
         "0",
         "0",
         "0",
         "0",
         "0",
         "0",
         "0",
         "0",
         "0",
         "0",
         "1",
         "0",
         "0",
         "0",
         "0",
         "0",
         "0",
         "0",
         "0",
         "0",
         "0",
         "1",
         "0",
         "0",
         "0",
         "0",
         "0",
         "0",
         "0",
         "0",
         "0",
         "0",
         "0",
         "0",
         "0",
         "0",
         "0",
         "0",
         "0",
         "0",
         "0",
         "0",
         "0",
         "0",
         "0",
         "0",
         "0",
         "0",
         "0",
         "0",
         "0",
         "0",
         "0",
         "0",
         "0",
         "0",
         "0",
         "0",
         "0",
         "0",
         "0",
         "0",
         "0",
         "0",
         "0",
         "0",
         "0",
         "0",
         "0",
         "0",
         "0",
         "0",
         "0",
         "0",
         "0",
         "0",
         "0",
         "1",
         "0",
         "0",
         "0",
         "0",
         "0",
         "0",
         "0",
         "0",
         "0",
         "0",
         "0",
         "0",
         "0",
         "0",
         "0",
         "0",
         "0",
         "0",
         "0",
         "0",
         "0",
         "0",
         "0",
         "0",
         "0",
         "0",
         "0",
         "0",
         "0",
         "0",
         "0",
         "1",
         "0",
         "0",
         "0",
         "0",
         "0",
         "0",
         "1",
         "0",
         "0",
         "0",
         "0",
         "0",
         "0",
         "0",
         "0",
         "0",
         "0",
         "0",
         "0",
         "0",
         "0",
         "0",
         "0",
         "0",
         "0",
         "0",
         "0",
         "0",
         "0",
         "0",
         "0",
         "0",
         "0",
         "0",
         "0",
         "1",
         "0",
         "0",
         "0",
         "0",
         "0",
         "0",
         "0",
         "0",
         "0",
         "0",
         "0",
         "0",
         "0",
         "0",
         "0",
         "0",
         "0",
         "0",
         "0",
         "0",
         "0",
         "0",
         "0",
         "0",
         "0",
         "0",
         "0",
         "0",
         "0",
         "0",
         "0",
         "0",
         "0",
         "0",
         "0",
         "0",
         "0",
         "0",
         "0",
         "0",
         "0",
         "0",
         "0",
         "0",
         "0",
         "0",
         "0",
         "0",
         "0",
         "0",
         "0",
         "0",
         "0",
         "1",
         "0",
         "0",
         "0",
         "0",
         "0",
         "0",
         "0",
         "0",
         "0",
         "0",
         "0",
         "0",
         "0",
         "0",
         "0",
         "0",
         "0",
         "0",
         "0",
         "0",
         "0",
         "0",
         "0",
         "0",
         "0",
         "0",
         "0",
         "0",
         "0",
         "0",
         "0",
         "0",
         "0",
         "0",
         "0",
         "0",
         "0",
         "0",
         "0",
         "0",
         "0",
         "0",
         "0",
         "0",
         "0",
         "0",
         "1",
         "0",
         "0",
         "0",
         "0",
         "0",
         "0",
         "0",
         "0",
         "0",
         "0",
         "0",
         "0",
         "0",
         "0",
         "1",
         "0",
         "0",
         "0",
         "0",
         "0",
         "0",
         "0",
         "0",
         "0",
         "0",
         "0",
         "0",
         "0",
         "0",
         "0",
         "0",
         "0",
         "1",
         "0",
         "0",
         "0",
         "0",
         "0",
         "0",
         "0",
         "0",
         "0",
         "0",
         "0",
         "1",
         "0",
         "0",
         "0",
         "1",
         "0",
         "0",
         "0",
         "0",
         "0",
         "0",
         "0",
         "1",
         "0",
         "0",
         "0",
         "0",
         "0",
         "0",
         "0",
         "0",
         "0",
         "0",
         "0",
         "0",
         "0",
         "0",
         "0",
         "0",
         "0",
         "0",
         "0",
         "0",
         "0",
         "0",
         "0",
         "0",
         "0",
         "0",
         "0",
         "0",
         "0",
         "0",
         "0",
         "0",
         "0",
         "0",
         "0",
         "0",
         "0",
         "0",
         "0",
         "0",
         "0",
         "0",
         "0",
         "0",
         "0",
         "0",
         "0",
         "0",
         "0",
         "0",
         "0",
         "0",
         "0",
         "0",
         "0",
         "0",
         "0",
         "0",
         "0",
         "0",
         "0",
         "0",
         "1",
         "0",
         "0",
         "0",
         "0",
         "0",
         "0",
         "0",
         "0",
         "0",
         "0",
         "0",
         "0",
         "0",
         "0",
         "1",
         "1",
         "0",
         "0",
         "0",
         "0",
         "0",
         "0",
         "0",
         "0",
         "0",
         "0",
         "0",
         "0",
         "0",
         "0",
         "1",
         "0",
         "0",
         "0",
         "0",
         "0",
         "0",
         "0",
         "0",
         "0",
         "0",
         "0",
         "0",
         "0",
         "0",
         "0",
         "0",
         "1",
         "0",
         "0",
         "0",
         "0",
         "0",
         "0",
         "0",
         "0",
         "0",
         "0",
         "0",
         "0",
         "0",
         "0",
         "0",
         "0",
         "0",
         "0",
         "0",
         "0",
         "0",
         "0",
         "0",
         "0",
         "0",
         "0",
         "0",
         "0",
         "0",
         "0",
         "0",
         "0",
         "0",
         "0",
         "0",
         "0",
         "0",
         "1",
         "0",
         "0",
         "1",
         "1",
         "0",
         "1",
         "0",
         "0",
         "0",
         "0",
         "0",
         "0",
         "0",
         "0",
         "0",
         "0",
         "1",
         "0",
         "1",
         "0",
         "0",
         "0",
         "0",
         "0",
         "0",
         "0",
         "0",
         "0",
         "0",
         "0",
         "0",
         "0",
         "0",
         "0",
         "0",
         "0",
         "0",
         "0",
         "0",
         "0",
         "0",
         "0",
         "0",
         "0",
         "0",
         "0",
         "0",
         "0",
         "0",
         "0",
         "1",
         "0",
         "0",
         "0",
         "0",
         "0",
         "0",
         "0",
         "0",
         "0",
         "0",
         "0",
         "0",
         "0",
         "0",
         "0",
         "0",
         "0",
         "0",
         "0",
         "0",
         "0",
         "0",
         "0",
         "0",
         "0",
         "0",
         "0",
         "0",
         "0",
         "1",
         "0",
         "0",
         "0",
         "0",
         "1",
         "0",
         "0",
         "0",
         "0",
         "0",
         "0",
         "1",
         "0",
         "0",
         "0",
         "0",
         "0",
         "0",
         "0",
         "0",
         "0",
         "0",
         "0",
         "0",
         "0",
         "0",
         "0",
         "0",
         "1",
         "0",
         "0",
         "0",
         "0",
         "0",
         "0",
         "0",
         "0",
         "0",
         "0",
         "0",
         "0",
         "0",
         "0",
         "0",
         "0",
         "0",
         "0",
         "0",
         "0",
         "0",
         "0",
         "0",
         "0",
         "0",
         "0",
         "0",
         "652.68",
         "2",
         "2",
         "9",
         "16",
         "19.42",
         "22.42",
         "14.94",
         "8.83",
         "1.28",
         "1.96",
         "11.59",
         "13.65",
         "-4.9",
         "-4.14",
         "150.06",
         "-4.22",
         "-4.22",
         "3",
         "15",
         "3",
         "19",
         "2",
         "0.46875",
         "0",
         "2",
         "2",
         "4",
         "1",
         "6",
         "2",
         "11"
        ],
        [
         "4",
         "KT-0001686",
         "0.642137936",
         "21.73283433",
         "0.4491812375",
         "13.11531675244414",
         "13.11531675244414",
         "0.07932355776021",
         "-3.573347772660689",
         "0.0625303719427508",
         "16.555555555555557",
         "901.5309999999998",
         "844.0749999999997",
         "900.375944844",
         "336",
         "0",
         "0.3290848062352847",
         "-0.4888217167567875",
         "0.4888217167567875",
         "0.3290848062352847",
         "0.9365079365079364",
         "1.6984126984126984",
         "2.4285714285714284",
         "3.4882533357834635",
         "0.9121127243397734",
         "2654.9364801360894",
         "-5.29",
         "60678022940422.31",
         "45.72515209262383",
         "19.62159425800989",
         "10.40742445300259",
         "373.004145519373",
         "178.77999999999997",
         "0.4565217391304347",
         "63",
         "3",
         "15",
         "0",
         "2",
         "2",
         "2",
         "3",
         "2",
         "5",
         "1",
         "0",
         "14",
         "3",
         "17",
         "4",
         "17",
         "0",
         "2",
         "2",
         "0",
         "1",
         "14.241275900750106",
         "7",
         "7.354820000000007",
         "245.46889999999937",
         "0",
         "0",
         "0",
         "0",
         "0",
         "4",
         "0",
         "0",
         "0",
         "0",
         "2",
         "2",
         "0",
         "0",
         "0",
         "5",
         "3",
         "0",
         "0",
         "0",
         "1",
         "0",
         "0",
         "0",
         "0",
         "0",
         "0",
         "2",
         "0",
         "4",
         "3",
         "0",
         "0",
         "0",
         "3",
         "0",
         "1",
         "0",
         "0",
         "0",
         "0",
         "2",
         "0",
         "0",
         "1",
         "0",
         "0",
         "1",
         "1",
         "0",
         "0",
         "0",
         "0",
         "0",
         "0",
         "0",
         "0",
         "0",
         "0",
         "0",
         "0",
         "0",
         "0",
         "0",
         "1",
         "0",
         "0",
         "0",
         "0",
         "2",
         "0",
         "0",
         "0",
         "0",
         "0",
         "0",
         "0",
         "1",
         "0",
         "0",
         "0",
         "0",
         "0",
         "0",
         "0",
         "0",
         "1",
         "0",
         "0",
         "0",
         "0",
         "0",
         "0",
         "0",
         "0",
         "0",
         "0",
         "0",
         "1",
         "0",
         "0",
         "0",
         "0",
         "0",
         "0",
         "0",
         "0",
         "0",
         "0",
         "0",
         "0",
         "0",
         "0",
         "0",
         "0",
         "0",
         "0",
         "0",
         "0",
         "1",
         "0",
         "0",
         "0",
         "0",
         "0",
         "0",
         "0",
         "0",
         "0",
         "0",
         "1",
         "0",
         "0",
         "0",
         "0",
         "0",
         "0",
         "0",
         "0",
         "0",
         "1",
         "0",
         "0",
         "0",
         "0",
         "0",
         "0",
         "0",
         "0",
         "0",
         "0",
         "0",
         "0",
         "0",
         "0",
         "0",
         "0",
         "0",
         "0",
         "0",
         "0",
         "0",
         "0",
         "0",
         "0",
         "1",
         "0",
         "0",
         "0",
         "0",
         "0",
         "0",
         "0",
         "0",
         "0",
         "0",
         "0",
         "0",
         "0",
         "0",
         "0",
         "0",
         "0",
         "0",
         "0",
         "0",
         "0",
         "0",
         "0",
         "1",
         "1",
         "0",
         "0",
         "0",
         "0",
         "0",
         "0",
         "0",
         "0",
         "0",
         "0",
         "1",
         "0",
         "0",
         "0",
         "0",
         "0",
         "0",
         "0",
         "0",
         "0",
         "0",
         "0",
         "0",
         "0",
         "0",
         "0",
         "0",
         "0",
         "0",
         "0",
         "0",
         "0",
         "0",
         "0",
         "0",
         "0",
         "0",
         "0",
         "0",
         "0",
         "0",
         "0",
         "0",
         "0",
         "0",
         "0",
         "0",
         "0",
         "0",
         "0",
         "0",
         "0",
         "0",
         "0",
         "0",
         "0",
         "0",
         "0",
         "0",
         "0",
         "0",
         "1",
         "0",
         "0",
         "0",
         "0",
         "0",
         "0",
         "0",
         "0",
         "0",
         "0",
         "0",
         "0",
         "0",
         "0",
         "0",
         "0",
         "0",
         "0",
         "0",
         "0",
         "0",
         "1",
         "0",
         "0",
         "0",
         "0",
         "0",
         "0",
         "0",
         "0",
         "0",
         "0",
         "0",
         "0",
         "0",
         "0",
         "0",
         "0",
         "0",
         "0",
         "0",
         "0",
         "0",
         "0",
         "0",
         "0",
         "0",
         "0",
         "0",
         "0",
         "0",
         "0",
         "0",
         "0",
         "0",
         "0",
         "0",
         "0",
         "0",
         "0",
         "0",
         "0",
         "0",
         "0",
         "0",
         "1",
         "0",
         "0",
         "0",
         "1",
         "0",
         "0",
         "0",
         "0",
         "0",
         "0",
         "0",
         "0",
         "0",
         "0",
         "0",
         "0",
         "0",
         "0",
         "0",
         "0",
         "0",
         "0",
         "0",
         "0",
         "0",
         "0",
         "0",
         "0",
         "0",
         "0",
         "0",
         "0",
         "0",
         "0",
         "0",
         "0",
         "0",
         "0",
         "0",
         "0",
         "0",
         "0",
         "0",
         "0",
         "0",
         "0",
         "0",
         "0",
         "0",
         "1",
         "0",
         "0",
         "0",
         "0",
         "0",
         "0",
         "0",
         "0",
         "0",
         "0",
         "0",
         "0",
         "0",
         "0",
         "0",
         "0",
         "0",
         "0",
         "1",
         "0",
         "0",
         "0",
         "0",
         "0",
         "0",
         "0",
         "1",
         "0",
         "0",
         "0",
         "1",
         "0",
         "0",
         "0",
         "0",
         "0",
         "0",
         "0",
         "0",
         "0",
         "0",
         "0",
         "0",
         "0",
         "0",
         "0",
         "0",
         "0",
         "0",
         "0",
         "0",
         "0",
         "0",
         "0",
         "0",
         "0",
         "0",
         "0",
         "0",
         "0",
         "0",
         "0",
         "0",
         "0",
         "0",
         "0",
         "1",
         "0",
         "0",
         "0",
         "0",
         "0",
         "0",
         "0",
         "0",
         "0",
         "0",
         "0",
         "0",
         "0",
         "0",
         "1",
         "1",
         "0",
         "0",
         "0",
         "0",
         "0",
         "0",
         "0",
         "0",
         "0",
         "0",
         "0",
         "1",
         "0",
         "0",
         "0",
         "0",
         "0",
         "0",
         "0",
         "0",
         "0",
         "0",
         "0",
         "0",
         "0",
         "1",
         "0",
         "1",
         "0",
         "0",
         "0",
         "0",
         "0",
         "0",
         "0",
         "0",
         "0",
         "0",
         "0",
         "0",
         "0",
         "0",
         "1",
         "0",
         "0",
         "0",
         "0",
         "0",
         "0",
         "0",
         "0",
         "0",
         "0",
         "0",
         "0",
         "0",
         "0",
         "0",
         "0",
         "0",
         "0",
         "0",
         "0",
         "0",
         "0",
         "0",
         "0",
         "0",
         "0",
         "0",
         "0",
         "0",
         "0",
         "0",
         "0",
         "0",
         "0",
         "0",
         "0",
         "0",
         "0",
         "0",
         "0",
         "0",
         "0",
         "0",
         "0",
         "0",
         "0",
         "1",
         "0",
         "1",
         "0",
         "0",
         "0",
         "0",
         "0",
         "0",
         "0",
         "0",
         "0",
         "0",
         "0",
         "0",
         "0",
         "0",
         "0",
         "0",
         "0",
         "0",
         "0",
         "0",
         "0",
         "0",
         "0",
         "0",
         "0",
         "0",
         "0",
         "0",
         "0",
         "0",
         "1",
         "0",
         "1",
         "0",
         "0",
         "0",
         "0",
         "0",
         "0",
         "0",
         "0",
         "0",
         "0",
         "0",
         "1",
         "1",
         "0",
         "0",
         "0",
         "0",
         "0",
         "0",
         "0",
         "0",
         "0",
         "0",
         "0",
         "0",
         "0",
         "0",
         "0",
         "0",
         "0",
         "0",
         "0",
         "0",
         "0",
         "0",
         "0",
         "0",
         "0",
         "0",
         "0",
         "0",
         "1",
         "0",
         "0",
         "0",
         "0",
         "0",
         "0",
         "0",
         "0",
         "0",
         "0",
         "1",
         "0",
         "1",
         "1",
         "0",
         "0",
         "0",
         "0",
         "0",
         "0",
         "0",
         "1",
         "0",
         "0",
         "0",
         "0",
         "0",
         "1",
         "0",
         "0",
         "1",
         "0",
         "0",
         "0",
         "0",
         "0",
         "0",
         "0",
         "0",
         "0",
         "0",
         "0",
         "0",
         "0",
         "0",
         "0",
         "0",
         "0",
         "0",
         "0",
         "0",
         "1",
         "0",
         "1",
         "0",
         "0",
         "0",
         "0",
         "0",
         "0",
         "0",
         "0",
         "0",
         "0",
         "0",
         "0",
         "0",
         "1",
         "0",
         "0",
         "0",
         "0",
         "0",
         "0",
         "0",
         "0",
         "0",
         "0",
         "0",
         "0",
         "0",
         "0",
         "0",
         "0",
         "0",
         "0",
         "0",
         "0",
         "0",
         "0",
         "0",
         "0",
         "0",
         "1",
         "0",
         "0",
         "0",
         "0",
         "0",
         "0",
         "0",
         "0",
         "0",
         "0",
         "0",
         "0",
         "0",
         "1",
         "0",
         "0",
         "0",
         "0",
         "0",
         "0",
         "0",
         "0",
         "1",
         "0",
         "0",
         "1",
         "0",
         "0",
         "0",
         "0",
         "1",
         "0",
         "1",
         "1",
         "0",
         "0",
         "1",
         "0",
         "0",
         "1",
         "0",
         "0",
         "0",
         "0",
         "0",
         "0",
         "0",
         "0",
         "0",
         "0",
         "0",
         "0",
         "0",
         "0",
         "0",
         "1",
         "0",
         "0",
         "0",
         "0",
         "0",
         "0",
         "0",
         "1",
         "0",
         "0",
         "0",
         "1",
         "0",
         "1",
         "0",
         "0",
         "0",
         "0",
         "0",
         "0",
         "0",
         "0",
         "0",
         "0",
         "1",
         "0",
         "0",
         "0",
         "0",
         "0",
         "0",
         "0",
         "0",
         "0",
         "0",
         "0",
         "0",
         "1",
         "0",
         "0",
         "0",
         "0",
         "0",
         "0",
         "0",
         "0",
         "0",
         "0",
         "0",
         "0",
         "0",
         "0",
         "0",
         "0",
         "0",
         "0",
         "0",
         "0",
         "0",
         "0",
         "0",
         "0",
         "0",
         "0",
         "0",
         "0",
         "0",
         "0",
         "0",
         "0",
         "0",
         "0",
         "0",
         "0",
         "0",
         "0",
         "0",
         "0",
         "0",
         "0",
         "0",
         "0",
         "0",
         "1",
         "0",
         "1",
         "0",
         "1",
         "0",
         "0",
         "0",
         "0",
         "0",
         "0",
         "0",
         "0",
         "0",
         "0",
         "0",
         "0",
         "0",
         "0",
         "0",
         "0",
         "0",
         "0",
         "0",
         "0",
         "0",
         "0",
         "0",
         "0",
         "0",
         "0",
         "0",
         "0",
         "0",
         "0",
         "1",
         "0",
         "1",
         "0",
         "0",
         "0",
         "0",
         "0",
         "0",
         "0",
         "0",
         "0",
         "0",
         "0",
         "0",
         "0",
         "0",
         "0",
         "0",
         "0",
         "0",
         "0",
         "0",
         "0",
         "1",
         "0",
         "0",
         "0",
         "0",
         "0",
         "0",
         "0",
         "0",
         "0",
         "0",
         "0",
         "0",
         "0",
         "0",
         "0",
         "0",
         "0",
         "0",
         "0",
         "0",
         "0",
         "0",
         "0",
         "0",
         "0",
         "0",
         "0",
         "0",
         "0",
         "0",
         "0",
         "0",
         "0",
         "0",
         "0",
         "0",
         "0",
         "0",
         "0",
         "0",
         "0",
         "0",
         "0",
         "0",
         "0",
         "0",
         "0",
         "0",
         "1",
         "0",
         "0",
         "0",
         "0",
         "0",
         "0",
         "0",
         "0",
         "0",
         "0",
         "0",
         "0",
         "0",
         "0",
         "1",
         "0",
         "0",
         "0",
         "0",
         "0",
         "0",
         "0",
         "0",
         "0",
         "0",
         "0",
         "1",
         "0",
         "0",
         "0",
         "0",
         "0",
         "0",
         "0",
         "0",
         "0",
         "0",
         "0",
         "0",
         "0",
         "0",
         "0",
         "0",
         "0",
         "0",
         "0",
         "1",
         "0",
         "0",
         "0",
         "1",
         "0",
         "0",
         "0",
         "0",
         "0",
         "0",
         "0",
         "0",
         "1",
         "0",
         "0",
         "0",
         "0",
         "1",
         "0",
         "0",
         "0",
         "0",
         "0",
         "0",
         "0",
         "0",
         "0",
         "0",
         "0",
         "0",
         "0",
         "0",
         "0",
         "1",
         "0",
         "0",
         "0",
         "0",
         "0",
         "0",
         "0",
         "0",
         "0",
         "1",
         "0",
         "0",
         "0",
         "0",
         "0",
         "0",
         "0",
         "0",
         "0",
         "0",
         "0",
         "1",
         "0",
         "0",
         "0",
         "0",
         "0",
         "0",
         "0",
         "0",
         "0",
         "0",
         "0",
         "0",
         "0",
         "1",
         "0",
         "0",
         "0",
         "0",
         "0",
         "0",
         "0",
         "0",
         "0",
         "0",
         "0",
         "0",
         "0",
         "0",
         "0",
         "0",
         "0",
         "0",
         "0",
         "0",
         "0",
         "0",
         "0",
         "0",
         "0",
         "0",
         "1",
         "0",
         "0",
         "0",
         "0",
         "0",
         "0",
         "0",
         "1",
         "0",
         "0",
         "0",
         "0",
         "0",
         "0",
         "1",
         "0",
         "0",
         "0",
         "0",
         "0",
         "0",
         "1",
         "0",
         "0",
         "0",
         "0",
         "0",
         "0",
         "0",
         "1",
         "0",
         "0",
         "0",
         "0",
         "0",
         "0",
         "0",
         "1",
         "1",
         "0",
         "1",
         "0",
         "0",
         "0",
         "0",
         "0",
         "0",
         "0",
         "0",
         "0",
         "0",
         "0",
         "0",
         "0",
         "0",
         "0",
         "0",
         "0",
         "0",
         "0",
         "0",
         "0",
         "0",
         "0",
         "0",
         "0",
         "0",
         "0",
         "1",
         "0",
         "0",
         "0",
         "0",
         "0",
         "0",
         "0",
         "0",
         "0",
         "0",
         "0",
         "0",
         "0",
         "0",
         "0",
         "0",
         "0",
         "0",
         "0",
         "0",
         "0",
         "0",
         "0",
         "0",
         "0",
         "1",
         "0",
         "0",
         "0",
         "0",
         "0",
         "0",
         "0",
         "0",
         "0",
         "0",
         "0",
         "0",
         "0",
         "0",
         "0",
         "0",
         "0",
         "0",
         "0",
         "0",
         "0",
         "0",
         "0",
         "0",
         "0",
         "0",
         "0",
         "0",
         "0",
         "0",
         "1",
         "0",
         "0",
         "0",
         "0",
         "0",
         "0",
         "1",
         "0",
         "0",
         "0",
         "0",
         "0",
         "0",
         "0",
         "0",
         "0",
         "0",
         "0",
         "0",
         "0",
         "0",
         "1",
         "0",
         "0",
         "1",
         "0",
         "0",
         "0",
         "0",
         "0",
         "0",
         "0",
         "0",
         "0",
         "0",
         "0",
         "0",
         "0",
         "0",
         "0",
         "0",
         "0",
         "0",
         "0",
         "0",
         "0",
         "0",
         "0",
         "0",
         "0",
         "0",
         "0",
         "0",
         "1",
         "0",
         "0",
         "0",
         "0",
         "0",
         "0",
         "0",
         "0",
         "0",
         "0",
         "0",
         "0",
         "0",
         "0",
         "0",
         "0",
         "0",
         "0",
         "0",
         "0",
         "0",
         "0",
         "0",
         "0",
         "1",
         "0",
         "0",
         "0",
         "0",
         "0",
         "0",
         "0",
         "0",
         "0",
         "0",
         "0",
         "0",
         "0",
         "0",
         "0",
         "0",
         "0",
         "0",
         "1",
         "0",
         "0",
         "0",
         "0",
         "0",
         "0",
         "0",
         "0",
         "0",
         "1",
         "0",
         "1",
         "0",
         "0",
         "0",
         "0",
         "0",
         "1",
         "0",
         "1",
         "0",
         "0",
         "0",
         "0",
         "1",
         "0",
         "0",
         "0",
         "0",
         "0",
         "0",
         "0",
         "0",
         "0",
         "0",
         "0",
         "0",
         "0",
         "0",
         "0",
         "0",
         "0",
         "0",
         "0",
         "0",
         "0",
         "0",
         "0",
         "0",
         "0",
         "0",
         "0",
         "0",
         "0",
         "0",
         "1",
         "0",
         "0",
         "0",
         "0",
         "0",
         "0",
         "0",
         "0",
         "0",
         "0",
         "0",
         "0",
         "1",
         "0",
         "0",
         "0",
         "0",
         "0",
         "0",
         "0",
         "0",
         "1",
         "0",
         "0",
         "0",
         "1",
         "0",
         "0",
         "0",
         "0",
         "1",
         "0",
         "0",
         "0",
         "0",
         "0",
         "0",
         "0",
         "1",
         "0",
         "0",
         "0",
         "0",
         "0",
         "0",
         "0",
         "0",
         "0",
         "0",
         "0",
         "0",
         "0",
         "0",
         "0",
         "0",
         "0",
         "0",
         "0",
         "0",
         "0",
         "0",
         "0",
         "0",
         "0",
         "1",
         "0",
         "1",
         "0",
         "0",
         "0",
         "0",
         "0",
         "0",
         "0",
         "0",
         "0",
         "0",
         "0",
         "0",
         "0",
         "1",
         "0",
         "0",
         "0",
         "0",
         "0",
         "0",
         "0",
         "0",
         "0",
         "0",
         "1",
         "0",
         "0",
         "0",
         "0",
         "0",
         "0",
         "0",
         "0",
         "0",
         "0",
         "0",
         "0",
         "0",
         "0",
         "0",
         "0",
         "0",
         "0",
         "0",
         "0",
         "0",
         "0",
         "0",
         "0",
         "0",
         "0",
         "0",
         "0",
         "0",
         "0",
         "0",
         "0",
         "0",
         "0",
         "0",
         "0",
         "0",
         "0",
         "0",
         "0",
         "0",
         "0",
         "0",
         "0",
         "0",
         "0",
         "0",
         "1",
         "0",
         "0",
         "0",
         "0",
         "0",
         "0",
         "0",
         "0",
         "0",
         "0",
         "0",
         "0",
         "1",
         "0",
         "0",
         "0",
         "0",
         "0",
         "1",
         "0",
         "0",
         "0",
         "0",
         "0",
         "0",
         "0",
         "0",
         "0",
         "0",
         "1",
         "0",
         "0",
         "0",
         "0",
         "0",
         "0",
         "1",
         "0",
         "0",
         "0",
         "1",
         "0",
         "1",
         "0",
         "0",
         "0",
         "0",
         "0",
         "0",
         "0",
         "0",
         "0",
         "0",
         "0",
         "0",
         "0",
         "0",
         "0",
         "0",
         "0",
         "0",
         "0",
         "0",
         "0",
         "0",
         "0",
         "0",
         "0",
         "0",
         "0",
         "0",
         "0",
         "0",
         "0",
         "0",
         "0",
         "0",
         "0",
         "0",
         "0",
         "0",
         "0",
         "0",
         "0",
         "0",
         "0",
         "0",
         "0",
         "0",
         "0",
         "0",
         "0",
         "0",
         "0",
         "0",
         "1",
         "1",
         "0",
         "0",
         "0",
         "0",
         "0",
         "0",
         "0",
         "0",
         "0",
         "0",
         "0",
         "0",
         "0",
         "0",
         "0",
         "0",
         "0",
         "0",
         "0",
         "0",
         "0",
         "0",
         "0",
         "0",
         "0",
         "0",
         "0",
         "0",
         "0",
         "0",
         "0",
         "1",
         "0",
         "0",
         "0",
         "0",
         "0",
         "0",
         "1",
         "0",
         "0",
         "0",
         "0",
         "0",
         "0",
         "1",
         "0",
         "0",
         "0",
         "0",
         "0",
         "0",
         "0",
         "0",
         "0",
         "0",
         "0",
         "0",
         "0",
         "0",
         "0",
         "0",
         "0",
         "0",
         "0",
         "0",
         "0",
         "0",
         "0",
         "0",
         "0",
         "0",
         "0",
         "0",
         "0",
         "0",
         "0",
         "1",
         "0",
         "0",
         "0",
         "0",
         "0",
         "0",
         "0",
         "0",
         "0",
         "0",
         "0",
         "0",
         "0",
         "0",
         "0",
         "0",
         "0",
         "0",
         "0",
         "0",
         "0",
         "0",
         "0",
         "0",
         "0",
         "0",
         "0",
         "0",
         "0",
         "0",
         "0",
         "0",
         "0",
         "0",
         "0",
         "0",
         "0",
         "0",
         "0",
         "0",
         "0",
         "0",
         "0",
         "1",
         "0",
         "0",
         "0",
         "0",
         "0",
         "0",
         "0",
         "0",
         "0",
         "0",
         "0",
         "0",
         "0",
         "0",
         "0",
         "0",
         "0",
         "1",
         "0",
         "0",
         "0",
         "0",
         "0",
         "0",
         "1",
         "0",
         "0",
         "0",
         "0",
         "0",
         "0",
         "0",
         "0",
         "0",
         "0",
         "0",
         "0",
         "1",
         "0",
         "0",
         "0",
         "0",
         "0",
         "0",
         "0",
         "0",
         "1",
         "0",
         "0",
         "0",
         "0",
         "0",
         "0",
         "0",
         "0",
         "0",
         "0",
         "0",
         "0",
         "0",
         "0",
         "0",
         "0",
         "1",
         "0",
         "0",
         "0",
         "0",
         "0",
         "0",
         "0",
         "0",
         "0",
         "0",
         "0",
         "0",
         "0",
         "0",
         "0",
         "1",
         "0",
         "0",
         "0",
         "0",
         "0",
         "1",
         "0",
         "0",
         "0",
         "0",
         "0",
         "1",
         "0",
         "0",
         "0",
         "1",
         "0",
         "0",
         "0",
         "0",
         "0",
         "0",
         "0",
         "1",
         "0",
         "0",
         "0",
         "0",
         "0",
         "0",
         "0",
         "0",
         "0",
         "0",
         "0",
         "0",
         "0",
         "0",
         "0",
         "0",
         "0",
         "0",
         "0",
         "0",
         "0",
         "0",
         "0",
         "0",
         "0",
         "0",
         "0",
         "0",
         "1",
         "0",
         "0",
         "0",
         "0",
         "0",
         "0",
         "0",
         "0",
         "0",
         "0",
         "0",
         "0",
         "0",
         "0",
         "0",
         "0",
         "0",
         "0",
         "0",
         "0",
         "0",
         "0",
         "0",
         "0",
         "0",
         "0",
         "0",
         "0",
         "0",
         "0",
         "0",
         "0",
         "0",
         "0",
         "0",
         "0",
         "0",
         "0",
         "0",
         "0",
         "0",
         "0",
         "0",
         "0",
         "0",
         "0",
         "0",
         "0",
         "0",
         "0",
         "0",
         "1",
         "0",
         "0",
         "0",
         "0",
         "0",
         "0",
         "0",
         "0",
         "0",
         "0",
         "0",
         "1",
         "0",
         "0",
         "0",
         "1",
         "0",
         "0",
         "0",
         "0",
         "0",
         "0",
         "0",
         "0",
         "0",
         "0",
         "0",
         "0",
         "0",
         "1",
         "0",
         "0",
         "0",
         "0",
         "0",
         "0",
         "0",
         "0",
         "0",
         "0",
         "0",
         "0",
         "0",
         "0",
         "0",
         "0",
         "0",
         "0",
         "0",
         "0",
         "0",
         "0",
         "0",
         "0",
         "0",
         "0",
         "0",
         "0",
         "0",
         "0",
         "0",
         "1",
         "0",
         "0",
         "0",
         "0",
         "0",
         "1",
         "0",
         "1",
         "1",
         "0",
         "0",
         "0",
         "0",
         "0",
         "0",
         "0",
         "0",
         "0",
         "0",
         "0",
         "0",
         "0",
         "0",
         "0",
         "0",
         "0",
         "0",
         "0",
         "1",
         "0",
         "0",
         "0",
         "0",
         "0",
         "0",
         "0",
         "0",
         "0",
         "0",
         "0",
         "0",
         "0",
         "0",
         "1",
         "0",
         "0",
         "0",
         "0",
         "0",
         "0",
         "0",
         "0",
         "0",
         "0",
         "0",
         "0",
         "1",
         "0",
         "0",
         "0",
         "0",
         "0",
         "0",
         "0",
         "1",
         "0",
         "0",
         "0",
         "0",
         "0",
         "0",
         "0",
         "1",
         "0",
         "0",
         "0",
         "0",
         "0",
         "0",
         "0",
         "0",
         "0",
         "0",
         "0",
         "0",
         "1",
         "1",
         "0",
         "0",
         "0",
         "0",
         "1",
         "0",
         "0",
         "1",
         "0",
         "0",
         "0",
         "0",
         "0",
         "0",
         "0",
         "0",
         "0",
         "0",
         "0",
         "0",
         "0",
         "0",
         "0",
         "0",
         "0",
         "0",
         "0",
         "0",
         "1",
         "0",
         "0",
         "0",
         "0",
         "0",
         "0",
         "0",
         "0",
         "0",
         "0",
         "0",
         "0",
         "0",
         "0",
         "0",
         "0",
         "0",
         "0",
         "0",
         "0",
         "0",
         "0",
         "0",
         "0",
         "0",
         "0",
         "1",
         "901.52",
         "4",
         "4",
         "11",
         "18",
         "13.42",
         "14.37",
         "11.99",
         "10.29",
         "5.68",
         "6.75",
         "11.42",
         "12.06",
         "-5.11",
         "2.24",
         "175.4",
         "-6.47",
         "-5.03",
         "2",
         "27",
         "5",
         "29",
         "1",
         "0.4565217391304347",
         "0",
         "2",
         "2",
         "4",
         "2",
         "6",
         "2",
         "17"
        ]
       ],
       "shape": {
        "columns": 2225,
        "rows": 5
       }
      },
      "text/html": [
       "<div>\n",
       "<style scoped>\n",
       "    .dataframe tbody tr th:only-of-type {\n",
       "        vertical-align: middle;\n",
       "    }\n",
       "\n",
       "    .dataframe tbody tr th {\n",
       "        vertical-align: top;\n",
       "    }\n",
       "\n",
       "    .dataframe thead th {\n",
       "        text-align: right;\n",
       "    }\n",
       "</style>\n",
       "<table border=\"1\" class=\"dataframe\">\n",
       "  <thead>\n",
       "    <tr style=\"text-align: right;\">\n",
       "      <th></th>\n",
       "      <th>Compound Name</th>\n",
       "      <th>ADME MDCK(WT) Permeability;Mean;A to B Papp (10^-6 cm/s);(Num)</th>\n",
       "      <th>custDesc_ADME MDCK(WT) Permeability;Mean;A to B Recovery (%)</th>\n",
       "      <th>custDesc_ADME MDCK(WT) Permeability;Mean;B to A Papp (10^-6 cm/s);(Num)</th>\n",
       "      <th>rd_MaxAbsEStateIndex</th>\n",
       "      <th>rd_MaxEStateIndex</th>\n",
       "      <th>rd_MinAbsEStateIndex</th>\n",
       "      <th>rd_MinEStateIndex</th>\n",
       "      <th>rd_qed</th>\n",
       "      <th>rd_SPS</th>\n",
       "      <th>...</th>\n",
       "      <th>cx_topology-analyser_chiralCenterCount</th>\n",
       "      <th>cx_topology-analyser_fsp3</th>\n",
       "      <th>cx_topology-analyser_fusedAliphaticRingCount</th>\n",
       "      <th>cx_topology-analyser_fusedAromaticRingCount</th>\n",
       "      <th>cx_topology-analyser_fusedRingCount</th>\n",
       "      <th>cx_topology-analyser_heteroRingCount</th>\n",
       "      <th>cx_topology-analyser_heteroAromaticRingCount</th>\n",
       "      <th>cx_topology-analyser_largestRingSize</th>\n",
       "      <th>cx_topology-analyser_largestRingSystemSize</th>\n",
       "      <th>cx_topology-analyser_rotatableBondCount</th>\n",
       "    </tr>\n",
       "  </thead>\n",
       "  <tbody>\n",
       "    <tr>\n",
       "      <th>0</th>\n",
       "      <td>KT-0001674</td>\n",
       "      <td>0.298013</td>\n",
       "      <td>65.396574</td>\n",
       "      <td>1.327664</td>\n",
       "      <td>14.863094</td>\n",
       "      <td>14.863094</td>\n",
       "      <td>0.132763</td>\n",
       "      <td>-0.719197</td>\n",
       "      <td>0.238176</td>\n",
       "      <td>20.085106</td>\n",
       "      <td>...</td>\n",
       "      <td>2</td>\n",
       "      <td>0.484848</td>\n",
       "      <td>0</td>\n",
       "      <td>2</td>\n",
       "      <td>2</td>\n",
       "      <td>4</td>\n",
       "      <td>1</td>\n",
       "      <td>6</td>\n",
       "      <td>2</td>\n",
       "      <td>11</td>\n",
       "    </tr>\n",
       "    <tr>\n",
       "      <th>1</th>\n",
       "      <td>KT-0001675</td>\n",
       "      <td>0.767547</td>\n",
       "      <td>66.234937</td>\n",
       "      <td>8.333819</td>\n",
       "      <td>14.856497</td>\n",
       "      <td>14.856497</td>\n",
       "      <td>0.215315</td>\n",
       "      <td>-0.684509</td>\n",
       "      <td>0.229648</td>\n",
       "      <td>20.434783</td>\n",
       "      <td>...</td>\n",
       "      <td>2</td>\n",
       "      <td>0.515152</td>\n",
       "      <td>0</td>\n",
       "      <td>2</td>\n",
       "      <td>2</td>\n",
       "      <td>4</td>\n",
       "      <td>1</td>\n",
       "      <td>6</td>\n",
       "      <td>2</td>\n",
       "      <td>12</td>\n",
       "    </tr>\n",
       "    <tr>\n",
       "      <th>2</th>\n",
       "      <td>KT-0001676</td>\n",
       "      <td>0.186651</td>\n",
       "      <td>22.744314</td>\n",
       "      <td>0.054087</td>\n",
       "      <td>13.135317</td>\n",
       "      <td>13.135317</td>\n",
       "      <td>0.065435</td>\n",
       "      <td>-3.567808</td>\n",
       "      <td>0.060439</td>\n",
       "      <td>16.555556</td>\n",
       "      <td>...</td>\n",
       "      <td>1</td>\n",
       "      <td>0.468085</td>\n",
       "      <td>0</td>\n",
       "      <td>2</td>\n",
       "      <td>2</td>\n",
       "      <td>4</td>\n",
       "      <td>2</td>\n",
       "      <td>6</td>\n",
       "      <td>2</td>\n",
       "      <td>17</td>\n",
       "    </tr>\n",
       "    <tr>\n",
       "      <th>3</th>\n",
       "      <td>KT-0001685</td>\n",
       "      <td>0.482284</td>\n",
       "      <td>70.056577</td>\n",
       "      <td>1.064458</td>\n",
       "      <td>14.849205</td>\n",
       "      <td>14.849205</td>\n",
       "      <td>0.093236</td>\n",
       "      <td>-0.739197</td>\n",
       "      <td>0.231174</td>\n",
       "      <td>20.085106</td>\n",
       "      <td>...</td>\n",
       "      <td>2</td>\n",
       "      <td>0.468750</td>\n",
       "      <td>0</td>\n",
       "      <td>2</td>\n",
       "      <td>2</td>\n",
       "      <td>4</td>\n",
       "      <td>1</td>\n",
       "      <td>6</td>\n",
       "      <td>2</td>\n",
       "      <td>11</td>\n",
       "    </tr>\n",
       "    <tr>\n",
       "      <th>4</th>\n",
       "      <td>KT-0001686</td>\n",
       "      <td>0.642138</td>\n",
       "      <td>21.732834</td>\n",
       "      <td>0.449181</td>\n",
       "      <td>13.115317</td>\n",
       "      <td>13.115317</td>\n",
       "      <td>0.079324</td>\n",
       "      <td>-3.573348</td>\n",
       "      <td>0.062530</td>\n",
       "      <td>16.555556</td>\n",
       "      <td>...</td>\n",
       "      <td>1</td>\n",
       "      <td>0.456522</td>\n",
       "      <td>0</td>\n",
       "      <td>2</td>\n",
       "      <td>2</td>\n",
       "      <td>4</td>\n",
       "      <td>2</td>\n",
       "      <td>6</td>\n",
       "      <td>2</td>\n",
       "      <td>17</td>\n",
       "    </tr>\n",
       "  </tbody>\n",
       "</table>\n",
       "<p>5 rows × 2225 columns</p>\n",
       "</div>"
      ],
      "text/plain": [
       "  Compound Name  \\\n",
       "0    KT-0001674   \n",
       "1    KT-0001675   \n",
       "2    KT-0001676   \n",
       "3    KT-0001685   \n",
       "4    KT-0001686   \n",
       "\n",
       "   ADME MDCK(WT) Permeability;Mean;A to B Papp (10^-6 cm/s);(Num)  \\\n",
       "0                                           0.298013                \n",
       "1                                           0.767547                \n",
       "2                                           0.186651                \n",
       "3                                           0.482284                \n",
       "4                                           0.642138                \n",
       "\n",
       "   custDesc_ADME MDCK(WT) Permeability;Mean;A to B Recovery (%)  \\\n",
       "0                                          65.396574              \n",
       "1                                          66.234937              \n",
       "2                                          22.744314              \n",
       "3                                          70.056577              \n",
       "4                                          21.732834              \n",
       "\n",
       "   custDesc_ADME MDCK(WT) Permeability;Mean;B to A Papp (10^-6 cm/s);(Num)  \\\n",
       "0                                           1.327664                         \n",
       "1                                           8.333819                         \n",
       "2                                           0.054087                         \n",
       "3                                           1.064458                         \n",
       "4                                           0.449181                         \n",
       "\n",
       "   rd_MaxAbsEStateIndex  rd_MaxEStateIndex  rd_MinAbsEStateIndex  \\\n",
       "0             14.863094          14.863094              0.132763   \n",
       "1             14.856497          14.856497              0.215315   \n",
       "2             13.135317          13.135317              0.065435   \n",
       "3             14.849205          14.849205              0.093236   \n",
       "4             13.115317          13.115317              0.079324   \n",
       "\n",
       "   rd_MinEStateIndex    rd_qed     rd_SPS  ...  \\\n",
       "0          -0.719197  0.238176  20.085106  ...   \n",
       "1          -0.684509  0.229648  20.434783  ...   \n",
       "2          -3.567808  0.060439  16.555556  ...   \n",
       "3          -0.739197  0.231174  20.085106  ...   \n",
       "4          -3.573348  0.062530  16.555556  ...   \n",
       "\n",
       "   cx_topology-analyser_chiralCenterCount  cx_topology-analyser_fsp3  \\\n",
       "0                                       2                   0.484848   \n",
       "1                                       2                   0.515152   \n",
       "2                                       1                   0.468085   \n",
       "3                                       2                   0.468750   \n",
       "4                                       1                   0.456522   \n",
       "\n",
       "   cx_topology-analyser_fusedAliphaticRingCount  \\\n",
       "0                                             0   \n",
       "1                                             0   \n",
       "2                                             0   \n",
       "3                                             0   \n",
       "4                                             0   \n",
       "\n",
       "   cx_topology-analyser_fusedAromaticRingCount  \\\n",
       "0                                            2   \n",
       "1                                            2   \n",
       "2                                            2   \n",
       "3                                            2   \n",
       "4                                            2   \n",
       "\n",
       "   cx_topology-analyser_fusedRingCount  cx_topology-analyser_heteroRingCount  \\\n",
       "0                                    2                                     4   \n",
       "1                                    2                                     4   \n",
       "2                                    2                                     4   \n",
       "3                                    2                                     4   \n",
       "4                                    2                                     4   \n",
       "\n",
       "   cx_topology-analyser_heteroAromaticRingCount  \\\n",
       "0                                             1   \n",
       "1                                             1   \n",
       "2                                             2   \n",
       "3                                             1   \n",
       "4                                             2   \n",
       "\n",
       "   cx_topology-analyser_largestRingSize  \\\n",
       "0                                     6   \n",
       "1                                     6   \n",
       "2                                     6   \n",
       "3                                     6   \n",
       "4                                     6   \n",
       "\n",
       "   cx_topology-analyser_largestRingSystemSize  \\\n",
       "0                                           2   \n",
       "1                                           2   \n",
       "2                                           2   \n",
       "3                                           2   \n",
       "4                                           2   \n",
       "\n",
       "   cx_topology-analyser_rotatableBondCount  \n",
       "0                                       11  \n",
       "1                                       12  \n",
       "2                                       17  \n",
       "3                                       11  \n",
       "4                                       17  \n",
       "\n",
       "[5 rows x 2225 columns]"
      ]
     },
     "execution_count": 9,
     "metadata": {},
     "output_type": "execute_result"
    }
   ],
   "source": [
    "## load all descriptor tables and merge together\n",
    "\n",
    "dataTable_merged = dataTable_y\n",
    "\n",
    "for descType in descType_list:\n",
    "    dataTable = pd.read_csv(f'{desc_folder}/descriptors_{descType}.csv')\n",
    "    print(f\"\\tThere are total <{dataTable.shape[1]-1}> {descType} descriptors for <{dataTable.shape[0]}> molecules\")\n",
    "    dataTable_merged = dataTable_merged.merge(right=dataTable, on='Compound Name', how='left')\n",
    "print(f\"\\tThe merged data table has <{dataTable_merged.shape[0]}> molecules and <{dataTable_merged.shape[1]-1}> descriptors\")\n",
    "\n",
    "## merge the descriptor data with expt outcome\n",
    "dataTable_y = pd.read_csv(f'{desc_folder}/outcome_expt.csv')\n",
    "\n",
    "## get descriptors (X)\n",
    "Descriptors = dataTable_merged.iloc[:, 1:]\n",
    "print(Descriptors.shape)\n",
    "dataTable_merged.head(5)"
   ]
  },
  {
   "cell_type": "code",
   "execution_count": 10,
   "metadata": {},
   "outputs": [
    {
     "name": "stdout",
     "output_type": "stream",
     "text": [
      "(38, 2223)\n"
     ]
    },
    {
     "data": {
      "application/vnd.microsoft.datawrangler.viewer.v0+json": {
       "columns": [
        {
         "name": "index",
         "rawType": "int64",
         "type": "integer"
        },
        {
         "name": "custDesc_ADME MDCK(WT) Permeability;Mean;A to B Recovery (%)",
         "rawType": "float64",
         "type": "float"
        },
        {
         "name": "custDesc_ADME MDCK(WT) Permeability;Mean;B to A Papp (10^-6 cm/s);(Num)",
         "rawType": "float64",
         "type": "float"
        },
        {
         "name": "rd_MaxAbsEStateIndex",
         "rawType": "float64",
         "type": "float"
        },
        {
         "name": "rd_MaxEStateIndex",
         "rawType": "float64",
         "type": "float"
        },
        {
         "name": "rd_MinAbsEStateIndex",
         "rawType": "float64",
         "type": "float"
        },
        {
         "name": "rd_MinEStateIndex",
         "rawType": "float64",
         "type": "float"
        },
        {
         "name": "rd_qed",
         "rawType": "float64",
         "type": "float"
        },
        {
         "name": "rd_SPS",
         "rawType": "float64",
         "type": "float"
        },
        {
         "name": "rd_MolWt",
         "rawType": "float64",
         "type": "float"
        },
        {
         "name": "rd_HeavyAtomMolWt",
         "rawType": "float64",
         "type": "float"
        },
        {
         "name": "rd_ExactMolWt",
         "rawType": "float64",
         "type": "float"
        },
        {
         "name": "rd_NumValenceElectrons",
         "rawType": "int64",
         "type": "integer"
        },
        {
         "name": "rd_NumRadicalElectrons",
         "rawType": "int64",
         "type": "integer"
        },
        {
         "name": "rd_MaxPartialCharge",
         "rawType": "float64",
         "type": "float"
        },
        {
         "name": "rd_MinPartialCharge",
         "rawType": "float64",
         "type": "float"
        },
        {
         "name": "rd_MaxAbsPartialCharge",
         "rawType": "float64",
         "type": "float"
        },
        {
         "name": "rd_MinAbsPartialCharge",
         "rawType": "float64",
         "type": "float"
        },
        {
         "name": "rd_FpDensityMorgan1",
         "rawType": "float64",
         "type": "float"
        },
        {
         "name": "rd_FpDensityMorgan2",
         "rawType": "float64",
         "type": "float"
        },
        {
         "name": "rd_FpDensityMorgan3",
         "rawType": "float64",
         "type": "float"
        },
        {
         "name": "rd_AvgIpc",
         "rawType": "float64",
         "type": "float"
        },
        {
         "name": "rd_BalabanJ",
         "rawType": "float64",
         "type": "float"
        },
        {
         "name": "rd_BertzCT",
         "rawType": "float64",
         "type": "float"
        },
        {
         "name": "rd_HallKierAlpha",
         "rawType": "float64",
         "type": "float"
        },
        {
         "name": "rd_Ipc",
         "rawType": "float64",
         "type": "float"
        },
        {
         "name": "rd_Kappa1",
         "rawType": "float64",
         "type": "float"
        },
        {
         "name": "rd_Kappa2",
         "rawType": "float64",
         "type": "float"
        },
        {
         "name": "rd_Kappa3",
         "rawType": "float64",
         "type": "float"
        },
        {
         "name": "rd_LabuteASA",
         "rawType": "float64",
         "type": "float"
        },
        {
         "name": "rd_TPSA",
         "rawType": "float64",
         "type": "float"
        },
        {
         "name": "rd_FractionCSP3",
         "rawType": "float64",
         "type": "float"
        },
        {
         "name": "rd_HeavyAtomCount",
         "rawType": "int64",
         "type": "integer"
        },
        {
         "name": "rd_NHOHCount",
         "rawType": "int64",
         "type": "integer"
        },
        {
         "name": "rd_NOCount",
         "rawType": "int64",
         "type": "integer"
        },
        {
         "name": "rd_NumAliphaticCarbocycles",
         "rawType": "int64",
         "type": "integer"
        },
        {
         "name": "rd_NumAliphaticHeterocycles",
         "rawType": "int64",
         "type": "integer"
        },
        {
         "name": "rd_NumAliphaticRings",
         "rawType": "int64",
         "type": "integer"
        },
        {
         "name": "rd_NumAmideBonds",
         "rawType": "int64",
         "type": "integer"
        },
        {
         "name": "rd_NumAromaticCarbocycles",
         "rawType": "int64",
         "type": "integer"
        },
        {
         "name": "rd_NumAromaticHeterocycles",
         "rawType": "int64",
         "type": "integer"
        },
        {
         "name": "rd_NumAromaticRings",
         "rawType": "int64",
         "type": "integer"
        },
        {
         "name": "rd_NumAtomStereoCenters",
         "rawType": "int64",
         "type": "integer"
        },
        {
         "name": "rd_NumBridgeheadAtoms",
         "rawType": "int64",
         "type": "integer"
        },
        {
         "name": "rd_NumHAcceptors",
         "rawType": "int64",
         "type": "integer"
        },
        {
         "name": "rd_NumHDonors",
         "rawType": "int64",
         "type": "integer"
        },
        {
         "name": "rd_NumHeteroatoms",
         "rawType": "int64",
         "type": "integer"
        },
        {
         "name": "rd_NumHeterocycles",
         "rawType": "int64",
         "type": "integer"
        },
        {
         "name": "rd_NumRotatableBonds",
         "rawType": "int64",
         "type": "integer"
        },
        {
         "name": "rd_NumSaturatedCarbocycles",
         "rawType": "int64",
         "type": "integer"
        },
        {
         "name": "rd_NumSaturatedHeterocycles",
         "rawType": "int64",
         "type": "integer"
        },
        {
         "name": "rd_NumSaturatedRings",
         "rawType": "int64",
         "type": "integer"
        },
        {
         "name": "rd_NumSpiroAtoms",
         "rawType": "int64",
         "type": "integer"
        },
        {
         "name": "rd_NumUnspecifiedAtomStereoCenters",
         "rawType": "int64",
         "type": "integer"
        },
        {
         "name": "rd_Phi",
         "rawType": "float64",
         "type": "float"
        },
        {
         "name": "rd_RingCount",
         "rawType": "int64",
         "type": "integer"
        },
        {
         "name": "rd_MolLogP",
         "rawType": "float64",
         "type": "float"
        },
        {
         "name": "rd_MolMR",
         "rawType": "float64",
         "type": "float"
        },
        {
         "name": "rd_fr_Al_COO",
         "rawType": "int64",
         "type": "integer"
        },
        {
         "name": "rd_fr_Al_OH",
         "rawType": "int64",
         "type": "integer"
        },
        {
         "name": "rd_fr_Al_OH_noTert",
         "rawType": "int64",
         "type": "integer"
        },
        {
         "name": "rd_fr_ArN",
         "rawType": "int64",
         "type": "integer"
        },
        {
         "name": "rd_fr_Ar_COO",
         "rawType": "int64",
         "type": "integer"
        },
        {
         "name": "rd_fr_Ar_N",
         "rawType": "int64",
         "type": "integer"
        },
        {
         "name": "rd_fr_Ar_NH",
         "rawType": "int64",
         "type": "integer"
        },
        {
         "name": "rd_fr_Ar_OH",
         "rawType": "int64",
         "type": "integer"
        },
        {
         "name": "rd_fr_COO",
         "rawType": "int64",
         "type": "integer"
        },
        {
         "name": "rd_fr_COO2",
         "rawType": "int64",
         "type": "integer"
        },
        {
         "name": "rd_fr_C_O",
         "rawType": "int64",
         "type": "integer"
        },
        {
         "name": "rd_fr_C_O_noCOO",
         "rawType": "int64",
         "type": "integer"
        },
        {
         "name": "rd_fr_C_S",
         "rawType": "int64",
         "type": "integer"
        },
        {
         "name": "rd_fr_HOCCN",
         "rawType": "int64",
         "type": "integer"
        },
        {
         "name": "rd_fr_Imine",
         "rawType": "int64",
         "type": "integer"
        },
        {
         "name": "rd_fr_NH0",
         "rawType": "int64",
         "type": "integer"
        },
        {
         "name": "rd_fr_NH1",
         "rawType": "int64",
         "type": "integer"
        },
        {
         "name": "rd_fr_NH2",
         "rawType": "int64",
         "type": "integer"
        },
        {
         "name": "rd_fr_N_O",
         "rawType": "int64",
         "type": "integer"
        },
        {
         "name": "rd_fr_Ndealkylation1",
         "rawType": "int64",
         "type": "integer"
        },
        {
         "name": "rd_fr_Ndealkylation2",
         "rawType": "int64",
         "type": "integer"
        },
        {
         "name": "rd_fr_Nhpyrrole",
         "rawType": "int64",
         "type": "integer"
        },
        {
         "name": "rd_fr_SH",
         "rawType": "int64",
         "type": "integer"
        },
        {
         "name": "rd_fr_aldehyde",
         "rawType": "int64",
         "type": "integer"
        },
        {
         "name": "rd_fr_alkyl_carbamate",
         "rawType": "int64",
         "type": "integer"
        },
        {
         "name": "rd_fr_alkyl_halide",
         "rawType": "int64",
         "type": "integer"
        },
        {
         "name": "rd_fr_allylic_oxid",
         "rawType": "int64",
         "type": "integer"
        },
        {
         "name": "rd_fr_amide",
         "rawType": "int64",
         "type": "integer"
        },
        {
         "name": "rd_fr_amidine",
         "rawType": "int64",
         "type": "integer"
        },
        {
         "name": "rd_fr_aniline",
         "rawType": "int64",
         "type": "integer"
        },
        {
         "name": "rd_fr_aryl_methyl",
         "rawType": "int64",
         "type": "integer"
        },
        {
         "name": "rd_fr_azide",
         "rawType": "int64",
         "type": "integer"
        },
        {
         "name": "rd_fr_azo",
         "rawType": "int64",
         "type": "integer"
        },
        {
         "name": "rd_fr_barbitur",
         "rawType": "int64",
         "type": "integer"
        },
        {
         "name": "rd_fr_benzene",
         "rawType": "int64",
         "type": "integer"
        },
        {
         "name": "rd_fr_benzodiazepine",
         "rawType": "int64",
         "type": "integer"
        },
        {
         "name": "rd_fr_bicyclic",
         "rawType": "int64",
         "type": "integer"
        },
        {
         "name": "rd_fr_diazo",
         "rawType": "int64",
         "type": "integer"
        },
        {
         "name": "rd_fr_dihydropyridine",
         "rawType": "int64",
         "type": "integer"
        },
        {
         "name": "rd_fr_epoxide",
         "rawType": "int64",
         "type": "integer"
        },
        {
         "name": "rd_fr_ester",
         "rawType": "int64",
         "type": "integer"
        },
        {
         "name": "rd_fr_ether",
         "rawType": "int64",
         "type": "integer"
        },
        {
         "name": "rd_fr_furan",
         "rawType": "int64",
         "type": "integer"
        },
        {
         "name": "rd_fr_guanido",
         "rawType": "int64",
         "type": "integer"
        },
        {
         "name": "rd_fr_halogen",
         "rawType": "int64",
         "type": "integer"
        },
        {
         "name": "rd_fr_hdrzine",
         "rawType": "int64",
         "type": "integer"
        },
        {
         "name": "rd_fr_hdrzone",
         "rawType": "int64",
         "type": "integer"
        },
        {
         "name": "rd_fr_imidazole",
         "rawType": "int64",
         "type": "integer"
        },
        {
         "name": "rd_fr_imide",
         "rawType": "int64",
         "type": "integer"
        },
        {
         "name": "rd_fr_isocyan",
         "rawType": "int64",
         "type": "integer"
        },
        {
         "name": "rd_fr_isothiocyan",
         "rawType": "int64",
         "type": "integer"
        },
        {
         "name": "rd_fr_ketone",
         "rawType": "int64",
         "type": "integer"
        },
        {
         "name": "rd_fr_ketone_Topliss",
         "rawType": "int64",
         "type": "integer"
        },
        {
         "name": "rd_fr_lactam",
         "rawType": "int64",
         "type": "integer"
        },
        {
         "name": "rd_fr_lactone",
         "rawType": "int64",
         "type": "integer"
        },
        {
         "name": "rd_fr_methoxy",
         "rawType": "int64",
         "type": "integer"
        },
        {
         "name": "rd_fr_morpholine",
         "rawType": "int64",
         "type": "integer"
        },
        {
         "name": "rd_fr_nitrile",
         "rawType": "int64",
         "type": "integer"
        },
        {
         "name": "rd_fr_nitro",
         "rawType": "int64",
         "type": "integer"
        },
        {
         "name": "rd_fr_nitro_arom",
         "rawType": "int64",
         "type": "integer"
        },
        {
         "name": "rd_fr_nitro_arom_nonortho",
         "rawType": "int64",
         "type": "integer"
        },
        {
         "name": "rd_fr_nitroso",
         "rawType": "int64",
         "type": "integer"
        },
        {
         "name": "rd_fr_oxazole",
         "rawType": "int64",
         "type": "integer"
        },
        {
         "name": "rd_fr_oxime",
         "rawType": "int64",
         "type": "integer"
        },
        {
         "name": "rd_fr_para_hydroxylation",
         "rawType": "int64",
         "type": "integer"
        },
        {
         "name": "rd_fr_phenol",
         "rawType": "int64",
         "type": "integer"
        },
        {
         "name": "rd_fr_phenol_noOrthoHbond",
         "rawType": "int64",
         "type": "integer"
        },
        {
         "name": "rd_fr_phos_acid",
         "rawType": "int64",
         "type": "integer"
        },
        {
         "name": "rd_fr_phos_ester",
         "rawType": "int64",
         "type": "integer"
        },
        {
         "name": "rd_fr_piperdine",
         "rawType": "int64",
         "type": "integer"
        },
        {
         "name": "rd_fr_piperzine",
         "rawType": "int64",
         "type": "integer"
        },
        {
         "name": "rd_fr_priamide",
         "rawType": "int64",
         "type": "integer"
        },
        {
         "name": "rd_fr_prisulfonamd",
         "rawType": "int64",
         "type": "integer"
        },
        {
         "name": "rd_fr_pyridine",
         "rawType": "int64",
         "type": "integer"
        },
        {
         "name": "rd_fr_quatN",
         "rawType": "int64",
         "type": "integer"
        },
        {
         "name": "rd_fr_sulfide",
         "rawType": "int64",
         "type": "integer"
        },
        {
         "name": "rd_fr_sulfonamd",
         "rawType": "int64",
         "type": "integer"
        },
        {
         "name": "rd_fr_sulfone",
         "rawType": "int64",
         "type": "integer"
        },
        {
         "name": "rd_fr_term_acetylene",
         "rawType": "int64",
         "type": "integer"
        },
        {
         "name": "rd_fr_tetrazole",
         "rawType": "int64",
         "type": "integer"
        },
        {
         "name": "rd_fr_thiazole",
         "rawType": "int64",
         "type": "integer"
        },
        {
         "name": "rd_fr_thiocyan",
         "rawType": "int64",
         "type": "integer"
        },
        {
         "name": "rd_fr_thiophene",
         "rawType": "int64",
         "type": "integer"
        },
        {
         "name": "rd_fr_unbrch_alkane",
         "rawType": "int64",
         "type": "integer"
        },
        {
         "name": "rd_fr_urea",
         "rawType": "int64",
         "type": "integer"
        },
        {
         "name": "fp_0",
         "rawType": "int64",
         "type": "integer"
        },
        {
         "name": "fp_1",
         "rawType": "int64",
         "type": "integer"
        },
        {
         "name": "fp_2",
         "rawType": "int64",
         "type": "integer"
        },
        {
         "name": "fp_3",
         "rawType": "int64",
         "type": "integer"
        },
        {
         "name": "fp_4",
         "rawType": "int64",
         "type": "integer"
        },
        {
         "name": "fp_5",
         "rawType": "int64",
         "type": "integer"
        },
        {
         "name": "fp_6",
         "rawType": "int64",
         "type": "integer"
        },
        {
         "name": "fp_7",
         "rawType": "int64",
         "type": "integer"
        },
        {
         "name": "fp_8",
         "rawType": "int64",
         "type": "integer"
        },
        {
         "name": "fp_9",
         "rawType": "int64",
         "type": "integer"
        },
        {
         "name": "fp_10",
         "rawType": "int64",
         "type": "integer"
        },
        {
         "name": "fp_11",
         "rawType": "int64",
         "type": "integer"
        },
        {
         "name": "fp_12",
         "rawType": "int64",
         "type": "integer"
        },
        {
         "name": "fp_13",
         "rawType": "int64",
         "type": "integer"
        },
        {
         "name": "fp_14",
         "rawType": "int64",
         "type": "integer"
        },
        {
         "name": "fp_15",
         "rawType": "int64",
         "type": "integer"
        },
        {
         "name": "fp_16",
         "rawType": "int64",
         "type": "integer"
        },
        {
         "name": "fp_17",
         "rawType": "int64",
         "type": "integer"
        },
        {
         "name": "fp_18",
         "rawType": "int64",
         "type": "integer"
        },
        {
         "name": "fp_19",
         "rawType": "int64",
         "type": "integer"
        },
        {
         "name": "fp_20",
         "rawType": "int64",
         "type": "integer"
        },
        {
         "name": "fp_21",
         "rawType": "int64",
         "type": "integer"
        },
        {
         "name": "fp_22",
         "rawType": "int64",
         "type": "integer"
        },
        {
         "name": "fp_23",
         "rawType": "int64",
         "type": "integer"
        },
        {
         "name": "fp_24",
         "rawType": "int64",
         "type": "integer"
        },
        {
         "name": "fp_25",
         "rawType": "int64",
         "type": "integer"
        },
        {
         "name": "fp_26",
         "rawType": "int64",
         "type": "integer"
        },
        {
         "name": "fp_27",
         "rawType": "int64",
         "type": "integer"
        },
        {
         "name": "fp_28",
         "rawType": "int64",
         "type": "integer"
        },
        {
         "name": "fp_29",
         "rawType": "int64",
         "type": "integer"
        },
        {
         "name": "fp_30",
         "rawType": "int64",
         "type": "integer"
        },
        {
         "name": "fp_31",
         "rawType": "int64",
         "type": "integer"
        },
        {
         "name": "fp_32",
         "rawType": "int64",
         "type": "integer"
        },
        {
         "name": "fp_33",
         "rawType": "int64",
         "type": "integer"
        },
        {
         "name": "fp_34",
         "rawType": "int64",
         "type": "integer"
        },
        {
         "name": "fp_35",
         "rawType": "int64",
         "type": "integer"
        },
        {
         "name": "fp_36",
         "rawType": "int64",
         "type": "integer"
        },
        {
         "name": "fp_37",
         "rawType": "int64",
         "type": "integer"
        },
        {
         "name": "fp_38",
         "rawType": "int64",
         "type": "integer"
        },
        {
         "name": "fp_39",
         "rawType": "int64",
         "type": "integer"
        },
        {
         "name": "fp_40",
         "rawType": "int64",
         "type": "integer"
        },
        {
         "name": "fp_41",
         "rawType": "int64",
         "type": "integer"
        },
        {
         "name": "fp_42",
         "rawType": "int64",
         "type": "integer"
        },
        {
         "name": "fp_43",
         "rawType": "int64",
         "type": "integer"
        },
        {
         "name": "fp_44",
         "rawType": "int64",
         "type": "integer"
        },
        {
         "name": "fp_45",
         "rawType": "int64",
         "type": "integer"
        },
        {
         "name": "fp_46",
         "rawType": "int64",
         "type": "integer"
        },
        {
         "name": "fp_47",
         "rawType": "int64",
         "type": "integer"
        },
        {
         "name": "fp_48",
         "rawType": "int64",
         "type": "integer"
        },
        {
         "name": "fp_49",
         "rawType": "int64",
         "type": "integer"
        },
        {
         "name": "fp_50",
         "rawType": "int64",
         "type": "integer"
        },
        {
         "name": "fp_51",
         "rawType": "int64",
         "type": "integer"
        },
        {
         "name": "fp_52",
         "rawType": "int64",
         "type": "integer"
        },
        {
         "name": "fp_53",
         "rawType": "int64",
         "type": "integer"
        },
        {
         "name": "fp_54",
         "rawType": "int64",
         "type": "integer"
        },
        {
         "name": "fp_55",
         "rawType": "int64",
         "type": "integer"
        },
        {
         "name": "fp_56",
         "rawType": "int64",
         "type": "integer"
        },
        {
         "name": "fp_57",
         "rawType": "int64",
         "type": "integer"
        },
        {
         "name": "fp_58",
         "rawType": "int64",
         "type": "integer"
        },
        {
         "name": "fp_59",
         "rawType": "int64",
         "type": "integer"
        },
        {
         "name": "fp_60",
         "rawType": "int64",
         "type": "integer"
        },
        {
         "name": "fp_61",
         "rawType": "int64",
         "type": "integer"
        },
        {
         "name": "fp_62",
         "rawType": "int64",
         "type": "integer"
        },
        {
         "name": "fp_63",
         "rawType": "int64",
         "type": "integer"
        },
        {
         "name": "fp_64",
         "rawType": "int64",
         "type": "integer"
        },
        {
         "name": "fp_65",
         "rawType": "int64",
         "type": "integer"
        },
        {
         "name": "fp_66",
         "rawType": "int64",
         "type": "integer"
        },
        {
         "name": "fp_67",
         "rawType": "int64",
         "type": "integer"
        },
        {
         "name": "fp_68",
         "rawType": "int64",
         "type": "integer"
        },
        {
         "name": "fp_69",
         "rawType": "int64",
         "type": "integer"
        },
        {
         "name": "fp_70",
         "rawType": "int64",
         "type": "integer"
        },
        {
         "name": "fp_71",
         "rawType": "int64",
         "type": "integer"
        },
        {
         "name": "fp_72",
         "rawType": "int64",
         "type": "integer"
        },
        {
         "name": "fp_73",
         "rawType": "int64",
         "type": "integer"
        },
        {
         "name": "fp_74",
         "rawType": "int64",
         "type": "integer"
        },
        {
         "name": "fp_75",
         "rawType": "int64",
         "type": "integer"
        },
        {
         "name": "fp_76",
         "rawType": "int64",
         "type": "integer"
        },
        {
         "name": "fp_77",
         "rawType": "int64",
         "type": "integer"
        },
        {
         "name": "fp_78",
         "rawType": "int64",
         "type": "integer"
        },
        {
         "name": "fp_79",
         "rawType": "int64",
         "type": "integer"
        },
        {
         "name": "fp_80",
         "rawType": "int64",
         "type": "integer"
        },
        {
         "name": "fp_81",
         "rawType": "int64",
         "type": "integer"
        },
        {
         "name": "fp_82",
         "rawType": "int64",
         "type": "integer"
        },
        {
         "name": "fp_83",
         "rawType": "int64",
         "type": "integer"
        },
        {
         "name": "fp_84",
         "rawType": "int64",
         "type": "integer"
        },
        {
         "name": "fp_85",
         "rawType": "int64",
         "type": "integer"
        },
        {
         "name": "fp_86",
         "rawType": "int64",
         "type": "integer"
        },
        {
         "name": "fp_87",
         "rawType": "int64",
         "type": "integer"
        },
        {
         "name": "fp_88",
         "rawType": "int64",
         "type": "integer"
        },
        {
         "name": "fp_89",
         "rawType": "int64",
         "type": "integer"
        },
        {
         "name": "fp_90",
         "rawType": "int64",
         "type": "integer"
        },
        {
         "name": "fp_91",
         "rawType": "int64",
         "type": "integer"
        },
        {
         "name": "fp_92",
         "rawType": "int64",
         "type": "integer"
        },
        {
         "name": "fp_93",
         "rawType": "int64",
         "type": "integer"
        },
        {
         "name": "fp_94",
         "rawType": "int64",
         "type": "integer"
        },
        {
         "name": "fp_95",
         "rawType": "int64",
         "type": "integer"
        },
        {
         "name": "fp_96",
         "rawType": "int64",
         "type": "integer"
        },
        {
         "name": "fp_97",
         "rawType": "int64",
         "type": "integer"
        },
        {
         "name": "fp_98",
         "rawType": "int64",
         "type": "integer"
        },
        {
         "name": "fp_99",
         "rawType": "int64",
         "type": "integer"
        },
        {
         "name": "fp_100",
         "rawType": "int64",
         "type": "integer"
        },
        {
         "name": "fp_101",
         "rawType": "int64",
         "type": "integer"
        },
        {
         "name": "fp_102",
         "rawType": "int64",
         "type": "integer"
        },
        {
         "name": "fp_103",
         "rawType": "int64",
         "type": "integer"
        },
        {
         "name": "fp_104",
         "rawType": "int64",
         "type": "integer"
        },
        {
         "name": "fp_105",
         "rawType": "int64",
         "type": "integer"
        },
        {
         "name": "fp_106",
         "rawType": "int64",
         "type": "integer"
        },
        {
         "name": "fp_107",
         "rawType": "int64",
         "type": "integer"
        },
        {
         "name": "fp_108",
         "rawType": "int64",
         "type": "integer"
        },
        {
         "name": "fp_109",
         "rawType": "int64",
         "type": "integer"
        },
        {
         "name": "fp_110",
         "rawType": "int64",
         "type": "integer"
        },
        {
         "name": "fp_111",
         "rawType": "int64",
         "type": "integer"
        },
        {
         "name": "fp_112",
         "rawType": "int64",
         "type": "integer"
        },
        {
         "name": "fp_113",
         "rawType": "int64",
         "type": "integer"
        },
        {
         "name": "fp_114",
         "rawType": "int64",
         "type": "integer"
        },
        {
         "name": "fp_115",
         "rawType": "int64",
         "type": "integer"
        },
        {
         "name": "fp_116",
         "rawType": "int64",
         "type": "integer"
        },
        {
         "name": "fp_117",
         "rawType": "int64",
         "type": "integer"
        },
        {
         "name": "fp_118",
         "rawType": "int64",
         "type": "integer"
        },
        {
         "name": "fp_119",
         "rawType": "int64",
         "type": "integer"
        },
        {
         "name": "fp_120",
         "rawType": "int64",
         "type": "integer"
        },
        {
         "name": "fp_121",
         "rawType": "int64",
         "type": "integer"
        },
        {
         "name": "fp_122",
         "rawType": "int64",
         "type": "integer"
        },
        {
         "name": "fp_123",
         "rawType": "int64",
         "type": "integer"
        },
        {
         "name": "fp_124",
         "rawType": "int64",
         "type": "integer"
        },
        {
         "name": "fp_125",
         "rawType": "int64",
         "type": "integer"
        },
        {
         "name": "fp_126",
         "rawType": "int64",
         "type": "integer"
        },
        {
         "name": "fp_127",
         "rawType": "int64",
         "type": "integer"
        },
        {
         "name": "fp_128",
         "rawType": "int64",
         "type": "integer"
        },
        {
         "name": "fp_129",
         "rawType": "int64",
         "type": "integer"
        },
        {
         "name": "fp_130",
         "rawType": "int64",
         "type": "integer"
        },
        {
         "name": "fp_131",
         "rawType": "int64",
         "type": "integer"
        },
        {
         "name": "fp_132",
         "rawType": "int64",
         "type": "integer"
        },
        {
         "name": "fp_133",
         "rawType": "int64",
         "type": "integer"
        },
        {
         "name": "fp_134",
         "rawType": "int64",
         "type": "integer"
        },
        {
         "name": "fp_135",
         "rawType": "int64",
         "type": "integer"
        },
        {
         "name": "fp_136",
         "rawType": "int64",
         "type": "integer"
        },
        {
         "name": "fp_137",
         "rawType": "int64",
         "type": "integer"
        },
        {
         "name": "fp_138",
         "rawType": "int64",
         "type": "integer"
        },
        {
         "name": "fp_139",
         "rawType": "int64",
         "type": "integer"
        },
        {
         "name": "fp_140",
         "rawType": "int64",
         "type": "integer"
        },
        {
         "name": "fp_141",
         "rawType": "int64",
         "type": "integer"
        },
        {
         "name": "fp_142",
         "rawType": "int64",
         "type": "integer"
        },
        {
         "name": "fp_143",
         "rawType": "int64",
         "type": "integer"
        },
        {
         "name": "fp_144",
         "rawType": "int64",
         "type": "integer"
        },
        {
         "name": "fp_145",
         "rawType": "int64",
         "type": "integer"
        },
        {
         "name": "fp_146",
         "rawType": "int64",
         "type": "integer"
        },
        {
         "name": "fp_147",
         "rawType": "int64",
         "type": "integer"
        },
        {
         "name": "fp_148",
         "rawType": "int64",
         "type": "integer"
        },
        {
         "name": "fp_149",
         "rawType": "int64",
         "type": "integer"
        },
        {
         "name": "fp_150",
         "rawType": "int64",
         "type": "integer"
        },
        {
         "name": "fp_151",
         "rawType": "int64",
         "type": "integer"
        },
        {
         "name": "fp_152",
         "rawType": "int64",
         "type": "integer"
        },
        {
         "name": "fp_153",
         "rawType": "int64",
         "type": "integer"
        },
        {
         "name": "fp_154",
         "rawType": "int64",
         "type": "integer"
        },
        {
         "name": "fp_155",
         "rawType": "int64",
         "type": "integer"
        },
        {
         "name": "fp_156",
         "rawType": "int64",
         "type": "integer"
        },
        {
         "name": "fp_157",
         "rawType": "int64",
         "type": "integer"
        },
        {
         "name": "fp_158",
         "rawType": "int64",
         "type": "integer"
        },
        {
         "name": "fp_159",
         "rawType": "int64",
         "type": "integer"
        },
        {
         "name": "fp_160",
         "rawType": "int64",
         "type": "integer"
        },
        {
         "name": "fp_161",
         "rawType": "int64",
         "type": "integer"
        },
        {
         "name": "fp_162",
         "rawType": "int64",
         "type": "integer"
        },
        {
         "name": "fp_163",
         "rawType": "int64",
         "type": "integer"
        },
        {
         "name": "fp_164",
         "rawType": "int64",
         "type": "integer"
        },
        {
         "name": "fp_165",
         "rawType": "int64",
         "type": "integer"
        },
        {
         "name": "fp_166",
         "rawType": "int64",
         "type": "integer"
        },
        {
         "name": "fp_167",
         "rawType": "int64",
         "type": "integer"
        },
        {
         "name": "fp_168",
         "rawType": "int64",
         "type": "integer"
        },
        {
         "name": "fp_169",
         "rawType": "int64",
         "type": "integer"
        },
        {
         "name": "fp_170",
         "rawType": "int64",
         "type": "integer"
        },
        {
         "name": "fp_171",
         "rawType": "int64",
         "type": "integer"
        },
        {
         "name": "fp_172",
         "rawType": "int64",
         "type": "integer"
        },
        {
         "name": "fp_173",
         "rawType": "int64",
         "type": "integer"
        },
        {
         "name": "fp_174",
         "rawType": "int64",
         "type": "integer"
        },
        {
         "name": "fp_175",
         "rawType": "int64",
         "type": "integer"
        },
        {
         "name": "fp_176",
         "rawType": "int64",
         "type": "integer"
        },
        {
         "name": "fp_177",
         "rawType": "int64",
         "type": "integer"
        },
        {
         "name": "fp_178",
         "rawType": "int64",
         "type": "integer"
        },
        {
         "name": "fp_179",
         "rawType": "int64",
         "type": "integer"
        },
        {
         "name": "fp_180",
         "rawType": "int64",
         "type": "integer"
        },
        {
         "name": "fp_181",
         "rawType": "int64",
         "type": "integer"
        },
        {
         "name": "fp_182",
         "rawType": "int64",
         "type": "integer"
        },
        {
         "name": "fp_183",
         "rawType": "int64",
         "type": "integer"
        },
        {
         "name": "fp_184",
         "rawType": "int64",
         "type": "integer"
        },
        {
         "name": "fp_185",
         "rawType": "int64",
         "type": "integer"
        },
        {
         "name": "fp_186",
         "rawType": "int64",
         "type": "integer"
        },
        {
         "name": "fp_187",
         "rawType": "int64",
         "type": "integer"
        },
        {
         "name": "fp_188",
         "rawType": "int64",
         "type": "integer"
        },
        {
         "name": "fp_189",
         "rawType": "int64",
         "type": "integer"
        },
        {
         "name": "fp_190",
         "rawType": "int64",
         "type": "integer"
        },
        {
         "name": "fp_191",
         "rawType": "int64",
         "type": "integer"
        },
        {
         "name": "fp_192",
         "rawType": "int64",
         "type": "integer"
        },
        {
         "name": "fp_193",
         "rawType": "int64",
         "type": "integer"
        },
        {
         "name": "fp_194",
         "rawType": "int64",
         "type": "integer"
        },
        {
         "name": "fp_195",
         "rawType": "int64",
         "type": "integer"
        },
        {
         "name": "fp_196",
         "rawType": "int64",
         "type": "integer"
        },
        {
         "name": "fp_197",
         "rawType": "int64",
         "type": "integer"
        },
        {
         "name": "fp_198",
         "rawType": "int64",
         "type": "integer"
        },
        {
         "name": "fp_199",
         "rawType": "int64",
         "type": "integer"
        },
        {
         "name": "fp_200",
         "rawType": "int64",
         "type": "integer"
        },
        {
         "name": "fp_201",
         "rawType": "int64",
         "type": "integer"
        },
        {
         "name": "fp_202",
         "rawType": "int64",
         "type": "integer"
        },
        {
         "name": "fp_203",
         "rawType": "int64",
         "type": "integer"
        },
        {
         "name": "fp_204",
         "rawType": "int64",
         "type": "integer"
        },
        {
         "name": "fp_205",
         "rawType": "int64",
         "type": "integer"
        },
        {
         "name": "fp_206",
         "rawType": "int64",
         "type": "integer"
        },
        {
         "name": "fp_207",
         "rawType": "int64",
         "type": "integer"
        },
        {
         "name": "fp_208",
         "rawType": "int64",
         "type": "integer"
        },
        {
         "name": "fp_209",
         "rawType": "int64",
         "type": "integer"
        },
        {
         "name": "fp_210",
         "rawType": "int64",
         "type": "integer"
        },
        {
         "name": "fp_211",
         "rawType": "int64",
         "type": "integer"
        },
        {
         "name": "fp_212",
         "rawType": "int64",
         "type": "integer"
        },
        {
         "name": "fp_213",
         "rawType": "int64",
         "type": "integer"
        },
        {
         "name": "fp_214",
         "rawType": "int64",
         "type": "integer"
        },
        {
         "name": "fp_215",
         "rawType": "int64",
         "type": "integer"
        },
        {
         "name": "fp_216",
         "rawType": "int64",
         "type": "integer"
        },
        {
         "name": "fp_217",
         "rawType": "int64",
         "type": "integer"
        },
        {
         "name": "fp_218",
         "rawType": "int64",
         "type": "integer"
        },
        {
         "name": "fp_219",
         "rawType": "int64",
         "type": "integer"
        },
        {
         "name": "fp_220",
         "rawType": "int64",
         "type": "integer"
        },
        {
         "name": "fp_221",
         "rawType": "int64",
         "type": "integer"
        },
        {
         "name": "fp_222",
         "rawType": "int64",
         "type": "integer"
        },
        {
         "name": "fp_223",
         "rawType": "int64",
         "type": "integer"
        },
        {
         "name": "fp_224",
         "rawType": "int64",
         "type": "integer"
        },
        {
         "name": "fp_225",
         "rawType": "int64",
         "type": "integer"
        },
        {
         "name": "fp_226",
         "rawType": "int64",
         "type": "integer"
        },
        {
         "name": "fp_227",
         "rawType": "int64",
         "type": "integer"
        },
        {
         "name": "fp_228",
         "rawType": "int64",
         "type": "integer"
        },
        {
         "name": "fp_229",
         "rawType": "int64",
         "type": "integer"
        },
        {
         "name": "fp_230",
         "rawType": "int64",
         "type": "integer"
        },
        {
         "name": "fp_231",
         "rawType": "int64",
         "type": "integer"
        },
        {
         "name": "fp_232",
         "rawType": "int64",
         "type": "integer"
        },
        {
         "name": "fp_233",
         "rawType": "int64",
         "type": "integer"
        },
        {
         "name": "fp_234",
         "rawType": "int64",
         "type": "integer"
        },
        {
         "name": "fp_235",
         "rawType": "int64",
         "type": "integer"
        },
        {
         "name": "fp_236",
         "rawType": "int64",
         "type": "integer"
        },
        {
         "name": "fp_237",
         "rawType": "int64",
         "type": "integer"
        },
        {
         "name": "fp_238",
         "rawType": "int64",
         "type": "integer"
        },
        {
         "name": "fp_239",
         "rawType": "int64",
         "type": "integer"
        },
        {
         "name": "fp_240",
         "rawType": "int64",
         "type": "integer"
        },
        {
         "name": "fp_241",
         "rawType": "int64",
         "type": "integer"
        },
        {
         "name": "fp_242",
         "rawType": "int64",
         "type": "integer"
        },
        {
         "name": "fp_243",
         "rawType": "int64",
         "type": "integer"
        },
        {
         "name": "fp_244",
         "rawType": "int64",
         "type": "integer"
        },
        {
         "name": "fp_245",
         "rawType": "int64",
         "type": "integer"
        },
        {
         "name": "fp_246",
         "rawType": "int64",
         "type": "integer"
        },
        {
         "name": "fp_247",
         "rawType": "int64",
         "type": "integer"
        },
        {
         "name": "fp_248",
         "rawType": "int64",
         "type": "integer"
        },
        {
         "name": "fp_249",
         "rawType": "int64",
         "type": "integer"
        },
        {
         "name": "fp_250",
         "rawType": "int64",
         "type": "integer"
        },
        {
         "name": "fp_251",
         "rawType": "int64",
         "type": "integer"
        },
        {
         "name": "fp_252",
         "rawType": "int64",
         "type": "integer"
        },
        {
         "name": "fp_253",
         "rawType": "int64",
         "type": "integer"
        },
        {
         "name": "fp_254",
         "rawType": "int64",
         "type": "integer"
        },
        {
         "name": "fp_255",
         "rawType": "int64",
         "type": "integer"
        },
        {
         "name": "fp_256",
         "rawType": "int64",
         "type": "integer"
        },
        {
         "name": "fp_257",
         "rawType": "int64",
         "type": "integer"
        },
        {
         "name": "fp_258",
         "rawType": "int64",
         "type": "integer"
        },
        {
         "name": "fp_259",
         "rawType": "int64",
         "type": "integer"
        },
        {
         "name": "fp_260",
         "rawType": "int64",
         "type": "integer"
        },
        {
         "name": "fp_261",
         "rawType": "int64",
         "type": "integer"
        },
        {
         "name": "fp_262",
         "rawType": "int64",
         "type": "integer"
        },
        {
         "name": "fp_263",
         "rawType": "int64",
         "type": "integer"
        },
        {
         "name": "fp_264",
         "rawType": "int64",
         "type": "integer"
        },
        {
         "name": "fp_265",
         "rawType": "int64",
         "type": "integer"
        },
        {
         "name": "fp_266",
         "rawType": "int64",
         "type": "integer"
        },
        {
         "name": "fp_267",
         "rawType": "int64",
         "type": "integer"
        },
        {
         "name": "fp_268",
         "rawType": "int64",
         "type": "integer"
        },
        {
         "name": "fp_269",
         "rawType": "int64",
         "type": "integer"
        },
        {
         "name": "fp_270",
         "rawType": "int64",
         "type": "integer"
        },
        {
         "name": "fp_271",
         "rawType": "int64",
         "type": "integer"
        },
        {
         "name": "fp_272",
         "rawType": "int64",
         "type": "integer"
        },
        {
         "name": "fp_273",
         "rawType": "int64",
         "type": "integer"
        },
        {
         "name": "fp_274",
         "rawType": "int64",
         "type": "integer"
        },
        {
         "name": "fp_275",
         "rawType": "int64",
         "type": "integer"
        },
        {
         "name": "fp_276",
         "rawType": "int64",
         "type": "integer"
        },
        {
         "name": "fp_277",
         "rawType": "int64",
         "type": "integer"
        },
        {
         "name": "fp_278",
         "rawType": "int64",
         "type": "integer"
        },
        {
         "name": "fp_279",
         "rawType": "int64",
         "type": "integer"
        },
        {
         "name": "fp_280",
         "rawType": "int64",
         "type": "integer"
        },
        {
         "name": "fp_281",
         "rawType": "int64",
         "type": "integer"
        },
        {
         "name": "fp_282",
         "rawType": "int64",
         "type": "integer"
        },
        {
         "name": "fp_283",
         "rawType": "int64",
         "type": "integer"
        },
        {
         "name": "fp_284",
         "rawType": "int64",
         "type": "integer"
        },
        {
         "name": "fp_285",
         "rawType": "int64",
         "type": "integer"
        },
        {
         "name": "fp_286",
         "rawType": "int64",
         "type": "integer"
        },
        {
         "name": "fp_287",
         "rawType": "int64",
         "type": "integer"
        },
        {
         "name": "fp_288",
         "rawType": "int64",
         "type": "integer"
        },
        {
         "name": "fp_289",
         "rawType": "int64",
         "type": "integer"
        },
        {
         "name": "fp_290",
         "rawType": "int64",
         "type": "integer"
        },
        {
         "name": "fp_291",
         "rawType": "int64",
         "type": "integer"
        },
        {
         "name": "fp_292",
         "rawType": "int64",
         "type": "integer"
        },
        {
         "name": "fp_293",
         "rawType": "int64",
         "type": "integer"
        },
        {
         "name": "fp_294",
         "rawType": "int64",
         "type": "integer"
        },
        {
         "name": "fp_295",
         "rawType": "int64",
         "type": "integer"
        },
        {
         "name": "fp_296",
         "rawType": "int64",
         "type": "integer"
        },
        {
         "name": "fp_297",
         "rawType": "int64",
         "type": "integer"
        },
        {
         "name": "fp_298",
         "rawType": "int64",
         "type": "integer"
        },
        {
         "name": "fp_299",
         "rawType": "int64",
         "type": "integer"
        },
        {
         "name": "fp_300",
         "rawType": "int64",
         "type": "integer"
        },
        {
         "name": "fp_301",
         "rawType": "int64",
         "type": "integer"
        },
        {
         "name": "fp_302",
         "rawType": "int64",
         "type": "integer"
        },
        {
         "name": "fp_303",
         "rawType": "int64",
         "type": "integer"
        },
        {
         "name": "fp_304",
         "rawType": "int64",
         "type": "integer"
        },
        {
         "name": "fp_305",
         "rawType": "int64",
         "type": "integer"
        },
        {
         "name": "fp_306",
         "rawType": "int64",
         "type": "integer"
        },
        {
         "name": "fp_307",
         "rawType": "int64",
         "type": "integer"
        },
        {
         "name": "fp_308",
         "rawType": "int64",
         "type": "integer"
        },
        {
         "name": "fp_309",
         "rawType": "int64",
         "type": "integer"
        },
        {
         "name": "fp_310",
         "rawType": "int64",
         "type": "integer"
        },
        {
         "name": "fp_311",
         "rawType": "int64",
         "type": "integer"
        },
        {
         "name": "fp_312",
         "rawType": "int64",
         "type": "integer"
        },
        {
         "name": "fp_313",
         "rawType": "int64",
         "type": "integer"
        },
        {
         "name": "fp_314",
         "rawType": "int64",
         "type": "integer"
        },
        {
         "name": "fp_315",
         "rawType": "int64",
         "type": "integer"
        },
        {
         "name": "fp_316",
         "rawType": "int64",
         "type": "integer"
        },
        {
         "name": "fp_317",
         "rawType": "int64",
         "type": "integer"
        },
        {
         "name": "fp_318",
         "rawType": "int64",
         "type": "integer"
        },
        {
         "name": "fp_319",
         "rawType": "int64",
         "type": "integer"
        },
        {
         "name": "fp_320",
         "rawType": "int64",
         "type": "integer"
        },
        {
         "name": "fp_321",
         "rawType": "int64",
         "type": "integer"
        },
        {
         "name": "fp_322",
         "rawType": "int64",
         "type": "integer"
        },
        {
         "name": "fp_323",
         "rawType": "int64",
         "type": "integer"
        },
        {
         "name": "fp_324",
         "rawType": "int64",
         "type": "integer"
        },
        {
         "name": "fp_325",
         "rawType": "int64",
         "type": "integer"
        },
        {
         "name": "fp_326",
         "rawType": "int64",
         "type": "integer"
        },
        {
         "name": "fp_327",
         "rawType": "int64",
         "type": "integer"
        },
        {
         "name": "fp_328",
         "rawType": "int64",
         "type": "integer"
        },
        {
         "name": "fp_329",
         "rawType": "int64",
         "type": "integer"
        },
        {
         "name": "fp_330",
         "rawType": "int64",
         "type": "integer"
        },
        {
         "name": "fp_331",
         "rawType": "int64",
         "type": "integer"
        },
        {
         "name": "fp_332",
         "rawType": "int64",
         "type": "integer"
        },
        {
         "name": "fp_333",
         "rawType": "int64",
         "type": "integer"
        },
        {
         "name": "fp_334",
         "rawType": "int64",
         "type": "integer"
        },
        {
         "name": "fp_335",
         "rawType": "int64",
         "type": "integer"
        },
        {
         "name": "fp_336",
         "rawType": "int64",
         "type": "integer"
        },
        {
         "name": "fp_337",
         "rawType": "int64",
         "type": "integer"
        },
        {
         "name": "fp_338",
         "rawType": "int64",
         "type": "integer"
        },
        {
         "name": "fp_339",
         "rawType": "int64",
         "type": "integer"
        },
        {
         "name": "fp_340",
         "rawType": "int64",
         "type": "integer"
        },
        {
         "name": "fp_341",
         "rawType": "int64",
         "type": "integer"
        },
        {
         "name": "fp_342",
         "rawType": "int64",
         "type": "integer"
        },
        {
         "name": "fp_343",
         "rawType": "int64",
         "type": "integer"
        },
        {
         "name": "fp_344",
         "rawType": "int64",
         "type": "integer"
        },
        {
         "name": "fp_345",
         "rawType": "int64",
         "type": "integer"
        },
        {
         "name": "fp_346",
         "rawType": "int64",
         "type": "integer"
        },
        {
         "name": "fp_347",
         "rawType": "int64",
         "type": "integer"
        },
        {
         "name": "fp_348",
         "rawType": "int64",
         "type": "integer"
        },
        {
         "name": "fp_349",
         "rawType": "int64",
         "type": "integer"
        },
        {
         "name": "fp_350",
         "rawType": "int64",
         "type": "integer"
        },
        {
         "name": "fp_351",
         "rawType": "int64",
         "type": "integer"
        },
        {
         "name": "fp_352",
         "rawType": "int64",
         "type": "integer"
        },
        {
         "name": "fp_353",
         "rawType": "int64",
         "type": "integer"
        },
        {
         "name": "fp_354",
         "rawType": "int64",
         "type": "integer"
        },
        {
         "name": "fp_355",
         "rawType": "int64",
         "type": "integer"
        },
        {
         "name": "fp_356",
         "rawType": "int64",
         "type": "integer"
        },
        {
         "name": "fp_357",
         "rawType": "int64",
         "type": "integer"
        },
        {
         "name": "fp_358",
         "rawType": "int64",
         "type": "integer"
        },
        {
         "name": "fp_359",
         "rawType": "int64",
         "type": "integer"
        },
        {
         "name": "fp_360",
         "rawType": "int64",
         "type": "integer"
        },
        {
         "name": "fp_361",
         "rawType": "int64",
         "type": "integer"
        },
        {
         "name": "fp_362",
         "rawType": "int64",
         "type": "integer"
        },
        {
         "name": "fp_363",
         "rawType": "int64",
         "type": "integer"
        },
        {
         "name": "fp_364",
         "rawType": "int64",
         "type": "integer"
        },
        {
         "name": "fp_365",
         "rawType": "int64",
         "type": "integer"
        },
        {
         "name": "fp_366",
         "rawType": "int64",
         "type": "integer"
        },
        {
         "name": "fp_367",
         "rawType": "int64",
         "type": "integer"
        },
        {
         "name": "fp_368",
         "rawType": "int64",
         "type": "integer"
        },
        {
         "name": "fp_369",
         "rawType": "int64",
         "type": "integer"
        },
        {
         "name": "fp_370",
         "rawType": "int64",
         "type": "integer"
        },
        {
         "name": "fp_371",
         "rawType": "int64",
         "type": "integer"
        },
        {
         "name": "fp_372",
         "rawType": "int64",
         "type": "integer"
        },
        {
         "name": "fp_373",
         "rawType": "int64",
         "type": "integer"
        },
        {
         "name": "fp_374",
         "rawType": "int64",
         "type": "integer"
        },
        {
         "name": "fp_375",
         "rawType": "int64",
         "type": "integer"
        },
        {
         "name": "fp_376",
         "rawType": "int64",
         "type": "integer"
        },
        {
         "name": "fp_377",
         "rawType": "int64",
         "type": "integer"
        },
        {
         "name": "fp_378",
         "rawType": "int64",
         "type": "integer"
        },
        {
         "name": "fp_379",
         "rawType": "int64",
         "type": "integer"
        },
        {
         "name": "fp_380",
         "rawType": "int64",
         "type": "integer"
        },
        {
         "name": "fp_381",
         "rawType": "int64",
         "type": "integer"
        },
        {
         "name": "fp_382",
         "rawType": "int64",
         "type": "integer"
        },
        {
         "name": "fp_383",
         "rawType": "int64",
         "type": "integer"
        },
        {
         "name": "fp_384",
         "rawType": "int64",
         "type": "integer"
        },
        {
         "name": "fp_385",
         "rawType": "int64",
         "type": "integer"
        },
        {
         "name": "fp_386",
         "rawType": "int64",
         "type": "integer"
        },
        {
         "name": "fp_387",
         "rawType": "int64",
         "type": "integer"
        },
        {
         "name": "fp_388",
         "rawType": "int64",
         "type": "integer"
        },
        {
         "name": "fp_389",
         "rawType": "int64",
         "type": "integer"
        },
        {
         "name": "fp_390",
         "rawType": "int64",
         "type": "integer"
        },
        {
         "name": "fp_391",
         "rawType": "int64",
         "type": "integer"
        },
        {
         "name": "fp_392",
         "rawType": "int64",
         "type": "integer"
        },
        {
         "name": "fp_393",
         "rawType": "int64",
         "type": "integer"
        },
        {
         "name": "fp_394",
         "rawType": "int64",
         "type": "integer"
        },
        {
         "name": "fp_395",
         "rawType": "int64",
         "type": "integer"
        },
        {
         "name": "fp_396",
         "rawType": "int64",
         "type": "integer"
        },
        {
         "name": "fp_397",
         "rawType": "int64",
         "type": "integer"
        },
        {
         "name": "fp_398",
         "rawType": "int64",
         "type": "integer"
        },
        {
         "name": "fp_399",
         "rawType": "int64",
         "type": "integer"
        },
        {
         "name": "fp_400",
         "rawType": "int64",
         "type": "integer"
        },
        {
         "name": "fp_401",
         "rawType": "int64",
         "type": "integer"
        },
        {
         "name": "fp_402",
         "rawType": "int64",
         "type": "integer"
        },
        {
         "name": "fp_403",
         "rawType": "int64",
         "type": "integer"
        },
        {
         "name": "fp_404",
         "rawType": "int64",
         "type": "integer"
        },
        {
         "name": "fp_405",
         "rawType": "int64",
         "type": "integer"
        },
        {
         "name": "fp_406",
         "rawType": "int64",
         "type": "integer"
        },
        {
         "name": "fp_407",
         "rawType": "int64",
         "type": "integer"
        },
        {
         "name": "fp_408",
         "rawType": "int64",
         "type": "integer"
        },
        {
         "name": "fp_409",
         "rawType": "int64",
         "type": "integer"
        },
        {
         "name": "fp_410",
         "rawType": "int64",
         "type": "integer"
        },
        {
         "name": "fp_411",
         "rawType": "int64",
         "type": "integer"
        },
        {
         "name": "fp_412",
         "rawType": "int64",
         "type": "integer"
        },
        {
         "name": "fp_413",
         "rawType": "int64",
         "type": "integer"
        },
        {
         "name": "fp_414",
         "rawType": "int64",
         "type": "integer"
        },
        {
         "name": "fp_415",
         "rawType": "int64",
         "type": "integer"
        },
        {
         "name": "fp_416",
         "rawType": "int64",
         "type": "integer"
        },
        {
         "name": "fp_417",
         "rawType": "int64",
         "type": "integer"
        },
        {
         "name": "fp_418",
         "rawType": "int64",
         "type": "integer"
        },
        {
         "name": "fp_419",
         "rawType": "int64",
         "type": "integer"
        },
        {
         "name": "fp_420",
         "rawType": "int64",
         "type": "integer"
        },
        {
         "name": "fp_421",
         "rawType": "int64",
         "type": "integer"
        },
        {
         "name": "fp_422",
         "rawType": "int64",
         "type": "integer"
        },
        {
         "name": "fp_423",
         "rawType": "int64",
         "type": "integer"
        },
        {
         "name": "fp_424",
         "rawType": "int64",
         "type": "integer"
        },
        {
         "name": "fp_425",
         "rawType": "int64",
         "type": "integer"
        },
        {
         "name": "fp_426",
         "rawType": "int64",
         "type": "integer"
        },
        {
         "name": "fp_427",
         "rawType": "int64",
         "type": "integer"
        },
        {
         "name": "fp_428",
         "rawType": "int64",
         "type": "integer"
        },
        {
         "name": "fp_429",
         "rawType": "int64",
         "type": "integer"
        },
        {
         "name": "fp_430",
         "rawType": "int64",
         "type": "integer"
        },
        {
         "name": "fp_431",
         "rawType": "int64",
         "type": "integer"
        },
        {
         "name": "fp_432",
         "rawType": "int64",
         "type": "integer"
        },
        {
         "name": "fp_433",
         "rawType": "int64",
         "type": "integer"
        },
        {
         "name": "fp_434",
         "rawType": "int64",
         "type": "integer"
        },
        {
         "name": "fp_435",
         "rawType": "int64",
         "type": "integer"
        },
        {
         "name": "fp_436",
         "rawType": "int64",
         "type": "integer"
        },
        {
         "name": "fp_437",
         "rawType": "int64",
         "type": "integer"
        },
        {
         "name": "fp_438",
         "rawType": "int64",
         "type": "integer"
        },
        {
         "name": "fp_439",
         "rawType": "int64",
         "type": "integer"
        },
        {
         "name": "fp_440",
         "rawType": "int64",
         "type": "integer"
        },
        {
         "name": "fp_441",
         "rawType": "int64",
         "type": "integer"
        },
        {
         "name": "fp_442",
         "rawType": "int64",
         "type": "integer"
        },
        {
         "name": "fp_443",
         "rawType": "int64",
         "type": "integer"
        },
        {
         "name": "fp_444",
         "rawType": "int64",
         "type": "integer"
        },
        {
         "name": "fp_445",
         "rawType": "int64",
         "type": "integer"
        },
        {
         "name": "fp_446",
         "rawType": "int64",
         "type": "integer"
        },
        {
         "name": "fp_447",
         "rawType": "int64",
         "type": "integer"
        },
        {
         "name": "fp_448",
         "rawType": "int64",
         "type": "integer"
        },
        {
         "name": "fp_449",
         "rawType": "int64",
         "type": "integer"
        },
        {
         "name": "fp_450",
         "rawType": "int64",
         "type": "integer"
        },
        {
         "name": "fp_451",
         "rawType": "int64",
         "type": "integer"
        },
        {
         "name": "fp_452",
         "rawType": "int64",
         "type": "integer"
        },
        {
         "name": "fp_453",
         "rawType": "int64",
         "type": "integer"
        },
        {
         "name": "fp_454",
         "rawType": "int64",
         "type": "integer"
        },
        {
         "name": "fp_455",
         "rawType": "int64",
         "type": "integer"
        },
        {
         "name": "fp_456",
         "rawType": "int64",
         "type": "integer"
        },
        {
         "name": "fp_457",
         "rawType": "int64",
         "type": "integer"
        },
        {
         "name": "fp_458",
         "rawType": "int64",
         "type": "integer"
        },
        {
         "name": "fp_459",
         "rawType": "int64",
         "type": "integer"
        },
        {
         "name": "fp_460",
         "rawType": "int64",
         "type": "integer"
        },
        {
         "name": "fp_461",
         "rawType": "int64",
         "type": "integer"
        },
        {
         "name": "fp_462",
         "rawType": "int64",
         "type": "integer"
        },
        {
         "name": "fp_463",
         "rawType": "int64",
         "type": "integer"
        },
        {
         "name": "fp_464",
         "rawType": "int64",
         "type": "integer"
        },
        {
         "name": "fp_465",
         "rawType": "int64",
         "type": "integer"
        },
        {
         "name": "fp_466",
         "rawType": "int64",
         "type": "integer"
        },
        {
         "name": "fp_467",
         "rawType": "int64",
         "type": "integer"
        },
        {
         "name": "fp_468",
         "rawType": "int64",
         "type": "integer"
        },
        {
         "name": "fp_469",
         "rawType": "int64",
         "type": "integer"
        },
        {
         "name": "fp_470",
         "rawType": "int64",
         "type": "integer"
        },
        {
         "name": "fp_471",
         "rawType": "int64",
         "type": "integer"
        },
        {
         "name": "fp_472",
         "rawType": "int64",
         "type": "integer"
        },
        {
         "name": "fp_473",
         "rawType": "int64",
         "type": "integer"
        },
        {
         "name": "fp_474",
         "rawType": "int64",
         "type": "integer"
        },
        {
         "name": "fp_475",
         "rawType": "int64",
         "type": "integer"
        },
        {
         "name": "fp_476",
         "rawType": "int64",
         "type": "integer"
        },
        {
         "name": "fp_477",
         "rawType": "int64",
         "type": "integer"
        },
        {
         "name": "fp_478",
         "rawType": "int64",
         "type": "integer"
        },
        {
         "name": "fp_479",
         "rawType": "int64",
         "type": "integer"
        },
        {
         "name": "fp_480",
         "rawType": "int64",
         "type": "integer"
        },
        {
         "name": "fp_481",
         "rawType": "int64",
         "type": "integer"
        },
        {
         "name": "fp_482",
         "rawType": "int64",
         "type": "integer"
        },
        {
         "name": "fp_483",
         "rawType": "int64",
         "type": "integer"
        },
        {
         "name": "fp_484",
         "rawType": "int64",
         "type": "integer"
        },
        {
         "name": "fp_485",
         "rawType": "int64",
         "type": "integer"
        },
        {
         "name": "fp_486",
         "rawType": "int64",
         "type": "integer"
        },
        {
         "name": "fp_487",
         "rawType": "int64",
         "type": "integer"
        },
        {
         "name": "fp_488",
         "rawType": "int64",
         "type": "integer"
        },
        {
         "name": "fp_489",
         "rawType": "int64",
         "type": "integer"
        },
        {
         "name": "fp_490",
         "rawType": "int64",
         "type": "integer"
        },
        {
         "name": "fp_491",
         "rawType": "int64",
         "type": "integer"
        },
        {
         "name": "fp_492",
         "rawType": "int64",
         "type": "integer"
        },
        {
         "name": "fp_493",
         "rawType": "int64",
         "type": "integer"
        },
        {
         "name": "fp_494",
         "rawType": "int64",
         "type": "integer"
        },
        {
         "name": "fp_495",
         "rawType": "int64",
         "type": "integer"
        },
        {
         "name": "fp_496",
         "rawType": "int64",
         "type": "integer"
        },
        {
         "name": "fp_497",
         "rawType": "int64",
         "type": "integer"
        },
        {
         "name": "fp_498",
         "rawType": "int64",
         "type": "integer"
        },
        {
         "name": "fp_499",
         "rawType": "int64",
         "type": "integer"
        },
        {
         "name": "fp_500",
         "rawType": "int64",
         "type": "integer"
        },
        {
         "name": "fp_501",
         "rawType": "int64",
         "type": "integer"
        },
        {
         "name": "fp_502",
         "rawType": "int64",
         "type": "integer"
        },
        {
         "name": "fp_503",
         "rawType": "int64",
         "type": "integer"
        },
        {
         "name": "fp_504",
         "rawType": "int64",
         "type": "integer"
        },
        {
         "name": "fp_505",
         "rawType": "int64",
         "type": "integer"
        },
        {
         "name": "fp_506",
         "rawType": "int64",
         "type": "integer"
        },
        {
         "name": "fp_507",
         "rawType": "int64",
         "type": "integer"
        },
        {
         "name": "fp_508",
         "rawType": "int64",
         "type": "integer"
        },
        {
         "name": "fp_509",
         "rawType": "int64",
         "type": "integer"
        },
        {
         "name": "fp_510",
         "rawType": "int64",
         "type": "integer"
        },
        {
         "name": "fp_511",
         "rawType": "int64",
         "type": "integer"
        },
        {
         "name": "fp_512",
         "rawType": "int64",
         "type": "integer"
        },
        {
         "name": "fp_513",
         "rawType": "int64",
         "type": "integer"
        },
        {
         "name": "fp_514",
         "rawType": "int64",
         "type": "integer"
        },
        {
         "name": "fp_515",
         "rawType": "int64",
         "type": "integer"
        },
        {
         "name": "fp_516",
         "rawType": "int64",
         "type": "integer"
        },
        {
         "name": "fp_517",
         "rawType": "int64",
         "type": "integer"
        },
        {
         "name": "fp_518",
         "rawType": "int64",
         "type": "integer"
        },
        {
         "name": "fp_519",
         "rawType": "int64",
         "type": "integer"
        },
        {
         "name": "fp_520",
         "rawType": "int64",
         "type": "integer"
        },
        {
         "name": "fp_521",
         "rawType": "int64",
         "type": "integer"
        },
        {
         "name": "fp_522",
         "rawType": "int64",
         "type": "integer"
        },
        {
         "name": "fp_523",
         "rawType": "int64",
         "type": "integer"
        },
        {
         "name": "fp_524",
         "rawType": "int64",
         "type": "integer"
        },
        {
         "name": "fp_525",
         "rawType": "int64",
         "type": "integer"
        },
        {
         "name": "fp_526",
         "rawType": "int64",
         "type": "integer"
        },
        {
         "name": "fp_527",
         "rawType": "int64",
         "type": "integer"
        },
        {
         "name": "fp_528",
         "rawType": "int64",
         "type": "integer"
        },
        {
         "name": "fp_529",
         "rawType": "int64",
         "type": "integer"
        },
        {
         "name": "fp_530",
         "rawType": "int64",
         "type": "integer"
        },
        {
         "name": "fp_531",
         "rawType": "int64",
         "type": "integer"
        },
        {
         "name": "fp_532",
         "rawType": "int64",
         "type": "integer"
        },
        {
         "name": "fp_533",
         "rawType": "int64",
         "type": "integer"
        },
        {
         "name": "fp_534",
         "rawType": "int64",
         "type": "integer"
        },
        {
         "name": "fp_535",
         "rawType": "int64",
         "type": "integer"
        },
        {
         "name": "fp_536",
         "rawType": "int64",
         "type": "integer"
        },
        {
         "name": "fp_537",
         "rawType": "int64",
         "type": "integer"
        },
        {
         "name": "fp_538",
         "rawType": "int64",
         "type": "integer"
        },
        {
         "name": "fp_539",
         "rawType": "int64",
         "type": "integer"
        },
        {
         "name": "fp_540",
         "rawType": "int64",
         "type": "integer"
        },
        {
         "name": "fp_541",
         "rawType": "int64",
         "type": "integer"
        },
        {
         "name": "fp_542",
         "rawType": "int64",
         "type": "integer"
        },
        {
         "name": "fp_543",
         "rawType": "int64",
         "type": "integer"
        },
        {
         "name": "fp_544",
         "rawType": "int64",
         "type": "integer"
        },
        {
         "name": "fp_545",
         "rawType": "int64",
         "type": "integer"
        },
        {
         "name": "fp_546",
         "rawType": "int64",
         "type": "integer"
        },
        {
         "name": "fp_547",
         "rawType": "int64",
         "type": "integer"
        },
        {
         "name": "fp_548",
         "rawType": "int64",
         "type": "integer"
        },
        {
         "name": "fp_549",
         "rawType": "int64",
         "type": "integer"
        },
        {
         "name": "fp_550",
         "rawType": "int64",
         "type": "integer"
        },
        {
         "name": "fp_551",
         "rawType": "int64",
         "type": "integer"
        },
        {
         "name": "fp_552",
         "rawType": "int64",
         "type": "integer"
        },
        {
         "name": "fp_553",
         "rawType": "int64",
         "type": "integer"
        },
        {
         "name": "fp_554",
         "rawType": "int64",
         "type": "integer"
        },
        {
         "name": "fp_555",
         "rawType": "int64",
         "type": "integer"
        },
        {
         "name": "fp_556",
         "rawType": "int64",
         "type": "integer"
        },
        {
         "name": "fp_557",
         "rawType": "int64",
         "type": "integer"
        },
        {
         "name": "fp_558",
         "rawType": "int64",
         "type": "integer"
        },
        {
         "name": "fp_559",
         "rawType": "int64",
         "type": "integer"
        },
        {
         "name": "fp_560",
         "rawType": "int64",
         "type": "integer"
        },
        {
         "name": "fp_561",
         "rawType": "int64",
         "type": "integer"
        },
        {
         "name": "fp_562",
         "rawType": "int64",
         "type": "integer"
        },
        {
         "name": "fp_563",
         "rawType": "int64",
         "type": "integer"
        },
        {
         "name": "fp_564",
         "rawType": "int64",
         "type": "integer"
        },
        {
         "name": "fp_565",
         "rawType": "int64",
         "type": "integer"
        },
        {
         "name": "fp_566",
         "rawType": "int64",
         "type": "integer"
        },
        {
         "name": "fp_567",
         "rawType": "int64",
         "type": "integer"
        },
        {
         "name": "fp_568",
         "rawType": "int64",
         "type": "integer"
        },
        {
         "name": "fp_569",
         "rawType": "int64",
         "type": "integer"
        },
        {
         "name": "fp_570",
         "rawType": "int64",
         "type": "integer"
        },
        {
         "name": "fp_571",
         "rawType": "int64",
         "type": "integer"
        },
        {
         "name": "fp_572",
         "rawType": "int64",
         "type": "integer"
        },
        {
         "name": "fp_573",
         "rawType": "int64",
         "type": "integer"
        },
        {
         "name": "fp_574",
         "rawType": "int64",
         "type": "integer"
        },
        {
         "name": "fp_575",
         "rawType": "int64",
         "type": "integer"
        },
        {
         "name": "fp_576",
         "rawType": "int64",
         "type": "integer"
        },
        {
         "name": "fp_577",
         "rawType": "int64",
         "type": "integer"
        },
        {
         "name": "fp_578",
         "rawType": "int64",
         "type": "integer"
        },
        {
         "name": "fp_579",
         "rawType": "int64",
         "type": "integer"
        },
        {
         "name": "fp_580",
         "rawType": "int64",
         "type": "integer"
        },
        {
         "name": "fp_581",
         "rawType": "int64",
         "type": "integer"
        },
        {
         "name": "fp_582",
         "rawType": "int64",
         "type": "integer"
        },
        {
         "name": "fp_583",
         "rawType": "int64",
         "type": "integer"
        },
        {
         "name": "fp_584",
         "rawType": "int64",
         "type": "integer"
        },
        {
         "name": "fp_585",
         "rawType": "int64",
         "type": "integer"
        },
        {
         "name": "fp_586",
         "rawType": "int64",
         "type": "integer"
        },
        {
         "name": "fp_587",
         "rawType": "int64",
         "type": "integer"
        },
        {
         "name": "fp_588",
         "rawType": "int64",
         "type": "integer"
        },
        {
         "name": "fp_589",
         "rawType": "int64",
         "type": "integer"
        },
        {
         "name": "fp_590",
         "rawType": "int64",
         "type": "integer"
        },
        {
         "name": "fp_591",
         "rawType": "int64",
         "type": "integer"
        },
        {
         "name": "fp_592",
         "rawType": "int64",
         "type": "integer"
        },
        {
         "name": "fp_593",
         "rawType": "int64",
         "type": "integer"
        },
        {
         "name": "fp_594",
         "rawType": "int64",
         "type": "integer"
        },
        {
         "name": "fp_595",
         "rawType": "int64",
         "type": "integer"
        },
        {
         "name": "fp_596",
         "rawType": "int64",
         "type": "integer"
        },
        {
         "name": "fp_597",
         "rawType": "int64",
         "type": "integer"
        },
        {
         "name": "fp_598",
         "rawType": "int64",
         "type": "integer"
        },
        {
         "name": "fp_599",
         "rawType": "int64",
         "type": "integer"
        },
        {
         "name": "fp_600",
         "rawType": "int64",
         "type": "integer"
        },
        {
         "name": "fp_601",
         "rawType": "int64",
         "type": "integer"
        },
        {
         "name": "fp_602",
         "rawType": "int64",
         "type": "integer"
        },
        {
         "name": "fp_603",
         "rawType": "int64",
         "type": "integer"
        },
        {
         "name": "fp_604",
         "rawType": "int64",
         "type": "integer"
        },
        {
         "name": "fp_605",
         "rawType": "int64",
         "type": "integer"
        },
        {
         "name": "fp_606",
         "rawType": "int64",
         "type": "integer"
        },
        {
         "name": "fp_607",
         "rawType": "int64",
         "type": "integer"
        },
        {
         "name": "fp_608",
         "rawType": "int64",
         "type": "integer"
        },
        {
         "name": "fp_609",
         "rawType": "int64",
         "type": "integer"
        },
        {
         "name": "fp_610",
         "rawType": "int64",
         "type": "integer"
        },
        {
         "name": "fp_611",
         "rawType": "int64",
         "type": "integer"
        },
        {
         "name": "fp_612",
         "rawType": "int64",
         "type": "integer"
        },
        {
         "name": "fp_613",
         "rawType": "int64",
         "type": "integer"
        },
        {
         "name": "fp_614",
         "rawType": "int64",
         "type": "integer"
        },
        {
         "name": "fp_615",
         "rawType": "int64",
         "type": "integer"
        },
        {
         "name": "fp_616",
         "rawType": "int64",
         "type": "integer"
        },
        {
         "name": "fp_617",
         "rawType": "int64",
         "type": "integer"
        },
        {
         "name": "fp_618",
         "rawType": "int64",
         "type": "integer"
        },
        {
         "name": "fp_619",
         "rawType": "int64",
         "type": "integer"
        },
        {
         "name": "fp_620",
         "rawType": "int64",
         "type": "integer"
        },
        {
         "name": "fp_621",
         "rawType": "int64",
         "type": "integer"
        },
        {
         "name": "fp_622",
         "rawType": "int64",
         "type": "integer"
        },
        {
         "name": "fp_623",
         "rawType": "int64",
         "type": "integer"
        },
        {
         "name": "fp_624",
         "rawType": "int64",
         "type": "integer"
        },
        {
         "name": "fp_625",
         "rawType": "int64",
         "type": "integer"
        },
        {
         "name": "fp_626",
         "rawType": "int64",
         "type": "integer"
        },
        {
         "name": "fp_627",
         "rawType": "int64",
         "type": "integer"
        },
        {
         "name": "fp_628",
         "rawType": "int64",
         "type": "integer"
        },
        {
         "name": "fp_629",
         "rawType": "int64",
         "type": "integer"
        },
        {
         "name": "fp_630",
         "rawType": "int64",
         "type": "integer"
        },
        {
         "name": "fp_631",
         "rawType": "int64",
         "type": "integer"
        },
        {
         "name": "fp_632",
         "rawType": "int64",
         "type": "integer"
        },
        {
         "name": "fp_633",
         "rawType": "int64",
         "type": "integer"
        },
        {
         "name": "fp_634",
         "rawType": "int64",
         "type": "integer"
        },
        {
         "name": "fp_635",
         "rawType": "int64",
         "type": "integer"
        },
        {
         "name": "fp_636",
         "rawType": "int64",
         "type": "integer"
        },
        {
         "name": "fp_637",
         "rawType": "int64",
         "type": "integer"
        },
        {
         "name": "fp_638",
         "rawType": "int64",
         "type": "integer"
        },
        {
         "name": "fp_639",
         "rawType": "int64",
         "type": "integer"
        },
        {
         "name": "fp_640",
         "rawType": "int64",
         "type": "integer"
        },
        {
         "name": "fp_641",
         "rawType": "int64",
         "type": "integer"
        },
        {
         "name": "fp_642",
         "rawType": "int64",
         "type": "integer"
        },
        {
         "name": "fp_643",
         "rawType": "int64",
         "type": "integer"
        },
        {
         "name": "fp_644",
         "rawType": "int64",
         "type": "integer"
        },
        {
         "name": "fp_645",
         "rawType": "int64",
         "type": "integer"
        },
        {
         "name": "fp_646",
         "rawType": "int64",
         "type": "integer"
        },
        {
         "name": "fp_647",
         "rawType": "int64",
         "type": "integer"
        },
        {
         "name": "fp_648",
         "rawType": "int64",
         "type": "integer"
        },
        {
         "name": "fp_649",
         "rawType": "int64",
         "type": "integer"
        },
        {
         "name": "fp_650",
         "rawType": "int64",
         "type": "integer"
        },
        {
         "name": "fp_651",
         "rawType": "int64",
         "type": "integer"
        },
        {
         "name": "fp_652",
         "rawType": "int64",
         "type": "integer"
        },
        {
         "name": "fp_653",
         "rawType": "int64",
         "type": "integer"
        },
        {
         "name": "fp_654",
         "rawType": "int64",
         "type": "integer"
        },
        {
         "name": "fp_655",
         "rawType": "int64",
         "type": "integer"
        },
        {
         "name": "fp_656",
         "rawType": "int64",
         "type": "integer"
        },
        {
         "name": "fp_657",
         "rawType": "int64",
         "type": "integer"
        },
        {
         "name": "fp_658",
         "rawType": "int64",
         "type": "integer"
        },
        {
         "name": "fp_659",
         "rawType": "int64",
         "type": "integer"
        },
        {
         "name": "fp_660",
         "rawType": "int64",
         "type": "integer"
        },
        {
         "name": "fp_661",
         "rawType": "int64",
         "type": "integer"
        },
        {
         "name": "fp_662",
         "rawType": "int64",
         "type": "integer"
        },
        {
         "name": "fp_663",
         "rawType": "int64",
         "type": "integer"
        },
        {
         "name": "fp_664",
         "rawType": "int64",
         "type": "integer"
        },
        {
         "name": "fp_665",
         "rawType": "int64",
         "type": "integer"
        },
        {
         "name": "fp_666",
         "rawType": "int64",
         "type": "integer"
        },
        {
         "name": "fp_667",
         "rawType": "int64",
         "type": "integer"
        },
        {
         "name": "fp_668",
         "rawType": "int64",
         "type": "integer"
        },
        {
         "name": "fp_669",
         "rawType": "int64",
         "type": "integer"
        },
        {
         "name": "fp_670",
         "rawType": "int64",
         "type": "integer"
        },
        {
         "name": "fp_671",
         "rawType": "int64",
         "type": "integer"
        },
        {
         "name": "fp_672",
         "rawType": "int64",
         "type": "integer"
        },
        {
         "name": "fp_673",
         "rawType": "int64",
         "type": "integer"
        },
        {
         "name": "fp_674",
         "rawType": "int64",
         "type": "integer"
        },
        {
         "name": "fp_675",
         "rawType": "int64",
         "type": "integer"
        },
        {
         "name": "fp_676",
         "rawType": "int64",
         "type": "integer"
        },
        {
         "name": "fp_677",
         "rawType": "int64",
         "type": "integer"
        },
        {
         "name": "fp_678",
         "rawType": "int64",
         "type": "integer"
        },
        {
         "name": "fp_679",
         "rawType": "int64",
         "type": "integer"
        },
        {
         "name": "fp_680",
         "rawType": "int64",
         "type": "integer"
        },
        {
         "name": "fp_681",
         "rawType": "int64",
         "type": "integer"
        },
        {
         "name": "fp_682",
         "rawType": "int64",
         "type": "integer"
        },
        {
         "name": "fp_683",
         "rawType": "int64",
         "type": "integer"
        },
        {
         "name": "fp_684",
         "rawType": "int64",
         "type": "integer"
        },
        {
         "name": "fp_685",
         "rawType": "int64",
         "type": "integer"
        },
        {
         "name": "fp_686",
         "rawType": "int64",
         "type": "integer"
        },
        {
         "name": "fp_687",
         "rawType": "int64",
         "type": "integer"
        },
        {
         "name": "fp_688",
         "rawType": "int64",
         "type": "integer"
        },
        {
         "name": "fp_689",
         "rawType": "int64",
         "type": "integer"
        },
        {
         "name": "fp_690",
         "rawType": "int64",
         "type": "integer"
        },
        {
         "name": "fp_691",
         "rawType": "int64",
         "type": "integer"
        },
        {
         "name": "fp_692",
         "rawType": "int64",
         "type": "integer"
        },
        {
         "name": "fp_693",
         "rawType": "int64",
         "type": "integer"
        },
        {
         "name": "fp_694",
         "rawType": "int64",
         "type": "integer"
        },
        {
         "name": "fp_695",
         "rawType": "int64",
         "type": "integer"
        },
        {
         "name": "fp_696",
         "rawType": "int64",
         "type": "integer"
        },
        {
         "name": "fp_697",
         "rawType": "int64",
         "type": "integer"
        },
        {
         "name": "fp_698",
         "rawType": "int64",
         "type": "integer"
        },
        {
         "name": "fp_699",
         "rawType": "int64",
         "type": "integer"
        },
        {
         "name": "fp_700",
         "rawType": "int64",
         "type": "integer"
        },
        {
         "name": "fp_701",
         "rawType": "int64",
         "type": "integer"
        },
        {
         "name": "fp_702",
         "rawType": "int64",
         "type": "integer"
        },
        {
         "name": "fp_703",
         "rawType": "int64",
         "type": "integer"
        },
        {
         "name": "fp_704",
         "rawType": "int64",
         "type": "integer"
        },
        {
         "name": "fp_705",
         "rawType": "int64",
         "type": "integer"
        },
        {
         "name": "fp_706",
         "rawType": "int64",
         "type": "integer"
        },
        {
         "name": "fp_707",
         "rawType": "int64",
         "type": "integer"
        },
        {
         "name": "fp_708",
         "rawType": "int64",
         "type": "integer"
        },
        {
         "name": "fp_709",
         "rawType": "int64",
         "type": "integer"
        },
        {
         "name": "fp_710",
         "rawType": "int64",
         "type": "integer"
        },
        {
         "name": "fp_711",
         "rawType": "int64",
         "type": "integer"
        },
        {
         "name": "fp_712",
         "rawType": "int64",
         "type": "integer"
        },
        {
         "name": "fp_713",
         "rawType": "int64",
         "type": "integer"
        },
        {
         "name": "fp_714",
         "rawType": "int64",
         "type": "integer"
        },
        {
         "name": "fp_715",
         "rawType": "int64",
         "type": "integer"
        },
        {
         "name": "fp_716",
         "rawType": "int64",
         "type": "integer"
        },
        {
         "name": "fp_717",
         "rawType": "int64",
         "type": "integer"
        },
        {
         "name": "fp_718",
         "rawType": "int64",
         "type": "integer"
        },
        {
         "name": "fp_719",
         "rawType": "int64",
         "type": "integer"
        },
        {
         "name": "fp_720",
         "rawType": "int64",
         "type": "integer"
        },
        {
         "name": "fp_721",
         "rawType": "int64",
         "type": "integer"
        },
        {
         "name": "fp_722",
         "rawType": "int64",
         "type": "integer"
        },
        {
         "name": "fp_723",
         "rawType": "int64",
         "type": "integer"
        },
        {
         "name": "fp_724",
         "rawType": "int64",
         "type": "integer"
        },
        {
         "name": "fp_725",
         "rawType": "int64",
         "type": "integer"
        },
        {
         "name": "fp_726",
         "rawType": "int64",
         "type": "integer"
        },
        {
         "name": "fp_727",
         "rawType": "int64",
         "type": "integer"
        },
        {
         "name": "fp_728",
         "rawType": "int64",
         "type": "integer"
        },
        {
         "name": "fp_729",
         "rawType": "int64",
         "type": "integer"
        },
        {
         "name": "fp_730",
         "rawType": "int64",
         "type": "integer"
        },
        {
         "name": "fp_731",
         "rawType": "int64",
         "type": "integer"
        },
        {
         "name": "fp_732",
         "rawType": "int64",
         "type": "integer"
        },
        {
         "name": "fp_733",
         "rawType": "int64",
         "type": "integer"
        },
        {
         "name": "fp_734",
         "rawType": "int64",
         "type": "integer"
        },
        {
         "name": "fp_735",
         "rawType": "int64",
         "type": "integer"
        },
        {
         "name": "fp_736",
         "rawType": "int64",
         "type": "integer"
        },
        {
         "name": "fp_737",
         "rawType": "int64",
         "type": "integer"
        },
        {
         "name": "fp_738",
         "rawType": "int64",
         "type": "integer"
        },
        {
         "name": "fp_739",
         "rawType": "int64",
         "type": "integer"
        },
        {
         "name": "fp_740",
         "rawType": "int64",
         "type": "integer"
        },
        {
         "name": "fp_741",
         "rawType": "int64",
         "type": "integer"
        },
        {
         "name": "fp_742",
         "rawType": "int64",
         "type": "integer"
        },
        {
         "name": "fp_743",
         "rawType": "int64",
         "type": "integer"
        },
        {
         "name": "fp_744",
         "rawType": "int64",
         "type": "integer"
        },
        {
         "name": "fp_745",
         "rawType": "int64",
         "type": "integer"
        },
        {
         "name": "fp_746",
         "rawType": "int64",
         "type": "integer"
        },
        {
         "name": "fp_747",
         "rawType": "int64",
         "type": "integer"
        },
        {
         "name": "fp_748",
         "rawType": "int64",
         "type": "integer"
        },
        {
         "name": "fp_749",
         "rawType": "int64",
         "type": "integer"
        },
        {
         "name": "fp_750",
         "rawType": "int64",
         "type": "integer"
        },
        {
         "name": "fp_751",
         "rawType": "int64",
         "type": "integer"
        },
        {
         "name": "fp_752",
         "rawType": "int64",
         "type": "integer"
        },
        {
         "name": "fp_753",
         "rawType": "int64",
         "type": "integer"
        },
        {
         "name": "fp_754",
         "rawType": "int64",
         "type": "integer"
        },
        {
         "name": "fp_755",
         "rawType": "int64",
         "type": "integer"
        },
        {
         "name": "fp_756",
         "rawType": "int64",
         "type": "integer"
        },
        {
         "name": "fp_757",
         "rawType": "int64",
         "type": "integer"
        },
        {
         "name": "fp_758",
         "rawType": "int64",
         "type": "integer"
        },
        {
         "name": "fp_759",
         "rawType": "int64",
         "type": "integer"
        },
        {
         "name": "fp_760",
         "rawType": "int64",
         "type": "integer"
        },
        {
         "name": "fp_761",
         "rawType": "int64",
         "type": "integer"
        },
        {
         "name": "fp_762",
         "rawType": "int64",
         "type": "integer"
        },
        {
         "name": "fp_763",
         "rawType": "int64",
         "type": "integer"
        },
        {
         "name": "fp_764",
         "rawType": "int64",
         "type": "integer"
        },
        {
         "name": "fp_765",
         "rawType": "int64",
         "type": "integer"
        },
        {
         "name": "fp_766",
         "rawType": "int64",
         "type": "integer"
        },
        {
         "name": "fp_767",
         "rawType": "int64",
         "type": "integer"
        },
        {
         "name": "fp_768",
         "rawType": "int64",
         "type": "integer"
        },
        {
         "name": "fp_769",
         "rawType": "int64",
         "type": "integer"
        },
        {
         "name": "fp_770",
         "rawType": "int64",
         "type": "integer"
        },
        {
         "name": "fp_771",
         "rawType": "int64",
         "type": "integer"
        },
        {
         "name": "fp_772",
         "rawType": "int64",
         "type": "integer"
        },
        {
         "name": "fp_773",
         "rawType": "int64",
         "type": "integer"
        },
        {
         "name": "fp_774",
         "rawType": "int64",
         "type": "integer"
        },
        {
         "name": "fp_775",
         "rawType": "int64",
         "type": "integer"
        },
        {
         "name": "fp_776",
         "rawType": "int64",
         "type": "integer"
        },
        {
         "name": "fp_777",
         "rawType": "int64",
         "type": "integer"
        },
        {
         "name": "fp_778",
         "rawType": "int64",
         "type": "integer"
        },
        {
         "name": "fp_779",
         "rawType": "int64",
         "type": "integer"
        },
        {
         "name": "fp_780",
         "rawType": "int64",
         "type": "integer"
        },
        {
         "name": "fp_781",
         "rawType": "int64",
         "type": "integer"
        },
        {
         "name": "fp_782",
         "rawType": "int64",
         "type": "integer"
        },
        {
         "name": "fp_783",
         "rawType": "int64",
         "type": "integer"
        },
        {
         "name": "fp_784",
         "rawType": "int64",
         "type": "integer"
        },
        {
         "name": "fp_785",
         "rawType": "int64",
         "type": "integer"
        },
        {
         "name": "fp_786",
         "rawType": "int64",
         "type": "integer"
        },
        {
         "name": "fp_787",
         "rawType": "int64",
         "type": "integer"
        },
        {
         "name": "fp_788",
         "rawType": "int64",
         "type": "integer"
        },
        {
         "name": "fp_789",
         "rawType": "int64",
         "type": "integer"
        },
        {
         "name": "fp_790",
         "rawType": "int64",
         "type": "integer"
        },
        {
         "name": "fp_791",
         "rawType": "int64",
         "type": "integer"
        },
        {
         "name": "fp_792",
         "rawType": "int64",
         "type": "integer"
        },
        {
         "name": "fp_793",
         "rawType": "int64",
         "type": "integer"
        },
        {
         "name": "fp_794",
         "rawType": "int64",
         "type": "integer"
        },
        {
         "name": "fp_795",
         "rawType": "int64",
         "type": "integer"
        },
        {
         "name": "fp_796",
         "rawType": "int64",
         "type": "integer"
        },
        {
         "name": "fp_797",
         "rawType": "int64",
         "type": "integer"
        },
        {
         "name": "fp_798",
         "rawType": "int64",
         "type": "integer"
        },
        {
         "name": "fp_799",
         "rawType": "int64",
         "type": "integer"
        },
        {
         "name": "fp_800",
         "rawType": "int64",
         "type": "integer"
        },
        {
         "name": "fp_801",
         "rawType": "int64",
         "type": "integer"
        },
        {
         "name": "fp_802",
         "rawType": "int64",
         "type": "integer"
        },
        {
         "name": "fp_803",
         "rawType": "int64",
         "type": "integer"
        },
        {
         "name": "fp_804",
         "rawType": "int64",
         "type": "integer"
        },
        {
         "name": "fp_805",
         "rawType": "int64",
         "type": "integer"
        },
        {
         "name": "fp_806",
         "rawType": "int64",
         "type": "integer"
        },
        {
         "name": "fp_807",
         "rawType": "int64",
         "type": "integer"
        },
        {
         "name": "fp_808",
         "rawType": "int64",
         "type": "integer"
        },
        {
         "name": "fp_809",
         "rawType": "int64",
         "type": "integer"
        },
        {
         "name": "fp_810",
         "rawType": "int64",
         "type": "integer"
        },
        {
         "name": "fp_811",
         "rawType": "int64",
         "type": "integer"
        },
        {
         "name": "fp_812",
         "rawType": "int64",
         "type": "integer"
        },
        {
         "name": "fp_813",
         "rawType": "int64",
         "type": "integer"
        },
        {
         "name": "fp_814",
         "rawType": "int64",
         "type": "integer"
        },
        {
         "name": "fp_815",
         "rawType": "int64",
         "type": "integer"
        },
        {
         "name": "fp_816",
         "rawType": "int64",
         "type": "integer"
        },
        {
         "name": "fp_817",
         "rawType": "int64",
         "type": "integer"
        },
        {
         "name": "fp_818",
         "rawType": "int64",
         "type": "integer"
        },
        {
         "name": "fp_819",
         "rawType": "int64",
         "type": "integer"
        },
        {
         "name": "fp_820",
         "rawType": "int64",
         "type": "integer"
        },
        {
         "name": "fp_821",
         "rawType": "int64",
         "type": "integer"
        },
        {
         "name": "fp_822",
         "rawType": "int64",
         "type": "integer"
        },
        {
         "name": "fp_823",
         "rawType": "int64",
         "type": "integer"
        },
        {
         "name": "fp_824",
         "rawType": "int64",
         "type": "integer"
        },
        {
         "name": "fp_825",
         "rawType": "int64",
         "type": "integer"
        },
        {
         "name": "fp_826",
         "rawType": "int64",
         "type": "integer"
        },
        {
         "name": "fp_827",
         "rawType": "int64",
         "type": "integer"
        },
        {
         "name": "fp_828",
         "rawType": "int64",
         "type": "integer"
        },
        {
         "name": "fp_829",
         "rawType": "int64",
         "type": "integer"
        },
        {
         "name": "fp_830",
         "rawType": "int64",
         "type": "integer"
        },
        {
         "name": "fp_831",
         "rawType": "int64",
         "type": "integer"
        },
        {
         "name": "fp_832",
         "rawType": "int64",
         "type": "integer"
        },
        {
         "name": "fp_833",
         "rawType": "int64",
         "type": "integer"
        },
        {
         "name": "fp_834",
         "rawType": "int64",
         "type": "integer"
        },
        {
         "name": "fp_835",
         "rawType": "int64",
         "type": "integer"
        },
        {
         "name": "fp_836",
         "rawType": "int64",
         "type": "integer"
        },
        {
         "name": "fp_837",
         "rawType": "int64",
         "type": "integer"
        },
        {
         "name": "fp_838",
         "rawType": "int64",
         "type": "integer"
        },
        {
         "name": "fp_839",
         "rawType": "int64",
         "type": "integer"
        },
        {
         "name": "fp_840",
         "rawType": "int64",
         "type": "integer"
        },
        {
         "name": "fp_841",
         "rawType": "int64",
         "type": "integer"
        },
        {
         "name": "fp_842",
         "rawType": "int64",
         "type": "integer"
        },
        {
         "name": "fp_843",
         "rawType": "int64",
         "type": "integer"
        },
        {
         "name": "fp_844",
         "rawType": "int64",
         "type": "integer"
        },
        {
         "name": "fp_845",
         "rawType": "int64",
         "type": "integer"
        },
        {
         "name": "fp_846",
         "rawType": "int64",
         "type": "integer"
        },
        {
         "name": "fp_847",
         "rawType": "int64",
         "type": "integer"
        },
        {
         "name": "fp_848",
         "rawType": "int64",
         "type": "integer"
        },
        {
         "name": "fp_849",
         "rawType": "int64",
         "type": "integer"
        },
        {
         "name": "fp_850",
         "rawType": "int64",
         "type": "integer"
        },
        {
         "name": "fp_851",
         "rawType": "int64",
         "type": "integer"
        },
        {
         "name": "fp_852",
         "rawType": "int64",
         "type": "integer"
        },
        {
         "name": "fp_853",
         "rawType": "int64",
         "type": "integer"
        },
        {
         "name": "fp_854",
         "rawType": "int64",
         "type": "integer"
        },
        {
         "name": "fp_855",
         "rawType": "int64",
         "type": "integer"
        },
        {
         "name": "fp_856",
         "rawType": "int64",
         "type": "integer"
        },
        {
         "name": "fp_857",
         "rawType": "int64",
         "type": "integer"
        },
        {
         "name": "fp_858",
         "rawType": "int64",
         "type": "integer"
        },
        {
         "name": "fp_859",
         "rawType": "int64",
         "type": "integer"
        },
        {
         "name": "fp_860",
         "rawType": "int64",
         "type": "integer"
        },
        {
         "name": "fp_861",
         "rawType": "int64",
         "type": "integer"
        },
        {
         "name": "fp_862",
         "rawType": "int64",
         "type": "integer"
        },
        {
         "name": "fp_863",
         "rawType": "int64",
         "type": "integer"
        },
        {
         "name": "fp_864",
         "rawType": "int64",
         "type": "integer"
        },
        {
         "name": "fp_865",
         "rawType": "int64",
         "type": "integer"
        },
        {
         "name": "fp_866",
         "rawType": "int64",
         "type": "integer"
        },
        {
         "name": "fp_867",
         "rawType": "int64",
         "type": "integer"
        },
        {
         "name": "fp_868",
         "rawType": "int64",
         "type": "integer"
        },
        {
         "name": "fp_869",
         "rawType": "int64",
         "type": "integer"
        },
        {
         "name": "fp_870",
         "rawType": "int64",
         "type": "integer"
        },
        {
         "name": "fp_871",
         "rawType": "int64",
         "type": "integer"
        },
        {
         "name": "fp_872",
         "rawType": "int64",
         "type": "integer"
        },
        {
         "name": "fp_873",
         "rawType": "int64",
         "type": "integer"
        },
        {
         "name": "fp_874",
         "rawType": "int64",
         "type": "integer"
        },
        {
         "name": "fp_875",
         "rawType": "int64",
         "type": "integer"
        },
        {
         "name": "fp_876",
         "rawType": "int64",
         "type": "integer"
        },
        {
         "name": "fp_877",
         "rawType": "int64",
         "type": "integer"
        },
        {
         "name": "fp_878",
         "rawType": "int64",
         "type": "integer"
        },
        {
         "name": "fp_879",
         "rawType": "int64",
         "type": "integer"
        },
        {
         "name": "fp_880",
         "rawType": "int64",
         "type": "integer"
        },
        {
         "name": "fp_881",
         "rawType": "int64",
         "type": "integer"
        },
        {
         "name": "fp_882",
         "rawType": "int64",
         "type": "integer"
        },
        {
         "name": "fp_883",
         "rawType": "int64",
         "type": "integer"
        },
        {
         "name": "fp_884",
         "rawType": "int64",
         "type": "integer"
        },
        {
         "name": "fp_885",
         "rawType": "int64",
         "type": "integer"
        },
        {
         "name": "fp_886",
         "rawType": "int64",
         "type": "integer"
        },
        {
         "name": "fp_887",
         "rawType": "int64",
         "type": "integer"
        },
        {
         "name": "fp_888",
         "rawType": "int64",
         "type": "integer"
        },
        {
         "name": "fp_889",
         "rawType": "int64",
         "type": "integer"
        },
        {
         "name": "fp_890",
         "rawType": "int64",
         "type": "integer"
        },
        {
         "name": "fp_891",
         "rawType": "int64",
         "type": "integer"
        },
        {
         "name": "fp_892",
         "rawType": "int64",
         "type": "integer"
        },
        {
         "name": "fp_893",
         "rawType": "int64",
         "type": "integer"
        },
        {
         "name": "fp_894",
         "rawType": "int64",
         "type": "integer"
        },
        {
         "name": "fp_895",
         "rawType": "int64",
         "type": "integer"
        },
        {
         "name": "fp_896",
         "rawType": "int64",
         "type": "integer"
        },
        {
         "name": "fp_897",
         "rawType": "int64",
         "type": "integer"
        },
        {
         "name": "fp_898",
         "rawType": "int64",
         "type": "integer"
        },
        {
         "name": "fp_899",
         "rawType": "int64",
         "type": "integer"
        },
        {
         "name": "fp_900",
         "rawType": "int64",
         "type": "integer"
        },
        {
         "name": "fp_901",
         "rawType": "int64",
         "type": "integer"
        },
        {
         "name": "fp_902",
         "rawType": "int64",
         "type": "integer"
        },
        {
         "name": "fp_903",
         "rawType": "int64",
         "type": "integer"
        },
        {
         "name": "fp_904",
         "rawType": "int64",
         "type": "integer"
        },
        {
         "name": "fp_905",
         "rawType": "int64",
         "type": "integer"
        },
        {
         "name": "fp_906",
         "rawType": "int64",
         "type": "integer"
        },
        {
         "name": "fp_907",
         "rawType": "int64",
         "type": "integer"
        },
        {
         "name": "fp_908",
         "rawType": "int64",
         "type": "integer"
        },
        {
         "name": "fp_909",
         "rawType": "int64",
         "type": "integer"
        },
        {
         "name": "fp_910",
         "rawType": "int64",
         "type": "integer"
        },
        {
         "name": "fp_911",
         "rawType": "int64",
         "type": "integer"
        },
        {
         "name": "fp_912",
         "rawType": "int64",
         "type": "integer"
        },
        {
         "name": "fp_913",
         "rawType": "int64",
         "type": "integer"
        },
        {
         "name": "fp_914",
         "rawType": "int64",
         "type": "integer"
        },
        {
         "name": "fp_915",
         "rawType": "int64",
         "type": "integer"
        },
        {
         "name": "fp_916",
         "rawType": "int64",
         "type": "integer"
        },
        {
         "name": "fp_917",
         "rawType": "int64",
         "type": "integer"
        },
        {
         "name": "fp_918",
         "rawType": "int64",
         "type": "integer"
        },
        {
         "name": "fp_919",
         "rawType": "int64",
         "type": "integer"
        },
        {
         "name": "fp_920",
         "rawType": "int64",
         "type": "integer"
        },
        {
         "name": "fp_921",
         "rawType": "int64",
         "type": "integer"
        },
        {
         "name": "fp_922",
         "rawType": "int64",
         "type": "integer"
        },
        {
         "name": "fp_923",
         "rawType": "int64",
         "type": "integer"
        },
        {
         "name": "fp_924",
         "rawType": "int64",
         "type": "integer"
        },
        {
         "name": "fp_925",
         "rawType": "int64",
         "type": "integer"
        },
        {
         "name": "fp_926",
         "rawType": "int64",
         "type": "integer"
        },
        {
         "name": "fp_927",
         "rawType": "int64",
         "type": "integer"
        },
        {
         "name": "fp_928",
         "rawType": "int64",
         "type": "integer"
        },
        {
         "name": "fp_929",
         "rawType": "int64",
         "type": "integer"
        },
        {
         "name": "fp_930",
         "rawType": "int64",
         "type": "integer"
        },
        {
         "name": "fp_931",
         "rawType": "int64",
         "type": "integer"
        },
        {
         "name": "fp_932",
         "rawType": "int64",
         "type": "integer"
        },
        {
         "name": "fp_933",
         "rawType": "int64",
         "type": "integer"
        },
        {
         "name": "fp_934",
         "rawType": "int64",
         "type": "integer"
        },
        {
         "name": "fp_935",
         "rawType": "int64",
         "type": "integer"
        },
        {
         "name": "fp_936",
         "rawType": "int64",
         "type": "integer"
        },
        {
         "name": "fp_937",
         "rawType": "int64",
         "type": "integer"
        },
        {
         "name": "fp_938",
         "rawType": "int64",
         "type": "integer"
        },
        {
         "name": "fp_939",
         "rawType": "int64",
         "type": "integer"
        },
        {
         "name": "fp_940",
         "rawType": "int64",
         "type": "integer"
        },
        {
         "name": "fp_941",
         "rawType": "int64",
         "type": "integer"
        },
        {
         "name": "fp_942",
         "rawType": "int64",
         "type": "integer"
        },
        {
         "name": "fp_943",
         "rawType": "int64",
         "type": "integer"
        },
        {
         "name": "fp_944",
         "rawType": "int64",
         "type": "integer"
        },
        {
         "name": "fp_945",
         "rawType": "int64",
         "type": "integer"
        },
        {
         "name": "fp_946",
         "rawType": "int64",
         "type": "integer"
        },
        {
         "name": "fp_947",
         "rawType": "int64",
         "type": "integer"
        },
        {
         "name": "fp_948",
         "rawType": "int64",
         "type": "integer"
        },
        {
         "name": "fp_949",
         "rawType": "int64",
         "type": "integer"
        },
        {
         "name": "fp_950",
         "rawType": "int64",
         "type": "integer"
        },
        {
         "name": "fp_951",
         "rawType": "int64",
         "type": "integer"
        },
        {
         "name": "fp_952",
         "rawType": "int64",
         "type": "integer"
        },
        {
         "name": "fp_953",
         "rawType": "int64",
         "type": "integer"
        },
        {
         "name": "fp_954",
         "rawType": "int64",
         "type": "integer"
        },
        {
         "name": "fp_955",
         "rawType": "int64",
         "type": "integer"
        },
        {
         "name": "fp_956",
         "rawType": "int64",
         "type": "integer"
        },
        {
         "name": "fp_957",
         "rawType": "int64",
         "type": "integer"
        },
        {
         "name": "fp_958",
         "rawType": "int64",
         "type": "integer"
        },
        {
         "name": "fp_959",
         "rawType": "int64",
         "type": "integer"
        },
        {
         "name": "fp_960",
         "rawType": "int64",
         "type": "integer"
        },
        {
         "name": "fp_961",
         "rawType": "int64",
         "type": "integer"
        },
        {
         "name": "fp_962",
         "rawType": "int64",
         "type": "integer"
        },
        {
         "name": "fp_963",
         "rawType": "int64",
         "type": "integer"
        },
        {
         "name": "fp_964",
         "rawType": "int64",
         "type": "integer"
        },
        {
         "name": "fp_965",
         "rawType": "int64",
         "type": "integer"
        },
        {
         "name": "fp_966",
         "rawType": "int64",
         "type": "integer"
        },
        {
         "name": "fp_967",
         "rawType": "int64",
         "type": "integer"
        },
        {
         "name": "fp_968",
         "rawType": "int64",
         "type": "integer"
        },
        {
         "name": "fp_969",
         "rawType": "int64",
         "type": "integer"
        },
        {
         "name": "fp_970",
         "rawType": "int64",
         "type": "integer"
        },
        {
         "name": "fp_971",
         "rawType": "int64",
         "type": "integer"
        },
        {
         "name": "fp_972",
         "rawType": "int64",
         "type": "integer"
        },
        {
         "name": "fp_973",
         "rawType": "int64",
         "type": "integer"
        },
        {
         "name": "fp_974",
         "rawType": "int64",
         "type": "integer"
        },
        {
         "name": "fp_975",
         "rawType": "int64",
         "type": "integer"
        },
        {
         "name": "fp_976",
         "rawType": "int64",
         "type": "integer"
        },
        {
         "name": "fp_977",
         "rawType": "int64",
         "type": "integer"
        },
        {
         "name": "fp_978",
         "rawType": "int64",
         "type": "integer"
        },
        {
         "name": "fp_979",
         "rawType": "int64",
         "type": "integer"
        },
        {
         "name": "fp_980",
         "rawType": "int64",
         "type": "integer"
        },
        {
         "name": "fp_981",
         "rawType": "int64",
         "type": "integer"
        },
        {
         "name": "fp_982",
         "rawType": "int64",
         "type": "integer"
        },
        {
         "name": "fp_983",
         "rawType": "int64",
         "type": "integer"
        },
        {
         "name": "fp_984",
         "rawType": "int64",
         "type": "integer"
        },
        {
         "name": "fp_985",
         "rawType": "int64",
         "type": "integer"
        },
        {
         "name": "fp_986",
         "rawType": "int64",
         "type": "integer"
        },
        {
         "name": "fp_987",
         "rawType": "int64",
         "type": "integer"
        },
        {
         "name": "fp_988",
         "rawType": "int64",
         "type": "integer"
        },
        {
         "name": "fp_989",
         "rawType": "int64",
         "type": "integer"
        },
        {
         "name": "fp_990",
         "rawType": "int64",
         "type": "integer"
        },
        {
         "name": "fp_991",
         "rawType": "int64",
         "type": "integer"
        },
        {
         "name": "fp_992",
         "rawType": "int64",
         "type": "integer"
        },
        {
         "name": "fp_993",
         "rawType": "int64",
         "type": "integer"
        },
        {
         "name": "fp_994",
         "rawType": "int64",
         "type": "integer"
        },
        {
         "name": "fp_995",
         "rawType": "int64",
         "type": "integer"
        },
        {
         "name": "fp_996",
         "rawType": "int64",
         "type": "integer"
        },
        {
         "name": "fp_997",
         "rawType": "int64",
         "type": "integer"
        },
        {
         "name": "fp_998",
         "rawType": "int64",
         "type": "integer"
        },
        {
         "name": "fp_999",
         "rawType": "int64",
         "type": "integer"
        },
        {
         "name": "fp_1000",
         "rawType": "int64",
         "type": "integer"
        },
        {
         "name": "fp_1001",
         "rawType": "int64",
         "type": "integer"
        },
        {
         "name": "fp_1002",
         "rawType": "int64",
         "type": "integer"
        },
        {
         "name": "fp_1003",
         "rawType": "int64",
         "type": "integer"
        },
        {
         "name": "fp_1004",
         "rawType": "int64",
         "type": "integer"
        },
        {
         "name": "fp_1005",
         "rawType": "int64",
         "type": "integer"
        },
        {
         "name": "fp_1006",
         "rawType": "int64",
         "type": "integer"
        },
        {
         "name": "fp_1007",
         "rawType": "int64",
         "type": "integer"
        },
        {
         "name": "fp_1008",
         "rawType": "int64",
         "type": "integer"
        },
        {
         "name": "fp_1009",
         "rawType": "int64",
         "type": "integer"
        },
        {
         "name": "fp_1010",
         "rawType": "int64",
         "type": "integer"
        },
        {
         "name": "fp_1011",
         "rawType": "int64",
         "type": "integer"
        },
        {
         "name": "fp_1012",
         "rawType": "int64",
         "type": "integer"
        },
        {
         "name": "fp_1013",
         "rawType": "int64",
         "type": "integer"
        },
        {
         "name": "fp_1014",
         "rawType": "int64",
         "type": "integer"
        },
        {
         "name": "fp_1015",
         "rawType": "int64",
         "type": "integer"
        },
        {
         "name": "fp_1016",
         "rawType": "int64",
         "type": "integer"
        },
        {
         "name": "fp_1017",
         "rawType": "int64",
         "type": "integer"
        },
        {
         "name": "fp_1018",
         "rawType": "int64",
         "type": "integer"
        },
        {
         "name": "fp_1019",
         "rawType": "int64",
         "type": "integer"
        },
        {
         "name": "fp_1020",
         "rawType": "int64",
         "type": "integer"
        },
        {
         "name": "fp_1021",
         "rawType": "int64",
         "type": "integer"
        },
        {
         "name": "fp_1022",
         "rawType": "int64",
         "type": "integer"
        },
        {
         "name": "fp_1023",
         "rawType": "int64",
         "type": "integer"
        },
        {
         "name": "fp_1024",
         "rawType": "int64",
         "type": "integer"
        },
        {
         "name": "fp_1025",
         "rawType": "int64",
         "type": "integer"
        },
        {
         "name": "fp_1026",
         "rawType": "int64",
         "type": "integer"
        },
        {
         "name": "fp_1027",
         "rawType": "int64",
         "type": "integer"
        },
        {
         "name": "fp_1028",
         "rawType": "int64",
         "type": "integer"
        },
        {
         "name": "fp_1029",
         "rawType": "int64",
         "type": "integer"
        },
        {
         "name": "fp_1030",
         "rawType": "int64",
         "type": "integer"
        },
        {
         "name": "fp_1031",
         "rawType": "int64",
         "type": "integer"
        },
        {
         "name": "fp_1032",
         "rawType": "int64",
         "type": "integer"
        },
        {
         "name": "fp_1033",
         "rawType": "int64",
         "type": "integer"
        },
        {
         "name": "fp_1034",
         "rawType": "int64",
         "type": "integer"
        },
        {
         "name": "fp_1035",
         "rawType": "int64",
         "type": "integer"
        },
        {
         "name": "fp_1036",
         "rawType": "int64",
         "type": "integer"
        },
        {
         "name": "fp_1037",
         "rawType": "int64",
         "type": "integer"
        },
        {
         "name": "fp_1038",
         "rawType": "int64",
         "type": "integer"
        },
        {
         "name": "fp_1039",
         "rawType": "int64",
         "type": "integer"
        },
        {
         "name": "fp_1040",
         "rawType": "int64",
         "type": "integer"
        },
        {
         "name": "fp_1041",
         "rawType": "int64",
         "type": "integer"
        },
        {
         "name": "fp_1042",
         "rawType": "int64",
         "type": "integer"
        },
        {
         "name": "fp_1043",
         "rawType": "int64",
         "type": "integer"
        },
        {
         "name": "fp_1044",
         "rawType": "int64",
         "type": "integer"
        },
        {
         "name": "fp_1045",
         "rawType": "int64",
         "type": "integer"
        },
        {
         "name": "fp_1046",
         "rawType": "int64",
         "type": "integer"
        },
        {
         "name": "fp_1047",
         "rawType": "int64",
         "type": "integer"
        },
        {
         "name": "fp_1048",
         "rawType": "int64",
         "type": "integer"
        },
        {
         "name": "fp_1049",
         "rawType": "int64",
         "type": "integer"
        },
        {
         "name": "fp_1050",
         "rawType": "int64",
         "type": "integer"
        },
        {
         "name": "fp_1051",
         "rawType": "int64",
         "type": "integer"
        },
        {
         "name": "fp_1052",
         "rawType": "int64",
         "type": "integer"
        },
        {
         "name": "fp_1053",
         "rawType": "int64",
         "type": "integer"
        },
        {
         "name": "fp_1054",
         "rawType": "int64",
         "type": "integer"
        },
        {
         "name": "fp_1055",
         "rawType": "int64",
         "type": "integer"
        },
        {
         "name": "fp_1056",
         "rawType": "int64",
         "type": "integer"
        },
        {
         "name": "fp_1057",
         "rawType": "int64",
         "type": "integer"
        },
        {
         "name": "fp_1058",
         "rawType": "int64",
         "type": "integer"
        },
        {
         "name": "fp_1059",
         "rawType": "int64",
         "type": "integer"
        },
        {
         "name": "fp_1060",
         "rawType": "int64",
         "type": "integer"
        },
        {
         "name": "fp_1061",
         "rawType": "int64",
         "type": "integer"
        },
        {
         "name": "fp_1062",
         "rawType": "int64",
         "type": "integer"
        },
        {
         "name": "fp_1063",
         "rawType": "int64",
         "type": "integer"
        },
        {
         "name": "fp_1064",
         "rawType": "int64",
         "type": "integer"
        },
        {
         "name": "fp_1065",
         "rawType": "int64",
         "type": "integer"
        },
        {
         "name": "fp_1066",
         "rawType": "int64",
         "type": "integer"
        },
        {
         "name": "fp_1067",
         "rawType": "int64",
         "type": "integer"
        },
        {
         "name": "fp_1068",
         "rawType": "int64",
         "type": "integer"
        },
        {
         "name": "fp_1069",
         "rawType": "int64",
         "type": "integer"
        },
        {
         "name": "fp_1070",
         "rawType": "int64",
         "type": "integer"
        },
        {
         "name": "fp_1071",
         "rawType": "int64",
         "type": "integer"
        },
        {
         "name": "fp_1072",
         "rawType": "int64",
         "type": "integer"
        },
        {
         "name": "fp_1073",
         "rawType": "int64",
         "type": "integer"
        },
        {
         "name": "fp_1074",
         "rawType": "int64",
         "type": "integer"
        },
        {
         "name": "fp_1075",
         "rawType": "int64",
         "type": "integer"
        },
        {
         "name": "fp_1076",
         "rawType": "int64",
         "type": "integer"
        },
        {
         "name": "fp_1077",
         "rawType": "int64",
         "type": "integer"
        },
        {
         "name": "fp_1078",
         "rawType": "int64",
         "type": "integer"
        },
        {
         "name": "fp_1079",
         "rawType": "int64",
         "type": "integer"
        },
        {
         "name": "fp_1080",
         "rawType": "int64",
         "type": "integer"
        },
        {
         "name": "fp_1081",
         "rawType": "int64",
         "type": "integer"
        },
        {
         "name": "fp_1082",
         "rawType": "int64",
         "type": "integer"
        },
        {
         "name": "fp_1083",
         "rawType": "int64",
         "type": "integer"
        },
        {
         "name": "fp_1084",
         "rawType": "int64",
         "type": "integer"
        },
        {
         "name": "fp_1085",
         "rawType": "int64",
         "type": "integer"
        },
        {
         "name": "fp_1086",
         "rawType": "int64",
         "type": "integer"
        },
        {
         "name": "fp_1087",
         "rawType": "int64",
         "type": "integer"
        },
        {
         "name": "fp_1088",
         "rawType": "int64",
         "type": "integer"
        },
        {
         "name": "fp_1089",
         "rawType": "int64",
         "type": "integer"
        },
        {
         "name": "fp_1090",
         "rawType": "int64",
         "type": "integer"
        },
        {
         "name": "fp_1091",
         "rawType": "int64",
         "type": "integer"
        },
        {
         "name": "fp_1092",
         "rawType": "int64",
         "type": "integer"
        },
        {
         "name": "fp_1093",
         "rawType": "int64",
         "type": "integer"
        },
        {
         "name": "fp_1094",
         "rawType": "int64",
         "type": "integer"
        },
        {
         "name": "fp_1095",
         "rawType": "int64",
         "type": "integer"
        },
        {
         "name": "fp_1096",
         "rawType": "int64",
         "type": "integer"
        },
        {
         "name": "fp_1097",
         "rawType": "int64",
         "type": "integer"
        },
        {
         "name": "fp_1098",
         "rawType": "int64",
         "type": "integer"
        },
        {
         "name": "fp_1099",
         "rawType": "int64",
         "type": "integer"
        },
        {
         "name": "fp_1100",
         "rawType": "int64",
         "type": "integer"
        },
        {
         "name": "fp_1101",
         "rawType": "int64",
         "type": "integer"
        },
        {
         "name": "fp_1102",
         "rawType": "int64",
         "type": "integer"
        },
        {
         "name": "fp_1103",
         "rawType": "int64",
         "type": "integer"
        },
        {
         "name": "fp_1104",
         "rawType": "int64",
         "type": "integer"
        },
        {
         "name": "fp_1105",
         "rawType": "int64",
         "type": "integer"
        },
        {
         "name": "fp_1106",
         "rawType": "int64",
         "type": "integer"
        },
        {
         "name": "fp_1107",
         "rawType": "int64",
         "type": "integer"
        },
        {
         "name": "fp_1108",
         "rawType": "int64",
         "type": "integer"
        },
        {
         "name": "fp_1109",
         "rawType": "int64",
         "type": "integer"
        },
        {
         "name": "fp_1110",
         "rawType": "int64",
         "type": "integer"
        },
        {
         "name": "fp_1111",
         "rawType": "int64",
         "type": "integer"
        },
        {
         "name": "fp_1112",
         "rawType": "int64",
         "type": "integer"
        },
        {
         "name": "fp_1113",
         "rawType": "int64",
         "type": "integer"
        },
        {
         "name": "fp_1114",
         "rawType": "int64",
         "type": "integer"
        },
        {
         "name": "fp_1115",
         "rawType": "int64",
         "type": "integer"
        },
        {
         "name": "fp_1116",
         "rawType": "int64",
         "type": "integer"
        },
        {
         "name": "fp_1117",
         "rawType": "int64",
         "type": "integer"
        },
        {
         "name": "fp_1118",
         "rawType": "int64",
         "type": "integer"
        },
        {
         "name": "fp_1119",
         "rawType": "int64",
         "type": "integer"
        },
        {
         "name": "fp_1120",
         "rawType": "int64",
         "type": "integer"
        },
        {
         "name": "fp_1121",
         "rawType": "int64",
         "type": "integer"
        },
        {
         "name": "fp_1122",
         "rawType": "int64",
         "type": "integer"
        },
        {
         "name": "fp_1123",
         "rawType": "int64",
         "type": "integer"
        },
        {
         "name": "fp_1124",
         "rawType": "int64",
         "type": "integer"
        },
        {
         "name": "fp_1125",
         "rawType": "int64",
         "type": "integer"
        },
        {
         "name": "fp_1126",
         "rawType": "int64",
         "type": "integer"
        },
        {
         "name": "fp_1127",
         "rawType": "int64",
         "type": "integer"
        },
        {
         "name": "fp_1128",
         "rawType": "int64",
         "type": "integer"
        },
        {
         "name": "fp_1129",
         "rawType": "int64",
         "type": "integer"
        },
        {
         "name": "fp_1130",
         "rawType": "int64",
         "type": "integer"
        },
        {
         "name": "fp_1131",
         "rawType": "int64",
         "type": "integer"
        },
        {
         "name": "fp_1132",
         "rawType": "int64",
         "type": "integer"
        },
        {
         "name": "fp_1133",
         "rawType": "int64",
         "type": "integer"
        },
        {
         "name": "fp_1134",
         "rawType": "int64",
         "type": "integer"
        },
        {
         "name": "fp_1135",
         "rawType": "int64",
         "type": "integer"
        },
        {
         "name": "fp_1136",
         "rawType": "int64",
         "type": "integer"
        },
        {
         "name": "fp_1137",
         "rawType": "int64",
         "type": "integer"
        },
        {
         "name": "fp_1138",
         "rawType": "int64",
         "type": "integer"
        },
        {
         "name": "fp_1139",
         "rawType": "int64",
         "type": "integer"
        },
        {
         "name": "fp_1140",
         "rawType": "int64",
         "type": "integer"
        },
        {
         "name": "fp_1141",
         "rawType": "int64",
         "type": "integer"
        },
        {
         "name": "fp_1142",
         "rawType": "int64",
         "type": "integer"
        },
        {
         "name": "fp_1143",
         "rawType": "int64",
         "type": "integer"
        },
        {
         "name": "fp_1144",
         "rawType": "int64",
         "type": "integer"
        },
        {
         "name": "fp_1145",
         "rawType": "int64",
         "type": "integer"
        },
        {
         "name": "fp_1146",
         "rawType": "int64",
         "type": "integer"
        },
        {
         "name": "fp_1147",
         "rawType": "int64",
         "type": "integer"
        },
        {
         "name": "fp_1148",
         "rawType": "int64",
         "type": "integer"
        },
        {
         "name": "fp_1149",
         "rawType": "int64",
         "type": "integer"
        },
        {
         "name": "fp_1150",
         "rawType": "int64",
         "type": "integer"
        },
        {
         "name": "fp_1151",
         "rawType": "int64",
         "type": "integer"
        },
        {
         "name": "fp_1152",
         "rawType": "int64",
         "type": "integer"
        },
        {
         "name": "fp_1153",
         "rawType": "int64",
         "type": "integer"
        },
        {
         "name": "fp_1154",
         "rawType": "int64",
         "type": "integer"
        },
        {
         "name": "fp_1155",
         "rawType": "int64",
         "type": "integer"
        },
        {
         "name": "fp_1156",
         "rawType": "int64",
         "type": "integer"
        },
        {
         "name": "fp_1157",
         "rawType": "int64",
         "type": "integer"
        },
        {
         "name": "fp_1158",
         "rawType": "int64",
         "type": "integer"
        },
        {
         "name": "fp_1159",
         "rawType": "int64",
         "type": "integer"
        },
        {
         "name": "fp_1160",
         "rawType": "int64",
         "type": "integer"
        },
        {
         "name": "fp_1161",
         "rawType": "int64",
         "type": "integer"
        },
        {
         "name": "fp_1162",
         "rawType": "int64",
         "type": "integer"
        },
        {
         "name": "fp_1163",
         "rawType": "int64",
         "type": "integer"
        },
        {
         "name": "fp_1164",
         "rawType": "int64",
         "type": "integer"
        },
        {
         "name": "fp_1165",
         "rawType": "int64",
         "type": "integer"
        },
        {
         "name": "fp_1166",
         "rawType": "int64",
         "type": "integer"
        },
        {
         "name": "fp_1167",
         "rawType": "int64",
         "type": "integer"
        },
        {
         "name": "fp_1168",
         "rawType": "int64",
         "type": "integer"
        },
        {
         "name": "fp_1169",
         "rawType": "int64",
         "type": "integer"
        },
        {
         "name": "fp_1170",
         "rawType": "int64",
         "type": "integer"
        },
        {
         "name": "fp_1171",
         "rawType": "int64",
         "type": "integer"
        },
        {
         "name": "fp_1172",
         "rawType": "int64",
         "type": "integer"
        },
        {
         "name": "fp_1173",
         "rawType": "int64",
         "type": "integer"
        },
        {
         "name": "fp_1174",
         "rawType": "int64",
         "type": "integer"
        },
        {
         "name": "fp_1175",
         "rawType": "int64",
         "type": "integer"
        },
        {
         "name": "fp_1176",
         "rawType": "int64",
         "type": "integer"
        },
        {
         "name": "fp_1177",
         "rawType": "int64",
         "type": "integer"
        },
        {
         "name": "fp_1178",
         "rawType": "int64",
         "type": "integer"
        },
        {
         "name": "fp_1179",
         "rawType": "int64",
         "type": "integer"
        },
        {
         "name": "fp_1180",
         "rawType": "int64",
         "type": "integer"
        },
        {
         "name": "fp_1181",
         "rawType": "int64",
         "type": "integer"
        },
        {
         "name": "fp_1182",
         "rawType": "int64",
         "type": "integer"
        },
        {
         "name": "fp_1183",
         "rawType": "int64",
         "type": "integer"
        },
        {
         "name": "fp_1184",
         "rawType": "int64",
         "type": "integer"
        },
        {
         "name": "fp_1185",
         "rawType": "int64",
         "type": "integer"
        },
        {
         "name": "fp_1186",
         "rawType": "int64",
         "type": "integer"
        },
        {
         "name": "fp_1187",
         "rawType": "int64",
         "type": "integer"
        },
        {
         "name": "fp_1188",
         "rawType": "int64",
         "type": "integer"
        },
        {
         "name": "fp_1189",
         "rawType": "int64",
         "type": "integer"
        },
        {
         "name": "fp_1190",
         "rawType": "int64",
         "type": "integer"
        },
        {
         "name": "fp_1191",
         "rawType": "int64",
         "type": "integer"
        },
        {
         "name": "fp_1192",
         "rawType": "int64",
         "type": "integer"
        },
        {
         "name": "fp_1193",
         "rawType": "int64",
         "type": "integer"
        },
        {
         "name": "fp_1194",
         "rawType": "int64",
         "type": "integer"
        },
        {
         "name": "fp_1195",
         "rawType": "int64",
         "type": "integer"
        },
        {
         "name": "fp_1196",
         "rawType": "int64",
         "type": "integer"
        },
        {
         "name": "fp_1197",
         "rawType": "int64",
         "type": "integer"
        },
        {
         "name": "fp_1198",
         "rawType": "int64",
         "type": "integer"
        },
        {
         "name": "fp_1199",
         "rawType": "int64",
         "type": "integer"
        },
        {
         "name": "fp_1200",
         "rawType": "int64",
         "type": "integer"
        },
        {
         "name": "fp_1201",
         "rawType": "int64",
         "type": "integer"
        },
        {
         "name": "fp_1202",
         "rawType": "int64",
         "type": "integer"
        },
        {
         "name": "fp_1203",
         "rawType": "int64",
         "type": "integer"
        },
        {
         "name": "fp_1204",
         "rawType": "int64",
         "type": "integer"
        },
        {
         "name": "fp_1205",
         "rawType": "int64",
         "type": "integer"
        },
        {
         "name": "fp_1206",
         "rawType": "int64",
         "type": "integer"
        },
        {
         "name": "fp_1207",
         "rawType": "int64",
         "type": "integer"
        },
        {
         "name": "fp_1208",
         "rawType": "int64",
         "type": "integer"
        },
        {
         "name": "fp_1209",
         "rawType": "int64",
         "type": "integer"
        },
        {
         "name": "fp_1210",
         "rawType": "int64",
         "type": "integer"
        },
        {
         "name": "fp_1211",
         "rawType": "int64",
         "type": "integer"
        },
        {
         "name": "fp_1212",
         "rawType": "int64",
         "type": "integer"
        },
        {
         "name": "fp_1213",
         "rawType": "int64",
         "type": "integer"
        },
        {
         "name": "fp_1214",
         "rawType": "int64",
         "type": "integer"
        },
        {
         "name": "fp_1215",
         "rawType": "int64",
         "type": "integer"
        },
        {
         "name": "fp_1216",
         "rawType": "int64",
         "type": "integer"
        },
        {
         "name": "fp_1217",
         "rawType": "int64",
         "type": "integer"
        },
        {
         "name": "fp_1218",
         "rawType": "int64",
         "type": "integer"
        },
        {
         "name": "fp_1219",
         "rawType": "int64",
         "type": "integer"
        },
        {
         "name": "fp_1220",
         "rawType": "int64",
         "type": "integer"
        },
        {
         "name": "fp_1221",
         "rawType": "int64",
         "type": "integer"
        },
        {
         "name": "fp_1222",
         "rawType": "int64",
         "type": "integer"
        },
        {
         "name": "fp_1223",
         "rawType": "int64",
         "type": "integer"
        },
        {
         "name": "fp_1224",
         "rawType": "int64",
         "type": "integer"
        },
        {
         "name": "fp_1225",
         "rawType": "int64",
         "type": "integer"
        },
        {
         "name": "fp_1226",
         "rawType": "int64",
         "type": "integer"
        },
        {
         "name": "fp_1227",
         "rawType": "int64",
         "type": "integer"
        },
        {
         "name": "fp_1228",
         "rawType": "int64",
         "type": "integer"
        },
        {
         "name": "fp_1229",
         "rawType": "int64",
         "type": "integer"
        },
        {
         "name": "fp_1230",
         "rawType": "int64",
         "type": "integer"
        },
        {
         "name": "fp_1231",
         "rawType": "int64",
         "type": "integer"
        },
        {
         "name": "fp_1232",
         "rawType": "int64",
         "type": "integer"
        },
        {
         "name": "fp_1233",
         "rawType": "int64",
         "type": "integer"
        },
        {
         "name": "fp_1234",
         "rawType": "int64",
         "type": "integer"
        },
        {
         "name": "fp_1235",
         "rawType": "int64",
         "type": "integer"
        },
        {
         "name": "fp_1236",
         "rawType": "int64",
         "type": "integer"
        },
        {
         "name": "fp_1237",
         "rawType": "int64",
         "type": "integer"
        },
        {
         "name": "fp_1238",
         "rawType": "int64",
         "type": "integer"
        },
        {
         "name": "fp_1239",
         "rawType": "int64",
         "type": "integer"
        },
        {
         "name": "fp_1240",
         "rawType": "int64",
         "type": "integer"
        },
        {
         "name": "fp_1241",
         "rawType": "int64",
         "type": "integer"
        },
        {
         "name": "fp_1242",
         "rawType": "int64",
         "type": "integer"
        },
        {
         "name": "fp_1243",
         "rawType": "int64",
         "type": "integer"
        },
        {
         "name": "fp_1244",
         "rawType": "int64",
         "type": "integer"
        },
        {
         "name": "fp_1245",
         "rawType": "int64",
         "type": "integer"
        },
        {
         "name": "fp_1246",
         "rawType": "int64",
         "type": "integer"
        },
        {
         "name": "fp_1247",
         "rawType": "int64",
         "type": "integer"
        },
        {
         "name": "fp_1248",
         "rawType": "int64",
         "type": "integer"
        },
        {
         "name": "fp_1249",
         "rawType": "int64",
         "type": "integer"
        },
        {
         "name": "fp_1250",
         "rawType": "int64",
         "type": "integer"
        },
        {
         "name": "fp_1251",
         "rawType": "int64",
         "type": "integer"
        },
        {
         "name": "fp_1252",
         "rawType": "int64",
         "type": "integer"
        },
        {
         "name": "fp_1253",
         "rawType": "int64",
         "type": "integer"
        },
        {
         "name": "fp_1254",
         "rawType": "int64",
         "type": "integer"
        },
        {
         "name": "fp_1255",
         "rawType": "int64",
         "type": "integer"
        },
        {
         "name": "fp_1256",
         "rawType": "int64",
         "type": "integer"
        },
        {
         "name": "fp_1257",
         "rawType": "int64",
         "type": "integer"
        },
        {
         "name": "fp_1258",
         "rawType": "int64",
         "type": "integer"
        },
        {
         "name": "fp_1259",
         "rawType": "int64",
         "type": "integer"
        },
        {
         "name": "fp_1260",
         "rawType": "int64",
         "type": "integer"
        },
        {
         "name": "fp_1261",
         "rawType": "int64",
         "type": "integer"
        },
        {
         "name": "fp_1262",
         "rawType": "int64",
         "type": "integer"
        },
        {
         "name": "fp_1263",
         "rawType": "int64",
         "type": "integer"
        },
        {
         "name": "fp_1264",
         "rawType": "int64",
         "type": "integer"
        },
        {
         "name": "fp_1265",
         "rawType": "int64",
         "type": "integer"
        },
        {
         "name": "fp_1266",
         "rawType": "int64",
         "type": "integer"
        },
        {
         "name": "fp_1267",
         "rawType": "int64",
         "type": "integer"
        },
        {
         "name": "fp_1268",
         "rawType": "int64",
         "type": "integer"
        },
        {
         "name": "fp_1269",
         "rawType": "int64",
         "type": "integer"
        },
        {
         "name": "fp_1270",
         "rawType": "int64",
         "type": "integer"
        },
        {
         "name": "fp_1271",
         "rawType": "int64",
         "type": "integer"
        },
        {
         "name": "fp_1272",
         "rawType": "int64",
         "type": "integer"
        },
        {
         "name": "fp_1273",
         "rawType": "int64",
         "type": "integer"
        },
        {
         "name": "fp_1274",
         "rawType": "int64",
         "type": "integer"
        },
        {
         "name": "fp_1275",
         "rawType": "int64",
         "type": "integer"
        },
        {
         "name": "fp_1276",
         "rawType": "int64",
         "type": "integer"
        },
        {
         "name": "fp_1277",
         "rawType": "int64",
         "type": "integer"
        },
        {
         "name": "fp_1278",
         "rawType": "int64",
         "type": "integer"
        },
        {
         "name": "fp_1279",
         "rawType": "int64",
         "type": "integer"
        },
        {
         "name": "fp_1280",
         "rawType": "int64",
         "type": "integer"
        },
        {
         "name": "fp_1281",
         "rawType": "int64",
         "type": "integer"
        },
        {
         "name": "fp_1282",
         "rawType": "int64",
         "type": "integer"
        },
        {
         "name": "fp_1283",
         "rawType": "int64",
         "type": "integer"
        },
        {
         "name": "fp_1284",
         "rawType": "int64",
         "type": "integer"
        },
        {
         "name": "fp_1285",
         "rawType": "int64",
         "type": "integer"
        },
        {
         "name": "fp_1286",
         "rawType": "int64",
         "type": "integer"
        },
        {
         "name": "fp_1287",
         "rawType": "int64",
         "type": "integer"
        },
        {
         "name": "fp_1288",
         "rawType": "int64",
         "type": "integer"
        },
        {
         "name": "fp_1289",
         "rawType": "int64",
         "type": "integer"
        },
        {
         "name": "fp_1290",
         "rawType": "int64",
         "type": "integer"
        },
        {
         "name": "fp_1291",
         "rawType": "int64",
         "type": "integer"
        },
        {
         "name": "fp_1292",
         "rawType": "int64",
         "type": "integer"
        },
        {
         "name": "fp_1293",
         "rawType": "int64",
         "type": "integer"
        },
        {
         "name": "fp_1294",
         "rawType": "int64",
         "type": "integer"
        },
        {
         "name": "fp_1295",
         "rawType": "int64",
         "type": "integer"
        },
        {
         "name": "fp_1296",
         "rawType": "int64",
         "type": "integer"
        },
        {
         "name": "fp_1297",
         "rawType": "int64",
         "type": "integer"
        },
        {
         "name": "fp_1298",
         "rawType": "int64",
         "type": "integer"
        },
        {
         "name": "fp_1299",
         "rawType": "int64",
         "type": "integer"
        },
        {
         "name": "fp_1300",
         "rawType": "int64",
         "type": "integer"
        },
        {
         "name": "fp_1301",
         "rawType": "int64",
         "type": "integer"
        },
        {
         "name": "fp_1302",
         "rawType": "int64",
         "type": "integer"
        },
        {
         "name": "fp_1303",
         "rawType": "int64",
         "type": "integer"
        },
        {
         "name": "fp_1304",
         "rawType": "int64",
         "type": "integer"
        },
        {
         "name": "fp_1305",
         "rawType": "int64",
         "type": "integer"
        },
        {
         "name": "fp_1306",
         "rawType": "int64",
         "type": "integer"
        },
        {
         "name": "fp_1307",
         "rawType": "int64",
         "type": "integer"
        },
        {
         "name": "fp_1308",
         "rawType": "int64",
         "type": "integer"
        },
        {
         "name": "fp_1309",
         "rawType": "int64",
         "type": "integer"
        },
        {
         "name": "fp_1310",
         "rawType": "int64",
         "type": "integer"
        },
        {
         "name": "fp_1311",
         "rawType": "int64",
         "type": "integer"
        },
        {
         "name": "fp_1312",
         "rawType": "int64",
         "type": "integer"
        },
        {
         "name": "fp_1313",
         "rawType": "int64",
         "type": "integer"
        },
        {
         "name": "fp_1314",
         "rawType": "int64",
         "type": "integer"
        },
        {
         "name": "fp_1315",
         "rawType": "int64",
         "type": "integer"
        },
        {
         "name": "fp_1316",
         "rawType": "int64",
         "type": "integer"
        },
        {
         "name": "fp_1317",
         "rawType": "int64",
         "type": "integer"
        },
        {
         "name": "fp_1318",
         "rawType": "int64",
         "type": "integer"
        },
        {
         "name": "fp_1319",
         "rawType": "int64",
         "type": "integer"
        },
        {
         "name": "fp_1320",
         "rawType": "int64",
         "type": "integer"
        },
        {
         "name": "fp_1321",
         "rawType": "int64",
         "type": "integer"
        },
        {
         "name": "fp_1322",
         "rawType": "int64",
         "type": "integer"
        },
        {
         "name": "fp_1323",
         "rawType": "int64",
         "type": "integer"
        },
        {
         "name": "fp_1324",
         "rawType": "int64",
         "type": "integer"
        },
        {
         "name": "fp_1325",
         "rawType": "int64",
         "type": "integer"
        },
        {
         "name": "fp_1326",
         "rawType": "int64",
         "type": "integer"
        },
        {
         "name": "fp_1327",
         "rawType": "int64",
         "type": "integer"
        },
        {
         "name": "fp_1328",
         "rawType": "int64",
         "type": "integer"
        },
        {
         "name": "fp_1329",
         "rawType": "int64",
         "type": "integer"
        },
        {
         "name": "fp_1330",
         "rawType": "int64",
         "type": "integer"
        },
        {
         "name": "fp_1331",
         "rawType": "int64",
         "type": "integer"
        },
        {
         "name": "fp_1332",
         "rawType": "int64",
         "type": "integer"
        },
        {
         "name": "fp_1333",
         "rawType": "int64",
         "type": "integer"
        },
        {
         "name": "fp_1334",
         "rawType": "int64",
         "type": "integer"
        },
        {
         "name": "fp_1335",
         "rawType": "int64",
         "type": "integer"
        },
        {
         "name": "fp_1336",
         "rawType": "int64",
         "type": "integer"
        },
        {
         "name": "fp_1337",
         "rawType": "int64",
         "type": "integer"
        },
        {
         "name": "fp_1338",
         "rawType": "int64",
         "type": "integer"
        },
        {
         "name": "fp_1339",
         "rawType": "int64",
         "type": "integer"
        },
        {
         "name": "fp_1340",
         "rawType": "int64",
         "type": "integer"
        },
        {
         "name": "fp_1341",
         "rawType": "int64",
         "type": "integer"
        },
        {
         "name": "fp_1342",
         "rawType": "int64",
         "type": "integer"
        },
        {
         "name": "fp_1343",
         "rawType": "int64",
         "type": "integer"
        },
        {
         "name": "fp_1344",
         "rawType": "int64",
         "type": "integer"
        },
        {
         "name": "fp_1345",
         "rawType": "int64",
         "type": "integer"
        },
        {
         "name": "fp_1346",
         "rawType": "int64",
         "type": "integer"
        },
        {
         "name": "fp_1347",
         "rawType": "int64",
         "type": "integer"
        },
        {
         "name": "fp_1348",
         "rawType": "int64",
         "type": "integer"
        },
        {
         "name": "fp_1349",
         "rawType": "int64",
         "type": "integer"
        },
        {
         "name": "fp_1350",
         "rawType": "int64",
         "type": "integer"
        },
        {
         "name": "fp_1351",
         "rawType": "int64",
         "type": "integer"
        },
        {
         "name": "fp_1352",
         "rawType": "int64",
         "type": "integer"
        },
        {
         "name": "fp_1353",
         "rawType": "int64",
         "type": "integer"
        },
        {
         "name": "fp_1354",
         "rawType": "int64",
         "type": "integer"
        },
        {
         "name": "fp_1355",
         "rawType": "int64",
         "type": "integer"
        },
        {
         "name": "fp_1356",
         "rawType": "int64",
         "type": "integer"
        },
        {
         "name": "fp_1357",
         "rawType": "int64",
         "type": "integer"
        },
        {
         "name": "fp_1358",
         "rawType": "int64",
         "type": "integer"
        },
        {
         "name": "fp_1359",
         "rawType": "int64",
         "type": "integer"
        },
        {
         "name": "fp_1360",
         "rawType": "int64",
         "type": "integer"
        },
        {
         "name": "fp_1361",
         "rawType": "int64",
         "type": "integer"
        },
        {
         "name": "fp_1362",
         "rawType": "int64",
         "type": "integer"
        },
        {
         "name": "fp_1363",
         "rawType": "int64",
         "type": "integer"
        },
        {
         "name": "fp_1364",
         "rawType": "int64",
         "type": "integer"
        },
        {
         "name": "fp_1365",
         "rawType": "int64",
         "type": "integer"
        },
        {
         "name": "fp_1366",
         "rawType": "int64",
         "type": "integer"
        },
        {
         "name": "fp_1367",
         "rawType": "int64",
         "type": "integer"
        },
        {
         "name": "fp_1368",
         "rawType": "int64",
         "type": "integer"
        },
        {
         "name": "fp_1369",
         "rawType": "int64",
         "type": "integer"
        },
        {
         "name": "fp_1370",
         "rawType": "int64",
         "type": "integer"
        },
        {
         "name": "fp_1371",
         "rawType": "int64",
         "type": "integer"
        },
        {
         "name": "fp_1372",
         "rawType": "int64",
         "type": "integer"
        },
        {
         "name": "fp_1373",
         "rawType": "int64",
         "type": "integer"
        },
        {
         "name": "fp_1374",
         "rawType": "int64",
         "type": "integer"
        },
        {
         "name": "fp_1375",
         "rawType": "int64",
         "type": "integer"
        },
        {
         "name": "fp_1376",
         "rawType": "int64",
         "type": "integer"
        },
        {
         "name": "fp_1377",
         "rawType": "int64",
         "type": "integer"
        },
        {
         "name": "fp_1378",
         "rawType": "int64",
         "type": "integer"
        },
        {
         "name": "fp_1379",
         "rawType": "int64",
         "type": "integer"
        },
        {
         "name": "fp_1380",
         "rawType": "int64",
         "type": "integer"
        },
        {
         "name": "fp_1381",
         "rawType": "int64",
         "type": "integer"
        },
        {
         "name": "fp_1382",
         "rawType": "int64",
         "type": "integer"
        },
        {
         "name": "fp_1383",
         "rawType": "int64",
         "type": "integer"
        },
        {
         "name": "fp_1384",
         "rawType": "int64",
         "type": "integer"
        },
        {
         "name": "fp_1385",
         "rawType": "int64",
         "type": "integer"
        },
        {
         "name": "fp_1386",
         "rawType": "int64",
         "type": "integer"
        },
        {
         "name": "fp_1387",
         "rawType": "int64",
         "type": "integer"
        },
        {
         "name": "fp_1388",
         "rawType": "int64",
         "type": "integer"
        },
        {
         "name": "fp_1389",
         "rawType": "int64",
         "type": "integer"
        },
        {
         "name": "fp_1390",
         "rawType": "int64",
         "type": "integer"
        },
        {
         "name": "fp_1391",
         "rawType": "int64",
         "type": "integer"
        },
        {
         "name": "fp_1392",
         "rawType": "int64",
         "type": "integer"
        },
        {
         "name": "fp_1393",
         "rawType": "int64",
         "type": "integer"
        },
        {
         "name": "fp_1394",
         "rawType": "int64",
         "type": "integer"
        },
        {
         "name": "fp_1395",
         "rawType": "int64",
         "type": "integer"
        },
        {
         "name": "fp_1396",
         "rawType": "int64",
         "type": "integer"
        },
        {
         "name": "fp_1397",
         "rawType": "int64",
         "type": "integer"
        },
        {
         "name": "fp_1398",
         "rawType": "int64",
         "type": "integer"
        },
        {
         "name": "fp_1399",
         "rawType": "int64",
         "type": "integer"
        },
        {
         "name": "fp_1400",
         "rawType": "int64",
         "type": "integer"
        },
        {
         "name": "fp_1401",
         "rawType": "int64",
         "type": "integer"
        },
        {
         "name": "fp_1402",
         "rawType": "int64",
         "type": "integer"
        },
        {
         "name": "fp_1403",
         "rawType": "int64",
         "type": "integer"
        },
        {
         "name": "fp_1404",
         "rawType": "int64",
         "type": "integer"
        },
        {
         "name": "fp_1405",
         "rawType": "int64",
         "type": "integer"
        },
        {
         "name": "fp_1406",
         "rawType": "int64",
         "type": "integer"
        },
        {
         "name": "fp_1407",
         "rawType": "int64",
         "type": "integer"
        },
        {
         "name": "fp_1408",
         "rawType": "int64",
         "type": "integer"
        },
        {
         "name": "fp_1409",
         "rawType": "int64",
         "type": "integer"
        },
        {
         "name": "fp_1410",
         "rawType": "int64",
         "type": "integer"
        },
        {
         "name": "fp_1411",
         "rawType": "int64",
         "type": "integer"
        },
        {
         "name": "fp_1412",
         "rawType": "int64",
         "type": "integer"
        },
        {
         "name": "fp_1413",
         "rawType": "int64",
         "type": "integer"
        },
        {
         "name": "fp_1414",
         "rawType": "int64",
         "type": "integer"
        },
        {
         "name": "fp_1415",
         "rawType": "int64",
         "type": "integer"
        },
        {
         "name": "fp_1416",
         "rawType": "int64",
         "type": "integer"
        },
        {
         "name": "fp_1417",
         "rawType": "int64",
         "type": "integer"
        },
        {
         "name": "fp_1418",
         "rawType": "int64",
         "type": "integer"
        },
        {
         "name": "fp_1419",
         "rawType": "int64",
         "type": "integer"
        },
        {
         "name": "fp_1420",
         "rawType": "int64",
         "type": "integer"
        },
        {
         "name": "fp_1421",
         "rawType": "int64",
         "type": "integer"
        },
        {
         "name": "fp_1422",
         "rawType": "int64",
         "type": "integer"
        },
        {
         "name": "fp_1423",
         "rawType": "int64",
         "type": "integer"
        },
        {
         "name": "fp_1424",
         "rawType": "int64",
         "type": "integer"
        },
        {
         "name": "fp_1425",
         "rawType": "int64",
         "type": "integer"
        },
        {
         "name": "fp_1426",
         "rawType": "int64",
         "type": "integer"
        },
        {
         "name": "fp_1427",
         "rawType": "int64",
         "type": "integer"
        },
        {
         "name": "fp_1428",
         "rawType": "int64",
         "type": "integer"
        },
        {
         "name": "fp_1429",
         "rawType": "int64",
         "type": "integer"
        },
        {
         "name": "fp_1430",
         "rawType": "int64",
         "type": "integer"
        },
        {
         "name": "fp_1431",
         "rawType": "int64",
         "type": "integer"
        },
        {
         "name": "fp_1432",
         "rawType": "int64",
         "type": "integer"
        },
        {
         "name": "fp_1433",
         "rawType": "int64",
         "type": "integer"
        },
        {
         "name": "fp_1434",
         "rawType": "int64",
         "type": "integer"
        },
        {
         "name": "fp_1435",
         "rawType": "int64",
         "type": "integer"
        },
        {
         "name": "fp_1436",
         "rawType": "int64",
         "type": "integer"
        },
        {
         "name": "fp_1437",
         "rawType": "int64",
         "type": "integer"
        },
        {
         "name": "fp_1438",
         "rawType": "int64",
         "type": "integer"
        },
        {
         "name": "fp_1439",
         "rawType": "int64",
         "type": "integer"
        },
        {
         "name": "fp_1440",
         "rawType": "int64",
         "type": "integer"
        },
        {
         "name": "fp_1441",
         "rawType": "int64",
         "type": "integer"
        },
        {
         "name": "fp_1442",
         "rawType": "int64",
         "type": "integer"
        },
        {
         "name": "fp_1443",
         "rawType": "int64",
         "type": "integer"
        },
        {
         "name": "fp_1444",
         "rawType": "int64",
         "type": "integer"
        },
        {
         "name": "fp_1445",
         "rawType": "int64",
         "type": "integer"
        },
        {
         "name": "fp_1446",
         "rawType": "int64",
         "type": "integer"
        },
        {
         "name": "fp_1447",
         "rawType": "int64",
         "type": "integer"
        },
        {
         "name": "fp_1448",
         "rawType": "int64",
         "type": "integer"
        },
        {
         "name": "fp_1449",
         "rawType": "int64",
         "type": "integer"
        },
        {
         "name": "fp_1450",
         "rawType": "int64",
         "type": "integer"
        },
        {
         "name": "fp_1451",
         "rawType": "int64",
         "type": "integer"
        },
        {
         "name": "fp_1452",
         "rawType": "int64",
         "type": "integer"
        },
        {
         "name": "fp_1453",
         "rawType": "int64",
         "type": "integer"
        },
        {
         "name": "fp_1454",
         "rawType": "int64",
         "type": "integer"
        },
        {
         "name": "fp_1455",
         "rawType": "int64",
         "type": "integer"
        },
        {
         "name": "fp_1456",
         "rawType": "int64",
         "type": "integer"
        },
        {
         "name": "fp_1457",
         "rawType": "int64",
         "type": "integer"
        },
        {
         "name": "fp_1458",
         "rawType": "int64",
         "type": "integer"
        },
        {
         "name": "fp_1459",
         "rawType": "int64",
         "type": "integer"
        },
        {
         "name": "fp_1460",
         "rawType": "int64",
         "type": "integer"
        },
        {
         "name": "fp_1461",
         "rawType": "int64",
         "type": "integer"
        },
        {
         "name": "fp_1462",
         "rawType": "int64",
         "type": "integer"
        },
        {
         "name": "fp_1463",
         "rawType": "int64",
         "type": "integer"
        },
        {
         "name": "fp_1464",
         "rawType": "int64",
         "type": "integer"
        },
        {
         "name": "fp_1465",
         "rawType": "int64",
         "type": "integer"
        },
        {
         "name": "fp_1466",
         "rawType": "int64",
         "type": "integer"
        },
        {
         "name": "fp_1467",
         "rawType": "int64",
         "type": "integer"
        },
        {
         "name": "fp_1468",
         "rawType": "int64",
         "type": "integer"
        },
        {
         "name": "fp_1469",
         "rawType": "int64",
         "type": "integer"
        },
        {
         "name": "fp_1470",
         "rawType": "int64",
         "type": "integer"
        },
        {
         "name": "fp_1471",
         "rawType": "int64",
         "type": "integer"
        },
        {
         "name": "fp_1472",
         "rawType": "int64",
         "type": "integer"
        },
        {
         "name": "fp_1473",
         "rawType": "int64",
         "type": "integer"
        },
        {
         "name": "fp_1474",
         "rawType": "int64",
         "type": "integer"
        },
        {
         "name": "fp_1475",
         "rawType": "int64",
         "type": "integer"
        },
        {
         "name": "fp_1476",
         "rawType": "int64",
         "type": "integer"
        },
        {
         "name": "fp_1477",
         "rawType": "int64",
         "type": "integer"
        },
        {
         "name": "fp_1478",
         "rawType": "int64",
         "type": "integer"
        },
        {
         "name": "fp_1479",
         "rawType": "int64",
         "type": "integer"
        },
        {
         "name": "fp_1480",
         "rawType": "int64",
         "type": "integer"
        },
        {
         "name": "fp_1481",
         "rawType": "int64",
         "type": "integer"
        },
        {
         "name": "fp_1482",
         "rawType": "int64",
         "type": "integer"
        },
        {
         "name": "fp_1483",
         "rawType": "int64",
         "type": "integer"
        },
        {
         "name": "fp_1484",
         "rawType": "int64",
         "type": "integer"
        },
        {
         "name": "fp_1485",
         "rawType": "int64",
         "type": "integer"
        },
        {
         "name": "fp_1486",
         "rawType": "int64",
         "type": "integer"
        },
        {
         "name": "fp_1487",
         "rawType": "int64",
         "type": "integer"
        },
        {
         "name": "fp_1488",
         "rawType": "int64",
         "type": "integer"
        },
        {
         "name": "fp_1489",
         "rawType": "int64",
         "type": "integer"
        },
        {
         "name": "fp_1490",
         "rawType": "int64",
         "type": "integer"
        },
        {
         "name": "fp_1491",
         "rawType": "int64",
         "type": "integer"
        },
        {
         "name": "fp_1492",
         "rawType": "int64",
         "type": "integer"
        },
        {
         "name": "fp_1493",
         "rawType": "int64",
         "type": "integer"
        },
        {
         "name": "fp_1494",
         "rawType": "int64",
         "type": "integer"
        },
        {
         "name": "fp_1495",
         "rawType": "int64",
         "type": "integer"
        },
        {
         "name": "fp_1496",
         "rawType": "int64",
         "type": "integer"
        },
        {
         "name": "fp_1497",
         "rawType": "int64",
         "type": "integer"
        },
        {
         "name": "fp_1498",
         "rawType": "int64",
         "type": "integer"
        },
        {
         "name": "fp_1499",
         "rawType": "int64",
         "type": "integer"
        },
        {
         "name": "fp_1500",
         "rawType": "int64",
         "type": "integer"
        },
        {
         "name": "fp_1501",
         "rawType": "int64",
         "type": "integer"
        },
        {
         "name": "fp_1502",
         "rawType": "int64",
         "type": "integer"
        },
        {
         "name": "fp_1503",
         "rawType": "int64",
         "type": "integer"
        },
        {
         "name": "fp_1504",
         "rawType": "int64",
         "type": "integer"
        },
        {
         "name": "fp_1505",
         "rawType": "int64",
         "type": "integer"
        },
        {
         "name": "fp_1506",
         "rawType": "int64",
         "type": "integer"
        },
        {
         "name": "fp_1507",
         "rawType": "int64",
         "type": "integer"
        },
        {
         "name": "fp_1508",
         "rawType": "int64",
         "type": "integer"
        },
        {
         "name": "fp_1509",
         "rawType": "int64",
         "type": "integer"
        },
        {
         "name": "fp_1510",
         "rawType": "int64",
         "type": "integer"
        },
        {
         "name": "fp_1511",
         "rawType": "int64",
         "type": "integer"
        },
        {
         "name": "fp_1512",
         "rawType": "int64",
         "type": "integer"
        },
        {
         "name": "fp_1513",
         "rawType": "int64",
         "type": "integer"
        },
        {
         "name": "fp_1514",
         "rawType": "int64",
         "type": "integer"
        },
        {
         "name": "fp_1515",
         "rawType": "int64",
         "type": "integer"
        },
        {
         "name": "fp_1516",
         "rawType": "int64",
         "type": "integer"
        },
        {
         "name": "fp_1517",
         "rawType": "int64",
         "type": "integer"
        },
        {
         "name": "fp_1518",
         "rawType": "int64",
         "type": "integer"
        },
        {
         "name": "fp_1519",
         "rawType": "int64",
         "type": "integer"
        },
        {
         "name": "fp_1520",
         "rawType": "int64",
         "type": "integer"
        },
        {
         "name": "fp_1521",
         "rawType": "int64",
         "type": "integer"
        },
        {
         "name": "fp_1522",
         "rawType": "int64",
         "type": "integer"
        },
        {
         "name": "fp_1523",
         "rawType": "int64",
         "type": "integer"
        },
        {
         "name": "fp_1524",
         "rawType": "int64",
         "type": "integer"
        },
        {
         "name": "fp_1525",
         "rawType": "int64",
         "type": "integer"
        },
        {
         "name": "fp_1526",
         "rawType": "int64",
         "type": "integer"
        },
        {
         "name": "fp_1527",
         "rawType": "int64",
         "type": "integer"
        },
        {
         "name": "fp_1528",
         "rawType": "int64",
         "type": "integer"
        },
        {
         "name": "fp_1529",
         "rawType": "int64",
         "type": "integer"
        },
        {
         "name": "fp_1530",
         "rawType": "int64",
         "type": "integer"
        },
        {
         "name": "fp_1531",
         "rawType": "int64",
         "type": "integer"
        },
        {
         "name": "fp_1532",
         "rawType": "int64",
         "type": "integer"
        },
        {
         "name": "fp_1533",
         "rawType": "int64",
         "type": "integer"
        },
        {
         "name": "fp_1534",
         "rawType": "int64",
         "type": "integer"
        },
        {
         "name": "fp_1535",
         "rawType": "int64",
         "type": "integer"
        },
        {
         "name": "fp_1536",
         "rawType": "int64",
         "type": "integer"
        },
        {
         "name": "fp_1537",
         "rawType": "int64",
         "type": "integer"
        },
        {
         "name": "fp_1538",
         "rawType": "int64",
         "type": "integer"
        },
        {
         "name": "fp_1539",
         "rawType": "int64",
         "type": "integer"
        },
        {
         "name": "fp_1540",
         "rawType": "int64",
         "type": "integer"
        },
        {
         "name": "fp_1541",
         "rawType": "int64",
         "type": "integer"
        },
        {
         "name": "fp_1542",
         "rawType": "int64",
         "type": "integer"
        },
        {
         "name": "fp_1543",
         "rawType": "int64",
         "type": "integer"
        },
        {
         "name": "fp_1544",
         "rawType": "int64",
         "type": "integer"
        },
        {
         "name": "fp_1545",
         "rawType": "int64",
         "type": "integer"
        },
        {
         "name": "fp_1546",
         "rawType": "int64",
         "type": "integer"
        },
        {
         "name": "fp_1547",
         "rawType": "int64",
         "type": "integer"
        },
        {
         "name": "fp_1548",
         "rawType": "int64",
         "type": "integer"
        },
        {
         "name": "fp_1549",
         "rawType": "int64",
         "type": "integer"
        },
        {
         "name": "fp_1550",
         "rawType": "int64",
         "type": "integer"
        },
        {
         "name": "fp_1551",
         "rawType": "int64",
         "type": "integer"
        },
        {
         "name": "fp_1552",
         "rawType": "int64",
         "type": "integer"
        },
        {
         "name": "fp_1553",
         "rawType": "int64",
         "type": "integer"
        },
        {
         "name": "fp_1554",
         "rawType": "int64",
         "type": "integer"
        },
        {
         "name": "fp_1555",
         "rawType": "int64",
         "type": "integer"
        },
        {
         "name": "fp_1556",
         "rawType": "int64",
         "type": "integer"
        },
        {
         "name": "fp_1557",
         "rawType": "int64",
         "type": "integer"
        },
        {
         "name": "fp_1558",
         "rawType": "int64",
         "type": "integer"
        },
        {
         "name": "fp_1559",
         "rawType": "int64",
         "type": "integer"
        },
        {
         "name": "fp_1560",
         "rawType": "int64",
         "type": "integer"
        },
        {
         "name": "fp_1561",
         "rawType": "int64",
         "type": "integer"
        },
        {
         "name": "fp_1562",
         "rawType": "int64",
         "type": "integer"
        },
        {
         "name": "fp_1563",
         "rawType": "int64",
         "type": "integer"
        },
        {
         "name": "fp_1564",
         "rawType": "int64",
         "type": "integer"
        },
        {
         "name": "fp_1565",
         "rawType": "int64",
         "type": "integer"
        },
        {
         "name": "fp_1566",
         "rawType": "int64",
         "type": "integer"
        },
        {
         "name": "fp_1567",
         "rawType": "int64",
         "type": "integer"
        },
        {
         "name": "fp_1568",
         "rawType": "int64",
         "type": "integer"
        },
        {
         "name": "fp_1569",
         "rawType": "int64",
         "type": "integer"
        },
        {
         "name": "fp_1570",
         "rawType": "int64",
         "type": "integer"
        },
        {
         "name": "fp_1571",
         "rawType": "int64",
         "type": "integer"
        },
        {
         "name": "fp_1572",
         "rawType": "int64",
         "type": "integer"
        },
        {
         "name": "fp_1573",
         "rawType": "int64",
         "type": "integer"
        },
        {
         "name": "fp_1574",
         "rawType": "int64",
         "type": "integer"
        },
        {
         "name": "fp_1575",
         "rawType": "int64",
         "type": "integer"
        },
        {
         "name": "fp_1576",
         "rawType": "int64",
         "type": "integer"
        },
        {
         "name": "fp_1577",
         "rawType": "int64",
         "type": "integer"
        },
        {
         "name": "fp_1578",
         "rawType": "int64",
         "type": "integer"
        },
        {
         "name": "fp_1579",
         "rawType": "int64",
         "type": "integer"
        },
        {
         "name": "fp_1580",
         "rawType": "int64",
         "type": "integer"
        },
        {
         "name": "fp_1581",
         "rawType": "int64",
         "type": "integer"
        },
        {
         "name": "fp_1582",
         "rawType": "int64",
         "type": "integer"
        },
        {
         "name": "fp_1583",
         "rawType": "int64",
         "type": "integer"
        },
        {
         "name": "fp_1584",
         "rawType": "int64",
         "type": "integer"
        },
        {
         "name": "fp_1585",
         "rawType": "int64",
         "type": "integer"
        },
        {
         "name": "fp_1586",
         "rawType": "int64",
         "type": "integer"
        },
        {
         "name": "fp_1587",
         "rawType": "int64",
         "type": "integer"
        },
        {
         "name": "fp_1588",
         "rawType": "int64",
         "type": "integer"
        },
        {
         "name": "fp_1589",
         "rawType": "int64",
         "type": "integer"
        },
        {
         "name": "fp_1590",
         "rawType": "int64",
         "type": "integer"
        },
        {
         "name": "fp_1591",
         "rawType": "int64",
         "type": "integer"
        },
        {
         "name": "fp_1592",
         "rawType": "int64",
         "type": "integer"
        },
        {
         "name": "fp_1593",
         "rawType": "int64",
         "type": "integer"
        },
        {
         "name": "fp_1594",
         "rawType": "int64",
         "type": "integer"
        },
        {
         "name": "fp_1595",
         "rawType": "int64",
         "type": "integer"
        },
        {
         "name": "fp_1596",
         "rawType": "int64",
         "type": "integer"
        },
        {
         "name": "fp_1597",
         "rawType": "int64",
         "type": "integer"
        },
        {
         "name": "fp_1598",
         "rawType": "int64",
         "type": "integer"
        },
        {
         "name": "fp_1599",
         "rawType": "int64",
         "type": "integer"
        },
        {
         "name": "fp_1600",
         "rawType": "int64",
         "type": "integer"
        },
        {
         "name": "fp_1601",
         "rawType": "int64",
         "type": "integer"
        },
        {
         "name": "fp_1602",
         "rawType": "int64",
         "type": "integer"
        },
        {
         "name": "fp_1603",
         "rawType": "int64",
         "type": "integer"
        },
        {
         "name": "fp_1604",
         "rawType": "int64",
         "type": "integer"
        },
        {
         "name": "fp_1605",
         "rawType": "int64",
         "type": "integer"
        },
        {
         "name": "fp_1606",
         "rawType": "int64",
         "type": "integer"
        },
        {
         "name": "fp_1607",
         "rawType": "int64",
         "type": "integer"
        },
        {
         "name": "fp_1608",
         "rawType": "int64",
         "type": "integer"
        },
        {
         "name": "fp_1609",
         "rawType": "int64",
         "type": "integer"
        },
        {
         "name": "fp_1610",
         "rawType": "int64",
         "type": "integer"
        },
        {
         "name": "fp_1611",
         "rawType": "int64",
         "type": "integer"
        },
        {
         "name": "fp_1612",
         "rawType": "int64",
         "type": "integer"
        },
        {
         "name": "fp_1613",
         "rawType": "int64",
         "type": "integer"
        },
        {
         "name": "fp_1614",
         "rawType": "int64",
         "type": "integer"
        },
        {
         "name": "fp_1615",
         "rawType": "int64",
         "type": "integer"
        },
        {
         "name": "fp_1616",
         "rawType": "int64",
         "type": "integer"
        },
        {
         "name": "fp_1617",
         "rawType": "int64",
         "type": "integer"
        },
        {
         "name": "fp_1618",
         "rawType": "int64",
         "type": "integer"
        },
        {
         "name": "fp_1619",
         "rawType": "int64",
         "type": "integer"
        },
        {
         "name": "fp_1620",
         "rawType": "int64",
         "type": "integer"
        },
        {
         "name": "fp_1621",
         "rawType": "int64",
         "type": "integer"
        },
        {
         "name": "fp_1622",
         "rawType": "int64",
         "type": "integer"
        },
        {
         "name": "fp_1623",
         "rawType": "int64",
         "type": "integer"
        },
        {
         "name": "fp_1624",
         "rawType": "int64",
         "type": "integer"
        },
        {
         "name": "fp_1625",
         "rawType": "int64",
         "type": "integer"
        },
        {
         "name": "fp_1626",
         "rawType": "int64",
         "type": "integer"
        },
        {
         "name": "fp_1627",
         "rawType": "int64",
         "type": "integer"
        },
        {
         "name": "fp_1628",
         "rawType": "int64",
         "type": "integer"
        },
        {
         "name": "fp_1629",
         "rawType": "int64",
         "type": "integer"
        },
        {
         "name": "fp_1630",
         "rawType": "int64",
         "type": "integer"
        },
        {
         "name": "fp_1631",
         "rawType": "int64",
         "type": "integer"
        },
        {
         "name": "fp_1632",
         "rawType": "int64",
         "type": "integer"
        },
        {
         "name": "fp_1633",
         "rawType": "int64",
         "type": "integer"
        },
        {
         "name": "fp_1634",
         "rawType": "int64",
         "type": "integer"
        },
        {
         "name": "fp_1635",
         "rawType": "int64",
         "type": "integer"
        },
        {
         "name": "fp_1636",
         "rawType": "int64",
         "type": "integer"
        },
        {
         "name": "fp_1637",
         "rawType": "int64",
         "type": "integer"
        },
        {
         "name": "fp_1638",
         "rawType": "int64",
         "type": "integer"
        },
        {
         "name": "fp_1639",
         "rawType": "int64",
         "type": "integer"
        },
        {
         "name": "fp_1640",
         "rawType": "int64",
         "type": "integer"
        },
        {
         "name": "fp_1641",
         "rawType": "int64",
         "type": "integer"
        },
        {
         "name": "fp_1642",
         "rawType": "int64",
         "type": "integer"
        },
        {
         "name": "fp_1643",
         "rawType": "int64",
         "type": "integer"
        },
        {
         "name": "fp_1644",
         "rawType": "int64",
         "type": "integer"
        },
        {
         "name": "fp_1645",
         "rawType": "int64",
         "type": "integer"
        },
        {
         "name": "fp_1646",
         "rawType": "int64",
         "type": "integer"
        },
        {
         "name": "fp_1647",
         "rawType": "int64",
         "type": "integer"
        },
        {
         "name": "fp_1648",
         "rawType": "int64",
         "type": "integer"
        },
        {
         "name": "fp_1649",
         "rawType": "int64",
         "type": "integer"
        },
        {
         "name": "fp_1650",
         "rawType": "int64",
         "type": "integer"
        },
        {
         "name": "fp_1651",
         "rawType": "int64",
         "type": "integer"
        },
        {
         "name": "fp_1652",
         "rawType": "int64",
         "type": "integer"
        },
        {
         "name": "fp_1653",
         "rawType": "int64",
         "type": "integer"
        },
        {
         "name": "fp_1654",
         "rawType": "int64",
         "type": "integer"
        },
        {
         "name": "fp_1655",
         "rawType": "int64",
         "type": "integer"
        },
        {
         "name": "fp_1656",
         "rawType": "int64",
         "type": "integer"
        },
        {
         "name": "fp_1657",
         "rawType": "int64",
         "type": "integer"
        },
        {
         "name": "fp_1658",
         "rawType": "int64",
         "type": "integer"
        },
        {
         "name": "fp_1659",
         "rawType": "int64",
         "type": "integer"
        },
        {
         "name": "fp_1660",
         "rawType": "int64",
         "type": "integer"
        },
        {
         "name": "fp_1661",
         "rawType": "int64",
         "type": "integer"
        },
        {
         "name": "fp_1662",
         "rawType": "int64",
         "type": "integer"
        },
        {
         "name": "fp_1663",
         "rawType": "int64",
         "type": "integer"
        },
        {
         "name": "fp_1664",
         "rawType": "int64",
         "type": "integer"
        },
        {
         "name": "fp_1665",
         "rawType": "int64",
         "type": "integer"
        },
        {
         "name": "fp_1666",
         "rawType": "int64",
         "type": "integer"
        },
        {
         "name": "fp_1667",
         "rawType": "int64",
         "type": "integer"
        },
        {
         "name": "fp_1668",
         "rawType": "int64",
         "type": "integer"
        },
        {
         "name": "fp_1669",
         "rawType": "int64",
         "type": "integer"
        },
        {
         "name": "fp_1670",
         "rawType": "int64",
         "type": "integer"
        },
        {
         "name": "fp_1671",
         "rawType": "int64",
         "type": "integer"
        },
        {
         "name": "fp_1672",
         "rawType": "int64",
         "type": "integer"
        },
        {
         "name": "fp_1673",
         "rawType": "int64",
         "type": "integer"
        },
        {
         "name": "fp_1674",
         "rawType": "int64",
         "type": "integer"
        },
        {
         "name": "fp_1675",
         "rawType": "int64",
         "type": "integer"
        },
        {
         "name": "fp_1676",
         "rawType": "int64",
         "type": "integer"
        },
        {
         "name": "fp_1677",
         "rawType": "int64",
         "type": "integer"
        },
        {
         "name": "fp_1678",
         "rawType": "int64",
         "type": "integer"
        },
        {
         "name": "fp_1679",
         "rawType": "int64",
         "type": "integer"
        },
        {
         "name": "fp_1680",
         "rawType": "int64",
         "type": "integer"
        },
        {
         "name": "fp_1681",
         "rawType": "int64",
         "type": "integer"
        },
        {
         "name": "fp_1682",
         "rawType": "int64",
         "type": "integer"
        },
        {
         "name": "fp_1683",
         "rawType": "int64",
         "type": "integer"
        },
        {
         "name": "fp_1684",
         "rawType": "int64",
         "type": "integer"
        },
        {
         "name": "fp_1685",
         "rawType": "int64",
         "type": "integer"
        },
        {
         "name": "fp_1686",
         "rawType": "int64",
         "type": "integer"
        },
        {
         "name": "fp_1687",
         "rawType": "int64",
         "type": "integer"
        },
        {
         "name": "fp_1688",
         "rawType": "int64",
         "type": "integer"
        },
        {
         "name": "fp_1689",
         "rawType": "int64",
         "type": "integer"
        },
        {
         "name": "fp_1690",
         "rawType": "int64",
         "type": "integer"
        },
        {
         "name": "fp_1691",
         "rawType": "int64",
         "type": "integer"
        },
        {
         "name": "fp_1692",
         "rawType": "int64",
         "type": "integer"
        },
        {
         "name": "fp_1693",
         "rawType": "int64",
         "type": "integer"
        },
        {
         "name": "fp_1694",
         "rawType": "int64",
         "type": "integer"
        },
        {
         "name": "fp_1695",
         "rawType": "int64",
         "type": "integer"
        },
        {
         "name": "fp_1696",
         "rawType": "int64",
         "type": "integer"
        },
        {
         "name": "fp_1697",
         "rawType": "int64",
         "type": "integer"
        },
        {
         "name": "fp_1698",
         "rawType": "int64",
         "type": "integer"
        },
        {
         "name": "fp_1699",
         "rawType": "int64",
         "type": "integer"
        },
        {
         "name": "fp_1700",
         "rawType": "int64",
         "type": "integer"
        },
        {
         "name": "fp_1701",
         "rawType": "int64",
         "type": "integer"
        },
        {
         "name": "fp_1702",
         "rawType": "int64",
         "type": "integer"
        },
        {
         "name": "fp_1703",
         "rawType": "int64",
         "type": "integer"
        },
        {
         "name": "fp_1704",
         "rawType": "int64",
         "type": "integer"
        },
        {
         "name": "fp_1705",
         "rawType": "int64",
         "type": "integer"
        },
        {
         "name": "fp_1706",
         "rawType": "int64",
         "type": "integer"
        },
        {
         "name": "fp_1707",
         "rawType": "int64",
         "type": "integer"
        },
        {
         "name": "fp_1708",
         "rawType": "int64",
         "type": "integer"
        },
        {
         "name": "fp_1709",
         "rawType": "int64",
         "type": "integer"
        },
        {
         "name": "fp_1710",
         "rawType": "int64",
         "type": "integer"
        },
        {
         "name": "fp_1711",
         "rawType": "int64",
         "type": "integer"
        },
        {
         "name": "fp_1712",
         "rawType": "int64",
         "type": "integer"
        },
        {
         "name": "fp_1713",
         "rawType": "int64",
         "type": "integer"
        },
        {
         "name": "fp_1714",
         "rawType": "int64",
         "type": "integer"
        },
        {
         "name": "fp_1715",
         "rawType": "int64",
         "type": "integer"
        },
        {
         "name": "fp_1716",
         "rawType": "int64",
         "type": "integer"
        },
        {
         "name": "fp_1717",
         "rawType": "int64",
         "type": "integer"
        },
        {
         "name": "fp_1718",
         "rawType": "int64",
         "type": "integer"
        },
        {
         "name": "fp_1719",
         "rawType": "int64",
         "type": "integer"
        },
        {
         "name": "fp_1720",
         "rawType": "int64",
         "type": "integer"
        },
        {
         "name": "fp_1721",
         "rawType": "int64",
         "type": "integer"
        },
        {
         "name": "fp_1722",
         "rawType": "int64",
         "type": "integer"
        },
        {
         "name": "fp_1723",
         "rawType": "int64",
         "type": "integer"
        },
        {
         "name": "fp_1724",
         "rawType": "int64",
         "type": "integer"
        },
        {
         "name": "fp_1725",
         "rawType": "int64",
         "type": "integer"
        },
        {
         "name": "fp_1726",
         "rawType": "int64",
         "type": "integer"
        },
        {
         "name": "fp_1727",
         "rawType": "int64",
         "type": "integer"
        },
        {
         "name": "fp_1728",
         "rawType": "int64",
         "type": "integer"
        },
        {
         "name": "fp_1729",
         "rawType": "int64",
         "type": "integer"
        },
        {
         "name": "fp_1730",
         "rawType": "int64",
         "type": "integer"
        },
        {
         "name": "fp_1731",
         "rawType": "int64",
         "type": "integer"
        },
        {
         "name": "fp_1732",
         "rawType": "int64",
         "type": "integer"
        },
        {
         "name": "fp_1733",
         "rawType": "int64",
         "type": "integer"
        },
        {
         "name": "fp_1734",
         "rawType": "int64",
         "type": "integer"
        },
        {
         "name": "fp_1735",
         "rawType": "int64",
         "type": "integer"
        },
        {
         "name": "fp_1736",
         "rawType": "int64",
         "type": "integer"
        },
        {
         "name": "fp_1737",
         "rawType": "int64",
         "type": "integer"
        },
        {
         "name": "fp_1738",
         "rawType": "int64",
         "type": "integer"
        },
        {
         "name": "fp_1739",
         "rawType": "int64",
         "type": "integer"
        },
        {
         "name": "fp_1740",
         "rawType": "int64",
         "type": "integer"
        },
        {
         "name": "fp_1741",
         "rawType": "int64",
         "type": "integer"
        },
        {
         "name": "fp_1742",
         "rawType": "int64",
         "type": "integer"
        },
        {
         "name": "fp_1743",
         "rawType": "int64",
         "type": "integer"
        },
        {
         "name": "fp_1744",
         "rawType": "int64",
         "type": "integer"
        },
        {
         "name": "fp_1745",
         "rawType": "int64",
         "type": "integer"
        },
        {
         "name": "fp_1746",
         "rawType": "int64",
         "type": "integer"
        },
        {
         "name": "fp_1747",
         "rawType": "int64",
         "type": "integer"
        },
        {
         "name": "fp_1748",
         "rawType": "int64",
         "type": "integer"
        },
        {
         "name": "fp_1749",
         "rawType": "int64",
         "type": "integer"
        },
        {
         "name": "fp_1750",
         "rawType": "int64",
         "type": "integer"
        },
        {
         "name": "fp_1751",
         "rawType": "int64",
         "type": "integer"
        },
        {
         "name": "fp_1752",
         "rawType": "int64",
         "type": "integer"
        },
        {
         "name": "fp_1753",
         "rawType": "int64",
         "type": "integer"
        },
        {
         "name": "fp_1754",
         "rawType": "int64",
         "type": "integer"
        },
        {
         "name": "fp_1755",
         "rawType": "int64",
         "type": "integer"
        },
        {
         "name": "fp_1756",
         "rawType": "int64",
         "type": "integer"
        },
        {
         "name": "fp_1757",
         "rawType": "int64",
         "type": "integer"
        },
        {
         "name": "fp_1758",
         "rawType": "int64",
         "type": "integer"
        },
        {
         "name": "fp_1759",
         "rawType": "int64",
         "type": "integer"
        },
        {
         "name": "fp_1760",
         "rawType": "int64",
         "type": "integer"
        },
        {
         "name": "fp_1761",
         "rawType": "int64",
         "type": "integer"
        },
        {
         "name": "fp_1762",
         "rawType": "int64",
         "type": "integer"
        },
        {
         "name": "fp_1763",
         "rawType": "int64",
         "type": "integer"
        },
        {
         "name": "fp_1764",
         "rawType": "int64",
         "type": "integer"
        },
        {
         "name": "fp_1765",
         "rawType": "int64",
         "type": "integer"
        },
        {
         "name": "fp_1766",
         "rawType": "int64",
         "type": "integer"
        },
        {
         "name": "fp_1767",
         "rawType": "int64",
         "type": "integer"
        },
        {
         "name": "fp_1768",
         "rawType": "int64",
         "type": "integer"
        },
        {
         "name": "fp_1769",
         "rawType": "int64",
         "type": "integer"
        },
        {
         "name": "fp_1770",
         "rawType": "int64",
         "type": "integer"
        },
        {
         "name": "fp_1771",
         "rawType": "int64",
         "type": "integer"
        },
        {
         "name": "fp_1772",
         "rawType": "int64",
         "type": "integer"
        },
        {
         "name": "fp_1773",
         "rawType": "int64",
         "type": "integer"
        },
        {
         "name": "fp_1774",
         "rawType": "int64",
         "type": "integer"
        },
        {
         "name": "fp_1775",
         "rawType": "int64",
         "type": "integer"
        },
        {
         "name": "fp_1776",
         "rawType": "int64",
         "type": "integer"
        },
        {
         "name": "fp_1777",
         "rawType": "int64",
         "type": "integer"
        },
        {
         "name": "fp_1778",
         "rawType": "int64",
         "type": "integer"
        },
        {
         "name": "fp_1779",
         "rawType": "int64",
         "type": "integer"
        },
        {
         "name": "fp_1780",
         "rawType": "int64",
         "type": "integer"
        },
        {
         "name": "fp_1781",
         "rawType": "int64",
         "type": "integer"
        },
        {
         "name": "fp_1782",
         "rawType": "int64",
         "type": "integer"
        },
        {
         "name": "fp_1783",
         "rawType": "int64",
         "type": "integer"
        },
        {
         "name": "fp_1784",
         "rawType": "int64",
         "type": "integer"
        },
        {
         "name": "fp_1785",
         "rawType": "int64",
         "type": "integer"
        },
        {
         "name": "fp_1786",
         "rawType": "int64",
         "type": "integer"
        },
        {
         "name": "fp_1787",
         "rawType": "int64",
         "type": "integer"
        },
        {
         "name": "fp_1788",
         "rawType": "int64",
         "type": "integer"
        },
        {
         "name": "fp_1789",
         "rawType": "int64",
         "type": "integer"
        },
        {
         "name": "fp_1790",
         "rawType": "int64",
         "type": "integer"
        },
        {
         "name": "fp_1791",
         "rawType": "int64",
         "type": "integer"
        },
        {
         "name": "fp_1792",
         "rawType": "int64",
         "type": "integer"
        },
        {
         "name": "fp_1793",
         "rawType": "int64",
         "type": "integer"
        },
        {
         "name": "fp_1794",
         "rawType": "int64",
         "type": "integer"
        },
        {
         "name": "fp_1795",
         "rawType": "int64",
         "type": "integer"
        },
        {
         "name": "fp_1796",
         "rawType": "int64",
         "type": "integer"
        },
        {
         "name": "fp_1797",
         "rawType": "int64",
         "type": "integer"
        },
        {
         "name": "fp_1798",
         "rawType": "int64",
         "type": "integer"
        },
        {
         "name": "fp_1799",
         "rawType": "int64",
         "type": "integer"
        },
        {
         "name": "fp_1800",
         "rawType": "int64",
         "type": "integer"
        },
        {
         "name": "fp_1801",
         "rawType": "int64",
         "type": "integer"
        },
        {
         "name": "fp_1802",
         "rawType": "int64",
         "type": "integer"
        },
        {
         "name": "fp_1803",
         "rawType": "int64",
         "type": "integer"
        },
        {
         "name": "fp_1804",
         "rawType": "int64",
         "type": "integer"
        },
        {
         "name": "fp_1805",
         "rawType": "int64",
         "type": "integer"
        },
        {
         "name": "fp_1806",
         "rawType": "int64",
         "type": "integer"
        },
        {
         "name": "fp_1807",
         "rawType": "int64",
         "type": "integer"
        },
        {
         "name": "fp_1808",
         "rawType": "int64",
         "type": "integer"
        },
        {
         "name": "fp_1809",
         "rawType": "int64",
         "type": "integer"
        },
        {
         "name": "fp_1810",
         "rawType": "int64",
         "type": "integer"
        },
        {
         "name": "fp_1811",
         "rawType": "int64",
         "type": "integer"
        },
        {
         "name": "fp_1812",
         "rawType": "int64",
         "type": "integer"
        },
        {
         "name": "fp_1813",
         "rawType": "int64",
         "type": "integer"
        },
        {
         "name": "fp_1814",
         "rawType": "int64",
         "type": "integer"
        },
        {
         "name": "fp_1815",
         "rawType": "int64",
         "type": "integer"
        },
        {
         "name": "fp_1816",
         "rawType": "int64",
         "type": "integer"
        },
        {
         "name": "fp_1817",
         "rawType": "int64",
         "type": "integer"
        },
        {
         "name": "fp_1818",
         "rawType": "int64",
         "type": "integer"
        },
        {
         "name": "fp_1819",
         "rawType": "int64",
         "type": "integer"
        },
        {
         "name": "fp_1820",
         "rawType": "int64",
         "type": "integer"
        },
        {
         "name": "fp_1821",
         "rawType": "int64",
         "type": "integer"
        },
        {
         "name": "fp_1822",
         "rawType": "int64",
         "type": "integer"
        },
        {
         "name": "fp_1823",
         "rawType": "int64",
         "type": "integer"
        },
        {
         "name": "fp_1824",
         "rawType": "int64",
         "type": "integer"
        },
        {
         "name": "fp_1825",
         "rawType": "int64",
         "type": "integer"
        },
        {
         "name": "fp_1826",
         "rawType": "int64",
         "type": "integer"
        },
        {
         "name": "fp_1827",
         "rawType": "int64",
         "type": "integer"
        },
        {
         "name": "fp_1828",
         "rawType": "int64",
         "type": "integer"
        },
        {
         "name": "fp_1829",
         "rawType": "int64",
         "type": "integer"
        },
        {
         "name": "fp_1830",
         "rawType": "int64",
         "type": "integer"
        },
        {
         "name": "fp_1831",
         "rawType": "int64",
         "type": "integer"
        },
        {
         "name": "fp_1832",
         "rawType": "int64",
         "type": "integer"
        },
        {
         "name": "fp_1833",
         "rawType": "int64",
         "type": "integer"
        },
        {
         "name": "fp_1834",
         "rawType": "int64",
         "type": "integer"
        },
        {
         "name": "fp_1835",
         "rawType": "int64",
         "type": "integer"
        },
        {
         "name": "fp_1836",
         "rawType": "int64",
         "type": "integer"
        },
        {
         "name": "fp_1837",
         "rawType": "int64",
         "type": "integer"
        },
        {
         "name": "fp_1838",
         "rawType": "int64",
         "type": "integer"
        },
        {
         "name": "fp_1839",
         "rawType": "int64",
         "type": "integer"
        },
        {
         "name": "fp_1840",
         "rawType": "int64",
         "type": "integer"
        },
        {
         "name": "fp_1841",
         "rawType": "int64",
         "type": "integer"
        },
        {
         "name": "fp_1842",
         "rawType": "int64",
         "type": "integer"
        },
        {
         "name": "fp_1843",
         "rawType": "int64",
         "type": "integer"
        },
        {
         "name": "fp_1844",
         "rawType": "int64",
         "type": "integer"
        },
        {
         "name": "fp_1845",
         "rawType": "int64",
         "type": "integer"
        },
        {
         "name": "fp_1846",
         "rawType": "int64",
         "type": "integer"
        },
        {
         "name": "fp_1847",
         "rawType": "int64",
         "type": "integer"
        },
        {
         "name": "fp_1848",
         "rawType": "int64",
         "type": "integer"
        },
        {
         "name": "fp_1849",
         "rawType": "int64",
         "type": "integer"
        },
        {
         "name": "fp_1850",
         "rawType": "int64",
         "type": "integer"
        },
        {
         "name": "fp_1851",
         "rawType": "int64",
         "type": "integer"
        },
        {
         "name": "fp_1852",
         "rawType": "int64",
         "type": "integer"
        },
        {
         "name": "fp_1853",
         "rawType": "int64",
         "type": "integer"
        },
        {
         "name": "fp_1854",
         "rawType": "int64",
         "type": "integer"
        },
        {
         "name": "fp_1855",
         "rawType": "int64",
         "type": "integer"
        },
        {
         "name": "fp_1856",
         "rawType": "int64",
         "type": "integer"
        },
        {
         "name": "fp_1857",
         "rawType": "int64",
         "type": "integer"
        },
        {
         "name": "fp_1858",
         "rawType": "int64",
         "type": "integer"
        },
        {
         "name": "fp_1859",
         "rawType": "int64",
         "type": "integer"
        },
        {
         "name": "fp_1860",
         "rawType": "int64",
         "type": "integer"
        },
        {
         "name": "fp_1861",
         "rawType": "int64",
         "type": "integer"
        },
        {
         "name": "fp_1862",
         "rawType": "int64",
         "type": "integer"
        },
        {
         "name": "fp_1863",
         "rawType": "int64",
         "type": "integer"
        },
        {
         "name": "fp_1864",
         "rawType": "int64",
         "type": "integer"
        },
        {
         "name": "fp_1865",
         "rawType": "int64",
         "type": "integer"
        },
        {
         "name": "fp_1866",
         "rawType": "int64",
         "type": "integer"
        },
        {
         "name": "fp_1867",
         "rawType": "int64",
         "type": "integer"
        },
        {
         "name": "fp_1868",
         "rawType": "int64",
         "type": "integer"
        },
        {
         "name": "fp_1869",
         "rawType": "int64",
         "type": "integer"
        },
        {
         "name": "fp_1870",
         "rawType": "int64",
         "type": "integer"
        },
        {
         "name": "fp_1871",
         "rawType": "int64",
         "type": "integer"
        },
        {
         "name": "fp_1872",
         "rawType": "int64",
         "type": "integer"
        },
        {
         "name": "fp_1873",
         "rawType": "int64",
         "type": "integer"
        },
        {
         "name": "fp_1874",
         "rawType": "int64",
         "type": "integer"
        },
        {
         "name": "fp_1875",
         "rawType": "int64",
         "type": "integer"
        },
        {
         "name": "fp_1876",
         "rawType": "int64",
         "type": "integer"
        },
        {
         "name": "fp_1877",
         "rawType": "int64",
         "type": "integer"
        },
        {
         "name": "fp_1878",
         "rawType": "int64",
         "type": "integer"
        },
        {
         "name": "fp_1879",
         "rawType": "int64",
         "type": "integer"
        },
        {
         "name": "fp_1880",
         "rawType": "int64",
         "type": "integer"
        },
        {
         "name": "fp_1881",
         "rawType": "int64",
         "type": "integer"
        },
        {
         "name": "fp_1882",
         "rawType": "int64",
         "type": "integer"
        },
        {
         "name": "fp_1883",
         "rawType": "int64",
         "type": "integer"
        },
        {
         "name": "fp_1884",
         "rawType": "int64",
         "type": "integer"
        },
        {
         "name": "fp_1885",
         "rawType": "int64",
         "type": "integer"
        },
        {
         "name": "fp_1886",
         "rawType": "int64",
         "type": "integer"
        },
        {
         "name": "fp_1887",
         "rawType": "int64",
         "type": "integer"
        },
        {
         "name": "fp_1888",
         "rawType": "int64",
         "type": "integer"
        },
        {
         "name": "fp_1889",
         "rawType": "int64",
         "type": "integer"
        },
        {
         "name": "fp_1890",
         "rawType": "int64",
         "type": "integer"
        },
        {
         "name": "fp_1891",
         "rawType": "int64",
         "type": "integer"
        },
        {
         "name": "fp_1892",
         "rawType": "int64",
         "type": "integer"
        },
        {
         "name": "fp_1893",
         "rawType": "int64",
         "type": "integer"
        },
        {
         "name": "fp_1894",
         "rawType": "int64",
         "type": "integer"
        },
        {
         "name": "fp_1895",
         "rawType": "int64",
         "type": "integer"
        },
        {
         "name": "fp_1896",
         "rawType": "int64",
         "type": "integer"
        },
        {
         "name": "fp_1897",
         "rawType": "int64",
         "type": "integer"
        },
        {
         "name": "fp_1898",
         "rawType": "int64",
         "type": "integer"
        },
        {
         "name": "fp_1899",
         "rawType": "int64",
         "type": "integer"
        },
        {
         "name": "fp_1900",
         "rawType": "int64",
         "type": "integer"
        },
        {
         "name": "fp_1901",
         "rawType": "int64",
         "type": "integer"
        },
        {
         "name": "fp_1902",
         "rawType": "int64",
         "type": "integer"
        },
        {
         "name": "fp_1903",
         "rawType": "int64",
         "type": "integer"
        },
        {
         "name": "fp_1904",
         "rawType": "int64",
         "type": "integer"
        },
        {
         "name": "fp_1905",
         "rawType": "int64",
         "type": "integer"
        },
        {
         "name": "fp_1906",
         "rawType": "int64",
         "type": "integer"
        },
        {
         "name": "fp_1907",
         "rawType": "int64",
         "type": "integer"
        },
        {
         "name": "fp_1908",
         "rawType": "int64",
         "type": "integer"
        },
        {
         "name": "fp_1909",
         "rawType": "int64",
         "type": "integer"
        },
        {
         "name": "fp_1910",
         "rawType": "int64",
         "type": "integer"
        },
        {
         "name": "fp_1911",
         "rawType": "int64",
         "type": "integer"
        },
        {
         "name": "fp_1912",
         "rawType": "int64",
         "type": "integer"
        },
        {
         "name": "fp_1913",
         "rawType": "int64",
         "type": "integer"
        },
        {
         "name": "fp_1914",
         "rawType": "int64",
         "type": "integer"
        },
        {
         "name": "fp_1915",
         "rawType": "int64",
         "type": "integer"
        },
        {
         "name": "fp_1916",
         "rawType": "int64",
         "type": "integer"
        },
        {
         "name": "fp_1917",
         "rawType": "int64",
         "type": "integer"
        },
        {
         "name": "fp_1918",
         "rawType": "int64",
         "type": "integer"
        },
        {
         "name": "fp_1919",
         "rawType": "int64",
         "type": "integer"
        },
        {
         "name": "fp_1920",
         "rawType": "int64",
         "type": "integer"
        },
        {
         "name": "fp_1921",
         "rawType": "int64",
         "type": "integer"
        },
        {
         "name": "fp_1922",
         "rawType": "int64",
         "type": "integer"
        },
        {
         "name": "fp_1923",
         "rawType": "int64",
         "type": "integer"
        },
        {
         "name": "fp_1924",
         "rawType": "int64",
         "type": "integer"
        },
        {
         "name": "fp_1925",
         "rawType": "int64",
         "type": "integer"
        },
        {
         "name": "fp_1926",
         "rawType": "int64",
         "type": "integer"
        },
        {
         "name": "fp_1927",
         "rawType": "int64",
         "type": "integer"
        },
        {
         "name": "fp_1928",
         "rawType": "int64",
         "type": "integer"
        },
        {
         "name": "fp_1929",
         "rawType": "int64",
         "type": "integer"
        },
        {
         "name": "fp_1930",
         "rawType": "int64",
         "type": "integer"
        },
        {
         "name": "fp_1931",
         "rawType": "int64",
         "type": "integer"
        },
        {
         "name": "fp_1932",
         "rawType": "int64",
         "type": "integer"
        },
        {
         "name": "fp_1933",
         "rawType": "int64",
         "type": "integer"
        },
        {
         "name": "fp_1934",
         "rawType": "int64",
         "type": "integer"
        },
        {
         "name": "fp_1935",
         "rawType": "int64",
         "type": "integer"
        },
        {
         "name": "fp_1936",
         "rawType": "int64",
         "type": "integer"
        },
        {
         "name": "fp_1937",
         "rawType": "int64",
         "type": "integer"
        },
        {
         "name": "fp_1938",
         "rawType": "int64",
         "type": "integer"
        },
        {
         "name": "fp_1939",
         "rawType": "int64",
         "type": "integer"
        },
        {
         "name": "fp_1940",
         "rawType": "int64",
         "type": "integer"
        },
        {
         "name": "fp_1941",
         "rawType": "int64",
         "type": "integer"
        },
        {
         "name": "fp_1942",
         "rawType": "int64",
         "type": "integer"
        },
        {
         "name": "fp_1943",
         "rawType": "int64",
         "type": "integer"
        },
        {
         "name": "fp_1944",
         "rawType": "int64",
         "type": "integer"
        },
        {
         "name": "fp_1945",
         "rawType": "int64",
         "type": "integer"
        },
        {
         "name": "fp_1946",
         "rawType": "int64",
         "type": "integer"
        },
        {
         "name": "fp_1947",
         "rawType": "int64",
         "type": "integer"
        },
        {
         "name": "fp_1948",
         "rawType": "int64",
         "type": "integer"
        },
        {
         "name": "fp_1949",
         "rawType": "int64",
         "type": "integer"
        },
        {
         "name": "fp_1950",
         "rawType": "int64",
         "type": "integer"
        },
        {
         "name": "fp_1951",
         "rawType": "int64",
         "type": "integer"
        },
        {
         "name": "fp_1952",
         "rawType": "int64",
         "type": "integer"
        },
        {
         "name": "fp_1953",
         "rawType": "int64",
         "type": "integer"
        },
        {
         "name": "fp_1954",
         "rawType": "int64",
         "type": "integer"
        },
        {
         "name": "fp_1955",
         "rawType": "int64",
         "type": "integer"
        },
        {
         "name": "fp_1956",
         "rawType": "int64",
         "type": "integer"
        },
        {
         "name": "fp_1957",
         "rawType": "int64",
         "type": "integer"
        },
        {
         "name": "fp_1958",
         "rawType": "int64",
         "type": "integer"
        },
        {
         "name": "fp_1959",
         "rawType": "int64",
         "type": "integer"
        },
        {
         "name": "fp_1960",
         "rawType": "int64",
         "type": "integer"
        },
        {
         "name": "fp_1961",
         "rawType": "int64",
         "type": "integer"
        },
        {
         "name": "fp_1962",
         "rawType": "int64",
         "type": "integer"
        },
        {
         "name": "fp_1963",
         "rawType": "int64",
         "type": "integer"
        },
        {
         "name": "fp_1964",
         "rawType": "int64",
         "type": "integer"
        },
        {
         "name": "fp_1965",
         "rawType": "int64",
         "type": "integer"
        },
        {
         "name": "fp_1966",
         "rawType": "int64",
         "type": "integer"
        },
        {
         "name": "fp_1967",
         "rawType": "int64",
         "type": "integer"
        },
        {
         "name": "fp_1968",
         "rawType": "int64",
         "type": "integer"
        },
        {
         "name": "fp_1969",
         "rawType": "int64",
         "type": "integer"
        },
        {
         "name": "fp_1970",
         "rawType": "int64",
         "type": "integer"
        },
        {
         "name": "fp_1971",
         "rawType": "int64",
         "type": "integer"
        },
        {
         "name": "fp_1972",
         "rawType": "int64",
         "type": "integer"
        },
        {
         "name": "fp_1973",
         "rawType": "int64",
         "type": "integer"
        },
        {
         "name": "fp_1974",
         "rawType": "int64",
         "type": "integer"
        },
        {
         "name": "fp_1975",
         "rawType": "int64",
         "type": "integer"
        },
        {
         "name": "fp_1976",
         "rawType": "int64",
         "type": "integer"
        },
        {
         "name": "fp_1977",
         "rawType": "int64",
         "type": "integer"
        },
        {
         "name": "fp_1978",
         "rawType": "int64",
         "type": "integer"
        },
        {
         "name": "fp_1979",
         "rawType": "int64",
         "type": "integer"
        },
        {
         "name": "fp_1980",
         "rawType": "int64",
         "type": "integer"
        },
        {
         "name": "fp_1981",
         "rawType": "int64",
         "type": "integer"
        },
        {
         "name": "fp_1982",
         "rawType": "int64",
         "type": "integer"
        },
        {
         "name": "fp_1983",
         "rawType": "int64",
         "type": "integer"
        },
        {
         "name": "fp_1984",
         "rawType": "int64",
         "type": "integer"
        },
        {
         "name": "fp_1985",
         "rawType": "int64",
         "type": "integer"
        },
        {
         "name": "fp_1986",
         "rawType": "int64",
         "type": "integer"
        },
        {
         "name": "fp_1987",
         "rawType": "int64",
         "type": "integer"
        },
        {
         "name": "fp_1988",
         "rawType": "int64",
         "type": "integer"
        },
        {
         "name": "fp_1989",
         "rawType": "int64",
         "type": "integer"
        },
        {
         "name": "fp_1990",
         "rawType": "int64",
         "type": "integer"
        },
        {
         "name": "fp_1991",
         "rawType": "int64",
         "type": "integer"
        },
        {
         "name": "fp_1992",
         "rawType": "int64",
         "type": "integer"
        },
        {
         "name": "fp_1993",
         "rawType": "int64",
         "type": "integer"
        },
        {
         "name": "fp_1994",
         "rawType": "int64",
         "type": "integer"
        },
        {
         "name": "fp_1995",
         "rawType": "int64",
         "type": "integer"
        },
        {
         "name": "fp_1996",
         "rawType": "int64",
         "type": "integer"
        },
        {
         "name": "fp_1997",
         "rawType": "int64",
         "type": "integer"
        },
        {
         "name": "fp_1998",
         "rawType": "int64",
         "type": "integer"
        },
        {
         "name": "fp_1999",
         "rawType": "int64",
         "type": "integer"
        },
        {
         "name": "fp_2000",
         "rawType": "int64",
         "type": "integer"
        },
        {
         "name": "fp_2001",
         "rawType": "int64",
         "type": "integer"
        },
        {
         "name": "fp_2002",
         "rawType": "int64",
         "type": "integer"
        },
        {
         "name": "fp_2003",
         "rawType": "int64",
         "type": "integer"
        },
        {
         "name": "fp_2004",
         "rawType": "int64",
         "type": "integer"
        },
        {
         "name": "fp_2005",
         "rawType": "int64",
         "type": "integer"
        },
        {
         "name": "fp_2006",
         "rawType": "int64",
         "type": "integer"
        },
        {
         "name": "fp_2007",
         "rawType": "int64",
         "type": "integer"
        },
        {
         "name": "fp_2008",
         "rawType": "int64",
         "type": "integer"
        },
        {
         "name": "fp_2009",
         "rawType": "int64",
         "type": "integer"
        },
        {
         "name": "fp_2010",
         "rawType": "int64",
         "type": "integer"
        },
        {
         "name": "fp_2011",
         "rawType": "int64",
         "type": "integer"
        },
        {
         "name": "fp_2012",
         "rawType": "int64",
         "type": "integer"
        },
        {
         "name": "fp_2013",
         "rawType": "int64",
         "type": "integer"
        },
        {
         "name": "fp_2014",
         "rawType": "int64",
         "type": "integer"
        },
        {
         "name": "fp_2015",
         "rawType": "int64",
         "type": "integer"
        },
        {
         "name": "fp_2016",
         "rawType": "int64",
         "type": "integer"
        },
        {
         "name": "fp_2017",
         "rawType": "int64",
         "type": "integer"
        },
        {
         "name": "fp_2018",
         "rawType": "int64",
         "type": "integer"
        },
        {
         "name": "fp_2019",
         "rawType": "int64",
         "type": "integer"
        },
        {
         "name": "fp_2020",
         "rawType": "int64",
         "type": "integer"
        },
        {
         "name": "fp_2021",
         "rawType": "int64",
         "type": "integer"
        },
        {
         "name": "fp_2022",
         "rawType": "int64",
         "type": "integer"
        },
        {
         "name": "fp_2023",
         "rawType": "int64",
         "type": "integer"
        },
        {
         "name": "fp_2024",
         "rawType": "int64",
         "type": "integer"
        },
        {
         "name": "fp_2025",
         "rawType": "int64",
         "type": "integer"
        },
        {
         "name": "fp_2026",
         "rawType": "int64",
         "type": "integer"
        },
        {
         "name": "fp_2027",
         "rawType": "int64",
         "type": "integer"
        },
        {
         "name": "fp_2028",
         "rawType": "int64",
         "type": "integer"
        },
        {
         "name": "fp_2029",
         "rawType": "int64",
         "type": "integer"
        },
        {
         "name": "fp_2030",
         "rawType": "int64",
         "type": "integer"
        },
        {
         "name": "fp_2031",
         "rawType": "int64",
         "type": "integer"
        },
        {
         "name": "fp_2032",
         "rawType": "int64",
         "type": "integer"
        },
        {
         "name": "fp_2033",
         "rawType": "int64",
         "type": "integer"
        },
        {
         "name": "fp_2034",
         "rawType": "int64",
         "type": "integer"
        },
        {
         "name": "fp_2035",
         "rawType": "int64",
         "type": "integer"
        },
        {
         "name": "fp_2036",
         "rawType": "int64",
         "type": "integer"
        },
        {
         "name": "fp_2037",
         "rawType": "int64",
         "type": "integer"
        },
        {
         "name": "fp_2038",
         "rawType": "int64",
         "type": "integer"
        },
        {
         "name": "fp_2039",
         "rawType": "int64",
         "type": "integer"
        },
        {
         "name": "fp_2040",
         "rawType": "int64",
         "type": "integer"
        },
        {
         "name": "fp_2041",
         "rawType": "int64",
         "type": "integer"
        },
        {
         "name": "fp_2042",
         "rawType": "int64",
         "type": "integer"
        },
        {
         "name": "fp_2043",
         "rawType": "int64",
         "type": "integer"
        },
        {
         "name": "fp_2044",
         "rawType": "int64",
         "type": "integer"
        },
        {
         "name": "fp_2045",
         "rawType": "int64",
         "type": "integer"
        },
        {
         "name": "fp_2046",
         "rawType": "int64",
         "type": "integer"
        },
        {
         "name": "fp_2047",
         "rawType": "int64",
         "type": "integer"
        },
        {
         "name": "cx_charge_formalCharge",
         "rawType": "int64",
         "type": "integer"
        },
        {
         "name": "cx_elemental-analysis_mass",
         "rawType": "float64",
         "type": "float"
        },
        {
         "name": "cx_hbda_donorAtomCount",
         "rawType": "int64",
         "type": "integer"
        },
        {
         "name": "cx_hbda_donorSiteCount",
         "rawType": "int64",
         "type": "integer"
        },
        {
         "name": "cx_hbda_acceptorAtomCount",
         "rawType": "int64",
         "type": "integer"
        },
        {
         "name": "cx_hbda_acceptorSiteCount",
         "rawType": "int64",
         "type": "integer"
        },
        {
         "name": "cx_hlb_cxnHlbValue",
         "rawType": "float64",
         "type": "float"
        },
        {
         "name": "cx_hlb_daviesHlbValue",
         "rawType": "float64",
         "type": "float"
        },
        {
         "name": "cx_hlb_griffinHlbValue",
         "rawType": "float64",
         "type": "float"
        },
        {
         "name": "cx_hlb_requiredHLBValue",
         "rawType": "float64",
         "type": "float"
        },
        {
         "name": "cx_logd[pH=7.4]",
         "rawType": "float64",
         "type": "float"
        },
        {
         "name": "cx_logp_logP",
         "rawType": "float64",
         "type": "float"
        },
        {
         "name": "cx_pka_apKa1",
         "rawType": "float64",
         "type": "float"
        },
        {
         "name": "cx_pka_apKa2",
         "rawType": "float64",
         "type": "float"
        },
        {
         "name": "cx_pka_bpKa1",
         "rawType": "float64",
         "type": "float"
        },
        {
         "name": "cx_pka_bpKa2",
         "rawType": "float64",
         "type": "float"
        },
        {
         "name": "cx_polar-surface-area_polarSurfaceArea",
         "rawType": "float64",
         "type": "float"
        },
        {
         "name": "cx_intrinsicSolubility",
         "rawType": "float64",
         "type": "float"
        },
        {
         "name": "cx_solubility(logS)[pH=7.4]",
         "rawType": "float64",
         "type": "float"
        },
        {
         "name": "cx_topology-analyser_aliphaticRingCount",
         "rawType": "int64",
         "type": "integer"
        },
        {
         "name": "cx_topology-analyser_aromaticAtomCount",
         "rawType": "int64",
         "type": "integer"
        },
        {
         "name": "cx_topology-analyser_aromaticRingCount",
         "rawType": "int64",
         "type": "integer"
        },
        {
         "name": "cx_topology-analyser_chainBondCount",
         "rawType": "int64",
         "type": "integer"
        },
        {
         "name": "cx_topology-analyser_chiralCenterCount",
         "rawType": "int64",
         "type": "integer"
        },
        {
         "name": "cx_topology-analyser_fsp3",
         "rawType": "float64",
         "type": "float"
        },
        {
         "name": "cx_topology-analyser_fusedAliphaticRingCount",
         "rawType": "int64",
         "type": "integer"
        },
        {
         "name": "cx_topology-analyser_fusedAromaticRingCount",
         "rawType": "int64",
         "type": "integer"
        },
        {
         "name": "cx_topology-analyser_fusedRingCount",
         "rawType": "int64",
         "type": "integer"
        },
        {
         "name": "cx_topology-analyser_heteroRingCount",
         "rawType": "int64",
         "type": "integer"
        },
        {
         "name": "cx_topology-analyser_heteroAromaticRingCount",
         "rawType": "int64",
         "type": "integer"
        },
        {
         "name": "cx_topology-analyser_largestRingSize",
         "rawType": "int64",
         "type": "integer"
        },
        {
         "name": "cx_topology-analyser_largestRingSystemSize",
         "rawType": "int64",
         "type": "integer"
        },
        {
         "name": "cx_topology-analyser_rotatableBondCount",
         "rawType": "int64",
         "type": "integer"
        }
       ],
       "conversionMethod": "pd.DataFrame",
       "ref": "c6986099-d1a7-4091-a4e8-0fb696b938fc",
       "rows": [
        [
         "0",
         "65.39657381",
         "1.327663557",
         "14.863094337217191",
         "14.863094337217191",
         "0.1327625260793472",
         "-0.7191967453279708",
         "0.2381762920625613",
         "20.08510638297872",
         "650.7080000000004",
         "611.3960000000003",
         "650.286425808",
         "250",
         "0",
         "0.4143165101540034",
         "-0.4420459952801585",
         "0.4420459952801585",
         "0.4143165101540034",
         "1.0212765957446808",
         "1.8297872340425527",
         "2.595744680851064",
         "3.5551244868411724",
         "0.9303517567257604",
         "1746.7871728283417",
         "-4.720000000000001",
         "42096458851.93315",
         "32.22993429359169",
         "13.95413288246244",
         "7.015831498624233",
         "270.11989012957383",
         "144.21",
         "0.4848484848484848",
         "47",
         "2",
         "13",
         "0",
         "3",
         "3",
         "4",
         "2",
         "1",
         "3",
         "2",
         "0",
         "10",
         "2",
         "14",
         "4",
         "11",
         "0",
         "3",
         "3",
         "0",
         "1",
         "9.568952892038546",
         "6",
         "2.5379",
         "170.8283999999996",
         "0",
         "0",
         "0",
         "0",
         "0",
         "2",
         "0",
         "0",
         "0",
         "0",
         "4",
         "4",
         "0",
         "0",
         "0",
         "4",
         "2",
         "0",
         "0",
         "0",
         "0",
         "0",
         "0",
         "0",
         "0",
         "0",
         "0",
         "4",
         "0",
         "2",
         "2",
         "0",
         "0",
         "0",
         "2",
         "0",
         "1",
         "0",
         "0",
         "0",
         "0",
         "2",
         "0",
         "0",
         "1",
         "0",
         "0",
         "1",
         "1",
         "0",
         "0",
         "0",
         "0",
         "0",
         "1",
         "0",
         "1",
         "0",
         "0",
         "0",
         "0",
         "0",
         "0",
         "0",
         "0",
         "0",
         "0",
         "0",
         "0",
         "1",
         "0",
         "0",
         "0",
         "0",
         "0",
         "0",
         "0",
         "0",
         "0",
         "0",
         "0",
         "0",
         "0",
         "2",
         "0",
         "0",
         "0",
         "0",
         "0",
         "0",
         "0",
         "0",
         "0",
         "1",
         "0",
         "0",
         "0",
         "0",
         "0",
         "0",
         "0",
         "0",
         "0",
         "0",
         "0",
         "0",
         "0",
         "0",
         "0",
         "0",
         "0",
         "0",
         "0",
         "0",
         "0",
         "0",
         "0",
         "0",
         "0",
         "0",
         "0",
         "0",
         "0",
         "0",
         "0",
         "0",
         "1",
         "0",
         "0",
         "0",
         "1",
         "0",
         "0",
         "0",
         "0",
         "0",
         "0",
         "0",
         "0",
         "0",
         "0",
         "0",
         "0",
         "0",
         "0",
         "0",
         "0",
         "0",
         "0",
         "0",
         "0",
         "0",
         "0",
         "0",
         "0",
         "0",
         "0",
         "0",
         "0",
         "0",
         "0",
         "0",
         "0",
         "0",
         "0",
         "1",
         "0",
         "0",
         "0",
         "0",
         "0",
         "0",
         "0",
         "0",
         "0",
         "0",
         "0",
         "0",
         "0",
         "0",
         "0",
         "0",
         "0",
         "0",
         "0",
         "0",
         "0",
         "0",
         "0",
         "1",
         "0",
         "0",
         "0",
         "0",
         "0",
         "0",
         "0",
         "0",
         "0",
         "0",
         "0",
         "1",
         "0",
         "0",
         "0",
         "0",
         "0",
         "0",
         "0",
         "0",
         "0",
         "0",
         "0",
         "0",
         "0",
         "0",
         "0",
         "0",
         "0",
         "0",
         "0",
         "0",
         "0",
         "0",
         "0",
         "0",
         "0",
         "0",
         "0",
         "0",
         "0",
         "0",
         "0",
         "0",
         "0",
         "0",
         "0",
         "0",
         "0",
         "0",
         "0",
         "0",
         "0",
         "0",
         "0",
         "0",
         "0",
         "0",
         "0",
         "1",
         "0",
         "0",
         "0",
         "0",
         "0",
         "0",
         "0",
         "0",
         "0",
         "0",
         "0",
         "0",
         "0",
         "0",
         "0",
         "0",
         "0",
         "0",
         "0",
         "0",
         "0",
         "0",
         "0",
         "0",
         "1",
         "0",
         "0",
         "0",
         "0",
         "0",
         "0",
         "0",
         "1",
         "0",
         "0",
         "0",
         "0",
         "0",
         "0",
         "0",
         "0",
         "0",
         "0",
         "0",
         "0",
         "0",
         "0",
         "0",
         "0",
         "0",
         "0",
         "0",
         "0",
         "0",
         "0",
         "0",
         "0",
         "0",
         "0",
         "0",
         "0",
         "0",
         "0",
         "0",
         "0",
         "0",
         "1",
         "0",
         "1",
         "0",
         "0",
         "0",
         "1",
         "0",
         "1",
         "0",
         "0",
         "0",
         "0",
         "0",
         "0",
         "0",
         "0",
         "0",
         "0",
         "0",
         "0",
         "0",
         "0",
         "0",
         "0",
         "0",
         "0",
         "0",
         "0",
         "0",
         "0",
         "0",
         "0",
         "0",
         "0",
         "0",
         "0",
         "1",
         "0",
         "0",
         "0",
         "0",
         "0",
         "0",
         "0",
         "0",
         "0",
         "0",
         "0",
         "0",
         "0",
         "0",
         "0",
         "0",
         "0",
         "0",
         "0",
         "0",
         "0",
         "0",
         "0",
         "0",
         "1",
         "0",
         "0",
         "0",
         "0",
         "0",
         "0",
         "0",
         "0",
         "0",
         "0",
         "0",
         "0",
         "0",
         "0",
         "0",
         "0",
         "1",
         "0",
         "0",
         "0",
         "1",
         "0",
         "0",
         "0",
         "0",
         "0",
         "0",
         "0",
         "0",
         "0",
         "0",
         "0",
         "0",
         "0",
         "0",
         "0",
         "0",
         "0",
         "0",
         "0",
         "0",
         "0",
         "0",
         "0",
         "0",
         "0",
         "0",
         "0",
         "0",
         "0",
         "0",
         "0",
         "0",
         "0",
         "0",
         "0",
         "0",
         "0",
         "0",
         "0",
         "0",
         "0",
         "0",
         "0",
         "0",
         "0",
         "0",
         "0",
         "0",
         "0",
         "0",
         "0",
         "0",
         "0",
         "0",
         "0",
         "0",
         "0",
         "0",
         "0",
         "0",
         "0",
         "0",
         "0",
         "0",
         "0",
         "0",
         "0",
         "0",
         "0",
         "0",
         "0",
         "0",
         "0",
         "0",
         "0",
         "0",
         "0",
         "0",
         "0",
         "1",
         "0",
         "0",
         "0",
         "0",
         "0",
         "0",
         "0",
         "0",
         "0",
         "0",
         "0",
         "0",
         "1",
         "0",
         "0",
         "0",
         "0",
         "0",
         "0",
         "0",
         "0",
         "0",
         "0",
         "0",
         "0",
         "0",
         "0",
         "0",
         "0",
         "0",
         "0",
         "0",
         "0",
         "0",
         "0",
         "0",
         "0",
         "0",
         "0",
         "0",
         "0",
         "0",
         "0",
         "0",
         "0",
         "0",
         "0",
         "0",
         "0",
         "0",
         "0",
         "0",
         "0",
         "0",
         "1",
         "0",
         "0",
         "0",
         "0",
         "1",
         "0",
         "0",
         "0",
         "0",
         "0",
         "0",
         "0",
         "0",
         "0",
         "0",
         "0",
         "0",
         "0",
         "0",
         "0",
         "0",
         "0",
         "0",
         "0",
         "0",
         "0",
         "0",
         "0",
         "0",
         "0",
         "0",
         "0",
         "0",
         "0",
         "0",
         "0",
         "0",
         "0",
         "0",
         "0",
         "0",
         "0",
         "0",
         "0",
         "0",
         "0",
         "0",
         "0",
         "0",
         "0",
         "0",
         "1",
         "0",
         "0",
         "0",
         "0",
         "0",
         "0",
         "0",
         "0",
         "0",
         "0",
         "0",
         "0",
         "0",
         "0",
         "0",
         "0",
         "1",
         "0",
         "0",
         "0",
         "1",
         "1",
         "0",
         "0",
         "0",
         "0",
         "0",
         "0",
         "0",
         "0",
         "0",
         "1",
         "0",
         "0",
         "0",
         "0",
         "0",
         "0",
         "0",
         "0",
         "0",
         "0",
         "0",
         "0",
         "0",
         "0",
         "0",
         "0",
         "0",
         "0",
         "0",
         "0",
         "0",
         "0",
         "0",
         "0",
         "0",
         "0",
         "0",
         "0",
         "0",
         "0",
         "1",
         "0",
         "0",
         "0",
         "0",
         "0",
         "0",
         "0",
         "0",
         "0",
         "0",
         "0",
         "0",
         "0",
         "0",
         "0",
         "0",
         "0",
         "0",
         "0",
         "0",
         "0",
         "0",
         "0",
         "0",
         "0",
         "0",
         "0",
         "0",
         "0",
         "0",
         "0",
         "0",
         "0",
         "0",
         "0",
         "0",
         "0",
         "0",
         "0",
         "0",
         "0",
         "1",
         "0",
         "1",
         "0",
         "0",
         "0",
         "0",
         "0",
         "0",
         "0",
         "0",
         "0",
         "0",
         "0",
         "0",
         "0",
         "0",
         "0",
         "0",
         "0",
         "0",
         "1",
         "0",
         "0",
         "1",
         "0",
         "0",
         "0",
         "0",
         "0",
         "0",
         "0",
         "0",
         "0",
         "0",
         "1",
         "0",
         "0",
         "0",
         "0",
         "0",
         "0",
         "0",
         "0",
         "1",
         "0",
         "0",
         "0",
         "0",
         "0",
         "1",
         "0",
         "1",
         "0",
         "0",
         "1",
         "0",
         "0",
         "0",
         "0",
         "0",
         "1",
         "0",
         "0",
         "0",
         "0",
         "0",
         "0",
         "0",
         "0",
         "0",
         "0",
         "0",
         "0",
         "0",
         "0",
         "0",
         "1",
         "0",
         "0",
         "0",
         "0",
         "0",
         "0",
         "0",
         "0",
         "0",
         "0",
         "0",
         "0",
         "0",
         "0",
         "0",
         "1",
         "0",
         "0",
         "0",
         "0",
         "0",
         "0",
         "0",
         "0",
         "0",
         "0",
         "0",
         "0",
         "0",
         "0",
         "0",
         "0",
         "1",
         "0",
         "0",
         "0",
         "0",
         "0",
         "0",
         "0",
         "0",
         "0",
         "0",
         "0",
         "0",
         "0",
         "0",
         "0",
         "0",
         "0",
         "0",
         "0",
         "0",
         "0",
         "0",
         "1",
         "0",
         "0",
         "0",
         "0",
         "0",
         "0",
         "0",
         "0",
         "0",
         "0",
         "1",
         "0",
         "0",
         "0",
         "0",
         "0",
         "0",
         "0",
         "0",
         "0",
         "0",
         "0",
         "0",
         "0",
         "0",
         "0",
         "0",
         "0",
         "0",
         "0",
         "0",
         "1",
         "0",
         "0",
         "0",
         "0",
         "0",
         "0",
         "0",
         "0",
         "0",
         "0",
         "0",
         "0",
         "0",
         "0",
         "0",
         "0",
         "0",
         "0",
         "0",
         "0",
         "0",
         "0",
         "0",
         "0",
         "0",
         "0",
         "0",
         "0",
         "0",
         "0",
         "0",
         "0",
         "1",
         "0",
         "0",
         "1",
         "0",
         "0",
         "0",
         "0",
         "0",
         "0",
         "0",
         "0",
         "0",
         "0",
         "0",
         "0",
         "0",
         "0",
         "0",
         "0",
         "0",
         "0",
         "0",
         "0",
         "0",
         "0",
         "0",
         "0",
         "0",
         "0",
         "0",
         "0",
         "0",
         "0",
         "0",
         "0",
         "0",
         "0",
         "0",
         "0",
         "0",
         "0",
         "0",
         "0",
         "0",
         "0",
         "0",
         "0",
         "0",
         "0",
         "0",
         "0",
         "0",
         "0",
         "1",
         "0",
         "0",
         "0",
         "0",
         "0",
         "0",
         "0",
         "0",
         "0",
         "0",
         "0",
         "0",
         "0",
         "1",
         "0",
         "0",
         "1",
         "0",
         "0",
         "0",
         "0",
         "0",
         "0",
         "0",
         "0",
         "0",
         "0",
         "0",
         "0",
         "0",
         "0",
         "0",
         "0",
         "0",
         "0",
         "0",
         "0",
         "0",
         "0",
         "0",
         "0",
         "0",
         "0",
         "1",
         "0",
         "0",
         "0",
         "0",
         "0",
         "0",
         "0",
         "0",
         "0",
         "0",
         "0",
         "0",
         "0",
         "0",
         "0",
         "0",
         "0",
         "0",
         "0",
         "0",
         "0",
         "0",
         "0",
         "1",
         "0",
         "0",
         "0",
         "0",
         "0",
         "0",
         "0",
         "0",
         "1",
         "0",
         "0",
         "0",
         "0",
         "0",
         "0",
         "0",
         "0",
         "0",
         "0",
         "0",
         "0",
         "0",
         "0",
         "1",
         "0",
         "1",
         "0",
         "0",
         "0",
         "1",
         "0",
         "0",
         "0",
         "0",
         "0",
         "0",
         "0",
         "0",
         "0",
         "0",
         "1",
         "0",
         "0",
         "0",
         "0",
         "0",
         "0",
         "0",
         "0",
         "0",
         "0",
         "1",
         "0",
         "0",
         "0",
         "0",
         "0",
         "0",
         "0",
         "0",
         "0",
         "0",
         "0",
         "0",
         "0",
         "0",
         "0",
         "0",
         "0",
         "0",
         "0",
         "0",
         "0",
         "0",
         "0",
         "0",
         "0",
         "0",
         "0",
         "0",
         "0",
         "0",
         "0",
         "0",
         "0",
         "0",
         "0",
         "1",
         "0",
         "0",
         "0",
         "0",
         "1",
         "0",
         "0",
         "0",
         "0",
         "0",
         "0",
         "0",
         "0",
         "0",
         "0",
         "0",
         "0",
         "0",
         "0",
         "1",
         "0",
         "0",
         "0",
         "0",
         "0",
         "0",
         "1",
         "0",
         "0",
         "0",
         "0",
         "0",
         "0",
         "0",
         "0",
         "0",
         "0",
         "0",
         "0",
         "0",
         "0",
         "0",
         "1",
         "0",
         "0",
         "1",
         "0",
         "0",
         "0",
         "0",
         "0",
         "0",
         "0",
         "0",
         "0",
         "0",
         "0",
         "0",
         "0",
         "0",
         "0",
         "0",
         "0",
         "0",
         "0",
         "0",
         "0",
         "0",
         "1",
         "0",
         "0",
         "0",
         "0",
         "0",
         "0",
         "0",
         "0",
         "0",
         "0",
         "0",
         "0",
         "0",
         "0",
         "0",
         "0",
         "0",
         "0",
         "0",
         "0",
         "0",
         "0",
         "0",
         "0",
         "0",
         "0",
         "0",
         "0",
         "0",
         "0",
         "1",
         "0",
         "0",
         "0",
         "0",
         "0",
         "0",
         "0",
         "0",
         "0",
         "0",
         "0",
         "0",
         "0",
         "0",
         "0",
         "0",
         "0",
         "0",
         "0",
         "0",
         "0",
         "0",
         "0",
         "0",
         "0",
         "0",
         "0",
         "0",
         "1",
         "0",
         "1",
         "0",
         "0",
         "0",
         "0",
         "0",
         "0",
         "1",
         "0",
         "0",
         "0",
         "0",
         "0",
         "0",
         "0",
         "0",
         "0",
         "0",
         "0",
         "0",
         "0",
         "0",
         "0",
         "0",
         "0",
         "0",
         "0",
         "0",
         "0",
         "0",
         "0",
         "0",
         "0",
         "0",
         "0",
         "0",
         "0",
         "0",
         "0",
         "1",
         "0",
         "0",
         "0",
         "0",
         "0",
         "0",
         "0",
         "0",
         "0",
         "0",
         "0",
         "0",
         "0",
         "0",
         "0",
         "0",
         "0",
         "0",
         "0",
         "0",
         "0",
         "0",
         "0",
         "0",
         "0",
         "0",
         "0",
         "0",
         "0",
         "1",
         "1",
         "0",
         "0",
         "0",
         "0",
         "0",
         "0",
         "1",
         "0",
         "0",
         "0",
         "0",
         "0",
         "0",
         "0",
         "0",
         "0",
         "0",
         "0",
         "0",
         "1",
         "0",
         "0",
         "0",
         "0",
         "0",
         "0",
         "0",
         "1",
         "0",
         "0",
         "0",
         "0",
         "0",
         "0",
         "0",
         "0",
         "0",
         "1",
         "0",
         "1",
         "0",
         "0",
         "0",
         "0",
         "0",
         "0",
         "0",
         "1",
         "0",
         "0",
         "0",
         "1",
         "1",
         "0",
         "0",
         "0",
         "0",
         "0",
         "0",
         "0",
         "0",
         "0",
         "0",
         "0",
         "0",
         "0",
         "0",
         "0",
         "0",
         "0",
         "0",
         "0",
         "0",
         "0",
         "0",
         "0",
         "0",
         "0",
         "0",
         "1",
         "0",
         "0",
         "0",
         "0",
         "0",
         "0",
         "0",
         "0",
         "1",
         "0",
         "0",
         "0",
         "0",
         "0",
         "0",
         "0",
         "1",
         "0",
         "0",
         "0",
         "0",
         "0",
         "0",
         "0",
         "0",
         "0",
         "0",
         "0",
         "0",
         "1",
         "0",
         "0",
         "0",
         "0",
         "0",
         "0",
         "0",
         "0",
         "0",
         "0",
         "0",
         "0",
         "0",
         "0",
         "0",
         "0",
         "0",
         "0",
         "0",
         "0",
         "0",
         "0",
         "0",
         "0",
         "0",
         "0",
         "0",
         "0",
         "0",
         "0",
         "0",
         "0",
         "0",
         "0",
         "0",
         "0",
         "0",
         "0",
         "0",
         "0",
         "0",
         "0",
         "0",
         "0",
         "0",
         "0",
         "0",
         "0",
         "0",
         "0",
         "0",
         "0",
         "0",
         "0",
         "1",
         "0",
         "0",
         "0",
         "0",
         "0",
         "0",
         "0",
         "0",
         "0",
         "0",
         "1",
         "0",
         "0",
         "0",
         "0",
         "0",
         "0",
         "0",
         "0",
         "0",
         "0",
         "0",
         "0",
         "0",
         "1",
         "0",
         "0",
         "0",
         "0",
         "0",
         "0",
         "0",
         "0",
         "0",
         "0",
         "0",
         "0",
         "0",
         "0",
         "0",
         "0",
         "0",
         "0",
         "0",
         "0",
         "0",
         "0",
         "1",
         "0",
         "0",
         "0",
         "0",
         "0",
         "0",
         "0",
         "0",
         "0",
         "0",
         "0",
         "0",
         "1",
         "0",
         "0",
         "0",
         "0",
         "0",
         "0",
         "0",
         "0",
         "0",
         "0",
         "0",
         "0",
         "0",
         "0",
         "0",
         "1",
         "0",
         "0",
         "0",
         "0",
         "0",
         "0",
         "0",
         "0",
         "0",
         "0",
         "0",
         "1",
         "0",
         "0",
         "0",
         "0",
         "0",
         "0",
         "0",
         "0",
         "0",
         "0",
         "1",
         "0",
         "0",
         "0",
         "0",
         "0",
         "0",
         "0",
         "0",
         "0",
         "0",
         "0",
         "0",
         "0",
         "0",
         "0",
         "0",
         "0",
         "0",
         "0",
         "0",
         "0",
         "0",
         "0",
         "0",
         "0",
         "0",
         "0",
         "0",
         "0",
         "0",
         "0",
         "0",
         "0",
         "0",
         "0",
         "0",
         "0",
         "0",
         "0",
         "0",
         "0",
         "0",
         "0",
         "0",
         "0",
         "0",
         "1",
         "0",
         "0",
         "0",
         "0",
         "0",
         "0",
         "0",
         "0",
         "1",
         "0",
         "0",
         "0",
         "0",
         "0",
         "0",
         "0",
         "0",
         "0",
         "0",
         "0",
         "0",
         "0",
         "0",
         "0",
         "0",
         "0",
         "0",
         "0",
         "0",
         "0",
         "0",
         "0",
         "0",
         "0",
         "0",
         "0",
         "1",
         "0",
         "0",
         "0",
         "1",
         "0",
         "0",
         "0",
         "0",
         "0",
         "0",
         "1",
         "0",
         "0",
         "0",
         "0",
         "0",
         "0",
         "0",
         "0",
         "0",
         "0",
         "0",
         "0",
         "0",
         "1",
         "0",
         "0",
         "0",
         "0",
         "0",
         "0",
         "0",
         "0",
         "0",
         "0",
         "0",
         "0",
         "0",
         "0",
         "1",
         "0",
         "0",
         "0",
         "0",
         "0",
         "0",
         "0",
         "0",
         "0",
         "0",
         "0",
         "0",
         "0",
         "0",
         "0",
         "0",
         "0",
         "0",
         "0",
         "0",
         "0",
         "0",
         "0",
         "0",
         "0",
         "0",
         "0",
         "0",
         "0",
         "0",
         "0",
         "0",
         "0",
         "0",
         "0",
         "0",
         "0",
         "0",
         "0",
         "0",
         "0",
         "0",
         "0",
         "0",
         "0",
         "0",
         "0",
         "0",
         "0",
         "0",
         "0",
         "0",
         "0",
         "1",
         "0",
         "0",
         "0",
         "0",
         "0",
         "0",
         "0",
         "0",
         "0",
         "0",
         "0",
         "0",
         "0",
         "0",
         "0",
         "0",
         "0",
         "0",
         "0",
         "0",
         "0",
         "0",
         "0",
         "0",
         "0",
         "0",
         "0",
         "0",
         "0",
         "0",
         "0",
         "0",
         "0",
         "0",
         "0",
         "0",
         "0",
         "0",
         "0",
         "0",
         "0",
         "0",
         "0",
         "0",
         "0",
         "0",
         "1",
         "0",
         "0",
         "0",
         "0",
         "0",
         "0",
         "0",
         "0",
         "0",
         "0",
         "0",
         "0",
         "1",
         "0",
         "1",
         "0",
         "0",
         "0",
         "0",
         "0",
         "0",
         "0",
         "0",
         "0",
         "0",
         "0",
         "0",
         "0",
         "0",
         "0",
         "0",
         "0",
         "1",
         "0",
         "0",
         "0",
         "0",
         "0",
         "0",
         "0",
         "0",
         "0",
         "0",
         "0",
         "1",
         "0",
         "0",
         "0",
         "1",
         "0",
         "0",
         "0",
         "0",
         "0",
         "0",
         "0",
         "1",
         "0",
         "0",
         "0",
         "0",
         "0",
         "0",
         "0",
         "0",
         "0",
         "0",
         "0",
         "0",
         "0",
         "0",
         "0",
         "0",
         "0",
         "0",
         "0",
         "0",
         "0",
         "0",
         "0",
         "0",
         "0",
         "0",
         "0",
         "0",
         "0",
         "0",
         "0",
         "0",
         "0",
         "0",
         "0",
         "0",
         "0",
         "0",
         "0",
         "0",
         "0",
         "0",
         "0",
         "0",
         "0",
         "0",
         "0",
         "0",
         "0",
         "0",
         "0",
         "0",
         "0",
         "0",
         "0",
         "0",
         "0",
         "0",
         "0",
         "0",
         "0",
         "0",
         "1",
         "0",
         "0",
         "0",
         "0",
         "0",
         "0",
         "0",
         "0",
         "0",
         "0",
         "0",
         "0",
         "0",
         "0",
         "1",
         "1",
         "0",
         "0",
         "0",
         "0",
         "0",
         "0",
         "0",
         "0",
         "0",
         "0",
         "0",
         "0",
         "0",
         "0",
         "1",
         "0",
         "0",
         "0",
         "0",
         "0",
         "0",
         "0",
         "0",
         "0",
         "0",
         "0",
         "0",
         "0",
         "0",
         "0",
         "0",
         "1",
         "0",
         "0",
         "0",
         "0",
         "0",
         "0",
         "0",
         "0",
         "0",
         "0",
         "0",
         "0",
         "0",
         "0",
         "0",
         "0",
         "0",
         "0",
         "0",
         "0",
         "0",
         "0",
         "0",
         "0",
         "0",
         "0",
         "0",
         "0",
         "0",
         "0",
         "0",
         "0",
         "0",
         "0",
         "0",
         "0",
         "0",
         "1",
         "0",
         "0",
         "0",
         "1",
         "0",
         "1",
         "0",
         "0",
         "0",
         "0",
         "0",
         "0",
         "0",
         "0",
         "0",
         "0",
         "1",
         "0",
         "1",
         "0",
         "0",
         "0",
         "0",
         "0",
         "0",
         "0",
         "0",
         "0",
         "0",
         "0",
         "0",
         "0",
         "0",
         "0",
         "0",
         "0",
         "0",
         "0",
         "0",
         "0",
         "0",
         "0",
         "0",
         "0",
         "0",
         "0",
         "0",
         "0",
         "0",
         "0",
         "1",
         "0",
         "0",
         "0",
         "0",
         "0",
         "0",
         "0",
         "0",
         "0",
         "0",
         "0",
         "0",
         "0",
         "0",
         "0",
         "0",
         "0",
         "0",
         "0",
         "0",
         "0",
         "0",
         "0",
         "0",
         "0",
         "0",
         "0",
         "0",
         "0",
         "0",
         "0",
         "0",
         "0",
         "0",
         "1",
         "0",
         "0",
         "0",
         "0",
         "0",
         "0",
         "0",
         "0",
         "0",
         "0",
         "0",
         "0",
         "0",
         "0",
         "0",
         "0",
         "0",
         "0",
         "0",
         "0",
         "0",
         "0",
         "0",
         "1",
         "0",
         "0",
         "0",
         "0",
         "0",
         "0",
         "0",
         "0",
         "0",
         "0",
         "0",
         "0",
         "0",
         "0",
         "0",
         "0",
         "0",
         "0",
         "0",
         "0",
         "0",
         "0",
         "0",
         "0",
         "0",
         "0",
         "0",
         "650.708",
         "2",
         "2",
         "8",
         "14",
         "17.84",
         "20.64",
         "13.63",
         "9.34",
         "2.61",
         "3.24",
         "11.6",
         "15.06",
         "-4.8",
         "-3.27",
         "140.82999999999998",
         "-5.5",
         "-5.5",
         "3",
         "15",
         "3",
         "19",
         "2",
         "0.4848484848484848",
         "0",
         "2",
         "2",
         "4",
         "1",
         "6",
         "2",
         "11"
        ],
        [
         "1",
         "66.23493706",
         "8.333819159",
         "14.85649654107394",
         "14.85649654107394",
         "0.2153151430630162",
         "-0.684508765928453",
         "0.2296477908976834",
         "20.43478260869565",
         "636.7250000000004",
         "595.3970000000003",
         "636.307161252",
         "246",
         "0",
         "0.4142977688257768",
         "-0.4425729032796571",
         "0.4425729032796571",
         "0.4142977688257768",
         "0.9782608695652174",
         "1.7826086956521738",
         "2.565217391304348",
         "3.5405939006625924",
         "0.9066876053857174",
         "1663.950058964896",
         "-4.23",
         "28829006738.20916",
         "31.740309580696163",
         "14.040317284793243",
         "6.798597981426397",
         "265.95836802953",
         "127.14",
         "0.5151515151515151",
         "46",
         "2",
         "12",
         "0",
         "3",
         "3",
         "3",
         "2",
         "1",
         "3",
         "2",
         "0",
         "10",
         "2",
         "13",
         "4",
         "12",
         "0",
         "3",
         "3",
         "0",
         "1",
         "9.68791341805515",
         "6",
         "3.0113000000000003",
         "170.68839999999958",
         "0",
         "0",
         "0",
         "0",
         "0",
         "2",
         "0",
         "0",
         "0",
         "0",
         "3",
         "3",
         "0",
         "0",
         "0",
         "4",
         "2",
         "0",
         "0",
         "0",
         "0",
         "0",
         "0",
         "0",
         "0",
         "0",
         "0",
         "3",
         "0",
         "2",
         "2",
         "0",
         "0",
         "0",
         "2",
         "0",
         "1",
         "0",
         "0",
         "0",
         "0",
         "2",
         "0",
         "0",
         "1",
         "0",
         "0",
         "1",
         "1",
         "0",
         "0",
         "0",
         "0",
         "0",
         "1",
         "0",
         "1",
         "0",
         "0",
         "0",
         "0",
         "0",
         "0",
         "0",
         "0",
         "0",
         "0",
         "0",
         "0",
         "1",
         "0",
         "0",
         "0",
         "0",
         "0",
         "0",
         "0",
         "0",
         "0",
         "0",
         "0",
         "0",
         "0",
         "3",
         "0",
         "0",
         "0",
         "0",
         "0",
         "0",
         "0",
         "0",
         "0",
         "1",
         "0",
         "0",
         "0",
         "0",
         "0",
         "0",
         "0",
         "0",
         "0",
         "0",
         "0",
         "0",
         "0",
         "0",
         "0",
         "0",
         "0",
         "0",
         "0",
         "0",
         "0",
         "0",
         "0",
         "0",
         "0",
         "0",
         "0",
         "0",
         "0",
         "0",
         "0",
         "0",
         "0",
         "0",
         "0",
         "0",
         "1",
         "0",
         "0",
         "0",
         "0",
         "0",
         "0",
         "0",
         "0",
         "0",
         "0",
         "0",
         "0",
         "0",
         "0",
         "0",
         "0",
         "0",
         "0",
         "0",
         "0",
         "1",
         "0",
         "0",
         "0",
         "0",
         "0",
         "0",
         "0",
         "0",
         "0",
         "0",
         "0",
         "0",
         "0",
         "1",
         "0",
         "0",
         "0",
         "0",
         "0",
         "0",
         "0",
         "0",
         "0",
         "0",
         "0",
         "0",
         "0",
         "0",
         "0",
         "0",
         "0",
         "0",
         "0",
         "0",
         "0",
         "0",
         "0",
         "1",
         "0",
         "0",
         "0",
         "0",
         "0",
         "0",
         "0",
         "0",
         "0",
         "0",
         "0",
         "1",
         "0",
         "0",
         "0",
         "0",
         "0",
         "0",
         "0",
         "0",
         "0",
         "0",
         "0",
         "0",
         "0",
         "0",
         "0",
         "0",
         "0",
         "0",
         "0",
         "0",
         "0",
         "0",
         "0",
         "0",
         "0",
         "0",
         "0",
         "0",
         "0",
         "0",
         "0",
         "0",
         "0",
         "0",
         "0",
         "0",
         "0",
         "0",
         "0",
         "0",
         "0",
         "0",
         "0",
         "0",
         "0",
         "0",
         "0",
         "1",
         "0",
         "0",
         "0",
         "0",
         "0",
         "0",
         "0",
         "0",
         "0",
         "0",
         "0",
         "0",
         "0",
         "0",
         "0",
         "0",
         "0",
         "0",
         "0",
         "0",
         "0",
         "0",
         "0",
         "0",
         "1",
         "0",
         "0",
         "0",
         "0",
         "0",
         "0",
         "0",
         "0",
         "0",
         "0",
         "0",
         "0",
         "0",
         "0",
         "0",
         "0",
         "0",
         "0",
         "0",
         "0",
         "0",
         "0",
         "0",
         "1",
         "0",
         "0",
         "0",
         "0",
         "0",
         "0",
         "0",
         "0",
         "0",
         "0",
         "0",
         "0",
         "0",
         "0",
         "0",
         "0",
         "0",
         "1",
         "0",
         "1",
         "0",
         "0",
         "0",
         "1",
         "0",
         "0",
         "0",
         "0",
         "0",
         "0",
         "0",
         "0",
         "0",
         "0",
         "0",
         "0",
         "0",
         "0",
         "0",
         "0",
         "0",
         "0",
         "0",
         "0",
         "0",
         "0",
         "0",
         "0",
         "0",
         "0",
         "0",
         "0",
         "0",
         "0",
         "1",
         "0",
         "0",
         "0",
         "0",
         "0",
         "0",
         "0",
         "0",
         "0",
         "0",
         "0",
         "0",
         "0",
         "0",
         "0",
         "0",
         "0",
         "0",
         "0",
         "0",
         "0",
         "0",
         "0",
         "0",
         "1",
         "0",
         "0",
         "0",
         "0",
         "0",
         "0",
         "0",
         "0",
         "0",
         "0",
         "0",
         "0",
         "0",
         "0",
         "0",
         "0",
         "1",
         "0",
         "1",
         "0",
         "1",
         "0",
         "0",
         "0",
         "0",
         "0",
         "0",
         "0",
         "0",
         "0",
         "0",
         "0",
         "0",
         "0",
         "0",
         "0",
         "0",
         "0",
         "0",
         "0",
         "0",
         "0",
         "0",
         "0",
         "0",
         "0",
         "0",
         "0",
         "0",
         "0",
         "0",
         "0",
         "0",
         "0",
         "0",
         "0",
         "0",
         "0",
         "0",
         "0",
         "0",
         "0",
         "0",
         "0",
         "0",
         "0",
         "0",
         "0",
         "0",
         "0",
         "0",
         "0",
         "0",
         "0",
         "0",
         "0",
         "0",
         "0",
         "0",
         "0",
         "0",
         "0",
         "0",
         "0",
         "0",
         "0",
         "0",
         "0",
         "0",
         "0",
         "0",
         "0",
         "0",
         "0",
         "0",
         "0",
         "0",
         "0",
         "0",
         "0",
         "1",
         "0",
         "0",
         "0",
         "0",
         "0",
         "0",
         "0",
         "0",
         "0",
         "0",
         "0",
         "0",
         "1",
         "0",
         "0",
         "0",
         "0",
         "0",
         "0",
         "0",
         "0",
         "0",
         "0",
         "0",
         "0",
         "0",
         "0",
         "0",
         "0",
         "0",
         "0",
         "0",
         "0",
         "0",
         "0",
         "0",
         "0",
         "0",
         "0",
         "0",
         "0",
         "0",
         "0",
         "0",
         "0",
         "0",
         "0",
         "0",
         "0",
         "0",
         "0",
         "0",
         "0",
         "0",
         "0",
         "0",
         "0",
         "0",
         "0",
         "1",
         "0",
         "0",
         "0",
         "0",
         "0",
         "0",
         "0",
         "0",
         "0",
         "0",
         "0",
         "0",
         "0",
         "0",
         "0",
         "0",
         "0",
         "0",
         "0",
         "0",
         "0",
         "0",
         "0",
         "0",
         "0",
         "0",
         "0",
         "0",
         "0",
         "0",
         "0",
         "0",
         "0",
         "0",
         "0",
         "0",
         "0",
         "0",
         "0",
         "0",
         "1",
         "0",
         "0",
         "0",
         "0",
         "0",
         "1",
         "0",
         "0",
         "0",
         "0",
         "0",
         "0",
         "0",
         "0",
         "0",
         "0",
         "0",
         "0",
         "0",
         "0",
         "0",
         "0",
         "1",
         "0",
         "0",
         "0",
         "1",
         "1",
         "0",
         "0",
         "0",
         "0",
         "0",
         "0",
         "0",
         "0",
         "0",
         "1",
         "0",
         "0",
         "0",
         "0",
         "0",
         "0",
         "0",
         "0",
         "0",
         "0",
         "0",
         "0",
         "0",
         "0",
         "0",
         "0",
         "0",
         "0",
         "0",
         "0",
         "0",
         "0",
         "0",
         "0",
         "0",
         "0",
         "0",
         "0",
         "0",
         "0",
         "1",
         "0",
         "0",
         "0",
         "0",
         "0",
         "0",
         "0",
         "0",
         "0",
         "0",
         "0",
         "0",
         "0",
         "0",
         "0",
         "0",
         "0",
         "0",
         "0",
         "0",
         "0",
         "0",
         "0",
         "0",
         "0",
         "0",
         "0",
         "1",
         "0",
         "0",
         "0",
         "0",
         "0",
         "0",
         "0",
         "0",
         "0",
         "0",
         "0",
         "0",
         "0",
         "1",
         "0",
         "1",
         "0",
         "0",
         "0",
         "0",
         "0",
         "0",
         "0",
         "0",
         "0",
         "0",
         "0",
         "0",
         "0",
         "0",
         "0",
         "0",
         "0",
         "0",
         "1",
         "0",
         "0",
         "1",
         "0",
         "0",
         "0",
         "0",
         "0",
         "0",
         "0",
         "0",
         "0",
         "0",
         "1",
         "0",
         "0",
         "0",
         "0",
         "0",
         "0",
         "0",
         "0",
         "1",
         "0",
         "0",
         "0",
         "0",
         "0",
         "1",
         "0",
         "1",
         "0",
         "0",
         "1",
         "0",
         "0",
         "0",
         "0",
         "0",
         "1",
         "0",
         "0",
         "0",
         "0",
         "0",
         "0",
         "0",
         "0",
         "0",
         "0",
         "0",
         "0",
         "0",
         "0",
         "0",
         "1",
         "0",
         "0",
         "0",
         "0",
         "0",
         "0",
         "0",
         "0",
         "0",
         "0",
         "0",
         "0",
         "0",
         "0",
         "0",
         "1",
         "0",
         "0",
         "0",
         "0",
         "0",
         "0",
         "0",
         "0",
         "0",
         "0",
         "0",
         "0",
         "0",
         "0",
         "0",
         "0",
         "1",
         "0",
         "0",
         "0",
         "0",
         "0",
         "0",
         "0",
         "0",
         "0",
         "0",
         "0",
         "0",
         "0",
         "0",
         "0",
         "0",
         "0",
         "0",
         "0",
         "0",
         "0",
         "0",
         "1",
         "0",
         "0",
         "0",
         "0",
         "0",
         "0",
         "0",
         "0",
         "0",
         "0",
         "1",
         "0",
         "0",
         "0",
         "0",
         "0",
         "0",
         "0",
         "0",
         "0",
         "0",
         "0",
         "0",
         "0",
         "0",
         "0",
         "0",
         "0",
         "0",
         "0",
         "0",
         "1",
         "0",
         "0",
         "0",
         "0",
         "0",
         "0",
         "0",
         "0",
         "0",
         "0",
         "0",
         "0",
         "0",
         "0",
         "0",
         "0",
         "0",
         "0",
         "0",
         "0",
         "0",
         "0",
         "0",
         "0",
         "0",
         "0",
         "0",
         "0",
         "0",
         "0",
         "1",
         "0",
         "1",
         "0",
         "0",
         "0",
         "0",
         "0",
         "0",
         "0",
         "0",
         "0",
         "0",
         "0",
         "0",
         "0",
         "0",
         "0",
         "0",
         "0",
         "0",
         "0",
         "0",
         "0",
         "0",
         "0",
         "0",
         "0",
         "0",
         "0",
         "0",
         "0",
         "0",
         "0",
         "0",
         "0",
         "0",
         "0",
         "0",
         "0",
         "0",
         "0",
         "0",
         "0",
         "0",
         "0",
         "0",
         "0",
         "0",
         "0",
         "0",
         "0",
         "0",
         "0",
         "0",
         "0",
         "1",
         "0",
         "0",
         "0",
         "0",
         "0",
         "0",
         "0",
         "0",
         "0",
         "0",
         "0",
         "0",
         "0",
         "1",
         "0",
         "0",
         "1",
         "0",
         "0",
         "0",
         "0",
         "0",
         "0",
         "0",
         "0",
         "0",
         "0",
         "0",
         "0",
         "0",
         "0",
         "0",
         "0",
         "0",
         "0",
         "0",
         "0",
         "0",
         "0",
         "0",
         "0",
         "0",
         "0",
         "1",
         "0",
         "0",
         "0",
         "0",
         "0",
         "0",
         "0",
         "0",
         "0",
         "0",
         "0",
         "0",
         "0",
         "0",
         "0",
         "0",
         "0",
         "0",
         "0",
         "0",
         "0",
         "0",
         "0",
         "1",
         "0",
         "0",
         "0",
         "0",
         "0",
         "0",
         "0",
         "0",
         "1",
         "0",
         "0",
         "0",
         "0",
         "0",
         "0",
         "0",
         "0",
         "0",
         "0",
         "0",
         "0",
         "0",
         "0",
         "1",
         "0",
         "1",
         "0",
         "0",
         "0",
         "1",
         "0",
         "0",
         "1",
         "0",
         "0",
         "0",
         "0",
         "0",
         "0",
         "0",
         "0",
         "0",
         "0",
         "0",
         "0",
         "0",
         "0",
         "0",
         "0",
         "0",
         "0",
         "1",
         "0",
         "0",
         "0",
         "0",
         "0",
         "0",
         "0",
         "0",
         "0",
         "0",
         "0",
         "0",
         "0",
         "0",
         "0",
         "0",
         "0",
         "0",
         "0",
         "0",
         "0",
         "0",
         "0",
         "0",
         "0",
         "1",
         "0",
         "0",
         "0",
         "0",
         "0",
         "0",
         "0",
         "0",
         "0",
         "1",
         "0",
         "0",
         "0",
         "0",
         "1",
         "0",
         "0",
         "0",
         "0",
         "0",
         "0",
         "0",
         "0",
         "0",
         "0",
         "0",
         "0",
         "0",
         "0",
         "1",
         "0",
         "0",
         "0",
         "0",
         "0",
         "0",
         "1",
         "0",
         "0",
         "0",
         "0",
         "0",
         "0",
         "0",
         "0",
         "0",
         "0",
         "0",
         "0",
         "0",
         "0",
         "0",
         "1",
         "0",
         "0",
         "1",
         "0",
         "0",
         "0",
         "0",
         "0",
         "0",
         "0",
         "0",
         "0",
         "0",
         "0",
         "0",
         "0",
         "0",
         "0",
         "0",
         "0",
         "0",
         "0",
         "0",
         "0",
         "0",
         "1",
         "0",
         "0",
         "0",
         "0",
         "0",
         "0",
         "0",
         "0",
         "0",
         "0",
         "0",
         "0",
         "0",
         "0",
         "0",
         "0",
         "0",
         "0",
         "0",
         "0",
         "0",
         "0",
         "0",
         "0",
         "0",
         "0",
         "0",
         "0",
         "0",
         "0",
         "1",
         "0",
         "0",
         "0",
         "0",
         "0",
         "0",
         "0",
         "0",
         "0",
         "0",
         "0",
         "0",
         "0",
         "0",
         "0",
         "0",
         "0",
         "0",
         "0",
         "0",
         "0",
         "0",
         "0",
         "0",
         "0",
         "0",
         "0",
         "0",
         "1",
         "0",
         "1",
         "0",
         "0",
         "0",
         "0",
         "0",
         "0",
         "1",
         "0",
         "0",
         "0",
         "0",
         "0",
         "0",
         "0",
         "0",
         "0",
         "1",
         "0",
         "0",
         "0",
         "0",
         "0",
         "0",
         "0",
         "0",
         "0",
         "0",
         "0",
         "0",
         "0",
         "0",
         "0",
         "0",
         "0",
         "0",
         "0",
         "0",
         "0",
         "1",
         "0",
         "0",
         "0",
         "0",
         "0",
         "0",
         "0",
         "0",
         "0",
         "0",
         "0",
         "0",
         "0",
         "0",
         "0",
         "0",
         "0",
         "0",
         "0",
         "0",
         "0",
         "0",
         "0",
         "0",
         "0",
         "0",
         "0",
         "0",
         "0",
         "1",
         "0",
         "0",
         "0",
         "0",
         "0",
         "0",
         "0",
         "1",
         "0",
         "0",
         "0",
         "0",
         "0",
         "0",
         "0",
         "0",
         "0",
         "0",
         "0",
         "0",
         "1",
         "0",
         "0",
         "0",
         "0",
         "0",
         "0",
         "0",
         "1",
         "0",
         "0",
         "0",
         "0",
         "0",
         "0",
         "0",
         "0",
         "0",
         "1",
         "0",
         "1",
         "0",
         "0",
         "0",
         "0",
         "0",
         "0",
         "0",
         "1",
         "0",
         "0",
         "0",
         "0",
         "1",
         "0",
         "0",
         "0",
         "0",
         "0",
         "0",
         "0",
         "0",
         "0",
         "0",
         "0",
         "0",
         "0",
         "0",
         "0",
         "0",
         "0",
         "0",
         "0",
         "0",
         "0",
         "0",
         "0",
         "0",
         "0",
         "0",
         "1",
         "0",
         "0",
         "0",
         "0",
         "0",
         "0",
         "0",
         "0",
         "1",
         "0",
         "0",
         "0",
         "0",
         "0",
         "0",
         "0",
         "1",
         "0",
         "0",
         "0",
         "0",
         "0",
         "0",
         "0",
         "0",
         "0",
         "0",
         "0",
         "0",
         "1",
         "0",
         "0",
         "0",
         "0",
         "0",
         "0",
         "0",
         "0",
         "0",
         "0",
         "0",
         "0",
         "0",
         "0",
         "0",
         "0",
         "0",
         "0",
         "0",
         "0",
         "0",
         "0",
         "0",
         "0",
         "0",
         "0",
         "0",
         "0",
         "0",
         "0",
         "0",
         "0",
         "0",
         "0",
         "0",
         "0",
         "0",
         "0",
         "0",
         "0",
         "0",
         "0",
         "0",
         "0",
         "0",
         "0",
         "0",
         "0",
         "0",
         "0",
         "0",
         "0",
         "0",
         "0",
         "1",
         "0",
         "0",
         "0",
         "0",
         "0",
         "0",
         "0",
         "0",
         "0",
         "0",
         "1",
         "0",
         "0",
         "0",
         "0",
         "0",
         "0",
         "0",
         "0",
         "0",
         "0",
         "0",
         "0",
         "0",
         "1",
         "0",
         "0",
         "0",
         "0",
         "0",
         "0",
         "0",
         "0",
         "0",
         "0",
         "0",
         "0",
         "0",
         "0",
         "0",
         "0",
         "0",
         "0",
         "0",
         "0",
         "0",
         "0",
         "1",
         "0",
         "0",
         "0",
         "0",
         "0",
         "0",
         "0",
         "0",
         "0",
         "0",
         "0",
         "0",
         "1",
         "0",
         "0",
         "0",
         "0",
         "0",
         "0",
         "0",
         "0",
         "0",
         "0",
         "0",
         "0",
         "0",
         "0",
         "0",
         "1",
         "0",
         "0",
         "0",
         "0",
         "0",
         "0",
         "0",
         "0",
         "0",
         "0",
         "0",
         "1",
         "0",
         "0",
         "0",
         "0",
         "0",
         "0",
         "0",
         "0",
         "0",
         "0",
         "1",
         "0",
         "0",
         "0",
         "0",
         "0",
         "0",
         "0",
         "0",
         "0",
         "0",
         "0",
         "0",
         "0",
         "0",
         "0",
         "0",
         "0",
         "0",
         "0",
         "0",
         "0",
         "0",
         "0",
         "0",
         "0",
         "0",
         "0",
         "0",
         "0",
         "0",
         "0",
         "0",
         "0",
         "0",
         "0",
         "0",
         "0",
         "0",
         "0",
         "0",
         "0",
         "0",
         "0",
         "0",
         "0",
         "0",
         "0",
         "0",
         "0",
         "0",
         "0",
         "0",
         "0",
         "0",
         "0",
         "1",
         "0",
         "0",
         "0",
         "0",
         "0",
         "0",
         "0",
         "0",
         "0",
         "0",
         "0",
         "0",
         "0",
         "0",
         "0",
         "0",
         "0",
         "0",
         "0",
         "0",
         "0",
         "0",
         "0",
         "0",
         "0",
         "0",
         "0",
         "0",
         "0",
         "0",
         "0",
         "1",
         "0",
         "0",
         "0",
         "0",
         "0",
         "0",
         "1",
         "0",
         "0",
         "0",
         "0",
         "0",
         "0",
         "0",
         "0",
         "0",
         "0",
         "0",
         "0",
         "0",
         "0",
         "0",
         "0",
         "0",
         "0",
         "0",
         "0",
         "0",
         "0",
         "0",
         "0",
         "0",
         "0",
         "0",
         "0",
         "1",
         "0",
         "0",
         "0",
         "0",
         "0",
         "0",
         "0",
         "0",
         "0",
         "0",
         "0",
         "0",
         "0",
         "0",
         "0",
         "0",
         "0",
         "0",
         "0",
         "0",
         "0",
         "0",
         "0",
         "0",
         "0",
         "0",
         "0",
         "0",
         "0",
         "0",
         "0",
         "0",
         "0",
         "0",
         "0",
         "0",
         "0",
         "0",
         "0",
         "0",
         "0",
         "0",
         "0",
         "0",
         "0",
         "0",
         "0",
         "0",
         "0",
         "0",
         "0",
         "0",
         "0",
         "1",
         "0",
         "0",
         "0",
         "0",
         "0",
         "0",
         "0",
         "0",
         "0",
         "0",
         "0",
         "0",
         "0",
         "0",
         "0",
         "0",
         "0",
         "0",
         "0",
         "0",
         "0",
         "0",
         "0",
         "0",
         "0",
         "0",
         "0",
         "0",
         "0",
         "0",
         "0",
         "0",
         "0",
         "0",
         "0",
         "0",
         "0",
         "0",
         "0",
         "0",
         "0",
         "0",
         "0",
         "0",
         "0",
         "0",
         "1",
         "0",
         "0",
         "0",
         "0",
         "0",
         "0",
         "0",
         "0",
         "0",
         "0",
         "0",
         "0",
         "0",
         "0",
         "0",
         "0",
         "0",
         "0",
         "0",
         "0",
         "0",
         "0",
         "0",
         "0",
         "0",
         "0",
         "0",
         "0",
         "0",
         "0",
         "0",
         "0",
         "1",
         "0",
         "0",
         "0",
         "0",
         "0",
         "0",
         "0",
         "0",
         "0",
         "0",
         "0",
         "1",
         "0",
         "0",
         "0",
         "1",
         "0",
         "0",
         "0",
         "0",
         "0",
         "0",
         "0",
         "1",
         "0",
         "0",
         "0",
         "0",
         "0",
         "0",
         "0",
         "0",
         "0",
         "0",
         "0",
         "0",
         "0",
         "0",
         "0",
         "0",
         "1",
         "0",
         "0",
         "0",
         "0",
         "0",
         "0",
         "0",
         "0",
         "0",
         "0",
         "0",
         "0",
         "0",
         "0",
         "0",
         "0",
         "0",
         "0",
         "0",
         "0",
         "0",
         "0",
         "0",
         "0",
         "0",
         "0",
         "0",
         "0",
         "0",
         "0",
         "0",
         "0",
         "0",
         "0",
         "0",
         "0",
         "0",
         "0",
         "0",
         "0",
         "0",
         "0",
         "0",
         "0",
         "0",
         "1",
         "0",
         "0",
         "0",
         "0",
         "0",
         "0",
         "0",
         "0",
         "0",
         "0",
         "0",
         "0",
         "0",
         "0",
         "1",
         "0",
         "0",
         "0",
         "0",
         "0",
         "0",
         "0",
         "0",
         "0",
         "0",
         "0",
         "0",
         "0",
         "0",
         "0",
         "0",
         "0",
         "0",
         "0",
         "0",
         "0",
         "0",
         "0",
         "0",
         "0",
         "0",
         "0",
         "0",
         "0",
         "0",
         "0",
         "0",
         "1",
         "0",
         "0",
         "0",
         "0",
         "0",
         "0",
         "0",
         "0",
         "0",
         "0",
         "0",
         "0",
         "0",
         "0",
         "0",
         "0",
         "0",
         "0",
         "0",
         "0",
         "0",
         "0",
         "0",
         "0",
         "0",
         "0",
         "0",
         "0",
         "0",
         "0",
         "0",
         "0",
         "0",
         "0",
         "0",
         "0",
         "0",
         "1",
         "0",
         "0",
         "0",
         "1",
         "0",
         "0",
         "0",
         "0",
         "0",
         "0",
         "0",
         "0",
         "0",
         "0",
         "0",
         "0",
         "1",
         "0",
         "1",
         "0",
         "0",
         "0",
         "0",
         "0",
         "0",
         "0",
         "0",
         "0",
         "0",
         "0",
         "0",
         "0",
         "0",
         "0",
         "0",
         "0",
         "0",
         "0",
         "0",
         "0",
         "0",
         "0",
         "0",
         "0",
         "0",
         "0",
         "0",
         "0",
         "0",
         "0",
         "1",
         "0",
         "0",
         "0",
         "0",
         "0",
         "0",
         "0",
         "0",
         "0",
         "0",
         "0",
         "0",
         "0",
         "0",
         "0",
         "0",
         "0",
         "0",
         "0",
         "0",
         "0",
         "0",
         "0",
         "0",
         "0",
         "0",
         "0",
         "1",
         "0",
         "0",
         "0",
         "0",
         "0",
         "0",
         "1",
         "0",
         "0",
         "0",
         "0",
         "0",
         "0",
         "0",
         "0",
         "0",
         "0",
         "0",
         "0",
         "0",
         "0",
         "0",
         "0",
         "0",
         "0",
         "0",
         "0",
         "0",
         "0",
         "0",
         "1",
         "0",
         "0",
         "0",
         "0",
         "0",
         "0",
         "0",
         "0",
         "0",
         "0",
         "0",
         "0",
         "0",
         "0",
         "0",
         "0",
         "0",
         "0",
         "0",
         "0",
         "0",
         "0",
         "0",
         "0",
         "0",
         "0",
         "1",
         "636.725",
         "2",
         "3",
         "7",
         "12",
         "17.49",
         "20.17",
         "13.49",
         "9.64",
         "1.48",
         "4.0",
         "11.6",
         "16.83",
         "-7.41",
         "-4.8",
         "123.76",
         "-5.34",
         "-3.4",
         "3",
         "15",
         "3",
         "18",
         "2",
         "0.5151515151515151",
         "0",
         "2",
         "2",
         "4",
         "1",
         "6",
         "2",
         "12"
        ],
        [
         "2",
         "22.74431405",
         "0.0540865675",
         "13.13531675244414",
         "13.13531675244414",
         "0.0654346688713212",
         "-3.567807606455703",
         "0.0604394536887127",
         "16.555555555555557",
         "899.5589999999999",
         "840.0869999999998",
         "898.396680288",
         "336",
         "0",
         "0.3290848062352085",
         "-0.4888217167567875",
         "0.4888217167567875",
         "0.3290848062352085",
         "0.9047619047619048",
         "1.6507936507936507",
         "2.380952380952381",
         "3.4882533357834635",
         "0.9121127243397734",
         "2652.0963635359394",
         "-5.25",
         "60678022940422.31",
         "45.76393310265283",
         "19.647041930925013",
         "10.423469387755102",
         "374.2555424042628",
         "169.55",
         "0.4680851063829787",
         "63",
         "3",
         "14",
         "0",
         "2",
         "2",
         "2",
         "3",
         "2",
         "5",
         "1",
         "0",
         "13",
         "3",
         "16",
         "4",
         "17",
         "0",
         "2",
         "2",
         "0",
         "1",
         "14.271839882410594",
         "7",
         "8.508520000000006",
         "248.50089999999932",
         "0",
         "0",
         "0",
         "0",
         "0",
         "4",
         "0",
         "0",
         "0",
         "0",
         "2",
         "2",
         "0",
         "0",
         "0",
         "5",
         "3",
         "0",
         "0",
         "0",
         "1",
         "0",
         "0",
         "0",
         "0",
         "0",
         "0",
         "2",
         "0",
         "4",
         "3",
         "0",
         "0",
         "0",
         "3",
         "0",
         "1",
         "0",
         "0",
         "0",
         "0",
         "1",
         "0",
         "0",
         "1",
         "0",
         "0",
         "1",
         "1",
         "0",
         "0",
         "0",
         "0",
         "0",
         "0",
         "0",
         "0",
         "0",
         "0",
         "0",
         "0",
         "0",
         "0",
         "0",
         "1",
         "0",
         "0",
         "0",
         "0",
         "2",
         "0",
         "0",
         "0",
         "0",
         "0",
         "0",
         "0",
         "1",
         "0",
         "0",
         "0",
         "0",
         "0",
         "3",
         "0",
         "0",
         "1",
         "0",
         "0",
         "0",
         "0",
         "0",
         "0",
         "0",
         "0",
         "0",
         "0",
         "0",
         "0",
         "0",
         "0",
         "0",
         "0",
         "0",
         "0",
         "0",
         "0",
         "0",
         "0",
         "0",
         "0",
         "0",
         "1",
         "0",
         "0",
         "0",
         "0",
         "0",
         "0",
         "1",
         "0",
         "0",
         "0",
         "0",
         "0",
         "0",
         "0",
         "0",
         "0",
         "0",
         "1",
         "0",
         "0",
         "0",
         "0",
         "0",
         "0",
         "0",
         "0",
         "0",
         "1",
         "0",
         "0",
         "0",
         "0",
         "0",
         "0",
         "0",
         "0",
         "0",
         "0",
         "0",
         "0",
         "0",
         "0",
         "0",
         "0",
         "0",
         "0",
         "0",
         "0",
         "0",
         "0",
         "0",
         "0",
         "1",
         "0",
         "0",
         "0",
         "0",
         "0",
         "0",
         "0",
         "0",
         "0",
         "0",
         "0",
         "0",
         "0",
         "0",
         "0",
         "0",
         "0",
         "0",
         "0",
         "0",
         "0",
         "0",
         "0",
         "1",
         "1",
         "0",
         "0",
         "0",
         "0",
         "0",
         "0",
         "0",
         "0",
         "0",
         "0",
         "1",
         "0",
         "0",
         "0",
         "0",
         "0",
         "0",
         "0",
         "0",
         "0",
         "0",
         "0",
         "0",
         "0",
         "0",
         "0",
         "0",
         "0",
         "0",
         "0",
         "0",
         "0",
         "0",
         "0",
         "0",
         "0",
         "0",
         "0",
         "0",
         "0",
         "0",
         "0",
         "0",
         "0",
         "0",
         "0",
         "0",
         "0",
         "0",
         "0",
         "0",
         "0",
         "0",
         "0",
         "0",
         "0",
         "0",
         "0",
         "0",
         "0",
         "0",
         "1",
         "0",
         "0",
         "0",
         "0",
         "0",
         "0",
         "0",
         "0",
         "0",
         "0",
         "0",
         "0",
         "0",
         "0",
         "0",
         "0",
         "0",
         "0",
         "0",
         "0",
         "0",
         "1",
         "0",
         "0",
         "0",
         "0",
         "0",
         "0",
         "0",
         "0",
         "0",
         "0",
         "0",
         "0",
         "0",
         "0",
         "0",
         "0",
         "0",
         "0",
         "0",
         "0",
         "0",
         "0",
         "0",
         "0",
         "0",
         "0",
         "0",
         "0",
         "0",
         "0",
         "0",
         "0",
         "0",
         "0",
         "0",
         "0",
         "0",
         "0",
         "0",
         "0",
         "0",
         "0",
         "0",
         "1",
         "0",
         "0",
         "0",
         "1",
         "0",
         "0",
         "0",
         "0",
         "0",
         "0",
         "0",
         "0",
         "0",
         "0",
         "0",
         "0",
         "0",
         "0",
         "0",
         "0",
         "0",
         "0",
         "0",
         "0",
         "0",
         "0",
         "0",
         "0",
         "0",
         "0",
         "0",
         "0",
         "0",
         "0",
         "0",
         "0",
         "0",
         "0",
         "0",
         "0",
         "0",
         "0",
         "0",
         "0",
         "0",
         "0",
         "0",
         "0",
         "0",
         "1",
         "0",
         "0",
         "0",
         "0",
         "0",
         "0",
         "0",
         "0",
         "0",
         "0",
         "0",
         "0",
         "0",
         "0",
         "0",
         "0",
         "0",
         "0",
         "1",
         "0",
         "0",
         "0",
         "0",
         "0",
         "0",
         "0",
         "1",
         "0",
         "0",
         "0",
         "1",
         "0",
         "0",
         "0",
         "0",
         "0",
         "0",
         "0",
         "0",
         "0",
         "0",
         "0",
         "0",
         "0",
         "0",
         "0",
         "0",
         "0",
         "0",
         "0",
         "0",
         "0",
         "0",
         "0",
         "0",
         "0",
         "0",
         "0",
         "0",
         "0",
         "0",
         "0",
         "0",
         "0",
         "0",
         "0",
         "1",
         "0",
         "0",
         "0",
         "0",
         "0",
         "0",
         "0",
         "0",
         "0",
         "0",
         "0",
         "0",
         "0",
         "0",
         "1",
         "1",
         "0",
         "0",
         "0",
         "0",
         "0",
         "0",
         "0",
         "0",
         "0",
         "0",
         "0",
         "1",
         "0",
         "0",
         "0",
         "0",
         "0",
         "0",
         "0",
         "0",
         "0",
         "0",
         "0",
         "0",
         "0",
         "1",
         "0",
         "1",
         "0",
         "0",
         "0",
         "0",
         "0",
         "0",
         "0",
         "0",
         "0",
         "0",
         "0",
         "0",
         "0",
         "0",
         "1",
         "0",
         "0",
         "0",
         "0",
         "0",
         "0",
         "0",
         "0",
         "0",
         "0",
         "0",
         "0",
         "0",
         "0",
         "0",
         "0",
         "0",
         "0",
         "0",
         "0",
         "0",
         "0",
         "0",
         "0",
         "0",
         "0",
         "0",
         "0",
         "0",
         "0",
         "0",
         "0",
         "0",
         "0",
         "0",
         "0",
         "0",
         "0",
         "0",
         "0",
         "0",
         "0",
         "0",
         "0",
         "0",
         "0",
         "0",
         "0",
         "1",
         "0",
         "0",
         "0",
         "0",
         "0",
         "0",
         "0",
         "0",
         "0",
         "0",
         "0",
         "0",
         "0",
         "0",
         "0",
         "0",
         "0",
         "0",
         "0",
         "0",
         "0",
         "0",
         "0",
         "0",
         "0",
         "0",
         "0",
         "0",
         "0",
         "0",
         "1",
         "0",
         "1",
         "0",
         "0",
         "0",
         "0",
         "0",
         "0",
         "0",
         "0",
         "0",
         "0",
         "0",
         "1",
         "1",
         "0",
         "0",
         "0",
         "0",
         "0",
         "0",
         "0",
         "0",
         "0",
         "0",
         "0",
         "0",
         "0",
         "0",
         "0",
         "0",
         "0",
         "0",
         "0",
         "0",
         "0",
         "0",
         "0",
         "0",
         "0",
         "0",
         "0",
         "0",
         "1",
         "0",
         "0",
         "0",
         "0",
         "0",
         "0",
         "0",
         "0",
         "0",
         "0",
         "1",
         "0",
         "0",
         "1",
         "0",
         "0",
         "0",
         "0",
         "0",
         "0",
         "0",
         "1",
         "0",
         "0",
         "0",
         "0",
         "0",
         "1",
         "0",
         "0",
         "1",
         "0",
         "0",
         "0",
         "0",
         "0",
         "0",
         "0",
         "0",
         "0",
         "0",
         "0",
         "0",
         "0",
         "0",
         "0",
         "0",
         "0",
         "0",
         "0",
         "0",
         "1",
         "0",
         "1",
         "0",
         "0",
         "0",
         "0",
         "0",
         "0",
         "0",
         "0",
         "0",
         "0",
         "0",
         "0",
         "0",
         "1",
         "0",
         "0",
         "0",
         "0",
         "0",
         "0",
         "0",
         "0",
         "0",
         "0",
         "0",
         "0",
         "0",
         "0",
         "0",
         "0",
         "0",
         "0",
         "0",
         "0",
         "0",
         "0",
         "0",
         "0",
         "0",
         "1",
         "0",
         "0",
         "1",
         "0",
         "0",
         "0",
         "0",
         "0",
         "0",
         "0",
         "0",
         "0",
         "0",
         "1",
         "0",
         "0",
         "0",
         "0",
         "0",
         "0",
         "0",
         "0",
         "1",
         "0",
         "0",
         "1",
         "0",
         "0",
         "0",
         "0",
         "1",
         "0",
         "1",
         "1",
         "0",
         "0",
         "1",
         "0",
         "0",
         "1",
         "0",
         "0",
         "0",
         "0",
         "0",
         "0",
         "0",
         "0",
         "0",
         "0",
         "0",
         "0",
         "0",
         "0",
         "1",
         "1",
         "0",
         "0",
         "0",
         "0",
         "0",
         "0",
         "0",
         "0",
         "0",
         "0",
         "0",
         "1",
         "0",
         "1",
         "0",
         "0",
         "0",
         "0",
         "0",
         "0",
         "0",
         "0",
         "0",
         "0",
         "1",
         "0",
         "0",
         "0",
         "0",
         "0",
         "0",
         "0",
         "0",
         "0",
         "0",
         "0",
         "0",
         "1",
         "0",
         "0",
         "0",
         "0",
         "0",
         "0",
         "0",
         "0",
         "0",
         "0",
         "0",
         "0",
         "0",
         "0",
         "0",
         "0",
         "0",
         "0",
         "0",
         "0",
         "0",
         "0",
         "0",
         "0",
         "0",
         "0",
         "0",
         "0",
         "0",
         "0",
         "0",
         "0",
         "0",
         "0",
         "0",
         "0",
         "0",
         "0",
         "0",
         "0",
         "0",
         "0",
         "0",
         "0",
         "0",
         "1",
         "0",
         "1",
         "0",
         "1",
         "0",
         "0",
         "0",
         "0",
         "0",
         "0",
         "0",
         "0",
         "0",
         "0",
         "0",
         "0",
         "0",
         "0",
         "0",
         "0",
         "0",
         "0",
         "0",
         "0",
         "0",
         "0",
         "0",
         "0",
         "0",
         "0",
         "0",
         "0",
         "0",
         "0",
         "1",
         "0",
         "1",
         "0",
         "0",
         "0",
         "0",
         "0",
         "0",
         "0",
         "0",
         "0",
         "0",
         "0",
         "0",
         "0",
         "0",
         "0",
         "0",
         "0",
         "0",
         "0",
         "0",
         "0",
         "1",
         "0",
         "0",
         "0",
         "0",
         "0",
         "0",
         "0",
         "0",
         "0",
         "0",
         "0",
         "0",
         "0",
         "0",
         "0",
         "0",
         "0",
         "0",
         "0",
         "0",
         "0",
         "0",
         "0",
         "0",
         "0",
         "0",
         "0",
         "0",
         "0",
         "0",
         "0",
         "0",
         "0",
         "0",
         "0",
         "0",
         "0",
         "0",
         "0",
         "0",
         "0",
         "0",
         "0",
         "0",
         "0",
         "0",
         "0",
         "0",
         "1",
         "0",
         "0",
         "0",
         "0",
         "0",
         "0",
         "0",
         "0",
         "0",
         "0",
         "0",
         "0",
         "0",
         "0",
         "1",
         "0",
         "0",
         "1",
         "0",
         "0",
         "0",
         "0",
         "0",
         "0",
         "0",
         "0",
         "1",
         "0",
         "0",
         "0",
         "0",
         "0",
         "0",
         "0",
         "0",
         "0",
         "0",
         "0",
         "0",
         "0",
         "0",
         "0",
         "0",
         "0",
         "0",
         "0",
         "1",
         "0",
         "0",
         "0",
         "1",
         "0",
         "0",
         "0",
         "0",
         "0",
         "0",
         "0",
         "0",
         "1",
         "0",
         "0",
         "0",
         "0",
         "1",
         "0",
         "0",
         "0",
         "0",
         "0",
         "0",
         "0",
         "0",
         "0",
         "0",
         "0",
         "0",
         "0",
         "0",
         "0",
         "1",
         "0",
         "0",
         "1",
         "0",
         "0",
         "0",
         "0",
         "0",
         "0",
         "1",
         "0",
         "0",
         "0",
         "0",
         "0",
         "0",
         "0",
         "0",
         "0",
         "0",
         "0",
         "1",
         "0",
         "0",
         "0",
         "0",
         "0",
         "1",
         "0",
         "0",
         "0",
         "0",
         "0",
         "0",
         "0",
         "1",
         "0",
         "0",
         "0",
         "0",
         "0",
         "0",
         "0",
         "0",
         "0",
         "0",
         "0",
         "0",
         "0",
         "0",
         "0",
         "0",
         "0",
         "0",
         "0",
         "0",
         "0",
         "0",
         "0",
         "0",
         "0",
         "0",
         "1",
         "0",
         "0",
         "0",
         "0",
         "0",
         "0",
         "0",
         "1",
         "0",
         "0",
         "0",
         "0",
         "0",
         "0",
         "1",
         "0",
         "0",
         "0",
         "0",
         "0",
         "0",
         "1",
         "0",
         "0",
         "0",
         "0",
         "0",
         "0",
         "0",
         "1",
         "0",
         "0",
         "0",
         "0",
         "1",
         "0",
         "0",
         "1",
         "1",
         "0",
         "1",
         "0",
         "0",
         "0",
         "0",
         "0",
         "0",
         "0",
         "0",
         "0",
         "0",
         "0",
         "0",
         "0",
         "0",
         "0",
         "0",
         "0",
         "0",
         "0",
         "0",
         "0",
         "0",
         "1",
         "0",
         "0",
         "0",
         "0",
         "1",
         "0",
         "0",
         "0",
         "0",
         "0",
         "0",
         "0",
         "0",
         "0",
         "0",
         "0",
         "0",
         "0",
         "0",
         "0",
         "0",
         "0",
         "0",
         "0",
         "0",
         "0",
         "0",
         "0",
         "0",
         "0",
         "1",
         "0",
         "0",
         "0",
         "0",
         "0",
         "0",
         "0",
         "0",
         "0",
         "0",
         "0",
         "0",
         "0",
         "0",
         "0",
         "0",
         "0",
         "0",
         "0",
         "0",
         "0",
         "0",
         "0",
         "0",
         "0",
         "0",
         "0",
         "0",
         "1",
         "0",
         "1",
         "0",
         "0",
         "0",
         "0",
         "0",
         "0",
         "1",
         "0",
         "0",
         "0",
         "0",
         "0",
         "0",
         "0",
         "0",
         "0",
         "0",
         "0",
         "0",
         "0",
         "0",
         "1",
         "0",
         "0",
         "0",
         "0",
         "0",
         "0",
         "0",
         "0",
         "0",
         "0",
         "0",
         "0",
         "0",
         "0",
         "0",
         "0",
         "1",
         "0",
         "0",
         "0",
         "0",
         "0",
         "0",
         "0",
         "0",
         "0",
         "0",
         "0",
         "0",
         "0",
         "0",
         "1",
         "0",
         "0",
         "0",
         "0",
         "0",
         "0",
         "0",
         "0",
         "0",
         "0",
         "0",
         "0",
         "0",
         "0",
         "0",
         "0",
         "0",
         "0",
         "0",
         "0",
         "0",
         "0",
         "0",
         "0",
         "1",
         "0",
         "0",
         "0",
         "0",
         "0",
         "0",
         "0",
         "0",
         "0",
         "0",
         "0",
         "0",
         "0",
         "0",
         "0",
         "0",
         "0",
         "0",
         "1",
         "0",
         "0",
         "0",
         "0",
         "0",
         "0",
         "0",
         "0",
         "0",
         "1",
         "0",
         "1",
         "0",
         "0",
         "0",
         "0",
         "0",
         "1",
         "0",
         "1",
         "0",
         "0",
         "0",
         "0",
         "1",
         "0",
         "0",
         "0",
         "0",
         "0",
         "0",
         "0",
         "0",
         "0",
         "0",
         "0",
         "0",
         "0",
         "0",
         "0",
         "0",
         "0",
         "0",
         "0",
         "0",
         "0",
         "0",
         "0",
         "0",
         "0",
         "0",
         "0",
         "0",
         "0",
         "0",
         "1",
         "0",
         "0",
         "0",
         "0",
         "0",
         "0",
         "0",
         "0",
         "0",
         "0",
         "0",
         "0",
         "1",
         "0",
         "0",
         "0",
         "0",
         "0",
         "0",
         "0",
         "0",
         "1",
         "0",
         "0",
         "0",
         "1",
         "0",
         "0",
         "0",
         "0",
         "0",
         "0",
         "0",
         "0",
         "0",
         "0",
         "0",
         "0",
         "0",
         "0",
         "0",
         "0",
         "0",
         "0",
         "0",
         "0",
         "0",
         "0",
         "0",
         "0",
         "0",
         "0",
         "0",
         "0",
         "0",
         "0",
         "0",
         "0",
         "0",
         "0",
         "0",
         "0",
         "0",
         "0",
         "1",
         "0",
         "1",
         "0",
         "0",
         "0",
         "0",
         "0",
         "0",
         "0",
         "0",
         "0",
         "0",
         "0",
         "0",
         "0",
         "1",
         "0",
         "0",
         "0",
         "0",
         "0",
         "0",
         "0",
         "0",
         "0",
         "0",
         "1",
         "0",
         "0",
         "0",
         "0",
         "0",
         "0",
         "0",
         "0",
         "0",
         "0",
         "0",
         "0",
         "0",
         "0",
         "0",
         "0",
         "0",
         "0",
         "0",
         "0",
         "0",
         "0",
         "0",
         "0",
         "0",
         "0",
         "0",
         "0",
         "0",
         "0",
         "0",
         "0",
         "0",
         "0",
         "0",
         "0",
         "0",
         "0",
         "0",
         "0",
         "0",
         "0",
         "0",
         "0",
         "0",
         "0",
         "0",
         "0",
         "0",
         "0",
         "0",
         "0",
         "0",
         "0",
         "0",
         "0",
         "0",
         "0",
         "0",
         "0",
         "1",
         "0",
         "0",
         "0",
         "0",
         "0",
         "1",
         "0",
         "0",
         "0",
         "0",
         "0",
         "0",
         "0",
         "0",
         "0",
         "0",
         "1",
         "0",
         "0",
         "0",
         "0",
         "0",
         "0",
         "1",
         "0",
         "0",
         "0",
         "1",
         "0",
         "1",
         "0",
         "0",
         "0",
         "0",
         "0",
         "0",
         "0",
         "0",
         "0",
         "0",
         "0",
         "0",
         "0",
         "0",
         "0",
         "0",
         "0",
         "0",
         "0",
         "0",
         "0",
         "0",
         "0",
         "0",
         "0",
         "0",
         "0",
         "0",
         "0",
         "0",
         "0",
         "0",
         "0",
         "0",
         "0",
         "0",
         "0",
         "0",
         "0",
         "0",
         "0",
         "0",
         "0",
         "0",
         "0",
         "0",
         "0",
         "0",
         "0",
         "0",
         "0",
         "0",
         "1",
         "1",
         "0",
         "0",
         "0",
         "0",
         "0",
         "0",
         "0",
         "0",
         "0",
         "0",
         "0",
         "0",
         "0",
         "0",
         "0",
         "0",
         "0",
         "0",
         "0",
         "0",
         "0",
         "0",
         "0",
         "0",
         "0",
         "0",
         "0",
         "0",
         "0",
         "0",
         "0",
         "1",
         "0",
         "0",
         "0",
         "0",
         "0",
         "0",
         "1",
         "0",
         "0",
         "0",
         "0",
         "0",
         "0",
         "1",
         "0",
         "0",
         "0",
         "0",
         "0",
         "0",
         "0",
         "0",
         "0",
         "0",
         "0",
         "0",
         "0",
         "0",
         "0",
         "0",
         "0",
         "0",
         "0",
         "0",
         "0",
         "0",
         "0",
         "0",
         "0",
         "0",
         "0",
         "0",
         "0",
         "0",
         "0",
         "0",
         "0",
         "0",
         "0",
         "0",
         "0",
         "0",
         "0",
         "0",
         "0",
         "0",
         "0",
         "0",
         "0",
         "0",
         "0",
         "0",
         "0",
         "0",
         "0",
         "0",
         "0",
         "0",
         "0",
         "0",
         "0",
         "0",
         "0",
         "0",
         "0",
         "0",
         "0",
         "0",
         "0",
         "0",
         "0",
         "0",
         "0",
         "0",
         "0",
         "0",
         "0",
         "0",
         "0",
         "1",
         "0",
         "0",
         "0",
         "0",
         "0",
         "0",
         "0",
         "0",
         "0",
         "0",
         "0",
         "0",
         "0",
         "0",
         "0",
         "0",
         "0",
         "1",
         "0",
         "0",
         "0",
         "0",
         "0",
         "0",
         "1",
         "0",
         "0",
         "0",
         "0",
         "0",
         "0",
         "0",
         "0",
         "0",
         "0",
         "0",
         "0",
         "1",
         "0",
         "0",
         "0",
         "0",
         "0",
         "0",
         "0",
         "0",
         "1",
         "0",
         "0",
         "0",
         "0",
         "0",
         "0",
         "0",
         "0",
         "0",
         "0",
         "0",
         "0",
         "0",
         "0",
         "0",
         "0",
         "1",
         "0",
         "0",
         "0",
         "0",
         "0",
         "0",
         "0",
         "0",
         "0",
         "0",
         "0",
         "0",
         "0",
         "0",
         "0",
         "1",
         "0",
         "0",
         "0",
         "0",
         "0",
         "1",
         "0",
         "0",
         "0",
         "0",
         "0",
         "1",
         "0",
         "0",
         "0",
         "1",
         "0",
         "0",
         "0",
         "0",
         "0",
         "0",
         "0",
         "1",
         "0",
         "0",
         "0",
         "0",
         "0",
         "0",
         "0",
         "0",
         "0",
         "0",
         "0",
         "0",
         "0",
         "0",
         "0",
         "0",
         "0",
         "0",
         "0",
         "0",
         "0",
         "0",
         "0",
         "0",
         "0",
         "0",
         "0",
         "0",
         "1",
         "0",
         "0",
         "0",
         "0",
         "0",
         "0",
         "0",
         "0",
         "0",
         "0",
         "0",
         "0",
         "0",
         "0",
         "0",
         "0",
         "0",
         "0",
         "0",
         "0",
         "0",
         "0",
         "0",
         "0",
         "0",
         "0",
         "0",
         "0",
         "0",
         "0",
         "0",
         "0",
         "0",
         "0",
         "0",
         "0",
         "0",
         "0",
         "0",
         "0",
         "0",
         "0",
         "0",
         "0",
         "0",
         "0",
         "0",
         "0",
         "0",
         "0",
         "0",
         "1",
         "0",
         "0",
         "0",
         "0",
         "0",
         "0",
         "0",
         "0",
         "0",
         "0",
         "0",
         "1",
         "0",
         "0",
         "0",
         "1",
         "0",
         "0",
         "0",
         "0",
         "0",
         "0",
         "0",
         "0",
         "0",
         "0",
         "0",
         "0",
         "0",
         "1",
         "0",
         "0",
         "0",
         "0",
         "0",
         "0",
         "0",
         "0",
         "0",
         "0",
         "0",
         "0",
         "0",
         "0",
         "0",
         "0",
         "0",
         "0",
         "0",
         "0",
         "0",
         "0",
         "0",
         "0",
         "0",
         "0",
         "0",
         "0",
         "0",
         "0",
         "0",
         "1",
         "0",
         "0",
         "0",
         "0",
         "0",
         "1",
         "0",
         "1",
         "0",
         "0",
         "0",
         "0",
         "0",
         "0",
         "0",
         "0",
         "0",
         "0",
         "0",
         "0",
         "0",
         "0",
         "0",
         "0",
         "0",
         "0",
         "0",
         "0",
         "1",
         "0",
         "0",
         "0",
         "0",
         "0",
         "0",
         "0",
         "0",
         "0",
         "0",
         "0",
         "0",
         "0",
         "0",
         "1",
         "0",
         "0",
         "0",
         "0",
         "0",
         "0",
         "0",
         "0",
         "0",
         "0",
         "0",
         "0",
         "1",
         "0",
         "0",
         "0",
         "0",
         "0",
         "0",
         "0",
         "1",
         "0",
         "0",
         "0",
         "0",
         "0",
         "0",
         "0",
         "1",
         "0",
         "0",
         "0",
         "0",
         "0",
         "0",
         "0",
         "0",
         "0",
         "0",
         "0",
         "0",
         "1",
         "0",
         "0",
         "0",
         "0",
         "0",
         "1",
         "0",
         "0",
         "1",
         "0",
         "0",
         "0",
         "0",
         "0",
         "0",
         "0",
         "0",
         "0",
         "0",
         "0",
         "0",
         "0",
         "0",
         "0",
         "0",
         "0",
         "0",
         "0",
         "0",
         "1",
         "0",
         "0",
         "0",
         "0",
         "0",
         "0",
         "0",
         "0",
         "0",
         "0",
         "0",
         "0",
         "0",
         "0",
         "0",
         "0",
         "0",
         "0",
         "0",
         "0",
         "0",
         "0",
         "0",
         "0",
         "0",
         "0",
         "1",
         "899.55",
         "4",
         "4",
         "10",
         "16",
         "11.97",
         "12.59",
         "11.04",
         "10.6",
         "6.28",
         "7.93",
         "11.43",
         "12.07",
         "-5.11",
         "2.24",
         "166.17",
         "-7.98",
         "-5.76",
         "2",
         "27",
         "5",
         "29",
         "1",
         "0.4680851063829787",
         "0",
         "2",
         "2",
         "4",
         "2",
         "6",
         "2",
         "17"
        ]
       ],
       "shape": {
        "columns": 2223,
        "rows": 3
       }
      },
      "text/html": [
       "<div>\n",
       "<style scoped>\n",
       "    .dataframe tbody tr th:only-of-type {\n",
       "        vertical-align: middle;\n",
       "    }\n",
       "\n",
       "    .dataframe tbody tr th {\n",
       "        vertical-align: top;\n",
       "    }\n",
       "\n",
       "    .dataframe thead th {\n",
       "        text-align: right;\n",
       "    }\n",
       "</style>\n",
       "<table border=\"1\" class=\"dataframe\">\n",
       "  <thead>\n",
       "    <tr style=\"text-align: right;\">\n",
       "      <th></th>\n",
       "      <th>custDesc_ADME MDCK(WT) Permeability;Mean;A to B Recovery (%)</th>\n",
       "      <th>custDesc_ADME MDCK(WT) Permeability;Mean;B to A Papp (10^-6 cm/s);(Num)</th>\n",
       "      <th>rd_MaxAbsEStateIndex</th>\n",
       "      <th>rd_MaxEStateIndex</th>\n",
       "      <th>rd_MinAbsEStateIndex</th>\n",
       "      <th>rd_MinEStateIndex</th>\n",
       "      <th>rd_qed</th>\n",
       "      <th>rd_SPS</th>\n",
       "      <th>rd_MolWt</th>\n",
       "      <th>rd_HeavyAtomMolWt</th>\n",
       "      <th>...</th>\n",
       "      <th>cx_topology-analyser_chiralCenterCount</th>\n",
       "      <th>cx_topology-analyser_fsp3</th>\n",
       "      <th>cx_topology-analyser_fusedAliphaticRingCount</th>\n",
       "      <th>cx_topology-analyser_fusedAromaticRingCount</th>\n",
       "      <th>cx_topology-analyser_fusedRingCount</th>\n",
       "      <th>cx_topology-analyser_heteroRingCount</th>\n",
       "      <th>cx_topology-analyser_heteroAromaticRingCount</th>\n",
       "      <th>cx_topology-analyser_largestRingSize</th>\n",
       "      <th>cx_topology-analyser_largestRingSystemSize</th>\n",
       "      <th>cx_topology-analyser_rotatableBondCount</th>\n",
       "    </tr>\n",
       "  </thead>\n",
       "  <tbody>\n",
       "    <tr>\n",
       "      <th>0</th>\n",
       "      <td>65.396574</td>\n",
       "      <td>1.327664</td>\n",
       "      <td>14.863094</td>\n",
       "      <td>14.863094</td>\n",
       "      <td>0.132763</td>\n",
       "      <td>-0.719197</td>\n",
       "      <td>0.238176</td>\n",
       "      <td>20.085106</td>\n",
       "      <td>650.708</td>\n",
       "      <td>611.396</td>\n",
       "      <td>...</td>\n",
       "      <td>2</td>\n",
       "      <td>0.484848</td>\n",
       "      <td>0</td>\n",
       "      <td>2</td>\n",
       "      <td>2</td>\n",
       "      <td>4</td>\n",
       "      <td>1</td>\n",
       "      <td>6</td>\n",
       "      <td>2</td>\n",
       "      <td>11</td>\n",
       "    </tr>\n",
       "    <tr>\n",
       "      <th>1</th>\n",
       "      <td>66.234937</td>\n",
       "      <td>8.333819</td>\n",
       "      <td>14.856497</td>\n",
       "      <td>14.856497</td>\n",
       "      <td>0.215315</td>\n",
       "      <td>-0.684509</td>\n",
       "      <td>0.229648</td>\n",
       "      <td>20.434783</td>\n",
       "      <td>636.725</td>\n",
       "      <td>595.397</td>\n",
       "      <td>...</td>\n",
       "      <td>2</td>\n",
       "      <td>0.515152</td>\n",
       "      <td>0</td>\n",
       "      <td>2</td>\n",
       "      <td>2</td>\n",
       "      <td>4</td>\n",
       "      <td>1</td>\n",
       "      <td>6</td>\n",
       "      <td>2</td>\n",
       "      <td>12</td>\n",
       "    </tr>\n",
       "    <tr>\n",
       "      <th>2</th>\n",
       "      <td>22.744314</td>\n",
       "      <td>0.054087</td>\n",
       "      <td>13.135317</td>\n",
       "      <td>13.135317</td>\n",
       "      <td>0.065435</td>\n",
       "      <td>-3.567808</td>\n",
       "      <td>0.060439</td>\n",
       "      <td>16.555556</td>\n",
       "      <td>899.559</td>\n",
       "      <td>840.087</td>\n",
       "      <td>...</td>\n",
       "      <td>1</td>\n",
       "      <td>0.468085</td>\n",
       "      <td>0</td>\n",
       "      <td>2</td>\n",
       "      <td>2</td>\n",
       "      <td>4</td>\n",
       "      <td>2</td>\n",
       "      <td>6</td>\n",
       "      <td>2</td>\n",
       "      <td>17</td>\n",
       "    </tr>\n",
       "  </tbody>\n",
       "</table>\n",
       "<p>3 rows × 2223 columns</p>\n",
       "</div>"
      ],
      "text/plain": [
       "   custDesc_ADME MDCK(WT) Permeability;Mean;A to B Recovery (%)  \\\n",
       "0                                          65.396574              \n",
       "1                                          66.234937              \n",
       "2                                          22.744314              \n",
       "\n",
       "   custDesc_ADME MDCK(WT) Permeability;Mean;B to A Papp (10^-6 cm/s);(Num)  \\\n",
       "0                                           1.327664                         \n",
       "1                                           8.333819                         \n",
       "2                                           0.054087                         \n",
       "\n",
       "   rd_MaxAbsEStateIndex  rd_MaxEStateIndex  rd_MinAbsEStateIndex  \\\n",
       "0             14.863094          14.863094              0.132763   \n",
       "1             14.856497          14.856497              0.215315   \n",
       "2             13.135317          13.135317              0.065435   \n",
       "\n",
       "   rd_MinEStateIndex    rd_qed     rd_SPS  rd_MolWt  rd_HeavyAtomMolWt  ...  \\\n",
       "0          -0.719197  0.238176  20.085106   650.708            611.396  ...   \n",
       "1          -0.684509  0.229648  20.434783   636.725            595.397  ...   \n",
       "2          -3.567808  0.060439  16.555556   899.559            840.087  ...   \n",
       "\n",
       "   cx_topology-analyser_chiralCenterCount  cx_topology-analyser_fsp3  \\\n",
       "0                                       2                   0.484848   \n",
       "1                                       2                   0.515152   \n",
       "2                                       1                   0.468085   \n",
       "\n",
       "   cx_topology-analyser_fusedAliphaticRingCount  \\\n",
       "0                                             0   \n",
       "1                                             0   \n",
       "2                                             0   \n",
       "\n",
       "   cx_topology-analyser_fusedAromaticRingCount  \\\n",
       "0                                            2   \n",
       "1                                            2   \n",
       "2                                            2   \n",
       "\n",
       "   cx_topology-analyser_fusedRingCount  cx_topology-analyser_heteroRingCount  \\\n",
       "0                                    2                                     4   \n",
       "1                                    2                                     4   \n",
       "2                                    2                                     4   \n",
       "\n",
       "   cx_topology-analyser_heteroAromaticRingCount  \\\n",
       "0                                             1   \n",
       "1                                             1   \n",
       "2                                             2   \n",
       "\n",
       "   cx_topology-analyser_largestRingSize  \\\n",
       "0                                     6   \n",
       "1                                     6   \n",
       "2                                     6   \n",
       "\n",
       "   cx_topology-analyser_largestRingSystemSize  \\\n",
       "0                                           2   \n",
       "1                                           2   \n",
       "2                                           2   \n",
       "\n",
       "   cx_topology-analyser_rotatableBondCount  \n",
       "0                                       11  \n",
       "1                                       12  \n",
       "2                                       17  \n",
       "\n",
       "[3 rows x 2223 columns]"
      ]
     },
     "execution_count": 10,
     "metadata": {},
     "output_type": "execute_result"
    }
   ],
   "source": [
    "Descriptors = dataTable_merged.iloc[:, 2:]\n",
    "print(Descriptors.shape)\n",
    "Descriptors.head(3)"
   ]
  },
  {
   "cell_type": "code",
   "execution_count": 17,
   "metadata": {},
   "outputs": [
    {
     "data": {
      "text/plain": [
       "array([14.86309434, 14.85649654, 13.13531675, 14.84920545, 13.11531675,\n",
       "       14.44791399, 14.84260765, 14.19914336, 14.11382836, 14.14578646,\n",
       "       14.06605044, 14.18197277, 13.4526609 , 14.36197025, 14.31087047,\n",
       "       14.32219766, 14.46133272, 14.16835087, 13.43541022, 13.26640593,\n",
       "       13.08899443, 13.08899443, 13.43067653, 13.53574918, 13.51543302,\n",
       "       13.44571387, 13.46810768, 13.48107954, 13.51264167, 13.50857073,\n",
       "       13.50857073, 13.19882141, 14.03413061, 14.42525374, 14.24659717,\n",
       "       14.02812442, 13.41370943, 13.45479343])"
      ]
     },
     "execution_count": 17,
     "metadata": {},
     "output_type": "execute_result"
    }
   ],
   "source": [
    "import numpy as np\n",
    "np.array(dataTable_merged['rd_MaxEStateIndex'].to_numpy())"
   ]
  },
  {
   "cell_type": "code",
   "execution_count": 13,
   "metadata": {},
   "outputs": [],
   "source": [
    "def VarianceFilter(Descriptors, threshold=0):\n",
    "    ## Removing features with no variance\n",
    "    from sklearn.feature_selection import VarianceThreshold\n",
    "    variance_filter = VarianceThreshold(threshold=threshold)\n",
    "    variance_filter.fit_transform(Descriptors)\n",
    "\n",
    "    ## generate variance table\n",
    "    desc_list = list(Descriptors.columns)\n",
    "    variance_list = variance_filter.variances_.tolist()\n",
    "    variance_dict = {}\n",
    "    for i in range(len(desc_list)):\n",
    "        variance_dict[i] = {}\n",
    "        variance_dict[i]['Descriptor'] = desc_list[i]\n",
    "        variance_dict[i]['Variance'] = variance_list[i]\n",
    "        variance_dict[i]['Select'] = 'Yes' if variance_list[i] > threshold else 'No'\n",
    "    variance_table = pd.DataFrame.from_dict(variance_dict).T\n",
    "    ## print results\n",
    "    [count_Sele, count_Drop] = [variance_table['Select'].value_counts().get(label, 0) for label in ['Yes', 'No']]\n",
    "    print(f\"\\tIn total <{len(desc_list)}> desc, there are <{count_Sele}> selected, <{count_Drop}> dropped, cutoff is {threshold}.\")\n",
    "    return variance_table"
   ]
  },
  {
   "cell_type": "code",
   "execution_count": 14,
   "metadata": {},
   "outputs": [
    {
     "name": "stdout",
     "output_type": "stream",
     "text": [
      "\tIn total <2223> desc, there are <938> selected, <1285> dropped, cutoff is 0.\n"
     ]
    },
    {
     "data": {
      "application/vnd.microsoft.datawrangler.viewer.v0+json": {
       "columns": [
        {
         "name": "index",
         "rawType": "int64",
         "type": "integer"
        },
        {
         "name": "Descriptor",
         "rawType": "object",
         "type": "string"
        },
        {
         "name": "Variance",
         "rawType": "object",
         "type": "unknown"
        },
        {
         "name": "Select",
         "rawType": "object",
         "type": "string"
        }
       ],
       "conversionMethod": "pd.DataFrame",
       "ref": "02182285-7df1-4b35-95f2-a2913c12a9dd",
       "rows": [
        [
         "0",
         "custDesc_ADME MDCK(WT) Permeability;Mean;A to B Recovery (%)",
         "80.68245077",
         "Yes"
        ],
        [
         "1",
         "custDesc_ADME MDCK(WT) Permeability;Mean;B to A Papp (10^-6 cm/s);(Num)",
         "13.6124432925",
         "Yes"
        ],
        [
         "2",
         "rd_MaxAbsEStateIndex",
         "0.29892627509982617",
         "Yes"
        ]
       ],
       "shape": {
        "columns": 3,
        "rows": 3
       }
      },
      "text/html": [
       "<div>\n",
       "<style scoped>\n",
       "    .dataframe tbody tr th:only-of-type {\n",
       "        vertical-align: middle;\n",
       "    }\n",
       "\n",
       "    .dataframe tbody tr th {\n",
       "        vertical-align: top;\n",
       "    }\n",
       "\n",
       "    .dataframe thead th {\n",
       "        text-align: right;\n",
       "    }\n",
       "</style>\n",
       "<table border=\"1\" class=\"dataframe\">\n",
       "  <thead>\n",
       "    <tr style=\"text-align: right;\">\n",
       "      <th></th>\n",
       "      <th>Descriptor</th>\n",
       "      <th>Variance</th>\n",
       "      <th>Select</th>\n",
       "    </tr>\n",
       "  </thead>\n",
       "  <tbody>\n",
       "    <tr>\n",
       "      <th>0</th>\n",
       "      <td>custDesc_ADME MDCK(WT) Permeability;Mean;A to ...</td>\n",
       "      <td>80.682451</td>\n",
       "      <td>Yes</td>\n",
       "    </tr>\n",
       "    <tr>\n",
       "      <th>1</th>\n",
       "      <td>custDesc_ADME MDCK(WT) Permeability;Mean;B to ...</td>\n",
       "      <td>13.612443</td>\n",
       "      <td>Yes</td>\n",
       "    </tr>\n",
       "    <tr>\n",
       "      <th>2</th>\n",
       "      <td>rd_MaxAbsEStateIndex</td>\n",
       "      <td>0.298926</td>\n",
       "      <td>Yes</td>\n",
       "    </tr>\n",
       "  </tbody>\n",
       "</table>\n",
       "</div>"
      ],
      "text/plain": [
       "                                          Descriptor   Variance Select\n",
       "0  custDesc_ADME MDCK(WT) Permeability;Mean;A to ...  80.682451    Yes\n",
       "1  custDesc_ADME MDCK(WT) Permeability;Mean;B to ...  13.612443    Yes\n",
       "2                               rd_MaxAbsEStateIndex   0.298926    Yes"
      ]
     },
     "execution_count": 14,
     "metadata": {},
     "output_type": "execute_result"
    }
   ],
   "source": [
    "variance_table = VarianceFilter(Descriptors=Descriptors, threshold=0)\n",
    "variance_table.head(3)"
   ]
  },
  {
   "cell_type": "code",
   "execution_count": null,
   "metadata": {},
   "outputs": [],
   "source": [
    "from sklearn.svm import LinearSVC\n",
    "from sklearn.datasets import load_iris\n",
    "from sklearn.feature_selection import SelectFromModel\n",
    "X, y = load_iris(return_X_y=True)\n",
    "X.shape\n",
    "(150, 4)\n",
    "lsvc = LinearSVC(C=0.01, penalty=\"l1\", dual=False).fit(X, y)\n",
    "model = SelectFromModel(lsvc, prefit=True)\n",
    "X_new = model.transform(X)\n",
    "X_new.shape"
   ]
  },
  {
   "cell_type": "code",
   "execution_count": null,
   "metadata": {},
   "outputs": [],
   "source": []
  },
  {
   "cell_type": "code",
   "execution_count": null,
   "metadata": {},
   "outputs": [],
   "source": []
  },
  {
   "cell_type": "code",
   "execution_count": null,
   "metadata": {},
   "outputs": [],
   "source": []
  },
  {
   "cell_type": "code",
   "execution_count": null,
   "metadata": {},
   "outputs": [],
   "source": []
  },
  {
   "cell_type": "code",
   "execution_count": null,
   "metadata": {},
   "outputs": [],
   "source": []
  },
  {
   "cell_type": "code",
   "execution_count": null,
   "metadata": {},
   "outputs": [],
   "source": []
  },
  {
   "cell_type": "code",
   "execution_count": null,
   "metadata": {},
   "outputs": [],
   "source": []
  },
  {
   "cell_type": "code",
   "execution_count": null,
   "metadata": {},
   "outputs": [],
   "source": []
  },
  {
   "cell_type": "code",
   "execution_count": null,
   "metadata": {},
   "outputs": [],
   "source": []
  },
  {
   "cell_type": "code",
   "execution_count": null,
   "metadata": {},
   "outputs": [],
   "source": []
  },
  {
   "cell_type": "code",
   "execution_count": null,
   "metadata": {},
   "outputs": [],
   "source": []
  },
  {
   "cell_type": "code",
   "execution_count": null,
   "metadata": {},
   "outputs": [],
   "source": []
  },
  {
   "cell_type": "code",
   "execution_count": null,
   "metadata": {},
   "outputs": [],
   "source": []
  },
  {
   "cell_type": "code",
   "execution_count": null,
   "metadata": {},
   "outputs": [],
   "source": []
  },
  {
   "cell_type": "code",
   "execution_count": null,
   "metadata": {},
   "outputs": [],
   "source": []
  },
  {
   "cell_type": "code",
   "execution_count": null,
   "metadata": {},
   "outputs": [],
   "source": []
  }
 ],
 "metadata": {
  "kernelspec": {
   "display_name": "ml",
   "language": "python",
   "name": "python3"
  },
  "language_info": {
   "codemirror_mode": {
    "name": "ipython",
    "version": 3
   },
   "file_extension": ".py",
   "mimetype": "text/x-python",
   "name": "python",
   "nbconvert_exporter": "python",
   "pygments_lexer": "ipython3",
   "version": "3.9.21"
  }
 },
 "nbformat": 4,
 "nbformat_minor": 2
}
