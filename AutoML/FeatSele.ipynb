{
 "cells": [
  {
   "cell_type": "code",
   "execution_count": 10,
   "metadata": {},
   "outputs": [
    {
     "name": "stdout",
     "output_type": "stream",
     "text": [
      "\tSelected descriptors types: ['custom', 'rdkit', 'fingerprints', 'chemaxon']\n"
     ]
    }
   ],
   "source": [
    "desc_folder = './results'\n",
    "colName_mid = 'Compound Name'\n",
    "\n",
    "desc_rdkit = True\n",
    "desc_fps = True\n",
    "desc_cx = True\n",
    "desc_custom = True\n",
    "model_type = 'regression'    # 'classification'\n",
    "\n",
    "##\n",
    "descType_list = []\n",
    "if desc_custom:\n",
    "    descType_list.append('custom')\n",
    "if desc_rdkit:\n",
    "    descType_list.append('rdkit')\n",
    "if desc_fps:\n",
    "    descType_list.append('fingerprints')\n",
    "if desc_cx:\n",
    "    descType_list.append('chemaxon')\n",
    "print(f\"\\tSelected descriptors types: {descType_list}\")"
   ]
  },
  {
   "cell_type": "code",
   "execution_count": 11,
   "metadata": {},
   "outputs": [
    {
     "name": "stdout",
     "output_type": "stream",
     "text": [
      "(38, 2)\n"
     ]
    },
    {
     "data": {
      "application/vnd.microsoft.datawrangler.viewer.v0+json": {
       "columns": [
        {
         "name": "index",
         "rawType": "int64",
         "type": "integer"
        },
        {
         "name": "Compound Name",
         "rawType": "object",
         "type": "string"
        },
        {
         "name": "ADME MDCK(WT) Permeability;Mean;A to B Papp (10^-6 cm/s);(Num)",
         "rawType": "float64",
         "type": "float"
        }
       ],
       "conversionMethod": "pd.DataFrame",
       "ref": "d25dba9e-3a84-4ed8-ac2f-baa8bf06a857",
       "rows": [
        [
         "0",
         "KT-0001674",
         "0.298012837"
        ],
        [
         "1",
         "KT-0001675",
         "0.767547486"
        ],
        [
         "2",
         "KT-0001676",
         "0.186650854"
        ]
       ],
       "shape": {
        "columns": 2,
        "rows": 3
       }
      },
      "text/html": [
       "<div>\n",
       "<style scoped>\n",
       "    .dataframe tbody tr th:only-of-type {\n",
       "        vertical-align: middle;\n",
       "    }\n",
       "\n",
       "    .dataframe tbody tr th {\n",
       "        vertical-align: top;\n",
       "    }\n",
       "\n",
       "    .dataframe thead th {\n",
       "        text-align: right;\n",
       "    }\n",
       "</style>\n",
       "<table border=\"1\" class=\"dataframe\">\n",
       "  <thead>\n",
       "    <tr style=\"text-align: right;\">\n",
       "      <th></th>\n",
       "      <th>Compound Name</th>\n",
       "      <th>ADME MDCK(WT) Permeability;Mean;A to B Papp (10^-6 cm/s);(Num)</th>\n",
       "    </tr>\n",
       "  </thead>\n",
       "  <tbody>\n",
       "    <tr>\n",
       "      <th>0</th>\n",
       "      <td>KT-0001674</td>\n",
       "      <td>0.298013</td>\n",
       "    </tr>\n",
       "    <tr>\n",
       "      <th>1</th>\n",
       "      <td>KT-0001675</td>\n",
       "      <td>0.767547</td>\n",
       "    </tr>\n",
       "    <tr>\n",
       "      <th>2</th>\n",
       "      <td>KT-0001676</td>\n",
       "      <td>0.186651</td>\n",
       "    </tr>\n",
       "  </tbody>\n",
       "</table>\n",
       "</div>"
      ],
      "text/plain": [
       "  Compound Name  \\\n",
       "0    KT-0001674   \n",
       "1    KT-0001675   \n",
       "2    KT-0001676   \n",
       "\n",
       "   ADME MDCK(WT) Permeability;Mean;A to B Papp (10^-6 cm/s);(Num)  \n",
       "0                                           0.298013               \n",
       "1                                           0.767547               \n",
       "2                                           0.186651               "
      ]
     },
     "execution_count": 11,
     "metadata": {},
     "output_type": "execute_result"
    }
   ],
   "source": [
    "import pandas as pd\n",
    "\n",
    "## load the expt outcome\n",
    "dataTable_y = pd.read_csv(f'{desc_folder}/outcome_expt.csv')\n",
    "print(dataTable_y.shape)\n",
    "dataTable_y.head(3)"
   ]
  },
  {
   "cell_type": "code",
   "execution_count": 20,
   "metadata": {},
   "outputs": [
    {
     "data": {
      "text/plain": [
       "(2, 1)"
      ]
     },
     "execution_count": 20,
     "metadata": {},
     "output_type": "execute_result"
    }
   ],
   "source": [
    "mydict = {'a': 1, 'b':2}\n",
    "a = mydict['a']\n",
    "b = mydict['a']\n",
    "a = 2\n",
    "a, b"
   ]
  },
  {
   "cell_type": "code",
   "execution_count": 18,
   "metadata": {},
   "outputs": [
    {
     "data": {
      "text/plain": [
       "{'a': 1, 'b': 2}"
      ]
     },
     "execution_count": 18,
     "metadata": {},
     "output_type": "execute_result"
    }
   ],
   "source": [
    "a = 2\n",
    "mydict"
   ]
  },
  {
   "cell_type": "code",
   "execution_count": 12,
   "metadata": {},
   "outputs": [
    {
     "name": "stdout",
     "output_type": "stream",
     "text": [
      "\tThere are total <2> custom descriptors for <38> molecules\n",
      "\tThere are total <140> rdkit descriptors for <38> molecules\n",
      "\tThere are total <2048> fingerprints descriptors for <38> molecules\n",
      "\tThere are total <33> chemaxon descriptors for <38> molecules\n",
      "\tThe merged data table has <38> molecules and <2224> descriptors\n"
     ]
    },
    {
     "data": {
      "application/vnd.microsoft.datawrangler.viewer.v0+json": {
       "columns": [
        {
         "name": "index",
         "rawType": "int64",
         "type": "integer"
        },
        {
         "name": "Compound Name",
         "rawType": "object",
         "type": "string"
        },
        {
         "name": "ADME MDCK(WT) Permeability;Mean;A to B Papp (10^-6 cm/s);(Num)",
         "rawType": "float64",
         "type": "float"
        },
        {
         "name": "custDesc_ADME MDCK(WT) Permeability;Mean;A to B Recovery (%)",
         "rawType": "float64",
         "type": "float"
        },
        {
         "name": "custDesc_ADME MDCK(WT) Permeability;Mean;B to A Papp (10^-6 cm/s);(Num)",
         "rawType": "float64",
         "type": "float"
        },
        {
         "name": "rd_MaxAbsEStateIndex",
         "rawType": "float64",
         "type": "float"
        },
        {
         "name": "rd_MaxEStateIndex",
         "rawType": "float64",
         "type": "float"
        },
        {
         "name": "rd_MinAbsEStateIndex",
         "rawType": "float64",
         "type": "float"
        },
        {
         "name": "rd_MinEStateIndex",
         "rawType": "float64",
         "type": "float"
        },
        {
         "name": "rd_qed",
         "rawType": "float64",
         "type": "float"
        },
        {
         "name": "rd_SPS",
         "rawType": "float64",
         "type": "float"
        },
        {
         "name": "rd_MolWt",
         "rawType": "float64",
         "type": "float"
        },
        {
         "name": "rd_HeavyAtomMolWt",
         "rawType": "float64",
         "type": "float"
        },
        {
         "name": "rd_ExactMolWt",
         "rawType": "float64",
         "type": "float"
        },
        {
         "name": "rd_NumValenceElectrons",
         "rawType": "float64",
         "type": "float"
        },
        {
         "name": "rd_NumRadicalElectrons",
         "rawType": "int64",
         "type": "integer"
        },
        {
         "name": "rd_MaxPartialCharge",
         "rawType": "float64",
         "type": "float"
        },
        {
         "name": "rd_MinPartialCharge",
         "rawType": "float64",
         "type": "float"
        },
        {
         "name": "rd_MaxAbsPartialCharge",
         "rawType": "float64",
         "type": "float"
        },
        {
         "name": "rd_MinAbsPartialCharge",
         "rawType": "float64",
         "type": "float"
        },
        {
         "name": "rd_FpDensityMorgan1",
         "rawType": "float64",
         "type": "float"
        },
        {
         "name": "rd_FpDensityMorgan2",
         "rawType": "float64",
         "type": "float"
        },
        {
         "name": "rd_FpDensityMorgan3",
         "rawType": "float64",
         "type": "float"
        },
        {
         "name": "rd_AvgIpc",
         "rawType": "float64",
         "type": "float"
        },
        {
         "name": "rd_BalabanJ",
         "rawType": "float64",
         "type": "float"
        },
        {
         "name": "rd_BertzCT",
         "rawType": "float64",
         "type": "float"
        },
        {
         "name": "rd_HallKierAlpha",
         "rawType": "float64",
         "type": "float"
        },
        {
         "name": "rd_Ipc",
         "rawType": "float64",
         "type": "float"
        },
        {
         "name": "rd_Kappa1",
         "rawType": "float64",
         "type": "float"
        },
        {
         "name": "rd_Kappa2",
         "rawType": "float64",
         "type": "float"
        },
        {
         "name": "rd_Kappa3",
         "rawType": "float64",
         "type": "float"
        },
        {
         "name": "rd_LabuteASA",
         "rawType": "float64",
         "type": "float"
        },
        {
         "name": "rd_TPSA",
         "rawType": "float64",
         "type": "float"
        },
        {
         "name": "rd_FractionCSP3",
         "rawType": "float64",
         "type": "float"
        },
        {
         "name": "rd_HeavyAtomCount",
         "rawType": "float64",
         "type": "float"
        },
        {
         "name": "rd_NHOHCount",
         "rawType": "float64",
         "type": "float"
        },
        {
         "name": "rd_NOCount",
         "rawType": "float64",
         "type": "float"
        },
        {
         "name": "rd_NumAliphaticCarbocycles",
         "rawType": "float64",
         "type": "float"
        },
        {
         "name": "rd_NumAliphaticHeterocycles",
         "rawType": "float64",
         "type": "float"
        },
        {
         "name": "rd_NumAliphaticRings",
         "rawType": "float64",
         "type": "float"
        },
        {
         "name": "rd_NumAmideBonds",
         "rawType": "float64",
         "type": "float"
        },
        {
         "name": "rd_NumAromaticCarbocycles",
         "rawType": "float64",
         "type": "float"
        },
        {
         "name": "rd_NumAromaticHeterocycles",
         "rawType": "float64",
         "type": "float"
        },
        {
         "name": "rd_NumAromaticRings",
         "rawType": "float64",
         "type": "float"
        },
        {
         "name": "rd_NumAtomStereoCenters",
         "rawType": "float64",
         "type": "float"
        },
        {
         "name": "rd_NumBridgeheadAtoms",
         "rawType": "float64",
         "type": "float"
        },
        {
         "name": "rd_NumHAcceptors",
         "rawType": "float64",
         "type": "float"
        },
        {
         "name": "rd_NumHDonors",
         "rawType": "float64",
         "type": "float"
        },
        {
         "name": "rd_NumHeteroatoms",
         "rawType": "float64",
         "type": "float"
        },
        {
         "name": "rd_NumHeterocycles",
         "rawType": "float64",
         "type": "float"
        },
        {
         "name": "rd_NumRotatableBonds",
         "rawType": "float64",
         "type": "float"
        },
        {
         "name": "rd_NumSaturatedCarbocycles",
         "rawType": "float64",
         "type": "float"
        },
        {
         "name": "rd_NumSaturatedHeterocycles",
         "rawType": "float64",
         "type": "float"
        },
        {
         "name": "rd_NumSaturatedRings",
         "rawType": "float64",
         "type": "float"
        },
        {
         "name": "rd_NumSpiroAtoms",
         "rawType": "float64",
         "type": "float"
        },
        {
         "name": "rd_NumUnspecifiedAtomStereoCenters",
         "rawType": "float64",
         "type": "float"
        },
        {
         "name": "rd_Phi",
         "rawType": "float64",
         "type": "float"
        },
        {
         "name": "rd_RingCount",
         "rawType": "float64",
         "type": "float"
        },
        {
         "name": "rd_MolLogP",
         "rawType": "float64",
         "type": "float"
        },
        {
         "name": "rd_MolMR",
         "rawType": "float64",
         "type": "float"
        },
        {
         "name": "rd_fr_Al_COO",
         "rawType": "int64",
         "type": "integer"
        },
        {
         "name": "rd_fr_Al_OH",
         "rawType": "float64",
         "type": "float"
        },
        {
         "name": "rd_fr_Al_OH_noTert",
         "rawType": "float64",
         "type": "float"
        },
        {
         "name": "rd_fr_ArN",
         "rawType": "int64",
         "type": "integer"
        },
        {
         "name": "rd_fr_Ar_COO",
         "rawType": "int64",
         "type": "integer"
        },
        {
         "name": "rd_fr_Ar_N",
         "rawType": "float64",
         "type": "float"
        },
        {
         "name": "rd_fr_Ar_NH",
         "rawType": "int64",
         "type": "integer"
        },
        {
         "name": "rd_fr_Ar_OH",
         "rawType": "int64",
         "type": "integer"
        },
        {
         "name": "rd_fr_COO",
         "rawType": "int64",
         "type": "integer"
        },
        {
         "name": "rd_fr_COO2",
         "rawType": "int64",
         "type": "integer"
        },
        {
         "name": "rd_fr_C_O",
         "rawType": "float64",
         "type": "float"
        },
        {
         "name": "rd_fr_C_O_noCOO",
         "rawType": "float64",
         "type": "float"
        },
        {
         "name": "rd_fr_C_S",
         "rawType": "int64",
         "type": "integer"
        },
        {
         "name": "rd_fr_HOCCN",
         "rawType": "int64",
         "type": "integer"
        },
        {
         "name": "rd_fr_Imine",
         "rawType": "int64",
         "type": "integer"
        },
        {
         "name": "rd_fr_NH0",
         "rawType": "float64",
         "type": "float"
        },
        {
         "name": "rd_fr_NH1",
         "rawType": "float64",
         "type": "float"
        },
        {
         "name": "rd_fr_NH2",
         "rawType": "float64",
         "type": "float"
        },
        {
         "name": "rd_fr_N_O",
         "rawType": "int64",
         "type": "integer"
        },
        {
         "name": "rd_fr_Ndealkylation1",
         "rawType": "int64",
         "type": "integer"
        },
        {
         "name": "rd_fr_Ndealkylation2",
         "rawType": "float64",
         "type": "float"
        },
        {
         "name": "rd_fr_Nhpyrrole",
         "rawType": "int64",
         "type": "integer"
        },
        {
         "name": "rd_fr_SH",
         "rawType": "int64",
         "type": "integer"
        },
        {
         "name": "rd_fr_aldehyde",
         "rawType": "int64",
         "type": "integer"
        },
        {
         "name": "rd_fr_alkyl_carbamate",
         "rawType": "int64",
         "type": "integer"
        },
        {
         "name": "rd_fr_alkyl_halide",
         "rawType": "float64",
         "type": "float"
        },
        {
         "name": "rd_fr_allylic_oxid",
         "rawType": "int64",
         "type": "integer"
        },
        {
         "name": "rd_fr_amide",
         "rawType": "float64",
         "type": "float"
        },
        {
         "name": "rd_fr_amidine",
         "rawType": "int64",
         "type": "integer"
        },
        {
         "name": "rd_fr_aniline",
         "rawType": "float64",
         "type": "float"
        },
        {
         "name": "rd_fr_aryl_methyl",
         "rawType": "float64",
         "type": "float"
        },
        {
         "name": "rd_fr_azide",
         "rawType": "int64",
         "type": "integer"
        },
        {
         "name": "rd_fr_azo",
         "rawType": "int64",
         "type": "integer"
        },
        {
         "name": "rd_fr_barbitur",
         "rawType": "int64",
         "type": "integer"
        },
        {
         "name": "rd_fr_benzene",
         "rawType": "float64",
         "type": "float"
        },
        {
         "name": "rd_fr_benzodiazepine",
         "rawType": "int64",
         "type": "integer"
        },
        {
         "name": "rd_fr_bicyclic",
         "rawType": "float64",
         "type": "float"
        },
        {
         "name": "rd_fr_diazo",
         "rawType": "int64",
         "type": "integer"
        },
        {
         "name": "rd_fr_dihydropyridine",
         "rawType": "int64",
         "type": "integer"
        },
        {
         "name": "rd_fr_epoxide",
         "rawType": "int64",
         "type": "integer"
        },
        {
         "name": "rd_fr_ester",
         "rawType": "float64",
         "type": "float"
        },
        {
         "name": "rd_fr_ether",
         "rawType": "float64",
         "type": "float"
        },
        {
         "name": "rd_fr_furan",
         "rawType": "int64",
         "type": "integer"
        },
        {
         "name": "rd_fr_guanido",
         "rawType": "int64",
         "type": "integer"
        },
        {
         "name": "rd_fr_halogen",
         "rawType": "float64",
         "type": "float"
        },
        {
         "name": "rd_fr_hdrzine",
         "rawType": "int64",
         "type": "integer"
        },
        {
         "name": "rd_fr_hdrzone",
         "rawType": "int64",
         "type": "integer"
        },
        {
         "name": "rd_fr_imidazole",
         "rawType": "float64",
         "type": "float"
        },
        {
         "name": "rd_fr_imide",
         "rawType": "float64",
         "type": "float"
        },
        {
         "name": "rd_fr_isocyan",
         "rawType": "int64",
         "type": "integer"
        },
        {
         "name": "rd_fr_isothiocyan",
         "rawType": "int64",
         "type": "integer"
        },
        {
         "name": "rd_fr_ketone",
         "rawType": "int64",
         "type": "integer"
        },
        {
         "name": "rd_fr_ketone_Topliss",
         "rawType": "int64",
         "type": "integer"
        },
        {
         "name": "rd_fr_lactam",
         "rawType": "int64",
         "type": "integer"
        },
        {
         "name": "rd_fr_lactone",
         "rawType": "float64",
         "type": "float"
        },
        {
         "name": "rd_fr_methoxy",
         "rawType": "float64",
         "type": "float"
        },
        {
         "name": "rd_fr_morpholine",
         "rawType": "float64",
         "type": "float"
        },
        {
         "name": "rd_fr_nitrile",
         "rawType": "int64",
         "type": "integer"
        },
        {
         "name": "rd_fr_nitro",
         "rawType": "int64",
         "type": "integer"
        },
        {
         "name": "rd_fr_nitro_arom",
         "rawType": "int64",
         "type": "integer"
        },
        {
         "name": "rd_fr_nitro_arom_nonortho",
         "rawType": "int64",
         "type": "integer"
        },
        {
         "name": "rd_fr_nitroso",
         "rawType": "int64",
         "type": "integer"
        },
        {
         "name": "rd_fr_oxazole",
         "rawType": "float64",
         "type": "float"
        },
        {
         "name": "rd_fr_oxime",
         "rawType": "int64",
         "type": "integer"
        },
        {
         "name": "rd_fr_para_hydroxylation",
         "rawType": "float64",
         "type": "float"
        },
        {
         "name": "rd_fr_phenol",
         "rawType": "int64",
         "type": "integer"
        },
        {
         "name": "rd_fr_phenol_noOrthoHbond",
         "rawType": "int64",
         "type": "integer"
        },
        {
         "name": "rd_fr_phos_acid",
         "rawType": "int64",
         "type": "integer"
        },
        {
         "name": "rd_fr_phos_ester",
         "rawType": "int64",
         "type": "integer"
        },
        {
         "name": "rd_fr_piperdine",
         "rawType": "float64",
         "type": "float"
        },
        {
         "name": "rd_fr_piperzine",
         "rawType": "int64",
         "type": "integer"
        },
        {
         "name": "rd_fr_priamide",
         "rawType": "float64",
         "type": "float"
        },
        {
         "name": "rd_fr_prisulfonamd",
         "rawType": "int64",
         "type": "integer"
        },
        {
         "name": "rd_fr_pyridine",
         "rawType": "float64",
         "type": "float"
        },
        {
         "name": "rd_fr_quatN",
         "rawType": "int64",
         "type": "integer"
        },
        {
         "name": "rd_fr_sulfide",
         "rawType": "int64",
         "type": "integer"
        },
        {
         "name": "rd_fr_sulfonamd",
         "rawType": "int64",
         "type": "integer"
        },
        {
         "name": "rd_fr_sulfone",
         "rawType": "float64",
         "type": "float"
        },
        {
         "name": "rd_fr_term_acetylene",
         "rawType": "int64",
         "type": "integer"
        },
        {
         "name": "rd_fr_tetrazole",
         "rawType": "int64",
         "type": "integer"
        },
        {
         "name": "rd_fr_thiazole",
         "rawType": "float64",
         "type": "float"
        },
        {
         "name": "rd_fr_thiocyan",
         "rawType": "int64",
         "type": "integer"
        },
        {
         "name": "rd_fr_thiophene",
         "rawType": "int64",
         "type": "integer"
        },
        {
         "name": "rd_fr_unbrch_alkane",
         "rawType": "float64",
         "type": "float"
        },
        {
         "name": "rd_fr_urea",
         "rawType": "int64",
         "type": "integer"
        },
        {
         "name": "fp_0",
         "rawType": "int64",
         "type": "integer"
        },
        {
         "name": "fp_1",
         "rawType": "int64",
         "type": "integer"
        },
        {
         "name": "fp_2",
         "rawType": "int64",
         "type": "integer"
        },
        {
         "name": "fp_3",
         "rawType": "int64",
         "type": "integer"
        },
        {
         "name": "fp_4",
         "rawType": "int64",
         "type": "integer"
        },
        {
         "name": "fp_5",
         "rawType": "int64",
         "type": "integer"
        },
        {
         "name": "fp_6",
         "rawType": "int64",
         "type": "integer"
        },
        {
         "name": "fp_7",
         "rawType": "int64",
         "type": "integer"
        },
        {
         "name": "fp_8",
         "rawType": "int64",
         "type": "integer"
        },
        {
         "name": "fp_9",
         "rawType": "int64",
         "type": "integer"
        },
        {
         "name": "fp_10",
         "rawType": "int64",
         "type": "integer"
        },
        {
         "name": "fp_11",
         "rawType": "int64",
         "type": "integer"
        },
        {
         "name": "fp_12",
         "rawType": "int64",
         "type": "integer"
        },
        {
         "name": "fp_13",
         "rawType": "int64",
         "type": "integer"
        },
        {
         "name": "fp_14",
         "rawType": "int64",
         "type": "integer"
        },
        {
         "name": "fp_15",
         "rawType": "int64",
         "type": "integer"
        },
        {
         "name": "fp_16",
         "rawType": "int64",
         "type": "integer"
        },
        {
         "name": "fp_17",
         "rawType": "int64",
         "type": "integer"
        },
        {
         "name": "fp_18",
         "rawType": "int64",
         "type": "integer"
        },
        {
         "name": "fp_19",
         "rawType": "int64",
         "type": "integer"
        },
        {
         "name": "fp_20",
         "rawType": "int64",
         "type": "integer"
        },
        {
         "name": "fp_21",
         "rawType": "int64",
         "type": "integer"
        },
        {
         "name": "fp_22",
         "rawType": "int64",
         "type": "integer"
        },
        {
         "name": "fp_23",
         "rawType": "int64",
         "type": "integer"
        },
        {
         "name": "fp_24",
         "rawType": "int64",
         "type": "integer"
        },
        {
         "name": "fp_25",
         "rawType": "int64",
         "type": "integer"
        },
        {
         "name": "fp_26",
         "rawType": "int64",
         "type": "integer"
        },
        {
         "name": "fp_27",
         "rawType": "int64",
         "type": "integer"
        },
        {
         "name": "fp_28",
         "rawType": "int64",
         "type": "integer"
        },
        {
         "name": "fp_29",
         "rawType": "int64",
         "type": "integer"
        },
        {
         "name": "fp_30",
         "rawType": "int64",
         "type": "integer"
        },
        {
         "name": "fp_31",
         "rawType": "int64",
         "type": "integer"
        },
        {
         "name": "fp_32",
         "rawType": "int64",
         "type": "integer"
        },
        {
         "name": "fp_33",
         "rawType": "int64",
         "type": "integer"
        },
        {
         "name": "fp_34",
         "rawType": "int64",
         "type": "integer"
        },
        {
         "name": "fp_35",
         "rawType": "int64",
         "type": "integer"
        },
        {
         "name": "fp_36",
         "rawType": "int64",
         "type": "integer"
        },
        {
         "name": "fp_37",
         "rawType": "int64",
         "type": "integer"
        },
        {
         "name": "fp_38",
         "rawType": "int64",
         "type": "integer"
        },
        {
         "name": "fp_39",
         "rawType": "int64",
         "type": "integer"
        },
        {
         "name": "fp_40",
         "rawType": "int64",
         "type": "integer"
        },
        {
         "name": "fp_41",
         "rawType": "int64",
         "type": "integer"
        },
        {
         "name": "fp_42",
         "rawType": "int64",
         "type": "integer"
        },
        {
         "name": "fp_43",
         "rawType": "int64",
         "type": "integer"
        },
        {
         "name": "fp_44",
         "rawType": "int64",
         "type": "integer"
        },
        {
         "name": "fp_45",
         "rawType": "int64",
         "type": "integer"
        },
        {
         "name": "fp_46",
         "rawType": "int64",
         "type": "integer"
        },
        {
         "name": "fp_47",
         "rawType": "int64",
         "type": "integer"
        },
        {
         "name": "fp_48",
         "rawType": "int64",
         "type": "integer"
        },
        {
         "name": "fp_49",
         "rawType": "int64",
         "type": "integer"
        },
        {
         "name": "fp_50",
         "rawType": "int64",
         "type": "integer"
        },
        {
         "name": "fp_51",
         "rawType": "int64",
         "type": "integer"
        },
        {
         "name": "fp_52",
         "rawType": "int64",
         "type": "integer"
        },
        {
         "name": "fp_53",
         "rawType": "int64",
         "type": "integer"
        },
        {
         "name": "fp_54",
         "rawType": "int64",
         "type": "integer"
        },
        {
         "name": "fp_55",
         "rawType": "int64",
         "type": "integer"
        },
        {
         "name": "fp_56",
         "rawType": "int64",
         "type": "integer"
        },
        {
         "name": "fp_57",
         "rawType": "int64",
         "type": "integer"
        },
        {
         "name": "fp_58",
         "rawType": "int64",
         "type": "integer"
        },
        {
         "name": "fp_59",
         "rawType": "int64",
         "type": "integer"
        },
        {
         "name": "fp_60",
         "rawType": "int64",
         "type": "integer"
        },
        {
         "name": "fp_61",
         "rawType": "int64",
         "type": "integer"
        },
        {
         "name": "fp_62",
         "rawType": "int64",
         "type": "integer"
        },
        {
         "name": "fp_63",
         "rawType": "int64",
         "type": "integer"
        },
        {
         "name": "fp_64",
         "rawType": "int64",
         "type": "integer"
        },
        {
         "name": "fp_65",
         "rawType": "int64",
         "type": "integer"
        },
        {
         "name": "fp_66",
         "rawType": "int64",
         "type": "integer"
        },
        {
         "name": "fp_67",
         "rawType": "int64",
         "type": "integer"
        },
        {
         "name": "fp_68",
         "rawType": "int64",
         "type": "integer"
        },
        {
         "name": "fp_69",
         "rawType": "int64",
         "type": "integer"
        },
        {
         "name": "fp_70",
         "rawType": "int64",
         "type": "integer"
        },
        {
         "name": "fp_71",
         "rawType": "int64",
         "type": "integer"
        },
        {
         "name": "fp_72",
         "rawType": "int64",
         "type": "integer"
        },
        {
         "name": "fp_73",
         "rawType": "int64",
         "type": "integer"
        },
        {
         "name": "fp_74",
         "rawType": "int64",
         "type": "integer"
        },
        {
         "name": "fp_75",
         "rawType": "int64",
         "type": "integer"
        },
        {
         "name": "fp_76",
         "rawType": "int64",
         "type": "integer"
        },
        {
         "name": "fp_77",
         "rawType": "int64",
         "type": "integer"
        },
        {
         "name": "fp_78",
         "rawType": "int64",
         "type": "integer"
        },
        {
         "name": "fp_79",
         "rawType": "int64",
         "type": "integer"
        },
        {
         "name": "fp_80",
         "rawType": "int64",
         "type": "integer"
        },
        {
         "name": "fp_81",
         "rawType": "int64",
         "type": "integer"
        },
        {
         "name": "fp_82",
         "rawType": "int64",
         "type": "integer"
        },
        {
         "name": "fp_83",
         "rawType": "int64",
         "type": "integer"
        },
        {
         "name": "fp_84",
         "rawType": "int64",
         "type": "integer"
        },
        {
         "name": "fp_85",
         "rawType": "int64",
         "type": "integer"
        },
        {
         "name": "fp_86",
         "rawType": "int64",
         "type": "integer"
        },
        {
         "name": "fp_87",
         "rawType": "int64",
         "type": "integer"
        },
        {
         "name": "fp_88",
         "rawType": "int64",
         "type": "integer"
        },
        {
         "name": "fp_89",
         "rawType": "int64",
         "type": "integer"
        },
        {
         "name": "fp_90",
         "rawType": "int64",
         "type": "integer"
        },
        {
         "name": "fp_91",
         "rawType": "int64",
         "type": "integer"
        },
        {
         "name": "fp_92",
         "rawType": "int64",
         "type": "integer"
        },
        {
         "name": "fp_93",
         "rawType": "int64",
         "type": "integer"
        },
        {
         "name": "fp_94",
         "rawType": "int64",
         "type": "integer"
        },
        {
         "name": "fp_95",
         "rawType": "int64",
         "type": "integer"
        },
        {
         "name": "fp_96",
         "rawType": "int64",
         "type": "integer"
        },
        {
         "name": "fp_97",
         "rawType": "int64",
         "type": "integer"
        },
        {
         "name": "fp_98",
         "rawType": "int64",
         "type": "integer"
        },
        {
         "name": "fp_99",
         "rawType": "int64",
         "type": "integer"
        },
        {
         "name": "fp_100",
         "rawType": "int64",
         "type": "integer"
        },
        {
         "name": "fp_101",
         "rawType": "int64",
         "type": "integer"
        },
        {
         "name": "fp_102",
         "rawType": "int64",
         "type": "integer"
        },
        {
         "name": "fp_103",
         "rawType": "int64",
         "type": "integer"
        },
        {
         "name": "fp_104",
         "rawType": "int64",
         "type": "integer"
        },
        {
         "name": "fp_105",
         "rawType": "int64",
         "type": "integer"
        },
        {
         "name": "fp_106",
         "rawType": "int64",
         "type": "integer"
        },
        {
         "name": "fp_107",
         "rawType": "int64",
         "type": "integer"
        },
        {
         "name": "fp_108",
         "rawType": "int64",
         "type": "integer"
        },
        {
         "name": "fp_109",
         "rawType": "int64",
         "type": "integer"
        },
        {
         "name": "fp_110",
         "rawType": "int64",
         "type": "integer"
        },
        {
         "name": "fp_111",
         "rawType": "int64",
         "type": "integer"
        },
        {
         "name": "fp_112",
         "rawType": "int64",
         "type": "integer"
        },
        {
         "name": "fp_113",
         "rawType": "int64",
         "type": "integer"
        },
        {
         "name": "fp_114",
         "rawType": "int64",
         "type": "integer"
        },
        {
         "name": "fp_115",
         "rawType": "int64",
         "type": "integer"
        },
        {
         "name": "fp_116",
         "rawType": "int64",
         "type": "integer"
        },
        {
         "name": "fp_117",
         "rawType": "int64",
         "type": "integer"
        },
        {
         "name": "fp_118",
         "rawType": "int64",
         "type": "integer"
        },
        {
         "name": "fp_119",
         "rawType": "int64",
         "type": "integer"
        },
        {
         "name": "fp_120",
         "rawType": "int64",
         "type": "integer"
        },
        {
         "name": "fp_121",
         "rawType": "int64",
         "type": "integer"
        },
        {
         "name": "fp_122",
         "rawType": "int64",
         "type": "integer"
        },
        {
         "name": "fp_123",
         "rawType": "int64",
         "type": "integer"
        },
        {
         "name": "fp_124",
         "rawType": "int64",
         "type": "integer"
        },
        {
         "name": "fp_125",
         "rawType": "int64",
         "type": "integer"
        },
        {
         "name": "fp_126",
         "rawType": "int64",
         "type": "integer"
        },
        {
         "name": "fp_127",
         "rawType": "int64",
         "type": "integer"
        },
        {
         "name": "fp_128",
         "rawType": "int64",
         "type": "integer"
        },
        {
         "name": "fp_129",
         "rawType": "int64",
         "type": "integer"
        },
        {
         "name": "fp_130",
         "rawType": "int64",
         "type": "integer"
        },
        {
         "name": "fp_131",
         "rawType": "int64",
         "type": "integer"
        },
        {
         "name": "fp_132",
         "rawType": "int64",
         "type": "integer"
        },
        {
         "name": "fp_133",
         "rawType": "int64",
         "type": "integer"
        },
        {
         "name": "fp_134",
         "rawType": "int64",
         "type": "integer"
        },
        {
         "name": "fp_135",
         "rawType": "int64",
         "type": "integer"
        },
        {
         "name": "fp_136",
         "rawType": "int64",
         "type": "integer"
        },
        {
         "name": "fp_137",
         "rawType": "int64",
         "type": "integer"
        },
        {
         "name": "fp_138",
         "rawType": "int64",
         "type": "integer"
        },
        {
         "name": "fp_139",
         "rawType": "int64",
         "type": "integer"
        },
        {
         "name": "fp_140",
         "rawType": "int64",
         "type": "integer"
        },
        {
         "name": "fp_141",
         "rawType": "int64",
         "type": "integer"
        },
        {
         "name": "fp_142",
         "rawType": "int64",
         "type": "integer"
        },
        {
         "name": "fp_143",
         "rawType": "int64",
         "type": "integer"
        },
        {
         "name": "fp_144",
         "rawType": "int64",
         "type": "integer"
        },
        {
         "name": "fp_145",
         "rawType": "int64",
         "type": "integer"
        },
        {
         "name": "fp_146",
         "rawType": "int64",
         "type": "integer"
        },
        {
         "name": "fp_147",
         "rawType": "int64",
         "type": "integer"
        },
        {
         "name": "fp_148",
         "rawType": "int64",
         "type": "integer"
        },
        {
         "name": "fp_149",
         "rawType": "int64",
         "type": "integer"
        },
        {
         "name": "fp_150",
         "rawType": "int64",
         "type": "integer"
        },
        {
         "name": "fp_151",
         "rawType": "int64",
         "type": "integer"
        },
        {
         "name": "fp_152",
         "rawType": "int64",
         "type": "integer"
        },
        {
         "name": "fp_153",
         "rawType": "int64",
         "type": "integer"
        },
        {
         "name": "fp_154",
         "rawType": "int64",
         "type": "integer"
        },
        {
         "name": "fp_155",
         "rawType": "int64",
         "type": "integer"
        },
        {
         "name": "fp_156",
         "rawType": "int64",
         "type": "integer"
        },
        {
         "name": "fp_157",
         "rawType": "int64",
         "type": "integer"
        },
        {
         "name": "fp_158",
         "rawType": "int64",
         "type": "integer"
        },
        {
         "name": "fp_159",
         "rawType": "int64",
         "type": "integer"
        },
        {
         "name": "fp_160",
         "rawType": "int64",
         "type": "integer"
        },
        {
         "name": "fp_161",
         "rawType": "int64",
         "type": "integer"
        },
        {
         "name": "fp_162",
         "rawType": "int64",
         "type": "integer"
        },
        {
         "name": "fp_163",
         "rawType": "int64",
         "type": "integer"
        },
        {
         "name": "fp_164",
         "rawType": "int64",
         "type": "integer"
        },
        {
         "name": "fp_165",
         "rawType": "int64",
         "type": "integer"
        },
        {
         "name": "fp_166",
         "rawType": "int64",
         "type": "integer"
        },
        {
         "name": "fp_167",
         "rawType": "int64",
         "type": "integer"
        },
        {
         "name": "fp_168",
         "rawType": "int64",
         "type": "integer"
        },
        {
         "name": "fp_169",
         "rawType": "int64",
         "type": "integer"
        },
        {
         "name": "fp_170",
         "rawType": "int64",
         "type": "integer"
        },
        {
         "name": "fp_171",
         "rawType": "int64",
         "type": "integer"
        },
        {
         "name": "fp_172",
         "rawType": "int64",
         "type": "integer"
        },
        {
         "name": "fp_173",
         "rawType": "int64",
         "type": "integer"
        },
        {
         "name": "fp_174",
         "rawType": "int64",
         "type": "integer"
        },
        {
         "name": "fp_175",
         "rawType": "int64",
         "type": "integer"
        },
        {
         "name": "fp_176",
         "rawType": "int64",
         "type": "integer"
        },
        {
         "name": "fp_177",
         "rawType": "int64",
         "type": "integer"
        },
        {
         "name": "fp_178",
         "rawType": "int64",
         "type": "integer"
        },
        {
         "name": "fp_179",
         "rawType": "int64",
         "type": "integer"
        },
        {
         "name": "fp_180",
         "rawType": "int64",
         "type": "integer"
        },
        {
         "name": "fp_181",
         "rawType": "int64",
         "type": "integer"
        },
        {
         "name": "fp_182",
         "rawType": "int64",
         "type": "integer"
        },
        {
         "name": "fp_183",
         "rawType": "int64",
         "type": "integer"
        },
        {
         "name": "fp_184",
         "rawType": "int64",
         "type": "integer"
        },
        {
         "name": "fp_185",
         "rawType": "int64",
         "type": "integer"
        },
        {
         "name": "fp_186",
         "rawType": "int64",
         "type": "integer"
        },
        {
         "name": "fp_187",
         "rawType": "int64",
         "type": "integer"
        },
        {
         "name": "fp_188",
         "rawType": "int64",
         "type": "integer"
        },
        {
         "name": "fp_189",
         "rawType": "int64",
         "type": "integer"
        },
        {
         "name": "fp_190",
         "rawType": "int64",
         "type": "integer"
        },
        {
         "name": "fp_191",
         "rawType": "int64",
         "type": "integer"
        },
        {
         "name": "fp_192",
         "rawType": "int64",
         "type": "integer"
        },
        {
         "name": "fp_193",
         "rawType": "int64",
         "type": "integer"
        },
        {
         "name": "fp_194",
         "rawType": "int64",
         "type": "integer"
        },
        {
         "name": "fp_195",
         "rawType": "int64",
         "type": "integer"
        },
        {
         "name": "fp_196",
         "rawType": "int64",
         "type": "integer"
        },
        {
         "name": "fp_197",
         "rawType": "int64",
         "type": "integer"
        },
        {
         "name": "fp_198",
         "rawType": "int64",
         "type": "integer"
        },
        {
         "name": "fp_199",
         "rawType": "int64",
         "type": "integer"
        },
        {
         "name": "fp_200",
         "rawType": "int64",
         "type": "integer"
        },
        {
         "name": "fp_201",
         "rawType": "int64",
         "type": "integer"
        },
        {
         "name": "fp_202",
         "rawType": "int64",
         "type": "integer"
        },
        {
         "name": "fp_203",
         "rawType": "int64",
         "type": "integer"
        },
        {
         "name": "fp_204",
         "rawType": "int64",
         "type": "integer"
        },
        {
         "name": "fp_205",
         "rawType": "int64",
         "type": "integer"
        },
        {
         "name": "fp_206",
         "rawType": "int64",
         "type": "integer"
        },
        {
         "name": "fp_207",
         "rawType": "int64",
         "type": "integer"
        },
        {
         "name": "fp_208",
         "rawType": "int64",
         "type": "integer"
        },
        {
         "name": "fp_209",
         "rawType": "int64",
         "type": "integer"
        },
        {
         "name": "fp_210",
         "rawType": "int64",
         "type": "integer"
        },
        {
         "name": "fp_211",
         "rawType": "int64",
         "type": "integer"
        },
        {
         "name": "fp_212",
         "rawType": "int64",
         "type": "integer"
        },
        {
         "name": "fp_213",
         "rawType": "int64",
         "type": "integer"
        },
        {
         "name": "fp_214",
         "rawType": "int64",
         "type": "integer"
        },
        {
         "name": "fp_215",
         "rawType": "int64",
         "type": "integer"
        },
        {
         "name": "fp_216",
         "rawType": "int64",
         "type": "integer"
        },
        {
         "name": "fp_217",
         "rawType": "int64",
         "type": "integer"
        },
        {
         "name": "fp_218",
         "rawType": "int64",
         "type": "integer"
        },
        {
         "name": "fp_219",
         "rawType": "int64",
         "type": "integer"
        },
        {
         "name": "fp_220",
         "rawType": "int64",
         "type": "integer"
        },
        {
         "name": "fp_221",
         "rawType": "int64",
         "type": "integer"
        },
        {
         "name": "fp_222",
         "rawType": "int64",
         "type": "integer"
        },
        {
         "name": "fp_223",
         "rawType": "int64",
         "type": "integer"
        },
        {
         "name": "fp_224",
         "rawType": "int64",
         "type": "integer"
        },
        {
         "name": "fp_225",
         "rawType": "int64",
         "type": "integer"
        },
        {
         "name": "fp_226",
         "rawType": "int64",
         "type": "integer"
        },
        {
         "name": "fp_227",
         "rawType": "int64",
         "type": "integer"
        },
        {
         "name": "fp_228",
         "rawType": "int64",
         "type": "integer"
        },
        {
         "name": "fp_229",
         "rawType": "int64",
         "type": "integer"
        },
        {
         "name": "fp_230",
         "rawType": "int64",
         "type": "integer"
        },
        {
         "name": "fp_231",
         "rawType": "int64",
         "type": "integer"
        },
        {
         "name": "fp_232",
         "rawType": "int64",
         "type": "integer"
        },
        {
         "name": "fp_233",
         "rawType": "int64",
         "type": "integer"
        },
        {
         "name": "fp_234",
         "rawType": "int64",
         "type": "integer"
        },
        {
         "name": "fp_235",
         "rawType": "int64",
         "type": "integer"
        },
        {
         "name": "fp_236",
         "rawType": "int64",
         "type": "integer"
        },
        {
         "name": "fp_237",
         "rawType": "int64",
         "type": "integer"
        },
        {
         "name": "fp_238",
         "rawType": "int64",
         "type": "integer"
        },
        {
         "name": "fp_239",
         "rawType": "int64",
         "type": "integer"
        },
        {
         "name": "fp_240",
         "rawType": "int64",
         "type": "integer"
        },
        {
         "name": "fp_241",
         "rawType": "int64",
         "type": "integer"
        },
        {
         "name": "fp_242",
         "rawType": "int64",
         "type": "integer"
        },
        {
         "name": "fp_243",
         "rawType": "int64",
         "type": "integer"
        },
        {
         "name": "fp_244",
         "rawType": "int64",
         "type": "integer"
        },
        {
         "name": "fp_245",
         "rawType": "int64",
         "type": "integer"
        },
        {
         "name": "fp_246",
         "rawType": "int64",
         "type": "integer"
        },
        {
         "name": "fp_247",
         "rawType": "int64",
         "type": "integer"
        },
        {
         "name": "fp_248",
         "rawType": "int64",
         "type": "integer"
        },
        {
         "name": "fp_249",
         "rawType": "int64",
         "type": "integer"
        },
        {
         "name": "fp_250",
         "rawType": "int64",
         "type": "integer"
        },
        {
         "name": "fp_251",
         "rawType": "int64",
         "type": "integer"
        },
        {
         "name": "fp_252",
         "rawType": "int64",
         "type": "integer"
        },
        {
         "name": "fp_253",
         "rawType": "int64",
         "type": "integer"
        },
        {
         "name": "fp_254",
         "rawType": "int64",
         "type": "integer"
        },
        {
         "name": "fp_255",
         "rawType": "int64",
         "type": "integer"
        },
        {
         "name": "fp_256",
         "rawType": "int64",
         "type": "integer"
        },
        {
         "name": "fp_257",
         "rawType": "int64",
         "type": "integer"
        },
        {
         "name": "fp_258",
         "rawType": "int64",
         "type": "integer"
        },
        {
         "name": "fp_259",
         "rawType": "int64",
         "type": "integer"
        },
        {
         "name": "fp_260",
         "rawType": "int64",
         "type": "integer"
        },
        {
         "name": "fp_261",
         "rawType": "int64",
         "type": "integer"
        },
        {
         "name": "fp_262",
         "rawType": "int64",
         "type": "integer"
        },
        {
         "name": "fp_263",
         "rawType": "int64",
         "type": "integer"
        },
        {
         "name": "fp_264",
         "rawType": "int64",
         "type": "integer"
        },
        {
         "name": "fp_265",
         "rawType": "int64",
         "type": "integer"
        },
        {
         "name": "fp_266",
         "rawType": "int64",
         "type": "integer"
        },
        {
         "name": "fp_267",
         "rawType": "int64",
         "type": "integer"
        },
        {
         "name": "fp_268",
         "rawType": "int64",
         "type": "integer"
        },
        {
         "name": "fp_269",
         "rawType": "int64",
         "type": "integer"
        },
        {
         "name": "fp_270",
         "rawType": "int64",
         "type": "integer"
        },
        {
         "name": "fp_271",
         "rawType": "int64",
         "type": "integer"
        },
        {
         "name": "fp_272",
         "rawType": "int64",
         "type": "integer"
        },
        {
         "name": "fp_273",
         "rawType": "int64",
         "type": "integer"
        },
        {
         "name": "fp_274",
         "rawType": "int64",
         "type": "integer"
        },
        {
         "name": "fp_275",
         "rawType": "int64",
         "type": "integer"
        },
        {
         "name": "fp_276",
         "rawType": "int64",
         "type": "integer"
        },
        {
         "name": "fp_277",
         "rawType": "int64",
         "type": "integer"
        },
        {
         "name": "fp_278",
         "rawType": "int64",
         "type": "integer"
        },
        {
         "name": "fp_279",
         "rawType": "int64",
         "type": "integer"
        },
        {
         "name": "fp_280",
         "rawType": "int64",
         "type": "integer"
        },
        {
         "name": "fp_281",
         "rawType": "int64",
         "type": "integer"
        },
        {
         "name": "fp_282",
         "rawType": "int64",
         "type": "integer"
        },
        {
         "name": "fp_283",
         "rawType": "int64",
         "type": "integer"
        },
        {
         "name": "fp_284",
         "rawType": "int64",
         "type": "integer"
        },
        {
         "name": "fp_285",
         "rawType": "int64",
         "type": "integer"
        },
        {
         "name": "fp_286",
         "rawType": "int64",
         "type": "integer"
        },
        {
         "name": "fp_287",
         "rawType": "int64",
         "type": "integer"
        },
        {
         "name": "fp_288",
         "rawType": "int64",
         "type": "integer"
        },
        {
         "name": "fp_289",
         "rawType": "int64",
         "type": "integer"
        },
        {
         "name": "fp_290",
         "rawType": "int64",
         "type": "integer"
        },
        {
         "name": "fp_291",
         "rawType": "int64",
         "type": "integer"
        },
        {
         "name": "fp_292",
         "rawType": "int64",
         "type": "integer"
        },
        {
         "name": "fp_293",
         "rawType": "int64",
         "type": "integer"
        },
        {
         "name": "fp_294",
         "rawType": "int64",
         "type": "integer"
        },
        {
         "name": "fp_295",
         "rawType": "int64",
         "type": "integer"
        },
        {
         "name": "fp_296",
         "rawType": "int64",
         "type": "integer"
        },
        {
         "name": "fp_297",
         "rawType": "int64",
         "type": "integer"
        },
        {
         "name": "fp_298",
         "rawType": "int64",
         "type": "integer"
        },
        {
         "name": "fp_299",
         "rawType": "int64",
         "type": "integer"
        },
        {
         "name": "fp_300",
         "rawType": "int64",
         "type": "integer"
        },
        {
         "name": "fp_301",
         "rawType": "int64",
         "type": "integer"
        },
        {
         "name": "fp_302",
         "rawType": "int64",
         "type": "integer"
        },
        {
         "name": "fp_303",
         "rawType": "int64",
         "type": "integer"
        },
        {
         "name": "fp_304",
         "rawType": "int64",
         "type": "integer"
        },
        {
         "name": "fp_305",
         "rawType": "int64",
         "type": "integer"
        },
        {
         "name": "fp_306",
         "rawType": "int64",
         "type": "integer"
        },
        {
         "name": "fp_307",
         "rawType": "int64",
         "type": "integer"
        },
        {
         "name": "fp_308",
         "rawType": "int64",
         "type": "integer"
        },
        {
         "name": "fp_309",
         "rawType": "int64",
         "type": "integer"
        },
        {
         "name": "fp_310",
         "rawType": "int64",
         "type": "integer"
        },
        {
         "name": "fp_311",
         "rawType": "int64",
         "type": "integer"
        },
        {
         "name": "fp_312",
         "rawType": "int64",
         "type": "integer"
        },
        {
         "name": "fp_313",
         "rawType": "int64",
         "type": "integer"
        },
        {
         "name": "fp_314",
         "rawType": "int64",
         "type": "integer"
        },
        {
         "name": "fp_315",
         "rawType": "int64",
         "type": "integer"
        },
        {
         "name": "fp_316",
         "rawType": "int64",
         "type": "integer"
        },
        {
         "name": "fp_317",
         "rawType": "int64",
         "type": "integer"
        },
        {
         "name": "fp_318",
         "rawType": "int64",
         "type": "integer"
        },
        {
         "name": "fp_319",
         "rawType": "int64",
         "type": "integer"
        },
        {
         "name": "fp_320",
         "rawType": "int64",
         "type": "integer"
        },
        {
         "name": "fp_321",
         "rawType": "int64",
         "type": "integer"
        },
        {
         "name": "fp_322",
         "rawType": "int64",
         "type": "integer"
        },
        {
         "name": "fp_323",
         "rawType": "int64",
         "type": "integer"
        },
        {
         "name": "fp_324",
         "rawType": "int64",
         "type": "integer"
        },
        {
         "name": "fp_325",
         "rawType": "int64",
         "type": "integer"
        },
        {
         "name": "fp_326",
         "rawType": "int64",
         "type": "integer"
        },
        {
         "name": "fp_327",
         "rawType": "int64",
         "type": "integer"
        },
        {
         "name": "fp_328",
         "rawType": "int64",
         "type": "integer"
        },
        {
         "name": "fp_329",
         "rawType": "int64",
         "type": "integer"
        },
        {
         "name": "fp_330",
         "rawType": "int64",
         "type": "integer"
        },
        {
         "name": "fp_331",
         "rawType": "int64",
         "type": "integer"
        },
        {
         "name": "fp_332",
         "rawType": "int64",
         "type": "integer"
        },
        {
         "name": "fp_333",
         "rawType": "int64",
         "type": "integer"
        },
        {
         "name": "fp_334",
         "rawType": "int64",
         "type": "integer"
        },
        {
         "name": "fp_335",
         "rawType": "int64",
         "type": "integer"
        },
        {
         "name": "fp_336",
         "rawType": "int64",
         "type": "integer"
        },
        {
         "name": "fp_337",
         "rawType": "int64",
         "type": "integer"
        },
        {
         "name": "fp_338",
         "rawType": "int64",
         "type": "integer"
        },
        {
         "name": "fp_339",
         "rawType": "int64",
         "type": "integer"
        },
        {
         "name": "fp_340",
         "rawType": "int64",
         "type": "integer"
        },
        {
         "name": "fp_341",
         "rawType": "int64",
         "type": "integer"
        },
        {
         "name": "fp_342",
         "rawType": "int64",
         "type": "integer"
        },
        {
         "name": "fp_343",
         "rawType": "int64",
         "type": "integer"
        },
        {
         "name": "fp_344",
         "rawType": "int64",
         "type": "integer"
        },
        {
         "name": "fp_345",
         "rawType": "int64",
         "type": "integer"
        },
        {
         "name": "fp_346",
         "rawType": "int64",
         "type": "integer"
        },
        {
         "name": "fp_347",
         "rawType": "int64",
         "type": "integer"
        },
        {
         "name": "fp_348",
         "rawType": "int64",
         "type": "integer"
        },
        {
         "name": "fp_349",
         "rawType": "int64",
         "type": "integer"
        },
        {
         "name": "fp_350",
         "rawType": "int64",
         "type": "integer"
        },
        {
         "name": "fp_351",
         "rawType": "int64",
         "type": "integer"
        },
        {
         "name": "fp_352",
         "rawType": "int64",
         "type": "integer"
        },
        {
         "name": "fp_353",
         "rawType": "int64",
         "type": "integer"
        },
        {
         "name": "fp_354",
         "rawType": "int64",
         "type": "integer"
        },
        {
         "name": "fp_355",
         "rawType": "int64",
         "type": "integer"
        },
        {
         "name": "fp_356",
         "rawType": "int64",
         "type": "integer"
        },
        {
         "name": "fp_357",
         "rawType": "int64",
         "type": "integer"
        },
        {
         "name": "fp_358",
         "rawType": "int64",
         "type": "integer"
        },
        {
         "name": "fp_359",
         "rawType": "int64",
         "type": "integer"
        },
        {
         "name": "fp_360",
         "rawType": "int64",
         "type": "integer"
        },
        {
         "name": "fp_361",
         "rawType": "int64",
         "type": "integer"
        },
        {
         "name": "fp_362",
         "rawType": "int64",
         "type": "integer"
        },
        {
         "name": "fp_363",
         "rawType": "int64",
         "type": "integer"
        },
        {
         "name": "fp_364",
         "rawType": "int64",
         "type": "integer"
        },
        {
         "name": "fp_365",
         "rawType": "int64",
         "type": "integer"
        },
        {
         "name": "fp_366",
         "rawType": "int64",
         "type": "integer"
        },
        {
         "name": "fp_367",
         "rawType": "int64",
         "type": "integer"
        },
        {
         "name": "fp_368",
         "rawType": "int64",
         "type": "integer"
        },
        {
         "name": "fp_369",
         "rawType": "int64",
         "type": "integer"
        },
        {
         "name": "fp_370",
         "rawType": "int64",
         "type": "integer"
        },
        {
         "name": "fp_371",
         "rawType": "int64",
         "type": "integer"
        },
        {
         "name": "fp_372",
         "rawType": "int64",
         "type": "integer"
        },
        {
         "name": "fp_373",
         "rawType": "int64",
         "type": "integer"
        },
        {
         "name": "fp_374",
         "rawType": "int64",
         "type": "integer"
        },
        {
         "name": "fp_375",
         "rawType": "int64",
         "type": "integer"
        },
        {
         "name": "fp_376",
         "rawType": "int64",
         "type": "integer"
        },
        {
         "name": "fp_377",
         "rawType": "int64",
         "type": "integer"
        },
        {
         "name": "fp_378",
         "rawType": "int64",
         "type": "integer"
        },
        {
         "name": "fp_379",
         "rawType": "int64",
         "type": "integer"
        },
        {
         "name": "fp_380",
         "rawType": "int64",
         "type": "integer"
        },
        {
         "name": "fp_381",
         "rawType": "int64",
         "type": "integer"
        },
        {
         "name": "fp_382",
         "rawType": "int64",
         "type": "integer"
        },
        {
         "name": "fp_383",
         "rawType": "int64",
         "type": "integer"
        },
        {
         "name": "fp_384",
         "rawType": "int64",
         "type": "integer"
        },
        {
         "name": "fp_385",
         "rawType": "int64",
         "type": "integer"
        },
        {
         "name": "fp_386",
         "rawType": "int64",
         "type": "integer"
        },
        {
         "name": "fp_387",
         "rawType": "int64",
         "type": "integer"
        },
        {
         "name": "fp_388",
         "rawType": "int64",
         "type": "integer"
        },
        {
         "name": "fp_389",
         "rawType": "int64",
         "type": "integer"
        },
        {
         "name": "fp_390",
         "rawType": "int64",
         "type": "integer"
        },
        {
         "name": "fp_391",
         "rawType": "int64",
         "type": "integer"
        },
        {
         "name": "fp_392",
         "rawType": "int64",
         "type": "integer"
        },
        {
         "name": "fp_393",
         "rawType": "int64",
         "type": "integer"
        },
        {
         "name": "fp_394",
         "rawType": "int64",
         "type": "integer"
        },
        {
         "name": "fp_395",
         "rawType": "int64",
         "type": "integer"
        },
        {
         "name": "fp_396",
         "rawType": "int64",
         "type": "integer"
        },
        {
         "name": "fp_397",
         "rawType": "int64",
         "type": "integer"
        },
        {
         "name": "fp_398",
         "rawType": "int64",
         "type": "integer"
        },
        {
         "name": "fp_399",
         "rawType": "int64",
         "type": "integer"
        },
        {
         "name": "fp_400",
         "rawType": "int64",
         "type": "integer"
        },
        {
         "name": "fp_401",
         "rawType": "int64",
         "type": "integer"
        },
        {
         "name": "fp_402",
         "rawType": "int64",
         "type": "integer"
        },
        {
         "name": "fp_403",
         "rawType": "int64",
         "type": "integer"
        },
        {
         "name": "fp_404",
         "rawType": "int64",
         "type": "integer"
        },
        {
         "name": "fp_405",
         "rawType": "int64",
         "type": "integer"
        },
        {
         "name": "fp_406",
         "rawType": "int64",
         "type": "integer"
        },
        {
         "name": "fp_407",
         "rawType": "int64",
         "type": "integer"
        },
        {
         "name": "fp_408",
         "rawType": "int64",
         "type": "integer"
        },
        {
         "name": "fp_409",
         "rawType": "int64",
         "type": "integer"
        },
        {
         "name": "fp_410",
         "rawType": "int64",
         "type": "integer"
        },
        {
         "name": "fp_411",
         "rawType": "int64",
         "type": "integer"
        },
        {
         "name": "fp_412",
         "rawType": "int64",
         "type": "integer"
        },
        {
         "name": "fp_413",
         "rawType": "int64",
         "type": "integer"
        },
        {
         "name": "fp_414",
         "rawType": "int64",
         "type": "integer"
        },
        {
         "name": "fp_415",
         "rawType": "int64",
         "type": "integer"
        },
        {
         "name": "fp_416",
         "rawType": "int64",
         "type": "integer"
        },
        {
         "name": "fp_417",
         "rawType": "int64",
         "type": "integer"
        },
        {
         "name": "fp_418",
         "rawType": "int64",
         "type": "integer"
        },
        {
         "name": "fp_419",
         "rawType": "int64",
         "type": "integer"
        },
        {
         "name": "fp_420",
         "rawType": "int64",
         "type": "integer"
        },
        {
         "name": "fp_421",
         "rawType": "int64",
         "type": "integer"
        },
        {
         "name": "fp_422",
         "rawType": "int64",
         "type": "integer"
        },
        {
         "name": "fp_423",
         "rawType": "int64",
         "type": "integer"
        },
        {
         "name": "fp_424",
         "rawType": "int64",
         "type": "integer"
        },
        {
         "name": "fp_425",
         "rawType": "int64",
         "type": "integer"
        },
        {
         "name": "fp_426",
         "rawType": "int64",
         "type": "integer"
        },
        {
         "name": "fp_427",
         "rawType": "int64",
         "type": "integer"
        },
        {
         "name": "fp_428",
         "rawType": "int64",
         "type": "integer"
        },
        {
         "name": "fp_429",
         "rawType": "int64",
         "type": "integer"
        },
        {
         "name": "fp_430",
         "rawType": "int64",
         "type": "integer"
        },
        {
         "name": "fp_431",
         "rawType": "int64",
         "type": "integer"
        },
        {
         "name": "fp_432",
         "rawType": "int64",
         "type": "integer"
        },
        {
         "name": "fp_433",
         "rawType": "int64",
         "type": "integer"
        },
        {
         "name": "fp_434",
         "rawType": "int64",
         "type": "integer"
        },
        {
         "name": "fp_435",
         "rawType": "int64",
         "type": "integer"
        },
        {
         "name": "fp_436",
         "rawType": "int64",
         "type": "integer"
        },
        {
         "name": "fp_437",
         "rawType": "int64",
         "type": "integer"
        },
        {
         "name": "fp_438",
         "rawType": "int64",
         "type": "integer"
        },
        {
         "name": "fp_439",
         "rawType": "int64",
         "type": "integer"
        },
        {
         "name": "fp_440",
         "rawType": "int64",
         "type": "integer"
        },
        {
         "name": "fp_441",
         "rawType": "int64",
         "type": "integer"
        },
        {
         "name": "fp_442",
         "rawType": "int64",
         "type": "integer"
        },
        {
         "name": "fp_443",
         "rawType": "int64",
         "type": "integer"
        },
        {
         "name": "fp_444",
         "rawType": "int64",
         "type": "integer"
        },
        {
         "name": "fp_445",
         "rawType": "int64",
         "type": "integer"
        },
        {
         "name": "fp_446",
         "rawType": "int64",
         "type": "integer"
        },
        {
         "name": "fp_447",
         "rawType": "int64",
         "type": "integer"
        },
        {
         "name": "fp_448",
         "rawType": "int64",
         "type": "integer"
        },
        {
         "name": "fp_449",
         "rawType": "int64",
         "type": "integer"
        },
        {
         "name": "fp_450",
         "rawType": "int64",
         "type": "integer"
        },
        {
         "name": "fp_451",
         "rawType": "int64",
         "type": "integer"
        },
        {
         "name": "fp_452",
         "rawType": "int64",
         "type": "integer"
        },
        {
         "name": "fp_453",
         "rawType": "int64",
         "type": "integer"
        },
        {
         "name": "fp_454",
         "rawType": "int64",
         "type": "integer"
        },
        {
         "name": "fp_455",
         "rawType": "int64",
         "type": "integer"
        },
        {
         "name": "fp_456",
         "rawType": "int64",
         "type": "integer"
        },
        {
         "name": "fp_457",
         "rawType": "int64",
         "type": "integer"
        },
        {
         "name": "fp_458",
         "rawType": "int64",
         "type": "integer"
        },
        {
         "name": "fp_459",
         "rawType": "int64",
         "type": "integer"
        },
        {
         "name": "fp_460",
         "rawType": "int64",
         "type": "integer"
        },
        {
         "name": "fp_461",
         "rawType": "int64",
         "type": "integer"
        },
        {
         "name": "fp_462",
         "rawType": "int64",
         "type": "integer"
        },
        {
         "name": "fp_463",
         "rawType": "int64",
         "type": "integer"
        },
        {
         "name": "fp_464",
         "rawType": "int64",
         "type": "integer"
        },
        {
         "name": "fp_465",
         "rawType": "int64",
         "type": "integer"
        },
        {
         "name": "fp_466",
         "rawType": "int64",
         "type": "integer"
        },
        {
         "name": "fp_467",
         "rawType": "int64",
         "type": "integer"
        },
        {
         "name": "fp_468",
         "rawType": "int64",
         "type": "integer"
        },
        {
         "name": "fp_469",
         "rawType": "int64",
         "type": "integer"
        },
        {
         "name": "fp_470",
         "rawType": "int64",
         "type": "integer"
        },
        {
         "name": "fp_471",
         "rawType": "int64",
         "type": "integer"
        },
        {
         "name": "fp_472",
         "rawType": "int64",
         "type": "integer"
        },
        {
         "name": "fp_473",
         "rawType": "int64",
         "type": "integer"
        },
        {
         "name": "fp_474",
         "rawType": "int64",
         "type": "integer"
        },
        {
         "name": "fp_475",
         "rawType": "int64",
         "type": "integer"
        },
        {
         "name": "fp_476",
         "rawType": "int64",
         "type": "integer"
        },
        {
         "name": "fp_477",
         "rawType": "int64",
         "type": "integer"
        },
        {
         "name": "fp_478",
         "rawType": "int64",
         "type": "integer"
        },
        {
         "name": "fp_479",
         "rawType": "int64",
         "type": "integer"
        },
        {
         "name": "fp_480",
         "rawType": "int64",
         "type": "integer"
        },
        {
         "name": "fp_481",
         "rawType": "int64",
         "type": "integer"
        },
        {
         "name": "fp_482",
         "rawType": "int64",
         "type": "integer"
        },
        {
         "name": "fp_483",
         "rawType": "int64",
         "type": "integer"
        },
        {
         "name": "fp_484",
         "rawType": "int64",
         "type": "integer"
        },
        {
         "name": "fp_485",
         "rawType": "int64",
         "type": "integer"
        },
        {
         "name": "fp_486",
         "rawType": "int64",
         "type": "integer"
        },
        {
         "name": "fp_487",
         "rawType": "int64",
         "type": "integer"
        },
        {
         "name": "fp_488",
         "rawType": "int64",
         "type": "integer"
        },
        {
         "name": "fp_489",
         "rawType": "int64",
         "type": "integer"
        },
        {
         "name": "fp_490",
         "rawType": "int64",
         "type": "integer"
        },
        {
         "name": "fp_491",
         "rawType": "int64",
         "type": "integer"
        },
        {
         "name": "fp_492",
         "rawType": "int64",
         "type": "integer"
        },
        {
         "name": "fp_493",
         "rawType": "int64",
         "type": "integer"
        },
        {
         "name": "fp_494",
         "rawType": "int64",
         "type": "integer"
        },
        {
         "name": "fp_495",
         "rawType": "int64",
         "type": "integer"
        },
        {
         "name": "fp_496",
         "rawType": "int64",
         "type": "integer"
        },
        {
         "name": "fp_497",
         "rawType": "int64",
         "type": "integer"
        },
        {
         "name": "fp_498",
         "rawType": "int64",
         "type": "integer"
        },
        {
         "name": "fp_499",
         "rawType": "int64",
         "type": "integer"
        },
        {
         "name": "fp_500",
         "rawType": "int64",
         "type": "integer"
        },
        {
         "name": "fp_501",
         "rawType": "int64",
         "type": "integer"
        },
        {
         "name": "fp_502",
         "rawType": "int64",
         "type": "integer"
        },
        {
         "name": "fp_503",
         "rawType": "int64",
         "type": "integer"
        },
        {
         "name": "fp_504",
         "rawType": "int64",
         "type": "integer"
        },
        {
         "name": "fp_505",
         "rawType": "int64",
         "type": "integer"
        },
        {
         "name": "fp_506",
         "rawType": "int64",
         "type": "integer"
        },
        {
         "name": "fp_507",
         "rawType": "int64",
         "type": "integer"
        },
        {
         "name": "fp_508",
         "rawType": "int64",
         "type": "integer"
        },
        {
         "name": "fp_509",
         "rawType": "int64",
         "type": "integer"
        },
        {
         "name": "fp_510",
         "rawType": "int64",
         "type": "integer"
        },
        {
         "name": "fp_511",
         "rawType": "int64",
         "type": "integer"
        },
        {
         "name": "fp_512",
         "rawType": "int64",
         "type": "integer"
        },
        {
         "name": "fp_513",
         "rawType": "int64",
         "type": "integer"
        },
        {
         "name": "fp_514",
         "rawType": "int64",
         "type": "integer"
        },
        {
         "name": "fp_515",
         "rawType": "int64",
         "type": "integer"
        },
        {
         "name": "fp_516",
         "rawType": "int64",
         "type": "integer"
        },
        {
         "name": "fp_517",
         "rawType": "int64",
         "type": "integer"
        },
        {
         "name": "fp_518",
         "rawType": "int64",
         "type": "integer"
        },
        {
         "name": "fp_519",
         "rawType": "int64",
         "type": "integer"
        },
        {
         "name": "fp_520",
         "rawType": "int64",
         "type": "integer"
        },
        {
         "name": "fp_521",
         "rawType": "int64",
         "type": "integer"
        },
        {
         "name": "fp_522",
         "rawType": "int64",
         "type": "integer"
        },
        {
         "name": "fp_523",
         "rawType": "int64",
         "type": "integer"
        },
        {
         "name": "fp_524",
         "rawType": "int64",
         "type": "integer"
        },
        {
         "name": "fp_525",
         "rawType": "int64",
         "type": "integer"
        },
        {
         "name": "fp_526",
         "rawType": "int64",
         "type": "integer"
        },
        {
         "name": "fp_527",
         "rawType": "int64",
         "type": "integer"
        },
        {
         "name": "fp_528",
         "rawType": "int64",
         "type": "integer"
        },
        {
         "name": "fp_529",
         "rawType": "int64",
         "type": "integer"
        },
        {
         "name": "fp_530",
         "rawType": "int64",
         "type": "integer"
        },
        {
         "name": "fp_531",
         "rawType": "int64",
         "type": "integer"
        },
        {
         "name": "fp_532",
         "rawType": "int64",
         "type": "integer"
        },
        {
         "name": "fp_533",
         "rawType": "int64",
         "type": "integer"
        },
        {
         "name": "fp_534",
         "rawType": "int64",
         "type": "integer"
        },
        {
         "name": "fp_535",
         "rawType": "int64",
         "type": "integer"
        },
        {
         "name": "fp_536",
         "rawType": "int64",
         "type": "integer"
        },
        {
         "name": "fp_537",
         "rawType": "int64",
         "type": "integer"
        },
        {
         "name": "fp_538",
         "rawType": "int64",
         "type": "integer"
        },
        {
         "name": "fp_539",
         "rawType": "int64",
         "type": "integer"
        },
        {
         "name": "fp_540",
         "rawType": "int64",
         "type": "integer"
        },
        {
         "name": "fp_541",
         "rawType": "int64",
         "type": "integer"
        },
        {
         "name": "fp_542",
         "rawType": "int64",
         "type": "integer"
        },
        {
         "name": "fp_543",
         "rawType": "int64",
         "type": "integer"
        },
        {
         "name": "fp_544",
         "rawType": "int64",
         "type": "integer"
        },
        {
         "name": "fp_545",
         "rawType": "int64",
         "type": "integer"
        },
        {
         "name": "fp_546",
         "rawType": "int64",
         "type": "integer"
        },
        {
         "name": "fp_547",
         "rawType": "int64",
         "type": "integer"
        },
        {
         "name": "fp_548",
         "rawType": "int64",
         "type": "integer"
        },
        {
         "name": "fp_549",
         "rawType": "int64",
         "type": "integer"
        },
        {
         "name": "fp_550",
         "rawType": "int64",
         "type": "integer"
        },
        {
         "name": "fp_551",
         "rawType": "int64",
         "type": "integer"
        },
        {
         "name": "fp_552",
         "rawType": "int64",
         "type": "integer"
        },
        {
         "name": "fp_553",
         "rawType": "int64",
         "type": "integer"
        },
        {
         "name": "fp_554",
         "rawType": "int64",
         "type": "integer"
        },
        {
         "name": "fp_555",
         "rawType": "int64",
         "type": "integer"
        },
        {
         "name": "fp_556",
         "rawType": "int64",
         "type": "integer"
        },
        {
         "name": "fp_557",
         "rawType": "int64",
         "type": "integer"
        },
        {
         "name": "fp_558",
         "rawType": "int64",
         "type": "integer"
        },
        {
         "name": "fp_559",
         "rawType": "int64",
         "type": "integer"
        },
        {
         "name": "fp_560",
         "rawType": "int64",
         "type": "integer"
        },
        {
         "name": "fp_561",
         "rawType": "int64",
         "type": "integer"
        },
        {
         "name": "fp_562",
         "rawType": "int64",
         "type": "integer"
        },
        {
         "name": "fp_563",
         "rawType": "int64",
         "type": "integer"
        },
        {
         "name": "fp_564",
         "rawType": "int64",
         "type": "integer"
        },
        {
         "name": "fp_565",
         "rawType": "int64",
         "type": "integer"
        },
        {
         "name": "fp_566",
         "rawType": "int64",
         "type": "integer"
        },
        {
         "name": "fp_567",
         "rawType": "int64",
         "type": "integer"
        },
        {
         "name": "fp_568",
         "rawType": "int64",
         "type": "integer"
        },
        {
         "name": "fp_569",
         "rawType": "int64",
         "type": "integer"
        },
        {
         "name": "fp_570",
         "rawType": "int64",
         "type": "integer"
        },
        {
         "name": "fp_571",
         "rawType": "int64",
         "type": "integer"
        },
        {
         "name": "fp_572",
         "rawType": "int64",
         "type": "integer"
        },
        {
         "name": "fp_573",
         "rawType": "int64",
         "type": "integer"
        },
        {
         "name": "fp_574",
         "rawType": "int64",
         "type": "integer"
        },
        {
         "name": "fp_575",
         "rawType": "int64",
         "type": "integer"
        },
        {
         "name": "fp_576",
         "rawType": "int64",
         "type": "integer"
        },
        {
         "name": "fp_577",
         "rawType": "int64",
         "type": "integer"
        },
        {
         "name": "fp_578",
         "rawType": "int64",
         "type": "integer"
        },
        {
         "name": "fp_579",
         "rawType": "int64",
         "type": "integer"
        },
        {
         "name": "fp_580",
         "rawType": "int64",
         "type": "integer"
        },
        {
         "name": "fp_581",
         "rawType": "int64",
         "type": "integer"
        },
        {
         "name": "fp_582",
         "rawType": "int64",
         "type": "integer"
        },
        {
         "name": "fp_583",
         "rawType": "int64",
         "type": "integer"
        },
        {
         "name": "fp_584",
         "rawType": "int64",
         "type": "integer"
        },
        {
         "name": "fp_585",
         "rawType": "int64",
         "type": "integer"
        },
        {
         "name": "fp_586",
         "rawType": "int64",
         "type": "integer"
        },
        {
         "name": "fp_587",
         "rawType": "int64",
         "type": "integer"
        },
        {
         "name": "fp_588",
         "rawType": "int64",
         "type": "integer"
        },
        {
         "name": "fp_589",
         "rawType": "int64",
         "type": "integer"
        },
        {
         "name": "fp_590",
         "rawType": "int64",
         "type": "integer"
        },
        {
         "name": "fp_591",
         "rawType": "int64",
         "type": "integer"
        },
        {
         "name": "fp_592",
         "rawType": "int64",
         "type": "integer"
        },
        {
         "name": "fp_593",
         "rawType": "int64",
         "type": "integer"
        },
        {
         "name": "fp_594",
         "rawType": "int64",
         "type": "integer"
        },
        {
         "name": "fp_595",
         "rawType": "int64",
         "type": "integer"
        },
        {
         "name": "fp_596",
         "rawType": "int64",
         "type": "integer"
        },
        {
         "name": "fp_597",
         "rawType": "int64",
         "type": "integer"
        },
        {
         "name": "fp_598",
         "rawType": "int64",
         "type": "integer"
        },
        {
         "name": "fp_599",
         "rawType": "int64",
         "type": "integer"
        },
        {
         "name": "fp_600",
         "rawType": "int64",
         "type": "integer"
        },
        {
         "name": "fp_601",
         "rawType": "int64",
         "type": "integer"
        },
        {
         "name": "fp_602",
         "rawType": "int64",
         "type": "integer"
        },
        {
         "name": "fp_603",
         "rawType": "int64",
         "type": "integer"
        },
        {
         "name": "fp_604",
         "rawType": "int64",
         "type": "integer"
        },
        {
         "name": "fp_605",
         "rawType": "int64",
         "type": "integer"
        },
        {
         "name": "fp_606",
         "rawType": "int64",
         "type": "integer"
        },
        {
         "name": "fp_607",
         "rawType": "int64",
         "type": "integer"
        },
        {
         "name": "fp_608",
         "rawType": "int64",
         "type": "integer"
        },
        {
         "name": "fp_609",
         "rawType": "int64",
         "type": "integer"
        },
        {
         "name": "fp_610",
         "rawType": "int64",
         "type": "integer"
        },
        {
         "name": "fp_611",
         "rawType": "int64",
         "type": "integer"
        },
        {
         "name": "fp_612",
         "rawType": "int64",
         "type": "integer"
        },
        {
         "name": "fp_613",
         "rawType": "int64",
         "type": "integer"
        },
        {
         "name": "fp_614",
         "rawType": "int64",
         "type": "integer"
        },
        {
         "name": "fp_615",
         "rawType": "int64",
         "type": "integer"
        },
        {
         "name": "fp_616",
         "rawType": "int64",
         "type": "integer"
        },
        {
         "name": "fp_617",
         "rawType": "int64",
         "type": "integer"
        },
        {
         "name": "fp_618",
         "rawType": "int64",
         "type": "integer"
        },
        {
         "name": "fp_619",
         "rawType": "int64",
         "type": "integer"
        },
        {
         "name": "fp_620",
         "rawType": "int64",
         "type": "integer"
        },
        {
         "name": "fp_621",
         "rawType": "int64",
         "type": "integer"
        },
        {
         "name": "fp_622",
         "rawType": "int64",
         "type": "integer"
        },
        {
         "name": "fp_623",
         "rawType": "int64",
         "type": "integer"
        },
        {
         "name": "fp_624",
         "rawType": "int64",
         "type": "integer"
        },
        {
         "name": "fp_625",
         "rawType": "int64",
         "type": "integer"
        },
        {
         "name": "fp_626",
         "rawType": "int64",
         "type": "integer"
        },
        {
         "name": "fp_627",
         "rawType": "int64",
         "type": "integer"
        },
        {
         "name": "fp_628",
         "rawType": "int64",
         "type": "integer"
        },
        {
         "name": "fp_629",
         "rawType": "int64",
         "type": "integer"
        },
        {
         "name": "fp_630",
         "rawType": "int64",
         "type": "integer"
        },
        {
         "name": "fp_631",
         "rawType": "int64",
         "type": "integer"
        },
        {
         "name": "fp_632",
         "rawType": "int64",
         "type": "integer"
        },
        {
         "name": "fp_633",
         "rawType": "int64",
         "type": "integer"
        },
        {
         "name": "fp_634",
         "rawType": "int64",
         "type": "integer"
        },
        {
         "name": "fp_635",
         "rawType": "int64",
         "type": "integer"
        },
        {
         "name": "fp_636",
         "rawType": "int64",
         "type": "integer"
        },
        {
         "name": "fp_637",
         "rawType": "int64",
         "type": "integer"
        },
        {
         "name": "fp_638",
         "rawType": "int64",
         "type": "integer"
        },
        {
         "name": "fp_639",
         "rawType": "int64",
         "type": "integer"
        },
        {
         "name": "fp_640",
         "rawType": "int64",
         "type": "integer"
        },
        {
         "name": "fp_641",
         "rawType": "int64",
         "type": "integer"
        },
        {
         "name": "fp_642",
         "rawType": "int64",
         "type": "integer"
        },
        {
         "name": "fp_643",
         "rawType": "int64",
         "type": "integer"
        },
        {
         "name": "fp_644",
         "rawType": "int64",
         "type": "integer"
        },
        {
         "name": "fp_645",
         "rawType": "int64",
         "type": "integer"
        },
        {
         "name": "fp_646",
         "rawType": "int64",
         "type": "integer"
        },
        {
         "name": "fp_647",
         "rawType": "int64",
         "type": "integer"
        },
        {
         "name": "fp_648",
         "rawType": "int64",
         "type": "integer"
        },
        {
         "name": "fp_649",
         "rawType": "int64",
         "type": "integer"
        },
        {
         "name": "fp_650",
         "rawType": "int64",
         "type": "integer"
        },
        {
         "name": "fp_651",
         "rawType": "int64",
         "type": "integer"
        },
        {
         "name": "fp_652",
         "rawType": "int64",
         "type": "integer"
        },
        {
         "name": "fp_653",
         "rawType": "int64",
         "type": "integer"
        },
        {
         "name": "fp_654",
         "rawType": "int64",
         "type": "integer"
        },
        {
         "name": "fp_655",
         "rawType": "int64",
         "type": "integer"
        },
        {
         "name": "fp_656",
         "rawType": "int64",
         "type": "integer"
        },
        {
         "name": "fp_657",
         "rawType": "int64",
         "type": "integer"
        },
        {
         "name": "fp_658",
         "rawType": "int64",
         "type": "integer"
        },
        {
         "name": "fp_659",
         "rawType": "int64",
         "type": "integer"
        },
        {
         "name": "fp_660",
         "rawType": "int64",
         "type": "integer"
        },
        {
         "name": "fp_661",
         "rawType": "int64",
         "type": "integer"
        },
        {
         "name": "fp_662",
         "rawType": "int64",
         "type": "integer"
        },
        {
         "name": "fp_663",
         "rawType": "int64",
         "type": "integer"
        },
        {
         "name": "fp_664",
         "rawType": "int64",
         "type": "integer"
        },
        {
         "name": "fp_665",
         "rawType": "int64",
         "type": "integer"
        },
        {
         "name": "fp_666",
         "rawType": "int64",
         "type": "integer"
        },
        {
         "name": "fp_667",
         "rawType": "int64",
         "type": "integer"
        },
        {
         "name": "fp_668",
         "rawType": "int64",
         "type": "integer"
        },
        {
         "name": "fp_669",
         "rawType": "int64",
         "type": "integer"
        },
        {
         "name": "fp_670",
         "rawType": "int64",
         "type": "integer"
        },
        {
         "name": "fp_671",
         "rawType": "int64",
         "type": "integer"
        },
        {
         "name": "fp_672",
         "rawType": "int64",
         "type": "integer"
        },
        {
         "name": "fp_673",
         "rawType": "int64",
         "type": "integer"
        },
        {
         "name": "fp_674",
         "rawType": "int64",
         "type": "integer"
        },
        {
         "name": "fp_675",
         "rawType": "int64",
         "type": "integer"
        },
        {
         "name": "fp_676",
         "rawType": "int64",
         "type": "integer"
        },
        {
         "name": "fp_677",
         "rawType": "int64",
         "type": "integer"
        },
        {
         "name": "fp_678",
         "rawType": "int64",
         "type": "integer"
        },
        {
         "name": "fp_679",
         "rawType": "int64",
         "type": "integer"
        },
        {
         "name": "fp_680",
         "rawType": "int64",
         "type": "integer"
        },
        {
         "name": "fp_681",
         "rawType": "int64",
         "type": "integer"
        },
        {
         "name": "fp_682",
         "rawType": "int64",
         "type": "integer"
        },
        {
         "name": "fp_683",
         "rawType": "int64",
         "type": "integer"
        },
        {
         "name": "fp_684",
         "rawType": "int64",
         "type": "integer"
        },
        {
         "name": "fp_685",
         "rawType": "int64",
         "type": "integer"
        },
        {
         "name": "fp_686",
         "rawType": "int64",
         "type": "integer"
        },
        {
         "name": "fp_687",
         "rawType": "int64",
         "type": "integer"
        },
        {
         "name": "fp_688",
         "rawType": "int64",
         "type": "integer"
        },
        {
         "name": "fp_689",
         "rawType": "int64",
         "type": "integer"
        },
        {
         "name": "fp_690",
         "rawType": "int64",
         "type": "integer"
        },
        {
         "name": "fp_691",
         "rawType": "int64",
         "type": "integer"
        },
        {
         "name": "fp_692",
         "rawType": "int64",
         "type": "integer"
        },
        {
         "name": "fp_693",
         "rawType": "int64",
         "type": "integer"
        },
        {
         "name": "fp_694",
         "rawType": "int64",
         "type": "integer"
        },
        {
         "name": "fp_695",
         "rawType": "int64",
         "type": "integer"
        },
        {
         "name": "fp_696",
         "rawType": "int64",
         "type": "integer"
        },
        {
         "name": "fp_697",
         "rawType": "int64",
         "type": "integer"
        },
        {
         "name": "fp_698",
         "rawType": "int64",
         "type": "integer"
        },
        {
         "name": "fp_699",
         "rawType": "int64",
         "type": "integer"
        },
        {
         "name": "fp_700",
         "rawType": "int64",
         "type": "integer"
        },
        {
         "name": "fp_701",
         "rawType": "int64",
         "type": "integer"
        },
        {
         "name": "fp_702",
         "rawType": "int64",
         "type": "integer"
        },
        {
         "name": "fp_703",
         "rawType": "int64",
         "type": "integer"
        },
        {
         "name": "fp_704",
         "rawType": "int64",
         "type": "integer"
        },
        {
         "name": "fp_705",
         "rawType": "int64",
         "type": "integer"
        },
        {
         "name": "fp_706",
         "rawType": "int64",
         "type": "integer"
        },
        {
         "name": "fp_707",
         "rawType": "int64",
         "type": "integer"
        },
        {
         "name": "fp_708",
         "rawType": "int64",
         "type": "integer"
        },
        {
         "name": "fp_709",
         "rawType": "int64",
         "type": "integer"
        },
        {
         "name": "fp_710",
         "rawType": "int64",
         "type": "integer"
        },
        {
         "name": "fp_711",
         "rawType": "int64",
         "type": "integer"
        },
        {
         "name": "fp_712",
         "rawType": "int64",
         "type": "integer"
        },
        {
         "name": "fp_713",
         "rawType": "int64",
         "type": "integer"
        },
        {
         "name": "fp_714",
         "rawType": "int64",
         "type": "integer"
        },
        {
         "name": "fp_715",
         "rawType": "int64",
         "type": "integer"
        },
        {
         "name": "fp_716",
         "rawType": "int64",
         "type": "integer"
        },
        {
         "name": "fp_717",
         "rawType": "int64",
         "type": "integer"
        },
        {
         "name": "fp_718",
         "rawType": "int64",
         "type": "integer"
        },
        {
         "name": "fp_719",
         "rawType": "int64",
         "type": "integer"
        },
        {
         "name": "fp_720",
         "rawType": "int64",
         "type": "integer"
        },
        {
         "name": "fp_721",
         "rawType": "int64",
         "type": "integer"
        },
        {
         "name": "fp_722",
         "rawType": "int64",
         "type": "integer"
        },
        {
         "name": "fp_723",
         "rawType": "int64",
         "type": "integer"
        },
        {
         "name": "fp_724",
         "rawType": "int64",
         "type": "integer"
        },
        {
         "name": "fp_725",
         "rawType": "int64",
         "type": "integer"
        },
        {
         "name": "fp_726",
         "rawType": "int64",
         "type": "integer"
        },
        {
         "name": "fp_727",
         "rawType": "int64",
         "type": "integer"
        },
        {
         "name": "fp_728",
         "rawType": "int64",
         "type": "integer"
        },
        {
         "name": "fp_729",
         "rawType": "int64",
         "type": "integer"
        },
        {
         "name": "fp_730",
         "rawType": "int64",
         "type": "integer"
        },
        {
         "name": "fp_731",
         "rawType": "int64",
         "type": "integer"
        },
        {
         "name": "fp_732",
         "rawType": "int64",
         "type": "integer"
        },
        {
         "name": "fp_733",
         "rawType": "int64",
         "type": "integer"
        },
        {
         "name": "fp_734",
         "rawType": "int64",
         "type": "integer"
        },
        {
         "name": "fp_735",
         "rawType": "int64",
         "type": "integer"
        },
        {
         "name": "fp_736",
         "rawType": "int64",
         "type": "integer"
        },
        {
         "name": "fp_737",
         "rawType": "int64",
         "type": "integer"
        },
        {
         "name": "fp_738",
         "rawType": "int64",
         "type": "integer"
        },
        {
         "name": "fp_739",
         "rawType": "int64",
         "type": "integer"
        },
        {
         "name": "fp_740",
         "rawType": "int64",
         "type": "integer"
        },
        {
         "name": "fp_741",
         "rawType": "int64",
         "type": "integer"
        },
        {
         "name": "fp_742",
         "rawType": "int64",
         "type": "integer"
        },
        {
         "name": "fp_743",
         "rawType": "int64",
         "type": "integer"
        },
        {
         "name": "fp_744",
         "rawType": "int64",
         "type": "integer"
        },
        {
         "name": "fp_745",
         "rawType": "int64",
         "type": "integer"
        },
        {
         "name": "fp_746",
         "rawType": "int64",
         "type": "integer"
        },
        {
         "name": "fp_747",
         "rawType": "int64",
         "type": "integer"
        },
        {
         "name": "fp_748",
         "rawType": "int64",
         "type": "integer"
        },
        {
         "name": "fp_749",
         "rawType": "int64",
         "type": "integer"
        },
        {
         "name": "fp_750",
         "rawType": "int64",
         "type": "integer"
        },
        {
         "name": "fp_751",
         "rawType": "int64",
         "type": "integer"
        },
        {
         "name": "fp_752",
         "rawType": "int64",
         "type": "integer"
        },
        {
         "name": "fp_753",
         "rawType": "int64",
         "type": "integer"
        },
        {
         "name": "fp_754",
         "rawType": "int64",
         "type": "integer"
        },
        {
         "name": "fp_755",
         "rawType": "int64",
         "type": "integer"
        },
        {
         "name": "fp_756",
         "rawType": "int64",
         "type": "integer"
        },
        {
         "name": "fp_757",
         "rawType": "int64",
         "type": "integer"
        },
        {
         "name": "fp_758",
         "rawType": "int64",
         "type": "integer"
        },
        {
         "name": "fp_759",
         "rawType": "int64",
         "type": "integer"
        },
        {
         "name": "fp_760",
         "rawType": "int64",
         "type": "integer"
        },
        {
         "name": "fp_761",
         "rawType": "int64",
         "type": "integer"
        },
        {
         "name": "fp_762",
         "rawType": "int64",
         "type": "integer"
        },
        {
         "name": "fp_763",
         "rawType": "int64",
         "type": "integer"
        },
        {
         "name": "fp_764",
         "rawType": "int64",
         "type": "integer"
        },
        {
         "name": "fp_765",
         "rawType": "int64",
         "type": "integer"
        },
        {
         "name": "fp_766",
         "rawType": "int64",
         "type": "integer"
        },
        {
         "name": "fp_767",
         "rawType": "int64",
         "type": "integer"
        },
        {
         "name": "fp_768",
         "rawType": "int64",
         "type": "integer"
        },
        {
         "name": "fp_769",
         "rawType": "int64",
         "type": "integer"
        },
        {
         "name": "fp_770",
         "rawType": "int64",
         "type": "integer"
        },
        {
         "name": "fp_771",
         "rawType": "int64",
         "type": "integer"
        },
        {
         "name": "fp_772",
         "rawType": "int64",
         "type": "integer"
        },
        {
         "name": "fp_773",
         "rawType": "int64",
         "type": "integer"
        },
        {
         "name": "fp_774",
         "rawType": "int64",
         "type": "integer"
        },
        {
         "name": "fp_775",
         "rawType": "int64",
         "type": "integer"
        },
        {
         "name": "fp_776",
         "rawType": "int64",
         "type": "integer"
        },
        {
         "name": "fp_777",
         "rawType": "int64",
         "type": "integer"
        },
        {
         "name": "fp_778",
         "rawType": "int64",
         "type": "integer"
        },
        {
         "name": "fp_779",
         "rawType": "int64",
         "type": "integer"
        },
        {
         "name": "fp_780",
         "rawType": "int64",
         "type": "integer"
        },
        {
         "name": "fp_781",
         "rawType": "int64",
         "type": "integer"
        },
        {
         "name": "fp_782",
         "rawType": "int64",
         "type": "integer"
        },
        {
         "name": "fp_783",
         "rawType": "int64",
         "type": "integer"
        },
        {
         "name": "fp_784",
         "rawType": "int64",
         "type": "integer"
        },
        {
         "name": "fp_785",
         "rawType": "int64",
         "type": "integer"
        },
        {
         "name": "fp_786",
         "rawType": "int64",
         "type": "integer"
        },
        {
         "name": "fp_787",
         "rawType": "int64",
         "type": "integer"
        },
        {
         "name": "fp_788",
         "rawType": "int64",
         "type": "integer"
        },
        {
         "name": "fp_789",
         "rawType": "int64",
         "type": "integer"
        },
        {
         "name": "fp_790",
         "rawType": "int64",
         "type": "integer"
        },
        {
         "name": "fp_791",
         "rawType": "int64",
         "type": "integer"
        },
        {
         "name": "fp_792",
         "rawType": "int64",
         "type": "integer"
        },
        {
         "name": "fp_793",
         "rawType": "int64",
         "type": "integer"
        },
        {
         "name": "fp_794",
         "rawType": "int64",
         "type": "integer"
        },
        {
         "name": "fp_795",
         "rawType": "int64",
         "type": "integer"
        },
        {
         "name": "fp_796",
         "rawType": "int64",
         "type": "integer"
        },
        {
         "name": "fp_797",
         "rawType": "int64",
         "type": "integer"
        },
        {
         "name": "fp_798",
         "rawType": "int64",
         "type": "integer"
        },
        {
         "name": "fp_799",
         "rawType": "int64",
         "type": "integer"
        },
        {
         "name": "fp_800",
         "rawType": "int64",
         "type": "integer"
        },
        {
         "name": "fp_801",
         "rawType": "int64",
         "type": "integer"
        },
        {
         "name": "fp_802",
         "rawType": "int64",
         "type": "integer"
        },
        {
         "name": "fp_803",
         "rawType": "int64",
         "type": "integer"
        },
        {
         "name": "fp_804",
         "rawType": "int64",
         "type": "integer"
        },
        {
         "name": "fp_805",
         "rawType": "int64",
         "type": "integer"
        },
        {
         "name": "fp_806",
         "rawType": "int64",
         "type": "integer"
        },
        {
         "name": "fp_807",
         "rawType": "int64",
         "type": "integer"
        },
        {
         "name": "fp_808",
         "rawType": "int64",
         "type": "integer"
        },
        {
         "name": "fp_809",
         "rawType": "int64",
         "type": "integer"
        },
        {
         "name": "fp_810",
         "rawType": "int64",
         "type": "integer"
        },
        {
         "name": "fp_811",
         "rawType": "int64",
         "type": "integer"
        },
        {
         "name": "fp_812",
         "rawType": "int64",
         "type": "integer"
        },
        {
         "name": "fp_813",
         "rawType": "int64",
         "type": "integer"
        },
        {
         "name": "fp_814",
         "rawType": "int64",
         "type": "integer"
        },
        {
         "name": "fp_815",
         "rawType": "int64",
         "type": "integer"
        },
        {
         "name": "fp_816",
         "rawType": "int64",
         "type": "integer"
        },
        {
         "name": "fp_817",
         "rawType": "int64",
         "type": "integer"
        },
        {
         "name": "fp_818",
         "rawType": "int64",
         "type": "integer"
        },
        {
         "name": "fp_819",
         "rawType": "int64",
         "type": "integer"
        },
        {
         "name": "fp_820",
         "rawType": "int64",
         "type": "integer"
        },
        {
         "name": "fp_821",
         "rawType": "int64",
         "type": "integer"
        },
        {
         "name": "fp_822",
         "rawType": "int64",
         "type": "integer"
        },
        {
         "name": "fp_823",
         "rawType": "int64",
         "type": "integer"
        },
        {
         "name": "fp_824",
         "rawType": "int64",
         "type": "integer"
        },
        {
         "name": "fp_825",
         "rawType": "int64",
         "type": "integer"
        },
        {
         "name": "fp_826",
         "rawType": "int64",
         "type": "integer"
        },
        {
         "name": "fp_827",
         "rawType": "int64",
         "type": "integer"
        },
        {
         "name": "fp_828",
         "rawType": "int64",
         "type": "integer"
        },
        {
         "name": "fp_829",
         "rawType": "int64",
         "type": "integer"
        },
        {
         "name": "fp_830",
         "rawType": "int64",
         "type": "integer"
        },
        {
         "name": "fp_831",
         "rawType": "int64",
         "type": "integer"
        },
        {
         "name": "fp_832",
         "rawType": "int64",
         "type": "integer"
        },
        {
         "name": "fp_833",
         "rawType": "int64",
         "type": "integer"
        },
        {
         "name": "fp_834",
         "rawType": "int64",
         "type": "integer"
        },
        {
         "name": "fp_835",
         "rawType": "int64",
         "type": "integer"
        },
        {
         "name": "fp_836",
         "rawType": "int64",
         "type": "integer"
        },
        {
         "name": "fp_837",
         "rawType": "int64",
         "type": "integer"
        },
        {
         "name": "fp_838",
         "rawType": "int64",
         "type": "integer"
        },
        {
         "name": "fp_839",
         "rawType": "int64",
         "type": "integer"
        },
        {
         "name": "fp_840",
         "rawType": "int64",
         "type": "integer"
        },
        {
         "name": "fp_841",
         "rawType": "int64",
         "type": "integer"
        },
        {
         "name": "fp_842",
         "rawType": "int64",
         "type": "integer"
        },
        {
         "name": "fp_843",
         "rawType": "int64",
         "type": "integer"
        },
        {
         "name": "fp_844",
         "rawType": "int64",
         "type": "integer"
        },
        {
         "name": "fp_845",
         "rawType": "int64",
         "type": "integer"
        },
        {
         "name": "fp_846",
         "rawType": "int64",
         "type": "integer"
        },
        {
         "name": "fp_847",
         "rawType": "int64",
         "type": "integer"
        },
        {
         "name": "fp_848",
         "rawType": "int64",
         "type": "integer"
        },
        {
         "name": "fp_849",
         "rawType": "int64",
         "type": "integer"
        },
        {
         "name": "fp_850",
         "rawType": "int64",
         "type": "integer"
        },
        {
         "name": "fp_851",
         "rawType": "int64",
         "type": "integer"
        },
        {
         "name": "fp_852",
         "rawType": "int64",
         "type": "integer"
        },
        {
         "name": "fp_853",
         "rawType": "int64",
         "type": "integer"
        },
        {
         "name": "fp_854",
         "rawType": "int64",
         "type": "integer"
        },
        {
         "name": "fp_855",
         "rawType": "int64",
         "type": "integer"
        },
        {
         "name": "fp_856",
         "rawType": "int64",
         "type": "integer"
        },
        {
         "name": "fp_857",
         "rawType": "int64",
         "type": "integer"
        },
        {
         "name": "fp_858",
         "rawType": "int64",
         "type": "integer"
        },
        {
         "name": "fp_859",
         "rawType": "int64",
         "type": "integer"
        },
        {
         "name": "fp_860",
         "rawType": "int64",
         "type": "integer"
        },
        {
         "name": "fp_861",
         "rawType": "int64",
         "type": "integer"
        },
        {
         "name": "fp_862",
         "rawType": "int64",
         "type": "integer"
        },
        {
         "name": "fp_863",
         "rawType": "int64",
         "type": "integer"
        },
        {
         "name": "fp_864",
         "rawType": "int64",
         "type": "integer"
        },
        {
         "name": "fp_865",
         "rawType": "int64",
         "type": "integer"
        },
        {
         "name": "fp_866",
         "rawType": "int64",
         "type": "integer"
        },
        {
         "name": "fp_867",
         "rawType": "int64",
         "type": "integer"
        },
        {
         "name": "fp_868",
         "rawType": "int64",
         "type": "integer"
        },
        {
         "name": "fp_869",
         "rawType": "int64",
         "type": "integer"
        },
        {
         "name": "fp_870",
         "rawType": "int64",
         "type": "integer"
        },
        {
         "name": "fp_871",
         "rawType": "int64",
         "type": "integer"
        },
        {
         "name": "fp_872",
         "rawType": "int64",
         "type": "integer"
        },
        {
         "name": "fp_873",
         "rawType": "int64",
         "type": "integer"
        },
        {
         "name": "fp_874",
         "rawType": "int64",
         "type": "integer"
        },
        {
         "name": "fp_875",
         "rawType": "int64",
         "type": "integer"
        },
        {
         "name": "fp_876",
         "rawType": "int64",
         "type": "integer"
        },
        {
         "name": "fp_877",
         "rawType": "int64",
         "type": "integer"
        },
        {
         "name": "fp_878",
         "rawType": "int64",
         "type": "integer"
        },
        {
         "name": "fp_879",
         "rawType": "int64",
         "type": "integer"
        },
        {
         "name": "fp_880",
         "rawType": "int64",
         "type": "integer"
        },
        {
         "name": "fp_881",
         "rawType": "int64",
         "type": "integer"
        },
        {
         "name": "fp_882",
         "rawType": "int64",
         "type": "integer"
        },
        {
         "name": "fp_883",
         "rawType": "int64",
         "type": "integer"
        },
        {
         "name": "fp_884",
         "rawType": "int64",
         "type": "integer"
        },
        {
         "name": "fp_885",
         "rawType": "int64",
         "type": "integer"
        },
        {
         "name": "fp_886",
         "rawType": "int64",
         "type": "integer"
        },
        {
         "name": "fp_887",
         "rawType": "int64",
         "type": "integer"
        },
        {
         "name": "fp_888",
         "rawType": "int64",
         "type": "integer"
        },
        {
         "name": "fp_889",
         "rawType": "int64",
         "type": "integer"
        },
        {
         "name": "fp_890",
         "rawType": "int64",
         "type": "integer"
        },
        {
         "name": "fp_891",
         "rawType": "int64",
         "type": "integer"
        },
        {
         "name": "fp_892",
         "rawType": "int64",
         "type": "integer"
        },
        {
         "name": "fp_893",
         "rawType": "int64",
         "type": "integer"
        },
        {
         "name": "fp_894",
         "rawType": "int64",
         "type": "integer"
        },
        {
         "name": "fp_895",
         "rawType": "int64",
         "type": "integer"
        },
        {
         "name": "fp_896",
         "rawType": "int64",
         "type": "integer"
        },
        {
         "name": "fp_897",
         "rawType": "int64",
         "type": "integer"
        },
        {
         "name": "fp_898",
         "rawType": "int64",
         "type": "integer"
        },
        {
         "name": "fp_899",
         "rawType": "int64",
         "type": "integer"
        },
        {
         "name": "fp_900",
         "rawType": "int64",
         "type": "integer"
        },
        {
         "name": "fp_901",
         "rawType": "int64",
         "type": "integer"
        },
        {
         "name": "fp_902",
         "rawType": "int64",
         "type": "integer"
        },
        {
         "name": "fp_903",
         "rawType": "int64",
         "type": "integer"
        },
        {
         "name": "fp_904",
         "rawType": "int64",
         "type": "integer"
        },
        {
         "name": "fp_905",
         "rawType": "int64",
         "type": "integer"
        },
        {
         "name": "fp_906",
         "rawType": "int64",
         "type": "integer"
        },
        {
         "name": "fp_907",
         "rawType": "int64",
         "type": "integer"
        },
        {
         "name": "fp_908",
         "rawType": "int64",
         "type": "integer"
        },
        {
         "name": "fp_909",
         "rawType": "int64",
         "type": "integer"
        },
        {
         "name": "fp_910",
         "rawType": "int64",
         "type": "integer"
        },
        {
         "name": "fp_911",
         "rawType": "int64",
         "type": "integer"
        },
        {
         "name": "fp_912",
         "rawType": "int64",
         "type": "integer"
        },
        {
         "name": "fp_913",
         "rawType": "int64",
         "type": "integer"
        },
        {
         "name": "fp_914",
         "rawType": "int64",
         "type": "integer"
        },
        {
         "name": "fp_915",
         "rawType": "int64",
         "type": "integer"
        },
        {
         "name": "fp_916",
         "rawType": "int64",
         "type": "integer"
        },
        {
         "name": "fp_917",
         "rawType": "int64",
         "type": "integer"
        },
        {
         "name": "fp_918",
         "rawType": "int64",
         "type": "integer"
        },
        {
         "name": "fp_919",
         "rawType": "int64",
         "type": "integer"
        },
        {
         "name": "fp_920",
         "rawType": "int64",
         "type": "integer"
        },
        {
         "name": "fp_921",
         "rawType": "int64",
         "type": "integer"
        },
        {
         "name": "fp_922",
         "rawType": "int64",
         "type": "integer"
        },
        {
         "name": "fp_923",
         "rawType": "int64",
         "type": "integer"
        },
        {
         "name": "fp_924",
         "rawType": "int64",
         "type": "integer"
        },
        {
         "name": "fp_925",
         "rawType": "int64",
         "type": "integer"
        },
        {
         "name": "fp_926",
         "rawType": "int64",
         "type": "integer"
        },
        {
         "name": "fp_927",
         "rawType": "int64",
         "type": "integer"
        },
        {
         "name": "fp_928",
         "rawType": "int64",
         "type": "integer"
        },
        {
         "name": "fp_929",
         "rawType": "int64",
         "type": "integer"
        },
        {
         "name": "fp_930",
         "rawType": "int64",
         "type": "integer"
        },
        {
         "name": "fp_931",
         "rawType": "int64",
         "type": "integer"
        },
        {
         "name": "fp_932",
         "rawType": "int64",
         "type": "integer"
        },
        {
         "name": "fp_933",
         "rawType": "int64",
         "type": "integer"
        },
        {
         "name": "fp_934",
         "rawType": "int64",
         "type": "integer"
        },
        {
         "name": "fp_935",
         "rawType": "int64",
         "type": "integer"
        },
        {
         "name": "fp_936",
         "rawType": "int64",
         "type": "integer"
        },
        {
         "name": "fp_937",
         "rawType": "int64",
         "type": "integer"
        },
        {
         "name": "fp_938",
         "rawType": "int64",
         "type": "integer"
        },
        {
         "name": "fp_939",
         "rawType": "int64",
         "type": "integer"
        },
        {
         "name": "fp_940",
         "rawType": "int64",
         "type": "integer"
        },
        {
         "name": "fp_941",
         "rawType": "int64",
         "type": "integer"
        },
        {
         "name": "fp_942",
         "rawType": "int64",
         "type": "integer"
        },
        {
         "name": "fp_943",
         "rawType": "int64",
         "type": "integer"
        },
        {
         "name": "fp_944",
         "rawType": "int64",
         "type": "integer"
        },
        {
         "name": "fp_945",
         "rawType": "int64",
         "type": "integer"
        },
        {
         "name": "fp_946",
         "rawType": "int64",
         "type": "integer"
        },
        {
         "name": "fp_947",
         "rawType": "int64",
         "type": "integer"
        },
        {
         "name": "fp_948",
         "rawType": "int64",
         "type": "integer"
        },
        {
         "name": "fp_949",
         "rawType": "int64",
         "type": "integer"
        },
        {
         "name": "fp_950",
         "rawType": "int64",
         "type": "integer"
        },
        {
         "name": "fp_951",
         "rawType": "int64",
         "type": "integer"
        },
        {
         "name": "fp_952",
         "rawType": "int64",
         "type": "integer"
        },
        {
         "name": "fp_953",
         "rawType": "int64",
         "type": "integer"
        },
        {
         "name": "fp_954",
         "rawType": "int64",
         "type": "integer"
        },
        {
         "name": "fp_955",
         "rawType": "int64",
         "type": "integer"
        },
        {
         "name": "fp_956",
         "rawType": "int64",
         "type": "integer"
        },
        {
         "name": "fp_957",
         "rawType": "int64",
         "type": "integer"
        },
        {
         "name": "fp_958",
         "rawType": "int64",
         "type": "integer"
        },
        {
         "name": "fp_959",
         "rawType": "int64",
         "type": "integer"
        },
        {
         "name": "fp_960",
         "rawType": "int64",
         "type": "integer"
        },
        {
         "name": "fp_961",
         "rawType": "int64",
         "type": "integer"
        },
        {
         "name": "fp_962",
         "rawType": "int64",
         "type": "integer"
        },
        {
         "name": "fp_963",
         "rawType": "int64",
         "type": "integer"
        },
        {
         "name": "fp_964",
         "rawType": "int64",
         "type": "integer"
        },
        {
         "name": "fp_965",
         "rawType": "int64",
         "type": "integer"
        },
        {
         "name": "fp_966",
         "rawType": "int64",
         "type": "integer"
        },
        {
         "name": "fp_967",
         "rawType": "int64",
         "type": "integer"
        },
        {
         "name": "fp_968",
         "rawType": "int64",
         "type": "integer"
        },
        {
         "name": "fp_969",
         "rawType": "int64",
         "type": "integer"
        },
        {
         "name": "fp_970",
         "rawType": "int64",
         "type": "integer"
        },
        {
         "name": "fp_971",
         "rawType": "int64",
         "type": "integer"
        },
        {
         "name": "fp_972",
         "rawType": "int64",
         "type": "integer"
        },
        {
         "name": "fp_973",
         "rawType": "int64",
         "type": "integer"
        },
        {
         "name": "fp_974",
         "rawType": "int64",
         "type": "integer"
        },
        {
         "name": "fp_975",
         "rawType": "int64",
         "type": "integer"
        },
        {
         "name": "fp_976",
         "rawType": "int64",
         "type": "integer"
        },
        {
         "name": "fp_977",
         "rawType": "int64",
         "type": "integer"
        },
        {
         "name": "fp_978",
         "rawType": "int64",
         "type": "integer"
        },
        {
         "name": "fp_979",
         "rawType": "int64",
         "type": "integer"
        },
        {
         "name": "fp_980",
         "rawType": "int64",
         "type": "integer"
        },
        {
         "name": "fp_981",
         "rawType": "int64",
         "type": "integer"
        },
        {
         "name": "fp_982",
         "rawType": "int64",
         "type": "integer"
        },
        {
         "name": "fp_983",
         "rawType": "int64",
         "type": "integer"
        },
        {
         "name": "fp_984",
         "rawType": "int64",
         "type": "integer"
        },
        {
         "name": "fp_985",
         "rawType": "int64",
         "type": "integer"
        },
        {
         "name": "fp_986",
         "rawType": "int64",
         "type": "integer"
        },
        {
         "name": "fp_987",
         "rawType": "int64",
         "type": "integer"
        },
        {
         "name": "fp_988",
         "rawType": "int64",
         "type": "integer"
        },
        {
         "name": "fp_989",
         "rawType": "int64",
         "type": "integer"
        },
        {
         "name": "fp_990",
         "rawType": "int64",
         "type": "integer"
        },
        {
         "name": "fp_991",
         "rawType": "int64",
         "type": "integer"
        },
        {
         "name": "fp_992",
         "rawType": "int64",
         "type": "integer"
        },
        {
         "name": "fp_993",
         "rawType": "int64",
         "type": "integer"
        },
        {
         "name": "fp_994",
         "rawType": "int64",
         "type": "integer"
        },
        {
         "name": "fp_995",
         "rawType": "int64",
         "type": "integer"
        },
        {
         "name": "fp_996",
         "rawType": "int64",
         "type": "integer"
        },
        {
         "name": "fp_997",
         "rawType": "int64",
         "type": "integer"
        },
        {
         "name": "fp_998",
         "rawType": "int64",
         "type": "integer"
        },
        {
         "name": "fp_999",
         "rawType": "int64",
         "type": "integer"
        },
        {
         "name": "fp_1000",
         "rawType": "int64",
         "type": "integer"
        },
        {
         "name": "fp_1001",
         "rawType": "int64",
         "type": "integer"
        },
        {
         "name": "fp_1002",
         "rawType": "int64",
         "type": "integer"
        },
        {
         "name": "fp_1003",
         "rawType": "int64",
         "type": "integer"
        },
        {
         "name": "fp_1004",
         "rawType": "int64",
         "type": "integer"
        },
        {
         "name": "fp_1005",
         "rawType": "int64",
         "type": "integer"
        },
        {
         "name": "fp_1006",
         "rawType": "int64",
         "type": "integer"
        },
        {
         "name": "fp_1007",
         "rawType": "int64",
         "type": "integer"
        },
        {
         "name": "fp_1008",
         "rawType": "int64",
         "type": "integer"
        },
        {
         "name": "fp_1009",
         "rawType": "int64",
         "type": "integer"
        },
        {
         "name": "fp_1010",
         "rawType": "int64",
         "type": "integer"
        },
        {
         "name": "fp_1011",
         "rawType": "int64",
         "type": "integer"
        },
        {
         "name": "fp_1012",
         "rawType": "int64",
         "type": "integer"
        },
        {
         "name": "fp_1013",
         "rawType": "int64",
         "type": "integer"
        },
        {
         "name": "fp_1014",
         "rawType": "int64",
         "type": "integer"
        },
        {
         "name": "fp_1015",
         "rawType": "int64",
         "type": "integer"
        },
        {
         "name": "fp_1016",
         "rawType": "int64",
         "type": "integer"
        },
        {
         "name": "fp_1017",
         "rawType": "int64",
         "type": "integer"
        },
        {
         "name": "fp_1018",
         "rawType": "int64",
         "type": "integer"
        },
        {
         "name": "fp_1019",
         "rawType": "int64",
         "type": "integer"
        },
        {
         "name": "fp_1020",
         "rawType": "int64",
         "type": "integer"
        },
        {
         "name": "fp_1021",
         "rawType": "int64",
         "type": "integer"
        },
        {
         "name": "fp_1022",
         "rawType": "int64",
         "type": "integer"
        },
        {
         "name": "fp_1023",
         "rawType": "int64",
         "type": "integer"
        },
        {
         "name": "fp_1024",
         "rawType": "int64",
         "type": "integer"
        },
        {
         "name": "fp_1025",
         "rawType": "int64",
         "type": "integer"
        },
        {
         "name": "fp_1026",
         "rawType": "int64",
         "type": "integer"
        },
        {
         "name": "fp_1027",
         "rawType": "int64",
         "type": "integer"
        },
        {
         "name": "fp_1028",
         "rawType": "int64",
         "type": "integer"
        },
        {
         "name": "fp_1029",
         "rawType": "int64",
         "type": "integer"
        },
        {
         "name": "fp_1030",
         "rawType": "int64",
         "type": "integer"
        },
        {
         "name": "fp_1031",
         "rawType": "int64",
         "type": "integer"
        },
        {
         "name": "fp_1032",
         "rawType": "int64",
         "type": "integer"
        },
        {
         "name": "fp_1033",
         "rawType": "int64",
         "type": "integer"
        },
        {
         "name": "fp_1034",
         "rawType": "int64",
         "type": "integer"
        },
        {
         "name": "fp_1035",
         "rawType": "int64",
         "type": "integer"
        },
        {
         "name": "fp_1036",
         "rawType": "int64",
         "type": "integer"
        },
        {
         "name": "fp_1037",
         "rawType": "int64",
         "type": "integer"
        },
        {
         "name": "fp_1038",
         "rawType": "int64",
         "type": "integer"
        },
        {
         "name": "fp_1039",
         "rawType": "int64",
         "type": "integer"
        },
        {
         "name": "fp_1040",
         "rawType": "int64",
         "type": "integer"
        },
        {
         "name": "fp_1041",
         "rawType": "int64",
         "type": "integer"
        },
        {
         "name": "fp_1042",
         "rawType": "int64",
         "type": "integer"
        },
        {
         "name": "fp_1043",
         "rawType": "int64",
         "type": "integer"
        },
        {
         "name": "fp_1044",
         "rawType": "int64",
         "type": "integer"
        },
        {
         "name": "fp_1045",
         "rawType": "int64",
         "type": "integer"
        },
        {
         "name": "fp_1046",
         "rawType": "int64",
         "type": "integer"
        },
        {
         "name": "fp_1047",
         "rawType": "int64",
         "type": "integer"
        },
        {
         "name": "fp_1048",
         "rawType": "int64",
         "type": "integer"
        },
        {
         "name": "fp_1049",
         "rawType": "int64",
         "type": "integer"
        },
        {
         "name": "fp_1050",
         "rawType": "int64",
         "type": "integer"
        },
        {
         "name": "fp_1051",
         "rawType": "int64",
         "type": "integer"
        },
        {
         "name": "fp_1052",
         "rawType": "int64",
         "type": "integer"
        },
        {
         "name": "fp_1053",
         "rawType": "int64",
         "type": "integer"
        },
        {
         "name": "fp_1054",
         "rawType": "int64",
         "type": "integer"
        },
        {
         "name": "fp_1055",
         "rawType": "int64",
         "type": "integer"
        },
        {
         "name": "fp_1056",
         "rawType": "int64",
         "type": "integer"
        },
        {
         "name": "fp_1057",
         "rawType": "int64",
         "type": "integer"
        },
        {
         "name": "fp_1058",
         "rawType": "int64",
         "type": "integer"
        },
        {
         "name": "fp_1059",
         "rawType": "int64",
         "type": "integer"
        },
        {
         "name": "fp_1060",
         "rawType": "int64",
         "type": "integer"
        },
        {
         "name": "fp_1061",
         "rawType": "int64",
         "type": "integer"
        },
        {
         "name": "fp_1062",
         "rawType": "int64",
         "type": "integer"
        },
        {
         "name": "fp_1063",
         "rawType": "int64",
         "type": "integer"
        },
        {
         "name": "fp_1064",
         "rawType": "int64",
         "type": "integer"
        },
        {
         "name": "fp_1065",
         "rawType": "int64",
         "type": "integer"
        },
        {
         "name": "fp_1066",
         "rawType": "int64",
         "type": "integer"
        },
        {
         "name": "fp_1067",
         "rawType": "int64",
         "type": "integer"
        },
        {
         "name": "fp_1068",
         "rawType": "int64",
         "type": "integer"
        },
        {
         "name": "fp_1069",
         "rawType": "int64",
         "type": "integer"
        },
        {
         "name": "fp_1070",
         "rawType": "int64",
         "type": "integer"
        },
        {
         "name": "fp_1071",
         "rawType": "int64",
         "type": "integer"
        },
        {
         "name": "fp_1072",
         "rawType": "int64",
         "type": "integer"
        },
        {
         "name": "fp_1073",
         "rawType": "int64",
         "type": "integer"
        },
        {
         "name": "fp_1074",
         "rawType": "int64",
         "type": "integer"
        },
        {
         "name": "fp_1075",
         "rawType": "int64",
         "type": "integer"
        },
        {
         "name": "fp_1076",
         "rawType": "int64",
         "type": "integer"
        },
        {
         "name": "fp_1077",
         "rawType": "int64",
         "type": "integer"
        },
        {
         "name": "fp_1078",
         "rawType": "int64",
         "type": "integer"
        },
        {
         "name": "fp_1079",
         "rawType": "int64",
         "type": "integer"
        },
        {
         "name": "fp_1080",
         "rawType": "int64",
         "type": "integer"
        },
        {
         "name": "fp_1081",
         "rawType": "int64",
         "type": "integer"
        },
        {
         "name": "fp_1082",
         "rawType": "int64",
         "type": "integer"
        },
        {
         "name": "fp_1083",
         "rawType": "int64",
         "type": "integer"
        },
        {
         "name": "fp_1084",
         "rawType": "int64",
         "type": "integer"
        },
        {
         "name": "fp_1085",
         "rawType": "int64",
         "type": "integer"
        },
        {
         "name": "fp_1086",
         "rawType": "int64",
         "type": "integer"
        },
        {
         "name": "fp_1087",
         "rawType": "int64",
         "type": "integer"
        },
        {
         "name": "fp_1088",
         "rawType": "int64",
         "type": "integer"
        },
        {
         "name": "fp_1089",
         "rawType": "int64",
         "type": "integer"
        },
        {
         "name": "fp_1090",
         "rawType": "int64",
         "type": "integer"
        },
        {
         "name": "fp_1091",
         "rawType": "int64",
         "type": "integer"
        },
        {
         "name": "fp_1092",
         "rawType": "int64",
         "type": "integer"
        },
        {
         "name": "fp_1093",
         "rawType": "int64",
         "type": "integer"
        },
        {
         "name": "fp_1094",
         "rawType": "int64",
         "type": "integer"
        },
        {
         "name": "fp_1095",
         "rawType": "int64",
         "type": "integer"
        },
        {
         "name": "fp_1096",
         "rawType": "int64",
         "type": "integer"
        },
        {
         "name": "fp_1097",
         "rawType": "int64",
         "type": "integer"
        },
        {
         "name": "fp_1098",
         "rawType": "int64",
         "type": "integer"
        },
        {
         "name": "fp_1099",
         "rawType": "int64",
         "type": "integer"
        },
        {
         "name": "fp_1100",
         "rawType": "int64",
         "type": "integer"
        },
        {
         "name": "fp_1101",
         "rawType": "int64",
         "type": "integer"
        },
        {
         "name": "fp_1102",
         "rawType": "int64",
         "type": "integer"
        },
        {
         "name": "fp_1103",
         "rawType": "int64",
         "type": "integer"
        },
        {
         "name": "fp_1104",
         "rawType": "int64",
         "type": "integer"
        },
        {
         "name": "fp_1105",
         "rawType": "int64",
         "type": "integer"
        },
        {
         "name": "fp_1106",
         "rawType": "int64",
         "type": "integer"
        },
        {
         "name": "fp_1107",
         "rawType": "int64",
         "type": "integer"
        },
        {
         "name": "fp_1108",
         "rawType": "int64",
         "type": "integer"
        },
        {
         "name": "fp_1109",
         "rawType": "int64",
         "type": "integer"
        },
        {
         "name": "fp_1110",
         "rawType": "int64",
         "type": "integer"
        },
        {
         "name": "fp_1111",
         "rawType": "int64",
         "type": "integer"
        },
        {
         "name": "fp_1112",
         "rawType": "int64",
         "type": "integer"
        },
        {
         "name": "fp_1113",
         "rawType": "int64",
         "type": "integer"
        },
        {
         "name": "fp_1114",
         "rawType": "int64",
         "type": "integer"
        },
        {
         "name": "fp_1115",
         "rawType": "int64",
         "type": "integer"
        },
        {
         "name": "fp_1116",
         "rawType": "int64",
         "type": "integer"
        },
        {
         "name": "fp_1117",
         "rawType": "int64",
         "type": "integer"
        },
        {
         "name": "fp_1118",
         "rawType": "int64",
         "type": "integer"
        },
        {
         "name": "fp_1119",
         "rawType": "int64",
         "type": "integer"
        },
        {
         "name": "fp_1120",
         "rawType": "int64",
         "type": "integer"
        },
        {
         "name": "fp_1121",
         "rawType": "int64",
         "type": "integer"
        },
        {
         "name": "fp_1122",
         "rawType": "int64",
         "type": "integer"
        },
        {
         "name": "fp_1123",
         "rawType": "int64",
         "type": "integer"
        },
        {
         "name": "fp_1124",
         "rawType": "int64",
         "type": "integer"
        },
        {
         "name": "fp_1125",
         "rawType": "int64",
         "type": "integer"
        },
        {
         "name": "fp_1126",
         "rawType": "int64",
         "type": "integer"
        },
        {
         "name": "fp_1127",
         "rawType": "int64",
         "type": "integer"
        },
        {
         "name": "fp_1128",
         "rawType": "int64",
         "type": "integer"
        },
        {
         "name": "fp_1129",
         "rawType": "int64",
         "type": "integer"
        },
        {
         "name": "fp_1130",
         "rawType": "int64",
         "type": "integer"
        },
        {
         "name": "fp_1131",
         "rawType": "int64",
         "type": "integer"
        },
        {
         "name": "fp_1132",
         "rawType": "int64",
         "type": "integer"
        },
        {
         "name": "fp_1133",
         "rawType": "int64",
         "type": "integer"
        },
        {
         "name": "fp_1134",
         "rawType": "int64",
         "type": "integer"
        },
        {
         "name": "fp_1135",
         "rawType": "int64",
         "type": "integer"
        },
        {
         "name": "fp_1136",
         "rawType": "int64",
         "type": "integer"
        },
        {
         "name": "fp_1137",
         "rawType": "int64",
         "type": "integer"
        },
        {
         "name": "fp_1138",
         "rawType": "int64",
         "type": "integer"
        },
        {
         "name": "fp_1139",
         "rawType": "int64",
         "type": "integer"
        },
        {
         "name": "fp_1140",
         "rawType": "int64",
         "type": "integer"
        },
        {
         "name": "fp_1141",
         "rawType": "int64",
         "type": "integer"
        },
        {
         "name": "fp_1142",
         "rawType": "int64",
         "type": "integer"
        },
        {
         "name": "fp_1143",
         "rawType": "int64",
         "type": "integer"
        },
        {
         "name": "fp_1144",
         "rawType": "int64",
         "type": "integer"
        },
        {
         "name": "fp_1145",
         "rawType": "int64",
         "type": "integer"
        },
        {
         "name": "fp_1146",
         "rawType": "int64",
         "type": "integer"
        },
        {
         "name": "fp_1147",
         "rawType": "int64",
         "type": "integer"
        },
        {
         "name": "fp_1148",
         "rawType": "int64",
         "type": "integer"
        },
        {
         "name": "fp_1149",
         "rawType": "int64",
         "type": "integer"
        },
        {
         "name": "fp_1150",
         "rawType": "int64",
         "type": "integer"
        },
        {
         "name": "fp_1151",
         "rawType": "int64",
         "type": "integer"
        },
        {
         "name": "fp_1152",
         "rawType": "int64",
         "type": "integer"
        },
        {
         "name": "fp_1153",
         "rawType": "int64",
         "type": "integer"
        },
        {
         "name": "fp_1154",
         "rawType": "int64",
         "type": "integer"
        },
        {
         "name": "fp_1155",
         "rawType": "int64",
         "type": "integer"
        },
        {
         "name": "fp_1156",
         "rawType": "int64",
         "type": "integer"
        },
        {
         "name": "fp_1157",
         "rawType": "int64",
         "type": "integer"
        },
        {
         "name": "fp_1158",
         "rawType": "int64",
         "type": "integer"
        },
        {
         "name": "fp_1159",
         "rawType": "int64",
         "type": "integer"
        },
        {
         "name": "fp_1160",
         "rawType": "int64",
         "type": "integer"
        },
        {
         "name": "fp_1161",
         "rawType": "int64",
         "type": "integer"
        },
        {
         "name": "fp_1162",
         "rawType": "int64",
         "type": "integer"
        },
        {
         "name": "fp_1163",
         "rawType": "int64",
         "type": "integer"
        },
        {
         "name": "fp_1164",
         "rawType": "int64",
         "type": "integer"
        },
        {
         "name": "fp_1165",
         "rawType": "int64",
         "type": "integer"
        },
        {
         "name": "fp_1166",
         "rawType": "int64",
         "type": "integer"
        },
        {
         "name": "fp_1167",
         "rawType": "int64",
         "type": "integer"
        },
        {
         "name": "fp_1168",
         "rawType": "int64",
         "type": "integer"
        },
        {
         "name": "fp_1169",
         "rawType": "int64",
         "type": "integer"
        },
        {
         "name": "fp_1170",
         "rawType": "int64",
         "type": "integer"
        },
        {
         "name": "fp_1171",
         "rawType": "int64",
         "type": "integer"
        },
        {
         "name": "fp_1172",
         "rawType": "int64",
         "type": "integer"
        },
        {
         "name": "fp_1173",
         "rawType": "int64",
         "type": "integer"
        },
        {
         "name": "fp_1174",
         "rawType": "int64",
         "type": "integer"
        },
        {
         "name": "fp_1175",
         "rawType": "int64",
         "type": "integer"
        },
        {
         "name": "fp_1176",
         "rawType": "int64",
         "type": "integer"
        },
        {
         "name": "fp_1177",
         "rawType": "int64",
         "type": "integer"
        },
        {
         "name": "fp_1178",
         "rawType": "int64",
         "type": "integer"
        },
        {
         "name": "fp_1179",
         "rawType": "int64",
         "type": "integer"
        },
        {
         "name": "fp_1180",
         "rawType": "int64",
         "type": "integer"
        },
        {
         "name": "fp_1181",
         "rawType": "int64",
         "type": "integer"
        },
        {
         "name": "fp_1182",
         "rawType": "int64",
         "type": "integer"
        },
        {
         "name": "fp_1183",
         "rawType": "int64",
         "type": "integer"
        },
        {
         "name": "fp_1184",
         "rawType": "int64",
         "type": "integer"
        },
        {
         "name": "fp_1185",
         "rawType": "int64",
         "type": "integer"
        },
        {
         "name": "fp_1186",
         "rawType": "int64",
         "type": "integer"
        },
        {
         "name": "fp_1187",
         "rawType": "int64",
         "type": "integer"
        },
        {
         "name": "fp_1188",
         "rawType": "int64",
         "type": "integer"
        },
        {
         "name": "fp_1189",
         "rawType": "int64",
         "type": "integer"
        },
        {
         "name": "fp_1190",
         "rawType": "int64",
         "type": "integer"
        },
        {
         "name": "fp_1191",
         "rawType": "int64",
         "type": "integer"
        },
        {
         "name": "fp_1192",
         "rawType": "int64",
         "type": "integer"
        },
        {
         "name": "fp_1193",
         "rawType": "int64",
         "type": "integer"
        },
        {
         "name": "fp_1194",
         "rawType": "int64",
         "type": "integer"
        },
        {
         "name": "fp_1195",
         "rawType": "int64",
         "type": "integer"
        },
        {
         "name": "fp_1196",
         "rawType": "int64",
         "type": "integer"
        },
        {
         "name": "fp_1197",
         "rawType": "int64",
         "type": "integer"
        },
        {
         "name": "fp_1198",
         "rawType": "int64",
         "type": "integer"
        },
        {
         "name": "fp_1199",
         "rawType": "int64",
         "type": "integer"
        },
        {
         "name": "fp_1200",
         "rawType": "int64",
         "type": "integer"
        },
        {
         "name": "fp_1201",
         "rawType": "int64",
         "type": "integer"
        },
        {
         "name": "fp_1202",
         "rawType": "int64",
         "type": "integer"
        },
        {
         "name": "fp_1203",
         "rawType": "int64",
         "type": "integer"
        },
        {
         "name": "fp_1204",
         "rawType": "int64",
         "type": "integer"
        },
        {
         "name": "fp_1205",
         "rawType": "int64",
         "type": "integer"
        },
        {
         "name": "fp_1206",
         "rawType": "int64",
         "type": "integer"
        },
        {
         "name": "fp_1207",
         "rawType": "int64",
         "type": "integer"
        },
        {
         "name": "fp_1208",
         "rawType": "int64",
         "type": "integer"
        },
        {
         "name": "fp_1209",
         "rawType": "int64",
         "type": "integer"
        },
        {
         "name": "fp_1210",
         "rawType": "int64",
         "type": "integer"
        },
        {
         "name": "fp_1211",
         "rawType": "int64",
         "type": "integer"
        },
        {
         "name": "fp_1212",
         "rawType": "int64",
         "type": "integer"
        },
        {
         "name": "fp_1213",
         "rawType": "int64",
         "type": "integer"
        },
        {
         "name": "fp_1214",
         "rawType": "int64",
         "type": "integer"
        },
        {
         "name": "fp_1215",
         "rawType": "int64",
         "type": "integer"
        },
        {
         "name": "fp_1216",
         "rawType": "int64",
         "type": "integer"
        },
        {
         "name": "fp_1217",
         "rawType": "int64",
         "type": "integer"
        },
        {
         "name": "fp_1218",
         "rawType": "int64",
         "type": "integer"
        },
        {
         "name": "fp_1219",
         "rawType": "int64",
         "type": "integer"
        },
        {
         "name": "fp_1220",
         "rawType": "int64",
         "type": "integer"
        },
        {
         "name": "fp_1221",
         "rawType": "int64",
         "type": "integer"
        },
        {
         "name": "fp_1222",
         "rawType": "int64",
         "type": "integer"
        },
        {
         "name": "fp_1223",
         "rawType": "int64",
         "type": "integer"
        },
        {
         "name": "fp_1224",
         "rawType": "int64",
         "type": "integer"
        },
        {
         "name": "fp_1225",
         "rawType": "int64",
         "type": "integer"
        },
        {
         "name": "fp_1226",
         "rawType": "int64",
         "type": "integer"
        },
        {
         "name": "fp_1227",
         "rawType": "int64",
         "type": "integer"
        },
        {
         "name": "fp_1228",
         "rawType": "int64",
         "type": "integer"
        },
        {
         "name": "fp_1229",
         "rawType": "int64",
         "type": "integer"
        },
        {
         "name": "fp_1230",
         "rawType": "int64",
         "type": "integer"
        },
        {
         "name": "fp_1231",
         "rawType": "int64",
         "type": "integer"
        },
        {
         "name": "fp_1232",
         "rawType": "int64",
         "type": "integer"
        },
        {
         "name": "fp_1233",
         "rawType": "int64",
         "type": "integer"
        },
        {
         "name": "fp_1234",
         "rawType": "int64",
         "type": "integer"
        },
        {
         "name": "fp_1235",
         "rawType": "int64",
         "type": "integer"
        },
        {
         "name": "fp_1236",
         "rawType": "int64",
         "type": "integer"
        },
        {
         "name": "fp_1237",
         "rawType": "int64",
         "type": "integer"
        },
        {
         "name": "fp_1238",
         "rawType": "int64",
         "type": "integer"
        },
        {
         "name": "fp_1239",
         "rawType": "int64",
         "type": "integer"
        },
        {
         "name": "fp_1240",
         "rawType": "int64",
         "type": "integer"
        },
        {
         "name": "fp_1241",
         "rawType": "int64",
         "type": "integer"
        },
        {
         "name": "fp_1242",
         "rawType": "int64",
         "type": "integer"
        },
        {
         "name": "fp_1243",
         "rawType": "int64",
         "type": "integer"
        },
        {
         "name": "fp_1244",
         "rawType": "int64",
         "type": "integer"
        },
        {
         "name": "fp_1245",
         "rawType": "int64",
         "type": "integer"
        },
        {
         "name": "fp_1246",
         "rawType": "int64",
         "type": "integer"
        },
        {
         "name": "fp_1247",
         "rawType": "int64",
         "type": "integer"
        },
        {
         "name": "fp_1248",
         "rawType": "int64",
         "type": "integer"
        },
        {
         "name": "fp_1249",
         "rawType": "int64",
         "type": "integer"
        },
        {
         "name": "fp_1250",
         "rawType": "int64",
         "type": "integer"
        },
        {
         "name": "fp_1251",
         "rawType": "int64",
         "type": "integer"
        },
        {
         "name": "fp_1252",
         "rawType": "int64",
         "type": "integer"
        },
        {
         "name": "fp_1253",
         "rawType": "int64",
         "type": "integer"
        },
        {
         "name": "fp_1254",
         "rawType": "int64",
         "type": "integer"
        },
        {
         "name": "fp_1255",
         "rawType": "int64",
         "type": "integer"
        },
        {
         "name": "fp_1256",
         "rawType": "int64",
         "type": "integer"
        },
        {
         "name": "fp_1257",
         "rawType": "int64",
         "type": "integer"
        },
        {
         "name": "fp_1258",
         "rawType": "int64",
         "type": "integer"
        },
        {
         "name": "fp_1259",
         "rawType": "int64",
         "type": "integer"
        },
        {
         "name": "fp_1260",
         "rawType": "int64",
         "type": "integer"
        },
        {
         "name": "fp_1261",
         "rawType": "int64",
         "type": "integer"
        },
        {
         "name": "fp_1262",
         "rawType": "int64",
         "type": "integer"
        },
        {
         "name": "fp_1263",
         "rawType": "int64",
         "type": "integer"
        },
        {
         "name": "fp_1264",
         "rawType": "int64",
         "type": "integer"
        },
        {
         "name": "fp_1265",
         "rawType": "int64",
         "type": "integer"
        },
        {
         "name": "fp_1266",
         "rawType": "int64",
         "type": "integer"
        },
        {
         "name": "fp_1267",
         "rawType": "int64",
         "type": "integer"
        },
        {
         "name": "fp_1268",
         "rawType": "int64",
         "type": "integer"
        },
        {
         "name": "fp_1269",
         "rawType": "int64",
         "type": "integer"
        },
        {
         "name": "fp_1270",
         "rawType": "int64",
         "type": "integer"
        },
        {
         "name": "fp_1271",
         "rawType": "int64",
         "type": "integer"
        },
        {
         "name": "fp_1272",
         "rawType": "int64",
         "type": "integer"
        },
        {
         "name": "fp_1273",
         "rawType": "int64",
         "type": "integer"
        },
        {
         "name": "fp_1274",
         "rawType": "int64",
         "type": "integer"
        },
        {
         "name": "fp_1275",
         "rawType": "int64",
         "type": "integer"
        },
        {
         "name": "fp_1276",
         "rawType": "int64",
         "type": "integer"
        },
        {
         "name": "fp_1277",
         "rawType": "int64",
         "type": "integer"
        },
        {
         "name": "fp_1278",
         "rawType": "int64",
         "type": "integer"
        },
        {
         "name": "fp_1279",
         "rawType": "int64",
         "type": "integer"
        },
        {
         "name": "fp_1280",
         "rawType": "int64",
         "type": "integer"
        },
        {
         "name": "fp_1281",
         "rawType": "int64",
         "type": "integer"
        },
        {
         "name": "fp_1282",
         "rawType": "int64",
         "type": "integer"
        },
        {
         "name": "fp_1283",
         "rawType": "int64",
         "type": "integer"
        },
        {
         "name": "fp_1284",
         "rawType": "int64",
         "type": "integer"
        },
        {
         "name": "fp_1285",
         "rawType": "int64",
         "type": "integer"
        },
        {
         "name": "fp_1286",
         "rawType": "int64",
         "type": "integer"
        },
        {
         "name": "fp_1287",
         "rawType": "int64",
         "type": "integer"
        },
        {
         "name": "fp_1288",
         "rawType": "int64",
         "type": "integer"
        },
        {
         "name": "fp_1289",
         "rawType": "int64",
         "type": "integer"
        },
        {
         "name": "fp_1290",
         "rawType": "int64",
         "type": "integer"
        },
        {
         "name": "fp_1291",
         "rawType": "int64",
         "type": "integer"
        },
        {
         "name": "fp_1292",
         "rawType": "int64",
         "type": "integer"
        },
        {
         "name": "fp_1293",
         "rawType": "int64",
         "type": "integer"
        },
        {
         "name": "fp_1294",
         "rawType": "int64",
         "type": "integer"
        },
        {
         "name": "fp_1295",
         "rawType": "int64",
         "type": "integer"
        },
        {
         "name": "fp_1296",
         "rawType": "int64",
         "type": "integer"
        },
        {
         "name": "fp_1297",
         "rawType": "int64",
         "type": "integer"
        },
        {
         "name": "fp_1298",
         "rawType": "int64",
         "type": "integer"
        },
        {
         "name": "fp_1299",
         "rawType": "int64",
         "type": "integer"
        },
        {
         "name": "fp_1300",
         "rawType": "int64",
         "type": "integer"
        },
        {
         "name": "fp_1301",
         "rawType": "int64",
         "type": "integer"
        },
        {
         "name": "fp_1302",
         "rawType": "int64",
         "type": "integer"
        },
        {
         "name": "fp_1303",
         "rawType": "int64",
         "type": "integer"
        },
        {
         "name": "fp_1304",
         "rawType": "int64",
         "type": "integer"
        },
        {
         "name": "fp_1305",
         "rawType": "int64",
         "type": "integer"
        },
        {
         "name": "fp_1306",
         "rawType": "int64",
         "type": "integer"
        },
        {
         "name": "fp_1307",
         "rawType": "int64",
         "type": "integer"
        },
        {
         "name": "fp_1308",
         "rawType": "int64",
         "type": "integer"
        },
        {
         "name": "fp_1309",
         "rawType": "int64",
         "type": "integer"
        },
        {
         "name": "fp_1310",
         "rawType": "int64",
         "type": "integer"
        },
        {
         "name": "fp_1311",
         "rawType": "int64",
         "type": "integer"
        },
        {
         "name": "fp_1312",
         "rawType": "int64",
         "type": "integer"
        },
        {
         "name": "fp_1313",
         "rawType": "int64",
         "type": "integer"
        },
        {
         "name": "fp_1314",
         "rawType": "int64",
         "type": "integer"
        },
        {
         "name": "fp_1315",
         "rawType": "int64",
         "type": "integer"
        },
        {
         "name": "fp_1316",
         "rawType": "int64",
         "type": "integer"
        },
        {
         "name": "fp_1317",
         "rawType": "int64",
         "type": "integer"
        },
        {
         "name": "fp_1318",
         "rawType": "int64",
         "type": "integer"
        },
        {
         "name": "fp_1319",
         "rawType": "int64",
         "type": "integer"
        },
        {
         "name": "fp_1320",
         "rawType": "int64",
         "type": "integer"
        },
        {
         "name": "fp_1321",
         "rawType": "int64",
         "type": "integer"
        },
        {
         "name": "fp_1322",
         "rawType": "int64",
         "type": "integer"
        },
        {
         "name": "fp_1323",
         "rawType": "int64",
         "type": "integer"
        },
        {
         "name": "fp_1324",
         "rawType": "int64",
         "type": "integer"
        },
        {
         "name": "fp_1325",
         "rawType": "int64",
         "type": "integer"
        },
        {
         "name": "fp_1326",
         "rawType": "int64",
         "type": "integer"
        },
        {
         "name": "fp_1327",
         "rawType": "int64",
         "type": "integer"
        },
        {
         "name": "fp_1328",
         "rawType": "int64",
         "type": "integer"
        },
        {
         "name": "fp_1329",
         "rawType": "int64",
         "type": "integer"
        },
        {
         "name": "fp_1330",
         "rawType": "int64",
         "type": "integer"
        },
        {
         "name": "fp_1331",
         "rawType": "int64",
         "type": "integer"
        },
        {
         "name": "fp_1332",
         "rawType": "int64",
         "type": "integer"
        },
        {
         "name": "fp_1333",
         "rawType": "int64",
         "type": "integer"
        },
        {
         "name": "fp_1334",
         "rawType": "int64",
         "type": "integer"
        },
        {
         "name": "fp_1335",
         "rawType": "int64",
         "type": "integer"
        },
        {
         "name": "fp_1336",
         "rawType": "int64",
         "type": "integer"
        },
        {
         "name": "fp_1337",
         "rawType": "int64",
         "type": "integer"
        },
        {
         "name": "fp_1338",
         "rawType": "int64",
         "type": "integer"
        },
        {
         "name": "fp_1339",
         "rawType": "int64",
         "type": "integer"
        },
        {
         "name": "fp_1340",
         "rawType": "int64",
         "type": "integer"
        },
        {
         "name": "fp_1341",
         "rawType": "int64",
         "type": "integer"
        },
        {
         "name": "fp_1342",
         "rawType": "int64",
         "type": "integer"
        },
        {
         "name": "fp_1343",
         "rawType": "int64",
         "type": "integer"
        },
        {
         "name": "fp_1344",
         "rawType": "int64",
         "type": "integer"
        },
        {
         "name": "fp_1345",
         "rawType": "int64",
         "type": "integer"
        },
        {
         "name": "fp_1346",
         "rawType": "int64",
         "type": "integer"
        },
        {
         "name": "fp_1347",
         "rawType": "int64",
         "type": "integer"
        },
        {
         "name": "fp_1348",
         "rawType": "int64",
         "type": "integer"
        },
        {
         "name": "fp_1349",
         "rawType": "int64",
         "type": "integer"
        },
        {
         "name": "fp_1350",
         "rawType": "int64",
         "type": "integer"
        },
        {
         "name": "fp_1351",
         "rawType": "int64",
         "type": "integer"
        },
        {
         "name": "fp_1352",
         "rawType": "int64",
         "type": "integer"
        },
        {
         "name": "fp_1353",
         "rawType": "int64",
         "type": "integer"
        },
        {
         "name": "fp_1354",
         "rawType": "int64",
         "type": "integer"
        },
        {
         "name": "fp_1355",
         "rawType": "int64",
         "type": "integer"
        },
        {
         "name": "fp_1356",
         "rawType": "int64",
         "type": "integer"
        },
        {
         "name": "fp_1357",
         "rawType": "int64",
         "type": "integer"
        },
        {
         "name": "fp_1358",
         "rawType": "int64",
         "type": "integer"
        },
        {
         "name": "fp_1359",
         "rawType": "int64",
         "type": "integer"
        },
        {
         "name": "fp_1360",
         "rawType": "int64",
         "type": "integer"
        },
        {
         "name": "fp_1361",
         "rawType": "int64",
         "type": "integer"
        },
        {
         "name": "fp_1362",
         "rawType": "int64",
         "type": "integer"
        },
        {
         "name": "fp_1363",
         "rawType": "int64",
         "type": "integer"
        },
        {
         "name": "fp_1364",
         "rawType": "int64",
         "type": "integer"
        },
        {
         "name": "fp_1365",
         "rawType": "int64",
         "type": "integer"
        },
        {
         "name": "fp_1366",
         "rawType": "int64",
         "type": "integer"
        },
        {
         "name": "fp_1367",
         "rawType": "int64",
         "type": "integer"
        },
        {
         "name": "fp_1368",
         "rawType": "int64",
         "type": "integer"
        },
        {
         "name": "fp_1369",
         "rawType": "int64",
         "type": "integer"
        },
        {
         "name": "fp_1370",
         "rawType": "int64",
         "type": "integer"
        },
        {
         "name": "fp_1371",
         "rawType": "int64",
         "type": "integer"
        },
        {
         "name": "fp_1372",
         "rawType": "int64",
         "type": "integer"
        },
        {
         "name": "fp_1373",
         "rawType": "int64",
         "type": "integer"
        },
        {
         "name": "fp_1374",
         "rawType": "int64",
         "type": "integer"
        },
        {
         "name": "fp_1375",
         "rawType": "int64",
         "type": "integer"
        },
        {
         "name": "fp_1376",
         "rawType": "int64",
         "type": "integer"
        },
        {
         "name": "fp_1377",
         "rawType": "int64",
         "type": "integer"
        },
        {
         "name": "fp_1378",
         "rawType": "int64",
         "type": "integer"
        },
        {
         "name": "fp_1379",
         "rawType": "int64",
         "type": "integer"
        },
        {
         "name": "fp_1380",
         "rawType": "int64",
         "type": "integer"
        },
        {
         "name": "fp_1381",
         "rawType": "int64",
         "type": "integer"
        },
        {
         "name": "fp_1382",
         "rawType": "int64",
         "type": "integer"
        },
        {
         "name": "fp_1383",
         "rawType": "int64",
         "type": "integer"
        },
        {
         "name": "fp_1384",
         "rawType": "int64",
         "type": "integer"
        },
        {
         "name": "fp_1385",
         "rawType": "int64",
         "type": "integer"
        },
        {
         "name": "fp_1386",
         "rawType": "int64",
         "type": "integer"
        },
        {
         "name": "fp_1387",
         "rawType": "int64",
         "type": "integer"
        },
        {
         "name": "fp_1388",
         "rawType": "int64",
         "type": "integer"
        },
        {
         "name": "fp_1389",
         "rawType": "int64",
         "type": "integer"
        },
        {
         "name": "fp_1390",
         "rawType": "int64",
         "type": "integer"
        },
        {
         "name": "fp_1391",
         "rawType": "int64",
         "type": "integer"
        },
        {
         "name": "fp_1392",
         "rawType": "int64",
         "type": "integer"
        },
        {
         "name": "fp_1393",
         "rawType": "int64",
         "type": "integer"
        },
        {
         "name": "fp_1394",
         "rawType": "int64",
         "type": "integer"
        },
        {
         "name": "fp_1395",
         "rawType": "int64",
         "type": "integer"
        },
        {
         "name": "fp_1396",
         "rawType": "int64",
         "type": "integer"
        },
        {
         "name": "fp_1397",
         "rawType": "int64",
         "type": "integer"
        },
        {
         "name": "fp_1398",
         "rawType": "int64",
         "type": "integer"
        },
        {
         "name": "fp_1399",
         "rawType": "int64",
         "type": "integer"
        },
        {
         "name": "fp_1400",
         "rawType": "int64",
         "type": "integer"
        },
        {
         "name": "fp_1401",
         "rawType": "int64",
         "type": "integer"
        },
        {
         "name": "fp_1402",
         "rawType": "int64",
         "type": "integer"
        },
        {
         "name": "fp_1403",
         "rawType": "int64",
         "type": "integer"
        },
        {
         "name": "fp_1404",
         "rawType": "int64",
         "type": "integer"
        },
        {
         "name": "fp_1405",
         "rawType": "int64",
         "type": "integer"
        },
        {
         "name": "fp_1406",
         "rawType": "int64",
         "type": "integer"
        },
        {
         "name": "fp_1407",
         "rawType": "int64",
         "type": "integer"
        },
        {
         "name": "fp_1408",
         "rawType": "int64",
         "type": "integer"
        },
        {
         "name": "fp_1409",
         "rawType": "int64",
         "type": "integer"
        },
        {
         "name": "fp_1410",
         "rawType": "int64",
         "type": "integer"
        },
        {
         "name": "fp_1411",
         "rawType": "int64",
         "type": "integer"
        },
        {
         "name": "fp_1412",
         "rawType": "int64",
         "type": "integer"
        },
        {
         "name": "fp_1413",
         "rawType": "int64",
         "type": "integer"
        },
        {
         "name": "fp_1414",
         "rawType": "int64",
         "type": "integer"
        },
        {
         "name": "fp_1415",
         "rawType": "int64",
         "type": "integer"
        },
        {
         "name": "fp_1416",
         "rawType": "int64",
         "type": "integer"
        },
        {
         "name": "fp_1417",
         "rawType": "int64",
         "type": "integer"
        },
        {
         "name": "fp_1418",
         "rawType": "int64",
         "type": "integer"
        },
        {
         "name": "fp_1419",
         "rawType": "int64",
         "type": "integer"
        },
        {
         "name": "fp_1420",
         "rawType": "int64",
         "type": "integer"
        },
        {
         "name": "fp_1421",
         "rawType": "int64",
         "type": "integer"
        },
        {
         "name": "fp_1422",
         "rawType": "int64",
         "type": "integer"
        },
        {
         "name": "fp_1423",
         "rawType": "int64",
         "type": "integer"
        },
        {
         "name": "fp_1424",
         "rawType": "int64",
         "type": "integer"
        },
        {
         "name": "fp_1425",
         "rawType": "int64",
         "type": "integer"
        },
        {
         "name": "fp_1426",
         "rawType": "int64",
         "type": "integer"
        },
        {
         "name": "fp_1427",
         "rawType": "int64",
         "type": "integer"
        },
        {
         "name": "fp_1428",
         "rawType": "int64",
         "type": "integer"
        },
        {
         "name": "fp_1429",
         "rawType": "int64",
         "type": "integer"
        },
        {
         "name": "fp_1430",
         "rawType": "int64",
         "type": "integer"
        },
        {
         "name": "fp_1431",
         "rawType": "int64",
         "type": "integer"
        },
        {
         "name": "fp_1432",
         "rawType": "int64",
         "type": "integer"
        },
        {
         "name": "fp_1433",
         "rawType": "int64",
         "type": "integer"
        },
        {
         "name": "fp_1434",
         "rawType": "int64",
         "type": "integer"
        },
        {
         "name": "fp_1435",
         "rawType": "int64",
         "type": "integer"
        },
        {
         "name": "fp_1436",
         "rawType": "int64",
         "type": "integer"
        },
        {
         "name": "fp_1437",
         "rawType": "int64",
         "type": "integer"
        },
        {
         "name": "fp_1438",
         "rawType": "int64",
         "type": "integer"
        },
        {
         "name": "fp_1439",
         "rawType": "int64",
         "type": "integer"
        },
        {
         "name": "fp_1440",
         "rawType": "int64",
         "type": "integer"
        },
        {
         "name": "fp_1441",
         "rawType": "int64",
         "type": "integer"
        },
        {
         "name": "fp_1442",
         "rawType": "int64",
         "type": "integer"
        },
        {
         "name": "fp_1443",
         "rawType": "int64",
         "type": "integer"
        },
        {
         "name": "fp_1444",
         "rawType": "int64",
         "type": "integer"
        },
        {
         "name": "fp_1445",
         "rawType": "int64",
         "type": "integer"
        },
        {
         "name": "fp_1446",
         "rawType": "int64",
         "type": "integer"
        },
        {
         "name": "fp_1447",
         "rawType": "int64",
         "type": "integer"
        },
        {
         "name": "fp_1448",
         "rawType": "int64",
         "type": "integer"
        },
        {
         "name": "fp_1449",
         "rawType": "int64",
         "type": "integer"
        },
        {
         "name": "fp_1450",
         "rawType": "int64",
         "type": "integer"
        },
        {
         "name": "fp_1451",
         "rawType": "int64",
         "type": "integer"
        },
        {
         "name": "fp_1452",
         "rawType": "int64",
         "type": "integer"
        },
        {
         "name": "fp_1453",
         "rawType": "int64",
         "type": "integer"
        },
        {
         "name": "fp_1454",
         "rawType": "int64",
         "type": "integer"
        },
        {
         "name": "fp_1455",
         "rawType": "int64",
         "type": "integer"
        },
        {
         "name": "fp_1456",
         "rawType": "int64",
         "type": "integer"
        },
        {
         "name": "fp_1457",
         "rawType": "int64",
         "type": "integer"
        },
        {
         "name": "fp_1458",
         "rawType": "int64",
         "type": "integer"
        },
        {
         "name": "fp_1459",
         "rawType": "int64",
         "type": "integer"
        },
        {
         "name": "fp_1460",
         "rawType": "int64",
         "type": "integer"
        },
        {
         "name": "fp_1461",
         "rawType": "int64",
         "type": "integer"
        },
        {
         "name": "fp_1462",
         "rawType": "int64",
         "type": "integer"
        },
        {
         "name": "fp_1463",
         "rawType": "int64",
         "type": "integer"
        },
        {
         "name": "fp_1464",
         "rawType": "int64",
         "type": "integer"
        },
        {
         "name": "fp_1465",
         "rawType": "int64",
         "type": "integer"
        },
        {
         "name": "fp_1466",
         "rawType": "int64",
         "type": "integer"
        },
        {
         "name": "fp_1467",
         "rawType": "int64",
         "type": "integer"
        },
        {
         "name": "fp_1468",
         "rawType": "int64",
         "type": "integer"
        },
        {
         "name": "fp_1469",
         "rawType": "int64",
         "type": "integer"
        },
        {
         "name": "fp_1470",
         "rawType": "int64",
         "type": "integer"
        },
        {
         "name": "fp_1471",
         "rawType": "int64",
         "type": "integer"
        },
        {
         "name": "fp_1472",
         "rawType": "int64",
         "type": "integer"
        },
        {
         "name": "fp_1473",
         "rawType": "int64",
         "type": "integer"
        },
        {
         "name": "fp_1474",
         "rawType": "int64",
         "type": "integer"
        },
        {
         "name": "fp_1475",
         "rawType": "int64",
         "type": "integer"
        },
        {
         "name": "fp_1476",
         "rawType": "int64",
         "type": "integer"
        },
        {
         "name": "fp_1477",
         "rawType": "int64",
         "type": "integer"
        },
        {
         "name": "fp_1478",
         "rawType": "int64",
         "type": "integer"
        },
        {
         "name": "fp_1479",
         "rawType": "int64",
         "type": "integer"
        },
        {
         "name": "fp_1480",
         "rawType": "int64",
         "type": "integer"
        },
        {
         "name": "fp_1481",
         "rawType": "int64",
         "type": "integer"
        },
        {
         "name": "fp_1482",
         "rawType": "int64",
         "type": "integer"
        },
        {
         "name": "fp_1483",
         "rawType": "int64",
         "type": "integer"
        },
        {
         "name": "fp_1484",
         "rawType": "int64",
         "type": "integer"
        },
        {
         "name": "fp_1485",
         "rawType": "int64",
         "type": "integer"
        },
        {
         "name": "fp_1486",
         "rawType": "int64",
         "type": "integer"
        },
        {
         "name": "fp_1487",
         "rawType": "int64",
         "type": "integer"
        },
        {
         "name": "fp_1488",
         "rawType": "int64",
         "type": "integer"
        },
        {
         "name": "fp_1489",
         "rawType": "int64",
         "type": "integer"
        },
        {
         "name": "fp_1490",
         "rawType": "int64",
         "type": "integer"
        },
        {
         "name": "fp_1491",
         "rawType": "int64",
         "type": "integer"
        },
        {
         "name": "fp_1492",
         "rawType": "int64",
         "type": "integer"
        },
        {
         "name": "fp_1493",
         "rawType": "int64",
         "type": "integer"
        },
        {
         "name": "fp_1494",
         "rawType": "int64",
         "type": "integer"
        },
        {
         "name": "fp_1495",
         "rawType": "int64",
         "type": "integer"
        },
        {
         "name": "fp_1496",
         "rawType": "int64",
         "type": "integer"
        },
        {
         "name": "fp_1497",
         "rawType": "int64",
         "type": "integer"
        },
        {
         "name": "fp_1498",
         "rawType": "int64",
         "type": "integer"
        },
        {
         "name": "fp_1499",
         "rawType": "int64",
         "type": "integer"
        },
        {
         "name": "fp_1500",
         "rawType": "int64",
         "type": "integer"
        },
        {
         "name": "fp_1501",
         "rawType": "int64",
         "type": "integer"
        },
        {
         "name": "fp_1502",
         "rawType": "int64",
         "type": "integer"
        },
        {
         "name": "fp_1503",
         "rawType": "int64",
         "type": "integer"
        },
        {
         "name": "fp_1504",
         "rawType": "int64",
         "type": "integer"
        },
        {
         "name": "fp_1505",
         "rawType": "int64",
         "type": "integer"
        },
        {
         "name": "fp_1506",
         "rawType": "int64",
         "type": "integer"
        },
        {
         "name": "fp_1507",
         "rawType": "int64",
         "type": "integer"
        },
        {
         "name": "fp_1508",
         "rawType": "int64",
         "type": "integer"
        },
        {
         "name": "fp_1509",
         "rawType": "int64",
         "type": "integer"
        },
        {
         "name": "fp_1510",
         "rawType": "int64",
         "type": "integer"
        },
        {
         "name": "fp_1511",
         "rawType": "int64",
         "type": "integer"
        },
        {
         "name": "fp_1512",
         "rawType": "int64",
         "type": "integer"
        },
        {
         "name": "fp_1513",
         "rawType": "int64",
         "type": "integer"
        },
        {
         "name": "fp_1514",
         "rawType": "int64",
         "type": "integer"
        },
        {
         "name": "fp_1515",
         "rawType": "int64",
         "type": "integer"
        },
        {
         "name": "fp_1516",
         "rawType": "int64",
         "type": "integer"
        },
        {
         "name": "fp_1517",
         "rawType": "int64",
         "type": "integer"
        },
        {
         "name": "fp_1518",
         "rawType": "int64",
         "type": "integer"
        },
        {
         "name": "fp_1519",
         "rawType": "int64",
         "type": "integer"
        },
        {
         "name": "fp_1520",
         "rawType": "int64",
         "type": "integer"
        },
        {
         "name": "fp_1521",
         "rawType": "int64",
         "type": "integer"
        },
        {
         "name": "fp_1522",
         "rawType": "int64",
         "type": "integer"
        },
        {
         "name": "fp_1523",
         "rawType": "int64",
         "type": "integer"
        },
        {
         "name": "fp_1524",
         "rawType": "int64",
         "type": "integer"
        },
        {
         "name": "fp_1525",
         "rawType": "int64",
         "type": "integer"
        },
        {
         "name": "fp_1526",
         "rawType": "int64",
         "type": "integer"
        },
        {
         "name": "fp_1527",
         "rawType": "int64",
         "type": "integer"
        },
        {
         "name": "fp_1528",
         "rawType": "int64",
         "type": "integer"
        },
        {
         "name": "fp_1529",
         "rawType": "int64",
         "type": "integer"
        },
        {
         "name": "fp_1530",
         "rawType": "int64",
         "type": "integer"
        },
        {
         "name": "fp_1531",
         "rawType": "int64",
         "type": "integer"
        },
        {
         "name": "fp_1532",
         "rawType": "int64",
         "type": "integer"
        },
        {
         "name": "fp_1533",
         "rawType": "int64",
         "type": "integer"
        },
        {
         "name": "fp_1534",
         "rawType": "int64",
         "type": "integer"
        },
        {
         "name": "fp_1535",
         "rawType": "int64",
         "type": "integer"
        },
        {
         "name": "fp_1536",
         "rawType": "int64",
         "type": "integer"
        },
        {
         "name": "fp_1537",
         "rawType": "int64",
         "type": "integer"
        },
        {
         "name": "fp_1538",
         "rawType": "int64",
         "type": "integer"
        },
        {
         "name": "fp_1539",
         "rawType": "int64",
         "type": "integer"
        },
        {
         "name": "fp_1540",
         "rawType": "int64",
         "type": "integer"
        },
        {
         "name": "fp_1541",
         "rawType": "int64",
         "type": "integer"
        },
        {
         "name": "fp_1542",
         "rawType": "int64",
         "type": "integer"
        },
        {
         "name": "fp_1543",
         "rawType": "int64",
         "type": "integer"
        },
        {
         "name": "fp_1544",
         "rawType": "int64",
         "type": "integer"
        },
        {
         "name": "fp_1545",
         "rawType": "int64",
         "type": "integer"
        },
        {
         "name": "fp_1546",
         "rawType": "int64",
         "type": "integer"
        },
        {
         "name": "fp_1547",
         "rawType": "int64",
         "type": "integer"
        },
        {
         "name": "fp_1548",
         "rawType": "int64",
         "type": "integer"
        },
        {
         "name": "fp_1549",
         "rawType": "int64",
         "type": "integer"
        },
        {
         "name": "fp_1550",
         "rawType": "int64",
         "type": "integer"
        },
        {
         "name": "fp_1551",
         "rawType": "int64",
         "type": "integer"
        },
        {
         "name": "fp_1552",
         "rawType": "int64",
         "type": "integer"
        },
        {
         "name": "fp_1553",
         "rawType": "int64",
         "type": "integer"
        },
        {
         "name": "fp_1554",
         "rawType": "int64",
         "type": "integer"
        },
        {
         "name": "fp_1555",
         "rawType": "int64",
         "type": "integer"
        },
        {
         "name": "fp_1556",
         "rawType": "int64",
         "type": "integer"
        },
        {
         "name": "fp_1557",
         "rawType": "int64",
         "type": "integer"
        },
        {
         "name": "fp_1558",
         "rawType": "int64",
         "type": "integer"
        },
        {
         "name": "fp_1559",
         "rawType": "int64",
         "type": "integer"
        },
        {
         "name": "fp_1560",
         "rawType": "int64",
         "type": "integer"
        },
        {
         "name": "fp_1561",
         "rawType": "int64",
         "type": "integer"
        },
        {
         "name": "fp_1562",
         "rawType": "int64",
         "type": "integer"
        },
        {
         "name": "fp_1563",
         "rawType": "int64",
         "type": "integer"
        },
        {
         "name": "fp_1564",
         "rawType": "int64",
         "type": "integer"
        },
        {
         "name": "fp_1565",
         "rawType": "int64",
         "type": "integer"
        },
        {
         "name": "fp_1566",
         "rawType": "int64",
         "type": "integer"
        },
        {
         "name": "fp_1567",
         "rawType": "int64",
         "type": "integer"
        },
        {
         "name": "fp_1568",
         "rawType": "int64",
         "type": "integer"
        },
        {
         "name": "fp_1569",
         "rawType": "int64",
         "type": "integer"
        },
        {
         "name": "fp_1570",
         "rawType": "int64",
         "type": "integer"
        },
        {
         "name": "fp_1571",
         "rawType": "int64",
         "type": "integer"
        },
        {
         "name": "fp_1572",
         "rawType": "int64",
         "type": "integer"
        },
        {
         "name": "fp_1573",
         "rawType": "int64",
         "type": "integer"
        },
        {
         "name": "fp_1574",
         "rawType": "int64",
         "type": "integer"
        },
        {
         "name": "fp_1575",
         "rawType": "int64",
         "type": "integer"
        },
        {
         "name": "fp_1576",
         "rawType": "int64",
         "type": "integer"
        },
        {
         "name": "fp_1577",
         "rawType": "int64",
         "type": "integer"
        },
        {
         "name": "fp_1578",
         "rawType": "int64",
         "type": "integer"
        },
        {
         "name": "fp_1579",
         "rawType": "int64",
         "type": "integer"
        },
        {
         "name": "fp_1580",
         "rawType": "int64",
         "type": "integer"
        },
        {
         "name": "fp_1581",
         "rawType": "int64",
         "type": "integer"
        },
        {
         "name": "fp_1582",
         "rawType": "int64",
         "type": "integer"
        },
        {
         "name": "fp_1583",
         "rawType": "int64",
         "type": "integer"
        },
        {
         "name": "fp_1584",
         "rawType": "int64",
         "type": "integer"
        },
        {
         "name": "fp_1585",
         "rawType": "int64",
         "type": "integer"
        },
        {
         "name": "fp_1586",
         "rawType": "int64",
         "type": "integer"
        },
        {
         "name": "fp_1587",
         "rawType": "int64",
         "type": "integer"
        },
        {
         "name": "fp_1588",
         "rawType": "int64",
         "type": "integer"
        },
        {
         "name": "fp_1589",
         "rawType": "int64",
         "type": "integer"
        },
        {
         "name": "fp_1590",
         "rawType": "int64",
         "type": "integer"
        },
        {
         "name": "fp_1591",
         "rawType": "int64",
         "type": "integer"
        },
        {
         "name": "fp_1592",
         "rawType": "int64",
         "type": "integer"
        },
        {
         "name": "fp_1593",
         "rawType": "int64",
         "type": "integer"
        },
        {
         "name": "fp_1594",
         "rawType": "int64",
         "type": "integer"
        },
        {
         "name": "fp_1595",
         "rawType": "int64",
         "type": "integer"
        },
        {
         "name": "fp_1596",
         "rawType": "int64",
         "type": "integer"
        },
        {
         "name": "fp_1597",
         "rawType": "int64",
         "type": "integer"
        },
        {
         "name": "fp_1598",
         "rawType": "int64",
         "type": "integer"
        },
        {
         "name": "fp_1599",
         "rawType": "int64",
         "type": "integer"
        },
        {
         "name": "fp_1600",
         "rawType": "int64",
         "type": "integer"
        },
        {
         "name": "fp_1601",
         "rawType": "int64",
         "type": "integer"
        },
        {
         "name": "fp_1602",
         "rawType": "int64",
         "type": "integer"
        },
        {
         "name": "fp_1603",
         "rawType": "int64",
         "type": "integer"
        },
        {
         "name": "fp_1604",
         "rawType": "int64",
         "type": "integer"
        },
        {
         "name": "fp_1605",
         "rawType": "int64",
         "type": "integer"
        },
        {
         "name": "fp_1606",
         "rawType": "int64",
         "type": "integer"
        },
        {
         "name": "fp_1607",
         "rawType": "int64",
         "type": "integer"
        },
        {
         "name": "fp_1608",
         "rawType": "int64",
         "type": "integer"
        },
        {
         "name": "fp_1609",
         "rawType": "int64",
         "type": "integer"
        },
        {
         "name": "fp_1610",
         "rawType": "int64",
         "type": "integer"
        },
        {
         "name": "fp_1611",
         "rawType": "int64",
         "type": "integer"
        },
        {
         "name": "fp_1612",
         "rawType": "int64",
         "type": "integer"
        },
        {
         "name": "fp_1613",
         "rawType": "int64",
         "type": "integer"
        },
        {
         "name": "fp_1614",
         "rawType": "int64",
         "type": "integer"
        },
        {
         "name": "fp_1615",
         "rawType": "int64",
         "type": "integer"
        },
        {
         "name": "fp_1616",
         "rawType": "int64",
         "type": "integer"
        },
        {
         "name": "fp_1617",
         "rawType": "int64",
         "type": "integer"
        },
        {
         "name": "fp_1618",
         "rawType": "int64",
         "type": "integer"
        },
        {
         "name": "fp_1619",
         "rawType": "int64",
         "type": "integer"
        },
        {
         "name": "fp_1620",
         "rawType": "int64",
         "type": "integer"
        },
        {
         "name": "fp_1621",
         "rawType": "int64",
         "type": "integer"
        },
        {
         "name": "fp_1622",
         "rawType": "int64",
         "type": "integer"
        },
        {
         "name": "fp_1623",
         "rawType": "int64",
         "type": "integer"
        },
        {
         "name": "fp_1624",
         "rawType": "int64",
         "type": "integer"
        },
        {
         "name": "fp_1625",
         "rawType": "int64",
         "type": "integer"
        },
        {
         "name": "fp_1626",
         "rawType": "int64",
         "type": "integer"
        },
        {
         "name": "fp_1627",
         "rawType": "int64",
         "type": "integer"
        },
        {
         "name": "fp_1628",
         "rawType": "int64",
         "type": "integer"
        },
        {
         "name": "fp_1629",
         "rawType": "int64",
         "type": "integer"
        },
        {
         "name": "fp_1630",
         "rawType": "int64",
         "type": "integer"
        },
        {
         "name": "fp_1631",
         "rawType": "int64",
         "type": "integer"
        },
        {
         "name": "fp_1632",
         "rawType": "int64",
         "type": "integer"
        },
        {
         "name": "fp_1633",
         "rawType": "int64",
         "type": "integer"
        },
        {
         "name": "fp_1634",
         "rawType": "int64",
         "type": "integer"
        },
        {
         "name": "fp_1635",
         "rawType": "int64",
         "type": "integer"
        },
        {
         "name": "fp_1636",
         "rawType": "int64",
         "type": "integer"
        },
        {
         "name": "fp_1637",
         "rawType": "int64",
         "type": "integer"
        },
        {
         "name": "fp_1638",
         "rawType": "int64",
         "type": "integer"
        },
        {
         "name": "fp_1639",
         "rawType": "int64",
         "type": "integer"
        },
        {
         "name": "fp_1640",
         "rawType": "int64",
         "type": "integer"
        },
        {
         "name": "fp_1641",
         "rawType": "int64",
         "type": "integer"
        },
        {
         "name": "fp_1642",
         "rawType": "int64",
         "type": "integer"
        },
        {
         "name": "fp_1643",
         "rawType": "int64",
         "type": "integer"
        },
        {
         "name": "fp_1644",
         "rawType": "int64",
         "type": "integer"
        },
        {
         "name": "fp_1645",
         "rawType": "int64",
         "type": "integer"
        },
        {
         "name": "fp_1646",
         "rawType": "int64",
         "type": "integer"
        },
        {
         "name": "fp_1647",
         "rawType": "int64",
         "type": "integer"
        },
        {
         "name": "fp_1648",
         "rawType": "int64",
         "type": "integer"
        },
        {
         "name": "fp_1649",
         "rawType": "int64",
         "type": "integer"
        },
        {
         "name": "fp_1650",
         "rawType": "int64",
         "type": "integer"
        },
        {
         "name": "fp_1651",
         "rawType": "int64",
         "type": "integer"
        },
        {
         "name": "fp_1652",
         "rawType": "int64",
         "type": "integer"
        },
        {
         "name": "fp_1653",
         "rawType": "int64",
         "type": "integer"
        },
        {
         "name": "fp_1654",
         "rawType": "int64",
         "type": "integer"
        },
        {
         "name": "fp_1655",
         "rawType": "int64",
         "type": "integer"
        },
        {
         "name": "fp_1656",
         "rawType": "int64",
         "type": "integer"
        },
        {
         "name": "fp_1657",
         "rawType": "int64",
         "type": "integer"
        },
        {
         "name": "fp_1658",
         "rawType": "int64",
         "type": "integer"
        },
        {
         "name": "fp_1659",
         "rawType": "int64",
         "type": "integer"
        },
        {
         "name": "fp_1660",
         "rawType": "int64",
         "type": "integer"
        },
        {
         "name": "fp_1661",
         "rawType": "int64",
         "type": "integer"
        },
        {
         "name": "fp_1662",
         "rawType": "int64",
         "type": "integer"
        },
        {
         "name": "fp_1663",
         "rawType": "int64",
         "type": "integer"
        },
        {
         "name": "fp_1664",
         "rawType": "int64",
         "type": "integer"
        },
        {
         "name": "fp_1665",
         "rawType": "int64",
         "type": "integer"
        },
        {
         "name": "fp_1666",
         "rawType": "int64",
         "type": "integer"
        },
        {
         "name": "fp_1667",
         "rawType": "int64",
         "type": "integer"
        },
        {
         "name": "fp_1668",
         "rawType": "int64",
         "type": "integer"
        },
        {
         "name": "fp_1669",
         "rawType": "int64",
         "type": "integer"
        },
        {
         "name": "fp_1670",
         "rawType": "int64",
         "type": "integer"
        },
        {
         "name": "fp_1671",
         "rawType": "int64",
         "type": "integer"
        },
        {
         "name": "fp_1672",
         "rawType": "int64",
         "type": "integer"
        },
        {
         "name": "fp_1673",
         "rawType": "int64",
         "type": "integer"
        },
        {
         "name": "fp_1674",
         "rawType": "int64",
         "type": "integer"
        },
        {
         "name": "fp_1675",
         "rawType": "int64",
         "type": "integer"
        },
        {
         "name": "fp_1676",
         "rawType": "int64",
         "type": "integer"
        },
        {
         "name": "fp_1677",
         "rawType": "int64",
         "type": "integer"
        },
        {
         "name": "fp_1678",
         "rawType": "int64",
         "type": "integer"
        },
        {
         "name": "fp_1679",
         "rawType": "int64",
         "type": "integer"
        },
        {
         "name": "fp_1680",
         "rawType": "int64",
         "type": "integer"
        },
        {
         "name": "fp_1681",
         "rawType": "int64",
         "type": "integer"
        },
        {
         "name": "fp_1682",
         "rawType": "int64",
         "type": "integer"
        },
        {
         "name": "fp_1683",
         "rawType": "int64",
         "type": "integer"
        },
        {
         "name": "fp_1684",
         "rawType": "int64",
         "type": "integer"
        },
        {
         "name": "fp_1685",
         "rawType": "int64",
         "type": "integer"
        },
        {
         "name": "fp_1686",
         "rawType": "int64",
         "type": "integer"
        },
        {
         "name": "fp_1687",
         "rawType": "int64",
         "type": "integer"
        },
        {
         "name": "fp_1688",
         "rawType": "int64",
         "type": "integer"
        },
        {
         "name": "fp_1689",
         "rawType": "int64",
         "type": "integer"
        },
        {
         "name": "fp_1690",
         "rawType": "int64",
         "type": "integer"
        },
        {
         "name": "fp_1691",
         "rawType": "int64",
         "type": "integer"
        },
        {
         "name": "fp_1692",
         "rawType": "int64",
         "type": "integer"
        },
        {
         "name": "fp_1693",
         "rawType": "int64",
         "type": "integer"
        },
        {
         "name": "fp_1694",
         "rawType": "int64",
         "type": "integer"
        },
        {
         "name": "fp_1695",
         "rawType": "int64",
         "type": "integer"
        },
        {
         "name": "fp_1696",
         "rawType": "int64",
         "type": "integer"
        },
        {
         "name": "fp_1697",
         "rawType": "int64",
         "type": "integer"
        },
        {
         "name": "fp_1698",
         "rawType": "int64",
         "type": "integer"
        },
        {
         "name": "fp_1699",
         "rawType": "int64",
         "type": "integer"
        },
        {
         "name": "fp_1700",
         "rawType": "int64",
         "type": "integer"
        },
        {
         "name": "fp_1701",
         "rawType": "int64",
         "type": "integer"
        },
        {
         "name": "fp_1702",
         "rawType": "int64",
         "type": "integer"
        },
        {
         "name": "fp_1703",
         "rawType": "int64",
         "type": "integer"
        },
        {
         "name": "fp_1704",
         "rawType": "int64",
         "type": "integer"
        },
        {
         "name": "fp_1705",
         "rawType": "int64",
         "type": "integer"
        },
        {
         "name": "fp_1706",
         "rawType": "int64",
         "type": "integer"
        },
        {
         "name": "fp_1707",
         "rawType": "int64",
         "type": "integer"
        },
        {
         "name": "fp_1708",
         "rawType": "int64",
         "type": "integer"
        },
        {
         "name": "fp_1709",
         "rawType": "int64",
         "type": "integer"
        },
        {
         "name": "fp_1710",
         "rawType": "int64",
         "type": "integer"
        },
        {
         "name": "fp_1711",
         "rawType": "int64",
         "type": "integer"
        },
        {
         "name": "fp_1712",
         "rawType": "int64",
         "type": "integer"
        },
        {
         "name": "fp_1713",
         "rawType": "int64",
         "type": "integer"
        },
        {
         "name": "fp_1714",
         "rawType": "int64",
         "type": "integer"
        },
        {
         "name": "fp_1715",
         "rawType": "int64",
         "type": "integer"
        },
        {
         "name": "fp_1716",
         "rawType": "int64",
         "type": "integer"
        },
        {
         "name": "fp_1717",
         "rawType": "int64",
         "type": "integer"
        },
        {
         "name": "fp_1718",
         "rawType": "int64",
         "type": "integer"
        },
        {
         "name": "fp_1719",
         "rawType": "int64",
         "type": "integer"
        },
        {
         "name": "fp_1720",
         "rawType": "int64",
         "type": "integer"
        },
        {
         "name": "fp_1721",
         "rawType": "int64",
         "type": "integer"
        },
        {
         "name": "fp_1722",
         "rawType": "int64",
         "type": "integer"
        },
        {
         "name": "fp_1723",
         "rawType": "int64",
         "type": "integer"
        },
        {
         "name": "fp_1724",
         "rawType": "int64",
         "type": "integer"
        },
        {
         "name": "fp_1725",
         "rawType": "int64",
         "type": "integer"
        },
        {
         "name": "fp_1726",
         "rawType": "int64",
         "type": "integer"
        },
        {
         "name": "fp_1727",
         "rawType": "int64",
         "type": "integer"
        },
        {
         "name": "fp_1728",
         "rawType": "int64",
         "type": "integer"
        },
        {
         "name": "fp_1729",
         "rawType": "int64",
         "type": "integer"
        },
        {
         "name": "fp_1730",
         "rawType": "int64",
         "type": "integer"
        },
        {
         "name": "fp_1731",
         "rawType": "int64",
         "type": "integer"
        },
        {
         "name": "fp_1732",
         "rawType": "int64",
         "type": "integer"
        },
        {
         "name": "fp_1733",
         "rawType": "int64",
         "type": "integer"
        },
        {
         "name": "fp_1734",
         "rawType": "int64",
         "type": "integer"
        },
        {
         "name": "fp_1735",
         "rawType": "int64",
         "type": "integer"
        },
        {
         "name": "fp_1736",
         "rawType": "int64",
         "type": "integer"
        },
        {
         "name": "fp_1737",
         "rawType": "int64",
         "type": "integer"
        },
        {
         "name": "fp_1738",
         "rawType": "int64",
         "type": "integer"
        },
        {
         "name": "fp_1739",
         "rawType": "int64",
         "type": "integer"
        },
        {
         "name": "fp_1740",
         "rawType": "int64",
         "type": "integer"
        },
        {
         "name": "fp_1741",
         "rawType": "int64",
         "type": "integer"
        },
        {
         "name": "fp_1742",
         "rawType": "int64",
         "type": "integer"
        },
        {
         "name": "fp_1743",
         "rawType": "int64",
         "type": "integer"
        },
        {
         "name": "fp_1744",
         "rawType": "int64",
         "type": "integer"
        },
        {
         "name": "fp_1745",
         "rawType": "int64",
         "type": "integer"
        },
        {
         "name": "fp_1746",
         "rawType": "int64",
         "type": "integer"
        },
        {
         "name": "fp_1747",
         "rawType": "int64",
         "type": "integer"
        },
        {
         "name": "fp_1748",
         "rawType": "int64",
         "type": "integer"
        },
        {
         "name": "fp_1749",
         "rawType": "int64",
         "type": "integer"
        },
        {
         "name": "fp_1750",
         "rawType": "int64",
         "type": "integer"
        },
        {
         "name": "fp_1751",
         "rawType": "int64",
         "type": "integer"
        },
        {
         "name": "fp_1752",
         "rawType": "int64",
         "type": "integer"
        },
        {
         "name": "fp_1753",
         "rawType": "int64",
         "type": "integer"
        },
        {
         "name": "fp_1754",
         "rawType": "int64",
         "type": "integer"
        },
        {
         "name": "fp_1755",
         "rawType": "int64",
         "type": "integer"
        },
        {
         "name": "fp_1756",
         "rawType": "int64",
         "type": "integer"
        },
        {
         "name": "fp_1757",
         "rawType": "int64",
         "type": "integer"
        },
        {
         "name": "fp_1758",
         "rawType": "int64",
         "type": "integer"
        },
        {
         "name": "fp_1759",
         "rawType": "int64",
         "type": "integer"
        },
        {
         "name": "fp_1760",
         "rawType": "int64",
         "type": "integer"
        },
        {
         "name": "fp_1761",
         "rawType": "int64",
         "type": "integer"
        },
        {
         "name": "fp_1762",
         "rawType": "int64",
         "type": "integer"
        },
        {
         "name": "fp_1763",
         "rawType": "int64",
         "type": "integer"
        },
        {
         "name": "fp_1764",
         "rawType": "int64",
         "type": "integer"
        },
        {
         "name": "fp_1765",
         "rawType": "int64",
         "type": "integer"
        },
        {
         "name": "fp_1766",
         "rawType": "int64",
         "type": "integer"
        },
        {
         "name": "fp_1767",
         "rawType": "int64",
         "type": "integer"
        },
        {
         "name": "fp_1768",
         "rawType": "int64",
         "type": "integer"
        },
        {
         "name": "fp_1769",
         "rawType": "int64",
         "type": "integer"
        },
        {
         "name": "fp_1770",
         "rawType": "int64",
         "type": "integer"
        },
        {
         "name": "fp_1771",
         "rawType": "int64",
         "type": "integer"
        },
        {
         "name": "fp_1772",
         "rawType": "int64",
         "type": "integer"
        },
        {
         "name": "fp_1773",
         "rawType": "int64",
         "type": "integer"
        },
        {
         "name": "fp_1774",
         "rawType": "int64",
         "type": "integer"
        },
        {
         "name": "fp_1775",
         "rawType": "int64",
         "type": "integer"
        },
        {
         "name": "fp_1776",
         "rawType": "int64",
         "type": "integer"
        },
        {
         "name": "fp_1777",
         "rawType": "int64",
         "type": "integer"
        },
        {
         "name": "fp_1778",
         "rawType": "int64",
         "type": "integer"
        },
        {
         "name": "fp_1779",
         "rawType": "int64",
         "type": "integer"
        },
        {
         "name": "fp_1780",
         "rawType": "int64",
         "type": "integer"
        },
        {
         "name": "fp_1781",
         "rawType": "int64",
         "type": "integer"
        },
        {
         "name": "fp_1782",
         "rawType": "int64",
         "type": "integer"
        },
        {
         "name": "fp_1783",
         "rawType": "int64",
         "type": "integer"
        },
        {
         "name": "fp_1784",
         "rawType": "int64",
         "type": "integer"
        },
        {
         "name": "fp_1785",
         "rawType": "int64",
         "type": "integer"
        },
        {
         "name": "fp_1786",
         "rawType": "int64",
         "type": "integer"
        },
        {
         "name": "fp_1787",
         "rawType": "int64",
         "type": "integer"
        },
        {
         "name": "fp_1788",
         "rawType": "int64",
         "type": "integer"
        },
        {
         "name": "fp_1789",
         "rawType": "int64",
         "type": "integer"
        },
        {
         "name": "fp_1790",
         "rawType": "int64",
         "type": "integer"
        },
        {
         "name": "fp_1791",
         "rawType": "int64",
         "type": "integer"
        },
        {
         "name": "fp_1792",
         "rawType": "int64",
         "type": "integer"
        },
        {
         "name": "fp_1793",
         "rawType": "int64",
         "type": "integer"
        },
        {
         "name": "fp_1794",
         "rawType": "int64",
         "type": "integer"
        },
        {
         "name": "fp_1795",
         "rawType": "int64",
         "type": "integer"
        },
        {
         "name": "fp_1796",
         "rawType": "int64",
         "type": "integer"
        },
        {
         "name": "fp_1797",
         "rawType": "int64",
         "type": "integer"
        },
        {
         "name": "fp_1798",
         "rawType": "int64",
         "type": "integer"
        },
        {
         "name": "fp_1799",
         "rawType": "int64",
         "type": "integer"
        },
        {
         "name": "fp_1800",
         "rawType": "int64",
         "type": "integer"
        },
        {
         "name": "fp_1801",
         "rawType": "int64",
         "type": "integer"
        },
        {
         "name": "fp_1802",
         "rawType": "int64",
         "type": "integer"
        },
        {
         "name": "fp_1803",
         "rawType": "int64",
         "type": "integer"
        },
        {
         "name": "fp_1804",
         "rawType": "int64",
         "type": "integer"
        },
        {
         "name": "fp_1805",
         "rawType": "int64",
         "type": "integer"
        },
        {
         "name": "fp_1806",
         "rawType": "int64",
         "type": "integer"
        },
        {
         "name": "fp_1807",
         "rawType": "int64",
         "type": "integer"
        },
        {
         "name": "fp_1808",
         "rawType": "int64",
         "type": "integer"
        },
        {
         "name": "fp_1809",
         "rawType": "int64",
         "type": "integer"
        },
        {
         "name": "fp_1810",
         "rawType": "int64",
         "type": "integer"
        },
        {
         "name": "fp_1811",
         "rawType": "int64",
         "type": "integer"
        },
        {
         "name": "fp_1812",
         "rawType": "int64",
         "type": "integer"
        },
        {
         "name": "fp_1813",
         "rawType": "int64",
         "type": "integer"
        },
        {
         "name": "fp_1814",
         "rawType": "int64",
         "type": "integer"
        },
        {
         "name": "fp_1815",
         "rawType": "int64",
         "type": "integer"
        },
        {
         "name": "fp_1816",
         "rawType": "int64",
         "type": "integer"
        },
        {
         "name": "fp_1817",
         "rawType": "int64",
         "type": "integer"
        },
        {
         "name": "fp_1818",
         "rawType": "int64",
         "type": "integer"
        },
        {
         "name": "fp_1819",
         "rawType": "int64",
         "type": "integer"
        },
        {
         "name": "fp_1820",
         "rawType": "int64",
         "type": "integer"
        },
        {
         "name": "fp_1821",
         "rawType": "int64",
         "type": "integer"
        },
        {
         "name": "fp_1822",
         "rawType": "int64",
         "type": "integer"
        },
        {
         "name": "fp_1823",
         "rawType": "int64",
         "type": "integer"
        },
        {
         "name": "fp_1824",
         "rawType": "int64",
         "type": "integer"
        },
        {
         "name": "fp_1825",
         "rawType": "int64",
         "type": "integer"
        },
        {
         "name": "fp_1826",
         "rawType": "int64",
         "type": "integer"
        },
        {
         "name": "fp_1827",
         "rawType": "int64",
         "type": "integer"
        },
        {
         "name": "fp_1828",
         "rawType": "int64",
         "type": "integer"
        },
        {
         "name": "fp_1829",
         "rawType": "int64",
         "type": "integer"
        },
        {
         "name": "fp_1830",
         "rawType": "int64",
         "type": "integer"
        },
        {
         "name": "fp_1831",
         "rawType": "int64",
         "type": "integer"
        },
        {
         "name": "fp_1832",
         "rawType": "int64",
         "type": "integer"
        },
        {
         "name": "fp_1833",
         "rawType": "int64",
         "type": "integer"
        },
        {
         "name": "fp_1834",
         "rawType": "int64",
         "type": "integer"
        },
        {
         "name": "fp_1835",
         "rawType": "int64",
         "type": "integer"
        },
        {
         "name": "fp_1836",
         "rawType": "int64",
         "type": "integer"
        },
        {
         "name": "fp_1837",
         "rawType": "int64",
         "type": "integer"
        },
        {
         "name": "fp_1838",
         "rawType": "int64",
         "type": "integer"
        },
        {
         "name": "fp_1839",
         "rawType": "int64",
         "type": "integer"
        },
        {
         "name": "fp_1840",
         "rawType": "int64",
         "type": "integer"
        },
        {
         "name": "fp_1841",
         "rawType": "int64",
         "type": "integer"
        },
        {
         "name": "fp_1842",
         "rawType": "int64",
         "type": "integer"
        },
        {
         "name": "fp_1843",
         "rawType": "int64",
         "type": "integer"
        },
        {
         "name": "fp_1844",
         "rawType": "int64",
         "type": "integer"
        },
        {
         "name": "fp_1845",
         "rawType": "int64",
         "type": "integer"
        },
        {
         "name": "fp_1846",
         "rawType": "int64",
         "type": "integer"
        },
        {
         "name": "fp_1847",
         "rawType": "int64",
         "type": "integer"
        },
        {
         "name": "fp_1848",
         "rawType": "int64",
         "type": "integer"
        },
        {
         "name": "fp_1849",
         "rawType": "int64",
         "type": "integer"
        },
        {
         "name": "fp_1850",
         "rawType": "int64",
         "type": "integer"
        },
        {
         "name": "fp_1851",
         "rawType": "int64",
         "type": "integer"
        },
        {
         "name": "fp_1852",
         "rawType": "int64",
         "type": "integer"
        },
        {
         "name": "fp_1853",
         "rawType": "int64",
         "type": "integer"
        },
        {
         "name": "fp_1854",
         "rawType": "int64",
         "type": "integer"
        },
        {
         "name": "fp_1855",
         "rawType": "int64",
         "type": "integer"
        },
        {
         "name": "fp_1856",
         "rawType": "int64",
         "type": "integer"
        },
        {
         "name": "fp_1857",
         "rawType": "int64",
         "type": "integer"
        },
        {
         "name": "fp_1858",
         "rawType": "int64",
         "type": "integer"
        },
        {
         "name": "fp_1859",
         "rawType": "int64",
         "type": "integer"
        },
        {
         "name": "fp_1860",
         "rawType": "int64",
         "type": "integer"
        },
        {
         "name": "fp_1861",
         "rawType": "int64",
         "type": "integer"
        },
        {
         "name": "fp_1862",
         "rawType": "int64",
         "type": "integer"
        },
        {
         "name": "fp_1863",
         "rawType": "int64",
         "type": "integer"
        },
        {
         "name": "fp_1864",
         "rawType": "int64",
         "type": "integer"
        },
        {
         "name": "fp_1865",
         "rawType": "int64",
         "type": "integer"
        },
        {
         "name": "fp_1866",
         "rawType": "int64",
         "type": "integer"
        },
        {
         "name": "fp_1867",
         "rawType": "int64",
         "type": "integer"
        },
        {
         "name": "fp_1868",
         "rawType": "int64",
         "type": "integer"
        },
        {
         "name": "fp_1869",
         "rawType": "int64",
         "type": "integer"
        },
        {
         "name": "fp_1870",
         "rawType": "int64",
         "type": "integer"
        },
        {
         "name": "fp_1871",
         "rawType": "int64",
         "type": "integer"
        },
        {
         "name": "fp_1872",
         "rawType": "int64",
         "type": "integer"
        },
        {
         "name": "fp_1873",
         "rawType": "int64",
         "type": "integer"
        },
        {
         "name": "fp_1874",
         "rawType": "int64",
         "type": "integer"
        },
        {
         "name": "fp_1875",
         "rawType": "int64",
         "type": "integer"
        },
        {
         "name": "fp_1876",
         "rawType": "int64",
         "type": "integer"
        },
        {
         "name": "fp_1877",
         "rawType": "int64",
         "type": "integer"
        },
        {
         "name": "fp_1878",
         "rawType": "int64",
         "type": "integer"
        },
        {
         "name": "fp_1879",
         "rawType": "int64",
         "type": "integer"
        },
        {
         "name": "fp_1880",
         "rawType": "int64",
         "type": "integer"
        },
        {
         "name": "fp_1881",
         "rawType": "int64",
         "type": "integer"
        },
        {
         "name": "fp_1882",
         "rawType": "int64",
         "type": "integer"
        },
        {
         "name": "fp_1883",
         "rawType": "int64",
         "type": "integer"
        },
        {
         "name": "fp_1884",
         "rawType": "int64",
         "type": "integer"
        },
        {
         "name": "fp_1885",
         "rawType": "int64",
         "type": "integer"
        },
        {
         "name": "fp_1886",
         "rawType": "int64",
         "type": "integer"
        },
        {
         "name": "fp_1887",
         "rawType": "int64",
         "type": "integer"
        },
        {
         "name": "fp_1888",
         "rawType": "int64",
         "type": "integer"
        },
        {
         "name": "fp_1889",
         "rawType": "int64",
         "type": "integer"
        },
        {
         "name": "fp_1890",
         "rawType": "int64",
         "type": "integer"
        },
        {
         "name": "fp_1891",
         "rawType": "int64",
         "type": "integer"
        },
        {
         "name": "fp_1892",
         "rawType": "int64",
         "type": "integer"
        },
        {
         "name": "fp_1893",
         "rawType": "int64",
         "type": "integer"
        },
        {
         "name": "fp_1894",
         "rawType": "int64",
         "type": "integer"
        },
        {
         "name": "fp_1895",
         "rawType": "int64",
         "type": "integer"
        },
        {
         "name": "fp_1896",
         "rawType": "int64",
         "type": "integer"
        },
        {
         "name": "fp_1897",
         "rawType": "int64",
         "type": "integer"
        },
        {
         "name": "fp_1898",
         "rawType": "int64",
         "type": "integer"
        },
        {
         "name": "fp_1899",
         "rawType": "int64",
         "type": "integer"
        },
        {
         "name": "fp_1900",
         "rawType": "int64",
         "type": "integer"
        },
        {
         "name": "fp_1901",
         "rawType": "int64",
         "type": "integer"
        },
        {
         "name": "fp_1902",
         "rawType": "int64",
         "type": "integer"
        },
        {
         "name": "fp_1903",
         "rawType": "int64",
         "type": "integer"
        },
        {
         "name": "fp_1904",
         "rawType": "int64",
         "type": "integer"
        },
        {
         "name": "fp_1905",
         "rawType": "int64",
         "type": "integer"
        },
        {
         "name": "fp_1906",
         "rawType": "int64",
         "type": "integer"
        },
        {
         "name": "fp_1907",
         "rawType": "int64",
         "type": "integer"
        },
        {
         "name": "fp_1908",
         "rawType": "int64",
         "type": "integer"
        },
        {
         "name": "fp_1909",
         "rawType": "int64",
         "type": "integer"
        },
        {
         "name": "fp_1910",
         "rawType": "int64",
         "type": "integer"
        },
        {
         "name": "fp_1911",
         "rawType": "int64",
         "type": "integer"
        },
        {
         "name": "fp_1912",
         "rawType": "int64",
         "type": "integer"
        },
        {
         "name": "fp_1913",
         "rawType": "int64",
         "type": "integer"
        },
        {
         "name": "fp_1914",
         "rawType": "int64",
         "type": "integer"
        },
        {
         "name": "fp_1915",
         "rawType": "int64",
         "type": "integer"
        },
        {
         "name": "fp_1916",
         "rawType": "int64",
         "type": "integer"
        },
        {
         "name": "fp_1917",
         "rawType": "int64",
         "type": "integer"
        },
        {
         "name": "fp_1918",
         "rawType": "int64",
         "type": "integer"
        },
        {
         "name": "fp_1919",
         "rawType": "int64",
         "type": "integer"
        },
        {
         "name": "fp_1920",
         "rawType": "int64",
         "type": "integer"
        },
        {
         "name": "fp_1921",
         "rawType": "int64",
         "type": "integer"
        },
        {
         "name": "fp_1922",
         "rawType": "int64",
         "type": "integer"
        },
        {
         "name": "fp_1923",
         "rawType": "int64",
         "type": "integer"
        },
        {
         "name": "fp_1924",
         "rawType": "int64",
         "type": "integer"
        },
        {
         "name": "fp_1925",
         "rawType": "int64",
         "type": "integer"
        },
        {
         "name": "fp_1926",
         "rawType": "int64",
         "type": "integer"
        },
        {
         "name": "fp_1927",
         "rawType": "int64",
         "type": "integer"
        },
        {
         "name": "fp_1928",
         "rawType": "int64",
         "type": "integer"
        },
        {
         "name": "fp_1929",
         "rawType": "int64",
         "type": "integer"
        },
        {
         "name": "fp_1930",
         "rawType": "int64",
         "type": "integer"
        },
        {
         "name": "fp_1931",
         "rawType": "int64",
         "type": "integer"
        },
        {
         "name": "fp_1932",
         "rawType": "int64",
         "type": "integer"
        },
        {
         "name": "fp_1933",
         "rawType": "int64",
         "type": "integer"
        },
        {
         "name": "fp_1934",
         "rawType": "int64",
         "type": "integer"
        },
        {
         "name": "fp_1935",
         "rawType": "int64",
         "type": "integer"
        },
        {
         "name": "fp_1936",
         "rawType": "int64",
         "type": "integer"
        },
        {
         "name": "fp_1937",
         "rawType": "int64",
         "type": "integer"
        },
        {
         "name": "fp_1938",
         "rawType": "int64",
         "type": "integer"
        },
        {
         "name": "fp_1939",
         "rawType": "int64",
         "type": "integer"
        },
        {
         "name": "fp_1940",
         "rawType": "int64",
         "type": "integer"
        },
        {
         "name": "fp_1941",
         "rawType": "int64",
         "type": "integer"
        },
        {
         "name": "fp_1942",
         "rawType": "int64",
         "type": "integer"
        },
        {
         "name": "fp_1943",
         "rawType": "int64",
         "type": "integer"
        },
        {
         "name": "fp_1944",
         "rawType": "int64",
         "type": "integer"
        },
        {
         "name": "fp_1945",
         "rawType": "int64",
         "type": "integer"
        },
        {
         "name": "fp_1946",
         "rawType": "int64",
         "type": "integer"
        },
        {
         "name": "fp_1947",
         "rawType": "int64",
         "type": "integer"
        },
        {
         "name": "fp_1948",
         "rawType": "int64",
         "type": "integer"
        },
        {
         "name": "fp_1949",
         "rawType": "int64",
         "type": "integer"
        },
        {
         "name": "fp_1950",
         "rawType": "int64",
         "type": "integer"
        },
        {
         "name": "fp_1951",
         "rawType": "int64",
         "type": "integer"
        },
        {
         "name": "fp_1952",
         "rawType": "int64",
         "type": "integer"
        },
        {
         "name": "fp_1953",
         "rawType": "int64",
         "type": "integer"
        },
        {
         "name": "fp_1954",
         "rawType": "int64",
         "type": "integer"
        },
        {
         "name": "fp_1955",
         "rawType": "int64",
         "type": "integer"
        },
        {
         "name": "fp_1956",
         "rawType": "int64",
         "type": "integer"
        },
        {
         "name": "fp_1957",
         "rawType": "int64",
         "type": "integer"
        },
        {
         "name": "fp_1958",
         "rawType": "int64",
         "type": "integer"
        },
        {
         "name": "fp_1959",
         "rawType": "int64",
         "type": "integer"
        },
        {
         "name": "fp_1960",
         "rawType": "int64",
         "type": "integer"
        },
        {
         "name": "fp_1961",
         "rawType": "int64",
         "type": "integer"
        },
        {
         "name": "fp_1962",
         "rawType": "int64",
         "type": "integer"
        },
        {
         "name": "fp_1963",
         "rawType": "int64",
         "type": "integer"
        },
        {
         "name": "fp_1964",
         "rawType": "int64",
         "type": "integer"
        },
        {
         "name": "fp_1965",
         "rawType": "int64",
         "type": "integer"
        },
        {
         "name": "fp_1966",
         "rawType": "int64",
         "type": "integer"
        },
        {
         "name": "fp_1967",
         "rawType": "int64",
         "type": "integer"
        },
        {
         "name": "fp_1968",
         "rawType": "int64",
         "type": "integer"
        },
        {
         "name": "fp_1969",
         "rawType": "int64",
         "type": "integer"
        },
        {
         "name": "fp_1970",
         "rawType": "int64",
         "type": "integer"
        },
        {
         "name": "fp_1971",
         "rawType": "int64",
         "type": "integer"
        },
        {
         "name": "fp_1972",
         "rawType": "int64",
         "type": "integer"
        },
        {
         "name": "fp_1973",
         "rawType": "int64",
         "type": "integer"
        },
        {
         "name": "fp_1974",
         "rawType": "int64",
         "type": "integer"
        },
        {
         "name": "fp_1975",
         "rawType": "int64",
         "type": "integer"
        },
        {
         "name": "fp_1976",
         "rawType": "int64",
         "type": "integer"
        },
        {
         "name": "fp_1977",
         "rawType": "int64",
         "type": "integer"
        },
        {
         "name": "fp_1978",
         "rawType": "int64",
         "type": "integer"
        },
        {
         "name": "fp_1979",
         "rawType": "int64",
         "type": "integer"
        },
        {
         "name": "fp_1980",
         "rawType": "int64",
         "type": "integer"
        },
        {
         "name": "fp_1981",
         "rawType": "int64",
         "type": "integer"
        },
        {
         "name": "fp_1982",
         "rawType": "int64",
         "type": "integer"
        },
        {
         "name": "fp_1983",
         "rawType": "int64",
         "type": "integer"
        },
        {
         "name": "fp_1984",
         "rawType": "int64",
         "type": "integer"
        },
        {
         "name": "fp_1985",
         "rawType": "int64",
         "type": "integer"
        },
        {
         "name": "fp_1986",
         "rawType": "int64",
         "type": "integer"
        },
        {
         "name": "fp_1987",
         "rawType": "int64",
         "type": "integer"
        },
        {
         "name": "fp_1988",
         "rawType": "int64",
         "type": "integer"
        },
        {
         "name": "fp_1989",
         "rawType": "int64",
         "type": "integer"
        },
        {
         "name": "fp_1990",
         "rawType": "int64",
         "type": "integer"
        },
        {
         "name": "fp_1991",
         "rawType": "int64",
         "type": "integer"
        },
        {
         "name": "fp_1992",
         "rawType": "int64",
         "type": "integer"
        },
        {
         "name": "fp_1993",
         "rawType": "int64",
         "type": "integer"
        },
        {
         "name": "fp_1994",
         "rawType": "int64",
         "type": "integer"
        },
        {
         "name": "fp_1995",
         "rawType": "int64",
         "type": "integer"
        },
        {
         "name": "fp_1996",
         "rawType": "int64",
         "type": "integer"
        },
        {
         "name": "fp_1997",
         "rawType": "int64",
         "type": "integer"
        },
        {
         "name": "fp_1998",
         "rawType": "int64",
         "type": "integer"
        },
        {
         "name": "fp_1999",
         "rawType": "int64",
         "type": "integer"
        },
        {
         "name": "fp_2000",
         "rawType": "int64",
         "type": "integer"
        },
        {
         "name": "fp_2001",
         "rawType": "int64",
         "type": "integer"
        },
        {
         "name": "fp_2002",
         "rawType": "int64",
         "type": "integer"
        },
        {
         "name": "fp_2003",
         "rawType": "int64",
         "type": "integer"
        },
        {
         "name": "fp_2004",
         "rawType": "int64",
         "type": "integer"
        },
        {
         "name": "fp_2005",
         "rawType": "int64",
         "type": "integer"
        },
        {
         "name": "fp_2006",
         "rawType": "int64",
         "type": "integer"
        },
        {
         "name": "fp_2007",
         "rawType": "int64",
         "type": "integer"
        },
        {
         "name": "fp_2008",
         "rawType": "int64",
         "type": "integer"
        },
        {
         "name": "fp_2009",
         "rawType": "int64",
         "type": "integer"
        },
        {
         "name": "fp_2010",
         "rawType": "int64",
         "type": "integer"
        },
        {
         "name": "fp_2011",
         "rawType": "int64",
         "type": "integer"
        },
        {
         "name": "fp_2012",
         "rawType": "int64",
         "type": "integer"
        },
        {
         "name": "fp_2013",
         "rawType": "int64",
         "type": "integer"
        },
        {
         "name": "fp_2014",
         "rawType": "int64",
         "type": "integer"
        },
        {
         "name": "fp_2015",
         "rawType": "int64",
         "type": "integer"
        },
        {
         "name": "fp_2016",
         "rawType": "int64",
         "type": "integer"
        },
        {
         "name": "fp_2017",
         "rawType": "int64",
         "type": "integer"
        },
        {
         "name": "fp_2018",
         "rawType": "int64",
         "type": "integer"
        },
        {
         "name": "fp_2019",
         "rawType": "int64",
         "type": "integer"
        },
        {
         "name": "fp_2020",
         "rawType": "int64",
         "type": "integer"
        },
        {
         "name": "fp_2021",
         "rawType": "int64",
         "type": "integer"
        },
        {
         "name": "fp_2022",
         "rawType": "int64",
         "type": "integer"
        },
        {
         "name": "fp_2023",
         "rawType": "int64",
         "type": "integer"
        },
        {
         "name": "fp_2024",
         "rawType": "int64",
         "type": "integer"
        },
        {
         "name": "fp_2025",
         "rawType": "int64",
         "type": "integer"
        },
        {
         "name": "fp_2026",
         "rawType": "int64",
         "type": "integer"
        },
        {
         "name": "fp_2027",
         "rawType": "int64",
         "type": "integer"
        },
        {
         "name": "fp_2028",
         "rawType": "int64",
         "type": "integer"
        },
        {
         "name": "fp_2029",
         "rawType": "int64",
         "type": "integer"
        },
        {
         "name": "fp_2030",
         "rawType": "int64",
         "type": "integer"
        },
        {
         "name": "fp_2031",
         "rawType": "int64",
         "type": "integer"
        },
        {
         "name": "fp_2032",
         "rawType": "int64",
         "type": "integer"
        },
        {
         "name": "fp_2033",
         "rawType": "int64",
         "type": "integer"
        },
        {
         "name": "fp_2034",
         "rawType": "int64",
         "type": "integer"
        },
        {
         "name": "fp_2035",
         "rawType": "int64",
         "type": "integer"
        },
        {
         "name": "fp_2036",
         "rawType": "int64",
         "type": "integer"
        },
        {
         "name": "fp_2037",
         "rawType": "int64",
         "type": "integer"
        },
        {
         "name": "fp_2038",
         "rawType": "int64",
         "type": "integer"
        },
        {
         "name": "fp_2039",
         "rawType": "int64",
         "type": "integer"
        },
        {
         "name": "fp_2040",
         "rawType": "int64",
         "type": "integer"
        },
        {
         "name": "fp_2041",
         "rawType": "int64",
         "type": "integer"
        },
        {
         "name": "fp_2042",
         "rawType": "int64",
         "type": "integer"
        },
        {
         "name": "fp_2043",
         "rawType": "int64",
         "type": "integer"
        },
        {
         "name": "fp_2044",
         "rawType": "int64",
         "type": "integer"
        },
        {
         "name": "fp_2045",
         "rawType": "int64",
         "type": "integer"
        },
        {
         "name": "fp_2046",
         "rawType": "int64",
         "type": "integer"
        },
        {
         "name": "fp_2047",
         "rawType": "int64",
         "type": "integer"
        },
        {
         "name": "cx_charge_formalCharge",
         "rawType": "float64",
         "type": "float"
        },
        {
         "name": "cx_elemental-analysis_mass",
         "rawType": "float64",
         "type": "float"
        },
        {
         "name": "cx_hbda_donorAtomCount",
         "rawType": "float64",
         "type": "float"
        },
        {
         "name": "cx_hbda_donorSiteCount",
         "rawType": "float64",
         "type": "float"
        },
        {
         "name": "cx_hbda_acceptorAtomCount",
         "rawType": "float64",
         "type": "float"
        },
        {
         "name": "cx_hbda_acceptorSiteCount",
         "rawType": "float64",
         "type": "float"
        },
        {
         "name": "cx_hlb_cxnHlbValue",
         "rawType": "float64",
         "type": "float"
        },
        {
         "name": "cx_hlb_daviesHlbValue",
         "rawType": "float64",
         "type": "float"
        },
        {
         "name": "cx_hlb_griffinHlbValue",
         "rawType": "float64",
         "type": "float"
        },
        {
         "name": "cx_hlb_requiredHLBValue",
         "rawType": "float64",
         "type": "float"
        },
        {
         "name": "cx_logd[pH=7.4]",
         "rawType": "float64",
         "type": "float"
        },
        {
         "name": "cx_logp_logP",
         "rawType": "float64",
         "type": "float"
        },
        {
         "name": "cx_pka_apKa1",
         "rawType": "float64",
         "type": "float"
        },
        {
         "name": "cx_pka_apKa2",
         "rawType": "float64",
         "type": "float"
        },
        {
         "name": "cx_pka_bpKa1",
         "rawType": "float64",
         "type": "float"
        },
        {
         "name": "cx_pka_bpKa2",
         "rawType": "float64",
         "type": "float"
        },
        {
         "name": "cx_polar-surface-area_polarSurfaceArea",
         "rawType": "float64",
         "type": "float"
        },
        {
         "name": "cx_intrinsicSolubility",
         "rawType": "float64",
         "type": "float"
        },
        {
         "name": "cx_solubility(logS)[pH=7.4]",
         "rawType": "float64",
         "type": "float"
        },
        {
         "name": "cx_topology-analyser_aliphaticRingCount",
         "rawType": "float64",
         "type": "float"
        },
        {
         "name": "cx_topology-analyser_aromaticAtomCount",
         "rawType": "float64",
         "type": "float"
        },
        {
         "name": "cx_topology-analyser_aromaticRingCount",
         "rawType": "float64",
         "type": "float"
        },
        {
         "name": "cx_topology-analyser_chainBondCount",
         "rawType": "float64",
         "type": "float"
        },
        {
         "name": "cx_topology-analyser_chiralCenterCount",
         "rawType": "float64",
         "type": "float"
        },
        {
         "name": "cx_topology-analyser_fsp3",
         "rawType": "float64",
         "type": "float"
        },
        {
         "name": "cx_topology-analyser_fusedAliphaticRingCount",
         "rawType": "float64",
         "type": "float"
        },
        {
         "name": "cx_topology-analyser_fusedAromaticRingCount",
         "rawType": "float64",
         "type": "float"
        },
        {
         "name": "cx_topology-analyser_fusedRingCount",
         "rawType": "float64",
         "type": "float"
        },
        {
         "name": "cx_topology-analyser_heteroRingCount",
         "rawType": "float64",
         "type": "float"
        },
        {
         "name": "cx_topology-analyser_heteroAromaticRingCount",
         "rawType": "float64",
         "type": "float"
        },
        {
         "name": "cx_topology-analyser_largestRingSize",
         "rawType": "int64",
         "type": "integer"
        },
        {
         "name": "cx_topology-analyser_largestRingSystemSize",
         "rawType": "float64",
         "type": "float"
        },
        {
         "name": "cx_topology-analyser_rotatableBondCount",
         "rawType": "float64",
         "type": "float"
        }
       ],
       "conversionMethod": "pd.DataFrame",
       "ref": "5f046be4-5ae4-42b8-95e9-3ffae6c6db0c",
       "rows": [
        [
         "0",
         "KT-0001674",
         "0.298012837",
         "-0.0125083328819264",
         "-0.4492594454876792",
         "1.82014672005948",
         "1.82014672005948",
         "0.7535770259705966",
         "1.248947755954389",
         "0.3477998349023037",
         "-0.5601535005770245",
         "-1.0433079792568822",
         "-1.047452020260081",
         "-1.0431598542365863",
         "-1.0120966160948992",
         "0",
         "0.8514824494633857",
         "-0.0802452136869234",
         "-0.2105174073669364",
         "1.1855107223013264",
         "0.1225641278549725",
         "0.3384162516432189",
         "0.497546700023628",
         "-0.7061766789525481",
         "0.3932122187853413",
         "-1.151236962170822",
         "0.725911416003029",
         "-0.1691442617776686",
         "-0.9475072253245468",
         "-0.6658281640753211",
         "-0.5874253769016643",
         "-1.061656081426949",
         "-0.7361838081583311",
         "0.1710817640822452",
         "-1.0491974346859227",
         "-1.0830607221477648",
         "-0.542206157092603",
         "-1.3121597027036949",
         "0.4921853690962267",
         "-0.6673820292801826",
         "0.0555460320180628",
         "0.4040610178208844",
         "-1.4106196212076594",
         "-1.241010455988046",
         "0.3488126522629156",
         "-0.3429971702850177",
         "-0.882792803540209",
         "-1.125462867742275",
         "-0.7578688378159688",
         "-0.8381768403531488",
         "-0.2883700313187344",
         "-1.3121597027036949",
         "1.058663557033081",
         "-0.3404697182675533",
         "-0.7637626158259734",
         "0.0727392967453306",
         "-0.5712873998512061",
         "-1.218217296539446",
         "-1.276997379524894",
         "-1.0551074652461876",
         "0",
         "-0.5976143046671968",
         "-0.2357022603955158",
         "0",
         "0",
         "-1.0317251193584875",
         "0",
         "0",
         "0",
         "0",
         "0.0354218173487908",
         "0.0354218173487908",
         "0",
         "0",
         "0",
         "-0.8774485792128432",
         "-0.7431605356175379",
         "-0.2357022603955158",
         "0",
         "0",
         "-1.0",
         "0",
         "0",
         "0",
         "0",
         "-1.0935283241892713",
         "0",
         "0.0555460320180628",
         "0",
         "-0.0393749615479077",
         "1.186781658193853",
         "0",
         "0",
         "0",
         "0.4040610178208844",
         "0",
         "-0.830773163432567",
         "0",
         "0",
         "0",
         "-0.1643989873053571",
         "0.5968491905238344",
         "0",
         "0",
         "-0.5970588058172428",
         "0",
         "0",
         "1.1114378604524224",
         "-0.552816232231331",
         "0",
         "0",
         "0",
         "0",
         "0",
         "2.3094010767585003",
         "-0.5570860145311556",
         "1.4719601443879746",
         "0",
         "0",
         "0",
         "0",
         "0",
         "-0.4902612396325591",
         "0",
         "-0.6382847385042255",
         "0",
         "0",
         "0",
         "0",
         "-0.4800793585191831",
         "0",
         "-0.2357022603955158",
         "0",
         "-1.309307341415954",
         "0",
         "0",
         "0",
         "-0.2357022603955158",
         "0",
         "0",
         "-0.3892494720807614",
         "0",
         "0",
         "2.447373552545562",
         "0",
         "0",
         "0",
         "0",
         "0",
         "0",
         "0",
         "0",
         "0",
         "1",
         "0",
         "0",
         "0",
         "0",
         "0",
         "0",
         "0",
         "0",
         "0",
         "0",
         "0",
         "0",
         "0",
         "0",
         "0",
         "0",
         "0",
         "0",
         "0",
         "0",
         "0",
         "0",
         "0",
         "0",
         "0",
         "0",
         "0",
         "0",
         "0",
         "0",
         "0",
         "0",
         "1",
         "0",
         "0",
         "0",
         "1",
         "0",
         "0",
         "0",
         "0",
         "0",
         "0",
         "0",
         "0",
         "0",
         "0",
         "0",
         "0",
         "0",
         "0",
         "0",
         "0",
         "0",
         "0",
         "0",
         "0",
         "0",
         "0",
         "0",
         "0",
         "0",
         "0",
         "0",
         "0",
         "0",
         "0",
         "0",
         "0",
         "0",
         "0",
         "1",
         "0",
         "0",
         "0",
         "0",
         "0",
         "0",
         "0",
         "0",
         "0",
         "0",
         "0",
         "0",
         "0",
         "0",
         "0",
         "0",
         "0",
         "0",
         "0",
         "0",
         "0",
         "0",
         "0",
         "1",
         "0",
         "0",
         "0",
         "0",
         "0",
         "0",
         "0",
         "0",
         "0",
         "0",
         "0",
         "1",
         "0",
         "0",
         "0",
         "0",
         "0",
         "0",
         "0",
         "0",
         "0",
         "0",
         "0",
         "0",
         "0",
         "0",
         "0",
         "0",
         "0",
         "0",
         "0",
         "0",
         "0",
         "0",
         "0",
         "0",
         "0",
         "0",
         "0",
         "0",
         "0",
         "0",
         "0",
         "0",
         "0",
         "0",
         "0",
         "0",
         "0",
         "0",
         "0",
         "0",
         "0",
         "0",
         "0",
         "0",
         "0",
         "0",
         "0",
         "1",
         "0",
         "0",
         "0",
         "0",
         "0",
         "0",
         "0",
         "0",
         "0",
         "0",
         "0",
         "0",
         "0",
         "0",
         "0",
         "0",
         "0",
         "0",
         "0",
         "0",
         "0",
         "0",
         "0",
         "0",
         "1",
         "0",
         "0",
         "0",
         "0",
         "0",
         "0",
         "0",
         "1",
         "0",
         "0",
         "0",
         "0",
         "0",
         "0",
         "0",
         "0",
         "0",
         "0",
         "0",
         "0",
         "0",
         "0",
         "0",
         "0",
         "0",
         "0",
         "0",
         "0",
         "0",
         "0",
         "0",
         "0",
         "0",
         "0",
         "0",
         "0",
         "0",
         "0",
         "0",
         "0",
         "0",
         "1",
         "0",
         "1",
         "0",
         "0",
         "0",
         "1",
         "0",
         "1",
         "0",
         "0",
         "0",
         "0",
         "0",
         "0",
         "0",
         "0",
         "0",
         "0",
         "0",
         "0",
         "0",
         "0",
         "0",
         "0",
         "0",
         "0",
         "0",
         "0",
         "0",
         "0",
         "0",
         "0",
         "0",
         "0",
         "0",
         "0",
         "1",
         "0",
         "0",
         "0",
         "0",
         "0",
         "0",
         "0",
         "0",
         "0",
         "0",
         "0",
         "0",
         "0",
         "0",
         "0",
         "0",
         "0",
         "0",
         "0",
         "0",
         "0",
         "0",
         "0",
         "0",
         "1",
         "0",
         "0",
         "0",
         "0",
         "0",
         "0",
         "0",
         "0",
         "0",
         "0",
         "0",
         "0",
         "0",
         "0",
         "0",
         "0",
         "1",
         "0",
         "0",
         "0",
         "1",
         "0",
         "0",
         "0",
         "0",
         "0",
         "0",
         "0",
         "0",
         "0",
         "0",
         "0",
         "0",
         "0",
         "0",
         "0",
         "0",
         "0",
         "0",
         "0",
         "0",
         "0",
         "0",
         "0",
         "0",
         "0",
         "0",
         "0",
         "0",
         "0",
         "0",
         "0",
         "0",
         "0",
         "0",
         "0",
         "0",
         "0",
         "0",
         "0",
         "0",
         "0",
         "0",
         "0",
         "0",
         "0",
         "0",
         "0",
         "0",
         "0",
         "0",
         "0",
         "0",
         "0",
         "0",
         "0",
         "0",
         "0",
         "0",
         "0",
         "0",
         "0",
         "0",
         "0",
         "0",
         "0",
         "0",
         "0",
         "0",
         "0",
         "0",
         "0",
         "0",
         "0",
         "0",
         "0",
         "0",
         "0",
         "0",
         "0",
         "1",
         "0",
         "0",
         "0",
         "0",
         "0",
         "0",
         "0",
         "0",
         "0",
         "0",
         "0",
         "0",
         "1",
         "0",
         "0",
         "0",
         "0",
         "0",
         "0",
         "0",
         "0",
         "0",
         "0",
         "0",
         "0",
         "0",
         "0",
         "0",
         "0",
         "0",
         "0",
         "0",
         "0",
         "0",
         "0",
         "0",
         "0",
         "0",
         "0",
         "0",
         "0",
         "0",
         "0",
         "0",
         "0",
         "0",
         "0",
         "0",
         "0",
         "0",
         "0",
         "0",
         "0",
         "0",
         "1",
         "0",
         "0",
         "0",
         "0",
         "1",
         "0",
         "0",
         "0",
         "0",
         "0",
         "0",
         "0",
         "0",
         "0",
         "0",
         "0",
         "0",
         "0",
         "0",
         "0",
         "0",
         "0",
         "0",
         "0",
         "0",
         "0",
         "0",
         "0",
         "0",
         "0",
         "0",
         "0",
         "0",
         "0",
         "0",
         "0",
         "0",
         "0",
         "0",
         "0",
         "0",
         "0",
         "0",
         "0",
         "0",
         "0",
         "0",
         "0",
         "0",
         "0",
         "0",
         "1",
         "0",
         "0",
         "0",
         "0",
         "0",
         "0",
         "0",
         "0",
         "0",
         "0",
         "0",
         "0",
         "0",
         "0",
         "0",
         "0",
         "1",
         "0",
         "0",
         "0",
         "1",
         "1",
         "0",
         "0",
         "0",
         "0",
         "0",
         "0",
         "0",
         "0",
         "0",
         "1",
         "0",
         "0",
         "0",
         "0",
         "0",
         "0",
         "0",
         "0",
         "0",
         "0",
         "0",
         "0",
         "0",
         "0",
         "0",
         "0",
         "0",
         "0",
         "0",
         "0",
         "0",
         "0",
         "0",
         "0",
         "0",
         "0",
         "0",
         "0",
         "0",
         "0",
         "1",
         "0",
         "0",
         "0",
         "0",
         "0",
         "0",
         "0",
         "0",
         "0",
         "0",
         "0",
         "0",
         "0",
         "0",
         "0",
         "0",
         "0",
         "0",
         "0",
         "0",
         "0",
         "0",
         "0",
         "0",
         "0",
         "0",
         "0",
         "0",
         "0",
         "0",
         "0",
         "0",
         "0",
         "0",
         "0",
         "0",
         "0",
         "0",
         "0",
         "0",
         "0",
         "1",
         "0",
         "1",
         "0",
         "0",
         "0",
         "0",
         "0",
         "0",
         "0",
         "0",
         "0",
         "0",
         "0",
         "0",
         "0",
         "0",
         "0",
         "0",
         "0",
         "0",
         "1",
         "0",
         "0",
         "1",
         "0",
         "0",
         "0",
         "0",
         "0",
         "0",
         "0",
         "0",
         "0",
         "0",
         "1",
         "0",
         "0",
         "0",
         "0",
         "0",
         "0",
         "0",
         "0",
         "1",
         "0",
         "0",
         "0",
         "0",
         "0",
         "1",
         "0",
         "1",
         "0",
         "0",
         "1",
         "0",
         "0",
         "0",
         "0",
         "0",
         "1",
         "0",
         "0",
         "0",
         "0",
         "0",
         "0",
         "0",
         "0",
         "0",
         "0",
         "0",
         "0",
         "0",
         "0",
         "0",
         "1",
         "0",
         "0",
         "0",
         "0",
         "0",
         "0",
         "0",
         "0",
         "0",
         "0",
         "0",
         "0",
         "0",
         "0",
         "0",
         "1",
         "0",
         "0",
         "0",
         "0",
         "0",
         "0",
         "0",
         "0",
         "0",
         "0",
         "0",
         "0",
         "0",
         "0",
         "0",
         "0",
         "1",
         "0",
         "0",
         "0",
         "0",
         "0",
         "0",
         "0",
         "0",
         "0",
         "0",
         "0",
         "0",
         "0",
         "0",
         "0",
         "0",
         "0",
         "0",
         "0",
         "0",
         "0",
         "0",
         "1",
         "0",
         "0",
         "0",
         "0",
         "0",
         "0",
         "0",
         "0",
         "0",
         "0",
         "1",
         "0",
         "0",
         "0",
         "0",
         "0",
         "0",
         "0",
         "0",
         "0",
         "0",
         "0",
         "0",
         "0",
         "0",
         "0",
         "0",
         "0",
         "0",
         "0",
         "0",
         "1",
         "0",
         "0",
         "0",
         "0",
         "0",
         "0",
         "0",
         "0",
         "0",
         "0",
         "0",
         "0",
         "0",
         "0",
         "0",
         "0",
         "0",
         "0",
         "0",
         "0",
         "0",
         "0",
         "0",
         "0",
         "0",
         "0",
         "0",
         "0",
         "0",
         "0",
         "0",
         "0",
         "1",
         "0",
         "0",
         "1",
         "0",
         "0",
         "0",
         "0",
         "0",
         "0",
         "0",
         "0",
         "0",
         "0",
         "0",
         "0",
         "0",
         "0",
         "0",
         "0",
         "0",
         "0",
         "0",
         "0",
         "0",
         "0",
         "0",
         "0",
         "0",
         "0",
         "0",
         "0",
         "0",
         "0",
         "0",
         "0",
         "0",
         "0",
         "0",
         "0",
         "0",
         "0",
         "0",
         "0",
         "0",
         "0",
         "0",
         "0",
         "0",
         "0",
         "0",
         "0",
         "0",
         "0",
         "1",
         "0",
         "0",
         "0",
         "0",
         "0",
         "0",
         "0",
         "0",
         "0",
         "0",
         "0",
         "0",
         "0",
         "1",
         "0",
         "0",
         "1",
         "0",
         "0",
         "0",
         "0",
         "0",
         "0",
         "0",
         "0",
         "0",
         "0",
         "0",
         "0",
         "0",
         "0",
         "0",
         "0",
         "0",
         "0",
         "0",
         "0",
         "0",
         "0",
         "0",
         "0",
         "0",
         "0",
         "1",
         "0",
         "0",
         "0",
         "0",
         "0",
         "0",
         "0",
         "0",
         "0",
         "0",
         "0",
         "0",
         "0",
         "0",
         "0",
         "0",
         "0",
         "0",
         "0",
         "0",
         "0",
         "0",
         "0",
         "1",
         "0",
         "0",
         "0",
         "0",
         "0",
         "0",
         "0",
         "0",
         "1",
         "0",
         "0",
         "0",
         "0",
         "0",
         "0",
         "0",
         "0",
         "0",
         "0",
         "0",
         "0",
         "0",
         "0",
         "1",
         "0",
         "1",
         "0",
         "0",
         "0",
         "1",
         "0",
         "0",
         "0",
         "0",
         "0",
         "0",
         "0",
         "0",
         "0",
         "0",
         "1",
         "0",
         "0",
         "0",
         "0",
         "0",
         "0",
         "0",
         "0",
         "0",
         "0",
         "1",
         "0",
         "0",
         "0",
         "0",
         "0",
         "0",
         "0",
         "0",
         "0",
         "0",
         "0",
         "0",
         "0",
         "0",
         "0",
         "0",
         "0",
         "0",
         "0",
         "0",
         "0",
         "0",
         "0",
         "0",
         "0",
         "0",
         "0",
         "0",
         "0",
         "0",
         "0",
         "0",
         "0",
         "0",
         "0",
         "1",
         "0",
         "0",
         "0",
         "0",
         "1",
         "0",
         "0",
         "0",
         "0",
         "0",
         "0",
         "0",
         "0",
         "0",
         "0",
         "0",
         "0",
         "0",
         "0",
         "1",
         "0",
         "0",
         "0",
         "0",
         "0",
         "0",
         "1",
         "0",
         "0",
         "0",
         "0",
         "0",
         "0",
         "0",
         "0",
         "0",
         "0",
         "0",
         "0",
         "0",
         "0",
         "0",
         "1",
         "0",
         "0",
         "1",
         "0",
         "0",
         "0",
         "0",
         "0",
         "0",
         "0",
         "0",
         "0",
         "0",
         "0",
         "0",
         "0",
         "0",
         "0",
         "0",
         "0",
         "0",
         "0",
         "0",
         "0",
         "0",
         "1",
         "0",
         "0",
         "0",
         "0",
         "0",
         "0",
         "0",
         "0",
         "0",
         "0",
         "0",
         "0",
         "0",
         "0",
         "0",
         "0",
         "0",
         "0",
         "0",
         "0",
         "0",
         "0",
         "0",
         "0",
         "0",
         "0",
         "0",
         "0",
         "0",
         "0",
         "1",
         "0",
         "0",
         "0",
         "0",
         "0",
         "0",
         "0",
         "0",
         "0",
         "0",
         "0",
         "0",
         "0",
         "0",
         "0",
         "0",
         "0",
         "0",
         "0",
         "0",
         "0",
         "0",
         "0",
         "0",
         "0",
         "0",
         "0",
         "0",
         "1",
         "0",
         "1",
         "0",
         "0",
         "0",
         "0",
         "0",
         "0",
         "1",
         "0",
         "0",
         "0",
         "0",
         "0",
         "0",
         "0",
         "0",
         "0",
         "0",
         "0",
         "0",
         "0",
         "0",
         "0",
         "0",
         "0",
         "0",
         "0",
         "0",
         "0",
         "0",
         "0",
         "0",
         "0",
         "0",
         "0",
         "0",
         "0",
         "0",
         "0",
         "1",
         "0",
         "0",
         "0",
         "0",
         "0",
         "0",
         "0",
         "0",
         "0",
         "0",
         "0",
         "0",
         "0",
         "0",
         "0",
         "0",
         "0",
         "0",
         "0",
         "0",
         "0",
         "0",
         "0",
         "0",
         "0",
         "0",
         "0",
         "0",
         "0",
         "1",
         "1",
         "0",
         "0",
         "0",
         "0",
         "0",
         "0",
         "1",
         "0",
         "0",
         "0",
         "0",
         "0",
         "0",
         "0",
         "0",
         "0",
         "0",
         "0",
         "0",
         "1",
         "0",
         "0",
         "0",
         "0",
         "0",
         "0",
         "0",
         "1",
         "0",
         "0",
         "0",
         "0",
         "0",
         "0",
         "0",
         "0",
         "0",
         "1",
         "0",
         "1",
         "0",
         "0",
         "0",
         "0",
         "0",
         "0",
         "0",
         "1",
         "0",
         "0",
         "0",
         "1",
         "1",
         "0",
         "0",
         "0",
         "0",
         "0",
         "0",
         "0",
         "0",
         "0",
         "0",
         "0",
         "0",
         "0",
         "0",
         "0",
         "0",
         "0",
         "0",
         "0",
         "0",
         "0",
         "0",
         "0",
         "0",
         "0",
         "0",
         "1",
         "0",
         "0",
         "0",
         "0",
         "0",
         "0",
         "0",
         "0",
         "1",
         "0",
         "0",
         "0",
         "0",
         "0",
         "0",
         "0",
         "1",
         "0",
         "0",
         "0",
         "0",
         "0",
         "0",
         "0",
         "0",
         "0",
         "0",
         "0",
         "0",
         "1",
         "0",
         "0",
         "0",
         "0",
         "0",
         "0",
         "0",
         "0",
         "0",
         "0",
         "0",
         "0",
         "0",
         "0",
         "0",
         "0",
         "0",
         "0",
         "0",
         "0",
         "0",
         "0",
         "0",
         "0",
         "0",
         "0",
         "0",
         "0",
         "0",
         "0",
         "0",
         "0",
         "0",
         "0",
         "0",
         "0",
         "0",
         "0",
         "0",
         "0",
         "0",
         "0",
         "0",
         "0",
         "0",
         "0",
         "0",
         "0",
         "0",
         "0",
         "0",
         "0",
         "0",
         "0",
         "1",
         "0",
         "0",
         "0",
         "0",
         "0",
         "0",
         "0",
         "0",
         "0",
         "0",
         "1",
         "0",
         "0",
         "0",
         "0",
         "0",
         "0",
         "0",
         "0",
         "0",
         "0",
         "0",
         "0",
         "0",
         "1",
         "0",
         "0",
         "0",
         "0",
         "0",
         "0",
         "0",
         "0",
         "0",
         "0",
         "0",
         "0",
         "0",
         "0",
         "0",
         "0",
         "0",
         "0",
         "0",
         "0",
         "0",
         "0",
         "1",
         "0",
         "0",
         "0",
         "0",
         "0",
         "0",
         "0",
         "0",
         "0",
         "0",
         "0",
         "0",
         "1",
         "0",
         "0",
         "0",
         "0",
         "0",
         "0",
         "0",
         "0",
         "0",
         "0",
         "0",
         "0",
         "0",
         "0",
         "0",
         "1",
         "0",
         "0",
         "0",
         "0",
         "0",
         "0",
         "0",
         "0",
         "0",
         "0",
         "0",
         "1",
         "0",
         "0",
         "0",
         "0",
         "0",
         "0",
         "0",
         "0",
         "0",
         "0",
         "1",
         "0",
         "0",
         "0",
         "0",
         "0",
         "0",
         "0",
         "0",
         "0",
         "0",
         "0",
         "0",
         "0",
         "0",
         "0",
         "0",
         "0",
         "0",
         "0",
         "0",
         "0",
         "0",
         "0",
         "0",
         "0",
         "0",
         "0",
         "0",
         "0",
         "0",
         "0",
         "0",
         "0",
         "0",
         "0",
         "0",
         "0",
         "0",
         "0",
         "0",
         "0",
         "0",
         "0",
         "0",
         "0",
         "0",
         "1",
         "0",
         "0",
         "0",
         "0",
         "0",
         "0",
         "0",
         "0",
         "1",
         "0",
         "0",
         "0",
         "0",
         "0",
         "0",
         "0",
         "0",
         "0",
         "0",
         "0",
         "0",
         "0",
         "0",
         "0",
         "0",
         "0",
         "0",
         "0",
         "0",
         "0",
         "0",
         "0",
         "0",
         "0",
         "0",
         "0",
         "1",
         "0",
         "0",
         "0",
         "1",
         "0",
         "0",
         "0",
         "0",
         "0",
         "0",
         "1",
         "0",
         "0",
         "0",
         "0",
         "0",
         "0",
         "0",
         "0",
         "0",
         "0",
         "0",
         "0",
         "0",
         "1",
         "0",
         "0",
         "0",
         "0",
         "0",
         "0",
         "0",
         "0",
         "0",
         "0",
         "0",
         "0",
         "0",
         "0",
         "1",
         "0",
         "0",
         "0",
         "0",
         "0",
         "0",
         "0",
         "0",
         "0",
         "0",
         "0",
         "0",
         "0",
         "0",
         "0",
         "0",
         "0",
         "0",
         "0",
         "0",
         "0",
         "0",
         "0",
         "0",
         "0",
         "0",
         "0",
         "0",
         "0",
         "0",
         "0",
         "0",
         "0",
         "0",
         "0",
         "0",
         "0",
         "0",
         "0",
         "0",
         "0",
         "0",
         "0",
         "0",
         "0",
         "0",
         "0",
         "0",
         "0",
         "0",
         "0",
         "0",
         "0",
         "1",
         "0",
         "0",
         "0",
         "0",
         "0",
         "0",
         "0",
         "0",
         "0",
         "0",
         "0",
         "0",
         "0",
         "0",
         "0",
         "0",
         "0",
         "0",
         "0",
         "0",
         "0",
         "0",
         "0",
         "0",
         "0",
         "0",
         "0",
         "0",
         "0",
         "0",
         "0",
         "0",
         "0",
         "0",
         "0",
         "0",
         "0",
         "0",
         "0",
         "0",
         "0",
         "0",
         "0",
         "0",
         "0",
         "0",
         "1",
         "0",
         "0",
         "0",
         "0",
         "0",
         "0",
         "0",
         "0",
         "0",
         "0",
         "0",
         "0",
         "1",
         "0",
         "1",
         "0",
         "0",
         "0",
         "0",
         "0",
         "0",
         "0",
         "0",
         "0",
         "0",
         "0",
         "0",
         "0",
         "0",
         "0",
         "0",
         "0",
         "1",
         "0",
         "0",
         "0",
         "0",
         "0",
         "0",
         "0",
         "0",
         "0",
         "0",
         "0",
         "1",
         "0",
         "0",
         "0",
         "1",
         "0",
         "0",
         "0",
         "0",
         "0",
         "0",
         "0",
         "1",
         "0",
         "0",
         "0",
         "0",
         "0",
         "0",
         "0",
         "0",
         "0",
         "0",
         "0",
         "0",
         "0",
         "0",
         "0",
         "0",
         "0",
         "0",
         "0",
         "0",
         "0",
         "0",
         "0",
         "0",
         "0",
         "0",
         "0",
         "0",
         "0",
         "0",
         "0",
         "0",
         "0",
         "0",
         "0",
         "0",
         "0",
         "0",
         "0",
         "0",
         "0",
         "0",
         "0",
         "0",
         "0",
         "0",
         "0",
         "0",
         "0",
         "0",
         "0",
         "0",
         "0",
         "0",
         "0",
         "0",
         "0",
         "0",
         "0",
         "0",
         "0",
         "0",
         "1",
         "0",
         "0",
         "0",
         "0",
         "0",
         "0",
         "0",
         "0",
         "0",
         "0",
         "0",
         "0",
         "0",
         "0",
         "1",
         "1",
         "0",
         "0",
         "0",
         "0",
         "0",
         "0",
         "0",
         "0",
         "0",
         "0",
         "0",
         "0",
         "0",
         "0",
         "1",
         "0",
         "0",
         "0",
         "0",
         "0",
         "0",
         "0",
         "0",
         "0",
         "0",
         "0",
         "0",
         "0",
         "0",
         "0",
         "0",
         "1",
         "0",
         "0",
         "0",
         "0",
         "0",
         "0",
         "0",
         "0",
         "0",
         "0",
         "0",
         "0",
         "0",
         "0",
         "0",
         "0",
         "0",
         "0",
         "0",
         "0",
         "0",
         "0",
         "0",
         "0",
         "0",
         "0",
         "0",
         "0",
         "0",
         "0",
         "0",
         "0",
         "0",
         "0",
         "0",
         "0",
         "0",
         "1",
         "0",
         "0",
         "0",
         "1",
         "0",
         "1",
         "0",
         "0",
         "0",
         "0",
         "0",
         "0",
         "0",
         "0",
         "0",
         "0",
         "1",
         "0",
         "1",
         "0",
         "0",
         "0",
         "0",
         "0",
         "0",
         "0",
         "0",
         "0",
         "0",
         "0",
         "0",
         "0",
         "0",
         "0",
         "0",
         "0",
         "0",
         "0",
         "0",
         "0",
         "0",
         "0",
         "0",
         "0",
         "0",
         "0",
         "0",
         "0",
         "0",
         "0",
         "1",
         "0",
         "0",
         "0",
         "0",
         "0",
         "0",
         "0",
         "0",
         "0",
         "0",
         "0",
         "0",
         "0",
         "0",
         "0",
         "0",
         "0",
         "0",
         "0",
         "0",
         "0",
         "0",
         "0",
         "0",
         "0",
         "0",
         "0",
         "0",
         "0",
         "0",
         "0",
         "0",
         "0",
         "0",
         "1",
         "0",
         "0",
         "0",
         "0",
         "0",
         "0",
         "0",
         "0",
         "0",
         "0",
         "0",
         "0",
         "0",
         "0",
         "0",
         "0",
         "0",
         "0",
         "0",
         "0",
         "0",
         "0",
         "0",
         "1",
         "0",
         "0",
         "0",
         "0",
         "0",
         "0",
         "0",
         "0",
         "0",
         "0",
         "0",
         "0",
         "0",
         "0",
         "0",
         "0",
         "0",
         "0",
         "0",
         "0",
         "0",
         "0",
         "0",
         "0",
         "0",
         "0",
         "-1.7950549357115022",
         "-1.043304439382997",
         "-1.6048676766549028",
         "-1.6555762267219971",
         "-0.6409199974363197",
         "-0.3843048604284208",
         "-0.6415896566824855",
         "-0.7289358155175251",
         "0.6860847588993402",
         "-0.7698465905054513",
         "0.0770241396190574",
         "-0.3737157193345231",
         "-0.1897252831264438",
         null,
         "-0.1043468309505344",
         "-0.6513491617266677",
         "-0.7745473935336127",
         "-0.1584845319712441",
         "-1.6210055347243149",
         "-0.6673820292801826",
         "-1.3311774394743725",
         "-1.241010455988046",
         "-0.5469883563734463",
         "-0.7667914477231106",
         "0.1710817640822452",
         "-0.3429971702850177",
         "-0.1906925178491185",
         "-0.9381941874331412",
         "-0.8381768403531488",
         "-1.4106196212076594",
         "0",
         "0.2357022603955156",
         "-0.3978085222928761"
        ],
        [
         "1",
         "KT-0001675",
         "0.767547486",
         "0.0347975394550266",
         "1.2917076345534622",
         "1.8080792328412312",
         "1.8080792328412312",
         "2.1338913896460587",
         "1.271090170823352",
         "0.2995368370646577",
         "-0.4474050462505664",
         "-1.1377638047253809",
         "-1.1620570985271486",
         "-1.1376664722080476",
         "-1.0837161159302924",
         "0",
         "0.8512059042738975",
         "-0.0910870077874034",
         "-0.1962208085855427",
         "1.185190407474111",
         "-0.2699223826767693",
         "-0.0332530547533173",
         "0.286194331928517",
         "-0.767101453824656",
         "0.2911838904580345",
         "-1.314757202314584",
         "1.1684939492701027",
         "-0.1691447340425622",
         "-1.0124809945433626",
         "-0.6405255352338116",
         "-0.6978339820497232",
         "-1.129383272747011",
         "-1.1764402815557542",
         "0.7375102079768864",
         "-1.1427878161837282",
         "-1.0830607221477648",
         "-0.8799739270847164",
         "-1.3121597027036949",
         "0.4921853690962267",
         "-0.6673820292801826",
         "-0.6480370402107333",
         "0.4040610178208844",
         "-1.4106196212076594",
         "-1.241010455988046",
         "0.3488126522629156",
         "-0.3429971702850177",
         "-0.882792803540209",
         "-1.125462867742275",
         "-1.0610163729423563",
         "-0.8381768403531488",
         "-0.0647361294797157",
         "-1.3121597027036949",
         "1.058663557033081",
         "-0.3404697182675533",
         "-0.7637626158259734",
         "0.0727392967453306",
         "-0.5236672611534426",
         "-1.218217296539446",
         "-1.0433122331599052",
         "-1.058722324390526",
         "0",
         "-0.5976143046671968",
         "-0.2357022603955158",
         "0",
         "0",
         "-1.0317251193584875",
         "0",
         "0",
         "0",
         "0",
         "-0.6375927122782329",
         "-0.6375927122782329",
         "0",
         "0",
         "0",
         "-0.8774485792128432",
         "-0.7431605356175379",
         "-0.2357022603955158",
         "0",
         "0",
         "-1.0",
         "0",
         "0",
         "0",
         "0",
         "-1.0935283241892713",
         "0",
         "-0.6480370402107333",
         "0",
         "-0.0393749615479077",
         "1.186781658193853",
         "0",
         "0",
         "0",
         "0.4040610178208844",
         "0",
         "-0.830773163432567",
         "0",
         "0",
         "0",
         "-0.1643989873053571",
         "0.5968491905238344",
         "0",
         "0",
         "-0.5970588058172428",
         "0",
         "0",
         "1.1114378604524224",
         "-0.552816232231331",
         "0",
         "0",
         "0",
         "0",
         "0",
         "2.3094010767585003",
         "-0.5570860145311556",
         "1.4719601443879746",
         "0",
         "0",
         "0",
         "0",
         "0",
         "-0.4902612396325591",
         "0",
         "-0.6382847385042255",
         "0",
         "0",
         "0",
         "0",
         "-0.4800793585191831",
         "0",
         "-0.2357022603955158",
         "0",
         "-1.309307341415954",
         "0",
         "0",
         "0",
         "-0.2357022603955158",
         "0",
         "0",
         "-0.3892494720807614",
         "0",
         "0",
         "3.8150234789680826",
         "0",
         "0",
         "0",
         "0",
         "0",
         "0",
         "0",
         "0",
         "0",
         "1",
         "0",
         "0",
         "0",
         "0",
         "0",
         "0",
         "0",
         "0",
         "0",
         "0",
         "0",
         "0",
         "0",
         "0",
         "0",
         "0",
         "0",
         "0",
         "0",
         "0",
         "0",
         "0",
         "0",
         "0",
         "0",
         "0",
         "0",
         "0",
         "0",
         "0",
         "0",
         "0",
         "0",
         "0",
         "0",
         "0",
         "1",
         "0",
         "0",
         "0",
         "0",
         "0",
         "0",
         "0",
         "0",
         "0",
         "0",
         "0",
         "0",
         "0",
         "0",
         "0",
         "0",
         "0",
         "0",
         "0",
         "0",
         "1",
         "0",
         "0",
         "0",
         "0",
         "0",
         "0",
         "0",
         "0",
         "0",
         "0",
         "0",
         "0",
         "0",
         "1",
         "0",
         "0",
         "0",
         "0",
         "0",
         "0",
         "0",
         "0",
         "0",
         "0",
         "0",
         "0",
         "0",
         "0",
         "0",
         "0",
         "0",
         "0",
         "0",
         "0",
         "0",
         "0",
         "0",
         "1",
         "0",
         "0",
         "0",
         "0",
         "0",
         "0",
         "0",
         "0",
         "0",
         "0",
         "0",
         "1",
         "0",
         "0",
         "0",
         "0",
         "0",
         "0",
         "0",
         "0",
         "0",
         "0",
         "0",
         "0",
         "0",
         "0",
         "0",
         "0",
         "0",
         "0",
         "0",
         "0",
         "0",
         "0",
         "0",
         "0",
         "0",
         "0",
         "0",
         "0",
         "0",
         "0",
         "0",
         "0",
         "0",
         "0",
         "0",
         "0",
         "0",
         "0",
         "0",
         "0",
         "0",
         "0",
         "0",
         "0",
         "0",
         "0",
         "0",
         "1",
         "0",
         "0",
         "0",
         "0",
         "0",
         "0",
         "0",
         "0",
         "0",
         "0",
         "0",
         "0",
         "0",
         "0",
         "0",
         "0",
         "0",
         "0",
         "0",
         "0",
         "0",
         "0",
         "0",
         "0",
         "1",
         "0",
         "0",
         "0",
         "0",
         "0",
         "0",
         "0",
         "0",
         "0",
         "0",
         "0",
         "0",
         "0",
         "0",
         "0",
         "0",
         "0",
         "0",
         "0",
         "0",
         "0",
         "0",
         "0",
         "1",
         "0",
         "0",
         "0",
         "0",
         "0",
         "0",
         "0",
         "0",
         "0",
         "0",
         "0",
         "0",
         "0",
         "0",
         "0",
         "0",
         "0",
         "1",
         "0",
         "1",
         "0",
         "0",
         "0",
         "1",
         "0",
         "0",
         "0",
         "0",
         "0",
         "0",
         "0",
         "0",
         "0",
         "0",
         "0",
         "0",
         "0",
         "0",
         "0",
         "0",
         "0",
         "0",
         "0",
         "0",
         "0",
         "0",
         "0",
         "0",
         "0",
         "0",
         "0",
         "0",
         "0",
         "0",
         "1",
         "0",
         "0",
         "0",
         "0",
         "0",
         "0",
         "0",
         "0",
         "0",
         "0",
         "0",
         "0",
         "0",
         "0",
         "0",
         "0",
         "0",
         "0",
         "0",
         "0",
         "0",
         "0",
         "0",
         "0",
         "1",
         "0",
         "0",
         "0",
         "0",
         "0",
         "0",
         "0",
         "0",
         "0",
         "0",
         "0",
         "0",
         "0",
         "0",
         "0",
         "0",
         "1",
         "0",
         "1",
         "0",
         "1",
         "0",
         "0",
         "0",
         "0",
         "0",
         "0",
         "0",
         "0",
         "0",
         "0",
         "0",
         "0",
         "0",
         "0",
         "0",
         "0",
         "0",
         "0",
         "0",
         "0",
         "0",
         "0",
         "0",
         "0",
         "0",
         "0",
         "0",
         "0",
         "0",
         "0",
         "0",
         "0",
         "0",
         "0",
         "0",
         "0",
         "0",
         "0",
         "0",
         "0",
         "0",
         "0",
         "0",
         "0",
         "0",
         "0",
         "0",
         "0",
         "0",
         "0",
         "0",
         "0",
         "0",
         "0",
         "0",
         "0",
         "0",
         "0",
         "0",
         "0",
         "0",
         "0",
         "0",
         "0",
         "0",
         "0",
         "0",
         "0",
         "0",
         "0",
         "0",
         "0",
         "0",
         "0",
         "0",
         "0",
         "0",
         "0",
         "0",
         "1",
         "0",
         "0",
         "0",
         "0",
         "0",
         "0",
         "0",
         "0",
         "0",
         "0",
         "0",
         "0",
         "1",
         "0",
         "0",
         "0",
         "0",
         "0",
         "0",
         "0",
         "0",
         "0",
         "0",
         "0",
         "0",
         "0",
         "0",
         "0",
         "0",
         "0",
         "0",
         "0",
         "0",
         "0",
         "0",
         "0",
         "0",
         "0",
         "0",
         "0",
         "0",
         "0",
         "0",
         "0",
         "0",
         "0",
         "0",
         "0",
         "0",
         "0",
         "0",
         "0",
         "0",
         "0",
         "0",
         "0",
         "0",
         "0",
         "0",
         "1",
         "0",
         "0",
         "0",
         "0",
         "0",
         "0",
         "0",
         "0",
         "0",
         "0",
         "0",
         "0",
         "0",
         "0",
         "0",
         "0",
         "0",
         "0",
         "0",
         "0",
         "0",
         "0",
         "0",
         "0",
         "0",
         "0",
         "0",
         "0",
         "0",
         "0",
         "0",
         "0",
         "0",
         "0",
         "0",
         "0",
         "0",
         "0",
         "0",
         "0",
         "1",
         "0",
         "0",
         "0",
         "0",
         "0",
         "1",
         "0",
         "0",
         "0",
         "0",
         "0",
         "0",
         "0",
         "0",
         "0",
         "0",
         "0",
         "0",
         "0",
         "0",
         "0",
         "0",
         "1",
         "0",
         "0",
         "0",
         "1",
         "1",
         "0",
         "0",
         "0",
         "0",
         "0",
         "0",
         "0",
         "0",
         "0",
         "1",
         "0",
         "0",
         "0",
         "0",
         "0",
         "0",
         "0",
         "0",
         "0",
         "0",
         "0",
         "0",
         "0",
         "0",
         "0",
         "0",
         "0",
         "0",
         "0",
         "0",
         "0",
         "0",
         "0",
         "0",
         "0",
         "0",
         "0",
         "0",
         "0",
         "0",
         "1",
         "0",
         "0",
         "0",
         "0",
         "0",
         "0",
         "0",
         "0",
         "0",
         "0",
         "0",
         "0",
         "0",
         "0",
         "0",
         "0",
         "0",
         "0",
         "0",
         "0",
         "0",
         "0",
         "0",
         "0",
         "0",
         "0",
         "0",
         "1",
         "0",
         "0",
         "0",
         "0",
         "0",
         "0",
         "0",
         "0",
         "0",
         "0",
         "0",
         "0",
         "0",
         "1",
         "0",
         "1",
         "0",
         "0",
         "0",
         "0",
         "0",
         "0",
         "0",
         "0",
         "0",
         "0",
         "0",
         "0",
         "0",
         "0",
         "0",
         "0",
         "0",
         "0",
         "1",
         "0",
         "0",
         "1",
         "0",
         "0",
         "0",
         "0",
         "0",
         "0",
         "0",
         "0",
         "0",
         "0",
         "1",
         "0",
         "0",
         "0",
         "0",
         "0",
         "0",
         "0",
         "0",
         "1",
         "0",
         "0",
         "0",
         "0",
         "0",
         "1",
         "0",
         "1",
         "0",
         "0",
         "1",
         "0",
         "0",
         "0",
         "0",
         "0",
         "1",
         "0",
         "0",
         "0",
         "0",
         "0",
         "0",
         "0",
         "0",
         "0",
         "0",
         "0",
         "0",
         "0",
         "0",
         "0",
         "1",
         "0",
         "0",
         "0",
         "0",
         "0",
         "0",
         "0",
         "0",
         "0",
         "0",
         "0",
         "0",
         "0",
         "0",
         "0",
         "1",
         "0",
         "0",
         "0",
         "0",
         "0",
         "0",
         "0",
         "0",
         "0",
         "0",
         "0",
         "0",
         "0",
         "0",
         "0",
         "0",
         "1",
         "0",
         "0",
         "0",
         "0",
         "0",
         "0",
         "0",
         "0",
         "0",
         "0",
         "0",
         "0",
         "0",
         "0",
         "0",
         "0",
         "0",
         "0",
         "0",
         "0",
         "0",
         "0",
         "1",
         "0",
         "0",
         "0",
         "0",
         "0",
         "0",
         "0",
         "0",
         "0",
         "0",
         "1",
         "0",
         "0",
         "0",
         "0",
         "0",
         "0",
         "0",
         "0",
         "0",
         "0",
         "0",
         "0",
         "0",
         "0",
         "0",
         "0",
         "0",
         "0",
         "0",
         "0",
         "1",
         "0",
         "0",
         "0",
         "0",
         "0",
         "0",
         "0",
         "0",
         "0",
         "0",
         "0",
         "0",
         "0",
         "0",
         "0",
         "0",
         "0",
         "0",
         "0",
         "0",
         "0",
         "0",
         "0",
         "0",
         "0",
         "0",
         "0",
         "0",
         "0",
         "0",
         "1",
         "0",
         "1",
         "0",
         "0",
         "0",
         "0",
         "0",
         "0",
         "0",
         "0",
         "0",
         "0",
         "0",
         "0",
         "0",
         "0",
         "0",
         "0",
         "0",
         "0",
         "0",
         "0",
         "0",
         "0",
         "0",
         "0",
         "0",
         "0",
         "0",
         "0",
         "0",
         "0",
         "0",
         "0",
         "0",
         "0",
         "0",
         "0",
         "0",
         "0",
         "0",
         "0",
         "0",
         "0",
         "0",
         "0",
         "0",
         "0",
         "0",
         "0",
         "0",
         "0",
         "0",
         "0",
         "0",
         "1",
         "0",
         "0",
         "0",
         "0",
         "0",
         "0",
         "0",
         "0",
         "0",
         "0",
         "0",
         "0",
         "0",
         "1",
         "0",
         "0",
         "1",
         "0",
         "0",
         "0",
         "0",
         "0",
         "0",
         "0",
         "0",
         "0",
         "0",
         "0",
         "0",
         "0",
         "0",
         "0",
         "0",
         "0",
         "0",
         "0",
         "0",
         "0",
         "0",
         "0",
         "0",
         "0",
         "0",
         "1",
         "0",
         "0",
         "0",
         "0",
         "0",
         "0",
         "0",
         "0",
         "0",
         "0",
         "0",
         "0",
         "0",
         "0",
         "0",
         "0",
         "0",
         "0",
         "0",
         "0",
         "0",
         "0",
         "0",
         "1",
         "0",
         "0",
         "0",
         "0",
         "0",
         "0",
         "0",
         "0",
         "1",
         "0",
         "0",
         "0",
         "0",
         "0",
         "0",
         "0",
         "0",
         "0",
         "0",
         "0",
         "0",
         "0",
         "0",
         "1",
         "0",
         "1",
         "0",
         "0",
         "0",
         "1",
         "0",
         "0",
         "1",
         "0",
         "0",
         "0",
         "0",
         "0",
         "0",
         "0",
         "0",
         "0",
         "0",
         "0",
         "0",
         "0",
         "0",
         "0",
         "0",
         "0",
         "0",
         "1",
         "0",
         "0",
         "0",
         "0",
         "0",
         "0",
         "0",
         "0",
         "0",
         "0",
         "0",
         "0",
         "0",
         "0",
         "0",
         "0",
         "0",
         "0",
         "0",
         "0",
         "0",
         "0",
         "0",
         "0",
         "0",
         "1",
         "0",
         "0",
         "0",
         "0",
         "0",
         "0",
         "0",
         "0",
         "0",
         "1",
         "0",
         "0",
         "0",
         "0",
         "1",
         "0",
         "0",
         "0",
         "0",
         "0",
         "0",
         "0",
         "0",
         "0",
         "0",
         "0",
         "0",
         "0",
         "0",
         "1",
         "0",
         "0",
         "0",
         "0",
         "0",
         "0",
         "1",
         "0",
         "0",
         "0",
         "0",
         "0",
         "0",
         "0",
         "0",
         "0",
         "0",
         "0",
         "0",
         "0",
         "0",
         "0",
         "1",
         "0",
         "0",
         "1",
         "0",
         "0",
         "0",
         "0",
         "0",
         "0",
         "0",
         "0",
         "0",
         "0",
         "0",
         "0",
         "0",
         "0",
         "0",
         "0",
         "0",
         "0",
         "0",
         "0",
         "0",
         "0",
         "1",
         "0",
         "0",
         "0",
         "0",
         "0",
         "0",
         "0",
         "0",
         "0",
         "0",
         "0",
         "0",
         "0",
         "0",
         "0",
         "0",
         "0",
         "0",
         "0",
         "0",
         "0",
         "0",
         "0",
         "0",
         "0",
         "0",
         "0",
         "0",
         "0",
         "0",
         "1",
         "0",
         "0",
         "0",
         "0",
         "0",
         "0",
         "0",
         "0",
         "0",
         "0",
         "0",
         "0",
         "0",
         "0",
         "0",
         "0",
         "0",
         "0",
         "0",
         "0",
         "0",
         "0",
         "0",
         "0",
         "0",
         "0",
         "0",
         "0",
         "1",
         "0",
         "1",
         "0",
         "0",
         "0",
         "0",
         "0",
         "0",
         "1",
         "0",
         "0",
         "0",
         "0",
         "0",
         "0",
         "0",
         "0",
         "0",
         "1",
         "0",
         "0",
         "0",
         "0",
         "0",
         "0",
         "0",
         "0",
         "0",
         "0",
         "0",
         "0",
         "0",
         "0",
         "0",
         "0",
         "0",
         "0",
         "0",
         "0",
         "0",
         "1",
         "0",
         "0",
         "0",
         "0",
         "0",
         "0",
         "0",
         "0",
         "0",
         "0",
         "0",
         "0",
         "0",
         "0",
         "0",
         "0",
         "0",
         "0",
         "0",
         "0",
         "0",
         "0",
         "0",
         "0",
         "0",
         "0",
         "0",
         "0",
         "0",
         "1",
         "0",
         "0",
         "0",
         "0",
         "0",
         "0",
         "0",
         "1",
         "0",
         "0",
         "0",
         "0",
         "0",
         "0",
         "0",
         "0",
         "0",
         "0",
         "0",
         "0",
         "1",
         "0",
         "0",
         "0",
         "0",
         "0",
         "0",
         "0",
         "1",
         "0",
         "0",
         "0",
         "0",
         "0",
         "0",
         "0",
         "0",
         "0",
         "1",
         "0",
         "1",
         "0",
         "0",
         "0",
         "0",
         "0",
         "0",
         "0",
         "1",
         "0",
         "0",
         "0",
         "0",
         "1",
         "0",
         "0",
         "0",
         "0",
         "0",
         "0",
         "0",
         "0",
         "0",
         "0",
         "0",
         "0",
         "0",
         "0",
         "0",
         "0",
         "0",
         "0",
         "0",
         "0",
         "0",
         "0",
         "0",
         "0",
         "0",
         "0",
         "1",
         "0",
         "0",
         "0",
         "0",
         "0",
         "0",
         "0",
         "0",
         "1",
         "0",
         "0",
         "0",
         "0",
         "0",
         "0",
         "0",
         "1",
         "0",
         "0",
         "0",
         "0",
         "0",
         "0",
         "0",
         "0",
         "0",
         "0",
         "0",
         "0",
         "1",
         "0",
         "0",
         "0",
         "0",
         "0",
         "0",
         "0",
         "0",
         "0",
         "0",
         "0",
         "0",
         "0",
         "0",
         "0",
         "0",
         "0",
         "0",
         "0",
         "0",
         "0",
         "0",
         "0",
         "0",
         "0",
         "0",
         "0",
         "0",
         "0",
         "0",
         "0",
         "0",
         "0",
         "0",
         "0",
         "0",
         "0",
         "0",
         "0",
         "0",
         "0",
         "0",
         "0",
         "0",
         "0",
         "0",
         "0",
         "0",
         "0",
         "0",
         "0",
         "0",
         "0",
         "0",
         "1",
         "0",
         "0",
         "0",
         "0",
         "0",
         "0",
         "0",
         "0",
         "0",
         "0",
         "1",
         "0",
         "0",
         "0",
         "0",
         "0",
         "0",
         "0",
         "0",
         "0",
         "0",
         "0",
         "0",
         "0",
         "1",
         "0",
         "0",
         "0",
         "0",
         "0",
         "0",
         "0",
         "0",
         "0",
         "0",
         "0",
         "0",
         "0",
         "0",
         "0",
         "0",
         "0",
         "0",
         "0",
         "0",
         "0",
         "0",
         "1",
         "0",
         "0",
         "0",
         "0",
         "0",
         "0",
         "0",
         "0",
         "0",
         "0",
         "0",
         "0",
         "1",
         "0",
         "0",
         "0",
         "0",
         "0",
         "0",
         "0",
         "0",
         "0",
         "0",
         "0",
         "0",
         "0",
         "0",
         "0",
         "1",
         "0",
         "0",
         "0",
         "0",
         "0",
         "0",
         "0",
         "0",
         "0",
         "0",
         "0",
         "1",
         "0",
         "0",
         "0",
         "0",
         "0",
         "0",
         "0",
         "0",
         "0",
         "0",
         "1",
         "0",
         "0",
         "0",
         "0",
         "0",
         "0",
         "0",
         "0",
         "0",
         "0",
         "0",
         "0",
         "0",
         "0",
         "0",
         "0",
         "0",
         "0",
         "0",
         "0",
         "0",
         "0",
         "0",
         "0",
         "0",
         "0",
         "0",
         "0",
         "0",
         "0",
         "0",
         "0",
         "0",
         "0",
         "0",
         "0",
         "0",
         "0",
         "0",
         "0",
         "0",
         "0",
         "0",
         "0",
         "0",
         "0",
         "0",
         "0",
         "0",
         "0",
         "0",
         "0",
         "0",
         "0",
         "0",
         "1",
         "0",
         "0",
         "0",
         "0",
         "0",
         "0",
         "0",
         "0",
         "0",
         "0",
         "0",
         "0",
         "0",
         "0",
         "0",
         "0",
         "0",
         "0",
         "0",
         "0",
         "0",
         "0",
         "0",
         "0",
         "0",
         "0",
         "0",
         "0",
         "0",
         "0",
         "0",
         "1",
         "0",
         "0",
         "0",
         "0",
         "0",
         "0",
         "1",
         "0",
         "0",
         "0",
         "0",
         "0",
         "0",
         "0",
         "0",
         "0",
         "0",
         "0",
         "0",
         "0",
         "0",
         "0",
         "0",
         "0",
         "0",
         "0",
         "0",
         "0",
         "0",
         "0",
         "0",
         "0",
         "0",
         "0",
         "0",
         "1",
         "0",
         "0",
         "0",
         "0",
         "0",
         "0",
         "0",
         "0",
         "0",
         "0",
         "0",
         "0",
         "0",
         "0",
         "0",
         "0",
         "0",
         "0",
         "0",
         "0",
         "0",
         "0",
         "0",
         "0",
         "0",
         "0",
         "0",
         "0",
         "0",
         "0",
         "0",
         "0",
         "0",
         "0",
         "0",
         "0",
         "0",
         "0",
         "0",
         "0",
         "0",
         "0",
         "0",
         "0",
         "0",
         "0",
         "0",
         "0",
         "0",
         "0",
         "0",
         "0",
         "0",
         "1",
         "0",
         "0",
         "0",
         "0",
         "0",
         "0",
         "0",
         "0",
         "0",
         "0",
         "0",
         "0",
         "0",
         "0",
         "0",
         "0",
         "0",
         "0",
         "0",
         "0",
         "0",
         "0",
         "0",
         "0",
         "0",
         "0",
         "0",
         "0",
         "0",
         "0",
         "0",
         "0",
         "0",
         "0",
         "0",
         "0",
         "0",
         "0",
         "0",
         "0",
         "0",
         "0",
         "0",
         "0",
         "0",
         "0",
         "1",
         "0",
         "0",
         "0",
         "0",
         "0",
         "0",
         "0",
         "0",
         "0",
         "0",
         "0",
         "0",
         "0",
         "0",
         "0",
         "0",
         "0",
         "0",
         "0",
         "0",
         "0",
         "0",
         "0",
         "0",
         "0",
         "0",
         "0",
         "0",
         "0",
         "0",
         "0",
         "0",
         "1",
         "0",
         "0",
         "0",
         "0",
         "0",
         "0",
         "0",
         "0",
         "0",
         "0",
         "0",
         "1",
         "0",
         "0",
         "0",
         "1",
         "0",
         "0",
         "0",
         "0",
         "0",
         "0",
         "0",
         "1",
         "0",
         "0",
         "0",
         "0",
         "0",
         "0",
         "0",
         "0",
         "0",
         "0",
         "0",
         "0",
         "0",
         "0",
         "0",
         "0",
         "1",
         "0",
         "0",
         "0",
         "0",
         "0",
         "0",
         "0",
         "0",
         "0",
         "0",
         "0",
         "0",
         "0",
         "0",
         "0",
         "0",
         "0",
         "0",
         "0",
         "0",
         "0",
         "0",
         "0",
         "0",
         "0",
         "0",
         "0",
         "0",
         "0",
         "0",
         "0",
         "0",
         "0",
         "0",
         "0",
         "0",
         "0",
         "0",
         "0",
         "0",
         "0",
         "0",
         "0",
         "0",
         "0",
         "1",
         "0",
         "0",
         "0",
         "0",
         "0",
         "0",
         "0",
         "0",
         "0",
         "0",
         "0",
         "0",
         "0",
         "0",
         "1",
         "0",
         "0",
         "0",
         "0",
         "0",
         "0",
         "0",
         "0",
         "0",
         "0",
         "0",
         "0",
         "0",
         "0",
         "0",
         "0",
         "0",
         "0",
         "0",
         "0",
         "0",
         "0",
         "0",
         "0",
         "0",
         "0",
         "0",
         "0",
         "0",
         "0",
         "0",
         "0",
         "1",
         "0",
         "0",
         "0",
         "0",
         "0",
         "0",
         "0",
         "0",
         "0",
         "0",
         "0",
         "0",
         "0",
         "0",
         "0",
         "0",
         "0",
         "0",
         "0",
         "0",
         "0",
         "0",
         "0",
         "0",
         "0",
         "0",
         "0",
         "0",
         "0",
         "0",
         "0",
         "0",
         "0",
         "0",
         "0",
         "0",
         "0",
         "1",
         "0",
         "0",
         "0",
         "1",
         "0",
         "0",
         "0",
         "0",
         "0",
         "0",
         "0",
         "0",
         "0",
         "0",
         "0",
         "0",
         "1",
         "0",
         "1",
         "0",
         "0",
         "0",
         "0",
         "0",
         "0",
         "0",
         "0",
         "0",
         "0",
         "0",
         "0",
         "0",
         "0",
         "0",
         "0",
         "0",
         "0",
         "0",
         "0",
         "0",
         "0",
         "0",
         "0",
         "0",
         "0",
         "0",
         "0",
         "0",
         "0",
         "0",
         "1",
         "0",
         "0",
         "0",
         "0",
         "0",
         "0",
         "0",
         "0",
         "0",
         "0",
         "0",
         "0",
         "0",
         "0",
         "0",
         "0",
         "0",
         "0",
         "0",
         "0",
         "0",
         "0",
         "0",
         "0",
         "0",
         "0",
         "0",
         "1",
         "0",
         "0",
         "0",
         "0",
         "0",
         "0",
         "1",
         "0",
         "0",
         "0",
         "0",
         "0",
         "0",
         "0",
         "0",
         "0",
         "0",
         "0",
         "0",
         "0",
         "0",
         "0",
         "0",
         "0",
         "0",
         "0",
         "0",
         "0",
         "0",
         "0",
         "1",
         "0",
         "0",
         "0",
         "0",
         "0",
         "0",
         "0",
         "0",
         "0",
         "0",
         "0",
         "0",
         "0",
         "0",
         "0",
         "0",
         "0",
         "0",
         "0",
         "0",
         "0",
         "0",
         "0",
         "0",
         "0",
         "0",
         "0.5570860145311558",
         "-1.1377605237508308",
         "-1.6048676766549028",
         "-0.7438096091069842",
         "-1.1379599954481596",
         "-0.9803695419092372",
         "-0.7182644921023532",
         "-0.7897144974276229",
         "0.6005251968425073",
         "-0.1029582066329414",
         "-0.7539850451151988",
         "0.0455892524751518",
         "-0.1897252831264438",
         null,
         "-1.504768846332683",
         "-1.2806186908524315",
         "-1.211413540474626",
         "-0.0242803600513046",
         "0.1095127484997691",
         "-0.6673820292801826",
         "-1.3311774394743725",
         "-1.241010455988046",
         "-0.7056567345581102",
         "-0.7667914477231106",
         "0.7375102079768864",
         "-0.3429971702850177",
         "-0.1906925178491185",
         "-0.9381941874331412",
         "-0.8381768403531488",
         "-1.4106196212076594",
         "0",
         "0.2357022603955156",
         "-0.1787255679866544"
        ],
        [
         "2",
         "KT-0001676",
         "0.186650854",
         "-2.419224461110535",
         "-0.7657319503210657",
         "-1.3399894022964294",
         "-1.3399894022964294",
         "-0.3721729717322437",
         "-0.5694090517702323",
         "-0.6580173046243365",
         "-1.6982102827981376",
         "0.6376922798907383",
         "0.5907222377544127",
         "0.6341859704319485",
         "0.527722630366055",
         "0",
         "-0.4061881609454051",
         "-1.0427144524033245",
         "1.0586486013061678",
         "-0.2712151929554857",
         "-0.9405457752238384",
         "-1.0716829842652071",
         "-0.989544420945718",
         "-0.9865583355188464",
         "0.3145743687348744",
         "0.6358409472900807",
         "0.2471996963468071",
         "-0.1669858805663918",
         "0.8484701672939073",
         "1.0055365003662473",
         "1.1445014042035633",
         "0.6331121008141121",
         "-0.0826337767646164",
         "-0.142261630412663",
         "0.4482486692789624",
         "-0.0541530361073884",
         "-0.2044383871004895",
         "-1.3121597027036949",
         "-0.6079936912365157",
         "-1.4358825478452415",
         "-1.3516201124395293",
         "2.3233508524700857",
         "-0.4534134496738906",
         "0.7239227659930262",
         "-0.6707935620440686",
         "-0.3429971702850177",
         "0.3445045086986186",
         "0.0",
         "-0.1515737675631937",
         "-0.8381768403531488",
         "1.0534333797153774",
         "-1.3121597027036949",
         "-0.0907425906028355",
         "-1.2029930045453547",
         "-0.7637626158259734",
         "0.0727392967453306",
         "1.3112877556265574",
         "-0.6467079475456318",
         "1.670288654673941",
         "0.950429298243774",
         "0",
         "-0.5976143046671968",
         "-0.2357022603955158",
         "0",
         "0",
         "0.121379425806881",
         "0",
         "0",
         "0",
         "0",
         "-1.3106072419052568",
         "-1.3106072419052568",
         "0",
         "0",
         "0",
         "-0.2712113790294244",
         "0.3429971702850176",
         "-0.2357022603955158",
         "0",
         "0",
         "1.0",
         "0",
         "0",
         "0",
         "0",
         "-1.0935283241892713",
         "0",
         "-1.3516201124395293",
         "0",
         "2.953122116093094",
         "2.314224233478013",
         "0",
         "0",
         "0",
         "2.3233508524700857",
         "0",
         "-0.830773163432567",
         "0",
         "0",
         "0",
         "-0.1643989873053571",
         "-0.3892494720807614",
         "0",
         "0",
         "-0.5970588058172428",
         "0",
         "0",
         "1.1114378604524224",
         "-0.552816232231331",
         "0",
         "0",
         "0",
         "0",
         "0",
         "-0.4330127018922188",
         "-0.5570860145311556",
         "-0.6793662204867575",
         "0",
         "0",
         "0",
         "0",
         "0",
         "-0.4902612396325591",
         "0",
         "1.5666989036012808",
         "0",
         "0",
         "0",
         "0",
         "1.1783766072743584",
         "0",
         "-0.2357022603955158",
         "0",
         "-1.309307341415954",
         "0",
         "0",
         "0",
         "4.242640687119286",
         "0",
         "0",
         "-0.3892494720807614",
         "0",
         "0",
         "3.8150234789680826",
         "0",
         "0",
         "1",
         "0",
         "0",
         "0",
         "0",
         "0",
         "0",
         "0",
         "0",
         "0",
         "0",
         "0",
         "0",
         "0",
         "0",
         "0",
         "0",
         "0",
         "0",
         "0",
         "0",
         "0",
         "0",
         "0",
         "0",
         "0",
         "1",
         "0",
         "0",
         "0",
         "0",
         "0",
         "0",
         "1",
         "0",
         "0",
         "0",
         "0",
         "0",
         "0",
         "0",
         "0",
         "0",
         "0",
         "1",
         "0",
         "0",
         "0",
         "0",
         "0",
         "0",
         "0",
         "0",
         "0",
         "1",
         "0",
         "0",
         "0",
         "0",
         "0",
         "0",
         "0",
         "0",
         "0",
         "0",
         "0",
         "0",
         "0",
         "0",
         "0",
         "0",
         "0",
         "0",
         "0",
         "0",
         "0",
         "0",
         "0",
         "0",
         "1",
         "0",
         "0",
         "0",
         "0",
         "0",
         "0",
         "0",
         "0",
         "0",
         "0",
         "0",
         "0",
         "0",
         "0",
         "0",
         "0",
         "0",
         "0",
         "0",
         "0",
         "0",
         "0",
         "0",
         "1",
         "1",
         "0",
         "0",
         "0",
         "0",
         "0",
         "0",
         "0",
         "0",
         "0",
         "0",
         "1",
         "0",
         "0",
         "0",
         "0",
         "0",
         "0",
         "0",
         "0",
         "0",
         "0",
         "0",
         "0",
         "0",
         "0",
         "0",
         "0",
         "0",
         "0",
         "0",
         "0",
         "0",
         "0",
         "0",
         "0",
         "0",
         "0",
         "0",
         "0",
         "0",
         "0",
         "0",
         "0",
         "0",
         "0",
         "0",
         "0",
         "0",
         "0",
         "0",
         "0",
         "0",
         "0",
         "0",
         "0",
         "0",
         "0",
         "0",
         "0",
         "0",
         "0",
         "1",
         "0",
         "0",
         "0",
         "0",
         "0",
         "0",
         "0",
         "0",
         "0",
         "0",
         "0",
         "0",
         "0",
         "0",
         "0",
         "0",
         "0",
         "0",
         "0",
         "0",
         "0",
         "1",
         "0",
         "0",
         "0",
         "0",
         "0",
         "0",
         "0",
         "0",
         "0",
         "0",
         "0",
         "0",
         "0",
         "0",
         "0",
         "0",
         "0",
         "0",
         "0",
         "0",
         "0",
         "0",
         "0",
         "0",
         "0",
         "0",
         "0",
         "0",
         "0",
         "0",
         "0",
         "0",
         "0",
         "0",
         "0",
         "0",
         "0",
         "0",
         "0",
         "0",
         "0",
         "0",
         "0",
         "1",
         "0",
         "0",
         "0",
         "1",
         "0",
         "0",
         "0",
         "0",
         "0",
         "0",
         "0",
         "0",
         "0",
         "0",
         "0",
         "0",
         "0",
         "0",
         "0",
         "0",
         "0",
         "0",
         "0",
         "0",
         "0",
         "0",
         "0",
         "0",
         "0",
         "0",
         "0",
         "0",
         "0",
         "0",
         "0",
         "0",
         "0",
         "0",
         "0",
         "0",
         "0",
         "0",
         "0",
         "0",
         "0",
         "0",
         "0",
         "0",
         "0",
         "1",
         "0",
         "0",
         "0",
         "0",
         "0",
         "0",
         "0",
         "0",
         "0",
         "0",
         "0",
         "0",
         "0",
         "0",
         "0",
         "0",
         "0",
         "0",
         "1",
         "0",
         "0",
         "0",
         "0",
         "0",
         "0",
         "0",
         "1",
         "0",
         "0",
         "0",
         "1",
         "0",
         "0",
         "0",
         "0",
         "0",
         "0",
         "0",
         "0",
         "0",
         "0",
         "0",
         "0",
         "0",
         "0",
         "0",
         "0",
         "0",
         "0",
         "0",
         "0",
         "0",
         "0",
         "0",
         "0",
         "0",
         "0",
         "0",
         "0",
         "0",
         "0",
         "0",
         "0",
         "0",
         "0",
         "0",
         "1",
         "0",
         "0",
         "0",
         "0",
         "0",
         "0",
         "0",
         "0",
         "0",
         "0",
         "0",
         "0",
         "0",
         "0",
         "1",
         "1",
         "0",
         "0",
         "0",
         "0",
         "0",
         "0",
         "0",
         "0",
         "0",
         "0",
         "0",
         "1",
         "0",
         "0",
         "0",
         "0",
         "0",
         "0",
         "0",
         "0",
         "0",
         "0",
         "0",
         "0",
         "0",
         "1",
         "0",
         "1",
         "0",
         "0",
         "0",
         "0",
         "0",
         "0",
         "0",
         "0",
         "0",
         "0",
         "0",
         "0",
         "0",
         "0",
         "1",
         "0",
         "0",
         "0",
         "0",
         "0",
         "0",
         "0",
         "0",
         "0",
         "0",
         "0",
         "0",
         "0",
         "0",
         "0",
         "0",
         "0",
         "0",
         "0",
         "0",
         "0",
         "0",
         "0",
         "0",
         "0",
         "0",
         "0",
         "0",
         "0",
         "0",
         "0",
         "0",
         "0",
         "0",
         "0",
         "0",
         "0",
         "0",
         "0",
         "0",
         "0",
         "0",
         "0",
         "0",
         "0",
         "0",
         "0",
         "0",
         "1",
         "0",
         "0",
         "0",
         "0",
         "0",
         "0",
         "0",
         "0",
         "0",
         "0",
         "0",
         "0",
         "0",
         "0",
         "0",
         "0",
         "0",
         "0",
         "0",
         "0",
         "0",
         "0",
         "0",
         "0",
         "0",
         "0",
         "0",
         "0",
         "0",
         "0",
         "1",
         "0",
         "1",
         "0",
         "0",
         "0",
         "0",
         "0",
         "0",
         "0",
         "0",
         "0",
         "0",
         "0",
         "1",
         "1",
         "0",
         "0",
         "0",
         "0",
         "0",
         "0",
         "0",
         "0",
         "0",
         "0",
         "0",
         "0",
         "0",
         "0",
         "0",
         "0",
         "0",
         "0",
         "0",
         "0",
         "0",
         "0",
         "0",
         "0",
         "0",
         "0",
         "0",
         "0",
         "1",
         "0",
         "0",
         "0",
         "0",
         "0",
         "0",
         "0",
         "0",
         "0",
         "0",
         "1",
         "0",
         "0",
         "1",
         "0",
         "0",
         "0",
         "0",
         "0",
         "0",
         "0",
         "1",
         "0",
         "0",
         "0",
         "0",
         "0",
         "1",
         "0",
         "0",
         "1",
         "0",
         "0",
         "0",
         "0",
         "0",
         "0",
         "0",
         "0",
         "0",
         "0",
         "0",
         "0",
         "0",
         "0",
         "0",
         "0",
         "0",
         "0",
         "0",
         "0",
         "1",
         "0",
         "1",
         "0",
         "0",
         "0",
         "0",
         "0",
         "0",
         "0",
         "0",
         "0",
         "0",
         "0",
         "0",
         "0",
         "1",
         "0",
         "0",
         "0",
         "0",
         "0",
         "0",
         "0",
         "0",
         "0",
         "0",
         "0",
         "0",
         "0",
         "0",
         "0",
         "0",
         "0",
         "0",
         "0",
         "0",
         "0",
         "0",
         "0",
         "0",
         "0",
         "1",
         "0",
         "0",
         "1",
         "0",
         "0",
         "0",
         "0",
         "0",
         "0",
         "0",
         "0",
         "0",
         "0",
         "1",
         "0",
         "0",
         "0",
         "0",
         "0",
         "0",
         "0",
         "0",
         "1",
         "0",
         "0",
         "1",
         "0",
         "0",
         "0",
         "0",
         "1",
         "0",
         "1",
         "1",
         "0",
         "0",
         "1",
         "0",
         "0",
         "1",
         "0",
         "0",
         "0",
         "0",
         "0",
         "0",
         "0",
         "0",
         "0",
         "0",
         "0",
         "0",
         "0",
         "0",
         "1",
         "1",
         "0",
         "0",
         "0",
         "0",
         "0",
         "0",
         "0",
         "0",
         "0",
         "0",
         "0",
         "1",
         "0",
         "1",
         "0",
         "0",
         "0",
         "0",
         "0",
         "0",
         "0",
         "0",
         "0",
         "0",
         "1",
         "0",
         "0",
         "0",
         "0",
         "0",
         "0",
         "0",
         "0",
         "0",
         "0",
         "0",
         "0",
         "1",
         "0",
         "0",
         "0",
         "0",
         "0",
         "0",
         "0",
         "0",
         "0",
         "0",
         "0",
         "0",
         "0",
         "0",
         "0",
         "0",
         "0",
         "0",
         "0",
         "0",
         "0",
         "0",
         "0",
         "0",
         "0",
         "0",
         "0",
         "0",
         "0",
         "0",
         "0",
         "0",
         "0",
         "0",
         "0",
         "0",
         "0",
         "0",
         "0",
         "0",
         "0",
         "0",
         "0",
         "0",
         "0",
         "1",
         "0",
         "1",
         "0",
         "1",
         "0",
         "0",
         "0",
         "0",
         "0",
         "0",
         "0",
         "0",
         "0",
         "0",
         "0",
         "0",
         "0",
         "0",
         "0",
         "0",
         "0",
         "0",
         "0",
         "0",
         "0",
         "0",
         "0",
         "0",
         "0",
         "0",
         "0",
         "0",
         "0",
         "0",
         "1",
         "0",
         "1",
         "0",
         "0",
         "0",
         "0",
         "0",
         "0",
         "0",
         "0",
         "0",
         "0",
         "0",
         "0",
         "0",
         "0",
         "0",
         "0",
         "0",
         "0",
         "0",
         "0",
         "0",
         "1",
         "0",
         "0",
         "0",
         "0",
         "0",
         "0",
         "0",
         "0",
         "0",
         "0",
         "0",
         "0",
         "0",
         "0",
         "0",
         "0",
         "0",
         "0",
         "0",
         "0",
         "0",
         "0",
         "0",
         "0",
         "0",
         "0",
         "0",
         "0",
         "0",
         "0",
         "0",
         "0",
         "0",
         "0",
         "0",
         "0",
         "0",
         "0",
         "0",
         "0",
         "0",
         "0",
         "0",
         "0",
         "0",
         "0",
         "0",
         "0",
         "1",
         "0",
         "0",
         "0",
         "0",
         "0",
         "0",
         "0",
         "0",
         "0",
         "0",
         "0",
         "0",
         "0",
         "0",
         "1",
         "0",
         "0",
         "1",
         "0",
         "0",
         "0",
         "0",
         "0",
         "0",
         "0",
         "0",
         "1",
         "0",
         "0",
         "0",
         "0",
         "0",
         "0",
         "0",
         "0",
         "0",
         "0",
         "0",
         "0",
         "0",
         "0",
         "0",
         "0",
         "0",
         "0",
         "0",
         "1",
         "0",
         "0",
         "0",
         "1",
         "0",
         "0",
         "0",
         "0",
         "0",
         "0",
         "0",
         "0",
         "1",
         "0",
         "0",
         "0",
         "0",
         "1",
         "0",
         "0",
         "0",
         "0",
         "0",
         "0",
         "0",
         "0",
         "0",
         "0",
         "0",
         "0",
         "0",
         "0",
         "0",
         "1",
         "0",
         "0",
         "1",
         "0",
         "0",
         "0",
         "0",
         "0",
         "0",
         "1",
         "0",
         "0",
         "0",
         "0",
         "0",
         "0",
         "0",
         "0",
         "0",
         "0",
         "0",
         "1",
         "0",
         "0",
         "0",
         "0",
         "0",
         "1",
         "0",
         "0",
         "0",
         "0",
         "0",
         "0",
         "0",
         "1",
         "0",
         "0",
         "0",
         "0",
         "0",
         "0",
         "0",
         "0",
         "0",
         "0",
         "0",
         "0",
         "0",
         "0",
         "0",
         "0",
         "0",
         "0",
         "0",
         "0",
         "0",
         "0",
         "0",
         "0",
         "0",
         "0",
         "1",
         "0",
         "0",
         "0",
         "0",
         "0",
         "0",
         "0",
         "1",
         "0",
         "0",
         "0",
         "0",
         "0",
         "0",
         "1",
         "0",
         "0",
         "0",
         "0",
         "0",
         "0",
         "1",
         "0",
         "0",
         "0",
         "0",
         "0",
         "0",
         "0",
         "1",
         "0",
         "0",
         "0",
         "0",
         "1",
         "0",
         "0",
         "1",
         "1",
         "0",
         "1",
         "0",
         "0",
         "0",
         "0",
         "0",
         "0",
         "0",
         "0",
         "0",
         "0",
         "0",
         "0",
         "0",
         "0",
         "0",
         "0",
         "0",
         "0",
         "0",
         "0",
         "0",
         "0",
         "1",
         "0",
         "0",
         "0",
         "0",
         "1",
         "0",
         "0",
         "0",
         "0",
         "0",
         "0",
         "0",
         "0",
         "0",
         "0",
         "0",
         "0",
         "0",
         "0",
         "0",
         "0",
         "0",
         "0",
         "0",
         "0",
         "0",
         "0",
         "0",
         "0",
         "0",
         "1",
         "0",
         "0",
         "0",
         "0",
         "0",
         "0",
         "0",
         "0",
         "0",
         "0",
         "0",
         "0",
         "0",
         "0",
         "0",
         "0",
         "0",
         "0",
         "0",
         "0",
         "0",
         "0",
         "0",
         "0",
         "0",
         "0",
         "0",
         "0",
         "1",
         "0",
         "1",
         "0",
         "0",
         "0",
         "0",
         "0",
         "0",
         "1",
         "0",
         "0",
         "0",
         "0",
         "0",
         "0",
         "0",
         "0",
         "0",
         "0",
         "0",
         "0",
         "0",
         "0",
         "1",
         "0",
         "0",
         "0",
         "0",
         "0",
         "0",
         "0",
         "0",
         "0",
         "0",
         "0",
         "0",
         "0",
         "0",
         "0",
         "0",
         "1",
         "0",
         "0",
         "0",
         "0",
         "0",
         "0",
         "0",
         "0",
         "0",
         "0",
         "0",
         "0",
         "0",
         "0",
         "1",
         "0",
         "0",
         "0",
         "0",
         "0",
         "0",
         "0",
         "0",
         "0",
         "0",
         "0",
         "0",
         "0",
         "0",
         "0",
         "0",
         "0",
         "0",
         "0",
         "0",
         "0",
         "0",
         "0",
         "0",
         "1",
         "0",
         "0",
         "0",
         "0",
         "0",
         "0",
         "0",
         "0",
         "0",
         "0",
         "0",
         "0",
         "0",
         "0",
         "0",
         "0",
         "0",
         "0",
         "1",
         "0",
         "0",
         "0",
         "0",
         "0",
         "0",
         "0",
         "0",
         "0",
         "1",
         "0",
         "1",
         "0",
         "0",
         "0",
         "0",
         "0",
         "1",
         "0",
         "1",
         "0",
         "0",
         "0",
         "0",
         "1",
         "0",
         "0",
         "0",
         "0",
         "0",
         "0",
         "0",
         "0",
         "0",
         "0",
         "0",
         "0",
         "0",
         "0",
         "0",
         "0",
         "0",
         "0",
         "0",
         "0",
         "0",
         "0",
         "0",
         "0",
         "0",
         "0",
         "0",
         "0",
         "0",
         "0",
         "1",
         "0",
         "0",
         "0",
         "0",
         "0",
         "0",
         "0",
         "0",
         "0",
         "0",
         "0",
         "0",
         "1",
         "0",
         "0",
         "0",
         "0",
         "0",
         "0",
         "0",
         "0",
         "1",
         "0",
         "0",
         "0",
         "1",
         "0",
         "0",
         "0",
         "0",
         "0",
         "0",
         "0",
         "0",
         "0",
         "0",
         "0",
         "0",
         "0",
         "0",
         "0",
         "0",
         "0",
         "0",
         "0",
         "0",
         "0",
         "0",
         "0",
         "0",
         "0",
         "0",
         "0",
         "0",
         "0",
         "0",
         "0",
         "0",
         "0",
         "0",
         "0",
         "0",
         "0",
         "0",
         "1",
         "0",
         "1",
         "0",
         "0",
         "0",
         "0",
         "0",
         "0",
         "0",
         "0",
         "0",
         "0",
         "0",
         "0",
         "0",
         "1",
         "0",
         "0",
         "0",
         "0",
         "0",
         "0",
         "0",
         "0",
         "0",
         "0",
         "1",
         "0",
         "0",
         "0",
         "0",
         "0",
         "0",
         "0",
         "0",
         "0",
         "0",
         "0",
         "0",
         "0",
         "0",
         "0",
         "0",
         "0",
         "0",
         "0",
         "0",
         "0",
         "0",
         "0",
         "0",
         "0",
         "0",
         "0",
         "0",
         "0",
         "0",
         "0",
         "0",
         "0",
         "0",
         "0",
         "0",
         "0",
         "0",
         "0",
         "0",
         "0",
         "0",
         "0",
         "0",
         "0",
         "0",
         "0",
         "0",
         "0",
         "0",
         "0",
         "0",
         "0",
         "0",
         "0",
         "0",
         "0",
         "0",
         "0",
         "0",
         "1",
         "0",
         "0",
         "0",
         "0",
         "0",
         "1",
         "0",
         "0",
         "0",
         "0",
         "0",
         "0",
         "0",
         "0",
         "0",
         "0",
         "1",
         "0",
         "0",
         "0",
         "0",
         "0",
         "0",
         "1",
         "0",
         "0",
         "0",
         "1",
         "0",
         "1",
         "0",
         "0",
         "0",
         "0",
         "0",
         "0",
         "0",
         "0",
         "0",
         "0",
         "0",
         "0",
         "0",
         "0",
         "0",
         "0",
         "0",
         "0",
         "0",
         "0",
         "0",
         "0",
         "0",
         "0",
         "0",
         "0",
         "0",
         "0",
         "0",
         "0",
         "0",
         "0",
         "0",
         "0",
         "0",
         "0",
         "0",
         "0",
         "0",
         "0",
         "0",
         "0",
         "0",
         "0",
         "0",
         "0",
         "0",
         "0",
         "0",
         "0",
         "0",
         "0",
         "1",
         "1",
         "0",
         "0",
         "0",
         "0",
         "0",
         "0",
         "0",
         "0",
         "0",
         "0",
         "0",
         "0",
         "0",
         "0",
         "0",
         "0",
         "0",
         "0",
         "0",
         "0",
         "0",
         "0",
         "0",
         "0",
         "0",
         "0",
         "0",
         "0",
         "0",
         "0",
         "0",
         "1",
         "0",
         "0",
         "0",
         "0",
         "0",
         "0",
         "1",
         "0",
         "0",
         "0",
         "0",
         "0",
         "0",
         "1",
         "0",
         "0",
         "0",
         "0",
         "0",
         "0",
         "0",
         "0",
         "0",
         "0",
         "0",
         "0",
         "0",
         "0",
         "0",
         "0",
         "0",
         "0",
         "0",
         "0",
         "0",
         "0",
         "0",
         "0",
         "0",
         "0",
         "0",
         "0",
         "0",
         "0",
         "0",
         "0",
         "0",
         "0",
         "0",
         "0",
         "0",
         "0",
         "0",
         "0",
         "0",
         "0",
         "0",
         "0",
         "0",
         "0",
         "0",
         "0",
         "0",
         "0",
         "0",
         "0",
         "0",
         "0",
         "0",
         "0",
         "0",
         "0",
         "0",
         "0",
         "0",
         "0",
         "0",
         "0",
         "0",
         "0",
         "0",
         "0",
         "0",
         "0",
         "0",
         "0",
         "0",
         "0",
         "0",
         "1",
         "0",
         "0",
         "0",
         "0",
         "0",
         "0",
         "0",
         "0",
         "0",
         "0",
         "0",
         "0",
         "0",
         "0",
         "0",
         "0",
         "0",
         "1",
         "0",
         "0",
         "0",
         "0",
         "0",
         "0",
         "1",
         "0",
         "0",
         "0",
         "0",
         "0",
         "0",
         "0",
         "0",
         "0",
         "0",
         "0",
         "0",
         "1",
         "0",
         "0",
         "0",
         "0",
         "0",
         "0",
         "0",
         "0",
         "1",
         "0",
         "0",
         "0",
         "0",
         "0",
         "0",
         "0",
         "0",
         "0",
         "0",
         "0",
         "0",
         "0",
         "0",
         "0",
         "0",
         "1",
         "0",
         "0",
         "0",
         "0",
         "0",
         "0",
         "0",
         "0",
         "0",
         "0",
         "0",
         "0",
         "0",
         "0",
         "0",
         "1",
         "0",
         "0",
         "0",
         "0",
         "0",
         "1",
         "0",
         "0",
         "0",
         "0",
         "0",
         "1",
         "0",
         "0",
         "0",
         "1",
         "0",
         "0",
         "0",
         "0",
         "0",
         "0",
         "0",
         "1",
         "0",
         "0",
         "0",
         "0",
         "0",
         "0",
         "0",
         "0",
         "0",
         "0",
         "0",
         "0",
         "0",
         "0",
         "0",
         "0",
         "0",
         "0",
         "0",
         "0",
         "0",
         "0",
         "0",
         "0",
         "0",
         "0",
         "0",
         "0",
         "1",
         "0",
         "0",
         "0",
         "0",
         "0",
         "0",
         "0",
         "0",
         "0",
         "0",
         "0",
         "0",
         "0",
         "0",
         "0",
         "0",
         "0",
         "0",
         "0",
         "0",
         "0",
         "0",
         "0",
         "0",
         "0",
         "0",
         "0",
         "0",
         "0",
         "0",
         "0",
         "0",
         "0",
         "0",
         "0",
         "0",
         "0",
         "0",
         "0",
         "0",
         "0",
         "0",
         "0",
         "0",
         "0",
         "0",
         "0",
         "0",
         "0",
         "0",
         "0",
         "1",
         "0",
         "0",
         "0",
         "0",
         "0",
         "0",
         "0",
         "0",
         "0",
         "0",
         "0",
         "1",
         "0",
         "0",
         "0",
         "1",
         "0",
         "0",
         "0",
         "0",
         "0",
         "0",
         "0",
         "0",
         "0",
         "0",
         "0",
         "0",
         "0",
         "1",
         "0",
         "0",
         "0",
         "0",
         "0",
         "0",
         "0",
         "0",
         "0",
         "0",
         "0",
         "0",
         "0",
         "0",
         "0",
         "0",
         "0",
         "0",
         "0",
         "0",
         "0",
         "0",
         "0",
         "0",
         "0",
         "0",
         "0",
         "0",
         "0",
         "0",
         "0",
         "1",
         "0",
         "0",
         "0",
         "0",
         "0",
         "1",
         "0",
         "1",
         "0",
         "0",
         "0",
         "0",
         "0",
         "0",
         "0",
         "0",
         "0",
         "0",
         "0",
         "0",
         "0",
         "0",
         "0",
         "0",
         "0",
         "0",
         "0",
         "0",
         "1",
         "0",
         "0",
         "0",
         "0",
         "0",
         "0",
         "0",
         "0",
         "0",
         "0",
         "0",
         "0",
         "0",
         "0",
         "1",
         "0",
         "0",
         "0",
         "0",
         "0",
         "0",
         "0",
         "0",
         "0",
         "0",
         "0",
         "0",
         "1",
         "0",
         "0",
         "0",
         "0",
         "0",
         "0",
         "0",
         "1",
         "0",
         "0",
         "0",
         "0",
         "0",
         "0",
         "0",
         "1",
         "0",
         "0",
         "0",
         "0",
         "0",
         "0",
         "0",
         "0",
         "0",
         "0",
         "0",
         "0",
         "1",
         "0",
         "0",
         "0",
         "0",
         "0",
         "1",
         "0",
         "0",
         "1",
         "0",
         "0",
         "0",
         "0",
         "0",
         "0",
         "0",
         "0",
         "0",
         "0",
         "0",
         "0",
         "0",
         "0",
         "0",
         "0",
         "0",
         "0",
         "0",
         "0",
         "1",
         "0",
         "0",
         "0",
         "0",
         "0",
         "0",
         "0",
         "0",
         "0",
         "0",
         "0",
         "0",
         "0",
         "0",
         "0",
         "0",
         "0",
         "0",
         "0",
         "0",
         "0",
         "0",
         "0",
         "0",
         "0",
         "0",
         "0.5570860145311558",
         "0.6376396317219525",
         "0.3311631713732338",
         "0.1679570085080286",
         "0.3531599985873603",
         "0.2117598210523954",
         "-1.927536182152833",
         "-1.769932388658566",
         "-0.8967671391520636",
         "2.0310846217590828",
         "2.7759654741099613",
         "2.2138373303857093",
         "-0.4058849531435263",
         null,
         "-0.2706804802871117",
         "1.6148437176739587",
         "-0.1260302193399811",
         "-2.2386491967303046",
         "-1.8352601793139636",
         "-1.4358825478452415",
         "1.0307560718108952",
         "0.7239227659930262",
         "1.0396954254731925",
         "-1.3867504905630723",
         "-0.142261630412663",
         "-0.3429971702850177",
         "-0.1906925178491185",
         "-0.9381941874331412",
         "-0.8381768403531488",
         "-0.4534134496738906",
         "0",
         "0.2357022603955156",
         "0.9166892035444536"
        ],
        [
         "3",
         "KT-0001685",
         "0.482283502",
         "0.2504391716884308",
         "-0.5146636269395544",
         "1.7947436937301784",
         "1.7947436937301784",
         "0.0926849627759254",
         "1.236181134633534",
         "0.3081732344918811",
         "-0.5601535005770245",
         "-1.0299870261120725",
         "-1.0188849190581888",
         "-1.029779064531304",
         "-1.0120966160948992",
         "0",
         "0.8514824501438205",
         "-0.0802449388657569",
         "-0.2105177697615657",
         "1.1855107230894557",
         "0.7049634660633648",
         "0.8412629602973555",
         "0.939465287858858",
         "-0.7061766789525481",
         "0.3932122187853413",
         "-1.1470590158225968",
         "0.6897822296138801",
         "-0.1691442617776686",
         "-0.9526052260969546",
         "-0.6732017326038378",
         "-0.5951453233898797",
         "-1.0820220903541549",
         "-0.4981306593910075",
         "-0.1298333467367834",
         "-1.0491974346859227",
         "-1.0830607221477648",
         "-0.2044383871004895",
         "-1.3121597027036949",
         "0.4921853690962267",
         "-0.6673820292801826",
         "0.0555460320180628",
         "0.4040610178208844",
         "-1.4106196212076594",
         "-1.241010455988046",
         "0.3488126522629156",
         "-0.3429971702850177",
         "-0.4736936994605998",
         "-1.125462867742275",
         "-0.4547213026895813",
         "-0.8381768403531488",
         "-0.2883700313187344",
         "-1.3121597027036949",
         "1.058663557033081",
         "-0.3404697182675533",
         "-0.7637626158259734",
         "0.0727392967453306",
         "-0.5827392918201236",
         "-1.218217296539446",
         "-1.8465000270983765",
         "-1.133394986143565",
         "0",
         "-0.5976143046671968",
         "-0.2357022603955158",
         "0",
         "0",
         "-1.0317251193584875",
         "0",
         "0",
         "0",
         "0",
         "0.0354218173487908",
         "0.0354218173487908",
         "0",
         "0",
         "0",
         "-0.8774485792128432",
         "-0.7431605356175379",
         "-0.2357022603955158",
         "0",
         "0",
         "-1.0",
         "0",
         "0",
         "0",
         "0",
         "-1.0935283241892713",
         "0",
         "0.0555460320180628",
         "0",
         "-0.0393749615479077",
         "1.186781658193853",
         "0",
         "0",
         "0",
         "0.4040610178208844",
         "0",
         "-0.830773163432567",
         "0",
         "0",
         "0",
         "-0.1643989873053571",
         "1.5829478531284302",
         "0",
         "0",
         "-0.5970588058172428",
         "0",
         "0",
         "1.1114378604524224",
         "-0.552816232231331",
         "0",
         "0",
         "0",
         "0",
         "0",
         "2.3094010767585003",
         "-0.5570860145311556",
         "1.4719601443879746",
         "0",
         "0",
         "0",
         "0",
         "0",
         "-0.4902612396325591",
         "0",
         "-0.6382847385042255",
         "0",
         "0",
         "0",
         "0",
         "-0.4800793585191831",
         "0",
         "-0.2357022603955158",
         "0",
         "-1.309307341415954",
         "0",
         "0",
         "0",
         "-0.2357022603955158",
         "0",
         "0",
         "-0.3892494720807614",
         "0",
         "0",
         "-0.2879263002994779",
         "0",
         "0",
         "1",
         "0",
         "0",
         "0",
         "0",
         "0",
         "0",
         "1",
         "0",
         "0",
         "0",
         "0",
         "1",
         "0",
         "0",
         "0",
         "0",
         "0",
         "0",
         "0",
         "0",
         "0",
         "0",
         "0",
         "0",
         "0",
         "0",
         "0",
         "0",
         "0",
         "0",
         "0",
         "0",
         "0",
         "0",
         "0",
         "0",
         "0",
         "0",
         "0",
         "1",
         "0",
         "0",
         "0",
         "1",
         "0",
         "0",
         "0",
         "0",
         "0",
         "0",
         "0",
         "0",
         "0",
         "0",
         "0",
         "0",
         "0",
         "0",
         "0",
         "0",
         "0",
         "0",
         "0",
         "0",
         "0",
         "0",
         "0",
         "0",
         "0",
         "0",
         "0",
         "0",
         "0",
         "0",
         "0",
         "0",
         "0",
         "0",
         "1",
         "0",
         "0",
         "0",
         "0",
         "0",
         "0",
         "0",
         "0",
         "0",
         "0",
         "0",
         "0",
         "0",
         "0",
         "0",
         "0",
         "0",
         "0",
         "0",
         "0",
         "0",
         "0",
         "0",
         "1",
         "0",
         "0",
         "0",
         "0",
         "0",
         "0",
         "0",
         "0",
         "0",
         "0",
         "0",
         "1",
         "0",
         "0",
         "0",
         "0",
         "0",
         "0",
         "0",
         "0",
         "0",
         "0",
         "0",
         "0",
         "0",
         "0",
         "0",
         "0",
         "0",
         "0",
         "0",
         "0",
         "0",
         "0",
         "0",
         "0",
         "0",
         "0",
         "0",
         "0",
         "0",
         "0",
         "0",
         "0",
         "0",
         "0",
         "0",
         "0",
         "0",
         "0",
         "0",
         "0",
         "0",
         "0",
         "0",
         "0",
         "0",
         "0",
         "0",
         "1",
         "0",
         "0",
         "0",
         "0",
         "0",
         "0",
         "0",
         "0",
         "0",
         "0",
         "0",
         "0",
         "0",
         "0",
         "0",
         "0",
         "0",
         "0",
         "0",
         "0",
         "0",
         "0",
         "0",
         "0",
         "1",
         "0",
         "0",
         "0",
         "0",
         "0",
         "0",
         "0",
         "1",
         "0",
         "0",
         "0",
         "0",
         "0",
         "0",
         "0",
         "0",
         "0",
         "0",
         "0",
         "0",
         "0",
         "0",
         "0",
         "0",
         "0",
         "0",
         "0",
         "0",
         "0",
         "1",
         "0",
         "0",
         "0",
         "0",
         "0",
         "0",
         "0",
         "0",
         "0",
         "0",
         "0",
         "1",
         "0",
         "1",
         "0",
         "0",
         "0",
         "1",
         "0",
         "1",
         "0",
         "0",
         "0",
         "0",
         "0",
         "0",
         "0",
         "0",
         "0",
         "0",
         "0",
         "0",
         "0",
         "0",
         "0",
         "0",
         "0",
         "0",
         "0",
         "0",
         "0",
         "0",
         "0",
         "0",
         "0",
         "0",
         "0",
         "0",
         "1",
         "0",
         "0",
         "0",
         "0",
         "0",
         "0",
         "0",
         "0",
         "0",
         "0",
         "0",
         "0",
         "0",
         "0",
         "0",
         "0",
         "0",
         "0",
         "0",
         "0",
         "0",
         "0",
         "0",
         "0",
         "1",
         "0",
         "0",
         "0",
         "0",
         "0",
         "0",
         "0",
         "0",
         "0",
         "0",
         "0",
         "0",
         "0",
         "0",
         "0",
         "0",
         "1",
         "0",
         "0",
         "0",
         "1",
         "0",
         "0",
         "0",
         "0",
         "0",
         "0",
         "0",
         "0",
         "0",
         "0",
         "0",
         "0",
         "0",
         "0",
         "0",
         "0",
         "0",
         "0",
         "0",
         "0",
         "0",
         "0",
         "0",
         "0",
         "0",
         "0",
         "0",
         "0",
         "0",
         "0",
         "0",
         "0",
         "0",
         "0",
         "0",
         "0",
         "0",
         "0",
         "0",
         "0",
         "0",
         "0",
         "0",
         "0",
         "0",
         "0",
         "0",
         "0",
         "0",
         "0",
         "0",
         "0",
         "0",
         "0",
         "0",
         "0",
         "0",
         "0",
         "0",
         "0",
         "0",
         "0",
         "0",
         "0",
         "0",
         "0",
         "0",
         "0",
         "0",
         "0",
         "0",
         "0",
         "0",
         "0",
         "0",
         "0",
         "0",
         "0",
         "0",
         "1",
         "0",
         "0",
         "0",
         "0",
         "0",
         "0",
         "0",
         "0",
         "0",
         "0",
         "0",
         "0",
         "1",
         "0",
         "0",
         "0",
         "0",
         "0",
         "0",
         "0",
         "0",
         "0",
         "0",
         "0",
         "0",
         "0",
         "0",
         "0",
         "0",
         "0",
         "0",
         "0",
         "0",
         "0",
         "0",
         "0",
         "0",
         "0",
         "0",
         "0",
         "0",
         "0",
         "0",
         "0",
         "0",
         "0",
         "0",
         "0",
         "0",
         "0",
         "0",
         "1",
         "0",
         "0",
         "0",
         "0",
         "0",
         "0",
         "0",
         "1",
         "0",
         "1",
         "0",
         "0",
         "0",
         "0",
         "0",
         "0",
         "0",
         "0",
         "0",
         "0",
         "0",
         "0",
         "0",
         "0",
         "0",
         "0",
         "0",
         "0",
         "0",
         "0",
         "0",
         "0",
         "0",
         "0",
         "0",
         "0",
         "0",
         "0",
         "0",
         "0",
         "0",
         "0",
         "0",
         "0",
         "0",
         "0",
         "0",
         "0",
         "0",
         "0",
         "0",
         "0",
         "0",
         "0",
         "1",
         "0",
         "0",
         "0",
         "0",
         "0",
         "0",
         "0",
         "0",
         "0",
         "0",
         "0",
         "0",
         "0",
         "0",
         "0",
         "0",
         "1",
         "0",
         "0",
         "0",
         "1",
         "1",
         "0",
         "0",
         "0",
         "0",
         "0",
         "0",
         "0",
         "0",
         "0",
         "1",
         "0",
         "0",
         "0",
         "0",
         "0",
         "0",
         "0",
         "0",
         "0",
         "0",
         "0",
         "0",
         "0",
         "0",
         "0",
         "0",
         "0",
         "0",
         "0",
         "0",
         "0",
         "0",
         "0",
         "0",
         "0",
         "0",
         "0",
         "0",
         "0",
         "0",
         "1",
         "0",
         "0",
         "0",
         "0",
         "0",
         "0",
         "0",
         "0",
         "0",
         "0",
         "0",
         "0",
         "0",
         "0",
         "0",
         "0",
         "0",
         "0",
         "0",
         "0",
         "0",
         "0",
         "0",
         "0",
         "0",
         "0",
         "0",
         "0",
         "0",
         "0",
         "0",
         "0",
         "0",
         "0",
         "0",
         "0",
         "0",
         "0",
         "0",
         "0",
         "0",
         "1",
         "0",
         "1",
         "0",
         "0",
         "0",
         "0",
         "0",
         "0",
         "0",
         "0",
         "0",
         "0",
         "0",
         "0",
         "0",
         "0",
         "0",
         "0",
         "0",
         "0",
         "1",
         "0",
         "0",
         "0",
         "0",
         "0",
         "0",
         "0",
         "0",
         "0",
         "0",
         "0",
         "0",
         "0",
         "1",
         "0",
         "0",
         "0",
         "0",
         "0",
         "0",
         "0",
         "0",
         "1",
         "0",
         "0",
         "0",
         "0",
         "0",
         "1",
         "0",
         "1",
         "0",
         "0",
         "1",
         "0",
         "0",
         "0",
         "0",
         "0",
         "1",
         "0",
         "0",
         "0",
         "0",
         "0",
         "0",
         "0",
         "0",
         "0",
         "0",
         "0",
         "0",
         "0",
         "0",
         "0",
         "1",
         "0",
         "0",
         "0",
         "0",
         "0",
         "0",
         "0",
         "0",
         "0",
         "0",
         "0",
         "1",
         "0",
         "0",
         "0",
         "1",
         "0",
         "0",
         "0",
         "0",
         "0",
         "0",
         "0",
         "0",
         "0",
         "0",
         "0",
         "0",
         "0",
         "0",
         "0",
         "0",
         "1",
         "0",
         "0",
         "0",
         "0",
         "0",
         "0",
         "0",
         "0",
         "0",
         "0",
         "0",
         "0",
         "0",
         "0",
         "0",
         "0",
         "0",
         "0",
         "0",
         "0",
         "0",
         "0",
         "1",
         "0",
         "0",
         "0",
         "0",
         "0",
         "0",
         "0",
         "0",
         "0",
         "0",
         "1",
         "0",
         "0",
         "0",
         "0",
         "0",
         "0",
         "0",
         "0",
         "0",
         "0",
         "0",
         "0",
         "0",
         "0",
         "0",
         "0",
         "0",
         "0",
         "0",
         "0",
         "1",
         "0",
         "0",
         "0",
         "0",
         "0",
         "0",
         "0",
         "0",
         "0",
         "0",
         "0",
         "0",
         "0",
         "0",
         "0",
         "0",
         "0",
         "0",
         "0",
         "0",
         "0",
         "0",
         "0",
         "0",
         "0",
         "0",
         "0",
         "0",
         "0",
         "0",
         "0",
         "0",
         "1",
         "0",
         "0",
         "1",
         "0",
         "0",
         "0",
         "0",
         "0",
         "0",
         "0",
         "0",
         "0",
         "0",
         "0",
         "0",
         "0",
         "0",
         "0",
         "0",
         "0",
         "0",
         "0",
         "0",
         "0",
         "0",
         "0",
         "0",
         "0",
         "0",
         "0",
         "0",
         "0",
         "0",
         "0",
         "0",
         "0",
         "0",
         "0",
         "0",
         "0",
         "0",
         "0",
         "0",
         "0",
         "0",
         "0",
         "0",
         "0",
         "0",
         "0",
         "0",
         "0",
         "0",
         "1",
         "1",
         "0",
         "0",
         "0",
         "0",
         "0",
         "0",
         "0",
         "0",
         "0",
         "0",
         "0",
         "0",
         "1",
         "0",
         "0",
         "1",
         "0",
         "0",
         "0",
         "0",
         "0",
         "0",
         "0",
         "0",
         "0",
         "0",
         "0",
         "0",
         "0",
         "0",
         "0",
         "0",
         "0",
         "0",
         "0",
         "0",
         "0",
         "0",
         "0",
         "0",
         "0",
         "0",
         "1",
         "0",
         "0",
         "0",
         "0",
         "0",
         "0",
         "0",
         "0",
         "0",
         "0",
         "0",
         "0",
         "0",
         "0",
         "0",
         "0",
         "0",
         "0",
         "0",
         "0",
         "0",
         "0",
         "0",
         "1",
         "0",
         "0",
         "0",
         "0",
         "0",
         "0",
         "0",
         "0",
         "1",
         "0",
         "0",
         "0",
         "0",
         "0",
         "0",
         "0",
         "0",
         "0",
         "0",
         "0",
         "0",
         "0",
         "0",
         "1",
         "0",
         "1",
         "0",
         "0",
         "0",
         "1",
         "0",
         "0",
         "0",
         "0",
         "0",
         "0",
         "0",
         "0",
         "0",
         "0",
         "0",
         "0",
         "0",
         "0",
         "0",
         "0",
         "0",
         "0",
         "0",
         "0",
         "0",
         "1",
         "0",
         "0",
         "0",
         "0",
         "0",
         "0",
         "0",
         "0",
         "0",
         "0",
         "0",
         "0",
         "0",
         "0",
         "0",
         "0",
         "0",
         "0",
         "0",
         "0",
         "0",
         "0",
         "0",
         "0",
         "0",
         "0",
         "0",
         "0",
         "0",
         "0",
         "0",
         "0",
         "0",
         "0",
         "0",
         "1",
         "0",
         "0",
         "0",
         "0",
         "1",
         "0",
         "0",
         "0",
         "0",
         "0",
         "0",
         "0",
         "0",
         "0",
         "0",
         "0",
         "0",
         "0",
         "0",
         "1",
         "0",
         "0",
         "0",
         "0",
         "0",
         "0",
         "1",
         "0",
         "0",
         "0",
         "0",
         "0",
         "0",
         "0",
         "0",
         "0",
         "0",
         "0",
         "0",
         "0",
         "0",
         "0",
         "1",
         "0",
         "0",
         "1",
         "0",
         "0",
         "0",
         "0",
         "0",
         "0",
         "0",
         "0",
         "0",
         "0",
         "0",
         "0",
         "0",
         "0",
         "0",
         "0",
         "0",
         "0",
         "0",
         "0",
         "0",
         "0",
         "0",
         "0",
         "0",
         "0",
         "0",
         "0",
         "0",
         "0",
         "0",
         "0",
         "0",
         "0",
         "0",
         "0",
         "0",
         "0",
         "0",
         "0",
         "0",
         "0",
         "0",
         "0",
         "0",
         "0",
         "0",
         "0",
         "0",
         "0",
         "0",
         "0",
         "0",
         "1",
         "0",
         "0",
         "0",
         "0",
         "0",
         "0",
         "1",
         "0",
         "0",
         "0",
         "0",
         "0",
         "0",
         "0",
         "0",
         "0",
         "0",
         "0",
         "0",
         "0",
         "0",
         "0",
         "0",
         "1",
         "0",
         "0",
         "0",
         "0",
         "0",
         "0",
         "1",
         "1",
         "0",
         "0",
         "0",
         "0",
         "0",
         "1",
         "0",
         "0",
         "0",
         "0",
         "0",
         "0",
         "0",
         "0",
         "0",
         "0",
         "0",
         "0",
         "0",
         "0",
         "0",
         "0",
         "0",
         "0",
         "0",
         "0",
         "0",
         "0",
         "0",
         "0",
         "0",
         "0",
         "0",
         "0",
         "0",
         "0",
         "0",
         "0",
         "0",
         "0",
         "0",
         "0",
         "0",
         "0",
         "0",
         "0",
         "0",
         "0",
         "0",
         "0",
         "0",
         "0",
         "0",
         "0",
         "0",
         "0",
         "0",
         "0",
         "0",
         "0",
         "0",
         "0",
         "0",
         "0",
         "0",
         "0",
         "0",
         "1",
         "0",
         "0",
         "0",
         "0",
         "0",
         "0",
         "0",
         "1",
         "0",
         "0",
         "0",
         "0",
         "0",
         "0",
         "0",
         "0",
         "0",
         "0",
         "0",
         "0",
         "1",
         "0",
         "0",
         "0",
         "0",
         "0",
         "0",
         "0",
         "1",
         "0",
         "0",
         "0",
         "0",
         "0",
         "0",
         "0",
         "0",
         "0",
         "1",
         "0",
         "1",
         "0",
         "0",
         "0",
         "0",
         "0",
         "0",
         "0",
         "1",
         "0",
         "0",
         "0",
         "0",
         "1",
         "0",
         "0",
         "0",
         "0",
         "0",
         "0",
         "1",
         "0",
         "0",
         "0",
         "0",
         "0",
         "0",
         "0",
         "0",
         "0",
         "0",
         "0",
         "0",
         "0",
         "0",
         "0",
         "0",
         "0",
         "0",
         "0",
         "1",
         "0",
         "0",
         "0",
         "0",
         "0",
         "0",
         "0",
         "0",
         "1",
         "0",
         "0",
         "0",
         "0",
         "0",
         "0",
         "0",
         "1",
         "0",
         "0",
         "0",
         "0",
         "0",
         "0",
         "0",
         "0",
         "0",
         "0",
         "0",
         "0",
         "1",
         "0",
         "0",
         "0",
         "0",
         "0",
         "0",
         "0",
         "0",
         "0",
         "0",
         "0",
         "0",
         "1",
         "0",
         "0",
         "0",
         "0",
         "0",
         "0",
         "0",
         "0",
         "0",
         "0",
         "0",
         "0",
         "0",
         "0",
         "0",
         "0",
         "0",
         "0",
         "0",
         "0",
         "0",
         "0",
         "0",
         "0",
         "0",
         "0",
         "0",
         "0",
         "0",
         "0",
         "0",
         "0",
         "0",
         "0",
         "0",
         "0",
         "0",
         "0",
         "0",
         "0",
         "0",
         "1",
         "0",
         "0",
         "0",
         "0",
         "0",
         "0",
         "0",
         "0",
         "0",
         "0",
         "1",
         "0",
         "0",
         "0",
         "0",
         "0",
         "0",
         "0",
         "0",
         "0",
         "0",
         "0",
         "0",
         "0",
         "1",
         "0",
         "0",
         "0",
         "0",
         "0",
         "0",
         "0",
         "0",
         "0",
         "0",
         "0",
         "0",
         "0",
         "0",
         "0",
         "0",
         "0",
         "0",
         "0",
         "0",
         "0",
         "0",
         "1",
         "0",
         "0",
         "0",
         "0",
         "0",
         "0",
         "0",
         "0",
         "0",
         "0",
         "0",
         "0",
         "1",
         "0",
         "0",
         "0",
         "0",
         "0",
         "0",
         "0",
         "0",
         "0",
         "0",
         "0",
         "0",
         "0",
         "0",
         "0",
         "1",
         "0",
         "0",
         "0",
         "0",
         "0",
         "0",
         "0",
         "0",
         "0",
         "0",
         "0",
         "1",
         "0",
         "0",
         "0",
         "0",
         "0",
         "0",
         "0",
         "0",
         "0",
         "0",
         "1",
         "0",
         "0",
         "0",
         "0",
         "0",
         "0",
         "0",
         "0",
         "0",
         "0",
         "0",
         "0",
         "0",
         "0",
         "0",
         "0",
         "0",
         "0",
         "0",
         "0",
         "0",
         "0",
         "0",
         "0",
         "0",
         "0",
         "0",
         "0",
         "0",
         "0",
         "0",
         "0",
         "0",
         "0",
         "0",
         "0",
         "0",
         "0",
         "0",
         "0",
         "0",
         "0",
         "0",
         "0",
         "0",
         "0",
         "0",
         "0",
         "0",
         "0",
         "0",
         "0",
         "0",
         "0",
         "0",
         "1",
         "0",
         "0",
         "0",
         "0",
         "0",
         "0",
         "0",
         "0",
         "0",
         "0",
         "0",
         "0",
         "0",
         "0",
         "0",
         "0",
         "0",
         "0",
         "0",
         "0",
         "0",
         "0",
         "0",
         "0",
         "0",
         "0",
         "0",
         "0",
         "0",
         "0",
         "0",
         "1",
         "0",
         "0",
         "0",
         "0",
         "0",
         "0",
         "1",
         "0",
         "0",
         "0",
         "0",
         "0",
         "0",
         "0",
         "0",
         "0",
         "0",
         "0",
         "0",
         "0",
         "0",
         "0",
         "0",
         "0",
         "0",
         "0",
         "0",
         "0",
         "0",
         "0",
         "0",
         "0",
         "0",
         "0",
         "0",
         "1",
         "0",
         "0",
         "0",
         "0",
         "0",
         "0",
         "0",
         "0",
         "0",
         "0",
         "0",
         "0",
         "0",
         "0",
         "0",
         "0",
         "0",
         "0",
         "0",
         "0",
         "0",
         "0",
         "0",
         "0",
         "0",
         "0",
         "0",
         "0",
         "0",
         "0",
         "0",
         "0",
         "0",
         "0",
         "0",
         "0",
         "0",
         "0",
         "0",
         "0",
         "0",
         "0",
         "0",
         "0",
         "0",
         "0",
         "0",
         "0",
         "0",
         "0",
         "0",
         "0",
         "0",
         "1",
         "0",
         "0",
         "0",
         "0",
         "0",
         "0",
         "0",
         "0",
         "0",
         "0",
         "0",
         "0",
         "0",
         "0",
         "0",
         "0",
         "0",
         "0",
         "0",
         "0",
         "0",
         "0",
         "0",
         "0",
         "0",
         "0",
         "0",
         "0",
         "0",
         "0",
         "0",
         "0",
         "0",
         "0",
         "0",
         "0",
         "0",
         "0",
         "0",
         "0",
         "0",
         "0",
         "0",
         "0",
         "0",
         "0",
         "1",
         "0",
         "0",
         "0",
         "0",
         "0",
         "0",
         "0",
         "0",
         "0",
         "0",
         "0",
         "0",
         "0",
         "0",
         "1",
         "0",
         "0",
         "0",
         "0",
         "0",
         "0",
         "0",
         "0",
         "0",
         "0",
         "0",
         "0",
         "0",
         "0",
         "0",
         "0",
         "0",
         "1",
         "0",
         "0",
         "0",
         "0",
         "0",
         "0",
         "0",
         "0",
         "0",
         "0",
         "0",
         "1",
         "0",
         "0",
         "0",
         "1",
         "0",
         "0",
         "0",
         "0",
         "0",
         "0",
         "0",
         "1",
         "0",
         "0",
         "0",
         "0",
         "0",
         "0",
         "0",
         "0",
         "0",
         "0",
         "0",
         "0",
         "0",
         "0",
         "0",
         "0",
         "0",
         "0",
         "0",
         "0",
         "0",
         "0",
         "0",
         "0",
         "0",
         "0",
         "0",
         "0",
         "0",
         "0",
         "0",
         "0",
         "0",
         "0",
         "0",
         "0",
         "0",
         "0",
         "0",
         "0",
         "0",
         "0",
         "0",
         "0",
         "0",
         "0",
         "0",
         "0",
         "0",
         "0",
         "0",
         "0",
         "0",
         "0",
         "0",
         "0",
         "0",
         "0",
         "0",
         "0",
         "0",
         "0",
         "1",
         "0",
         "0",
         "0",
         "0",
         "0",
         "0",
         "0",
         "0",
         "0",
         "0",
         "0",
         "0",
         "0",
         "0",
         "1",
         "1",
         "0",
         "0",
         "0",
         "0",
         "0",
         "0",
         "0",
         "0",
         "0",
         "0",
         "0",
         "0",
         "0",
         "0",
         "1",
         "0",
         "0",
         "0",
         "0",
         "0",
         "0",
         "0",
         "0",
         "0",
         "0",
         "0",
         "0",
         "0",
         "0",
         "0",
         "0",
         "1",
         "0",
         "0",
         "0",
         "0",
         "0",
         "0",
         "0",
         "0",
         "0",
         "0",
         "0",
         "0",
         "0",
         "0",
         "0",
         "0",
         "0",
         "0",
         "0",
         "0",
         "0",
         "0",
         "0",
         "0",
         "0",
         "0",
         "0",
         "0",
         "0",
         "0",
         "0",
         "0",
         "0",
         "0",
         "0",
         "0",
         "0",
         "1",
         "0",
         "0",
         "1",
         "1",
         "0",
         "1",
         "0",
         "0",
         "0",
         "0",
         "0",
         "0",
         "0",
         "0",
         "0",
         "0",
         "1",
         "0",
         "1",
         "0",
         "0",
         "0",
         "0",
         "0",
         "0",
         "0",
         "0",
         "0",
         "0",
         "0",
         "0",
         "0",
         "0",
         "0",
         "0",
         "0",
         "0",
         "0",
         "0",
         "0",
         "0",
         "0",
         "0",
         "0",
         "0",
         "0",
         "0",
         "0",
         "0",
         "0",
         "1",
         "0",
         "0",
         "0",
         "0",
         "0",
         "0",
         "0",
         "0",
         "0",
         "0",
         "0",
         "0",
         "0",
         "0",
         "0",
         "0",
         "0",
         "0",
         "0",
         "0",
         "0",
         "0",
         "0",
         "0",
         "0",
         "0",
         "0",
         "0",
         "0",
         "1",
         "0",
         "0",
         "0",
         "0",
         "1",
         "0",
         "0",
         "0",
         "0",
         "0",
         "0",
         "1",
         "0",
         "0",
         "0",
         "0",
         "0",
         "0",
         "0",
         "0",
         "0",
         "0",
         "0",
         "0",
         "0",
         "0",
         "0",
         "0",
         "1",
         "0",
         "0",
         "0",
         "0",
         "0",
         "0",
         "0",
         "0",
         "0",
         "0",
         "0",
         "0",
         "0",
         "0",
         "0",
         "0",
         "0",
         "0",
         "0",
         "0",
         "0",
         "0",
         "0",
         "0",
         "0",
         "0",
         "-1.7950549357115022",
         "-1.0299834497260305",
         "-1.6048676766549028",
         "-1.6555762267219971",
         "-0.1438799994244796",
         "0.2117598210523954",
         "-0.2954575425013693",
         "-0.4987527223260897",
         "1.4866778038597015",
         "-1.9035568430887149",
         "-0.9010663167495804",
         "-1.0799135665929236",
         "-0.2024405578333308",
         null,
         "-0.1580028468655595",
         "-1.0091690900530823",
         "-0.5383274441331695",
         "0.915148843388271",
         "-0.5662134382829683",
         "-0.6673820292801826",
         "-1.3311774394743725",
         "-1.241010455988046",
         "-0.5469883563734463",
         "-0.7667914477231106",
         "-0.1298333467367834",
         "-0.3429971702850177",
         "-0.1906925178491185",
         "-0.9381941874331412",
         "-0.8381768403531488",
         "-1.4106196212076594",
         "0",
         "0.2357022603955156",
         "-0.3978085222928761"
        ],
        [
         "4",
         "KT-0001686",
         "0.642137936",
         "-2.4762986834189884",
         "-0.6675544542669725",
         "-1.3765697602106215",
         "-1.3765697602106215",
         "-0.1399449270099509",
         "-0.5729455119699147",
         "-0.6461847468017594",
         "-1.6982102827981376",
         "0.6510132330355481",
         "0.619289338956304",
         "0.6475667601372308",
         "0.527722630366055",
         "0",
         "-0.4061881609442805",
         "-1.0427144524033245",
         "1.0586486013061678",
         "-0.271215192954183",
         "-0.6508868451096114",
         "-0.6965433762216445",
         "-0.6598591252591188",
         "-0.9865583355188464",
         "0.3145743687348744",
         "0.641447329826034",
         "0.2110705099576582",
         "-0.1669858805663918",
         "0.8433238821303266",
         "0.9980653918450086",
         "1.136346590487119",
         "0.6127460918869062",
         "0.1554193720027064",
         "-0.3584056943410075",
         "0.4482486692789624",
         "-0.0541530361073884",
         "0.1333293828916239",
         "-1.3121597027036949",
         "-0.6079936912365157",
         "-1.4358825478452415",
         "-1.3516201124395293",
         "2.3233508524700857",
         "-0.4534134496738906",
         "0.7239227659930262",
         "-0.6707935620440686",
         "-0.3429971702850177",
         "0.7536036127782278",
         "0.0",
         "0.1515737675631937",
         "-0.8381768403531488",
         "1.0534333797153774",
         "-1.3121597027036949",
         "-0.0907425906028355",
         "-1.2029930045453547",
         "-0.7637626158259734",
         "0.0727392967453306",
         "1.2990529320715134",
         "-0.6467079475456318",
         "1.100786007100458",
         "0.8721417773463964",
         "0",
         "-0.5976143046671968",
         "-0.2357022603955158",
         "0",
         "0",
         "0.121379425806881",
         "0",
         "0",
         "0",
         "0",
         "-1.3106072419052568",
         "-1.3106072419052568",
         "0",
         "0",
         "0",
         "-0.2712113790294244",
         "0.3429971702850176",
         "-0.2357022603955158",
         "0",
         "0",
         "1.0",
         "0",
         "0",
         "0",
         "0",
         "-1.0935283241892713",
         "0",
         "-1.3516201124395293",
         "0",
         "2.953122116093094",
         "2.314224233478013",
         "0",
         "0",
         "0",
         "2.3233508524700857",
         "0",
         "-0.830773163432567",
         "0",
         "0",
         "0",
         "-0.1643989873053571",
         "0.5968491905238344",
         "0",
         "0",
         "-0.5970588058172428",
         "0",
         "0",
         "1.1114378604524224",
         "-0.552816232231331",
         "0",
         "0",
         "0",
         "0",
         "0",
         "-0.4330127018922188",
         "-0.5570860145311556",
         "-0.6793662204867575",
         "0",
         "0",
         "0",
         "0",
         "0",
         "-0.4902612396325591",
         "0",
         "1.5666989036012808",
         "0",
         "0",
         "0",
         "0",
         "1.1783766072743584",
         "0",
         "-0.2357022603955158",
         "0",
         "-1.309307341415954",
         "0",
         "0",
         "0",
         "4.242640687119286",
         "0",
         "0",
         "-0.3892494720807614",
         "0",
         "0",
         "-0.2879263002994779",
         "0",
         "0",
         "1",
         "0",
         "0",
         "0",
         "0",
         "0",
         "0",
         "0",
         "0",
         "0",
         "0",
         "0",
         "1",
         "0",
         "0",
         "0",
         "0",
         "0",
         "0",
         "0",
         "0",
         "0",
         "0",
         "0",
         "0",
         "0",
         "0",
         "0",
         "0",
         "0",
         "0",
         "0",
         "0",
         "1",
         "0",
         "0",
         "0",
         "0",
         "0",
         "0",
         "0",
         "0",
         "0",
         "0",
         "1",
         "0",
         "0",
         "0",
         "0",
         "0",
         "0",
         "0",
         "0",
         "0",
         "1",
         "0",
         "0",
         "0",
         "0",
         "0",
         "0",
         "0",
         "0",
         "0",
         "0",
         "0",
         "0",
         "0",
         "0",
         "0",
         "0",
         "0",
         "0",
         "0",
         "0",
         "0",
         "0",
         "0",
         "0",
         "1",
         "0",
         "0",
         "0",
         "0",
         "0",
         "0",
         "0",
         "0",
         "0",
         "0",
         "0",
         "0",
         "0",
         "0",
         "0",
         "0",
         "0",
         "0",
         "0",
         "0",
         "0",
         "0",
         "0",
         "1",
         "1",
         "0",
         "0",
         "0",
         "0",
         "0",
         "0",
         "0",
         "0",
         "0",
         "0",
         "1",
         "0",
         "0",
         "0",
         "0",
         "0",
         "0",
         "0",
         "0",
         "0",
         "0",
         "0",
         "0",
         "0",
         "0",
         "0",
         "0",
         "0",
         "0",
         "0",
         "0",
         "0",
         "0",
         "0",
         "0",
         "0",
         "0",
         "0",
         "0",
         "0",
         "0",
         "0",
         "0",
         "0",
         "0",
         "0",
         "0",
         "0",
         "0",
         "0",
         "0",
         "0",
         "0",
         "0",
         "0",
         "0",
         "0",
         "0",
         "0",
         "0",
         "0",
         "1",
         "0",
         "0",
         "0",
         "0",
         "0",
         "0",
         "0",
         "0",
         "0",
         "0",
         "0",
         "0",
         "0",
         "0",
         "0",
         "0",
         "0",
         "0",
         "0",
         "0",
         "0",
         "1",
         "0",
         "0",
         "0",
         "0",
         "0",
         "0",
         "0",
         "0",
         "0",
         "0",
         "0",
         "0",
         "0",
         "0",
         "0",
         "0",
         "0",
         "0",
         "0",
         "0",
         "0",
         "0",
         "0",
         "0",
         "0",
         "0",
         "0",
         "0",
         "0",
         "0",
         "0",
         "0",
         "0",
         "0",
         "0",
         "0",
         "0",
         "0",
         "0",
         "0",
         "0",
         "0",
         "0",
         "1",
         "0",
         "0",
         "0",
         "1",
         "0",
         "0",
         "0",
         "0",
         "0",
         "0",
         "0",
         "0",
         "0",
         "0",
         "0",
         "0",
         "0",
         "0",
         "0",
         "0",
         "0",
         "0",
         "0",
         "0",
         "0",
         "0",
         "0",
         "0",
         "0",
         "0",
         "0",
         "0",
         "0",
         "0",
         "0",
         "0",
         "0",
         "0",
         "0",
         "0",
         "0",
         "0",
         "0",
         "0",
         "0",
         "0",
         "0",
         "0",
         "0",
         "1",
         "0",
         "0",
         "0",
         "0",
         "0",
         "0",
         "0",
         "0",
         "0",
         "0",
         "0",
         "0",
         "0",
         "0",
         "0",
         "0",
         "0",
         "0",
         "1",
         "0",
         "0",
         "0",
         "0",
         "0",
         "0",
         "0",
         "1",
         "0",
         "0",
         "0",
         "1",
         "0",
         "0",
         "0",
         "0",
         "0",
         "0",
         "0",
         "0",
         "0",
         "0",
         "0",
         "0",
         "0",
         "0",
         "0",
         "0",
         "0",
         "0",
         "0",
         "0",
         "0",
         "0",
         "0",
         "0",
         "0",
         "0",
         "0",
         "0",
         "0",
         "0",
         "0",
         "0",
         "0",
         "0",
         "0",
         "1",
         "0",
         "0",
         "0",
         "0",
         "0",
         "0",
         "0",
         "0",
         "0",
         "0",
         "0",
         "0",
         "0",
         "0",
         "1",
         "1",
         "0",
         "0",
         "0",
         "0",
         "0",
         "0",
         "0",
         "0",
         "0",
         "0",
         "0",
         "1",
         "0",
         "0",
         "0",
         "0",
         "0",
         "0",
         "0",
         "0",
         "0",
         "0",
         "0",
         "0",
         "0",
         "1",
         "0",
         "1",
         "0",
         "0",
         "0",
         "0",
         "0",
         "0",
         "0",
         "0",
         "0",
         "0",
         "0",
         "0",
         "0",
         "0",
         "1",
         "0",
         "0",
         "0",
         "0",
         "0",
         "0",
         "0",
         "0",
         "0",
         "0",
         "0",
         "0",
         "0",
         "0",
         "0",
         "0",
         "0",
         "0",
         "0",
         "0",
         "0",
         "0",
         "0",
         "0",
         "0",
         "0",
         "0",
         "0",
         "0",
         "0",
         "0",
         "0",
         "0",
         "0",
         "0",
         "0",
         "0",
         "0",
         "0",
         "0",
         "0",
         "0",
         "0",
         "0",
         "0",
         "0",
         "1",
         "0",
         "1",
         "0",
         "0",
         "0",
         "0",
         "0",
         "0",
         "0",
         "0",
         "0",
         "0",
         "0",
         "0",
         "0",
         "0",
         "0",
         "0",
         "0",
         "0",
         "0",
         "0",
         "0",
         "0",
         "0",
         "0",
         "0",
         "0",
         "0",
         "0",
         "0",
         "0",
         "1",
         "0",
         "1",
         "0",
         "0",
         "0",
         "0",
         "0",
         "0",
         "0",
         "0",
         "0",
         "0",
         "0",
         "1",
         "1",
         "0",
         "0",
         "0",
         "0",
         "0",
         "0",
         "0",
         "0",
         "0",
         "0",
         "0",
         "0",
         "0",
         "0",
         "0",
         "0",
         "0",
         "0",
         "0",
         "0",
         "0",
         "0",
         "0",
         "0",
         "0",
         "0",
         "0",
         "0",
         "1",
         "0",
         "0",
         "0",
         "0",
         "0",
         "0",
         "0",
         "0",
         "0",
         "0",
         "1",
         "0",
         "1",
         "1",
         "0",
         "0",
         "0",
         "0",
         "0",
         "0",
         "0",
         "1",
         "0",
         "0",
         "0",
         "0",
         "0",
         "1",
         "0",
         "0",
         "1",
         "0",
         "0",
         "0",
         "0",
         "0",
         "0",
         "0",
         "0",
         "0",
         "0",
         "0",
         "0",
         "0",
         "0",
         "0",
         "0",
         "0",
         "0",
         "0",
         "0",
         "1",
         "0",
         "1",
         "0",
         "0",
         "0",
         "0",
         "0",
         "0",
         "0",
         "0",
         "0",
         "0",
         "0",
         "0",
         "0",
         "1",
         "0",
         "0",
         "0",
         "0",
         "0",
         "0",
         "0",
         "0",
         "0",
         "0",
         "0",
         "0",
         "0",
         "0",
         "0",
         "0",
         "0",
         "0",
         "0",
         "0",
         "0",
         "0",
         "0",
         "0",
         "0",
         "1",
         "0",
         "0",
         "0",
         "0",
         "0",
         "0",
         "0",
         "0",
         "0",
         "0",
         "0",
         "0",
         "0",
         "1",
         "0",
         "0",
         "0",
         "0",
         "0",
         "0",
         "0",
         "0",
         "1",
         "0",
         "0",
         "1",
         "0",
         "0",
         "0",
         "0",
         "1",
         "0",
         "1",
         "1",
         "0",
         "0",
         "1",
         "0",
         "0",
         "1",
         "0",
         "0",
         "0",
         "0",
         "0",
         "0",
         "0",
         "0",
         "0",
         "0",
         "0",
         "0",
         "0",
         "0",
         "0",
         "1",
         "0",
         "0",
         "0",
         "0",
         "0",
         "0",
         "0",
         "1",
         "0",
         "0",
         "0",
         "1",
         "0",
         "1",
         "0",
         "0",
         "0",
         "0",
         "0",
         "0",
         "0",
         "0",
         "0",
         "0",
         "1",
         "0",
         "0",
         "0",
         "0",
         "0",
         "0",
         "0",
         "0",
         "0",
         "0",
         "0",
         "0",
         "1",
         "0",
         "0",
         "0",
         "0",
         "0",
         "0",
         "0",
         "0",
         "0",
         "0",
         "0",
         "0",
         "0",
         "0",
         "0",
         "0",
         "0",
         "0",
         "0",
         "0",
         "0",
         "0",
         "0",
         "0",
         "0",
         "0",
         "0",
         "0",
         "0",
         "0",
         "0",
         "0",
         "0",
         "0",
         "0",
         "0",
         "0",
         "0",
         "0",
         "0",
         "0",
         "0",
         "0",
         "0",
         "0",
         "1",
         "0",
         "1",
         "0",
         "1",
         "0",
         "0",
         "0",
         "0",
         "0",
         "0",
         "0",
         "0",
         "0",
         "0",
         "0",
         "0",
         "0",
         "0",
         "0",
         "0",
         "0",
         "0",
         "0",
         "0",
         "0",
         "0",
         "0",
         "0",
         "0",
         "0",
         "0",
         "0",
         "0",
         "0",
         "1",
         "0",
         "1",
         "0",
         "0",
         "0",
         "0",
         "0",
         "0",
         "0",
         "0",
         "0",
         "0",
         "0",
         "0",
         "0",
         "0",
         "0",
         "0",
         "0",
         "0",
         "0",
         "0",
         "0",
         "1",
         "0",
         "0",
         "0",
         "0",
         "0",
         "0",
         "0",
         "0",
         "0",
         "0",
         "0",
         "0",
         "0",
         "0",
         "0",
         "0",
         "0",
         "0",
         "0",
         "0",
         "0",
         "0",
         "0",
         "0",
         "0",
         "0",
         "0",
         "0",
         "0",
         "0",
         "0",
         "0",
         "0",
         "0",
         "0",
         "0",
         "0",
         "0",
         "0",
         "0",
         "0",
         "0",
         "0",
         "0",
         "0",
         "0",
         "0",
         "0",
         "1",
         "0",
         "0",
         "0",
         "0",
         "0",
         "0",
         "0",
         "0",
         "0",
         "0",
         "0",
         "0",
         "0",
         "0",
         "1",
         "0",
         "0",
         "0",
         "0",
         "0",
         "0",
         "0",
         "0",
         "0",
         "0",
         "0",
         "1",
         "0",
         "0",
         "0",
         "0",
         "0",
         "0",
         "0",
         "0",
         "0",
         "0",
         "0",
         "0",
         "0",
         "0",
         "0",
         "0",
         "0",
         "0",
         "0",
         "1",
         "0",
         "0",
         "0",
         "1",
         "0",
         "0",
         "0",
         "0",
         "0",
         "0",
         "0",
         "0",
         "1",
         "0",
         "0",
         "0",
         "0",
         "1",
         "0",
         "0",
         "0",
         "0",
         "0",
         "0",
         "0",
         "0",
         "0",
         "0",
         "0",
         "0",
         "0",
         "0",
         "0",
         "1",
         "0",
         "0",
         "0",
         "0",
         "0",
         "0",
         "0",
         "0",
         "0",
         "1",
         "0",
         "0",
         "0",
         "0",
         "0",
         "0",
         "0",
         "0",
         "0",
         "0",
         "0",
         "1",
         "0",
         "0",
         "0",
         "0",
         "0",
         "0",
         "0",
         "0",
         "0",
         "0",
         "0",
         "0",
         "0",
         "1",
         "0",
         "0",
         "0",
         "0",
         "0",
         "0",
         "0",
         "0",
         "0",
         "0",
         "0",
         "0",
         "0",
         "0",
         "0",
         "0",
         "0",
         "0",
         "0",
         "0",
         "0",
         "0",
         "0",
         "0",
         "0",
         "0",
         "1",
         "0",
         "0",
         "0",
         "0",
         "0",
         "0",
         "0",
         "1",
         "0",
         "0",
         "0",
         "0",
         "0",
         "0",
         "1",
         "0",
         "0",
         "0",
         "0",
         "0",
         "0",
         "1",
         "0",
         "0",
         "0",
         "0",
         "0",
         "0",
         "0",
         "1",
         "0",
         "0",
         "0",
         "0",
         "0",
         "0",
         "0",
         "1",
         "1",
         "0",
         "1",
         "0",
         "0",
         "0",
         "0",
         "0",
         "0",
         "0",
         "0",
         "0",
         "0",
         "0",
         "0",
         "0",
         "0",
         "0",
         "0",
         "0",
         "0",
         "0",
         "0",
         "0",
         "0",
         "0",
         "0",
         "0",
         "0",
         "0",
         "1",
         "0",
         "0",
         "0",
         "0",
         "0",
         "0",
         "0",
         "0",
         "0",
         "0",
         "0",
         "0",
         "0",
         "0",
         "0",
         "0",
         "0",
         "0",
         "0",
         "0",
         "0",
         "0",
         "0",
         "0",
         "0",
         "1",
         "0",
         "0",
         "0",
         "0",
         "0",
         "0",
         "0",
         "0",
         "0",
         "0",
         "0",
         "0",
         "0",
         "0",
         "0",
         "0",
         "0",
         "0",
         "0",
         "0",
         "0",
         "0",
         "0",
         "0",
         "0",
         "0",
         "0",
         "0",
         "0",
         "0",
         "1",
         "0",
         "0",
         "0",
         "0",
         "0",
         "0",
         "1",
         "0",
         "0",
         "0",
         "0",
         "0",
         "0",
         "0",
         "0",
         "0",
         "0",
         "0",
         "0",
         "0",
         "0",
         "1",
         "0",
         "0",
         "1",
         "0",
         "0",
         "0",
         "0",
         "0",
         "0",
         "0",
         "0",
         "0",
         "0",
         "0",
         "0",
         "0",
         "0",
         "0",
         "0",
         "0",
         "0",
         "0",
         "0",
         "0",
         "0",
         "0",
         "0",
         "0",
         "0",
         "0",
         "0",
         "1",
         "0",
         "0",
         "0",
         "0",
         "0",
         "0",
         "0",
         "0",
         "0",
         "0",
         "0",
         "0",
         "0",
         "0",
         "0",
         "0",
         "0",
         "0",
         "0",
         "0",
         "0",
         "0",
         "0",
         "0",
         "1",
         "0",
         "0",
         "0",
         "0",
         "0",
         "0",
         "0",
         "0",
         "0",
         "0",
         "0",
         "0",
         "0",
         "0",
         "0",
         "0",
         "0",
         "0",
         "1",
         "0",
         "0",
         "0",
         "0",
         "0",
         "0",
         "0",
         "0",
         "0",
         "1",
         "0",
         "1",
         "0",
         "0",
         "0",
         "0",
         "0",
         "1",
         "0",
         "1",
         "0",
         "0",
         "0",
         "0",
         "1",
         "0",
         "0",
         "0",
         "0",
         "0",
         "0",
         "0",
         "0",
         "0",
         "0",
         "0",
         "0",
         "0",
         "0",
         "0",
         "0",
         "0",
         "0",
         "0",
         "0",
         "0",
         "0",
         "0",
         "0",
         "0",
         "0",
         "0",
         "0",
         "0",
         "0",
         "1",
         "0",
         "0",
         "0",
         "0",
         "0",
         "0",
         "0",
         "0",
         "0",
         "0",
         "0",
         "0",
         "1",
         "0",
         "0",
         "0",
         "0",
         "0",
         "0",
         "0",
         "0",
         "1",
         "0",
         "0",
         "0",
         "1",
         "0",
         "0",
         "0",
         "0",
         "1",
         "0",
         "0",
         "0",
         "0",
         "0",
         "0",
         "0",
         "1",
         "0",
         "0",
         "0",
         "0",
         "0",
         "0",
         "0",
         "0",
         "0",
         "0",
         "0",
         "0",
         "0",
         "0",
         "0",
         "0",
         "0",
         "0",
         "0",
         "0",
         "0",
         "0",
         "0",
         "0",
         "0",
         "1",
         "0",
         "1",
         "0",
         "0",
         "0",
         "0",
         "0",
         "0",
         "0",
         "0",
         "0",
         "0",
         "0",
         "0",
         "0",
         "1",
         "0",
         "0",
         "0",
         "0",
         "0",
         "0",
         "0",
         "0",
         "0",
         "0",
         "1",
         "0",
         "0",
         "0",
         "0",
         "0",
         "0",
         "0",
         "0",
         "0",
         "0",
         "0",
         "0",
         "0",
         "0",
         "0",
         "0",
         "0",
         "0",
         "0",
         "0",
         "0",
         "0",
         "0",
         "0",
         "0",
         "0",
         "0",
         "0",
         "0",
         "0",
         "0",
         "0",
         "0",
         "0",
         "0",
         "0",
         "0",
         "0",
         "0",
         "0",
         "0",
         "0",
         "0",
         "0",
         "0",
         "0",
         "0",
         "1",
         "0",
         "0",
         "0",
         "0",
         "0",
         "0",
         "0",
         "0",
         "0",
         "0",
         "0",
         "0",
         "1",
         "0",
         "0",
         "0",
         "0",
         "0",
         "1",
         "0",
         "0",
         "0",
         "0",
         "0",
         "0",
         "0",
         "0",
         "0",
         "0",
         "1",
         "0",
         "0",
         "0",
         "0",
         "0",
         "0",
         "1",
         "0",
         "0",
         "0",
         "1",
         "0",
         "1",
         "0",
         "0",
         "0",
         "0",
         "0",
         "0",
         "0",
         "0",
         "0",
         "0",
         "0",
         "0",
         "0",
         "0",
         "0",
         "0",
         "0",
         "0",
         "0",
         "0",
         "0",
         "0",
         "0",
         "0",
         "0",
         "0",
         "0",
         "0",
         "0",
         "0",
         "0",
         "0",
         "0",
         "0",
         "0",
         "0",
         "0",
         "0",
         "0",
         "0",
         "0",
         "0",
         "0",
         "0",
         "0",
         "0",
         "0",
         "0",
         "0",
         "0",
         "0",
         "0",
         "1",
         "1",
         "0",
         "0",
         "0",
         "0",
         "0",
         "0",
         "0",
         "0",
         "0",
         "0",
         "0",
         "0",
         "0",
         "0",
         "0",
         "0",
         "0",
         "0",
         "0",
         "0",
         "0",
         "0",
         "0",
         "0",
         "0",
         "0",
         "0",
         "0",
         "0",
         "0",
         "0",
         "1",
         "0",
         "0",
         "0",
         "0",
         "0",
         "0",
         "1",
         "0",
         "0",
         "0",
         "0",
         "0",
         "0",
         "1",
         "0",
         "0",
         "0",
         "0",
         "0",
         "0",
         "0",
         "0",
         "0",
         "0",
         "0",
         "0",
         "0",
         "0",
         "0",
         "0",
         "0",
         "0",
         "0",
         "0",
         "0",
         "0",
         "0",
         "0",
         "0",
         "0",
         "0",
         "0",
         "0",
         "0",
         "0",
         "1",
         "0",
         "0",
         "0",
         "0",
         "0",
         "0",
         "0",
         "0",
         "0",
         "0",
         "0",
         "0",
         "0",
         "0",
         "0",
         "0",
         "0",
         "0",
         "0",
         "0",
         "0",
         "0",
         "0",
         "0",
         "0",
         "0",
         "0",
         "0",
         "0",
         "0",
         "0",
         "0",
         "0",
         "0",
         "0",
         "0",
         "0",
         "0",
         "0",
         "0",
         "0",
         "0",
         "0",
         "1",
         "0",
         "0",
         "0",
         "0",
         "0",
         "0",
         "0",
         "0",
         "0",
         "0",
         "0",
         "0",
         "0",
         "0",
         "0",
         "0",
         "0",
         "1",
         "0",
         "0",
         "0",
         "0",
         "0",
         "0",
         "1",
         "0",
         "0",
         "0",
         "0",
         "0",
         "0",
         "0",
         "0",
         "0",
         "0",
         "0",
         "0",
         "1",
         "0",
         "0",
         "0",
         "0",
         "0",
         "0",
         "0",
         "0",
         "1",
         "0",
         "0",
         "0",
         "0",
         "0",
         "0",
         "0",
         "0",
         "0",
         "0",
         "0",
         "0",
         "0",
         "0",
         "0",
         "0",
         "1",
         "0",
         "0",
         "0",
         "0",
         "0",
         "0",
         "0",
         "0",
         "0",
         "0",
         "0",
         "0",
         "0",
         "0",
         "0",
         "1",
         "0",
         "0",
         "0",
         "0",
         "0",
         "1",
         "0",
         "0",
         "0",
         "0",
         "0",
         "1",
         "0",
         "0",
         "0",
         "1",
         "0",
         "0",
         "0",
         "0",
         "0",
         "0",
         "0",
         "1",
         "0",
         "0",
         "0",
         "0",
         "0",
         "0",
         "0",
         "0",
         "0",
         "0",
         "0",
         "0",
         "0",
         "0",
         "0",
         "0",
         "0",
         "0",
         "0",
         "0",
         "0",
         "0",
         "0",
         "0",
         "0",
         "0",
         "0",
         "0",
         "1",
         "0",
         "0",
         "0",
         "0",
         "0",
         "0",
         "0",
         "0",
         "0",
         "0",
         "0",
         "0",
         "0",
         "0",
         "0",
         "0",
         "0",
         "0",
         "0",
         "0",
         "0",
         "0",
         "0",
         "0",
         "0",
         "0",
         "0",
         "0",
         "0",
         "0",
         "0",
         "0",
         "0",
         "0",
         "0",
         "0",
         "0",
         "0",
         "0",
         "0",
         "0",
         "0",
         "0",
         "0",
         "0",
         "0",
         "0",
         "0",
         "0",
         "0",
         "0",
         "1",
         "0",
         "0",
         "0",
         "0",
         "0",
         "0",
         "0",
         "0",
         "0",
         "0",
         "0",
         "1",
         "0",
         "0",
         "0",
         "1",
         "0",
         "0",
         "0",
         "0",
         "0",
         "0",
         "0",
         "0",
         "0",
         "0",
         "0",
         "0",
         "0",
         "1",
         "0",
         "0",
         "0",
         "0",
         "0",
         "0",
         "0",
         "0",
         "0",
         "0",
         "0",
         "0",
         "0",
         "0",
         "0",
         "0",
         "0",
         "0",
         "0",
         "0",
         "0",
         "0",
         "0",
         "0",
         "0",
         "0",
         "0",
         "0",
         "0",
         "0",
         "0",
         "1",
         "0",
         "0",
         "0",
         "0",
         "0",
         "1",
         "0",
         "1",
         "1",
         "0",
         "0",
         "0",
         "0",
         "0",
         "0",
         "0",
         "0",
         "0",
         "0",
         "0",
         "0",
         "0",
         "0",
         "0",
         "0",
         "0",
         "0",
         "0",
         "1",
         "0",
         "0",
         "0",
         "0",
         "0",
         "0",
         "0",
         "0",
         "0",
         "0",
         "0",
         "0",
         "0",
         "0",
         "1",
         "0",
         "0",
         "0",
         "0",
         "0",
         "0",
         "0",
         "0",
         "0",
         "0",
         "0",
         "0",
         "1",
         "0",
         "0",
         "0",
         "0",
         "0",
         "0",
         "0",
         "1",
         "0",
         "0",
         "0",
         "0",
         "0",
         "0",
         "0",
         "1",
         "0",
         "0",
         "0",
         "0",
         "0",
         "0",
         "0",
         "0",
         "0",
         "0",
         "0",
         "0",
         "1",
         "1",
         "0",
         "0",
         "0",
         "0",
         "1",
         "0",
         "0",
         "1",
         "0",
         "0",
         "0",
         "0",
         "0",
         "0",
         "0",
         "0",
         "0",
         "0",
         "0",
         "0",
         "0",
         "0",
         "0",
         "0",
         "0",
         "0",
         "0",
         "0",
         "1",
         "0",
         "0",
         "0",
         "0",
         "0",
         "0",
         "0",
         "0",
         "0",
         "0",
         "0",
         "0",
         "0",
         "0",
         "0",
         "0",
         "0",
         "0",
         "0",
         "0",
         "0",
         "0",
         "0",
         "0",
         "0",
         "0",
         "0.5570860145311558",
         "0.6509471112474217",
         "0.3311631713732338",
         "0.1679570085080286",
         "0.8501999965992003",
         "0.8078245025332118",
         "-1.6098832925562396",
         "-1.539749295467131",
         "-0.3161843966235562",
         "1.341966625090823",
         "2.334721659206816",
         "1.5628111899443713",
         "-0.4186002278504133",
         null,
         "-0.2706804802871117",
         "1.6148437176739587",
         "0.1101897300604621",
         "-0.9720973242358762",
         "-1.2336990618122583",
         "-1.4358825478452415",
         "1.0307560718108952",
         "0.7239227659930262",
         "1.0396954254731925",
         "-1.3867504905630723",
         "-0.3584056943410075",
         "-0.3429971702850177",
         "-0.1906925178491185",
         "-0.9381941874331412",
         "-0.8381768403531488",
         "-0.4534134496738906",
         "0",
         "0.2357022603955156",
         "0.9166892035444536"
        ]
       ],
       "shape": {
        "columns": 2225,
        "rows": 5
       }
      },
      "text/html": [
       "<div>\n",
       "<style scoped>\n",
       "    .dataframe tbody tr th:only-of-type {\n",
       "        vertical-align: middle;\n",
       "    }\n",
       "\n",
       "    .dataframe tbody tr th {\n",
       "        vertical-align: top;\n",
       "    }\n",
       "\n",
       "    .dataframe thead th {\n",
       "        text-align: right;\n",
       "    }\n",
       "</style>\n",
       "<table border=\"1\" class=\"dataframe\">\n",
       "  <thead>\n",
       "    <tr style=\"text-align: right;\">\n",
       "      <th></th>\n",
       "      <th>Compound Name</th>\n",
       "      <th>ADME MDCK(WT) Permeability;Mean;A to B Papp (10^-6 cm/s);(Num)</th>\n",
       "      <th>custDesc_ADME MDCK(WT) Permeability;Mean;A to B Recovery (%)</th>\n",
       "      <th>custDesc_ADME MDCK(WT) Permeability;Mean;B to A Papp (10^-6 cm/s);(Num)</th>\n",
       "      <th>rd_MaxAbsEStateIndex</th>\n",
       "      <th>rd_MaxEStateIndex</th>\n",
       "      <th>rd_MinAbsEStateIndex</th>\n",
       "      <th>rd_MinEStateIndex</th>\n",
       "      <th>rd_qed</th>\n",
       "      <th>rd_SPS</th>\n",
       "      <th>...</th>\n",
       "      <th>cx_topology-analyser_chiralCenterCount</th>\n",
       "      <th>cx_topology-analyser_fsp3</th>\n",
       "      <th>cx_topology-analyser_fusedAliphaticRingCount</th>\n",
       "      <th>cx_topology-analyser_fusedAromaticRingCount</th>\n",
       "      <th>cx_topology-analyser_fusedRingCount</th>\n",
       "      <th>cx_topology-analyser_heteroRingCount</th>\n",
       "      <th>cx_topology-analyser_heteroAromaticRingCount</th>\n",
       "      <th>cx_topology-analyser_largestRingSize</th>\n",
       "      <th>cx_topology-analyser_largestRingSystemSize</th>\n",
       "      <th>cx_topology-analyser_rotatableBondCount</th>\n",
       "    </tr>\n",
       "  </thead>\n",
       "  <tbody>\n",
       "    <tr>\n",
       "      <th>0</th>\n",
       "      <td>KT-0001674</td>\n",
       "      <td>0.298013</td>\n",
       "      <td>-0.012508</td>\n",
       "      <td>-0.449259</td>\n",
       "      <td>1.820147</td>\n",
       "      <td>1.820147</td>\n",
       "      <td>0.753577</td>\n",
       "      <td>1.248948</td>\n",
       "      <td>0.347800</td>\n",
       "      <td>-0.560154</td>\n",
       "      <td>...</td>\n",
       "      <td>-0.766791</td>\n",
       "      <td>0.171082</td>\n",
       "      <td>-0.342997</td>\n",
       "      <td>-0.190693</td>\n",
       "      <td>-0.938194</td>\n",
       "      <td>-0.838177</td>\n",
       "      <td>-1.410620</td>\n",
       "      <td>0</td>\n",
       "      <td>0.235702</td>\n",
       "      <td>-0.397809</td>\n",
       "    </tr>\n",
       "    <tr>\n",
       "      <th>1</th>\n",
       "      <td>KT-0001675</td>\n",
       "      <td>0.767547</td>\n",
       "      <td>0.034798</td>\n",
       "      <td>1.291708</td>\n",
       "      <td>1.808079</td>\n",
       "      <td>1.808079</td>\n",
       "      <td>2.133891</td>\n",
       "      <td>1.271090</td>\n",
       "      <td>0.299537</td>\n",
       "      <td>-0.447405</td>\n",
       "      <td>...</td>\n",
       "      <td>-0.766791</td>\n",
       "      <td>0.737510</td>\n",
       "      <td>-0.342997</td>\n",
       "      <td>-0.190693</td>\n",
       "      <td>-0.938194</td>\n",
       "      <td>-0.838177</td>\n",
       "      <td>-1.410620</td>\n",
       "      <td>0</td>\n",
       "      <td>0.235702</td>\n",
       "      <td>-0.178726</td>\n",
       "    </tr>\n",
       "    <tr>\n",
       "      <th>2</th>\n",
       "      <td>KT-0001676</td>\n",
       "      <td>0.186651</td>\n",
       "      <td>-2.419224</td>\n",
       "      <td>-0.765732</td>\n",
       "      <td>-1.339989</td>\n",
       "      <td>-1.339989</td>\n",
       "      <td>-0.372173</td>\n",
       "      <td>-0.569409</td>\n",
       "      <td>-0.658017</td>\n",
       "      <td>-1.698210</td>\n",
       "      <td>...</td>\n",
       "      <td>-1.386750</td>\n",
       "      <td>-0.142262</td>\n",
       "      <td>-0.342997</td>\n",
       "      <td>-0.190693</td>\n",
       "      <td>-0.938194</td>\n",
       "      <td>-0.838177</td>\n",
       "      <td>-0.453413</td>\n",
       "      <td>0</td>\n",
       "      <td>0.235702</td>\n",
       "      <td>0.916689</td>\n",
       "    </tr>\n",
       "    <tr>\n",
       "      <th>3</th>\n",
       "      <td>KT-0001685</td>\n",
       "      <td>0.482284</td>\n",
       "      <td>0.250439</td>\n",
       "      <td>-0.514664</td>\n",
       "      <td>1.794744</td>\n",
       "      <td>1.794744</td>\n",
       "      <td>0.092685</td>\n",
       "      <td>1.236181</td>\n",
       "      <td>0.308173</td>\n",
       "      <td>-0.560154</td>\n",
       "      <td>...</td>\n",
       "      <td>-0.766791</td>\n",
       "      <td>-0.129833</td>\n",
       "      <td>-0.342997</td>\n",
       "      <td>-0.190693</td>\n",
       "      <td>-0.938194</td>\n",
       "      <td>-0.838177</td>\n",
       "      <td>-1.410620</td>\n",
       "      <td>0</td>\n",
       "      <td>0.235702</td>\n",
       "      <td>-0.397809</td>\n",
       "    </tr>\n",
       "    <tr>\n",
       "      <th>4</th>\n",
       "      <td>KT-0001686</td>\n",
       "      <td>0.642138</td>\n",
       "      <td>-2.476299</td>\n",
       "      <td>-0.667554</td>\n",
       "      <td>-1.376570</td>\n",
       "      <td>-1.376570</td>\n",
       "      <td>-0.139945</td>\n",
       "      <td>-0.572946</td>\n",
       "      <td>-0.646185</td>\n",
       "      <td>-1.698210</td>\n",
       "      <td>...</td>\n",
       "      <td>-1.386750</td>\n",
       "      <td>-0.358406</td>\n",
       "      <td>-0.342997</td>\n",
       "      <td>-0.190693</td>\n",
       "      <td>-0.938194</td>\n",
       "      <td>-0.838177</td>\n",
       "      <td>-0.453413</td>\n",
       "      <td>0</td>\n",
       "      <td>0.235702</td>\n",
       "      <td>0.916689</td>\n",
       "    </tr>\n",
       "  </tbody>\n",
       "</table>\n",
       "<p>5 rows × 2225 columns</p>\n",
       "</div>"
      ],
      "text/plain": [
       "  Compound Name  \\\n",
       "0    KT-0001674   \n",
       "1    KT-0001675   \n",
       "2    KT-0001676   \n",
       "3    KT-0001685   \n",
       "4    KT-0001686   \n",
       "\n",
       "   ADME MDCK(WT) Permeability;Mean;A to B Papp (10^-6 cm/s);(Num)  \\\n",
       "0                                           0.298013                \n",
       "1                                           0.767547                \n",
       "2                                           0.186651                \n",
       "3                                           0.482284                \n",
       "4                                           0.642138                \n",
       "\n",
       "   custDesc_ADME MDCK(WT) Permeability;Mean;A to B Recovery (%)  \\\n",
       "0                                          -0.012508              \n",
       "1                                           0.034798              \n",
       "2                                          -2.419224              \n",
       "3                                           0.250439              \n",
       "4                                          -2.476299              \n",
       "\n",
       "   custDesc_ADME MDCK(WT) Permeability;Mean;B to A Papp (10^-6 cm/s);(Num)  \\\n",
       "0                                          -0.449259                         \n",
       "1                                           1.291708                         \n",
       "2                                          -0.765732                         \n",
       "3                                          -0.514664                         \n",
       "4                                          -0.667554                         \n",
       "\n",
       "   rd_MaxAbsEStateIndex  rd_MaxEStateIndex  rd_MinAbsEStateIndex  \\\n",
       "0              1.820147           1.820147              0.753577   \n",
       "1              1.808079           1.808079              2.133891   \n",
       "2             -1.339989          -1.339989             -0.372173   \n",
       "3              1.794744           1.794744              0.092685   \n",
       "4             -1.376570          -1.376570             -0.139945   \n",
       "\n",
       "   rd_MinEStateIndex    rd_qed    rd_SPS  ...  \\\n",
       "0           1.248948  0.347800 -0.560154  ...   \n",
       "1           1.271090  0.299537 -0.447405  ...   \n",
       "2          -0.569409 -0.658017 -1.698210  ...   \n",
       "3           1.236181  0.308173 -0.560154  ...   \n",
       "4          -0.572946 -0.646185 -1.698210  ...   \n",
       "\n",
       "   cx_topology-analyser_chiralCenterCount  cx_topology-analyser_fsp3  \\\n",
       "0                               -0.766791                   0.171082   \n",
       "1                               -0.766791                   0.737510   \n",
       "2                               -1.386750                  -0.142262   \n",
       "3                               -0.766791                  -0.129833   \n",
       "4                               -1.386750                  -0.358406   \n",
       "\n",
       "   cx_topology-analyser_fusedAliphaticRingCount  \\\n",
       "0                                     -0.342997   \n",
       "1                                     -0.342997   \n",
       "2                                     -0.342997   \n",
       "3                                     -0.342997   \n",
       "4                                     -0.342997   \n",
       "\n",
       "   cx_topology-analyser_fusedAromaticRingCount  \\\n",
       "0                                    -0.190693   \n",
       "1                                    -0.190693   \n",
       "2                                    -0.190693   \n",
       "3                                    -0.190693   \n",
       "4                                    -0.190693   \n",
       "\n",
       "   cx_topology-analyser_fusedRingCount  cx_topology-analyser_heteroRingCount  \\\n",
       "0                            -0.938194                             -0.838177   \n",
       "1                            -0.938194                             -0.838177   \n",
       "2                            -0.938194                             -0.838177   \n",
       "3                            -0.938194                             -0.838177   \n",
       "4                            -0.938194                             -0.838177   \n",
       "\n",
       "   cx_topology-analyser_heteroAromaticRingCount  \\\n",
       "0                                     -1.410620   \n",
       "1                                     -1.410620   \n",
       "2                                     -0.453413   \n",
       "3                                     -1.410620   \n",
       "4                                     -0.453413   \n",
       "\n",
       "   cx_topology-analyser_largestRingSize  \\\n",
       "0                                     0   \n",
       "1                                     0   \n",
       "2                                     0   \n",
       "3                                     0   \n",
       "4                                     0   \n",
       "\n",
       "   cx_topology-analyser_largestRingSystemSize  \\\n",
       "0                                    0.235702   \n",
       "1                                    0.235702   \n",
       "2                                    0.235702   \n",
       "3                                    0.235702   \n",
       "4                                    0.235702   \n",
       "\n",
       "   cx_topology-analyser_rotatableBondCount  \n",
       "0                                -0.397809  \n",
       "1                                -0.178726  \n",
       "2                                 0.916689  \n",
       "3                                -0.397809  \n",
       "4                                 0.916689  \n",
       "\n",
       "[5 rows x 2225 columns]"
      ]
     },
     "execution_count": 12,
     "metadata": {},
     "output_type": "execute_result"
    }
   ],
   "source": [
    "## load all descriptor tables and merge together\n",
    "dataTable_merged = dataTable_y\n",
    "\n",
    "for descType in descType_list:\n",
    "    dataTable = pd.read_csv(f'{desc_folder}/descriptors_{descType}{norm}.csv') \n",
    "    print(f\"\\tThere are total <{dataTable.shape[1]-1}> {descType} descriptors for <{dataTable.shape[0]}> molecules\")\n",
    "    dataTable_merged = dataTable_merged.merge(right=dataTable, on='Compound Name', how='left')\n",
    "print(f\"\\tThe merged data table has <{dataTable_merged.shape[0]}> molecules and <{dataTable_merged.shape[1]-1}> descriptors\")\n",
    "dataTable_merged.head(5)"
   ]
  },
  {
   "cell_type": "code",
   "execution_count": 13,
   "metadata": {},
   "outputs": [
    {
     "name": "stdout",
     "output_type": "stream",
     "text": [
      "(38, 2223) (38, 1)\n"
     ]
    }
   ],
   "source": [
    "## get descriptors (X)\n",
    "X = dataTable_merged.iloc[:, 2:]\n",
    "y = dataTable_merged.iloc[:, 1:2]\n",
    "print(X.shape, y.shape)"
   ]
  },
  {
   "cell_type": "markdown",
   "metadata": {},
   "source": [
    "##### Variance-based Filter"
   ]
  },
  {
   "cell_type": "code",
   "execution_count": 14,
   "metadata": {},
   "outputs": [
    {
     "name": "stdout",
     "output_type": "stream",
     "text": [
      "\tIn total <2223> desc, there are <937> selected, cutoff is 0.0001.\n"
     ]
    },
    {
     "name": "stderr",
     "output_type": "stream",
     "text": [
      "/mnt/data0/software/anaconda3/envs/ml/lib/python3.9/site-packages/sklearn/feature_selection/_variance_threshold.py:112: RuntimeWarning: Degrees of freedom <= 0 for slice.\n",
      "  self.variances_ = np.nanvar(X, axis=0)\n"
     ]
    },
    {
     "data": {
      "application/vnd.microsoft.datawrangler.viewer.v0+json": {
       "columns": [
        {
         "name": "index",
         "rawType": "int64",
         "type": "integer"
        },
        {
         "name": "Descriptor",
         "rawType": "object",
         "type": "string"
        },
        {
         "name": "Variance",
         "rawType": "object",
         "type": "unknown"
        },
        {
         "name": "Select",
         "rawType": "object",
         "type": "string"
        }
       ],
       "conversionMethod": "pd.DataFrame",
       "ref": "ea0fba0d-2de9-4b6d-85bf-7166cfcc4481",
       "rows": [
        [
         "0",
         "custDesc_ADME MDCK(WT) Permeability;Mean;A to B Recovery (%)",
         "0.9999999999999997",
         "Yes"
        ],
        [
         "1",
         "custDesc_ADME MDCK(WT) Permeability;Mean;B to A Papp (10^-6 cm/s);(Num)",
         "1.0000000000000002",
         "Yes"
        ],
        [
         "2",
         "rd_MaxAbsEStateIndex",
         "1.0000000000000004",
         "Yes"
        ]
       ],
       "shape": {
        "columns": 3,
        "rows": 3
       }
      },
      "text/html": [
       "<div>\n",
       "<style scoped>\n",
       "    .dataframe tbody tr th:only-of-type {\n",
       "        vertical-align: middle;\n",
       "    }\n",
       "\n",
       "    .dataframe tbody tr th {\n",
       "        vertical-align: top;\n",
       "    }\n",
       "\n",
       "    .dataframe thead th {\n",
       "        text-align: right;\n",
       "    }\n",
       "</style>\n",
       "<table border=\"1\" class=\"dataframe\">\n",
       "  <thead>\n",
       "    <tr style=\"text-align: right;\">\n",
       "      <th></th>\n",
       "      <th>Descriptor</th>\n",
       "      <th>Variance</th>\n",
       "      <th>Select</th>\n",
       "    </tr>\n",
       "  </thead>\n",
       "  <tbody>\n",
       "    <tr>\n",
       "      <th>0</th>\n",
       "      <td>custDesc_ADME MDCK(WT) Permeability;Mean;A to ...</td>\n",
       "      <td>1.0</td>\n",
       "      <td>Yes</td>\n",
       "    </tr>\n",
       "    <tr>\n",
       "      <th>1</th>\n",
       "      <td>custDesc_ADME MDCK(WT) Permeability;Mean;B to ...</td>\n",
       "      <td>1.0</td>\n",
       "      <td>Yes</td>\n",
       "    </tr>\n",
       "    <tr>\n",
       "      <th>2</th>\n",
       "      <td>rd_MaxAbsEStateIndex</td>\n",
       "      <td>1.0</td>\n",
       "      <td>Yes</td>\n",
       "    </tr>\n",
       "  </tbody>\n",
       "</table>\n",
       "</div>"
      ],
      "text/plain": [
       "                                          Descriptor Variance Select\n",
       "0  custDesc_ADME MDCK(WT) Permeability;Mean;A to ...      1.0    Yes\n",
       "1  custDesc_ADME MDCK(WT) Permeability;Mean;B to ...      1.0    Yes\n",
       "2                               rd_MaxAbsEStateIndex      1.0    Yes"
      ]
     },
     "execution_count": 14,
     "metadata": {},
     "output_type": "execute_result"
    }
   ],
   "source": [
    "def VarianceFilter(Descriptors, threshold=0):\n",
    "    ## Removing features with no variance\n",
    "    from sklearn.feature_selection import VarianceThreshold\n",
    "    variance_filter = VarianceThreshold(threshold=threshold)\n",
    "    variance_filter.fit_transform(Descriptors)\n",
    "\n",
    "    ## generate variance table\n",
    "    desc_list = list(Descriptors.columns)\n",
    "    variance_list = variance_filter.variances_.tolist()\n",
    "    variance_dict, desc_sele = {}, []\n",
    "    for i in range(len(desc_list)):\n",
    "        variance_dict[i] = {}\n",
    "        variance_dict[i]['Descriptor'] = desc_list[i]\n",
    "        variance_dict[i]['Variance'] = variance_list[i]\n",
    "        if variance_list[i] > threshold:\n",
    "            variance_dict[i]['Select'] = 'Yes'\n",
    "            desc_sele.append(desc_list[i])\n",
    "        else:\n",
    "            variance_dict[i]['Select'] = 'No'\n",
    "    variance_table = pd.DataFrame.from_dict(variance_dict).T\n",
    "    ## print results\n",
    "    print(f\"\\tIn total <{len(desc_list)}> desc, there are <{len(desc_sele)}> selected, cutoff is {threshold}.\")\n",
    "    return desc_sele, variance_table\n",
    "\n",
    "##\n",
    "desc_sele, variance_table = VarianceFilter(Descriptors=X, threshold=0.0001)\n",
    "variance_table.head(3)"
   ]
  },
  {
   "cell_type": "code",
   "execution_count": 16,
   "metadata": {},
   "outputs": [
    {
     "ename": "ValueError",
     "evalue": "Input X contains NaN.\nLasso does not accept missing values encoded as NaN natively. For supervised learning, you might want to consider sklearn.ensemble.HistGradientBoostingClassifier and Regressor which accept missing values encoded as NaNs natively. Alternatively, it is possible to preprocess the data, for instance by using an imputer transformer in a pipeline or drop samples with missing values. See https://scikit-learn.org/stable/modules/impute.html You can find a list of all estimators that handle NaN values at the following page: https://scikit-learn.org/stable/modules/impute.html#estimators-that-handle-nan-values",
     "output_type": "error",
     "traceback": [
      "\u001b[0;31m---------------------------------------------------------------------------\u001b[0m",
      "\u001b[0;31mValueError\u001b[0m                                Traceback (most recent call last)",
      "Cell \u001b[0;32mIn[16], line 15\u001b[0m\n\u001b[1;32m     12\u001b[0m     fs_model \u001b[38;5;241m=\u001b[39m SelectFromModel(estimator\u001b[38;5;241m=\u001b[39mestimator, prefit\u001b[38;5;241m=\u001b[39m\u001b[38;5;28;01mTrue\u001b[39;00m)\n\u001b[1;32m     13\u001b[0m     \u001b[38;5;28;01mreturn\u001b[39;00m fs_model\n\u001b[0;32m---> 15\u001b[0m fs_model \u001b[38;5;241m=\u001b[39m \u001b[43mregularization_based_selection\u001b[49m\u001b[43m(\u001b[49m\u001b[43mX\u001b[49m\u001b[38;5;241;43m=\u001b[39;49m\u001b[43mX\u001b[49m\u001b[43m,\u001b[49m\u001b[43m \u001b[49m\u001b[43my\u001b[49m\u001b[38;5;241;43m=\u001b[39;49m\u001b[43my\u001b[49m\u001b[43m,\u001b[49m\u001b[43m \u001b[49m\u001b[43mmodel_type\u001b[49m\u001b[38;5;241;43m=\u001b[39;49m\u001b[38;5;124;43m'\u001b[39;49m\u001b[38;5;124;43mregression\u001b[39;49m\u001b[38;5;124;43m'\u001b[39;49m\u001b[43m)\u001b[49m\n",
      "Cell \u001b[0;32mIn[16], line 9\u001b[0m, in \u001b[0;36mregularization_based_selection\u001b[0;34m(X, y, model_type)\u001b[0m\n\u001b[1;32m      6\u001b[0m     \u001b[38;5;28;01mfrom\u001b[39;00m\u001b[38;5;250m \u001b[39m\u001b[38;5;21;01msklearn\u001b[39;00m\u001b[38;5;21;01m.\u001b[39;00m\u001b[38;5;21;01msvm\u001b[39;00m\u001b[38;5;250m \u001b[39m\u001b[38;5;28;01mimport\u001b[39;00m LinearSVC\n\u001b[1;32m      7\u001b[0m     estimator \u001b[38;5;241m=\u001b[39m LinearSVC(C\u001b[38;5;241m=\u001b[39m\u001b[38;5;241m0.01\u001b[39m, penalty\u001b[38;5;241m=\u001b[39m\u001b[38;5;124m\"\u001b[39m\u001b[38;5;124ml1\u001b[39m\u001b[38;5;124m\"\u001b[39m, dual\u001b[38;5;241m=\u001b[39m\u001b[38;5;28;01mFalse\u001b[39;00m)\n\u001b[0;32m----> 9\u001b[0m \u001b[43mestimator\u001b[49m\u001b[38;5;241;43m.\u001b[39;49m\u001b[43mfit\u001b[49m\u001b[43m(\u001b[49m\u001b[43mX\u001b[49m\u001b[43m,\u001b[49m\u001b[43m \u001b[49m\u001b[43my\u001b[49m\u001b[43m)\u001b[49m\n\u001b[1;32m     10\u001b[0m \u001b[38;5;66;03m##\u001b[39;00m\n\u001b[1;32m     11\u001b[0m \u001b[38;5;28;01mfrom\u001b[39;00m\u001b[38;5;250m \u001b[39m\u001b[38;5;21;01msklearn\u001b[39;00m\u001b[38;5;21;01m.\u001b[39;00m\u001b[38;5;21;01mfeature_selection\u001b[39;00m\u001b[38;5;250m \u001b[39m\u001b[38;5;28;01mimport\u001b[39;00m SelectFromModel\n",
      "File \u001b[0;32m/mnt/data0/software/anaconda3/envs/ml/lib/python3.9/site-packages/sklearn/base.py:1473\u001b[0m, in \u001b[0;36m_fit_context.<locals>.decorator.<locals>.wrapper\u001b[0;34m(estimator, *args, **kwargs)\u001b[0m\n\u001b[1;32m   1466\u001b[0m     estimator\u001b[38;5;241m.\u001b[39m_validate_params()\n\u001b[1;32m   1468\u001b[0m \u001b[38;5;28;01mwith\u001b[39;00m config_context(\n\u001b[1;32m   1469\u001b[0m     skip_parameter_validation\u001b[38;5;241m=\u001b[39m(\n\u001b[1;32m   1470\u001b[0m         prefer_skip_nested_validation \u001b[38;5;129;01mor\u001b[39;00m global_skip_validation\n\u001b[1;32m   1471\u001b[0m     )\n\u001b[1;32m   1472\u001b[0m ):\n\u001b[0;32m-> 1473\u001b[0m     \u001b[38;5;28;01mreturn\u001b[39;00m \u001b[43mfit_method\u001b[49m\u001b[43m(\u001b[49m\u001b[43mestimator\u001b[49m\u001b[43m,\u001b[49m\u001b[43m \u001b[49m\u001b[38;5;241;43m*\u001b[39;49m\u001b[43margs\u001b[49m\u001b[43m,\u001b[49m\u001b[43m \u001b[49m\u001b[38;5;241;43m*\u001b[39;49m\u001b[38;5;241;43m*\u001b[39;49m\u001b[43mkwargs\u001b[49m\u001b[43m)\u001b[49m\n",
      "File \u001b[0;32m/mnt/data0/software/anaconda3/envs/ml/lib/python3.9/site-packages/sklearn/linear_model/_coordinate_descent.py:980\u001b[0m, in \u001b[0;36mElasticNet.fit\u001b[0;34m(self, X, y, sample_weight, check_input)\u001b[0m\n\u001b[1;32m    978\u001b[0m \u001b[38;5;28;01mif\u001b[39;00m check_input:\n\u001b[1;32m    979\u001b[0m     X_copied \u001b[38;5;241m=\u001b[39m \u001b[38;5;28mself\u001b[39m\u001b[38;5;241m.\u001b[39mcopy_X \u001b[38;5;129;01mand\u001b[39;00m \u001b[38;5;28mself\u001b[39m\u001b[38;5;241m.\u001b[39mfit_intercept\n\u001b[0;32m--> 980\u001b[0m     X, y \u001b[38;5;241m=\u001b[39m \u001b[38;5;28;43mself\u001b[39;49m\u001b[38;5;241;43m.\u001b[39;49m\u001b[43m_validate_data\u001b[49m\u001b[43m(\u001b[49m\n\u001b[1;32m    981\u001b[0m \u001b[43m        \u001b[49m\u001b[43mX\u001b[49m\u001b[43m,\u001b[49m\n\u001b[1;32m    982\u001b[0m \u001b[43m        \u001b[49m\u001b[43my\u001b[49m\u001b[43m,\u001b[49m\n\u001b[1;32m    983\u001b[0m \u001b[43m        \u001b[49m\u001b[43maccept_sparse\u001b[49m\u001b[38;5;241;43m=\u001b[39;49m\u001b[38;5;124;43m\"\u001b[39;49m\u001b[38;5;124;43mcsc\u001b[39;49m\u001b[38;5;124;43m\"\u001b[39;49m\u001b[43m,\u001b[49m\n\u001b[1;32m    984\u001b[0m \u001b[43m        \u001b[49m\u001b[43morder\u001b[49m\u001b[38;5;241;43m=\u001b[39;49m\u001b[38;5;124;43m\"\u001b[39;49m\u001b[38;5;124;43mF\u001b[39;49m\u001b[38;5;124;43m\"\u001b[39;49m\u001b[43m,\u001b[49m\n\u001b[1;32m    985\u001b[0m \u001b[43m        \u001b[49m\u001b[43mdtype\u001b[49m\u001b[38;5;241;43m=\u001b[39;49m\u001b[43m[\u001b[49m\u001b[43mnp\u001b[49m\u001b[38;5;241;43m.\u001b[39;49m\u001b[43mfloat64\u001b[49m\u001b[43m,\u001b[49m\u001b[43m \u001b[49m\u001b[43mnp\u001b[49m\u001b[38;5;241;43m.\u001b[39;49m\u001b[43mfloat32\u001b[49m\u001b[43m]\u001b[49m\u001b[43m,\u001b[49m\n\u001b[1;32m    986\u001b[0m \u001b[43m        \u001b[49m\u001b[43maccept_large_sparse\u001b[49m\u001b[38;5;241;43m=\u001b[39;49m\u001b[38;5;28;43;01mFalse\u001b[39;49;00m\u001b[43m,\u001b[49m\n\u001b[1;32m    987\u001b[0m \u001b[43m        \u001b[49m\u001b[43mcopy\u001b[49m\u001b[38;5;241;43m=\u001b[39;49m\u001b[43mX_copied\u001b[49m\u001b[43m,\u001b[49m\n\u001b[1;32m    988\u001b[0m \u001b[43m        \u001b[49m\u001b[43mmulti_output\u001b[49m\u001b[38;5;241;43m=\u001b[39;49m\u001b[38;5;28;43;01mTrue\u001b[39;49;00m\u001b[43m,\u001b[49m\n\u001b[1;32m    989\u001b[0m \u001b[43m        \u001b[49m\u001b[43my_numeric\u001b[49m\u001b[38;5;241;43m=\u001b[39;49m\u001b[38;5;28;43;01mTrue\u001b[39;49;00m\u001b[43m,\u001b[49m\n\u001b[1;32m    990\u001b[0m \u001b[43m    \u001b[49m\u001b[43m)\u001b[49m\n\u001b[1;32m    991\u001b[0m     y \u001b[38;5;241m=\u001b[39m check_array(\n\u001b[1;32m    992\u001b[0m         y, order\u001b[38;5;241m=\u001b[39m\u001b[38;5;124m\"\u001b[39m\u001b[38;5;124mF\u001b[39m\u001b[38;5;124m\"\u001b[39m, copy\u001b[38;5;241m=\u001b[39m\u001b[38;5;28;01mFalse\u001b[39;00m, dtype\u001b[38;5;241m=\u001b[39mX\u001b[38;5;241m.\u001b[39mdtype\u001b[38;5;241m.\u001b[39mtype, ensure_2d\u001b[38;5;241m=\u001b[39m\u001b[38;5;28;01mFalse\u001b[39;00m\n\u001b[1;32m    993\u001b[0m     )\n\u001b[1;32m    995\u001b[0m n_samples, n_features \u001b[38;5;241m=\u001b[39m X\u001b[38;5;241m.\u001b[39mshape\n",
      "File \u001b[0;32m/mnt/data0/software/anaconda3/envs/ml/lib/python3.9/site-packages/sklearn/base.py:650\u001b[0m, in \u001b[0;36mBaseEstimator._validate_data\u001b[0;34m(self, X, y, reset, validate_separately, cast_to_ndarray, **check_params)\u001b[0m\n\u001b[1;32m    648\u001b[0m         y \u001b[38;5;241m=\u001b[39m check_array(y, input_name\u001b[38;5;241m=\u001b[39m\u001b[38;5;124m\"\u001b[39m\u001b[38;5;124my\u001b[39m\u001b[38;5;124m\"\u001b[39m, \u001b[38;5;241m*\u001b[39m\u001b[38;5;241m*\u001b[39mcheck_y_params)\n\u001b[1;32m    649\u001b[0m     \u001b[38;5;28;01melse\u001b[39;00m:\n\u001b[0;32m--> 650\u001b[0m         X, y \u001b[38;5;241m=\u001b[39m \u001b[43mcheck_X_y\u001b[49m\u001b[43m(\u001b[49m\u001b[43mX\u001b[49m\u001b[43m,\u001b[49m\u001b[43m \u001b[49m\u001b[43my\u001b[49m\u001b[43m,\u001b[49m\u001b[43m \u001b[49m\u001b[38;5;241;43m*\u001b[39;49m\u001b[38;5;241;43m*\u001b[39;49m\u001b[43mcheck_params\u001b[49m\u001b[43m)\u001b[49m\n\u001b[1;32m    651\u001b[0m     out \u001b[38;5;241m=\u001b[39m X, y\n\u001b[1;32m    653\u001b[0m \u001b[38;5;28;01mif\u001b[39;00m \u001b[38;5;129;01mnot\u001b[39;00m no_val_X \u001b[38;5;129;01mand\u001b[39;00m check_params\u001b[38;5;241m.\u001b[39mget(\u001b[38;5;124m\"\u001b[39m\u001b[38;5;124mensure_2d\u001b[39m\u001b[38;5;124m\"\u001b[39m, \u001b[38;5;28;01mTrue\u001b[39;00m):\n",
      "File \u001b[0;32m/mnt/data0/software/anaconda3/envs/ml/lib/python3.9/site-packages/sklearn/utils/validation.py:1273\u001b[0m, in \u001b[0;36mcheck_X_y\u001b[0;34m(X, y, accept_sparse, accept_large_sparse, dtype, order, copy, force_all_finite, ensure_2d, allow_nd, multi_output, ensure_min_samples, ensure_min_features, y_numeric, estimator)\u001b[0m\n\u001b[1;32m   1268\u001b[0m         estimator_name \u001b[38;5;241m=\u001b[39m _check_estimator_name(estimator)\n\u001b[1;32m   1269\u001b[0m     \u001b[38;5;28;01mraise\u001b[39;00m \u001b[38;5;167;01mValueError\u001b[39;00m(\n\u001b[1;32m   1270\u001b[0m         \u001b[38;5;124mf\u001b[39m\u001b[38;5;124m\"\u001b[39m\u001b[38;5;132;01m{\u001b[39;00mestimator_name\u001b[38;5;132;01m}\u001b[39;00m\u001b[38;5;124m requires y to be passed, but the target y is None\u001b[39m\u001b[38;5;124m\"\u001b[39m\n\u001b[1;32m   1271\u001b[0m     )\n\u001b[0;32m-> 1273\u001b[0m X \u001b[38;5;241m=\u001b[39m \u001b[43mcheck_array\u001b[49m\u001b[43m(\u001b[49m\n\u001b[1;32m   1274\u001b[0m \u001b[43m    \u001b[49m\u001b[43mX\u001b[49m\u001b[43m,\u001b[49m\n\u001b[1;32m   1275\u001b[0m \u001b[43m    \u001b[49m\u001b[43maccept_sparse\u001b[49m\u001b[38;5;241;43m=\u001b[39;49m\u001b[43maccept_sparse\u001b[49m\u001b[43m,\u001b[49m\n\u001b[1;32m   1276\u001b[0m \u001b[43m    \u001b[49m\u001b[43maccept_large_sparse\u001b[49m\u001b[38;5;241;43m=\u001b[39;49m\u001b[43maccept_large_sparse\u001b[49m\u001b[43m,\u001b[49m\n\u001b[1;32m   1277\u001b[0m \u001b[43m    \u001b[49m\u001b[43mdtype\u001b[49m\u001b[38;5;241;43m=\u001b[39;49m\u001b[43mdtype\u001b[49m\u001b[43m,\u001b[49m\n\u001b[1;32m   1278\u001b[0m \u001b[43m    \u001b[49m\u001b[43morder\u001b[49m\u001b[38;5;241;43m=\u001b[39;49m\u001b[43morder\u001b[49m\u001b[43m,\u001b[49m\n\u001b[1;32m   1279\u001b[0m \u001b[43m    \u001b[49m\u001b[43mcopy\u001b[49m\u001b[38;5;241;43m=\u001b[39;49m\u001b[43mcopy\u001b[49m\u001b[43m,\u001b[49m\n\u001b[1;32m   1280\u001b[0m \u001b[43m    \u001b[49m\u001b[43mforce_all_finite\u001b[49m\u001b[38;5;241;43m=\u001b[39;49m\u001b[43mforce_all_finite\u001b[49m\u001b[43m,\u001b[49m\n\u001b[1;32m   1281\u001b[0m \u001b[43m    \u001b[49m\u001b[43mensure_2d\u001b[49m\u001b[38;5;241;43m=\u001b[39;49m\u001b[43mensure_2d\u001b[49m\u001b[43m,\u001b[49m\n\u001b[1;32m   1282\u001b[0m \u001b[43m    \u001b[49m\u001b[43mallow_nd\u001b[49m\u001b[38;5;241;43m=\u001b[39;49m\u001b[43mallow_nd\u001b[49m\u001b[43m,\u001b[49m\n\u001b[1;32m   1283\u001b[0m \u001b[43m    \u001b[49m\u001b[43mensure_min_samples\u001b[49m\u001b[38;5;241;43m=\u001b[39;49m\u001b[43mensure_min_samples\u001b[49m\u001b[43m,\u001b[49m\n\u001b[1;32m   1284\u001b[0m \u001b[43m    \u001b[49m\u001b[43mensure_min_features\u001b[49m\u001b[38;5;241;43m=\u001b[39;49m\u001b[43mensure_min_features\u001b[49m\u001b[43m,\u001b[49m\n\u001b[1;32m   1285\u001b[0m \u001b[43m    \u001b[49m\u001b[43mestimator\u001b[49m\u001b[38;5;241;43m=\u001b[39;49m\u001b[43mestimator\u001b[49m\u001b[43m,\u001b[49m\n\u001b[1;32m   1286\u001b[0m \u001b[43m    \u001b[49m\u001b[43minput_name\u001b[49m\u001b[38;5;241;43m=\u001b[39;49m\u001b[38;5;124;43m\"\u001b[39;49m\u001b[38;5;124;43mX\u001b[39;49m\u001b[38;5;124;43m\"\u001b[39;49m\u001b[43m,\u001b[49m\n\u001b[1;32m   1287\u001b[0m \u001b[43m\u001b[49m\u001b[43m)\u001b[49m\n\u001b[1;32m   1289\u001b[0m y \u001b[38;5;241m=\u001b[39m _check_y(y, multi_output\u001b[38;5;241m=\u001b[39mmulti_output, y_numeric\u001b[38;5;241m=\u001b[39my_numeric, estimator\u001b[38;5;241m=\u001b[39mestimator)\n\u001b[1;32m   1291\u001b[0m check_consistent_length(X, y)\n",
      "File \u001b[0;32m/mnt/data0/software/anaconda3/envs/ml/lib/python3.9/site-packages/sklearn/utils/validation.py:1059\u001b[0m, in \u001b[0;36mcheck_array\u001b[0;34m(array, accept_sparse, accept_large_sparse, dtype, order, copy, force_all_finite, ensure_2d, allow_nd, ensure_min_samples, ensure_min_features, estimator, input_name)\u001b[0m\n\u001b[1;32m   1053\u001b[0m     \u001b[38;5;28;01mraise\u001b[39;00m \u001b[38;5;167;01mValueError\u001b[39;00m(\n\u001b[1;32m   1054\u001b[0m         \u001b[38;5;124m\"\u001b[39m\u001b[38;5;124mFound array with dim \u001b[39m\u001b[38;5;132;01m%d\u001b[39;00m\u001b[38;5;124m. \u001b[39m\u001b[38;5;132;01m%s\u001b[39;00m\u001b[38;5;124m expected <= 2.\u001b[39m\u001b[38;5;124m\"\u001b[39m\n\u001b[1;32m   1055\u001b[0m         \u001b[38;5;241m%\u001b[39m (array\u001b[38;5;241m.\u001b[39mndim, estimator_name)\n\u001b[1;32m   1056\u001b[0m     )\n\u001b[1;32m   1058\u001b[0m \u001b[38;5;28;01mif\u001b[39;00m force_all_finite:\n\u001b[0;32m-> 1059\u001b[0m     \u001b[43m_assert_all_finite\u001b[49m\u001b[43m(\u001b[49m\n\u001b[1;32m   1060\u001b[0m \u001b[43m        \u001b[49m\u001b[43marray\u001b[49m\u001b[43m,\u001b[49m\n\u001b[1;32m   1061\u001b[0m \u001b[43m        \u001b[49m\u001b[43minput_name\u001b[49m\u001b[38;5;241;43m=\u001b[39;49m\u001b[43minput_name\u001b[49m\u001b[43m,\u001b[49m\n\u001b[1;32m   1062\u001b[0m \u001b[43m        \u001b[49m\u001b[43mestimator_name\u001b[49m\u001b[38;5;241;43m=\u001b[39;49m\u001b[43mestimator_name\u001b[49m\u001b[43m,\u001b[49m\n\u001b[1;32m   1063\u001b[0m \u001b[43m        \u001b[49m\u001b[43mallow_nan\u001b[49m\u001b[38;5;241;43m=\u001b[39;49m\u001b[43mforce_all_finite\u001b[49m\u001b[43m \u001b[49m\u001b[38;5;241;43m==\u001b[39;49m\u001b[43m \u001b[49m\u001b[38;5;124;43m\"\u001b[39;49m\u001b[38;5;124;43mallow-nan\u001b[39;49m\u001b[38;5;124;43m\"\u001b[39;49m\u001b[43m,\u001b[49m\n\u001b[1;32m   1064\u001b[0m \u001b[43m    \u001b[49m\u001b[43m)\u001b[49m\n\u001b[1;32m   1066\u001b[0m \u001b[38;5;28;01mif\u001b[39;00m copy:\n\u001b[1;32m   1067\u001b[0m     \u001b[38;5;28;01mif\u001b[39;00m _is_numpy_namespace(xp):\n\u001b[1;32m   1068\u001b[0m         \u001b[38;5;66;03m# only make a copy if `array` and `array_orig` may share memory`\u001b[39;00m\n",
      "File \u001b[0;32m/mnt/data0/software/anaconda3/envs/ml/lib/python3.9/site-packages/sklearn/utils/validation.py:126\u001b[0m, in \u001b[0;36m_assert_all_finite\u001b[0;34m(X, allow_nan, msg_dtype, estimator_name, input_name)\u001b[0m\n\u001b[1;32m    123\u001b[0m \u001b[38;5;28;01mif\u001b[39;00m first_pass_isfinite:\n\u001b[1;32m    124\u001b[0m     \u001b[38;5;28;01mreturn\u001b[39;00m\n\u001b[0;32m--> 126\u001b[0m \u001b[43m_assert_all_finite_element_wise\u001b[49m\u001b[43m(\u001b[49m\n\u001b[1;32m    127\u001b[0m \u001b[43m    \u001b[49m\u001b[43mX\u001b[49m\u001b[43m,\u001b[49m\n\u001b[1;32m    128\u001b[0m \u001b[43m    \u001b[49m\u001b[43mxp\u001b[49m\u001b[38;5;241;43m=\u001b[39;49m\u001b[43mxp\u001b[49m\u001b[43m,\u001b[49m\n\u001b[1;32m    129\u001b[0m \u001b[43m    \u001b[49m\u001b[43mallow_nan\u001b[49m\u001b[38;5;241;43m=\u001b[39;49m\u001b[43mallow_nan\u001b[49m\u001b[43m,\u001b[49m\n\u001b[1;32m    130\u001b[0m \u001b[43m    \u001b[49m\u001b[43mmsg_dtype\u001b[49m\u001b[38;5;241;43m=\u001b[39;49m\u001b[43mmsg_dtype\u001b[49m\u001b[43m,\u001b[49m\n\u001b[1;32m    131\u001b[0m \u001b[43m    \u001b[49m\u001b[43mestimator_name\u001b[49m\u001b[38;5;241;43m=\u001b[39;49m\u001b[43mestimator_name\u001b[49m\u001b[43m,\u001b[49m\n\u001b[1;32m    132\u001b[0m \u001b[43m    \u001b[49m\u001b[43minput_name\u001b[49m\u001b[38;5;241;43m=\u001b[39;49m\u001b[43minput_name\u001b[49m\u001b[43m,\u001b[49m\n\u001b[1;32m    133\u001b[0m \u001b[43m\u001b[49m\u001b[43m)\u001b[49m\n",
      "File \u001b[0;32m/mnt/data0/software/anaconda3/envs/ml/lib/python3.9/site-packages/sklearn/utils/validation.py:175\u001b[0m, in \u001b[0;36m_assert_all_finite_element_wise\u001b[0;34m(X, xp, allow_nan, msg_dtype, estimator_name, input_name)\u001b[0m\n\u001b[1;32m    158\u001b[0m \u001b[38;5;28;01mif\u001b[39;00m estimator_name \u001b[38;5;129;01mand\u001b[39;00m input_name \u001b[38;5;241m==\u001b[39m \u001b[38;5;124m\"\u001b[39m\u001b[38;5;124mX\u001b[39m\u001b[38;5;124m\"\u001b[39m \u001b[38;5;129;01mand\u001b[39;00m has_nan_error:\n\u001b[1;32m    159\u001b[0m     \u001b[38;5;66;03m# Improve the error message on how to handle missing values in\u001b[39;00m\n\u001b[1;32m    160\u001b[0m     \u001b[38;5;66;03m# scikit-learn.\u001b[39;00m\n\u001b[1;32m    161\u001b[0m     msg_err \u001b[38;5;241m+\u001b[39m\u001b[38;5;241m=\u001b[39m (\n\u001b[1;32m    162\u001b[0m         \u001b[38;5;124mf\u001b[39m\u001b[38;5;124m\"\u001b[39m\u001b[38;5;130;01m\\n\u001b[39;00m\u001b[38;5;132;01m{\u001b[39;00mestimator_name\u001b[38;5;132;01m}\u001b[39;00m\u001b[38;5;124m does not accept missing values\u001b[39m\u001b[38;5;124m\"\u001b[39m\n\u001b[1;32m    163\u001b[0m         \u001b[38;5;124m\"\u001b[39m\u001b[38;5;124m encoded as NaN natively. For supervised learning, you might want\u001b[39m\u001b[38;5;124m\"\u001b[39m\n\u001b[0;32m   (...)\u001b[0m\n\u001b[1;32m    173\u001b[0m         \u001b[38;5;124m\"\u001b[39m\u001b[38;5;124m#estimators-that-handle-nan-values\u001b[39m\u001b[38;5;124m\"\u001b[39m\n\u001b[1;32m    174\u001b[0m     )\n\u001b[0;32m--> 175\u001b[0m \u001b[38;5;28;01mraise\u001b[39;00m \u001b[38;5;167;01mValueError\u001b[39;00m(msg_err)\n",
      "\u001b[0;31mValueError\u001b[0m: Input X contains NaN.\nLasso does not accept missing values encoded as NaN natively. For supervised learning, you might want to consider sklearn.ensemble.HistGradientBoostingClassifier and Regressor which accept missing values encoded as NaNs natively. Alternatively, it is possible to preprocess the data, for instance by using an imputer transformer in a pipeline or drop samples with missing values. See https://scikit-learn.org/stable/modules/impute.html You can find a list of all estimators that handle NaN values at the following page: https://scikit-learn.org/stable/modules/impute.html#estimators-that-handle-nan-values"
     ]
    }
   ],
   "source": [
    "def regularization_based_selection(X, y, model_type='regression'):\n",
    "    if model_type == 'regression':\n",
    "        from sklearn import linear_model\n",
    "        estimator = linear_model.Lasso(alpha=0.1)\n",
    "    elif model_type == 'classification':\n",
    "        from sklearn.svm import LinearSVC\n",
    "        estimator = LinearSVC(C=0.01, penalty=\"l1\", dual=False)\n",
    "\n",
    "    estimator.fit(X, y)\n",
    "    ##\n",
    "    from sklearn.feature_selection import SelectFromModel\n",
    "    fs_model = SelectFromModel(estimator=estimator, prefit=True)\n",
    "    return fs_model\n",
    "\n",
    "fs_model = regularization_based_selection(X=X, y=y, model_type='regression')\n"
   ]
  },
  {
   "cell_type": "code",
   "execution_count": null,
   "metadata": {},
   "outputs": [],
   "source": []
  },
  {
   "cell_type": "code",
   "execution_count": null,
   "metadata": {},
   "outputs": [],
   "source": []
  },
  {
   "cell_type": "code",
   "execution_count": null,
   "metadata": {},
   "outputs": [],
   "source": []
  },
  {
   "cell_type": "code",
   "execution_count": null,
   "metadata": {},
   "outputs": [],
   "source": []
  },
  {
   "cell_type": "code",
   "execution_count": null,
   "metadata": {},
   "outputs": [],
   "source": []
  },
  {
   "cell_type": "code",
   "execution_count": null,
   "metadata": {},
   "outputs": [],
   "source": []
  },
  {
   "cell_type": "code",
   "execution_count": null,
   "metadata": {},
   "outputs": [],
   "source": []
  },
  {
   "cell_type": "code",
   "execution_count": null,
   "metadata": {},
   "outputs": [],
   "source": []
  },
  {
   "cell_type": "code",
   "execution_count": null,
   "metadata": {},
   "outputs": [],
   "source": []
  },
  {
   "cell_type": "code",
   "execution_count": null,
   "metadata": {},
   "outputs": [],
   "source": []
  },
  {
   "cell_type": "code",
   "execution_count": null,
   "metadata": {},
   "outputs": [],
   "source": []
  },
  {
   "cell_type": "code",
   "execution_count": null,
   "metadata": {},
   "outputs": [],
   "source": []
  },
  {
   "cell_type": "code",
   "execution_count": null,
   "metadata": {},
   "outputs": [],
   "source": []
  },
  {
   "cell_type": "code",
   "execution_count": null,
   "metadata": {},
   "outputs": [],
   "source": []
  },
  {
   "cell_type": "code",
   "execution_count": null,
   "metadata": {},
   "outputs": [],
   "source": []
  },
  {
   "cell_type": "code",
   "execution_count": null,
   "metadata": {},
   "outputs": [],
   "source": []
  },
  {
   "cell_type": "code",
   "execution_count": null,
   "metadata": {},
   "outputs": [],
   "source": []
  }
 ],
 "metadata": {
  "kernelspec": {
   "display_name": "ml",
   "language": "python",
   "name": "python3"
  },
  "language_info": {
   "codemirror_mode": {
    "name": "ipython",
    "version": 3
   },
   "file_extension": ".py",
   "mimetype": "text/x-python",
   "name": "python",
   "nbconvert_exporter": "python",
   "pygments_lexer": "ipython3",
   "version": "3.9.21"
  }
 },
 "nbformat": 4,
 "nbformat_minor": 2
}
