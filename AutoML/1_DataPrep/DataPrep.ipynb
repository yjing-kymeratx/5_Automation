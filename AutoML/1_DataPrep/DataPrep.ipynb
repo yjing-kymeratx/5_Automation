{
 "cells": [
  {
   "cell_type": "code",
   "execution_count": 4,
   "metadata": {},
   "outputs": [],
   "source": [
    "from module import data_IO, cheminfo"
   ]
  },
  {
   "cell_type": "code",
   "execution_count": 5,
   "metadata": {},
   "outputs": [],
   "source": [
    "fileNameIn = f\"./0_Data/DataView_MDCK_MDR1__Permeability_1__export.csv\"\n",
    "sep = ','\n",
    "detect_encoding = True\n",
    "\n",
    "colName_mid = 'Compound Name'\n",
    "colName_smi = 'Structure'\n",
    "\n",
    "colName_expt = 'ADME MDCK(WT) Permeability;Mean;A to B Papp (10^-6 cm/s);(Num)'\n",
    "colName_expt_operator = 'ADME MDCK(WT) Permeability;Mean;A to B Papp (10^-6 cm/s);(Mod)'    ## None\n",
    "\n",
    "colName_list_desc = None    ## comma separated string e.g.,'desc_1,desc_2,desc_3'\n",
    "\n",
    "colName_label = 'ADME MDCK(WT) Permeability;Mean;A to B Recovery (%)'    ## 'Concat;Project'"
   ]
  },
  {
   "cell_type": "code",
   "execution_count": 6,
   "metadata": {},
   "outputs": [
    {
     "name": "stdout",
     "output_type": "stream",
     "text": [
      "\t==>Now reading the csv...\n",
      "\tUsing Encoding <ascii>\n",
      "\tThe original csv file has 3940 rows and 13 columns\n",
      "\t==>Now cleanning the Smiles...\n",
      "\t\tWarning! Cannot prase this Smiles: <n1(c(nc(c(c1N)N(CCCO)C(=O)COc2c3c(ccc2)cccc3)=O)=O)Cc4ccccc4>\n",
      "\t==>Now cleanning the csv...\n",
      "\tAfter removing NaNs, the table has 3939 rows and 14 columns\n",
      "\tAfter removing duplicates, the table has 3939 rows and 14 columns\n",
      "\tAfter filterring operators, the table has 3830 rows and 14 columns\n",
      "(3830, 14)\n"
     ]
    },
    {
     "data": {
      "text/html": [
       "<div>\n",
       "<style scoped>\n",
       "    .dataframe tbody tr th:only-of-type {\n",
       "        vertical-align: middle;\n",
       "    }\n",
       "\n",
       "    .dataframe tbody tr th {\n",
       "        vertical-align: top;\n",
       "    }\n",
       "\n",
       "    .dataframe thead th {\n",
       "        text-align: right;\n",
       "    }\n",
       "</style>\n",
       "<table border=\"1\" class=\"dataframe\">\n",
       "  <thead>\n",
       "    <tr style=\"text-align: right;\">\n",
       "      <th></th>\n",
       "      <th>Compound Name</th>\n",
       "      <th>Structure</th>\n",
       "      <th>Smiles</th>\n",
       "      <th>Concat;External Id</th>\n",
       "      <th>Concat;Project</th>\n",
       "      <th>ADME MDCK(WT) Permeability;Mean;A to B Papp (10^-6 cm/s);(Mod)</th>\n",
       "      <th>ADME MDCK(WT) Permeability;Mean;A to B Papp (10^-6 cm/s);(Num)</th>\n",
       "      <th>ADME MDCK(WT) Permeability;Mean;B to A Papp (10^-6 cm/s);(Mod)</th>\n",
       "      <th>ADME MDCK(WT) Permeability;Mean;B to A Papp (10^-6 cm/s);(Num)</th>\n",
       "      <th>ADME MDCK(WT) Permeability;Concat;Comments</th>\n",
       "      <th>ADME MDCK(WT) Permeability;Concat;Run Date</th>\n",
       "      <th>ADME MDCK(WT) Permeability;Mean;A to B Recovery (%)</th>\n",
       "      <th>ADME MDCK(WT) Permeability;Mean;B to A Recovery (%)</th>\n",
       "      <th>Structure_original</th>\n",
       "    </tr>\n",
       "  </thead>\n",
       "  <tbody>\n",
       "    <tr>\n",
       "      <th>0</th>\n",
       "      <td>KT-0001674</td>\n",
       "      <td>Fc1c(N2CCOCC2)ccc(N2C[C@@H](CNC(=O)CCCCCc3cc4c...</td>\n",
       "      <td>N1(C2=CC=C(N3CCOCC3)C(F)=C2)C[C@H](CNC(CCCCCC2...</td>\n",
       "      <td>BAV-002-001F</td>\n",
       "      <td>Miscellaneous</td>\n",
       "      <td>=</td>\n",
       "      <td>0.298013</td>\n",
       "      <td>=</td>\n",
       "      <td>1.327664</td>\n",
       "      <td>NaN</td>\n",
       "      <td>7/31/2018</td>\n",
       "      <td>65.396574</td>\n",
       "      <td>71.287296</td>\n",
       "      <td>Fc1c(ccc(c1)N2C[C@H](OC2=O)CNC(=O)CCCCCc3cc4c(...</td>\n",
       "    </tr>\n",
       "    <tr>\n",
       "      <th>1</th>\n",
       "      <td>KT-0001675</td>\n",
       "      <td>Fc1c(N2CCOCC2)ccc(N2C[C@@H](CNCCCCCCc3cc4c(cc3...</td>\n",
       "      <td>N1(C2=CC=C(N3CCOCC3)C(F)=C2)C[C@H](CNCCCCCCC2=...</td>\n",
       "      <td>BAV-004-001F</td>\n",
       "      <td>Miscellaneous</td>\n",
       "      <td>=</td>\n",
       "      <td>0.767547</td>\n",
       "      <td>=</td>\n",
       "      <td>8.333819</td>\n",
       "      <td>NaN</td>\n",
       "      <td>7/31/2018</td>\n",
       "      <td>66.234937</td>\n",
       "      <td>57.366047</td>\n",
       "      <td>Fc1c(ccc(c1)N2C[C@H](OC2=O)CNCCCCCCc3cc4c(cc3)...</td>\n",
       "    </tr>\n",
       "    <tr>\n",
       "      <th>2</th>\n",
       "      <td>KT-0001676</td>\n",
       "      <td>CC(C)Oc1cc(C2CCN(CCCCCCc3ccc4c(c3)n(C)c(=O)n4C...</td>\n",
       "      <td>CC(C)OC1=C(NC2=NC(NC3=CC=CC=C3S(=O)(=O)C(C)C)=...</td>\n",
       "      <td>BAV-006-001F</td>\n",
       "      <td>Miscellaneous</td>\n",
       "      <td>=</td>\n",
       "      <td>0.186651</td>\n",
       "      <td>=</td>\n",
       "      <td>0.054087</td>\n",
       "      <td>;* The peak area of A-B receiver samples were...</td>\n",
       "      <td>7/31/2018;8/9/2018</td>\n",
       "      <td>22.744314</td>\n",
       "      <td>16.539027</td>\n",
       "      <td>CC(C)Oc1cc(c(cc1Nc2ncc(c(n2)Nc3ccccc3S(=O)(=O)...</td>\n",
       "    </tr>\n",
       "  </tbody>\n",
       "</table>\n",
       "</div>"
      ],
      "text/plain": [
       "  Compound Name                                          Structure  \\\n",
       "0    KT-0001674  Fc1c(N2CCOCC2)ccc(N2C[C@@H](CNC(=O)CCCCCc3cc4c...   \n",
       "1    KT-0001675  Fc1c(N2CCOCC2)ccc(N2C[C@@H](CNCCCCCCc3cc4c(cc3...   \n",
       "2    KT-0001676  CC(C)Oc1cc(C2CCN(CCCCCCc3ccc4c(c3)n(C)c(=O)n4C...   \n",
       "\n",
       "                                              Smiles Concat;External Id  \\\n",
       "0  N1(C2=CC=C(N3CCOCC3)C(F)=C2)C[C@H](CNC(CCCCCC2...       BAV-002-001F   \n",
       "1  N1(C2=CC=C(N3CCOCC3)C(F)=C2)C[C@H](CNCCCCCCC2=...       BAV-004-001F   \n",
       "2  CC(C)OC1=C(NC2=NC(NC3=CC=CC=C3S(=O)(=O)C(C)C)=...       BAV-006-001F   \n",
       "\n",
       "  Concat;Project  \\\n",
       "0  Miscellaneous   \n",
       "1  Miscellaneous   \n",
       "2  Miscellaneous   \n",
       "\n",
       "  ADME MDCK(WT) Permeability;Mean;A to B Papp (10^-6 cm/s);(Mod)  \\\n",
       "0                                                  =               \n",
       "1                                                  =               \n",
       "2                                                  =               \n",
       "\n",
       "   ADME MDCK(WT) Permeability;Mean;A to B Papp (10^-6 cm/s);(Num)  \\\n",
       "0                                           0.298013                \n",
       "1                                           0.767547                \n",
       "2                                           0.186651                \n",
       "\n",
       "  ADME MDCK(WT) Permeability;Mean;B to A Papp (10^-6 cm/s);(Mod)  \\\n",
       "0                                                  =               \n",
       "1                                                  =               \n",
       "2                                                  =               \n",
       "\n",
       "   ADME MDCK(WT) Permeability;Mean;B to A Papp (10^-6 cm/s);(Num)  \\\n",
       "0                                           1.327664                \n",
       "1                                           8.333819                \n",
       "2                                           0.054087                \n",
       "\n",
       "          ADME MDCK(WT) Permeability;Concat;Comments  \\\n",
       "0                                                NaN   \n",
       "1                                                NaN   \n",
       "2   ;* The peak area of A-B receiver samples were...   \n",
       "\n",
       "  ADME MDCK(WT) Permeability;Concat;Run Date  \\\n",
       "0                                  7/31/2018   \n",
       "1                                  7/31/2018   \n",
       "2                         7/31/2018;8/9/2018   \n",
       "\n",
       "   ADME MDCK(WT) Permeability;Mean;A to B Recovery (%)  \\\n",
       "0                                          65.396574     \n",
       "1                                          66.234937     \n",
       "2                                          22.744314     \n",
       "\n",
       "   ADME MDCK(WT) Permeability;Mean;B to A Recovery (%)  \\\n",
       "0                                          71.287296     \n",
       "1                                          57.366047     \n",
       "2                                          16.539027     \n",
       "\n",
       "                                  Structure_original  \n",
       "0  Fc1c(ccc(c1)N2C[C@H](OC2=O)CNC(=O)CCCCCc3cc4c(...  \n",
       "1  Fc1c(ccc(c1)N2C[C@H](OC2=O)CNCCCCCCc3cc4c(cc3)...  \n",
       "2  CC(C)Oc1cc(c(cc1Nc2ncc(c(n2)Nc3ccccc3S(=O)(=O)...  "
      ]
     },
     "execution_count": 6,
     "metadata": {},
     "output_type": "execute_result"
    }
   ],
   "source": [
    "dataTable = data_IO.read_csv(fileNameIn, sep=sep, detect_encoding=detect_encoding)\n",
    "dataTable = cheminfo.clean_smiles(dataTable, colName_smi=colName_smi, canonical=False, errmsg=False)\n",
    "dataTable = data_IO.clean_csv(dataTable, cols_basic=[colName_mid, colName_smi], cols_data=[colName_expt], cols_mod=[colName_expt_operator])\n",
    "# dataTable.to_csv('./results/data_input_clean.csv', index=False)\n",
    "\n",
    "print(dataTable.shape)\n",
    "dataTable.head(3)"
   ]
  },
  {
   "cell_type": "code",
   "execution_count": null,
   "metadata": {},
   "outputs": [],
   "source": []
  },
  {
   "cell_type": "code",
   "execution_count": 17,
   "metadata": {},
   "outputs": [
    {
     "name": "stdout",
     "output_type": "stream",
     "text": [
      "\t==>Now reading the csv...\n",
      "\tUsing Encoding <ascii>\n",
      "\tThe original csv file has <3940> rows and <13> columns\n",
      "\t==>Now cleanning the Smiles...\n",
      "\t\tWarning! Cannot prase this Smiles: <n1(c(nc(c(c1N)N(CCCO)C(=O)COc2c3c(ccc2)cccc3)=O)=O)Cc4ccccc4>\n",
      "\t==>Now cleanning the csv...\n",
      "\tAfter removing NaNs, the table has <3939> rows and <14> columns\n",
      "\tAfter removing duplicates, the table has <3939> rows and <14> columns\n",
      "\tAfter filterring operators, the table has <3830> rows and <14> columns\n",
      "\tNow extracting the custom desc using the defined column names: ADME MDCK(WT) Permeability;Concat;Comments,Concat;Project,fake_column_name\n",
      "\t\tWarning! This custom descriptor <fake_column_name> is not in the data table, so ignored this column\n",
      "\tThere are total 2 custom descriptors extracted\n",
      "\tThe custom desciptor table has <3830> rows and <3> columns\n",
      "\tAfter extracting the custom desc, the table has <3830> rows and <3> columns\n",
      "\tThe cleaned data table has been saved to ./results/data_input_clean.csv\n",
      "\tThe custom descriptors table has been saved to ./results/custom_desc.csv\n"
     ]
    }
   ],
   "source": [
    "!/mnt/data0/Research/0_Test/cx_pKa/bash2py_yjing_local.bash python ./DataPrep.py --i ./0_Data/DataView_MDCK_MDR1__Permeability_1__export.csv -d ',' --detectEncoding --colId 'Compound Name' --colSmi 'Structure' --colAssay 'ADME MDCK(WT) Permeability;Mean;A to B Papp (10^-6 cm/s);(Num)' --colAssayMod 'ADME MDCK(WT) Permeability;Mean;A to B Papp (10^-6 cm/s);(Mod)' --colPreCalcDesc \"ADME MDCK(WT) Permeability;Concat;Comments,Concat;Project,fake_column_name\" -o './results/data_input_clean.csv'"
   ]
  },
  {
   "cell_type": "code",
   "execution_count": null,
   "metadata": {},
   "outputs": [],
   "source": []
  },
  {
   "cell_type": "code",
   "execution_count": null,
   "metadata": {},
   "outputs": [],
   "source": []
  },
  {
   "cell_type": "code",
   "execution_count": null,
   "metadata": {},
   "outputs": [],
   "source": []
  },
  {
   "cell_type": "code",
   "execution_count": null,
   "metadata": {},
   "outputs": [],
   "source": []
  },
  {
   "cell_type": "code",
   "execution_count": null,
   "metadata": {},
   "outputs": [],
   "source": []
  },
  {
   "cell_type": "code",
   "execution_count": null,
   "metadata": {},
   "outputs": [],
   "source": [
    "## clear warning\n",
    "import warnings\n",
    "warnings.filterwarnings('ignore')\n",
    "\n",
    "import time\n",
    "\n",
    "\n",
    "\n",
    "## Add the folder to the system path\n",
    "import sys\n",
    "sys.path.append('../MyTools')\n",
    "import File_IO\n",
    "\n",
    "\n",
    "## ----------- create folders -----------\n",
    "tmp_folder = File_IO.FolderCreator(my_folder=f\"./tmp\")\n",
    "out_folder = File_IO.FolderCreator(my_folder=f\"./results\")"
   ]
  },
  {
   "cell_type": "code",
   "execution_count": 2,
   "metadata": {},
   "outputs": [],
   "source": [
    "def Step_1_load_data(my_query_id=3539, fileName_in=None, tmp_folder=\"./tmp\", sep=','):\n",
    "    ## count time\n",
    "    beginTime = time.time()\n",
    "    ## ------------------------------------------------------------------\n",
    "    assert my_query_id is not None or fileName_in is not None, f\"\\tError, both <my_query_id> and <fileName_in> are None\"\n",
    "    \n",
    "    ## download data from D360 using API\n",
    "    if my_query_id is not None:\n",
    "        from module import D360_query\n",
    "        fileName_in = D360_query.dataDownload(my_query_id=my_query_id, outputFolder=tmp_folder, tokenFile=\"./module/yjing_D360.token\")\n",
    "\n",
    "    else:\n",
    "        print(f\"\\tDirectly loading data from {fileName_in}\")\n",
    "        \n",
    "    dataTable = File_IO.read_csv_file(fileName_in, sep=sep)\n",
    "\n",
    "    ## ------------------------------------------------------------------\n",
    "    costTime = time.time()-beginTime\n",
    "    print(f\"==> Step 1 <Loading csv data> complete, costs time = %ds ................\\n\" % (costTime))\n",
    "\n",
    "    return dataTable"
   ]
  },
  {
   "cell_type": "code",
   "execution_count": null,
   "metadata": {},
   "outputs": [],
   "source": [
    "dataTable = Step_1_load_data(my_query_id=2321, fileName_in=None, tmp_folder=tmp_folder, sep=',')\n",
    "dataTable.head(3)"
   ]
  },
  {
   "cell_type": "code",
   "execution_count": null,
   "metadata": {},
   "outputs": [],
   "source": []
  },
  {
   "cell_type": "code",
   "execution_count": null,
   "metadata": {},
   "outputs": [],
   "source": []
  },
  {
   "cell_type": "code",
   "execution_count": null,
   "metadata": {},
   "outputs": [],
   "source": []
  },
  {
   "cell_type": "code",
   "execution_count": null,
   "metadata": {},
   "outputs": [],
   "source": []
  },
  {
   "cell_type": "code",
   "execution_count": null,
   "metadata": {},
   "outputs": [],
   "source": []
  },
  {
   "cell_type": "code",
   "execution_count": null,
   "metadata": {},
   "outputs": [],
   "source": []
  },
  {
   "cell_type": "code",
   "execution_count": null,
   "metadata": {},
   "outputs": [],
   "source": []
  },
  {
   "cell_type": "code",
   "execution_count": null,
   "metadata": {},
   "outputs": [],
   "source": []
  },
  {
   "cell_type": "code",
   "execution_count": null,
   "metadata": {},
   "outputs": [],
   "source": []
  },
  {
   "cell_type": "code",
   "execution_count": null,
   "metadata": {},
   "outputs": [],
   "source": []
  },
  {
   "cell_type": "code",
   "execution_count": null,
   "metadata": {},
   "outputs": [],
   "source": []
  },
  {
   "cell_type": "code",
   "execution_count": null,
   "metadata": {},
   "outputs": [],
   "source": [
    "# def Step_0_load_args():\n",
    "#     print(f\"==> Step 0: load the parameters ... \")\n",
    "\n",
    "#     import argparse\n",
    "#     ## \n",
    "#     parser = argparse.ArgumentParser(description='This is the script to identify the MMPs from existing tables')\n",
    "#     ## input\n",
    "#     parser.add_argument('-q', action=\"store\", type=int, default=None, help='D360 Query ID')\n",
    "#     parser.add_argument('-i', action=\"store\", default=None, help='The input csv file')\n",
    "#     parser.add_argument('-d', action=\"store\", default=',', help='The delimiter of input csv file for separate columns')\n",
    "\n",
    "#     ## data cols in the input\n",
    "#     parser.add_argument('--colName_cid', action=\"store\", default='Compound Name', help='The column name of the compound identifier')\n",
    "#     parser.add_argument('--colName_smi', action=\"store\", default='Structure', help='The column name of SMILES')\n",
    "#     # parser.add_argument('--colName_eid', action=\"store\", default=\"External ID\", help='The column name of external ID')\n",
    "#     # parser.add_argument('--colName_prj', action=\"store\", default=\"Concat;Project\", help='The column name of Projects')\n",
    "\n",
    "#     # parser.add_argument('--prop_dict_file', action=\"store\", default=\"prop_cols_matches.json\", help='The json file which specify the property of interest and the columns infomation')\n",
    "\n",
    "#     parser.add_argument('-o', '--outputFolder', action=\"store\", default=\"MMPs_results\", help='The folder to save the of output csv file to save the MMPs data')\n",
    "#     parser.add_argument('--tmpFolder', action=\"store\", default='./tmp', help='The tmp folder')\n",
    "\n",
    "#     ## parse the arguments\n",
    "#     args = parser.parse_args()\n",
    "\n",
    "#     return args\n"
   ]
  },
  {
   "cell_type": "code",
   "execution_count": null,
   "metadata": {},
   "outputs": [],
   "source": []
  },
  {
   "cell_type": "code",
   "execution_count": null,
   "metadata": {},
   "outputs": [],
   "source": []
  },
  {
   "cell_type": "code",
   "execution_count": null,
   "metadata": {},
   "outputs": [],
   "source": []
  },
  {
   "cell_type": "code",
   "execution_count": null,
   "metadata": {},
   "outputs": [],
   "source": []
  },
  {
   "cell_type": "code",
   "execution_count": null,
   "metadata": {},
   "outputs": [],
   "source": []
  },
  {
   "cell_type": "code",
   "execution_count": null,
   "metadata": {},
   "outputs": [],
   "source": []
  },
  {
   "cell_type": "code",
   "execution_count": null,
   "metadata": {},
   "outputs": [],
   "source": []
  },
  {
   "cell_type": "code",
   "execution_count": null,
   "metadata": {},
   "outputs": [],
   "source": []
  },
  {
   "cell_type": "code",
   "execution_count": null,
   "metadata": {},
   "outputs": [],
   "source": []
  },
  {
   "cell_type": "code",
   "execution_count": null,
   "metadata": {},
   "outputs": [],
   "source": []
  },
  {
   "cell_type": "code",
   "execution_count": null,
   "metadata": {},
   "outputs": [],
   "source": []
  },
  {
   "cell_type": "code",
   "execution_count": null,
   "metadata": {},
   "outputs": [],
   "source": []
  },
  {
   "cell_type": "code",
   "execution_count": null,
   "metadata": {},
   "outputs": [],
   "source": []
  },
  {
   "cell_type": "code",
   "execution_count": null,
   "metadata": {},
   "outputs": [],
   "source": []
  },
  {
   "cell_type": "code",
   "execution_count": null,
   "metadata": {},
   "outputs": [],
   "source": []
  },
  {
   "cell_type": "code",
   "execution_count": null,
   "metadata": {},
   "outputs": [],
   "source": []
  },
  {
   "cell_type": "code",
   "execution_count": null,
   "metadata": {},
   "outputs": [],
   "source": []
  },
  {
   "cell_type": "code",
   "execution_count": null,
   "metadata": {},
   "outputs": [],
   "source": []
  },
  {
   "cell_type": "code",
   "execution_count": null,
   "metadata": {},
   "outputs": [],
   "source": []
  },
  {
   "cell_type": "code",
   "execution_count": null,
   "metadata": {},
   "outputs": [],
   "source": []
  },
  {
   "cell_type": "code",
   "execution_count": null,
   "metadata": {},
   "outputs": [],
   "source": []
  },
  {
   "cell_type": "code",
   "execution_count": null,
   "metadata": {},
   "outputs": [],
   "source": []
  },
  {
   "cell_type": "code",
   "execution_count": null,
   "metadata": {},
   "outputs": [],
   "source": []
  },
  {
   "cell_type": "code",
   "execution_count": null,
   "metadata": {},
   "outputs": [],
   "source": []
  },
  {
   "cell_type": "code",
   "execution_count": null,
   "metadata": {},
   "outputs": [],
   "source": []
  },
  {
   "cell_type": "code",
   "execution_count": null,
   "metadata": {},
   "outputs": [],
   "source": []
  },
  {
   "cell_type": "code",
   "execution_count": null,
   "metadata": {},
   "outputs": [],
   "source": []
  },
  {
   "cell_type": "code",
   "execution_count": null,
   "metadata": {},
   "outputs": [],
   "source": []
  }
 ],
 "metadata": {
  "kernelspec": {
   "display_name": "ml",
   "language": "python",
   "name": "python3"
  },
  "language_info": {
   "codemirror_mode": {
    "name": "ipython",
    "version": 3
   },
   "file_extension": ".py",
   "mimetype": "text/x-python",
   "name": "python",
   "nbconvert_exporter": "python",
   "pygments_lexer": "ipython3",
   "version": "3.9.21"
  }
 },
 "nbformat": 4,
 "nbformat_minor": 2
}
