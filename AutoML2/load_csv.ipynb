{
 "cells": [
  {
   "cell_type": "code",
   "execution_count": 1,
   "metadata": {},
   "outputs": [],
   "source": [
    "import time\n",
    "import DataPrep"
   ]
  },
  {
   "cell_type": "code",
   "execution_count": 2,
   "metadata": {},
   "outputs": [],
   "source": [
    "fileNameIn = f\"./Data/DataView_MDCK_MDR1__Permeability_1__export.csv\"\n",
    "sep = ','\n",
    "detect_encoding = True\n",
    "\n",
    "colName_mid = 'Compound Name'\n",
    "colName_smi = 'Structure'\n",
    "\n",
    "colName_expt = 'ADME MDCK(WT) Permeability;Mean;A to B Papp (10^-6 cm/s);(Num)'\n",
    "colName_expt_operator = 'ADME MDCK(WT) Permeability;Mean;A to B Papp (10^-6 cm/s);(Mod)'    ## None\n",
    "\n",
    "colName_list_desc = None    ## comma separated string e.g.,'desc_1,desc_2,desc_3'\n",
    "\n",
    "colName_label = 'ADME MDCK(WT) Permeability;Mean;A to B Recovery (%)'    ## 'Concat;Project'"
   ]
  },
  {
   "cell_type": "code",
   "execution_count": 3,
   "metadata": {},
   "outputs": [
    {
     "name": "stdout",
     "output_type": "stream",
     "text": [
      "\t==>Now reading the csv...\n",
      "\tError! Can not detect encoding, error No module named 'chardet'\n",
      "\tThe original csv file has 3940 rows and 13 columns\n",
      "\t==>Now cleanning the Smiles...\n",
      "\t\tWarning! Cannot prase this Smiles: <n1(c(nc(c(c1N)N(CCCO)C(=O)COc2c3c(ccc2)cccc3)=O)=O)Cc4ccccc4>\n",
      "\t\tErrMsg: Python argument types in\n",
      "    rdkit.Chem.rdmolfiles.MolToSmiles(NoneType)\n",
      "did not match C++ signature:\n",
      "    MolToSmiles(RDKit::ROMol mol, bool isomericSmiles=True, bool kekuleSmiles=False, int rootedAtAtom=-1, bool canonical=True, bool allBondsExplicit=False, bool allHsExplicit=False, bool doRandom=False, bool ignoreAtomMapNumbers=False)\n",
      "    MolToSmiles(RDKit::ROMol mol, RDKit::SmilesWriteParams params)\n",
      "\t==>Now cleanning the csv...\n",
      "\tAfter removing NaNs, the table has 3939 rows and 14 columns\n",
      "\tAfter removing duplicates, the table has 3939 rows and 14 columns\n",
      "\tAfter filterring operators, the table has 3830 rows and 14 columns\n",
      "(3830, 14)\n"
     ]
    },
    {
     "data": {
      "text/html": [
       "<div>\n",
       "<style scoped>\n",
       "    .dataframe tbody tr th:only-of-type {\n",
       "        vertical-align: middle;\n",
       "    }\n",
       "\n",
       "    .dataframe tbody tr th {\n",
       "        vertical-align: top;\n",
       "    }\n",
       "\n",
       "    .dataframe thead th {\n",
       "        text-align: right;\n",
       "    }\n",
       "</style>\n",
       "<table border=\"1\" class=\"dataframe\">\n",
       "  <thead>\n",
       "    <tr style=\"text-align: right;\">\n",
       "      <th></th>\n",
       "      <th>Compound Name</th>\n",
       "      <th>Structure</th>\n",
       "      <th>Smiles</th>\n",
       "      <th>Concat;External Id</th>\n",
       "      <th>Concat;Project</th>\n",
       "      <th>ADME MDCK(WT) Permeability;Mean;A to B Papp (10^-6 cm/s);(Mod)</th>\n",
       "      <th>ADME MDCK(WT) Permeability;Mean;A to B Papp (10^-6 cm/s);(Num)</th>\n",
       "      <th>ADME MDCK(WT) Permeability;Mean;B to A Papp (10^-6 cm/s);(Mod)</th>\n",
       "      <th>ADME MDCK(WT) Permeability;Mean;B to A Papp (10^-6 cm/s);(Num)</th>\n",
       "      <th>ADME MDCK(WT) Permeability;Concat;Comments</th>\n",
       "      <th>ADME MDCK(WT) Permeability;Concat;Run Date</th>\n",
       "      <th>ADME MDCK(WT) Permeability;Mean;A to B Recovery (%)</th>\n",
       "      <th>ADME MDCK(WT) Permeability;Mean;B to A Recovery (%)</th>\n",
       "      <th>Structure_original</th>\n",
       "    </tr>\n",
       "  </thead>\n",
       "  <tbody>\n",
       "    <tr>\n",
       "      <th>0</th>\n",
       "      <td>KT-0001674</td>\n",
       "      <td>Fc1c(N2CCOCC2)ccc(N2C[C@@H](CNC(=O)CCCCCc3cc4c...</td>\n",
       "      <td>N1(C2=CC=C(N3CCOCC3)C(F)=C2)C[C@H](CNC(CCCCCC2...</td>\n",
       "      <td>BAV-002-001F</td>\n",
       "      <td>Miscellaneous</td>\n",
       "      <td>=</td>\n",
       "      <td>0.298013</td>\n",
       "      <td>=</td>\n",
       "      <td>1.327664</td>\n",
       "      <td>NaN</td>\n",
       "      <td>7/31/2018</td>\n",
       "      <td>65.396574</td>\n",
       "      <td>71.287296</td>\n",
       "      <td>Fc1c(ccc(c1)N2C[C@H](OC2=O)CNC(=O)CCCCCc3cc4c(...</td>\n",
       "    </tr>\n",
       "    <tr>\n",
       "      <th>1</th>\n",
       "      <td>KT-0001675</td>\n",
       "      <td>Fc1c(N2CCOCC2)ccc(N2C[C@@H](CNCCCCCCc3cc4c(cc3...</td>\n",
       "      <td>N1(C2=CC=C(N3CCOCC3)C(F)=C2)C[C@H](CNCCCCCCC2=...</td>\n",
       "      <td>BAV-004-001F</td>\n",
       "      <td>Miscellaneous</td>\n",
       "      <td>=</td>\n",
       "      <td>0.767547</td>\n",
       "      <td>=</td>\n",
       "      <td>8.333819</td>\n",
       "      <td>NaN</td>\n",
       "      <td>7/31/2018</td>\n",
       "      <td>66.234937</td>\n",
       "      <td>57.366047</td>\n",
       "      <td>Fc1c(ccc(c1)N2C[C@H](OC2=O)CNCCCCCCc3cc4c(cc3)...</td>\n",
       "    </tr>\n",
       "    <tr>\n",
       "      <th>2</th>\n",
       "      <td>KT-0001676</td>\n",
       "      <td>CC(C)Oc1cc(C2CCN(CCCCCCc3ccc4c(c3)n(C)c(=O)n4C...</td>\n",
       "      <td>CC(C)OC1=C(NC2=NC(NC3=CC=CC=C3S(=O)(=O)C(C)C)=...</td>\n",
       "      <td>BAV-006-001F</td>\n",
       "      <td>Miscellaneous</td>\n",
       "      <td>=</td>\n",
       "      <td>0.186651</td>\n",
       "      <td>=</td>\n",
       "      <td>0.054087</td>\n",
       "      <td>;* The peak area of A-B receiver samples were...</td>\n",
       "      <td>7/31/2018;8/9/2018</td>\n",
       "      <td>22.744314</td>\n",
       "      <td>16.539027</td>\n",
       "      <td>CC(C)Oc1cc(c(cc1Nc2ncc(c(n2)Nc3ccccc3S(=O)(=O)...</td>\n",
       "    </tr>\n",
       "  </tbody>\n",
       "</table>\n",
       "</div>"
      ],
      "text/plain": [
       "  Compound Name                                          Structure  \\\n",
       "0    KT-0001674  Fc1c(N2CCOCC2)ccc(N2C[C@@H](CNC(=O)CCCCCc3cc4c...   \n",
       "1    KT-0001675  Fc1c(N2CCOCC2)ccc(N2C[C@@H](CNCCCCCCc3cc4c(cc3...   \n",
       "2    KT-0001676  CC(C)Oc1cc(C2CCN(CCCCCCc3ccc4c(c3)n(C)c(=O)n4C...   \n",
       "\n",
       "                                              Smiles Concat;External Id  \\\n",
       "0  N1(C2=CC=C(N3CCOCC3)C(F)=C2)C[C@H](CNC(CCCCCC2...       BAV-002-001F   \n",
       "1  N1(C2=CC=C(N3CCOCC3)C(F)=C2)C[C@H](CNCCCCCCC2=...       BAV-004-001F   \n",
       "2  CC(C)OC1=C(NC2=NC(NC3=CC=CC=C3S(=O)(=O)C(C)C)=...       BAV-006-001F   \n",
       "\n",
       "  Concat;Project  \\\n",
       "0  Miscellaneous   \n",
       "1  Miscellaneous   \n",
       "2  Miscellaneous   \n",
       "\n",
       "  ADME MDCK(WT) Permeability;Mean;A to B Papp (10^-6 cm/s);(Mod)  \\\n",
       "0                                                  =               \n",
       "1                                                  =               \n",
       "2                                                  =               \n",
       "\n",
       "   ADME MDCK(WT) Permeability;Mean;A to B Papp (10^-6 cm/s);(Num)  \\\n",
       "0                                           0.298013                \n",
       "1                                           0.767547                \n",
       "2                                           0.186651                \n",
       "\n",
       "  ADME MDCK(WT) Permeability;Mean;B to A Papp (10^-6 cm/s);(Mod)  \\\n",
       "0                                                  =               \n",
       "1                                                  =               \n",
       "2                                                  =               \n",
       "\n",
       "   ADME MDCK(WT) Permeability;Mean;B to A Papp (10^-6 cm/s);(Num)  \\\n",
       "0                                           1.327664                \n",
       "1                                           8.333819                \n",
       "2                                           0.054087                \n",
       "\n",
       "          ADME MDCK(WT) Permeability;Concat;Comments  \\\n",
       "0                                                NaN   \n",
       "1                                                NaN   \n",
       "2   ;* The peak area of A-B receiver samples were...   \n",
       "\n",
       "  ADME MDCK(WT) Permeability;Concat;Run Date  \\\n",
       "0                                  7/31/2018   \n",
       "1                                  7/31/2018   \n",
       "2                         7/31/2018;8/9/2018   \n",
       "\n",
       "   ADME MDCK(WT) Permeability;Mean;A to B Recovery (%)  \\\n",
       "0                                          65.396574     \n",
       "1                                          66.234937     \n",
       "2                                          22.744314     \n",
       "\n",
       "   ADME MDCK(WT) Permeability;Mean;B to A Recovery (%)  \\\n",
       "0                                          71.287296     \n",
       "1                                          57.366047     \n",
       "2                                          16.539027     \n",
       "\n",
       "                                  Structure_original  \n",
       "0  Fc1c(ccc(c1)N2C[C@H](OC2=O)CNC(=O)CCCCCc3cc4c(...  \n",
       "1  Fc1c(ccc(c1)N2C[C@H](OC2=O)CNCCCCCCc3cc4c(cc3)...  \n",
       "2  CC(C)Oc1cc(c(cc1Nc2ncc(c(n2)Nc3ccccc3S(=O)(=O)...  "
      ]
     },
     "execution_count": 3,
     "metadata": {},
     "output_type": "execute_result"
    }
   ],
   "source": [
    "dataTable = DataPrep.read_csv(fileNameIn=fileNameIn, sep=sep, detect_encoding=detect_encoding)\n",
    "dataTable = DataPrep.clean_smiles(dataTable=dataTable, colName_smi=colName_smi, canonical=False, errmsg=True)\n",
    "dataTable = DataPrep.clean_csv(dataTable=dataTable, cols_basic=[colName_mid, colName_smi], cols_data=[colName_expt], cols_mod=[colName_expt_operator])\n",
    "\n",
    "print(dataTable.shape)\n",
    "dataTable.head(3)"
   ]
  },
  {
   "cell_type": "code",
   "execution_count": null,
   "metadata": {},
   "outputs": [],
   "source": []
  },
  {
   "cell_type": "code",
   "execution_count": null,
   "metadata": {},
   "outputs": [],
   "source": []
  },
  {
   "cell_type": "code",
   "execution_count": null,
   "metadata": {},
   "outputs": [],
   "source": [
    "dataTable_rmDup = dataTable_rmNaN.drop_duplicates(subset=[colName_mid, colName_smi, colName_expt])\n",
    "dataTable_rmDup"
   ]
  },
  {
   "cell_type": "code",
   "execution_count": null,
   "metadata": {},
   "outputs": [],
   "source": [
    "dataTable_rmDup[dataTable_rmDup['ADME MDCK(WT) Permeability;Concat;Comments'].isin(['0.25% Solutol'])]"
   ]
  },
  {
   "cell_type": "code",
   "execution_count": null,
   "metadata": {},
   "outputs": [],
   "source": []
  },
  {
   "cell_type": "code",
   "execution_count": null,
   "metadata": {},
   "outputs": [],
   "source": []
  },
  {
   "cell_type": "code",
   "execution_count": null,
   "metadata": {},
   "outputs": [],
   "source": []
  },
  {
   "cell_type": "code",
   "execution_count": null,
   "metadata": {},
   "outputs": [],
   "source": []
  },
  {
   "cell_type": "code",
   "execution_count": null,
   "metadata": {},
   "outputs": [],
   "source": []
  },
  {
   "cell_type": "code",
   "execution_count": null,
   "metadata": {},
   "outputs": [],
   "source": []
  },
  {
   "cell_type": "code",
   "execution_count": null,
   "metadata": {},
   "outputs": [],
   "source": []
  },
  {
   "cell_type": "code",
   "execution_count": null,
   "metadata": {},
   "outputs": [],
   "source": []
  },
  {
   "cell_type": "code",
   "execution_count": null,
   "metadata": {},
   "outputs": [],
   "source": []
  },
  {
   "cell_type": "code",
   "execution_count": null,
   "metadata": {},
   "outputs": [],
   "source": []
  },
  {
   "cell_type": "code",
   "execution_count": null,
   "metadata": {},
   "outputs": [],
   "source": []
  },
  {
   "cell_type": "code",
   "execution_count": null,
   "metadata": {},
   "outputs": [],
   "source": []
  },
  {
   "cell_type": "code",
   "execution_count": null,
   "metadata": {},
   "outputs": [],
   "source": []
  },
  {
   "cell_type": "code",
   "execution_count": null,
   "metadata": {},
   "outputs": [],
   "source": []
  },
  {
   "cell_type": "code",
   "execution_count": null,
   "metadata": {},
   "outputs": [],
   "source": []
  }
 ],
 "metadata": {
  "kernelspec": {
   "display_name": "pyg",
   "language": "python",
   "name": "python3"
  },
  "language_info": {
   "codemirror_mode": {
    "name": "ipython",
    "version": 3
   },
   "file_extension": ".py",
   "mimetype": "text/x-python",
   "name": "python",
   "nbconvert_exporter": "python",
   "pygments_lexer": "ipython3",
   "version": "3.9.21"
  }
 },
 "nbformat": 4,
 "nbformat_minor": 2
}
