{
 "cells": [
  {
   "cell_type": "code",
   "execution_count": 1,
   "metadata": {},
   "outputs": [],
   "source": [
    "import copy\n",
    "import sqlite3\n",
    "import numpy as np\n",
    "import pandas as pd\n",
    "from rdkit import Chem"
   ]
  },
  {
   "cell_type": "markdown",
   "metadata": {},
   "source": [
    "#### 1. Extracting data from Database"
   ]
  },
  {
   "cell_type": "code",
   "execution_count": 2,
   "metadata": {},
   "outputs": [],
   "source": [
    "def call_my_query(db_file, my_query):\n",
    "    ## connect to the SQLIte database\n",
    "    my_connection = sqlite3.connect(db_file)\n",
    "\n",
    "    ## create a cursor object\n",
    "    my_cursor = my_connection.cursor()\n",
    "\n",
    "    ## excute the query\n",
    "    my_cursor.execute(my_query)\n",
    "\n",
    "    ## fetch all the rows\n",
    "    rows = my_cursor.fetchall()\n",
    "    \n",
    "    ## export the results\n",
    "    data_list = [row for row in rows]\n",
    "\n",
    "    my_connection.close()\n",
    "    return data_list\n",
    "\n",
    "def extract_tables(db_file, table_name):\n",
    "    ## extract table data from SQLite DB\n",
    "    my_query_colName = f\"PRAGMA table_info({table_name})\"\n",
    "    colName_list = call_my_query(db_file, my_query_colName)\n",
    "\n",
    "    my_query_data = f\"SELECT * FROM {table_name}\"\n",
    "    data_list = call_my_query(db_file, my_query_data)\n",
    "\n",
    "    ## clean up data\n",
    "    dataDict = {}\n",
    "    for row_tuple in data_list:\n",
    "        idx = row_tuple[0]\n",
    "        dataDict[idx] = {}\n",
    "\n",
    "        for col in colName_list:\n",
    "            colIdx, colName = col[0], col[1]\n",
    "            dataDict[idx][colName] = row_tuple[colIdx]\n",
    "    return dataDict"
   ]
  },
  {
   "cell_type": "code",
   "execution_count": 4,
   "metadata": {},
   "outputs": [],
   "source": [
    "db_file = './results/Compounds_All.mmpdb'\n",
    "dataDict_tables = {}\n",
    "\n",
    "for table_name in [\"pair\", \"compound\", \"compound_property\", \"property_name\", \"constant_smiles\",\n",
    "                   \"rule\", \"rule_smiles\", \"rule_environment\", \"rule_environment_statistics\", \"environment_fingerprint\"]:\n",
    "    dataDict_table = extract_tables(db_file, table_name)\n",
    "    dataDict_tables[table_name] = pd.DataFrame.from_dict(dataDict_table).T\n",
    "    # print(table_name)"
   ]
  },
  {
   "cell_type": "code",
   "execution_count": null,
   "metadata": {},
   "outputs": [],
   "source": [
    "dataDict_tables[\"property_name\"]"
   ]
  },
  {
   "cell_type": "code",
   "execution_count": null,
   "metadata": {},
   "outputs": [],
   "source": [
    "dataTable_rule_env_stats = copy.deepcopy(dataDict_tables[\"rule_environment_statistics\"])\n",
    "\n",
    "dataTable_rule_env_stats"
   ]
  },
  {
   "cell_type": "code",
   "execution_count": null,
   "metadata": {},
   "outputs": [],
   "source": [
    "dataTable_rule_env_stats = copy.deepcopy(dataDict_tables[\"rule_environment_statistics\"])\n",
    "dataTable_rule_env_stats.drop(columns=['id', 'kurtosis','skewness', 'paired_t', 'p_value', 'q1', 'median', 'q3'], inplace=True)\n",
    "dataTable_rule_env_stats = dataTable_rule_env_stats.merge(dataDict_tables[\"property_name\"], left_on='property_name_id', right_on='id')\n",
    "dataTable_rule_env_stats"
   ]
  },
  {
   "cell_type": "code",
   "execution_count": null,
   "metadata": {},
   "outputs": [],
   "source": [
    "dataTable_rule_env_fp = copy.deepcopy(dataDict_tables[\"environment_fingerprint\"])\n",
    "dataTable_rule_env_fp.rename(columns={'id':'environment_fingerprint_id', \n",
    "                                      'pseudosmiles':'rule_env_fp_pseudosmiles',\n",
    "                                      'smarts':'rule_env_fp_smarts', \n",
    "                                      'parent_smarts':'rule_env_fp_parent_smarts'})\n",
    "dataTable_rule_env_fp"
   ]
  },
  {
   "cell_type": "markdown",
   "metadata": {},
   "source": [
    "#### 2. clean up data"
   ]
  },
  {
   "cell_type": "code",
   "execution_count": null,
   "metadata": {},
   "outputs": [],
   "source": [
    "## -------------------- clean up rule table & merge rule smiles --------------------\n",
    "dataTable_rules = copy.deepcopy(dataDict_tables[\"rule\"])\n",
    "dataTable_rules.rename(columns={'id':'rule_id'},  inplace=True)\n",
    "\n",
    "## from\n",
    "dataTable_rules = dataTable_rules.merge(dataDict_tables[\"rule_smiles\"], left_on=['from_smiles_id'], right_on=['id'])\n",
    "dataTable_rules.drop(columns=['id', 'num_heavies'], inplace=True)\n",
    "dataTable_rules.rename(columns={'smiles':'from_smiles'}, inplace=True)\n",
    "dataTable_rules.head(3)\n",
    "\n",
    "## to \n",
    "dataTable_rules = dataTable_rules.merge(dataDict_tables[\"rule_smiles\"], left_on=['to_smiles_id'], right_on=['id'])\n",
    "dataTable_rules.drop(columns=['id', 'num_heavies'], inplace=True)\n",
    "dataTable_rules.rename(columns={'smiles':'to_smiles'}, inplace=True)\n",
    "\n",
    "## -------------------- merge rule table and rule env table --------------------\n",
    "dataTable_rule_env = copy.deepcopy(dataDict_tables[\"rule_environment\"])\n",
    "dataTable_rule_env.rename(columns={'id':'rule_environment_id', 'radius':'rule_env_radius', 'num_pairs':'rule_env_num_pairs'},  inplace=True)\n",
    "dataTable_rule_env = dataTable_rule_env.merge(dataTable_rules, on='rule_id')\n",
    "\n",
    "## -------------------- merge rule env table and rule_env_stats info --------------------\n",
    "## clean up rule-env-stats table\n",
    "dataTable_rule_env_stats = copy.deepcopy(dataDict_tables[\"rule_environment_statistics\"])\n",
    "dataTable_rule_env_stats.drop(columns=['id', 'kurtosis','skewness', 'paired_t', 'p_value', 'q1', 'median', 'q3'], inplace=True)\n",
    "dataTable_rule_env_stats = dataTable_rule_env_stats.merge(dataDict_tables[\"property_name\"], left_on='property_name_id', right_on='id')\n",
    "\n",
    "## merge\n",
    "dataTable_rule_env = dataTable_rule_env.merge(dataTable_rule_env_stats, left_on=['rule_environment_id'], right_on=['rule_environment_id'])\n",
    "\n",
    "\n",
    "## -------------------- merge rule env table and rule_env_fp info --------------------\n",
    "dataTable_rule_env_fp = copy.deepcopy(dataDict_tables[\"environment_fingerprint\"])\n",
    "dataTable_rule_env_fp.rename(columns={'id':'environment_fingerprint_id', \n",
    "                                      'pseudosmiles':'rule_env_fp_pseudosmiles',\n",
    "                                      'smarts':'rule_env_fp_smarts', \n",
    "                                      'parent_smarts':'rule_env_fp_parent_smarts'}, inplace=True)\n",
    "\n",
    "dataTable_rule_env = dataTable_rule_env.merge(dataTable_rule_env_fp, on=['environment_fingerprint_id'])\n",
    "# dataTable_rule_env.drop(columns=['id'], inplace=True)    #, 'smarts', 'parent_smarts'\n",
    "dataTable_rule_env.rename(columns={'environment_fingerprint_id':'rule_env_fingerprint_id',\n",
    "                                   'pseudosmiles':'rule_env_fp_pseudosmiles', \n",
    "                                   'smarts':'rule_env_fp_smarts', \n",
    "                                   'parent_smarts':'rule_env_fp_parent_smarts', }, inplace=True)\n",
    "\n",
    "\n",
    "# cols_in_order = ['rule_id', 'from_smiles_id', 'from_smiles', 'to_smiles_id', 'to_smiles', \n",
    "#                  'rule_environment_id', 'rule_env_num_pairs', 'rule_env_radius', 'rule_env_fingerprint_id', \n",
    "#                  'rule_env_fp_pseudosmiles', 'rule_env_fp_smarts', 'rule_env_fp_parent_smarts']\n",
    "# dataTable_rule_env = dataTable_rule_env[cols_in_order]\n",
    "\n",
    "dataTable_rule_env"
   ]
  },
  {
   "cell_type": "code",
   "execution_count": null,
   "metadata": {},
   "outputs": [],
   "source": []
  },
  {
   "cell_type": "code",
   "execution_count": null,
   "metadata": {},
   "outputs": [],
   "source": []
  },
  {
   "cell_type": "code",
   "execution_count": null,
   "metadata": {},
   "outputs": [],
   "source": [
    "dataDict_tables[\"rule_smiles\"]"
   ]
  },
  {
   "cell_type": "code",
   "execution_count": null,
   "metadata": {},
   "outputs": [],
   "source": []
  },
  {
   "cell_type": "code",
   "execution_count": null,
   "metadata": {},
   "outputs": [],
   "source": []
  },
  {
   "cell_type": "code",
   "execution_count": null,
   "metadata": {},
   "outputs": [],
   "source": []
  },
  {
   "cell_type": "code",
   "execution_count": null,
   "metadata": {},
   "outputs": [],
   "source": []
  },
  {
   "cell_type": "code",
   "execution_count": null,
   "metadata": {},
   "outputs": [],
   "source": [
    "dataTable = copy.deepcopy(dataDict_tables[\"pair\"])\n",
    "dataTable.head(3)\n",
    "\n",
    "## ------------------- add compound structure & property data -------------------\n",
    "table_merge = dataDict_tables[\"compound\"]\n",
    "\n",
    "## compound-1 (from)\n",
    "dataTable = dataTable.merge(table_merge, left_on=['compound1_id'], right_on=['id'])\n",
    "dataTable.drop(columns=['id_y', 'clean_smiles', 'clean_num_heavies'], inplace=True)\n",
    "dataTable.rename(columns={'id_x':'id', 'public_id':'KT_number_1', 'input_smiles':'smiles_1'}, inplace=True)\n",
    "\n",
    "## compound-2 (to)\n",
    "dataTable = dataTable.merge(table_merge, left_on=['compound2_id'], right_on=['id'])\n",
    "dataTable.drop(columns=['id_y', 'clean_smiles', 'clean_num_heavies'], inplace=True)\n",
    "dataTable.rename(columns={'id_x':'id', 'public_id':'KT_number_2', 'input_smiles':'smiles_2'}, inplace=True)\n",
    "\n",
    "## ------------------- add compound prop data -------------------\n",
    "table_merge = dataDict_tables[\"compound_property\"]\n",
    "\n",
    "## compound-1 (from)\n",
    "dataTable = dataTable.merge(table_merge, left_on=['compound1_id'], right_on=['compound_id'])\n",
    "dataTable.drop(columns=['id_y', 'compound_id'], inplace=True)\n",
    "dataTable.rename(columns={'id_x':'id', 'value':'property_values_1'}, inplace=True)\n",
    "\n",
    "## compound-2 (to)\n",
    "dataTable = dataTable.merge(table_merge, left_on=['compound2_id', 'property_name_id'], right_on=['compound_id', 'property_name_id'])\n",
    "dataTable.drop(columns=['id_y', 'compound_id'], inplace=True)\n",
    "dataTable.rename(columns={'id_x':'id', 'value':'property_values_2'}, inplace=True)\n",
    "\n",
    "## add property name\n",
    "table_merge = dataDict_tables[\"property_name\"]\n",
    "dataTable = dataTable.merge(table_merge, left_on=['property_name_id'], right_on=['id'])\n",
    "dataTable.drop(columns=['id_y'], inplace=True)\n",
    "dataTable.rename(columns={'id_x':'id', 'name':'property_name'}, inplace=True)\n",
    "\n",
    "## ------------------- add constant pieces data of the match pair -------------------\n",
    "table_merge = dataDict_tables[\"constant_smiles\"]\n",
    "dataTable = dataTable.merge(table_merge, left_on=['constant_id'], right_on=['id'])\n",
    "dataTable.drop(columns=['id_y'], inplace=True)\n",
    "dataTable.rename(columns={'id_x':'id', 'smiles':'constant_smiles'}, inplace=True)\n",
    "\n",
    "## ------------------- add rule env data -------------------\n",
    "table_merge = dataDict_tables[\"rule_environment\"]\n",
    "dataTable = dataTable.merge(table_merge, left_on=['rule_environment_id'], right_on=['id'])\n",
    "dataTable.drop(columns=['id_y'], inplace=True)\n",
    "dataTable.rename(columns={'id_x':'id', 'radius':'rule_env_radius', 'num_pairs':'rule_env_num_pairs'}, inplace=True)\n",
    "\n",
    "## ------------------- add rule info -------------------\n",
    "table_merge = dataDict_tables[\"rule\"]\n",
    "dataTable = dataTable.merge(table_merge, left_on=['rule_id'], right_on=['id'])\n",
    "dataTable.drop(columns=['id_y'], inplace=True)    #'rule_id'\n",
    "dataTable.rename(columns={'id_x':'id'}, inplace=True)\n",
    "\n",
    "table_merge = dataDict_tables[\"rule_smiles\"]\n",
    "dataTable = dataTable.merge(table_merge, left_on=['from_smiles_id'], right_on=['id'])\n",
    "dataTable.drop(columns=['id_y', 'from_smiles_id', 'num_heavies'], inplace=True)    #'num_heavies'\n",
    "dataTable.rename(columns={'id_x':'id', 'smiles':'rule_from_smiles'}, inplace=True)\n",
    "\n",
    "table_merge = dataDict_tables[\"rule_smiles\"]\n",
    "dataTable = dataTable.merge(table_merge, left_on=['to_smiles_id'], right_on=['id'])\n",
    "dataTable.drop(columns=['id_y', 'to_smiles_id', 'num_heavies'], inplace=True)\n",
    "dataTable.rename(columns={'id_x':'id', 'smiles':'rule_to_smiles'}, inplace=True)\n",
    "\n",
    "## ------------------- add rule env stats -------------------\n",
    "table_merge = dataDict_tables[\"rule_environment_statistics\"]\n",
    "dataTable = dataTable.merge(table_merge, \n",
    "                            left_on=['rule_environment_id', 'property_name_id'], \n",
    "                            right_on=['rule_environment_id', 'property_name_id'])\n",
    "\n",
    "drop_cols = ['kurtosis', 'skewness', 'paired_t', 'p_value', 'q1', 'q3', 'median', 'std']\n",
    "dataTable.drop(columns=['id_y']+drop_cols, inplace=True)\n",
    "dataTable.rename(columns={'id_x':'id', 'count':'rule_env_count', 'avg':'rule_env_avg', \n",
    "                          'min':'rule_env_min', 'max':'rule_env_max'}, inplace=True)\n",
    "\n",
    "## ------------------- add rule env environment_fingerprint data -------------------\n",
    "table_merge = dataDict_tables[\"environment_fingerprint\"]\n",
    "## to be added\n",
    "\n",
    "## ------------------- remove useless cols -------------------\n",
    "dataTable.drop(columns=['id', 'compound1_id', 'compound2_id', 'constant_id', 'rule_environment_id', 'property_name_id'], inplace=True)\n",
    "print(dataTable.shape)\n",
    "dataTable.head(3)"
   ]
  },
  {
   "cell_type": "code",
   "execution_count": null,
   "metadata": {},
   "outputs": [],
   "source": [
    "def GeneratePairID(row, col_mol_id_1='KT_number_1', col_mol_id_2='KT_number_2'):\n",
    "    mol_id_1 = row[col_mol_id_1]\n",
    "    mol_id_2 = row[col_mol_id_2]\n",
    "    pair_id = str(mol_id_1) + '=>' + str(mol_id_2)\n",
    "    \n",
    "    mol_id_1_num = int(str(mol_id_1).split('-')[1])\n",
    "    mol_id_2_num = int(str(mol_id_2).split('-')[1])\n",
    "    pair_couple = (np.min([mol_id_1_num, mol_id_2_num]), np.max([mol_id_1_num, mol_id_2_num]))\n",
    "    return pd.Series([pair_id, pair_couple])\n",
    "\n",
    "dataTable[['Pair_id', 'PairInfo']] = dataTable.apply(lambda row: GeneratePairID(row, col_mol_id_1='KT_number_1', col_mol_id_2='KT_number_2'), axis=1)\n",
    "print(dataTable.shape)\n",
    "\n",
    "################################################################################################\n",
    "def calculate_heavy_atoms(molecule_smiles):\n",
    "    try:\n",
    "        mol = Chem.MolFromSmiles(molecule_smiles)\n",
    "        num_heavy_atoms = mol.GetNumHeavyAtoms()\n",
    "    except Exception as e:\n",
    "        print('Error', e)\n",
    "        num_heavy_atoms = np.nan\n",
    "    return num_heavy_atoms\n",
    "\n",
    "dataTable['constant_size'] = dataTable['constant_smiles'].apply(calculate_heavy_atoms)\n",
    "dataTable.sort_values(by=['PairInfo', 'Pair_id', 'rule_env_radius', 'constant_size'], ascending=[True, True, True, False], inplace=True)\n",
    "print(dataTable.shape)\n",
    "\n",
    "################################################################################################"
   ]
  },
  {
   "cell_type": "code",
   "execution_count": null,
   "metadata": {},
   "outputs": [],
   "source": [
    "def calculate_heavy_atoms(molecule_smiles):\n",
    "    try:\n",
    "        mol = Chem.MolFromSmiles(molecule_smiles)\n",
    "        num_heavy_atoms = mol.GetNumHeavyAtoms()\n",
    "    except Exception as e:\n",
    "        print('Error', e)\n",
    "        num_heavy_atoms = np.nan\n",
    "    return num_heavy_atoms\n",
    "\n",
    "dataTable['constant_size'] = dataTable['constant_smiles'].apply(calculate_heavy_atoms)\n",
    "dataTable.sort_values(by=['PairInfo', 'Pair_id', 'rule_env_radius', 'constant_size'], ascending=[True, True, True, False], inplace=True)\n",
    "dataTable.to_csv(f'./results/Compounds_All_4_informatics.csv', index=False)\n",
    "dataTable.head(3)"
   ]
  },
  {
   "cell_type": "markdown",
   "metadata": {},
   "source": [
    "#### 3. removed the \"duplicated\" rows"
   ]
  },
  {
   "cell_type": "code",
   "execution_count": null,
   "metadata": {},
   "outputs": [],
   "source": [
    "dataTable.sort_values(by=['PairInfo', 'rule_env_radius', 'constant_size'], ascending=[True, True, False], inplace=True)\n",
    "dataTable_rmDup = dataTable.drop_duplicates(subset=['PairInfo', 'property_name'], keep='first', inplace=False)\n",
    "print(dataTable_rmDup.shape)\n",
    "dataTable_rmDup.head(3)"
   ]
  },
  {
   "cell_type": "markdown",
   "metadata": {},
   "source": [
    "#### append symetric rows"
   ]
  },
  {
   "cell_type": "code",
   "execution_count": null,
   "metadata": {},
   "outputs": [],
   "source": [
    "rename_symetric_dict = {\n",
    "    'KT_number_1': 'KT_number_2',\n",
    "    'smiles_1': 'smiles_2',\n",
    "    'KT_number_2': 'KT_number_1',\n",
    "    'smiles_2': 'smiles_1',\n",
    "    'property_values_1': 'property_values_2',\n",
    "    'property_values_2': 'property_values_1', \n",
    "    'rule_from_smiles': 'rule_to_smiles',\n",
    "    'rule_to_smiles': 'rule_from_smiles'}\n",
    "dataTable_rmDup_symetric = dataTable_rmDup.rename(columns=rename_symetric_dict, inplace=False)\n",
    "dataTable_rmDup_symetric['Pair_id'] = dataTable_rmDup_symetric['KT_number_1'] + '=>' + dataTable_rmDup_symetric['KT_number_2']\n",
    "for col in ['rule_env_avg', 'rule_env_min', 'rule_env_max']:\n",
    "    dataTable_rmDup_symetric[col] = dataTable_rmDup_symetric[col] * -1\n",
    "dataTable_rmDup_symetric.head(3)"
   ]
  },
  {
   "cell_type": "code",
   "execution_count": null,
   "metadata": {},
   "outputs": [],
   "source": [
    "dataTable_rmDup_all = dataTable_rmDup._append(dataTable_rmDup_symetric, ignore_index=True)\n",
    "dataTable_rmDup_all['rule_env_min'] = dataTable_rmDup_all['rule_env_min'].apply(lambda x:round(x, 2)).astype('str')\n",
    "dataTable_rmDup_all['rule_env_max'] = dataTable_rmDup_all['rule_env_max'].apply(lambda x:round(x, 2)).astype('str')\n",
    "dataTable_rmDup_all['rule_env_range'] = '('+ dataTable_rmDup_all['rule_env_min'] + ',' + dataTable_rmDup_all['rule_env_max'] +')'"
   ]
  },
  {
   "cell_type": "code",
   "execution_count": null,
   "metadata": {},
   "outputs": [],
   "source": [
    "dataTable_rmDup_all.sort_values(by=['PairInfo', 'property_name', 'Pair_id'], ascending=[True, True, True], inplace=True)\n",
    "dataTable_rmDup_all = dataTable_rmDup_all.reset_index(drop=True)\n",
    "dataTable_rmDup_all.to_csv(f'./results/Compounds_All_4_informatics_rmDups.csv', index=False)\n",
    "dataTable_rmDup_all"
   ]
  },
  {
   "cell_type": "code",
   "execution_count": null,
   "metadata": {},
   "outputs": [],
   "source": []
  },
  {
   "cell_type": "code",
   "execution_count": null,
   "metadata": {},
   "outputs": [],
   "source": []
  },
  {
   "cell_type": "code",
   "execution_count": null,
   "metadata": {},
   "outputs": [],
   "source": []
  },
  {
   "cell_type": "code",
   "execution_count": null,
   "metadata": {},
   "outputs": [],
   "source": []
  }
 ],
 "metadata": {
  "kernelspec": {
   "display_name": "ml",
   "language": "python",
   "name": "python3"
  },
  "language_info": {
   "codemirror_mode": {
    "name": "ipython",
    "version": 3
   },
   "file_extension": ".py",
   "mimetype": "text/x-python",
   "name": "python",
   "nbconvert_exporter": "python",
   "pygments_lexer": "ipython3",
   "version": "3.10.13"
  }
 },
 "nbformat": 4,
 "nbformat_minor": 2
}
