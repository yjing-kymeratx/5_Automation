{
 "cells": [
  {
   "cell_type": "code",
   "execution_count": 1,
   "metadata": {},
   "outputs": [],
   "source": [
    "import os\n",
    "import subprocess\n",
    "import pandas as pd"
   ]
  },
  {
   "cell_type": "code",
   "execution_count": 2,
   "metadata": {},
   "outputs": [
    {
     "name": "stdout",
     "output_type": "stream",
     "text": [
      "/mnt/data0/Research/5_Automation/mmp/rdkit/ADMET/results is existing\n"
     ]
    }
   ],
   "source": [
    "dir_outputs = os.path.join(os.getcwd(), 'results')\n",
    "os.makedirs(dir_outputs) if not os.path.exists(dir_outputs) else print(f'{dir_outputs} is existing')"
   ]
  },
  {
   "cell_type": "markdown",
   "metadata": {},
   "source": [
    "#### 1. Prepare the SMILES file and property CSV file"
   ]
  },
  {
   "cell_type": "code",
   "execution_count": 3,
   "metadata": {},
   "outputs": [
    {
     "name": "stdout",
     "output_type": "stream",
     "text": [
      "There are total 6150 molecules in the table with Structure(SMILES)\n"
     ]
    },
    {
     "data": {
      "text/html": [
       "<div>\n",
       "<style scoped>\n",
       "    .dataframe tbody tr th:only-of-type {\n",
       "        vertical-align: middle;\n",
       "    }\n",
       "\n",
       "    .dataframe tbody tr th {\n",
       "        vertical-align: top;\n",
       "    }\n",
       "\n",
       "    .dataframe thead th {\n",
       "        text-align: right;\n",
       "    }\n",
       "</style>\n",
       "<table border=\"1\" class=\"dataframe\">\n",
       "  <thead>\n",
       "    <tr style=\"text-align: right;\">\n",
       "      <th></th>\n",
       "      <th>Compound Name</th>\n",
       "      <th>Structure</th>\n",
       "      <th>Concat;Project</th>\n",
       "      <th>Concat;External Id</th>\n",
       "      <th>ADME MDCK(WT) Permeability;Mean;A to B Papp (10^-6 cm/s);(Mod)</th>\n",
       "      <th>ADME MDCK(WT) Permeability;Mean;A to B Papp (10^-6 cm/s);(Num)</th>\n",
       "      <th>ADME MDCK(WT) Permeability;Mean;B to A Papp (10^-6 cm/s);(Mod)</th>\n",
       "      <th>ADME MDCK(WT) Permeability;Mean;B to A Papp (10^-6 cm/s);(Num)</th>\n",
       "      <th>ADME MDCK(WT) Permeability;Concat;Comments</th>\n",
       "      <th>ADME MDCK(WT) Permeability;Concat;Run Date</th>\n",
       "      <th>...</th>\n",
       "      <th>ADME Tox-manual patch hERG 34C;Mean;SD;(Mod)</th>\n",
       "      <th>ADME Tox-manual patch hERG 34C;Mean;SD;(Num)</th>\n",
       "      <th>F%_Rat</th>\n",
       "      <th>EstFa_Rat</th>\n",
       "      <th>permeability</th>\n",
       "      <th>efflux</th>\n",
       "      <th>hERG_IC50</th>\n",
       "      <th>hERG_eIC50</th>\n",
       "      <th>hERG_mixedIC50</th>\n",
       "      <th>ambitiousData</th>\n",
       "    </tr>\n",
       "  </thead>\n",
       "  <tbody>\n",
       "    <tr>\n",
       "      <th>0</th>\n",
       "      <td>KT-0194988</td>\n",
       "      <td>C3(CCN(C(=O)c1cc(c(c(c1)N2CCC(=O)NC2=O)Cl)C)CC...</td>\n",
       "      <td>TYK2</td>\n",
       "      <td>PH-CMR-TK2-2575-0N-001</td>\n",
       "      <td>NaN</td>\n",
       "      <td>NaN</td>\n",
       "      <td>NaN</td>\n",
       "      <td>NaN</td>\n",
       "      <td>NaN</td>\n",
       "      <td>NaN</td>\n",
       "      <td>...</td>\n",
       "      <td>=</td>\n",
       "      <td>0.467074</td>\n",
       "      <td>10.80</td>\n",
       "      <td>0.125258</td>\n",
       "      <td>NaN</td>\n",
       "      <td>NaN</td>\n",
       "      <td>NaN</td>\n",
       "      <td>11.044944</td>\n",
       "      <td>11.044944</td>\n",
       "      <td>1.0</td>\n",
       "    </tr>\n",
       "    <tr>\n",
       "      <th>1</th>\n",
       "      <td>KT-0194990</td>\n",
       "      <td>N1(CCC(=O)NC1=O)c2cc(cc(c2C)Cl)C(=O)N%11CCC%10...</td>\n",
       "      <td>TYK2</td>\n",
       "      <td>PH-CMR-TK2-2610-0N-001</td>\n",
       "      <td>NaN</td>\n",
       "      <td>NaN</td>\n",
       "      <td>NaN</td>\n",
       "      <td>NaN</td>\n",
       "      <td>NaN</td>\n",
       "      <td>NaN</td>\n",
       "      <td>...</td>\n",
       "      <td>=</td>\n",
       "      <td>1.265248</td>\n",
       "      <td>3.87</td>\n",
       "      <td>0.048645</td>\n",
       "      <td>NaN</td>\n",
       "      <td>NaN</td>\n",
       "      <td>NaN</td>\n",
       "      <td>9.259910</td>\n",
       "      <td>9.259910</td>\n",
       "      <td>1.0</td>\n",
       "    </tr>\n",
       "    <tr>\n",
       "      <th>2</th>\n",
       "      <td>KT-0194991</td>\n",
       "      <td>CNc1cc(nn2c(cnc21)C(=O)N[C@H]3[C@H](OC)CC3)N5c...</td>\n",
       "      <td>TYK2</td>\n",
       "      <td>PH-CMR-TK2-2615-0N-001</td>\n",
       "      <td>NaN</td>\n",
       "      <td>NaN</td>\n",
       "      <td>NaN</td>\n",
       "      <td>NaN</td>\n",
       "      <td>NaN</td>\n",
       "      <td>NaN</td>\n",
       "      <td>...</td>\n",
       "      <td>=</td>\n",
       "      <td>4.445823</td>\n",
       "      <td>NaN</td>\n",
       "      <td>NaN</td>\n",
       "      <td>NaN</td>\n",
       "      <td>NaN</td>\n",
       "      <td>5.19295</td>\n",
       "      <td>NaN</td>\n",
       "      <td>5.192950</td>\n",
       "      <td>0.0</td>\n",
       "    </tr>\n",
       "  </tbody>\n",
       "</table>\n",
       "<p>3 rows × 48 columns</p>\n",
       "</div>"
      ],
      "text/plain": [
       "  Compound Name                                          Structure  \\\n",
       "0    KT-0194988  C3(CCN(C(=O)c1cc(c(c(c1)N2CCC(=O)NC2=O)Cl)C)CC...   \n",
       "1    KT-0194990  N1(CCC(=O)NC1=O)c2cc(cc(c2C)Cl)C(=O)N%11CCC%10...   \n",
       "2    KT-0194991  CNc1cc(nn2c(cnc21)C(=O)N[C@H]3[C@H](OC)CC3)N5c...   \n",
       "\n",
       "  Concat;Project      Concat;External Id  \\\n",
       "0           TYK2  PH-CMR-TK2-2575-0N-001   \n",
       "1           TYK2  PH-CMR-TK2-2610-0N-001   \n",
       "2           TYK2  PH-CMR-TK2-2615-0N-001   \n",
       "\n",
       "  ADME MDCK(WT) Permeability;Mean;A to B Papp (10^-6 cm/s);(Mod)  \\\n",
       "0                                                NaN               \n",
       "1                                                NaN               \n",
       "2                                                NaN               \n",
       "\n",
       "   ADME MDCK(WT) Permeability;Mean;A to B Papp (10^-6 cm/s);(Num)  \\\n",
       "0                                                NaN                \n",
       "1                                                NaN                \n",
       "2                                                NaN                \n",
       "\n",
       "  ADME MDCK(WT) Permeability;Mean;B to A Papp (10^-6 cm/s);(Mod)  \\\n",
       "0                                                NaN               \n",
       "1                                                NaN               \n",
       "2                                                NaN               \n",
       "\n",
       "   ADME MDCK(WT) Permeability;Mean;B to A Papp (10^-6 cm/s);(Num)  \\\n",
       "0                                                NaN                \n",
       "1                                                NaN                \n",
       "2                                                NaN                \n",
       "\n",
       "  ADME MDCK(WT) Permeability;Concat;Comments  \\\n",
       "0                                        NaN   \n",
       "1                                        NaN   \n",
       "2                                        NaN   \n",
       "\n",
       "  ADME MDCK(WT) Permeability;Concat;Run Date  ...  \\\n",
       "0                                        NaN  ...   \n",
       "1                                        NaN  ...   \n",
       "2                                        NaN  ...   \n",
       "\n",
       "   ADME Tox-manual patch hERG 34C;Mean;SD;(Mod)  \\\n",
       "0                                             =   \n",
       "1                                             =   \n",
       "2                                             =   \n",
       "\n",
       "   ADME Tox-manual patch hERG 34C;Mean;SD;(Num) F%_Rat  EstFa_Rat  \\\n",
       "0                                      0.467074  10.80   0.125258   \n",
       "1                                      1.265248   3.87   0.048645   \n",
       "2                                      4.445823    NaN        NaN   \n",
       "\n",
       "  permeability  efflux hERG_IC50 hERG_eIC50  hERG_mixedIC50 ambitiousData  \n",
       "0          NaN     NaN       NaN  11.044944       11.044944           1.0  \n",
       "1          NaN     NaN       NaN   9.259910        9.259910           1.0  \n",
       "2          NaN     NaN   5.19295        NaN        5.192950           0.0  \n",
       "\n",
       "[3 rows x 48 columns]"
      ]
     },
     "execution_count": 3,
     "metadata": {},
     "output_type": "execute_result"
    }
   ],
   "source": [
    "dataTable_raw = pd.read_csv(f'./Data_ADMET_4_MMP.csv')\n",
    "\n",
    "colName_mid = 'Compound Name'\n",
    "colName_smi = 'Structure'\n",
    "colName_proj = 'Concat;Project'\n",
    "\n",
    "dataTable_raw = dataTable_raw.dropna(subset=[colName_mid, colName_smi]).reset_index(drop=True)\n",
    "print(f'There are total {dataTable_raw.shape[0]} molecules in the table with Structure(SMILES)')\n",
    "dataTable_raw.head(3)"
   ]
  },
  {
   "cell_type": "code",
   "execution_count": 4,
   "metadata": {},
   "outputs": [
    {
     "name": "stdout",
     "output_type": "stream",
     "text": [
      "The SMILES strings have been saved into file: /mnt/data0/Research/5_Automation/mmp/rdkit/ADMET/results/Compounds_All.smi\n"
     ]
    },
    {
     "data": {
      "text/html": [
       "<div>\n",
       "<style scoped>\n",
       "    .dataframe tbody tr th:only-of-type {\n",
       "        vertical-align: middle;\n",
       "    }\n",
       "\n",
       "    .dataframe tbody tr th {\n",
       "        vertical-align: top;\n",
       "    }\n",
       "\n",
       "    .dataframe thead th {\n",
       "        text-align: right;\n",
       "    }\n",
       "</style>\n",
       "<table border=\"1\" class=\"dataframe\">\n",
       "  <thead>\n",
       "    <tr style=\"text-align: right;\">\n",
       "      <th></th>\n",
       "      <th>ID</th>\n",
       "      <th>F%_Rat</th>\n",
       "      <th>EstFa_Rat</th>\n",
       "      <th>permeability</th>\n",
       "      <th>efflux</th>\n",
       "      <th>hERG_IC50</th>\n",
       "      <th>hERG_mixedIC50</th>\n",
       "    </tr>\n",
       "  </thead>\n",
       "  <tbody>\n",
       "    <tr>\n",
       "      <th>0</th>\n",
       "      <td>KT-0194988</td>\n",
       "      <td>10.8</td>\n",
       "      <td>0.125258</td>\n",
       "      <td>*</td>\n",
       "      <td>*</td>\n",
       "      <td>*</td>\n",
       "      <td>11.044944</td>\n",
       "    </tr>\n",
       "    <tr>\n",
       "      <th>1</th>\n",
       "      <td>KT-0194990</td>\n",
       "      <td>3.87</td>\n",
       "      <td>0.048645</td>\n",
       "      <td>*</td>\n",
       "      <td>*</td>\n",
       "      <td>*</td>\n",
       "      <td>9.25991</td>\n",
       "    </tr>\n",
       "    <tr>\n",
       "      <th>2</th>\n",
       "      <td>KT-0194991</td>\n",
       "      <td>*</td>\n",
       "      <td>*</td>\n",
       "      <td>*</td>\n",
       "      <td>*</td>\n",
       "      <td>5.19295</td>\n",
       "      <td>5.19295</td>\n",
       "    </tr>\n",
       "  </tbody>\n",
       "</table>\n",
       "</div>"
      ],
      "text/plain": [
       "           ID F%_Rat EstFa_Rat permeability efflux hERG_IC50 hERG_mixedIC50\n",
       "0  KT-0194988   10.8  0.125258            *      *         *      11.044944\n",
       "1  KT-0194990   3.87  0.048645            *      *         *        9.25991\n",
       "2  KT-0194991      *         *            *      *   5.19295        5.19295"
      ]
     },
     "execution_count": 4,
     "metadata": {},
     "output_type": "execute_result"
    }
   ],
   "source": [
    "colName_prop_list = ['F%_Rat', 'EstFa_Rat', 'permeability', 'efflux', 'hERG_IC50', 'hERG_mixedIC50']\n",
    "\n",
    "## the SMILES file for fragmentation\n",
    "file_smi = f'{dir_outputs}/Compounds_All.smi'\n",
    "file_prop_csv = f'{dir_outputs}/Property_All.csv'\n",
    "delimiter = ' '\n",
    "\n",
    "data_dict_prop = {}\n",
    "with open(file_smi, \"w\") as output_file:\n",
    "    # output_file.write(f'SMILES{delimiter}ID' + \"\\n\")\n",
    "    for idx in dataTable_raw.index:\n",
    "        mol_id = dataTable_raw[colName_mid][idx]\n",
    "        mol_smi = dataTable_raw[colName_smi][idx]\n",
    "\n",
    "        ## prepare the SMILES output\n",
    "        this_line = f'{mol_smi}{delimiter}{mol_id}'\n",
    "        output_file.write(this_line + \"\\n\")  # Add a newline character after each string\n",
    "\n",
    "        ## prepare the property CSV output\n",
    "        data_dict_prop[idx] = {}\n",
    "        data_dict_prop[idx]['ID'] = mol_id\n",
    "\n",
    "        for prop_name in colName_prop_list:\n",
    "            try:\n",
    "                if dataTable_raw[prop_name].notna()[idx]:\n",
    "                    mol_prop = float(dataTable_raw[prop_name][idx])\n",
    "                else:\n",
    "                    mol_prop = \"*\"\n",
    "            except Exception as e:\n",
    "                data_dict_prop[idx][prop_name] = \"*\"\n",
    "                print(f'This mol {mol_id} does not have a proper property value: {e}')\n",
    "            else:\n",
    "                data_dict_prop[idx][prop_name] = mol_prop\n",
    "    print(f'The SMILES strings have been saved into file: {file_smi}')\n",
    "    \n",
    "## save the csv results\n",
    "data_table_prop = pd.DataFrame.from_dict(data_dict_prop).T\n",
    "data_table_prop.to_csv(file_prop_csv, index=False, sep=delimiter)\n",
    "data_table_prop.head(3)"
   ]
  },
  {
   "cell_type": "markdown",
   "metadata": {},
   "source": [
    "#### 2. Fragment the SMILES"
   ]
  },
  {
   "cell_type": "code",
   "execution_count": 5,
   "metadata": {},
   "outputs": [
    {
     "name": "stderr",
     "output_type": "stream",
     "text": [
      "Preparing record 1989[13:17:14] Conflicting single bond directions around double bond at index 57.\n",
      "[13:17:14]   BondStereo set to STEREONONE and single bond directions set to NONE.\n",
      "[13:17:14] Conflicting single bond directions around double bond at index 22.\n",
      "[13:17:14]   BondStereo set to STEREONONE and single bond directions set to NONE.\n",
      "Preparing record 2334[13:17:15] Can't kekulize mol.  Unkekulized atoms: 2 4 5\n",
      "[13:17:15] Conflicting single bond directions around double bond at index 40.\n",
      "[13:17:15]   BondStereo set to STEREONONE and single bond directions set to NONE.\n",
      "[13:17:15] Conflicting single bond directions around double bond at index 13.\n",
      "[13:17:15]   BondStereo set to STEREONONE and single bond directions set to NONE.\n",
      "[13:17:15] Conflicting single bond directions around double bond at index 22.\n",
      "[13:17:15]   BondStereo set to STEREONONE and single bond directions set to NONE.\n",
      "[13:17:15] Conflicting single bond directions around double bond at index 22.\n",
      "[13:17:15]   BondStereo set to STEREONONE and single bond directions set to NONE.\n",
      "Preparing record 2672[13:17:15] Conflicting single bond directions around double bond at index 40.\n",
      "[13:17:15]   BondStereo set to STEREONONE and single bond directions set to NONE.\n",
      "[13:17:15] Conflicting single bond directions around double bond at index 43.\n",
      "[13:17:15]   BondStereo set to STEREONONE and single bond directions set to NONE.\n",
      "[13:17:15] Conflicting single bond directions around double bond at index 18.\n",
      "[13:17:15]   BondStereo set to STEREONONE and single bond directions set to NONE.\n",
      "Preparing record 3008[13:17:16] Conflicting single bond directions around double bond at index 23.\n",
      "[13:17:16]   BondStereo set to STEREONONE and single bond directions set to NONE.\n",
      "Preparing record 5097[13:17:19] Explicit valence for atom # 12 C, 5, is greater than permitted\n",
      "                                    \r"
     ]
    },
    {
     "name": "stdout",
     "output_type": "stream",
     "text": [
      "The fragmentation is completed and saved into file /mnt/data0/Research/5_Automation/mmp/rdkit/ADMET/results/Compounds_All.fragdb\n"
     ]
    },
    {
     "name": "stderr",
     "output_type": "stream",
     "text": [
      "                    \r"
     ]
    }
   ],
   "source": [
    "file_fragdb = f'{dir_outputs}/Compounds_All.fragdb'\n",
    "\n",
    "commandLine = ['mmpdb', 'fragment', file_smi, '-o', file_fragdb]\n",
    "process = subprocess.Popen(commandLine, stdout=subprocess.PIPE)\n",
    "output, error = process.communicate()\n",
    "print(f'The fragmentation is completed and saved into file {file_fragdb}')"
   ]
  },
  {
   "cell_type": "markdown",
   "metadata": {},
   "source": [
    "#### 3. Indexing to find the matched molecular pairs in the fragment file\n",
    "#### 4. Load the activity/property data"
   ]
  },
  {
   "cell_type": "code",
   "execution_count": 6,
   "metadata": {},
   "outputs": [
    {
     "name": "stderr",
     "output_type": "stream",
     "text": [
      "                                                                          \r"
     ]
    },
    {
     "name": "stdout",
     "output_type": "stream",
     "text": [
      "The indexing/mmp generation is completed and saved into file /mnt/data0/Research/5_Automation/mmp/rdkit/ADMET/results/Compounds_All.mmpdb\n"
     ]
    }
   ],
   "source": [
    "file_mmpdb = f'{dir_outputs}/Compounds_All.mmpdb'\n",
    "\n",
    "commandLine = ['mmpdb', 'index', file_fragdb, '-o', file_mmpdb, '--properties', file_prop_csv]\n",
    "process = subprocess.Popen(commandLine, stdout=subprocess.PIPE)\n",
    "output, error = process.communicate()\n",
    "print(f'The indexing/mmp generation is completed and saved into file {file_mmpdb}')"
   ]
  },
  {
   "cell_type": "code",
   "execution_count": 7,
   "metadata": {},
   "outputs": [
    {
     "name": "stdout",
     "output_type": "stream",
     "text": [
      "             Name             #cmpds #rules #pairs #envs  #stats  |---------------------------------------- Title ----------------------------------------| Properties\n",
      "./results/Compounds_All.mmpdb   2876  18308 195300 126867 193582  MMPs from '/mnt/data0/Research/5_Automation/mmp/rdkit/ADMET/results/Compounds_All.fragdb' F%_Rat EstFa_Rat permeability efflux hERG_IC50 hERG_mixedIC50\n"
     ]
    }
   ],
   "source": [
    "!mmpdb list ./results/Compounds_All.mmpdb"
   ]
  },
  {
   "cell_type": "code",
   "execution_count": null,
   "metadata": {},
   "outputs": [],
   "source": [
    "# !mmpdb --help\n",
    "# !mmpdb help-admin\n",
    "# !mmpdb index --help"
   ]
  },
  {
   "cell_type": "code",
   "execution_count": null,
   "metadata": {},
   "outputs": [],
   "source": [
    "# !mmpdb rulecat --help\n",
    "# !mmpdb rulecat ./results/hERG_All_1956_2024Jun14.mmpdb -o ./results/catfolder/hERG_All_1956_2024Jun14_rulecat.csv\n",
    "\n",
    "# !mmpdb ruleenvcat --help\n",
    "# !mmpdb ruleenvcat ./results/hERG_All_1956_2024Jun14.mmpdb -o ./results/catfolder/hERG_All_1956_2024Jun14_ruleenvcat.csv\n",
    "\n",
    "# !mmpdb propcat --help\n",
    "# !mmpdb propcat ./results/hERG_All_1956_2024Jun14.mmpdb -o ./results/catfolder/hERG_All_1956_2024Jun14_propcat.csv\n",
    "\n",
    "# !mmpdb proprulecat --help\n",
    "# !mmpdb proprulecat ./results/hERG_All_1956_2024Jun14.mmpdb -o ./results/catfolder/hERG_All_1956_2024Jun14_proprulecat.csv"
   ]
  },
  {
   "cell_type": "code",
   "execution_count": null,
   "metadata": {},
   "outputs": [],
   "source": []
  },
  {
   "cell_type": "code",
   "execution_count": null,
   "metadata": {},
   "outputs": [],
   "source": []
  },
  {
   "cell_type": "code",
   "execution_count": null,
   "metadata": {},
   "outputs": [],
   "source": []
  },
  {
   "cell_type": "code",
   "execution_count": null,
   "metadata": {},
   "outputs": [],
   "source": []
  },
  {
   "cell_type": "code",
   "execution_count": null,
   "metadata": {},
   "outputs": [],
   "source": []
  },
  {
   "cell_type": "code",
   "execution_count": null,
   "metadata": {},
   "outputs": [],
   "source": []
  },
  {
   "cell_type": "code",
   "execution_count": null,
   "metadata": {},
   "outputs": [],
   "source": []
  },
  {
   "cell_type": "code",
   "execution_count": null,
   "metadata": {},
   "outputs": [],
   "source": []
  },
  {
   "cell_type": "code",
   "execution_count": null,
   "metadata": {},
   "outputs": [],
   "source": []
  }
 ],
 "metadata": {
  "kernelspec": {
   "display_name": "ml",
   "language": "python",
   "name": "python3"
  },
  "language_info": {
   "codemirror_mode": {
    "name": "ipython",
    "version": 3
   },
   "file_extension": ".py",
   "mimetype": "text/x-python",
   "name": "python",
   "nbconvert_exporter": "python",
   "pygments_lexer": "ipython3",
   "version": "3.10.13"
  }
 },
 "nbformat": 4,
 "nbformat_minor": 2
}
