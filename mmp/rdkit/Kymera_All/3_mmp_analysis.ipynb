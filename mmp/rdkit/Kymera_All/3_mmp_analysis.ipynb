{
 "cells": [
  {
   "cell_type": "code",
   "execution_count": null,
   "metadata": {},
   "outputs": [],
   "source": [
    "import os\n",
    "import subprocess\n",
    "import pandas as pd"
   ]
  },
  {
   "cell_type": "code",
   "execution_count": null,
   "metadata": {},
   "outputs": [],
   "source": [
    "dir_outputs = os.path.join(os.getcwd(), 'results')\n",
    "os.makedirs(dir_outputs) if not os.path.exists(dir_outputs) else print(f'{dir_outputs} is existing')"
   ]
  },
  {
   "cell_type": "markdown",
   "metadata": {},
   "source": [
    "#### 1. Prepare the SMILES file and property CSV file"
   ]
  },
  {
   "cell_type": "code",
   "execution_count": null,
   "metadata": {},
   "outputs": [],
   "source": [
    "dataTable_raw = pd.read_csv(f'./Data_4_MMP_2024Dec10.csv', low_memory=False)\n",
    "\n",
    "colName_mid = 'Compound Name'\n",
    "colName_smi = 'Structure'    # 'Smiles'\n",
    "colName_proj = 'Concat;Project'\n",
    "\n",
    "dataTable_raw = dataTable_raw.dropna(subset=[colName_mid, colName_smi]).reset_index(drop=True)\n",
    "dataTable_raw = dataTable_raw.rename(columns={'Molecular Weight': 'MW'})\n",
    "print(f'There are total {dataTable_raw.shape[0]} molecules in the table with Structure(SMILES)')\n",
    "dataTable_raw.head(3)"
   ]
  },
  {
   "cell_type": "code",
   "execution_count": null,
   "metadata": {},
   "outputs": [],
   "source": [
    "colName_prop_list = ['MW', 'F%_Rat', 'EstFa_Rat', 'permeability', 'efflux', 'hERG_IC50', 'hERG_mixedIC50']\n",
    "\n",
    "## the SMILES file for fragmentation\n",
    "file_smi = f'{dir_outputs}/Compounds_All.smi'\n",
    "file_prop_csv = f'{dir_outputs}/Property_All.csv'\n",
    "delimiter = ' '\n",
    "\n",
    "data_dict_prop = {}\n",
    "with open(file_smi, \"w\") as output_file:\n",
    "    # output_file.write(f'SMILES{delimiter}ID' + \"\\n\")\n",
    "    for idx in dataTable_raw.index:\n",
    "        mol_id = dataTable_raw[colName_mid][idx]\n",
    "        mol_smi = dataTable_raw[colName_smi][idx]\n",
    "\n",
    "        ## prepare the SMILES output\n",
    "        this_line = f'{mol_smi}{delimiter}{mol_id}'\n",
    "        output_file.write(this_line + \"\\n\")  # Add a newline character after each string\n",
    "\n",
    "        ## prepare the property CSV output\n",
    "        data_dict_prop[idx] = {}\n",
    "        data_dict_prop[idx]['ID'] = mol_id\n",
    "\n",
    "        for prop_name in colName_prop_list:\n",
    "            try:\n",
    "                if dataTable_raw[prop_name].notna()[idx]:\n",
    "                    mol_prop = float(dataTable_raw[prop_name][idx])\n",
    "                else:\n",
    "                    mol_prop = \"*\"\n",
    "            except Exception as e:\n",
    "                data_dict_prop[idx][prop_name] = \"*\"\n",
    "                # print(f'This mol {mol_id} does not have a proper property value: {e}')\n",
    "            else:\n",
    "                data_dict_prop[idx][prop_name] = mol_prop\n",
    "    print(f'The SMILES strings have been saved into file: {file_smi}')\n",
    "    \n",
    "## save the csv results\n",
    "data_table_prop = pd.DataFrame.from_dict(data_dict_prop).T\n",
    "data_table_prop.to_csv(file_prop_csv, index=False, sep=delimiter)\n",
    "print(data_table_prop.shape)\n",
    "data_table_prop.head(3)"
   ]
  },
  {
   "cell_type": "markdown",
   "metadata": {},
   "source": [
    "#### 2. Fragment the SMILES"
   ]
  },
  {
   "cell_type": "code",
   "execution_count": null,
   "metadata": {},
   "outputs": [],
   "source": [
    "file_fragdb = f'{dir_outputs}/Compounds_All.fragdb'\n",
    "\n",
    "commandLine = ['mmpdb', 'fragment', file_smi, '-o', file_fragdb]\n",
    "process = subprocess.Popen(commandLine, stdout=subprocess.PIPE)\n",
    "output, error = process.communicate()\n",
    "print(f'The fragmentation is completed and saved into file {file_fragdb}')"
   ]
  },
  {
   "cell_type": "markdown",
   "metadata": {},
   "source": [
    "#### 3. Indexing to find the matched molecular pairs in the fragment file\n",
    "#### 4. Load the activity/property data"
   ]
  },
  {
   "cell_type": "code",
   "execution_count": null,
   "metadata": {},
   "outputs": [],
   "source": [
    "file_mmpdb = f'{dir_outputs}/Compounds_All.mmpdb'\n",
    "\n",
    "commandLine = ['mmpdb', 'index', file_fragdb, '-o', file_mmpdb, '--properties', file_prop_csv]\n",
    "process = subprocess.Popen(commandLine, stdout=subprocess.PIPE)\n",
    "output, error = process.communicate()\n",
    "print(f'The indexing/mmp generation is completed and saved into file {file_mmpdb}')"
   ]
  },
  {
   "cell_type": "code",
   "execution_count": null,
   "metadata": {},
   "outputs": [],
   "source": [
    "!mmpdb list ./results/Compounds_All.mmpdb"
   ]
  },
  {
   "cell_type": "code",
   "execution_count": null,
   "metadata": {},
   "outputs": [],
   "source": [
    "# !mmpdb --help\n",
    "# !mmpdb help-admin\n",
    "# !mmpdb index --help"
   ]
  },
  {
   "cell_type": "code",
   "execution_count": null,
   "metadata": {},
   "outputs": [],
   "source": [
    "# !mmpdb rulecat --help\n",
    "# !mmpdb rulecat ./results/hERG_All_1956_2024Jun14.mmpdb -o ./results/catfolder/hERG_All_1956_2024Jun14_rulecat.csv\n",
    "\n",
    "# !mmpdb ruleenvcat --help\n",
    "# !mmpdb ruleenvcat ./results/hERG_All_1956_2024Jun14.mmpdb -o ./results/catfolder/hERG_All_1956_2024Jun14_ruleenvcat.csv\n",
    "\n",
    "# !mmpdb propcat --help\n",
    "# !mmpdb propcat ./results/hERG_All_1956_2024Jun14.mmpdb -o ./results/catfolder/hERG_All_1956_2024Jun14_propcat.csv\n",
    "\n",
    "# !mmpdb proprulecat --help\n",
    "# !mmpdb proprulecat ./results/hERG_All_1956_2024Jun14.mmpdb -o ./results/catfolder/hERG_All_1956_2024Jun14_proprulecat.csv"
   ]
  },
  {
   "cell_type": "code",
   "execution_count": null,
   "metadata": {},
   "outputs": [],
   "source": [
    "test_smi = \"CCN(C)C(=O)C1=CC2=C(N1)C(F)=CN=C2C1=C(Cl)C=C(N2CCC(CN3CCN(C4=CC=CC5=C4N(C)C(=O)N5C4CCC(=O)NC4=O)CC3)CC2)C=C1\""
   ]
  },
  {
   "cell_type": "code",
   "execution_count": null,
   "metadata": {},
   "outputs": [],
   "source": [
    "!mmpdb generate --smiles 'CCN(C)C(=O)C1=CC2=C(N1)C(F)=CN=C2C1=C(Cl)C=C(N2CCC(CN3CCN(C4=CC=CC5=C4N(C)C(=O)N5C4CCC(=O)NC4=O)CC3)CC2)C=C1' ./results/Compounds_All.mmpdb"
   ]
  },
  {
   "cell_type": "code",
   "execution_count": null,
   "metadata": {},
   "outputs": [],
   "source": []
  },
  {
   "cell_type": "code",
   "execution_count": null,
   "metadata": {},
   "outputs": [],
   "source": []
  },
  {
   "cell_type": "code",
   "execution_count": null,
   "metadata": {},
   "outputs": [],
   "source": []
  },
  {
   "cell_type": "code",
   "execution_count": null,
   "metadata": {},
   "outputs": [],
   "source": []
  },
  {
   "cell_type": "code",
   "execution_count": null,
   "metadata": {},
   "outputs": [],
   "source": []
  },
  {
   "cell_type": "code",
   "execution_count": null,
   "metadata": {},
   "outputs": [],
   "source": []
  },
  {
   "cell_type": "code",
   "execution_count": null,
   "metadata": {},
   "outputs": [],
   "source": []
  }
 ],
 "metadata": {
  "kernelspec": {
   "display_name": "ml",
   "language": "python",
   "name": "python3"
  },
  "language_info": {
   "codemirror_mode": {
    "name": "ipython",
    "version": 3
   },
   "file_extension": ".py",
   "mimetype": "text/x-python",
   "name": "python",
   "nbconvert_exporter": "python",
   "pygments_lexer": "ipython3",
   "version": "3.10.13"
  }
 },
 "nbformat": 4,
 "nbformat_minor": 2
}
