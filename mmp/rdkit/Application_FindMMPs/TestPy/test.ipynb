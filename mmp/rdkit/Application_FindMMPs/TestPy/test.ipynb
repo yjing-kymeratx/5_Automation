{
 "cells": [
  {
   "cell_type": "code",
   "execution_count": 1,
   "metadata": {},
   "outputs": [
    {
     "name": "stdout",
     "output_type": "stream",
     "text": [
      "\t---->/mnt/data0/Research/5_Automation/mmp/rdkit/Application_FindMMPs/TestPy/TmpFolder is existing\n",
      "\n",
      "1. Loading csv from ../Data_ADMET_4_MMP_2024Aug27.csv\n",
      "\tThe original csv file has 25714 rows and 49 columns\n",
      "\tColumn for compound ID is Compound Name\n",
      "\tColumn for compound SMILES is Smiles\n",
      "\tColumns for compound activity includes ['hERG_mixedIC50', 'EstFa_Rat']\n",
      "\tThere are total 25714 molecules in the csv with Structure(SMILES)\n",
      "\t==> Loading csv data completed, costing time 8s\n",
      "\n",
      "2. Prepare the smi & prop file for MMPs-DB analysis\n",
      "\tThe SMILES strings have been saved into .smi file: /mnt/data0/Research/5_Automation/mmp/rdkit/Application_FindMMPs/TestPy/TmpFolder/Compounds_All.smi\n",
      "\tThe property data have been saved into .csv file: /mnt/data0/Research/5_Automation/mmp/rdkit/Application_FindMMPs/TestPy/TmpFolder/Compounds_All.smi\n",
      "\t==> Prepare the smi & prop file completed, costing time 3s\n",
      "3. Fragment the SMILES\n",
      "Preparing record 23906[15:12:42] Can't kekulize mol.  Unkekulized atoms: 6\n",
      "\tThe fragmentation is completed and saved into file /mnt/data0/Research/5_Automation/mmp/rdkit/Application_FindMMPs/TestPy/TmpFolder/Compounds_All.fragdb\n",
      "\n",
      "\t==> SMILES Fragmentation completed, costing time 567s\n",
      "\n",
      "4.1 Indexing to find the matched molecular pairs in the fragment file\n",
      "\n",
      "4.2 Now load the activity/property data\n",
      "\n",
      "\tThe indexing/mmp generation is completed and saved into file /mnt/data0/Research/5_Automation/mmp/rdkit/Application_FindMMPs/TestPy/TmpFolder/Compounds_All.mmpdb\n",
      "\n",
      "\t==> MMPs DB analysis completed, costing time 61s\n",
      "\n",
      "5. Now extracting tables from MMPs database\n",
      "\n",
      "\t---->/mnt/data0/Research/5_Automation/mmp/rdkit/Application_FindMMPs/TestPy/TmpFolder/DB_tables is existing\n",
      "\n",
      "\t<pair> table has been saved into /mnt/data0/Research/5_Automation/mmp/rdkit/Application_FindMMPs/TestPy/TmpFolder/DB_tables/DB_table_pair.csv\n",
      "\n",
      "\t---->/mnt/data0/Research/5_Automation/mmp/rdkit/Application_FindMMPs/TestPy/TmpFolder/DB_tables is existing\n",
      "\n",
      "\t<compound> table has been saved into /mnt/data0/Research/5_Automation/mmp/rdkit/Application_FindMMPs/TestPy/TmpFolder/DB_tables/DB_table_compound.csv\n",
      "\n",
      "\t---->/mnt/data0/Research/5_Automation/mmp/rdkit/Application_FindMMPs/TestPy/TmpFolder/DB_tables is existing\n",
      "\n",
      "\t<compound_property> table has been saved into /mnt/data0/Research/5_Automation/mmp/rdkit/Application_FindMMPs/TestPy/TmpFolder/DB_tables/DB_table_compound_property.csv\n",
      "\n",
      "\t---->/mnt/data0/Research/5_Automation/mmp/rdkit/Application_FindMMPs/TestPy/TmpFolder/DB_tables is existing\n",
      "\n",
      "\t<property_name> table has been saved into /mnt/data0/Research/5_Automation/mmp/rdkit/Application_FindMMPs/TestPy/TmpFolder/DB_tables/DB_table_property_name.csv\n",
      "\n",
      "\t---->/mnt/data0/Research/5_Automation/mmp/rdkit/Application_FindMMPs/TestPy/TmpFolder/DB_tables is existing\n",
      "\n",
      "\t<constant_smiles> table has been saved into /mnt/data0/Research/5_Automation/mmp/rdkit/Application_FindMMPs/TestPy/TmpFolder/DB_tables/DB_table_constant_smiles.csv\n",
      "\n",
      "\t---->/mnt/data0/Research/5_Automation/mmp/rdkit/Application_FindMMPs/TestPy/TmpFolder/DB_tables is existing\n",
      "\n",
      "\t<rule> table has been saved into /mnt/data0/Research/5_Automation/mmp/rdkit/Application_FindMMPs/TestPy/TmpFolder/DB_tables/DB_table_rule.csv\n",
      "\n",
      "\t---->/mnt/data0/Research/5_Automation/mmp/rdkit/Application_FindMMPs/TestPy/TmpFolder/DB_tables is existing\n",
      "\n",
      "\t<rule_smiles> table has been saved into /mnt/data0/Research/5_Automation/mmp/rdkit/Application_FindMMPs/TestPy/TmpFolder/DB_tables/DB_table_rule_smiles.csv\n",
      "\n",
      "\t---->/mnt/data0/Research/5_Automation/mmp/rdkit/Application_FindMMPs/TestPy/TmpFolder/DB_tables is existing\n",
      "\n",
      "\t<rule_environment> table has been saved into /mnt/data0/Research/5_Automation/mmp/rdkit/Application_FindMMPs/TestPy/TmpFolder/DB_tables/DB_table_rule_environment.csv\n",
      "\n",
      "\t---->/mnt/data0/Research/5_Automation/mmp/rdkit/Application_FindMMPs/TestPy/TmpFolder/DB_tables is existing\n",
      "\n",
      "\t<rule_environment_statistics> table has been saved into /mnt/data0/Research/5_Automation/mmp/rdkit/Application_FindMMPs/TestPy/TmpFolder/DB_tables/DB_table_rule_environment_statistics.csv\n",
      "\n",
      "\t---->/mnt/data0/Research/5_Automation/mmp/rdkit/Application_FindMMPs/TestPy/TmpFolder/DB_tables is existing\n",
      "\n",
      "\t<environment_fingerprint> table has been saved into /mnt/data0/Research/5_Automation/mmp/rdkit/Application_FindMMPs/TestPy/TmpFolder/DB_tables/DB_table_environment_fingerprint.csv\n",
      "\n",
      "\t==> Extracting data from MMPs DB completed, costing time 47s\n",
      "\n",
      "6. Now clean up the MMPs data and export a table of pairs\n",
      "\n",
      "\tNow start cleanning up the dataDict of pairs ...\n",
      "\n",
      "\t\tOriginal num_pairs in dataDict: 146198\n",
      "\n",
      "\t\tNow adding symetric pairs ...\n",
      "\t\tNew num_pairs in symetric dataDict: 268948\n",
      "7. The output file is saved to MMPs_results.csv\n",
      "\n",
      "==> Entire analysis costs time = 1159s ................\n",
      "\n"
     ]
    }
   ],
   "source": [
    "!python ../FindMMPs.py -i ../Data_ADMET_4_MMP_2024Aug27.csv -o \"testResults\" --colId \"Compound Name\" --colSmi \"Smiles\" --colAssay \"hERG_mixedIC50,EstFa_Rat\" --tmpFolder \"TmpFolder\""
   ]
  },
  {
   "cell_type": "code",
   "execution_count": null,
   "metadata": {},
   "outputs": [],
   "source": []
  },
  {
   "cell_type": "code",
   "execution_count": null,
   "metadata": {},
   "outputs": [],
   "source": []
  },
  {
   "cell_type": "code",
   "execution_count": null,
   "metadata": {},
   "outputs": [],
   "source": []
  },
  {
   "cell_type": "code",
   "execution_count": null,
   "metadata": {},
   "outputs": [],
   "source": []
  },
  {
   "cell_type": "code",
   "execution_count": null,
   "metadata": {},
   "outputs": [],
   "source": []
  },
  {
   "cell_type": "code",
   "execution_count": null,
   "metadata": {},
   "outputs": [],
   "source": []
  }
 ],
 "metadata": {
  "kernelspec": {
   "display_name": "ml",
   "language": "python",
   "name": "python3"
  },
  "language_info": {
   "codemirror_mode": {
    "name": "ipython",
    "version": 3
   },
   "file_extension": ".py",
   "mimetype": "text/x-python",
   "name": "python",
   "nbconvert_exporter": "python",
   "pygments_lexer": "ipython3",
   "version": "3.10.13"
  }
 },
 "nbformat": 4,
 "nbformat_minor": 2
}
