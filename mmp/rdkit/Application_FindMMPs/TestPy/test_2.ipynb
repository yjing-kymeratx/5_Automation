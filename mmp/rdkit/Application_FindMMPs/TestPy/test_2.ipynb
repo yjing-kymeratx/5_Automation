{
 "cells": [
  {
   "cell_type": "code",
   "execution_count": 3,
   "metadata": {},
   "outputs": [],
   "source": [
    "import pandas as pd\n",
    "from rdkit import Chem\n",
    "from rdkit.Chem import rdFMCS"
   ]
  },
  {
   "cell_type": "code",
   "execution_count": 4,
   "metadata": {},
   "outputs": [
    {
     "name": "stdout",
     "output_type": "stream",
     "text": [
      "(268948, 12)\n"
     ]
    },
    {
     "data": {
      "text/html": [
       "<div>\n",
       "<style scoped>\n",
       "    .dataframe tbody tr th:only-of-type {\n",
       "        vertical-align: middle;\n",
       "    }\n",
       "\n",
       "    .dataframe tbody tr th {\n",
       "        vertical-align: top;\n",
       "    }\n",
       "\n",
       "    .dataframe thead th {\n",
       "        text-align: right;\n",
       "    }\n",
       "</style>\n",
       "<table border=\"1\" class=\"dataframe\">\n",
       "  <thead>\n",
       "    <tr style=\"text-align: right;\">\n",
       "      <th></th>\n",
       "      <th>KT_id_1</th>\n",
       "      <th>Smiles_1</th>\n",
       "      <th>KT_id_2</th>\n",
       "      <th>Smiles_2</th>\n",
       "      <th>hERG_mixedIC50_1</th>\n",
       "      <th>EstFa_Rat_1</th>\n",
       "      <th>hERG_mixedIC50_2</th>\n",
       "      <th>EstFa_Rat_2</th>\n",
       "      <th>pair_info</th>\n",
       "      <th>pair_id</th>\n",
       "      <th>Num_Consts</th>\n",
       "      <th>pair_detail</th>\n",
       "    </tr>\n",
       "  </thead>\n",
       "  <tbody>\n",
       "    <tr>\n",
       "      <th>0</th>\n",
       "      <td>KT-0013567</td>\n",
       "      <td>C1=C(C2=CC=CC=C2)N(C2=CC=C(NC(C)=O)C=C2)C(=O)/...</td>\n",
       "      <td>KT-0013672</td>\n",
       "      <td>C1=C(C2=CC=CC=C2)N(C2=CC=C(NC(C)=O)C=C2)C(=O)/...</td>\n",
       "      <td>NaN</td>\n",
       "      <td>NaN</td>\n",
       "      <td>NaN</td>\n",
       "      <td>NaN</td>\n",
       "      <td>1==&gt;2</td>\n",
       "      <td>(1,2)</td>\n",
       "      <td>2</td>\n",
       "      <td>{1: [1, 2, 3, 4, 5, 6], 17071: [1048406, 10484...</td>\n",
       "    </tr>\n",
       "    <tr>\n",
       "      <th>1</th>\n",
       "      <td>KT-0013672</td>\n",
       "      <td>C1=C(C2=CC=CC=C2)N(C2=CC=C(NC(C)=O)C=C2)C(=O)/...</td>\n",
       "      <td>KT-0013567</td>\n",
       "      <td>C1=C(C2=CC=CC=C2)N(C2=CC=C(NC(C)=O)C=C2)C(=O)/...</td>\n",
       "      <td>NaN</td>\n",
       "      <td>NaN</td>\n",
       "      <td>NaN</td>\n",
       "      <td>NaN</td>\n",
       "      <td>2==&gt;1</td>\n",
       "      <td>(1,2)</td>\n",
       "      <td>2</td>\n",
       "      <td>{1: [], 17071: []}</td>\n",
       "    </tr>\n",
       "    <tr>\n",
       "      <th>2</th>\n",
       "      <td>KT-0035007</td>\n",
       "      <td>C1=CC(Br)=CC=C1[C@@H]1C[C@H]1C(=O)N1CC(C2=CC=C...</td>\n",
       "      <td>KT-0035717</td>\n",
       "      <td>O=C(C1=CNN=C1I)N1CC(C2=CC=C3C(=C2)NC(C(=O)N(C)...</td>\n",
       "      <td>NaN</td>\n",
       "      <td>NaN</td>\n",
       "      <td>NaN</td>\n",
       "      <td>NaN</td>\n",
       "      <td>10==&gt;1592</td>\n",
       "      <td>(10,1592)</td>\n",
       "      <td>1</td>\n",
       "      <td>{942: [62186, 62187, 62188, 62189, 62190, 62191]}</td>\n",
       "    </tr>\n",
       "  </tbody>\n",
       "</table>\n",
       "</div>"
      ],
      "text/plain": [
       "      KT_id_1                                           Smiles_1     KT_id_2  \\\n",
       "0  KT-0013567  C1=C(C2=CC=CC=C2)N(C2=CC=C(NC(C)=O)C=C2)C(=O)/...  KT-0013672   \n",
       "1  KT-0013672  C1=C(C2=CC=CC=C2)N(C2=CC=C(NC(C)=O)C=C2)C(=O)/...  KT-0013567   \n",
       "2  KT-0035007  C1=CC(Br)=CC=C1[C@@H]1C[C@H]1C(=O)N1CC(C2=CC=C...  KT-0035717   \n",
       "\n",
       "                                            Smiles_2  hERG_mixedIC50_1  \\\n",
       "0  C1=C(C2=CC=CC=C2)N(C2=CC=C(NC(C)=O)C=C2)C(=O)/...               NaN   \n",
       "1  C1=C(C2=CC=CC=C2)N(C2=CC=C(NC(C)=O)C=C2)C(=O)/...               NaN   \n",
       "2  O=C(C1=CNN=C1I)N1CC(C2=CC=C3C(=C2)NC(C(=O)N(C)...               NaN   \n",
       "\n",
       "   EstFa_Rat_1  hERG_mixedIC50_2  EstFa_Rat_2  pair_info    pair_id  \\\n",
       "0          NaN               NaN          NaN      1==>2      (1,2)   \n",
       "1          NaN               NaN          NaN      2==>1      (1,2)   \n",
       "2          NaN               NaN          NaN  10==>1592  (10,1592)   \n",
       "\n",
       "   Num_Consts                                        pair_detail  \n",
       "0           2  {1: [1, 2, 3, 4, 5, 6], 17071: [1048406, 10484...  \n",
       "1           2                                 {1: [], 17071: []}  \n",
       "2           1  {942: [62186, 62187, 62188, 62189, 62190, 62191]}  "
      ]
     },
     "execution_count": 4,
     "metadata": {},
     "output_type": "execute_result"
    }
   ],
   "source": [
    "dataTable = pd.read_csv(\"testResults.csv.csv\")\n",
    "print(dataTable.shape)\n",
    "dataTable.head(3)"
   ]
  },
  {
   "cell_type": "code",
   "execution_count": 5,
   "metadata": {},
   "outputs": [],
   "source": [
    "def _getSubstructure(mol, smart_pattern):\n",
    "    # Find substructure matches\n",
    "    matches = mol.GetSubstructMatches(smart_pattern)\n",
    "    # print(\"Substructure matches:\", matches)\n",
    "\n",
    "    # Extract and print the substructures\n",
    "    substructs = []\n",
    "    print(f\"{len(matches)}\")\n",
    "    for match in matches:\n",
    "        # Get the bond indices\n",
    "        bond_indices = []\n",
    "        for bond in mol.GetBonds():\n",
    "            if set([bond.GetBeginAtomIdx(), bond.GetEndAtomIdx()]).issubset(set(match)):\n",
    "                bond_indices.append(bond.GetIdx())\n",
    "\n",
    "        # Create the substructure using bond indices\n",
    "        substruct = Chem.PathToSubmol(mol, bond_indices)\n",
    "        substruct_smiles = Chem.MolToSmiles(substruct)\n",
    "        substructs.append(substruct_smiles)\n",
    "        # print(\"Substructure SMILES:\", substruct_smiles)\n",
    "    if len(substructs) > 1:\n",
    "        print(f\"Warning, there are multiple matches of this pattern in the molecule!\")\n",
    "    return substructs[0]\n",
    "\n",
    "def _rmSubstructure(mol, smart_pattern):\n",
    "    extra_substruct = Chem.DeleteSubstructs(mol, smart_pattern)\n",
    "    extra_substruct_smiles = Chem.MolToSmiles(extra_substruct)\n",
    "    return extra_substruct_smiles\n",
    "\n",
    "def _calcMCS(smi_1, smi_2):\n",
    "    try:\n",
    "        print(f\"Step-1, smi=>mol\")\n",
    "        mol_1 = Chem.MolFromSmiles(smi_1)\n",
    "        mol_2 = Chem.MolFromSmiles(smi_2)\n",
    "        print(f\"Step-2, find MCS\")\n",
    "        mol_mcs = rdFMCS.FindMCS([mol_1, mol_2])\n",
    "        smart_pattern = mol_mcs.smartsString\n",
    "        \n",
    "        print(f\"Step-3, find const\")\n",
    "        smi_const = _getSubstructure(mol_1, smart_pattern)\n",
    "        # smi_common_2 = _getSubstructure(mol_2, smart_pattern)\n",
    "        \n",
    "        print(f\"Step-4, find diffs\")\n",
    "        smi_from = _rmSubstructure(mol_1, smart_pattern)\n",
    "        smi_to = _rmSubstructure(mol_2, smart_pattern)\n",
    "    except Exception as e:\n",
    "        print(f\"Warning, error msg:\", e)\n",
    "        results = ['', '', '']\n",
    "    else:\n",
    "        results = [smi_const, smi_from, smi_to]\n",
    "    return results\n",
    "\n"
   ]
  },
  {
   "cell_type": "code",
   "execution_count": 6,
   "metadata": {},
   "outputs": [
    {
     "data": {
      "text/plain": [
       "('COC1=C(C2=CC(C3=CCCN(C(CCN4C=CN=N4)=O)C3)=C(F)C3=C2C=C(C(N2CCN(C4=CC=CC=C4F)CC2)=O)N3)C=CC=C1',\n",
       " 'FC1=C2NC(C(=O)N3CCN(C4=CN=C5C(=N4)NC=C5)CC3)=CC2=C(C2=C(OC)C=CC=C2)C=C1C1=CCCN(C(=O)CCN2N=NC=C2)C1')"
      ]
     },
     "execution_count": 6,
     "metadata": {},
     "output_type": "execute_result"
    }
   ],
   "source": [
    "smi_1 = dataTable['Smiles_1'][666]\n",
    "smi_2 = dataTable['Smiles_2'][666]\n",
    "smi_1, smi_2"
   ]
  },
  {
   "cell_type": "code",
   "execution_count": 7,
   "metadata": {},
   "outputs": [
    {
     "data": {
      "image/png": "[encoded data removed]",
      "text/plain": [
       "<rdkit.Chem.rdchem.Mol at 0x7fbe64e05e70>"
      ]
     },
     "execution_count": 7,
     "metadata": {},
     "output_type": "execute_result"
    }
   ],
   "source": [
    "mol_1 = Chem.MolFromSmiles(smi_1)\n",
    "mol_1"
   ]
  },
  {
   "cell_type": "code",
   "execution_count": 8,
   "metadata": {},
   "outputs": [
    {
     "data": {
      "image/png": "[encoded data removed]",
      "text/plain": [
       "<rdkit.Chem.rdchem.Mol at 0x7fbe64e06180>"
      ]
     },
     "execution_count": 8,
     "metadata": {},
     "output_type": "execute_result"
    }
   ],
   "source": [
    "mol_2 = Chem.MolFromSmiles(smi_2)\n",
    "mol_2"
   ]
  },
  {
   "cell_type": "code",
   "execution_count": 9,
   "metadata": {},
   "outputs": [
    {
     "ename": "",
     "evalue": "",
     "output_type": "error",
     "traceback": [
      "\u001b[1;31mCannot execute code, session has been disposed. Please try restarting the Kernel."
     ]
    },
    {
     "ename": "",
     "evalue": "",
     "output_type": "error",
     "traceback": [
      "\u001b[1;31mCannot execute code, session has been disposed. Please try restarting the Kernel. \n",
      "\u001b[1;31mView Jupyter <a href='command:jupyter.viewOutput'>log</a> for further details."
     ]
    }
   ],
   "source": [
    "rdFMCS.FindMCS([mol_1, mol_2])"
   ]
  },
  {
   "cell_type": "code",
   "execution_count": 2,
   "metadata": {},
   "outputs": [
    {
     "data": {
      "text/plain": [
       "<rdkit.Chem.rdFMCS.MCSResult at 0x7fbe6c822ab0>"
      ]
     },
     "execution_count": 2,
     "metadata": {},
     "output_type": "execute_result"
    }
   ],
   "source": [
    "rdFMCS.FindMCS([Chem.MolFromSmiles('C#CCP'), Chem.MolFromSmiles('C=CCO')])"
   ]
  },
  {
   "cell_type": "code",
   "execution_count": null,
   "metadata": {},
   "outputs": [],
   "source": [
    "from rdkit.Chem import MCS\n",
    "MCS.FindMCS([mol_1, mol_2])"
   ]
  },
  {
   "cell_type": "code",
   "execution_count": null,
   "metadata": {},
   "outputs": [],
   "source": [
    "results = _calcMCS(smi_1, smi_2)"
   ]
  },
  {
   "cell_type": "code",
   "execution_count": null,
   "metadata": {},
   "outputs": [],
   "source": [
    "results"
   ]
  },
  {
   "cell_type": "code",
   "execution_count": null,
   "metadata": {},
   "outputs": [],
   "source": []
  },
  {
   "cell_type": "code",
   "execution_count": null,
   "metadata": {},
   "outputs": [],
   "source": []
  }
 ],
 "metadata": {
  "kernelspec": {
   "display_name": "ml",
   "language": "python",
   "name": "python3"
  },
  "language_info": {
   "codemirror_mode": {
    "name": "ipython",
    "version": 3
   },
   "file_extension": ".py",
   "mimetype": "text/x-python",
   "name": "python",
   "nbconvert_exporter": "python",
   "pygments_lexer": "ipython3",
   "version": "3.10.13"
  }
 },
 "nbformat": 4,
 "nbformat_minor": 2
}
