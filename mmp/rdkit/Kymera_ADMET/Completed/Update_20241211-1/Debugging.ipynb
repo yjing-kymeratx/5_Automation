{
 "cells": [
  {
   "cell_type": "markdown",
   "metadata": {},
   "source": [
    "#### testing the generate function"
   ]
  },
  {
   "cell_type": "code",
   "execution_count": null,
   "metadata": {},
   "outputs": [],
   "source": [
    "# !mmpdb generate --smiles 'CCN(C)C(=O)C1=CC2=C(N1)C(F)=CN=C2C1=C(Cl)C=C(N2CCC(CN3CCN(C4=CC=CC5=C4N(C)C(=O)N5C4CCC(=O)NC4=O)CC3)CC2)C=C1' ./results/Compounds_All.mmpdb"
   ]
  },
  {
   "cell_type": "markdown",
   "metadata": {},
   "source": [
    "#### testing the tranform function"
   ]
  },
  {
   "cell_type": "code",
   "execution_count": 7,
   "metadata": {},
   "outputs": [
    {
     "name": "stdout",
     "output_type": "stream",
     "text": [
      "ID\tSMILES\tEfflux_from_smiles\tEfflux_to_smiles\tEfflux_radius\tEfflux_smarts\tEfflux_pseudosmiles\tEfflux_rule_environment_id\tEfflux_count\tEfflux_avg\tEfflux_std\tEfflux_kurtosis\tEfflux_skewness\tEfflux_min\tEfflux_q1\tEfflux_median\tEfflux_q3\tEfflux_max\tEfflux_paired_t\tEfflux_p_value\n"
     ]
    }
   ],
   "source": [
    "## using small molecules\n",
    "!mmpdb transform --smiles 'c1cccnc1O' ./results/Compounds_All.mmpdb --property 'Efflux'"
   ]
  },
  {
   "cell_type": "code",
   "execution_count": 8,
   "metadata": {},
   "outputs": [
    {
     "name": "stdout",
     "output_type": "stream",
     "text": [
      "ID\tSMILES\tMW_from_smiles\tMW_to_smiles\tMW_radius\tMW_smarts\tMW_pseudosmiles\tMW_rule_environment_id\tMW_count\tMW_avg\tMW_std\tMW_kurtosis\tMW_skewness\tMW_min\tMW_q1\tMW_median\tMW_q3\tMW_max\tMW_paired_t\tMW_p_value\n"
     ]
    }
   ],
   "source": [
    "!mmpdb transform --smiles 'CCN(C)C(=O)C1=CC2=C(N1)C(F)=CN=C2C1=C(Cl)C=C(N2CCC(CN3CCN(C4=CC=CC5=C4N(C)C(=O)N5C4CCC(=O)NC4=O)CC3)CC2)C=C1' ./results/Compounds_All.mmpdb --property 'MW'"
   ]
  },
  {
   "cell_type": "code",
   "execution_count": null,
   "metadata": {},
   "outputs": [],
   "source": []
  },
  {
   "cell_type": "code",
   "execution_count": null,
   "metadata": {},
   "outputs": [],
   "source": []
  },
  {
   "cell_type": "code",
   "execution_count": null,
   "metadata": {},
   "outputs": [],
   "source": []
  },
  {
   "cell_type": "code",
   "execution_count": null,
   "metadata": {},
   "outputs": [],
   "source": []
  },
  {
   "cell_type": "code",
   "execution_count": null,
   "metadata": {},
   "outputs": [],
   "source": []
  },
  {
   "cell_type": "code",
   "execution_count": null,
   "metadata": {},
   "outputs": [],
   "source": []
  },
  {
   "cell_type": "code",
   "execution_count": null,
   "metadata": {},
   "outputs": [],
   "source": []
  },
  {
   "cell_type": "code",
   "execution_count": null,
   "metadata": {},
   "outputs": [],
   "source": []
  },
  {
   "cell_type": "code",
   "execution_count": null,
   "metadata": {},
   "outputs": [],
   "source": []
  },
  {
   "cell_type": "code",
   "execution_count": null,
   "metadata": {},
   "outputs": [],
   "source": []
  },
  {
   "cell_type": "code",
   "execution_count": null,
   "metadata": {},
   "outputs": [],
   "source": []
  },
  {
   "cell_type": "code",
   "execution_count": null,
   "metadata": {},
   "outputs": [],
   "source": []
  },
  {
   "cell_type": "code",
   "execution_count": null,
   "metadata": {},
   "outputs": [],
   "source": []
  },
  {
   "cell_type": "code",
   "execution_count": null,
   "metadata": {},
   "outputs": [],
   "source": []
  },
  {
   "cell_type": "code",
   "execution_count": null,
   "metadata": {},
   "outputs": [],
   "source": []
  }
 ],
 "metadata": {
  "kernelspec": {
   "display_name": "mmp",
   "language": "python",
   "name": "python3"
  },
  "language_info": {
   "codemirror_mode": {
    "name": "ipython",
    "version": 3
   },
   "file_extension": ".py",
   "mimetype": "text/x-python",
   "name": "python",
   "nbconvert_exporter": "python",
   "pygments_lexer": "ipython3",
   "version": "3.10.13"
  }
 },
 "nbformat": 4,
 "nbformat_minor": 2
}
