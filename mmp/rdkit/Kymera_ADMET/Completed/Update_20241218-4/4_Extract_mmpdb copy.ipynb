{
 "cells": [
  {
   "cell_type": "code",
   "execution_count": 1,
   "metadata": {},
   "outputs": [],
   "source": [
    "import copy\n",
    "import sqlite3\n",
    "import numpy as np\n",
    "import pandas as pd\n",
    "from rdkit import Chem"
   ]
  },
  {
   "cell_type": "markdown",
   "metadata": {},
   "source": [
    "#### 1. Extracting data from Database"
   ]
  },
  {
   "cell_type": "code",
   "execution_count": 2,
   "metadata": {},
   "outputs": [],
   "source": [
    "def call_my_query(db_file, my_query):\n",
    "    ## connect to the SQLIte database\n",
    "    my_connection = sqlite3.connect(db_file)\n",
    "\n",
    "    ## create a cursor object\n",
    "    my_cursor = my_connection.cursor()\n",
    "\n",
    "    ## excute the query\n",
    "    my_cursor.execute(my_query)\n",
    "\n",
    "    ## fetch all the rows\n",
    "    rows = my_cursor.fetchall()\n",
    "    \n",
    "    ## export the results\n",
    "    data_list = [row for row in rows]\n",
    "\n",
    "    my_connection.close()\n",
    "    return data_list\n",
    "\n",
    "def extract_tables(db_file, table_name):\n",
    "    ## extract table data from SQLite DB\n",
    "    my_query_colName = f\"PRAGMA table_info({table_name})\"\n",
    "    colName_list = call_my_query(db_file, my_query_colName)\n",
    "\n",
    "    my_query_data = f\"SELECT * FROM {table_name}\"\n",
    "    data_list = call_my_query(db_file, my_query_data)\n",
    "\n",
    "    ## clean up data\n",
    "    dataDict = {}\n",
    "    for row_tuple in data_list:\n",
    "        idx = row_tuple[0]\n",
    "        dataDict[idx] = {}\n",
    "\n",
    "        for col in colName_list:\n",
    "            colIdx, colName = col[0], col[1]\n",
    "            dataDict[idx][colName] = row_tuple[colIdx]\n",
    "    return dataDict"
   ]
  },
  {
   "cell_type": "code",
   "execution_count": 3,
   "metadata": {},
   "outputs": [],
   "source": [
    "db_file = './results/Compounds_All.mmpdb'\n",
    "dataDict_tables = {}\n",
    "\n",
    "for table_name in [\"pair\", \"compound\", \"compound_property\", \"property_name\", \"constant_smiles\",\n",
    "                   \"rule\", \"rule_smiles\", \"rule_environment\", \"rule_environment_statistics\", \"environment_fingerprint\"]:\n",
    "    dataDict_table = extract_tables(db_file, table_name)\n",
    "    dataDict_tables[table_name] = pd.DataFrame.from_dict(dataDict_table).T\n",
    "    # print(table_name)"
   ]
  },
  {
   "cell_type": "code",
   "execution_count": 4,
   "metadata": {},
   "outputs": [],
   "source": [
    "for table_name in dataDict_tables:\n",
    "    dataDict_tables[table_name].to_csv(f'./tmp/{table_name}.csv', index=False)"
   ]
  },
  {
   "cell_type": "code",
   "execution_count": null,
   "metadata": {},
   "outputs": [],
   "source": []
  },
  {
   "cell_type": "code",
   "execution_count": null,
   "metadata": {},
   "outputs": [],
   "source": []
  },
  {
   "cell_type": "code",
   "execution_count": null,
   "metadata": {},
   "outputs": [],
   "source": []
  },
  {
   "cell_type": "code",
   "execution_count": null,
   "metadata": {},
   "outputs": [],
   "source": []
  },
  {
   "cell_type": "code",
   "execution_count": null,
   "metadata": {},
   "outputs": [],
   "source": []
  },
  {
   "cell_type": "code",
   "execution_count": null,
   "metadata": {},
   "outputs": [],
   "source": []
  }
 ],
 "metadata": {
  "kernelspec": {
   "display_name": "ml",
   "language": "python",
   "name": "python3"
  },
  "language_info": {
   "codemirror_mode": {
    "name": "ipython",
    "version": 3
   },
   "file_extension": ".py",
   "mimetype": "text/x-python",
   "name": "python",
   "nbconvert_exporter": "python",
   "pygments_lexer": "ipython3",
   "version": "3.10.13"
  }
 },
 "nbformat": 4,
 "nbformat_minor": 2
}
