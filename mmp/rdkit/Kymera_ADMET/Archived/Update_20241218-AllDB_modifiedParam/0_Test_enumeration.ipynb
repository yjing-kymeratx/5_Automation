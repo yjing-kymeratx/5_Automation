{
 "cells": [
  {
   "cell_type": "code",
   "execution_count": null,
   "metadata": {},
   "outputs": [],
   "source": [
    "!mmpdb generate --smiles 'COc1nn(C)c(=O)n1c6ccc(c2ccc4c(c2C)N(C(=O)Cc3cccc(C(N)=O)c3)CC45CC5)nc6' ./results/Compounds_All.mmpdb  2>&1 | tee ./results/MMP_expension_Test_all.txt"
   ]
  },
  {
   "cell_type": "code",
   "execution_count": null,
   "metadata": {},
   "outputs": [],
   "source": [
    "# # mmpdb transform --smiles 'c1cccnc1O' test_data.mmpdb --property MP\n",
    "!mmpdb transform --smiles 'CCN(C)C(=O)C1=CC2=C(N1)C(F)=CN=C2C1=C(OC(F)(F)F)C=C(C2CCN(CC3CCN(C4=CC=CC5=C4N(C)C(=O)N5C4CCC(=O)NC4=O)CC3)CC2)C=C1' ./results/Compounds_All.mmpdb --property bpKa1  2>&1 | tee ./results/MMP_expension_Test_bpKa1.txt"
   ]
  },
  {
   "cell_type": "code",
   "execution_count": null,
   "metadata": {},
   "outputs": [],
   "source": [
    "!mmpdb transform --smiles 'COc1nn(C)c(=O)n1c6ccc(c2ccc4c(c2C)N(C(=O)Cc3cccc(C(N)=O)c3)CC45CC5)nc6' ./results/Compounds_All.mmpdb --property Bioavailability -r 0  2>&1 | tee ./results/MMP_expension_Sean_PK.txt"
   ]
  },
  {
   "cell_type": "code",
   "execution_count": null,
   "metadata": {},
   "outputs": [],
   "source": [
    "!mmpdb transform --smiles 'COc1nn(C)c(=O)n1c6ccc(c2ccc4c(c2C)N(C(=O)Cc3cccc(C(N)=O)c3)CC45CC5)nc6' ./results/Compounds_All.mmpdb --property estFa -r 0  2>&1 | tee ./results/MMP_expension_Sean_PK_EstFa.txt"
   ]
  },
  {
   "cell_type": "code",
   "execution_count": null,
   "metadata": {},
   "outputs": [],
   "source": [
    "!mmpdb transform --smiles 'COc1nn(C)c(=O)n1c6ccc(c2ccc4c(c2C)N(C(=O)Cc3cccc(C(N)=O)c3)CC45CC5)nc6' ./results/Compounds_All.mmpdb --property Bioavailability --property estFa -r 0  2>&1 | tee ./results/MMP_expension_Sean_PK_All.txt"
   ]
  },
  {
   "cell_type": "code",
   "execution_count": 1,
   "metadata": {},
   "outputs": [
    {
     "name": "stdout",
     "output_type": "stream",
     "text": [
      "Unable to fragment --smiles 'CCN(C)C(=O)C1=CC2=C(N1)C(F)=CN=C2C1=C(OC(F)(F)F)C=C(C2CCN(CC3CCN(C4=CC=CC5=C4N(C)C(=O)N5C4CCC(=O)NC4=O)CC3)CC2)C=C1': too many rotatable bonds\n"
     ]
    }
   ],
   "source": [
    "!mmpdb transform --smiles 'CCN(C)C(=O)C1=CC2=C(N1)C(F)=CN=C2C1=C(OC(F)(F)F)C=C(C2CCN(CC3CCN(C4=CC=CC5=C4N(C)C(=O)N5C4CCC(=O)NC4=O)CC3)CC2)C=C1' ./results/Compounds_All.mmpdb --property hERG_mixedIC50 -r 0"
   ]
  },
  {
   "cell_type": "code",
   "execution_count": null,
   "metadata": {},
   "outputs": [],
   "source": [
    "!fragment --smiles 'CCN(C)C(=O)C1=CC2=C(N1)C(F)=CN=C2C1=C(OC(F)(F)F)C=C(C2CCN(CC3CCN(C4=CC=CC5=C4N(C)C(=O)N5C4CCC(=O)NC4=O)CC3)CC2)C=C1'"
   ]
  },
  {
   "cell_type": "code",
   "execution_count": null,
   "metadata": {},
   "outputs": [],
   "source": []
  },
  {
   "cell_type": "code",
   "execution_count": null,
   "metadata": {},
   "outputs": [],
   "source": []
  },
  {
   "cell_type": "code",
   "execution_count": null,
   "metadata": {},
   "outputs": [],
   "source": []
  },
  {
   "cell_type": "code",
   "execution_count": null,
   "metadata": {},
   "outputs": [],
   "source": []
  },
  {
   "cell_type": "code",
   "execution_count": 8,
   "metadata": {},
   "outputs": [],
   "source": [
    "import rdkit\n",
    "from rdkit import Chem\n",
    "from rdkit.Chem import Draw"
   ]
  },
  {
   "cell_type": "code",
   "execution_count": null,
   "metadata": {},
   "outputs": [],
   "source": [
    "mol = Chem.MolFromSmiles(\"CNCCOc1nn(C)c(=O)n1-c1ccc(-c2ccc3c(c2C)N(C(=O)Cc2cccc(C(N)=O)c2)CC32CC2)nc1\")\n",
    "Draw.MolToImage(mol)"
   ]
  },
  {
   "cell_type": "code",
   "execution_count": null,
   "metadata": {},
   "outputs": [],
   "source": []
  },
  {
   "cell_type": "code",
   "execution_count": null,
   "metadata": {},
   "outputs": [],
   "source": []
  },
  {
   "cell_type": "code",
   "execution_count": null,
   "metadata": {},
   "outputs": [],
   "source": []
  },
  {
   "cell_type": "code",
   "execution_count": null,
   "metadata": {},
   "outputs": [],
   "source": []
  },
  {
   "cell_type": "code",
   "execution_count": null,
   "metadata": {},
   "outputs": [],
   "source": []
  },
  {
   "cell_type": "code",
   "execution_count": null,
   "metadata": {},
   "outputs": [],
   "source": []
  },
  {
   "cell_type": "code",
   "execution_count": null,
   "metadata": {},
   "outputs": [],
   "source": []
  },
  {
   "cell_type": "code",
   "execution_count": null,
   "metadata": {},
   "outputs": [],
   "source": []
  },
  {
   "cell_type": "code",
   "execution_count": null,
   "metadata": {},
   "outputs": [],
   "source": []
  },
  {
   "cell_type": "code",
   "execution_count": null,
   "metadata": {},
   "outputs": [],
   "source": []
  },
  {
   "cell_type": "code",
   "execution_count": null,
   "metadata": {},
   "outputs": [],
   "source": []
  },
  {
   "cell_type": "code",
   "execution_count": null,
   "metadata": {},
   "outputs": [],
   "source": []
  },
  {
   "cell_type": "code",
   "execution_count": null,
   "metadata": {},
   "outputs": [],
   "source": []
  },
  {
   "cell_type": "code",
   "execution_count": null,
   "metadata": {},
   "outputs": [],
   "source": []
  },
  {
   "cell_type": "code",
   "execution_count": null,
   "metadata": {},
   "outputs": [],
   "source": []
  },
  {
   "cell_type": "code",
   "execution_count": null,
   "metadata": {},
   "outputs": [],
   "source": []
  },
  {
   "cell_type": "code",
   "execution_count": null,
   "metadata": {},
   "outputs": [],
   "source": []
  },
  {
   "cell_type": "code",
   "execution_count": null,
   "metadata": {},
   "outputs": [],
   "source": []
  },
  {
   "cell_type": "code",
   "execution_count": null,
   "metadata": {},
   "outputs": [],
   "source": []
  }
 ],
 "metadata": {
  "kernelspec": {
   "display_name": "mmp",
   "language": "python",
   "name": "python3"
  },
  "language_info": {
   "codemirror_mode": {
    "name": "ipython",
    "version": 3
   },
   "file_extension": ".py",
   "mimetype": "text/x-python",
   "name": "python",
   "nbconvert_exporter": "python",
   "pygments_lexer": "ipython3",
   "version": "3.10.13"
  }
 },
 "nbformat": 4,
 "nbformat_minor": 2
}
