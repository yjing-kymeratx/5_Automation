{
 "cells": [
  {
   "cell_type": "code",
   "execution_count": 1,
   "metadata": {},
   "outputs": [],
   "source": [
    "import os\n",
    "import subprocess\n",
    "import pandas as pd"
   ]
  },
  {
   "cell_type": "code",
   "execution_count": 2,
   "metadata": {},
   "outputs": [
    {
     "name": "stdout",
     "output_type": "stream",
     "text": [
      "/mnt/data0/Research/5_Automation/mmp/rdkit/Test_1_hERG_2024Jun12/results is existing\n"
     ]
    }
   ],
   "source": [
    "dir_outputs = os.path.join(os.getcwd(), 'results')\n",
    "os.makedirs(dir_outputs) if not os.path.exists(dir_outputs) else print(f'{dir_outputs} is existing')"
   ]
  },
  {
   "cell_type": "markdown",
   "metadata": {},
   "source": [
    "#### 1. Prepare the SMILES file and property CSV file"
   ]
  },
  {
   "cell_type": "code",
   "execution_count": 3,
   "metadata": {},
   "outputs": [
    {
     "name": "stdout",
     "output_type": "stream",
     "text": [
      "There are total 1956 molecules in the table with SMILES\n"
     ]
    },
    {
     "data": {
      "text/html": [
       "<div>\n",
       "<style scoped>\n",
       "    .dataframe tbody tr th:only-of-type {\n",
       "        vertical-align: middle;\n",
       "    }\n",
       "\n",
       "    .dataframe tbody tr th {\n",
       "        vertical-align: top;\n",
       "    }\n",
       "\n",
       "    .dataframe thead th {\n",
       "        text-align: right;\n",
       "    }\n",
       "</style>\n",
       "<table border=\"1\" class=\"dataframe\">\n",
       "  <thead>\n",
       "    <tr style=\"text-align: right;\">\n",
       "      <th></th>\n",
       "      <th>Molecule Name</th>\n",
       "      <th>proj_mcf</th>\n",
       "      <th>SMILES</th>\n",
       "      <th>Molecular weight (g/mol)</th>\n",
       "      <th>Projects</th>\n",
       "      <th>Batch Name</th>\n",
       "      <th>Batch Molecule-Batch ID</th>\n",
       "      <th>Projects_sorted</th>\n",
       "      <th>hERG_IC50_list</th>\n",
       "      <th>hERG_IC50_cmts</th>\n",
       "      <th>hERG_inhibition_details</th>\n",
       "      <th>ambitiousData</th>\n",
       "      <th>hERG_eIC50_list</th>\n",
       "      <th>hERG_IC50_mean</th>\n",
       "      <th>hERG_assay_date</th>\n",
       "      <th>hERG_IC50_range</th>\n",
       "      <th>hERG_eIC50_mean</th>\n",
       "      <th>hERG_IC50_merged_uM</th>\n",
       "      <th>hERG_pIC50_merged</th>\n",
       "    </tr>\n",
       "  </thead>\n",
       "  <tbody>\n",
       "    <tr>\n",
       "      <th>0</th>\n",
       "      <td>KT-0003545</td>\n",
       "      <td>IRAK4</td>\n",
       "      <td>[C@H]1(N2C=C3C=C(NC(=O)C4=CC=CC(C(F)(F)F)=N4)C...</td>\n",
       "      <td>843.952</td>\n",
       "      <td>CRBN MGD Library, IRAK4</td>\n",
       "      <td>13</td>\n",
       "      <td>KT-0003545-013</td>\n",
       "      <td>CRBN MGD Library, IRAK4</td>\n",
       "      <td>[['12.343', '3/29/2022'], ['12.343', '3/29/202...</td>\n",
       "      <td>[]</td>\n",
       "      <td>{}</td>\n",
       "      <td>0</td>\n",
       "      <td>[]</td>\n",
       "      <td>12.343</td>\n",
       "      <td>3/29/2022</td>\n",
       "      <td>NaN</td>\n",
       "      <td>NaN</td>\n",
       "      <td>12.343</td>\n",
       "      <td>4.908579</td>\n",
       "    </tr>\n",
       "    <tr>\n",
       "      <th>1</th>\n",
       "      <td>KT-0004511</td>\n",
       "      <td>IRAK4</td>\n",
       "      <td>[C@H]1(N2C=C3C=C(NC(=O)C4=CC=CC(C(F)(F)F)=N4)C...</td>\n",
       "      <td>849.862</td>\n",
       "      <td>IRAK4</td>\n",
       "      <td>3</td>\n",
       "      <td>KT-0004511-003</td>\n",
       "      <td>IRAK4</td>\n",
       "      <td>[['1.717', '6/27/2022']]</td>\n",
       "      <td>[]</td>\n",
       "      <td>{}</td>\n",
       "      <td>0</td>\n",
       "      <td>[]</td>\n",
       "      <td>1.717</td>\n",
       "      <td>6/27/2022</td>\n",
       "      <td>NaN</td>\n",
       "      <td>NaN</td>\n",
       "      <td>1.717</td>\n",
       "      <td>5.765230</td>\n",
       "    </tr>\n",
       "    <tr>\n",
       "      <th>2</th>\n",
       "      <td>KT-0005653</td>\n",
       "      <td>IRAK4</td>\n",
       "      <td>C(C1=C2C(=CC=C1)N(C1C(=O)N(C)C(=O)CC1)C(=O)N2C...</td>\n",
       "      <td>879.970</td>\n",
       "      <td>IRAK4</td>\n",
       "      <td>2</td>\n",
       "      <td>KT-0005653-002</td>\n",
       "      <td>IRAK4</td>\n",
       "      <td>[['6.240', '5/16/2022']]</td>\n",
       "      <td>[]</td>\n",
       "      <td>{}</td>\n",
       "      <td>0</td>\n",
       "      <td>[]</td>\n",
       "      <td>6.240</td>\n",
       "      <td>5/16/2022</td>\n",
       "      <td>NaN</td>\n",
       "      <td>NaN</td>\n",
       "      <td>6.240</td>\n",
       "      <td>5.204815</td>\n",
       "    </tr>\n",
       "  </tbody>\n",
       "</table>\n",
       "</div>"
      ],
      "text/plain": [
       "  Molecule Name proj_mcf                                             SMILES  \\\n",
       "0    KT-0003545    IRAK4  [C@H]1(N2C=C3C=C(NC(=O)C4=CC=CC(C(F)(F)F)=N4)C...   \n",
       "1    KT-0004511    IRAK4  [C@H]1(N2C=C3C=C(NC(=O)C4=CC=CC(C(F)(F)F)=N4)C...   \n",
       "2    KT-0005653    IRAK4  C(C1=C2C(=CC=C1)N(C1C(=O)N(C)C(=O)CC1)C(=O)N2C...   \n",
       "\n",
       "   Molecular weight (g/mol)                 Projects  Batch Name  \\\n",
       "0                   843.952  CRBN MGD Library, IRAK4          13   \n",
       "1                   849.862                    IRAK4           3   \n",
       "2                   879.970                    IRAK4           2   \n",
       "\n",
       "  Batch Molecule-Batch ID          Projects_sorted  \\\n",
       "0          KT-0003545-013  CRBN MGD Library, IRAK4   \n",
       "1          KT-0004511-003                    IRAK4   \n",
       "2          KT-0005653-002                    IRAK4   \n",
       "\n",
       "                                      hERG_IC50_list hERG_IC50_cmts  \\\n",
       "0  [['12.343', '3/29/2022'], ['12.343', '3/29/202...             []   \n",
       "1                           [['1.717', '6/27/2022']]             []   \n",
       "2                           [['6.240', '5/16/2022']]             []   \n",
       "\n",
       "  hERG_inhibition_details  ambitiousData hERG_eIC50_list  hERG_IC50_mean  \\\n",
       "0                      {}              0              []          12.343   \n",
       "1                      {}              0              []           1.717   \n",
       "2                      {}              0              []           6.240   \n",
       "\n",
       "  hERG_assay_date hERG_IC50_range  hERG_eIC50_mean  hERG_IC50_merged_uM  \\\n",
       "0       3/29/2022             NaN              NaN               12.343   \n",
       "1       6/27/2022             NaN              NaN                1.717   \n",
       "2       5/16/2022             NaN              NaN                6.240   \n",
       "\n",
       "   hERG_pIC50_merged  \n",
       "0           4.908579  \n",
       "1           5.765230  \n",
       "2           5.204815  "
      ]
     },
     "execution_count": 3,
     "metadata": {},
     "output_type": "execute_result"
    }
   ],
   "source": [
    "dataTable_raw = pd.read_csv(f'./hERG_regression_All_1956_2024May08.csv')\n",
    "dataTable_raw = dataTable_raw.dropna(subset=['Molecule Name', 'SMILES']).reset_index(drop=True)\n",
    "print(f'There are total {dataTable_raw.shape[0]} molecules in the table with SMILES')\n",
    "dataTable_raw.head(3)"
   ]
  },
  {
   "cell_type": "code",
   "execution_count": 4,
   "metadata": {},
   "outputs": [
    {
     "name": "stdout",
     "output_type": "stream",
     "text": [
      "The SMILES strings have been saved into file: /mnt/data0/Research/5_Automation/mmp/rdkit/Test_1_hERG_2024Jun12/results/hERG_All_1956_2024Jun14.smi\n"
     ]
    }
   ],
   "source": [
    "colName_mid = 'Molecule Name'\n",
    "colName_smi = 'SMILES'\n",
    "colName_proj = 'proj_mcf'\n",
    "colName_prop = 'hERG_pIC50_merged'\n",
    "\n",
    "\n",
    "## the SMILES file for fragmentation\n",
    "file_smi = f'{dir_outputs}/hERG_All_1956_2024Jun14.smi'\n",
    "file_prop_csv = f'{dir_outputs}/hERG_All_1956_2024Jun14_property.csv'\n",
    "delimiter = ' '\n",
    "\n",
    "data_prop_dict = {}\n",
    "with open(file_smi, \"w\") as output_file:\n",
    "    # output_file.write(f'SMILES{delimiter}ID' + \"\\n\")\n",
    "    for idx in dataTable_raw.index:\n",
    "        mol_id = dataTable_raw[colName_mid][idx]\n",
    "        mol_smi = dataTable_raw[colName_smi][idx]\n",
    "\n",
    "        ## prepare the SMILES output\n",
    "        this_line = f'{mol_smi}{delimiter}{mol_id}'\n",
    "        output_file.write(this_line + \"\\n\")  # Add a newline character after each string\n",
    "\n",
    "        ## prepare the property CSV output\n",
    "        data_prop_dict[idx] = {}\n",
    "        data_prop_dict[idx]['ID'] = mol_id\n",
    "        prop_name = colName_prop\n",
    "        try:\n",
    "            mol_prop = float(dataTable_raw[colName_prop][idx])\n",
    "        except Exception as e:\n",
    "            data_prop_dict[idx][prop_name] = \"*\"\n",
    "            print(f'This mol {mol_id} does not have a proper property value: {e}')\n",
    "        else:\n",
    "            data_prop_dict[idx][prop_name] = mol_prop\n",
    "    print(f'The SMILES strings have been saved into file: {file_smi}')\n",
    "    \n",
    "## save the csv results\n",
    "data_prop_dict = pd.DataFrame.from_dict(data_prop_dict).T\n",
    "data_prop_dict.to_csv(file_prop_csv, index=False, sep=delimiter)"
   ]
  },
  {
   "cell_type": "markdown",
   "metadata": {},
   "source": [
    "#### 2. Fragment the SMILES"
   ]
  },
  {
   "cell_type": "code",
   "execution_count": 5,
   "metadata": {},
   "outputs": [
    {
     "name": "stderr",
     "output_type": "stream",
     "text": [
      "                                   \r"
     ]
    },
    {
     "name": "stdout",
     "output_type": "stream",
     "text": [
      "The fragmentation is completed and saved into file /mnt/data0/Research/5_Automation/mmp/rdkit/Test_1_hERG_2024Jun12/results/hERG_All_1956_2024Jun14.fragdb\n"
     ]
    },
    {
     "name": "stderr",
     "output_type": "stream",
     "text": [
      "                    \r"
     ]
    }
   ],
   "source": [
    "file_fragdb = f'{dir_outputs}/hERG_All_1956_2024Jun14.fragdb'\n",
    "\n",
    "commandLine = ['mmpdb', 'fragment', file_smi, '-o', file_fragdb]\n",
    "process = subprocess.Popen(commandLine, stdout=subprocess.PIPE)\n",
    "output, error = process.communicate()\n",
    "print(f'The fragmentation is completed and saved into file {file_fragdb}')"
   ]
  },
  {
   "cell_type": "markdown",
   "metadata": {},
   "source": [
    "#### 3. Indexing to find the matched molecular pairs in the fragment file\n",
    "#### 4. Load the activity/property data"
   ]
  },
  {
   "cell_type": "code",
   "execution_count": 6,
   "metadata": {},
   "outputs": [
    {
     "name": "stderr",
     "output_type": "stream",
     "text": [
      "                                                                           \r"
     ]
    },
    {
     "name": "stdout",
     "output_type": "stream",
     "text": [
      "The indexing/mmp generation is completed and saved into file /mnt/data0/Research/5_Automation/mmp/rdkit/Test_1_hERG_2024Jun12/results/hERG_All_1956_2024Jun14.mmpdb\n",
      "                  Name                  #cmpds #rules #pairs #envs  #stats  |----------------------------------------------------- Title -----------------------------------------------------| Properties\n",
      "./results/hERG_All_1956_2024Jun14.mmpdb   1009   7235  82680  50311  50311  MMPs from '/mnt/data0/Research/5_Automation/mmp/rdkit/Test_1_hERG_2024Jun12/results/hERG_All_1956_2024Jun14.fragdb' hERG_pIC50_merged\n"
     ]
    }
   ],
   "source": [
    "file_mmpdb = f'{dir_outputs}/hERG_All_1956_2024Jun14.mmpdb'\n",
    "\n",
    "commandLine = ['mmpdb', 'index', file_fragdb, '-o', file_mmpdb, '--properties', file_prop_csv]\n",
    "process = subprocess.Popen(commandLine, stdout=subprocess.PIPE)\n",
    "output, error = process.communicate()\n",
    "print(f'The indexing/mmp generation is completed and saved into file {file_mmpdb}')\n",
    "!mmpdb list ./results/hERG_All_1956_2024Jun14.mmpdb"
   ]
  },
  {
   "cell_type": "code",
   "execution_count": null,
   "metadata": {},
   "outputs": [],
   "source": [
    "# !mmpdb --help\n",
    "# !mmpdb help-admin\n",
    "# !mmpdb index --help"
   ]
  },
  {
   "cell_type": "code",
   "execution_count": 1,
   "metadata": {},
   "outputs": [
    {
     "name": "stdout",
     "output_type": "stream",
     "text": [
      "Usage: mmpdb rulecat [OPTIONS] DATABASE\n",
      "\n",
      "  Show the rules in an mmpdb file\n",
      "\n",
      "Options:\n",
      "  -o, --output FILENAME  Write the rules to the named file (default is stdout)\n",
      "  --help                 Show this message and exit.\n"
     ]
    }
   ],
   "source": [
    "!mmpdb rulecat --help\n",
    "!mmpdb rulecat ./results/hERG_All_1956_2024Jun14.mmpdb -o ./results/catfolder/hERG_All_1956_2024Jun14_rulecat.csv"
   ]
  },
  {
   "cell_type": "code",
   "execution_count": 2,
   "metadata": {},
   "outputs": [
    {
     "name": "stdout",
     "output_type": "stream",
     "text": [
      "Usage: mmpdb ruleenvcat [OPTIONS] DATABASE\n",
      "\n",
      "  Show the rules in an mmpdb file\n",
      "\n",
      "Options:\n",
      "  --pairs / --no-pairs   With --pairs, include pairs in the output\n",
      "  -o, --output FILENAME  Write the rules to the named file (default is stdout)\n",
      "  --help                 Show this message and exit.\n"
     ]
    }
   ],
   "source": [
    "!mmpdb ruleenvcat --help\n",
    "!mmpdb ruleenvcat ./results/hERG_All_1956_2024Jun14.mmpdb -o ./results/catfolder/hERG_All_1956_2024Jun14_ruleenvcat.csv"
   ]
  },
  {
   "cell_type": "code",
   "execution_count": 8,
   "metadata": {},
   "outputs": [
    {
     "name": "stdout",
     "output_type": "stream",
     "text": [
      "Usage: mmpdb propcat [OPTIONS] DATABASE\n",
      "\n",
      "  Write the database properties to a properties file\n",
      "\n",
      "  DATABASE: an mmpdb file\n",
      "\n",
      "Options:\n",
      "  --no-properties        Don't use any properties\n",
      "  -p, --property NAME    Property to use (may be specified multiple times)\n",
      "  --all                  Include compounds which have no properties\n",
      "  -o, --output FILENAME  Output filename (default is stdout)\n",
      "  --help                 Show this message and exit.\n",
      "\n",
      " Write information about the properties for the compounds in DATABASE,\n",
      " formatted as a property file. Use `mmpdb help-property-file` for details\n",
      " about the property file format.\n",
      "\n",
      " The output from this command is a tab-delimited CSV file where the first\n",
      " column has the head \"ID\" and contains the compound identifier. The other\n",
      " columns contain property information for each compound. The column title is\n",
      " the property name.\n",
      "\n",
      " By default there is one column for each property in the databases, and the\n",
      " one row for each compound with at least one property. Use '--property' to\n",
      " limit the output to a specific property, or use it multiple times to specify\n",
      " multiple property names to output. Use '--all' to list all of the compounds,\n",
      " even if the compound has none of the specified properties.\n",
      "\n",
      " The character \"*\" will be use if a listed compound is missing a given\n",
      " property.\n",
      "\n",
      " Examples:\n",
      "\n",
      " 1) Write all of the properties to stdout:\n",
      "\n",
      "   % mmpdb propcat CHEMBL_thrombin_Ki_IC50.mmpdb\n",
      "\n",
      " 2) Write the \"MP\" property to \"MP.properties\":\n",
      "\n",
      "   % mmpdb propcat csd.mmpdb --property MP -o MP.properties\n",
      "\n",
      " 3) Write the compound identifiers only to stdout:\n",
      "\n",
      "   % mmpdb propcat csd.mmpdb --no-properties --all\n"
     ]
    }
   ],
   "source": [
    "# !mmpdb propcat --help\n",
    "# !mmpdb propcat ./results/hERG_All_1956_2024Jun14.mmpdb -o ./results/catfolder/hERG_All_1956_2024Jun14_propcat.csv"
   ]
  },
  {
   "cell_type": "code",
   "execution_count": 7,
   "metadata": {},
   "outputs": [
    {
     "name": "stdout",
     "output_type": "stream",
     "text": [
      "Usage: mmpdb proprulecat [OPTIONS] DATABASE\n",
      "\n",
      "  Write the property rules to stdout or a file\n",
      "\n",
      "Options:\n",
      "  --from SMILES                   SMILES for one side of the transformation\n",
      "  --to SMILES                     SMILES for the other side of the\n",
      "                                  transformation\n",
      "  --canonicalize / --no-canonicalize\n",
      "                                  Use the --from and --to strings as-is; do\n",
      "                                  not canonicalize them (default:\n",
      "                                  --canonicalize)\n",
      "  -p, --property NAME             Property to use (may be specified multiple\n",
      "                                  times)\n",
      "  --min-count N                   Only show rules with at least N pairs\n",
      "  -o, --output FILENAME           Write the output to the given file (default\n",
      "                                  is stdout)\n",
      "  --help                          Show this message and exit.\n"
     ]
    }
   ],
   "source": [
    "!mmpdb proprulecat --help\n",
    "!mmpdb proprulecat ./results/hERG_All_1956_2024Jun14.mmpdb -o ./results/catfolder/hERG_All_1956_2024Jun14_proprulecat.csv"
   ]
  },
  {
   "cell_type": "code",
   "execution_count": null,
   "metadata": {},
   "outputs": [],
   "source": []
  },
  {
   "cell_type": "code",
   "execution_count": null,
   "metadata": {},
   "outputs": [],
   "source": []
  },
  {
   "cell_type": "code",
   "execution_count": null,
   "metadata": {},
   "outputs": [],
   "source": []
  },
  {
   "cell_type": "code",
   "execution_count": null,
   "metadata": {},
   "outputs": [],
   "source": []
  },
  {
   "cell_type": "code",
   "execution_count": null,
   "metadata": {},
   "outputs": [],
   "source": []
  },
  {
   "cell_type": "code",
   "execution_count": null,
   "metadata": {},
   "outputs": [],
   "source": []
  }
 ],
 "metadata": {
  "kernelspec": {
   "display_name": "ml",
   "language": "python",
   "name": "python3"
  },
  "language_info": {
   "codemirror_mode": {
    "name": "ipython",
    "version": 3
   },
   "file_extension": ".py",
   "mimetype": "text/x-python",
   "name": "python",
   "nbconvert_exporter": "python",
   "pygments_lexer": "ipython3",
   "version": "3.10.13"
  }
 },
 "nbformat": 4,
 "nbformat_minor": 2
}
