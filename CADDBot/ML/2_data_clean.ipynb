{
 "cells": [
  {
   "cell_type": "code",
   "execution_count": 1,
   "metadata": {},
   "outputs": [],
   "source": [
    "import warnings\n",
    "warnings.filterwarnings('ignore')\n",
    "\n",
    "import os\n",
    "import re\n",
    "import numpy as np\n",
    "import pandas as pd\n",
    "\n",
    "from AutoML.data_clean import *\n",
    "from AutoML.utility import determine_encoding"
   ]
  },
  {
   "cell_type": "code",
   "execution_count": 2,
   "metadata": {},
   "outputs": [
    {
     "data": {
      "text/html": [
       "<div>\n",
       "<style scoped>\n",
       "    .dataframe tbody tr th:only-of-type {\n",
       "        vertical-align: middle;\n",
       "    }\n",
       "\n",
       "    .dataframe tbody tr th {\n",
       "        vertical-align: top;\n",
       "    }\n",
       "\n",
       "    .dataframe thead th {\n",
       "        text-align: right;\n",
       "    }\n",
       "</style>\n",
       "<table border=\"1\" class=\"dataframe\">\n",
       "  <thead>\n",
       "    <tr style=\"text-align: right;\">\n",
       "      <th></th>\n",
       "      <th>Compound Name</th>\n",
       "      <th>Structure</th>\n",
       "      <th>Smiles</th>\n",
       "      <th>Created On</th>\n",
       "      <th>Concat;Project</th>\n",
       "      <th>ADME AlphaLogD;Mean;AlphaLogD;(Mod)</th>\n",
       "      <th>ADME AlphaLogD;Mean;AlphaLogD;(Num)</th>\n",
       "      <th>ADME logD;Mean;logD in 1-Octanol/PBS pH 7.4;(Mod)</th>\n",
       "      <th>ADME logD;Mean;logD in 1-Octanol/PBS pH 7.4;(Num)</th>\n",
       "      <th>ADME Analiza pKa;Mean;apKa1;(Mod)</th>\n",
       "      <th>...</th>\n",
       "      <th>ADME PK;Mean;T 1/2 (h);Dose: 200.000 (mg/kg);Route of Administration: SC;Species: Mouse;(Mod)</th>\n",
       "      <th>ADME PK;Mean;T 1/2 (h);Dose: 200.000 (mg/kg);Route of Administration: SC;Species: Mouse;(Num)</th>\n",
       "      <th>ADME PK;Mean;Cl_obs(mL/min/kg);Dose: 0.259 (mg/kg);Route of Administration: IV;Species: Rat;(Mod)</th>\n",
       "      <th>ADME PK;Mean;Cl_obs(mL/min/kg);Dose: 0.259 (mg/kg);Route of Administration: IV;Species: Rat;(Num)</th>\n",
       "      <th>ADME PK;Mean;Cmax (uM);Dose: 0.259 (mg/kg);Route of Administration: IV;Species: Rat;(Mod)</th>\n",
       "      <th>ADME PK;Mean;Cmax (uM);Dose: 0.259 (mg/kg);Route of Administration: IV;Species: Rat;(Num)</th>\n",
       "      <th>ADME PK;Mean;T 1/2 (h);Dose: 0.259 (mg/kg);Route of Administration: IV;Species: Rat;(Mod)</th>\n",
       "      <th>ADME PK;Mean;T 1/2 (h);Dose: 0.259 (mg/kg);Route of Administration: IV;Species: Rat;(Num)</th>\n",
       "      <th>ADME PK;Mean;Vss-obs (L/kg);Dose: 0.259 (mg/kg);Route of Administration: IV;Species: Rat;(Mod)</th>\n",
       "      <th>ADME PK;Mean;Vss-obs (L/kg);Dose: 0.259 (mg/kg);Route of Administration: IV;Species: Rat;(Num)</th>\n",
       "    </tr>\n",
       "  </thead>\n",
       "  <tbody>\n",
       "    <tr>\n",
       "      <th>0</th>\n",
       "      <td>KT-0030597</td>\n",
       "      <td>s8c7c(c1c(nc(cc1)-c2cnc(cc2)N3CCN(CC3)CC4CCN(C...</td>\n",
       "      <td>N1C(=O)C2=C(C3=C4C=CC(C5=CN=C(N6CCN(CC7CCN(C8=...</td>\n",
       "      <td>06-Jan-2022</td>\n",
       "      <td>MK2;CRBN</td>\n",
       "      <td>=</td>\n",
       "      <td>5.08</td>\n",
       "      <td>=</td>\n",
       "      <td>4.58</td>\n",
       "      <td>NaN</td>\n",
       "      <td>...</td>\n",
       "      <td>NaN</td>\n",
       "      <td>NaN</td>\n",
       "      <td>NaN</td>\n",
       "      <td>NaN</td>\n",
       "      <td>NaN</td>\n",
       "      <td>NaN</td>\n",
       "      <td>NaN</td>\n",
       "      <td>NaN</td>\n",
       "      <td>NaN</td>\n",
       "      <td>NaN</td>\n",
       "    </tr>\n",
       "    <tr>\n",
       "      <th>1</th>\n",
       "      <td>KT-0031009</td>\n",
       "      <td>s8c7c(c1c(nc(cc1)N2CCN(CC2)CCC3CCN(CC3)c4cc5c(...</td>\n",
       "      <td>N1C(=O)C2=C(C3=C(C=CC4=C3C=CC(N3CCN(CCC5CCN(C6...</td>\n",
       "      <td>10-Feb-2022</td>\n",
       "      <td>MK2</td>\n",
       "      <td>=</td>\n",
       "      <td>4.01</td>\n",
       "      <td>=</td>\n",
       "      <td>3.32</td>\n",
       "      <td>NaN</td>\n",
       "      <td>...</td>\n",
       "      <td>NaN</td>\n",
       "      <td>NaN</td>\n",
       "      <td>NaN</td>\n",
       "      <td>NaN</td>\n",
       "      <td>NaN</td>\n",
       "      <td>NaN</td>\n",
       "      <td>NaN</td>\n",
       "      <td>NaN</td>\n",
       "      <td>NaN</td>\n",
       "      <td>NaN</td>\n",
       "    </tr>\n",
       "    <tr>\n",
       "      <th>2</th>\n",
       "      <td>KT-0001852</td>\n",
       "      <td>c1(ccc(cc1)-c2c4c(n(c2)[C@@H]3CC[C@H](CC3)O)nc...</td>\n",
       "      <td>C1(CN2CCN(CCOCCOCCCC3=CC4=C(C=C3)N(C3C(=O)NC(=...</td>\n",
       "      <td>10-Aug-2018</td>\n",
       "      <td>MERTK</td>\n",
       "      <td>=</td>\n",
       "      <td>4.05</td>\n",
       "      <td>NaN</td>\n",
       "      <td>NaN</td>\n",
       "      <td>NaN</td>\n",
       "      <td>...</td>\n",
       "      <td>NaN</td>\n",
       "      <td>NaN</td>\n",
       "      <td>NaN</td>\n",
       "      <td>NaN</td>\n",
       "      <td>NaN</td>\n",
       "      <td>NaN</td>\n",
       "      <td>NaN</td>\n",
       "      <td>NaN</td>\n",
       "      <td>NaN</td>\n",
       "      <td>NaN</td>\n",
       "    </tr>\n",
       "  </tbody>\n",
       "</table>\n",
       "<p>3 rows × 1625 columns</p>\n",
       "</div>"
      ],
      "text/plain": [
       "  Compound Name                                          Structure  \\\n",
       "0    KT-0030597  s8c7c(c1c(nc(cc1)-c2cnc(cc2)N3CCN(CC3)CC4CCN(C...   \n",
       "1    KT-0031009  s8c7c(c1c(nc(cc1)N2CCN(CC2)CCC3CCN(CC3)c4cc5c(...   \n",
       "2    KT-0001852  c1(ccc(cc1)-c2c4c(n(c2)[C@@H]3CC[C@H](CC3)O)nc...   \n",
       "\n",
       "                                              Smiles   Created On  \\\n",
       "0  N1C(=O)C2=C(C3=C4C=CC(C5=CN=C(N6CCN(CC7CCN(C8=...  06-Jan-2022   \n",
       "1  N1C(=O)C2=C(C3=C(C=CC4=C3C=CC(N3CCN(CCC5CCN(C6...  10-Feb-2022   \n",
       "2  C1(CN2CCN(CCOCCOCCCC3=CC4=C(C=C3)N(C3C(=O)NC(=...  10-Aug-2018   \n",
       "\n",
       "  Concat;Project ADME AlphaLogD;Mean;AlphaLogD;(Mod)  \\\n",
       "0       MK2;CRBN                                   =   \n",
       "1            MK2                                   =   \n",
       "2          MERTK                                   =   \n",
       "\n",
       "   ADME AlphaLogD;Mean;AlphaLogD;(Num)  \\\n",
       "0                                 5.08   \n",
       "1                                 4.01   \n",
       "2                                 4.05   \n",
       "\n",
       "  ADME logD;Mean;logD in 1-Octanol/PBS pH 7.4;(Mod)  \\\n",
       "0                                                 =   \n",
       "1                                                 =   \n",
       "2                                               NaN   \n",
       "\n",
       "   ADME logD;Mean;logD in 1-Octanol/PBS pH 7.4;(Num)  \\\n",
       "0                                               4.58   \n",
       "1                                               3.32   \n",
       "2                                                NaN   \n",
       "\n",
       "  ADME Analiza pKa;Mean;apKa1;(Mod)  ...  \\\n",
       "0                               NaN  ...   \n",
       "1                               NaN  ...   \n",
       "2                               NaN  ...   \n",
       "\n",
       "   ADME PK;Mean;T 1/2 (h);Dose: 200.000 (mg/kg);Route of Administration: SC;Species: Mouse;(Mod)  \\\n",
       "0                                                NaN                                               \n",
       "1                                                NaN                                               \n",
       "2                                                NaN                                               \n",
       "\n",
       "  ADME PK;Mean;T 1/2 (h);Dose: 200.000 (mg/kg);Route of Administration: SC;Species: Mouse;(Num)  \\\n",
       "0                                                NaN                                              \n",
       "1                                                NaN                                              \n",
       "2                                                NaN                                              \n",
       "\n",
       "   ADME PK;Mean;Cl_obs(mL/min/kg);Dose: 0.259 (mg/kg);Route of Administration: IV;Species: Rat;(Mod)  \\\n",
       "0                                                NaN                                                   \n",
       "1                                                NaN                                                   \n",
       "2                                                NaN                                                   \n",
       "\n",
       "  ADME PK;Mean;Cl_obs(mL/min/kg);Dose: 0.259 (mg/kg);Route of Administration: IV;Species: Rat;(Num)  \\\n",
       "0                                                NaN                                                  \n",
       "1                                                NaN                                                  \n",
       "2                                                NaN                                                  \n",
       "\n",
       "   ADME PK;Mean;Cmax (uM);Dose: 0.259 (mg/kg);Route of Administration: IV;Species: Rat;(Mod)  \\\n",
       "0                                                NaN                                           \n",
       "1                                                NaN                                           \n",
       "2                                                NaN                                           \n",
       "\n",
       "  ADME PK;Mean;Cmax (uM);Dose: 0.259 (mg/kg);Route of Administration: IV;Species: Rat;(Num)  \\\n",
       "0                                                NaN                                          \n",
       "1                                                NaN                                          \n",
       "2                                                NaN                                          \n",
       "\n",
       "   ADME PK;Mean;T 1/2 (h);Dose: 0.259 (mg/kg);Route of Administration: IV;Species: Rat;(Mod)  \\\n",
       "0                                                NaN                                           \n",
       "1                                                NaN                                           \n",
       "2                                                NaN                                           \n",
       "\n",
       "  ADME PK;Mean;T 1/2 (h);Dose: 0.259 (mg/kg);Route of Administration: IV;Species: Rat;(Num)  \\\n",
       "0                                                NaN                                          \n",
       "1                                                NaN                                          \n",
       "2                                                NaN                                          \n",
       "\n",
       "   ADME PK;Mean;Vss-obs (L/kg);Dose: 0.259 (mg/kg);Route of Administration: IV;Species: Rat;(Mod)  \\\n",
       "0                                                NaN                                                \n",
       "1                                                NaN                                                \n",
       "2                                                NaN                                                \n",
       "\n",
       "  ADME PK;Mean;Vss-obs (L/kg);Dose: 0.259 (mg/kg);Route of Administration: IV;Species: Rat;(Num)  \n",
       "0                                                NaN                                              \n",
       "1                                                NaN                                              \n",
       "2                                                NaN                                              \n",
       "\n",
       "[3 rows x 1625 columns]"
      ]
     },
     "execution_count": 2,
     "metadata": {},
     "output_type": "execute_result"
    }
   ],
   "source": [
    "dataFile = f'../DATA/Kymera_ADME_PK_ALL_pull.csv'\n",
    "#dataFile = f'../DATA/Kymera.tpdecomp.data.csv'\n",
    "\n",
    "encoding = determine_encoding(dataFile)\n",
    "dataTable = pd.read_csv(dataFile, encoding=encoding)\n",
    "dataTable.head(3)"
   ]
  },
  {
   "cell_type": "code",
   "execution_count": 3,
   "metadata": {},
   "outputs": [],
   "source": [
    "import copy\n",
    "dataTable_Test = copy.deepcopy(dataTable)"
   ]
  },
  {
   "cell_type": "code",
   "execution_count": null,
   "metadata": {},
   "outputs": [],
   "source": []
  },
  {
   "cell_type": "markdown",
   "metadata": {},
   "source": [
    "#### clean up the columns of raw table"
   ]
  },
  {
   "cell_type": "code",
   "execution_count": 4,
   "metadata": {},
   "outputs": [
    {
     "ename": "KeyError",
     "evalue": "\"None of [Index(['PROTAC_smi', 'PROTAC_id', 'KYM_RegDate', 'KYM_ExternalID',\\n       'CompoundSet', 'KYM_Project', 'KYM_Project.1', 'KYM_OralProgram',\\n       'KYM_logD_Mod', 'KYM_logD', 'hERG_patch_Mod', 'hERG_patch_uM',\\n       'hERG_patch_nTests', 'KYM_KinSolub_ug/mL_Mod', 'KYM_KinSolub_ug/mL',\\n       'KYM_FASSIF_Solub_uM_Mod', 'KYM_FASSIF_Solub_uM', 'KYM_MDCKperm_Mod',\\n       'KYM_MDCKperm', 'KYM_MDCKperm_Recovery%', 'KYM_Efflux_AtoB_Mod',\\n       'KYM_Efflux_AtoB', 'KYM_Efflux_BtoA_Mod', 'KYM_Efflux_BtoA',\\n       'KYM_EffluxRatio_Mod', 'KYM_EffluxRatio', 'KYM_F%_10mg/kg_PO_Rat_Mod',\\n       'KYM_F%_10mg/kg_PO_Rat'],\\n      dtype='object')] are in the [columns]\"",
     "output_type": "error",
     "traceback": [
      "\u001b[0;31m---------------------------------------------------------------------------\u001b[0m",
      "\u001b[0;31mKeyError\u001b[0m                                  Traceback (most recent call last)",
      "Cell \u001b[0;32mIn[4], line 13\u001b[0m\n\u001b[1;32m      1\u001b[0m keep_cols \u001b[38;5;241m=\u001b[39m [\u001b[38;5;124m'\u001b[39m\u001b[38;5;124mPROTAC_smi\u001b[39m\u001b[38;5;124m'\u001b[39m, \u001b[38;5;124m'\u001b[39m\u001b[38;5;124mPROTAC_id\u001b[39m\u001b[38;5;124m'\u001b[39m, \u001b[38;5;124m'\u001b[39m\u001b[38;5;124mKYM_RegDate\u001b[39m\u001b[38;5;124m'\u001b[39m, \u001b[38;5;124m'\u001b[39m\u001b[38;5;124mKYM_ExternalID\u001b[39m\u001b[38;5;124m'\u001b[39m, \n\u001b[1;32m      2\u001b[0m              \u001b[38;5;124m'\u001b[39m\u001b[38;5;124mCompoundSet\u001b[39m\u001b[38;5;124m'\u001b[39m, \u001b[38;5;124m'\u001b[39m\u001b[38;5;124mKYM_Project\u001b[39m\u001b[38;5;124m'\u001b[39m, \u001b[38;5;124m'\u001b[39m\u001b[38;5;124mKYM_Project.1\u001b[39m\u001b[38;5;124m'\u001b[39m, \u001b[38;5;124m'\u001b[39m\u001b[38;5;124mKYM_OralProgram\u001b[39m\u001b[38;5;124m'\u001b[39m,\n\u001b[1;32m      3\u001b[0m              \u001b[38;5;124m'\u001b[39m\u001b[38;5;124mKYM_logD_Mod\u001b[39m\u001b[38;5;124m'\u001b[39m, \u001b[38;5;124m'\u001b[39m\u001b[38;5;124mKYM_logD\u001b[39m\u001b[38;5;124m'\u001b[39m,\n\u001b[0;32m   (...)\u001b[0m\n\u001b[1;32m     10\u001b[0m              \u001b[38;5;124m'\u001b[39m\u001b[38;5;124mKYM_EffluxRatio_Mod\u001b[39m\u001b[38;5;124m'\u001b[39m, \u001b[38;5;124m'\u001b[39m\u001b[38;5;124mKYM_EffluxRatio\u001b[39m\u001b[38;5;124m'\u001b[39m,\n\u001b[1;32m     11\u001b[0m              \u001b[38;5;124m'\u001b[39m\u001b[38;5;124mKYM_F\u001b[39m\u001b[38;5;124m%\u001b[39m\u001b[38;5;124m_10mg/kg_PO_Rat_Mod\u001b[39m\u001b[38;5;124m'\u001b[39m, \u001b[38;5;124m'\u001b[39m\u001b[38;5;124mKYM_F\u001b[39m\u001b[38;5;124m%\u001b[39m\u001b[38;5;124m_10mg/kg_PO_Rat\u001b[39m\u001b[38;5;124m'\u001b[39m]\n\u001b[0;32m---> 13\u001b[0m dataTable_new \u001b[38;5;241m=\u001b[39m \u001b[43mdataTable\u001b[49m\u001b[43m[\u001b[49m\u001b[43mkeep_cols\u001b[49m\u001b[43m]\u001b[49m\n\u001b[1;32m     14\u001b[0m dataTable_new\n",
      "File \u001b[0;32m~/data0/software/anaconda/anaconda3/envs/ml/lib/python3.10/site-packages/pandas/core/frame.py:3899\u001b[0m, in \u001b[0;36mDataFrame.__getitem__\u001b[0;34m(self, key)\u001b[0m\n\u001b[1;32m   3897\u001b[0m     \u001b[38;5;28;01mif\u001b[39;00m is_iterator(key):\n\u001b[1;32m   3898\u001b[0m         key \u001b[38;5;241m=\u001b[39m \u001b[38;5;28mlist\u001b[39m(key)\n\u001b[0;32m-> 3899\u001b[0m     indexer \u001b[38;5;241m=\u001b[39m \u001b[38;5;28;43mself\u001b[39;49m\u001b[38;5;241;43m.\u001b[39;49m\u001b[43mcolumns\u001b[49m\u001b[38;5;241;43m.\u001b[39;49m\u001b[43m_get_indexer_strict\u001b[49m\u001b[43m(\u001b[49m\u001b[43mkey\u001b[49m\u001b[43m,\u001b[49m\u001b[43m \u001b[49m\u001b[38;5;124;43m\"\u001b[39;49m\u001b[38;5;124;43mcolumns\u001b[39;49m\u001b[38;5;124;43m\"\u001b[39;49m\u001b[43m)\u001b[49m[\u001b[38;5;241m1\u001b[39m]\n\u001b[1;32m   3901\u001b[0m \u001b[38;5;66;03m# take() does not accept boolean indexers\u001b[39;00m\n\u001b[1;32m   3902\u001b[0m \u001b[38;5;28;01mif\u001b[39;00m \u001b[38;5;28mgetattr\u001b[39m(indexer, \u001b[38;5;124m\"\u001b[39m\u001b[38;5;124mdtype\u001b[39m\u001b[38;5;124m\"\u001b[39m, \u001b[38;5;28;01mNone\u001b[39;00m) \u001b[38;5;241m==\u001b[39m \u001b[38;5;28mbool\u001b[39m:\n",
      "File \u001b[0;32m~/data0/software/anaconda/anaconda3/envs/ml/lib/python3.10/site-packages/pandas/core/indexes/base.py:6115\u001b[0m, in \u001b[0;36mIndex._get_indexer_strict\u001b[0;34m(self, key, axis_name)\u001b[0m\n\u001b[1;32m   6112\u001b[0m \u001b[38;5;28;01melse\u001b[39;00m:\n\u001b[1;32m   6113\u001b[0m     keyarr, indexer, new_indexer \u001b[38;5;241m=\u001b[39m \u001b[38;5;28mself\u001b[39m\u001b[38;5;241m.\u001b[39m_reindex_non_unique(keyarr)\n\u001b[0;32m-> 6115\u001b[0m \u001b[38;5;28;43mself\u001b[39;49m\u001b[38;5;241;43m.\u001b[39;49m\u001b[43m_raise_if_missing\u001b[49m\u001b[43m(\u001b[49m\u001b[43mkeyarr\u001b[49m\u001b[43m,\u001b[49m\u001b[43m \u001b[49m\u001b[43mindexer\u001b[49m\u001b[43m,\u001b[49m\u001b[43m \u001b[49m\u001b[43maxis_name\u001b[49m\u001b[43m)\u001b[49m\n\u001b[1;32m   6117\u001b[0m keyarr \u001b[38;5;241m=\u001b[39m \u001b[38;5;28mself\u001b[39m\u001b[38;5;241m.\u001b[39mtake(indexer)\n\u001b[1;32m   6118\u001b[0m \u001b[38;5;28;01mif\u001b[39;00m \u001b[38;5;28misinstance\u001b[39m(key, Index):\n\u001b[1;32m   6119\u001b[0m     \u001b[38;5;66;03m# GH 42790 - Preserve name from an Index\u001b[39;00m\n",
      "File \u001b[0;32m~/data0/software/anaconda/anaconda3/envs/ml/lib/python3.10/site-packages/pandas/core/indexes/base.py:6176\u001b[0m, in \u001b[0;36mIndex._raise_if_missing\u001b[0;34m(self, key, indexer, axis_name)\u001b[0m\n\u001b[1;32m   6174\u001b[0m     \u001b[38;5;28;01mif\u001b[39;00m use_interval_msg:\n\u001b[1;32m   6175\u001b[0m         key \u001b[38;5;241m=\u001b[39m \u001b[38;5;28mlist\u001b[39m(key)\n\u001b[0;32m-> 6176\u001b[0m     \u001b[38;5;28;01mraise\u001b[39;00m \u001b[38;5;167;01mKeyError\u001b[39;00m(\u001b[38;5;124mf\u001b[39m\u001b[38;5;124m\"\u001b[39m\u001b[38;5;124mNone of [\u001b[39m\u001b[38;5;132;01m{\u001b[39;00mkey\u001b[38;5;132;01m}\u001b[39;00m\u001b[38;5;124m] are in the [\u001b[39m\u001b[38;5;132;01m{\u001b[39;00maxis_name\u001b[38;5;132;01m}\u001b[39;00m\u001b[38;5;124m]\u001b[39m\u001b[38;5;124m\"\u001b[39m)\n\u001b[1;32m   6178\u001b[0m not_found \u001b[38;5;241m=\u001b[39m \u001b[38;5;28mlist\u001b[39m(ensure_index(key)[missing_mask\u001b[38;5;241m.\u001b[39mnonzero()[\u001b[38;5;241m0\u001b[39m]]\u001b[38;5;241m.\u001b[39munique())\n\u001b[1;32m   6179\u001b[0m \u001b[38;5;28;01mraise\u001b[39;00m \u001b[38;5;167;01mKeyError\u001b[39;00m(\u001b[38;5;124mf\u001b[39m\u001b[38;5;124m\"\u001b[39m\u001b[38;5;132;01m{\u001b[39;00mnot_found\u001b[38;5;132;01m}\u001b[39;00m\u001b[38;5;124m not in index\u001b[39m\u001b[38;5;124m\"\u001b[39m)\n",
      "\u001b[0;31mKeyError\u001b[0m: \"None of [Index(['PROTAC_smi', 'PROTAC_id', 'KYM_RegDate', 'KYM_ExternalID',\\n       'CompoundSet', 'KYM_Project', 'KYM_Project.1', 'KYM_OralProgram',\\n       'KYM_logD_Mod', 'KYM_logD', 'hERG_patch_Mod', 'hERG_patch_uM',\\n       'hERG_patch_nTests', 'KYM_KinSolub_ug/mL_Mod', 'KYM_KinSolub_ug/mL',\\n       'KYM_FASSIF_Solub_uM_Mod', 'KYM_FASSIF_Solub_uM', 'KYM_MDCKperm_Mod',\\n       'KYM_MDCKperm', 'KYM_MDCKperm_Recovery%', 'KYM_Efflux_AtoB_Mod',\\n       'KYM_Efflux_AtoB', 'KYM_Efflux_BtoA_Mod', 'KYM_Efflux_BtoA',\\n       'KYM_EffluxRatio_Mod', 'KYM_EffluxRatio', 'KYM_F%_10mg/kg_PO_Rat_Mod',\\n       'KYM_F%_10mg/kg_PO_Rat'],\\n      dtype='object')] are in the [columns]\""
     ]
    }
   ],
   "source": [
    "keep_cols = ['PROTAC_smi', 'PROTAC_id', 'KYM_RegDate', 'KYM_ExternalID', \n",
    "             'CompoundSet', 'KYM_Project', 'KYM_Project.1', 'KYM_OralProgram',\n",
    "             'KYM_logD_Mod', 'KYM_logD',\n",
    "             'hERG_patch_Mod', 'hERG_patch_uM', 'hERG_patch_nTests',\n",
    "             'KYM_KinSolub_ug/mL_Mod', 'KYM_KinSolub_ug/mL', \n",
    "             'KYM_FASSIF_Solub_uM_Mod', 'KYM_FASSIF_Solub_uM', \n",
    "             'KYM_MDCKperm_Mod', 'KYM_MDCKperm', 'KYM_MDCKperm_Recovery%',\n",
    "             'KYM_Efflux_AtoB_Mod', 'KYM_Efflux_AtoB', \n",
    "             'KYM_Efflux_BtoA_Mod', 'KYM_Efflux_BtoA',\n",
    "             'KYM_EffluxRatio_Mod', 'KYM_EffluxRatio',\n",
    "             'KYM_F%_10mg/kg_PO_Rat_Mod', 'KYM_F%_10mg/kg_PO_Rat']\n",
    "\n",
    "dataTable_new = dataTable[keep_cols]\n",
    "dataTable_new"
   ]
  },
  {
   "cell_type": "code",
   "execution_count": null,
   "metadata": {},
   "outputs": [],
   "source": [
    "cols_dict = {}\n",
    "cols_dict['permeability'] = {'Mod':'KYM_MDCKperm_Mod', 'Num':'KYM_MDCKperm'}\n",
    "\n",
    "cols_dict['efflux'] = {'Mod': 'KYM_EffluxRatio_Mod', 'Num': 'KYM_EffluxRatio'}\n",
    "\n",
    "Species = 'Rat'\n",
    "cols_dict[f'F%_{Species}'] = {'Mod': 'KYM_F%_10mg/kg_PO_Rat_Mod', 'Num': 'KYM_F%_10mg/kg_PO_Rat'}\n",
    "cols_dict[f'Cl_{Species}'] = None\n",
    "\n",
    "cols_dict['hERG_uM'] = {'Mod': 'hERG_patch_Mod', 'Num': 'hERG_patch_uM'}\n",
    "cols_dict['hERG_cmt'] = None\n",
    "\n",
    "## Permeability\n",
    "prop = ['permeability']\n",
    "dataTable_new[prop] = dataTable_new.apply(lambda row: clean_up_permeability(row, cols_dict[prop]), axis=1)\n",
    "\n",
    "## Efflux\n",
    "prop = ['efflux']\n",
    "dataTable_new[prop] = dataTable_new.apply(lambda row: clean_up_efflux(row, cols_dict[prop]), axis=1)\n",
    "\n",
    "## PK\n",
    "prop = [f'F%_{Species}']   # , f'EstFa_{Species}'\n",
    "dataTable_new[prop] = dataTable_new.apply(lambda row: clean_up_PK(row, Species, cols_dict[prop], EstFa=False), axis=1)\n",
    "\n",
    "## hERG\n",
    "prop = ['hERG_uM']   # , f'EstFa_{Species}'\n",
    "dataTable_new[prop] = dataTable_new.apply(lambda row: clean_up_hERG(row, cols_dict[prop], eIC50=False), axis=1)\n",
    "\n",
    "prop = ['hERG_uM', 'hERG_eIC50', 'hERG_mixedIC50', 'ambitiousData']\n",
    "dataTable_new[prop] = dataTable.apply(lambda row: clean_up_hERG(row, eIC50=True), axis=1)"
   ]
  },
  {
   "cell_type": "code",
   "execution_count": null,
   "metadata": {},
   "outputs": [],
   "source": [
    "dataTable_new"
   ]
  },
  {
   "cell_type": "code",
   "execution_count": null,
   "metadata": {},
   "outputs": [],
   "source": [
    "dataTable_new\n",
    "dataTable_new[dataTable_new['hERG_uM'].notna()]"
   ]
  },
  {
   "cell_type": "code",
   "execution_count": null,
   "metadata": {},
   "outputs": [],
   "source": [
    "dataTable_new[dataTable_new['F%_Rat'].notna()]"
   ]
  },
  {
   "cell_type": "code",
   "execution_count": null,
   "metadata": {},
   "outputs": [],
   "source": [
    "dataTable_new[dataTable_new['permeability'].notna()]"
   ]
  },
  {
   "cell_type": "code",
   "execution_count": null,
   "metadata": {},
   "outputs": [],
   "source": []
  },
  {
   "cell_type": "code",
   "execution_count": null,
   "metadata": {},
   "outputs": [],
   "source": []
  },
  {
   "cell_type": "code",
   "execution_count": null,
   "metadata": {},
   "outputs": [],
   "source": []
  },
  {
   "cell_type": "code",
   "execution_count": null,
   "metadata": {},
   "outputs": [],
   "source": []
  },
  {
   "cell_type": "code",
   "execution_count": null,
   "metadata": {},
   "outputs": [],
   "source": []
  },
  {
   "cell_type": "code",
   "execution_count": null,
   "metadata": {},
   "outputs": [],
   "source": []
  },
  {
   "cell_type": "code",
   "execution_count": null,
   "metadata": {},
   "outputs": [],
   "source": []
  },
  {
   "cell_type": "code",
   "execution_count": null,
   "metadata": {},
   "outputs": [],
   "source": []
  },
  {
   "cell_type": "code",
   "execution_count": null,
   "metadata": {},
   "outputs": [],
   "source": []
  },
  {
   "cell_type": "code",
   "execution_count": null,
   "metadata": {},
   "outputs": [],
   "source": []
  },
  {
   "cell_type": "code",
   "execution_count": null,
   "metadata": {},
   "outputs": [],
   "source": []
  },
  {
   "cell_type": "code",
   "execution_count": null,
   "metadata": {},
   "outputs": [],
   "source": []
  },
  {
   "cell_type": "code",
   "execution_count": null,
   "metadata": {},
   "outputs": [],
   "source": []
  },
  {
   "cell_type": "code",
   "execution_count": null,
   "metadata": {},
   "outputs": [],
   "source": []
  },
  {
   "cell_type": "code",
   "execution_count": null,
   "metadata": {},
   "outputs": [],
   "source": []
  },
  {
   "cell_type": "code",
   "execution_count": null,
   "metadata": {},
   "outputs": [],
   "source": []
  },
  {
   "cell_type": "code",
   "execution_count": null,
   "metadata": {},
   "outputs": [],
   "source": []
  },
  {
   "cell_type": "code",
   "execution_count": null,
   "metadata": {},
   "outputs": [],
   "source": []
  },
  {
   "cell_type": "code",
   "execution_count": null,
   "metadata": {},
   "outputs": [],
   "source": []
  },
  {
   "cell_type": "code",
   "execution_count": null,
   "metadata": {},
   "outputs": [],
   "source": [
    "Species = 'Rat'\n",
    "dataTable[[f'F%_{Species}', f'EstFa_{Species}']] = dataTable.apply(lambda row: clean_up_PK(row, Species=Species, EstFa=True), axis=1)\n",
    "dataTable['permeability'] = dataTable.apply(lambda row: clean_up_permeability(row), axis=1)\n",
    "dataTable['efflux'] = dataTable.apply(lambda row: clean_up_efflux(row), axis=1)\n",
    "dataTable[['hERG_IC50', 'hERG_eIC50', 'hERG_mixedIC50', 'ambitiousData']] = dataTable.apply(lambda row: clean_up_hERG(row, eIC50=True), axis=1)"
   ]
  },
  {
   "cell_type": "code",
   "execution_count": null,
   "metadata": {},
   "outputs": [],
   "source": [
    "# dataTable.to_csv(f'Data_ADMET_4_MMP.csv', index=False)\n",
    "dataTable"
   ]
  },
  {
   "cell_type": "code",
   "execution_count": null,
   "metadata": {},
   "outputs": [],
   "source": []
  },
  {
   "cell_type": "code",
   "execution_count": null,
   "metadata": {},
   "outputs": [],
   "source": []
  },
  {
   "cell_type": "code",
   "execution_count": null,
   "metadata": {},
   "outputs": [],
   "source": []
  },
  {
   "cell_type": "code",
   "execution_count": null,
   "metadata": {},
   "outputs": [],
   "source": []
  },
  {
   "cell_type": "code",
   "execution_count": null,
   "metadata": {},
   "outputs": [],
   "source": []
  },
  {
   "cell_type": "code",
   "execution_count": null,
   "metadata": {},
   "outputs": [],
   "source": []
  },
  {
   "cell_type": "code",
   "execution_count": null,
   "metadata": {},
   "outputs": [],
   "source": []
  },
  {
   "cell_type": "code",
   "execution_count": null,
   "metadata": {},
   "outputs": [],
   "source": []
  },
  {
   "cell_type": "code",
   "execution_count": null,
   "metadata": {},
   "outputs": [],
   "source": []
  },
  {
   "cell_type": "code",
   "execution_count": null,
   "metadata": {},
   "outputs": [],
   "source": []
  },
  {
   "cell_type": "code",
   "execution_count": null,
   "metadata": {},
   "outputs": [],
   "source": []
  },
  {
   "cell_type": "code",
   "execution_count": null,
   "metadata": {},
   "outputs": [],
   "source": []
  },
  {
   "cell_type": "code",
   "execution_count": null,
   "metadata": {},
   "outputs": [],
   "source": []
  },
  {
   "cell_type": "code",
   "execution_count": null,
   "metadata": {},
   "outputs": [],
   "source": []
  },
  {
   "cell_type": "code",
   "execution_count": null,
   "metadata": {},
   "outputs": [],
   "source": []
  },
  {
   "cell_type": "code",
   "execution_count": null,
   "metadata": {},
   "outputs": [],
   "source": []
  }
 ],
 "metadata": {
  "kernelspec": {
   "display_name": "ml",
   "language": "python",
   "name": "python3"
  },
  "language_info": {
   "codemirror_mode": {
    "name": "ipython",
    "version": 3
   },
   "file_extension": ".py",
   "mimetype": "text/x-python",
   "name": "python",
   "nbconvert_exporter": "python",
   "pygments_lexer": "ipython3",
   "version": "3.10.13"
  }
 },
 "nbformat": 4,
 "nbformat_minor": 2
}
