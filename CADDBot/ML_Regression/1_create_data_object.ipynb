{
 "cells": [
  {
   "cell_type": "code",
   "execution_count": 2,
   "metadata": {},
   "outputs": [],
   "source": [
    "import pandas as pd"
   ]
  },
  {
   "cell_type": "code",
   "execution_count": 3,
   "metadata": {},
   "outputs": [
    {
     "name": "stdout",
     "output_type": "stream",
     "text": [
      "(6006, 38)\n"
     ]
    },
    {
     "data": {
      "text/html": [
       "<div>\n",
       "<style scoped>\n",
       "    .dataframe tbody tr th:only-of-type {\n",
       "        vertical-align: middle;\n",
       "    }\n",
       "\n",
       "    .dataframe tbody tr th {\n",
       "        vertical-align: top;\n",
       "    }\n",
       "\n",
       "    .dataframe thead th {\n",
       "        text-align: right;\n",
       "    }\n",
       "</style>\n",
       "<table border=\"1\" class=\"dataframe\">\n",
       "  <thead>\n",
       "    <tr style=\"text-align: right;\">\n",
       "      <th></th>\n",
       "      <th>Compound Name</th>\n",
       "      <th>Structure</th>\n",
       "      <th>Concat;Project</th>\n",
       "      <th>Concat;External Id</th>\n",
       "      <th>Created On</th>\n",
       "      <th>ADME MDCK(WT) Permeability;Mean;A to B Papp (10^-6 cm/s);(Mod)</th>\n",
       "      <th>ADME MDCK(WT) Permeability;Mean;A to B Papp (10^-6 cm/s);(Num)</th>\n",
       "      <th>ADME MDCK(WT) Permeability;Mean;B to A Papp (10^-6 cm/s);(Mod)</th>\n",
       "      <th>ADME MDCK(WT) Permeability;Mean;B to A Papp (10^-6 cm/s);(Num)</th>\n",
       "      <th>ADME MDCK(WT) Permeability;Concat;Comments</th>\n",
       "      <th>...</th>\n",
       "      <th>ADME Tox-manual patch hERG 34C;Mean;Average % of hERG inhibition;(Num)</th>\n",
       "      <th>ADME Tox-manual patch hERG 34C;Concat;Comments</th>\n",
       "      <th>ADME Tox-manual patch hERG 34C;Mean;Concentration (uM);(Mod)</th>\n",
       "      <th>ADME Tox-manual patch hERG 34C;Mean;Concentration (uM);(Num)</th>\n",
       "      <th>ADME Tox-manual patch hERG 34C;Concat;Date run</th>\n",
       "      <th>ADME Tox-manual patch hERG 34C;GMean;m-patch hERG IC50 [uM];(Mod)</th>\n",
       "      <th>ADME Tox-manual patch hERG 34C;GMean;m-patch hERG IC50 [uM];(Num)</th>\n",
       "      <th>ADME Tox-manual patch hERG 34C;Mean;SD;(Mod)</th>\n",
       "      <th>ADME Tox-manual patch hERG 34C;Mean;SD;(Num)</th>\n",
       "      <th>Marked</th>\n",
       "    </tr>\n",
       "  </thead>\n",
       "  <tbody>\n",
       "    <tr>\n",
       "      <th>0</th>\n",
       "      <td>KT-0032100</td>\n",
       "      <td>N1(CCSCC1)c3ccn2ncc(c2n3)C(=O)Nc4c(nn(c4)[C@H]...</td>\n",
       "      <td>IRAK4</td>\n",
       "      <td>IRW-A-4632-001F</td>\n",
       "      <td>21-Apr-2022</td>\n",
       "      <td>NaN</td>\n",
       "      <td>NaN</td>\n",
       "      <td>NaN</td>\n",
       "      <td>NaN</td>\n",
       "      <td>NaN</td>\n",
       "      <td>...</td>\n",
       "      <td>NaN</td>\n",
       "      <td>NaN</td>\n",
       "      <td>NaN</td>\n",
       "      <td>NaN</td>\n",
       "      <td>5/6/2022;5/6/2022;5/6/2022</td>\n",
       "      <td>=</td>\n",
       "      <td>0.52686</td>\n",
       "      <td>NaN</td>\n",
       "      <td>NaN</td>\n",
       "      <td>UNMARKED</td>\n",
       "    </tr>\n",
       "    <tr>\n",
       "      <th>1</th>\n",
       "      <td>KT-0032109</td>\n",
       "      <td>C1C2COCC1N2c4ccn3ncc(c3n4)C(=O)Nc5c(nn(c5)[C@H...</td>\n",
       "      <td>IRAK4</td>\n",
       "      <td>IRW-A-4677-001N</td>\n",
       "      <td>21-Apr-2022</td>\n",
       "      <td>NaN</td>\n",
       "      <td>NaN</td>\n",
       "      <td>NaN</td>\n",
       "      <td>NaN</td>\n",
       "      <td>NaN</td>\n",
       "      <td>...</td>\n",
       "      <td>NaN</td>\n",
       "      <td>12.79% inhibition @ 10 ?M;12.79% inhibition @ ...</td>\n",
       "      <td>NaN</td>\n",
       "      <td>NaN</td>\n",
       "      <td>5/6/2022;5/6/2022;5/6/2022</td>\n",
       "      <td>&gt;</td>\n",
       "      <td>10.00000</td>\n",
       "      <td>NaN</td>\n",
       "      <td>NaN</td>\n",
       "      <td>UNMARKED</td>\n",
       "    </tr>\n",
       "    <tr>\n",
       "      <th>2</th>\n",
       "      <td>KT-0032267</td>\n",
       "      <td>C1C2CN(CC1N2CC#Cc3cccc4c3N(C)C(=O)N4C5CCC(=O)N...</td>\n",
       "      <td>IRAK4</td>\n",
       "      <td>IRW-A-4712-001F</td>\n",
       "      <td>27-Apr-2022</td>\n",
       "      <td>NaN</td>\n",
       "      <td>NaN</td>\n",
       "      <td>NaN</td>\n",
       "      <td>NaN</td>\n",
       "      <td>NaN</td>\n",
       "      <td>...</td>\n",
       "      <td>NaN</td>\n",
       "      <td>28.91% inhibition @ 3 ?M</td>\n",
       "      <td>NaN</td>\n",
       "      <td>NaN</td>\n",
       "      <td>5/11/2022</td>\n",
       "      <td>&gt;</td>\n",
       "      <td>3.00000</td>\n",
       "      <td>NaN</td>\n",
       "      <td>NaN</td>\n",
       "      <td>UNMARKED</td>\n",
       "    </tr>\n",
       "  </tbody>\n",
       "</table>\n",
       "<p>3 rows × 38 columns</p>\n",
       "</div>"
      ],
      "text/plain": [
       "  Compound Name                                          Structure  \\\n",
       "0    KT-0032100  N1(CCSCC1)c3ccn2ncc(c2n3)C(=O)Nc4c(nn(c4)[C@H]...   \n",
       "1    KT-0032109  C1C2COCC1N2c4ccn3ncc(c3n4)C(=O)Nc5c(nn(c5)[C@H...   \n",
       "2    KT-0032267  C1C2CN(CC1N2CC#Cc3cccc4c3N(C)C(=O)N4C5CCC(=O)N...   \n",
       "\n",
       "  Concat;Project Concat;External Id   Created On  \\\n",
       "0          IRAK4    IRW-A-4632-001F  21-Apr-2022   \n",
       "1          IRAK4    IRW-A-4677-001N  21-Apr-2022   \n",
       "2          IRAK4    IRW-A-4712-001F  27-Apr-2022   \n",
       "\n",
       "  ADME MDCK(WT) Permeability;Mean;A to B Papp (10^-6 cm/s);(Mod)  \\\n",
       "0                                                NaN               \n",
       "1                                                NaN               \n",
       "2                                                NaN               \n",
       "\n",
       "   ADME MDCK(WT) Permeability;Mean;A to B Papp (10^-6 cm/s);(Num)  \\\n",
       "0                                                NaN                \n",
       "1                                                NaN                \n",
       "2                                                NaN                \n",
       "\n",
       "  ADME MDCK(WT) Permeability;Mean;B to A Papp (10^-6 cm/s);(Mod)  \\\n",
       "0                                                NaN               \n",
       "1                                                NaN               \n",
       "2                                                NaN               \n",
       "\n",
       "   ADME MDCK(WT) Permeability;Mean;B to A Papp (10^-6 cm/s);(Num)  \\\n",
       "0                                                NaN                \n",
       "1                                                NaN                \n",
       "2                                                NaN                \n",
       "\n",
       "  ADME MDCK(WT) Permeability;Concat;Comments  ...  \\\n",
       "0                                        NaN  ...   \n",
       "1                                        NaN  ...   \n",
       "2                                        NaN  ...   \n",
       "\n",
       "  ADME Tox-manual patch hERG 34C;Mean;Average % of hERG inhibition;(Num)  \\\n",
       "0                                                NaN                       \n",
       "1                                                NaN                       \n",
       "2                                                NaN                       \n",
       "\n",
       "      ADME Tox-manual patch hERG 34C;Concat;Comments  \\\n",
       "0                                                NaN   \n",
       "1  12.79% inhibition @ 10 ?M;12.79% inhibition @ ...   \n",
       "2                           28.91% inhibition @ 3 ?M   \n",
       "\n",
       "   ADME Tox-manual patch hERG 34C;Mean;Concentration (uM);(Mod)  \\\n",
       "0                                                NaN              \n",
       "1                                                NaN              \n",
       "2                                                NaN              \n",
       "\n",
       "  ADME Tox-manual patch hERG 34C;Mean;Concentration (uM);(Num)  \\\n",
       "0                                                NaN             \n",
       "1                                                NaN             \n",
       "2                                                NaN             \n",
       "\n",
       "   ADME Tox-manual patch hERG 34C;Concat;Date run  \\\n",
       "0                      5/6/2022;5/6/2022;5/6/2022   \n",
       "1                      5/6/2022;5/6/2022;5/6/2022   \n",
       "2                                       5/11/2022   \n",
       "\n",
       "  ADME Tox-manual patch hERG 34C;GMean;m-patch hERG IC50 [uM];(Mod)  \\\n",
       "0                                                  =                  \n",
       "1                                                  >                  \n",
       "2                                                  >                  \n",
       "\n",
       "   ADME Tox-manual patch hERG 34C;GMean;m-patch hERG IC50 [uM];(Num)  \\\n",
       "0                                            0.52686                   \n",
       "1                                           10.00000                   \n",
       "2                                            3.00000                   \n",
       "\n",
       "  ADME Tox-manual patch hERG 34C;Mean;SD;(Mod)  \\\n",
       "0                                          NaN   \n",
       "1                                          NaN   \n",
       "2                                          NaN   \n",
       "\n",
       "  ADME Tox-manual patch hERG 34C;Mean;SD;(Num)    Marked  \n",
       "0                                          NaN  UNMARKED  \n",
       "1                                          NaN  UNMARKED  \n",
       "2                                          NaN  UNMARKED  \n",
       "\n",
       "[3 rows x 38 columns]"
      ]
     },
     "execution_count": 3,
     "metadata": {},
     "output_type": "execute_result"
    }
   ],
   "source": [
    "fileName_input = \"./D360_api_pull_raw.csv\"\n",
    "\n",
    "\n",
    "dataTable_raw = pd.read_csv(fileName_input)\n",
    "print(dataTable_raw.shape)\n",
    "dataTable_raw.head(3)"
   ]
  },
  {
   "cell_type": "code",
   "execution_count": null,
   "metadata": {},
   "outputs": [],
   "source": [
    "colName_id = \"Compound Name\"\n",
    "colName_smi = \"Smiles\"    # \"Structure\"\n",
    "colName_outcome = \"ADME MDCK(WT) Permeability;Mean;A to B Papp (10^-6 cm/s);(Num)\""
   ]
  },
  {
   "cell_type": "code",
   "execution_count": null,
   "metadata": {},
   "outputs": [],
   "source": []
  },
  {
   "cell_type": "code",
   "execution_count": null,
   "metadata": {},
   "outputs": [],
   "source": []
  },
  {
   "cell_type": "code",
   "execution_count": null,
   "metadata": {},
   "outputs": [],
   "source": []
  },
  {
   "cell_type": "code",
   "execution_count": null,
   "metadata": {},
   "outputs": [],
   "source": []
  },
  {
   "cell_type": "code",
   "execution_count": null,
   "metadata": {},
   "outputs": [],
   "source": []
  },
  {
   "cell_type": "code",
   "execution_count": null,
   "metadata": {},
   "outputs": [],
   "source": []
  },
  {
   "cell_type": "code",
   "execution_count": null,
   "metadata": {},
   "outputs": [],
   "source": []
  },
  {
   "cell_type": "code",
   "execution_count": null,
   "metadata": {},
   "outputs": [],
   "source": []
  },
  {
   "cell_type": "code",
   "execution_count": null,
   "metadata": {},
   "outputs": [],
   "source": []
  },
  {
   "cell_type": "code",
   "execution_count": null,
   "metadata": {},
   "outputs": [],
   "source": []
  },
  {
   "cell_type": "code",
   "execution_count": null,
   "metadata": {},
   "outputs": [],
   "source": []
  },
  {
   "cell_type": "code",
   "execution_count": null,
   "metadata": {},
   "outputs": [],
   "source": []
  },
  {
   "cell_type": "code",
   "execution_count": null,
   "metadata": {},
   "outputs": [],
   "source": []
  },
  {
   "cell_type": "code",
   "execution_count": null,
   "metadata": {},
   "outputs": [],
   "source": []
  },
  {
   "cell_type": "code",
   "execution_count": null,
   "metadata": {},
   "outputs": [],
   "source": []
  },
  {
   "cell_type": "code",
   "execution_count": null,
   "metadata": {},
   "outputs": [],
   "source": []
  },
  {
   "cell_type": "code",
   "execution_count": null,
   "metadata": {},
   "outputs": [],
   "source": []
  },
  {
   "cell_type": "code",
   "execution_count": null,
   "metadata": {},
   "outputs": [],
   "source": []
  },
  {
   "cell_type": "code",
   "execution_count": null,
   "metadata": {},
   "outputs": [],
   "source": []
  },
  {
   "cell_type": "code",
   "execution_count": null,
   "metadata": {},
   "outputs": [],
   "source": []
  },
  {
   "cell_type": "code",
   "execution_count": null,
   "metadata": {},
   "outputs": [],
   "source": []
  },
  {
   "cell_type": "code",
   "execution_count": null,
   "metadata": {},
   "outputs": [],
   "source": []
  },
  {
   "cell_type": "code",
   "execution_count": null,
   "metadata": {},
   "outputs": [],
   "source": []
  },
  {
   "cell_type": "code",
   "execution_count": null,
   "metadata": {},
   "outputs": [],
   "source": []
  },
  {
   "cell_type": "code",
   "execution_count": null,
   "metadata": {},
   "outputs": [],
   "source": []
  },
  {
   "cell_type": "code",
   "execution_count": null,
   "metadata": {},
   "outputs": [],
   "source": []
  },
  {
   "cell_type": "code",
   "execution_count": null,
   "metadata": {},
   "outputs": [],
   "source": []
  },
  {
   "cell_type": "code",
   "execution_count": null,
   "metadata": {},
   "outputs": [],
   "source": []
  }
 ],
 "metadata": {
  "kernelspec": {
   "display_name": "ml",
   "language": "python",
   "name": "python3"
  },
  "language_info": {
   "codemirror_mode": {
    "name": "ipython",
    "version": 3
   },
   "file_extension": ".py",
   "mimetype": "text/x-python",
   "name": "python",
   "nbconvert_exporter": "python",
   "pygments_lexer": "ipython3",
   "version": "3.10.13"
  }
 },
 "nbformat": 4,
 "nbformat_minor": 2
}
